{
 "metadata": {
  "name": "",
  "signature": "sha256:ce2934dd124d2d30f7a64763286abb34e3aba1f18a77a2af075555e029549c43"
 },
 "nbformat": 3,
 "nbformat_minor": 0,
 "worksheets": [
  {
   "cells": [
    {
     "cell_type": "heading",
     "level": 1,
     "metadata": {},
     "source": [
      "Imputing TS for IOM Seat Prices"
     ]
    },
    {
     "cell_type": "heading",
     "level": 4,
     "metadata": {},
     "source": [
      "Import Pandas for Data Frame functionality similar to R"
     ]
    },
    {
     "cell_type": "code",
     "collapsed": false,
     "input": [
      "import pandas as pd"
     ],
     "language": "python",
     "metadata": {},
     "outputs": [],
     "prompt_number": 1
    },
    {
     "cell_type": "heading",
     "level": 4,
     "metadata": {},
     "source": [
      "Read CSV and parse the dates for use with datetime library"
     ]
    },
    {
     "cell_type": "code",
     "collapsed": false,
     "input": [
      "ts_frame = pd.read_csv('/Users/pagrawal/Documents/Personal/OneDrive/Documents/MS-A/TimeSeriesForecasting/Assignments/Project5/iomS.csv', parse_dates=True, sep=',')"
     ],
     "language": "python",
     "metadata": {},
     "outputs": [],
     "prompt_number": 2
    },
    {
     "cell_type": "heading",
     "level": 4,
     "metadata": {},
     "source": [
      "View the contents of the csv stored in the ts_frame (data frame)"
     ]
    },
    {
     "cell_type": "code",
     "collapsed": false,
     "input": [
      "ts_frame.head(10)"
     ],
     "language": "python",
     "metadata": {},
     "outputs": [
      {
       "html": [
        "<div style=\"max-height:1000px;max-width:1500px;overflow:auto;\">\n",
        "<table border=\"1\" class=\"dataframe\">\n",
        "  <thead>\n",
        "    <tr style=\"text-align: right;\">\n",
        "      <th></th>\n",
        "      <th>DateOfSale</th>\n",
        "      <th>Year</th>\n",
        "      <th>Month</th>\n",
        "      <th>price</th>\n",
        "      <th>division</th>\n",
        "    </tr>\n",
        "  </thead>\n",
        "  <tbody>\n",
        "    <tr>\n",
        "      <th>0</th>\n",
        "      <td> 1/12/2001</td>\n",
        "      <td> 2001</td>\n",
        "      <td> 1</td>\n",
        "      <td> 130000</td>\n",
        "      <td> IOM</td>\n",
        "    </tr>\n",
        "    <tr>\n",
        "      <th>1</th>\n",
        "      <td> 2/13/2001</td>\n",
        "      <td> 2001</td>\n",
        "      <td> 2</td>\n",
        "      <td> 160000</td>\n",
        "      <td> IOM</td>\n",
        "    </tr>\n",
        "    <tr>\n",
        "      <th>2</th>\n",
        "      <td> 2/22/2001</td>\n",
        "      <td> 2001</td>\n",
        "      <td> 2</td>\n",
        "      <td> 180000</td>\n",
        "      <td> IOM</td>\n",
        "    </tr>\n",
        "    <tr>\n",
        "      <th>3</th>\n",
        "      <td> 3/27/2001</td>\n",
        "      <td> 2001</td>\n",
        "      <td> 3</td>\n",
        "      <td> 235000</td>\n",
        "      <td> IOM</td>\n",
        "    </tr>\n",
        "    <tr>\n",
        "      <th>4</th>\n",
        "      <td> 3/28/2001</td>\n",
        "      <td> 2001</td>\n",
        "      <td> 3</td>\n",
        "      <td> 250000</td>\n",
        "      <td> IOM</td>\n",
        "    </tr>\n",
        "    <tr>\n",
        "      <th>5</th>\n",
        "      <td>  4/4/2001</td>\n",
        "      <td> 2001</td>\n",
        "      <td> 4</td>\n",
        "      <td> 291500</td>\n",
        "      <td> IOM</td>\n",
        "    </tr>\n",
        "    <tr>\n",
        "      <th>6</th>\n",
        "      <td>  6/8/2001</td>\n",
        "      <td> 2001</td>\n",
        "      <td> 6</td>\n",
        "      <td> 260000</td>\n",
        "      <td> IOM</td>\n",
        "    </tr>\n",
        "    <tr>\n",
        "      <th>7</th>\n",
        "      <td>  7/2/2001</td>\n",
        "      <td> 2001</td>\n",
        "      <td> 7</td>\n",
        "      <td> 260000</td>\n",
        "      <td> IOM</td>\n",
        "    </tr>\n",
        "    <tr>\n",
        "      <th>8</th>\n",
        "      <td>  7/5/2001</td>\n",
        "      <td> 2001</td>\n",
        "      <td> 7</td>\n",
        "      <td> 260000</td>\n",
        "      <td> IOM</td>\n",
        "    </tr>\n",
        "    <tr>\n",
        "      <th>9</th>\n",
        "      <td> 7/17/2001</td>\n",
        "      <td> 2001</td>\n",
        "      <td> 7</td>\n",
        "      <td> 260000</td>\n",
        "      <td> IOM</td>\n",
        "    </tr>\n",
        "  </tbody>\n",
        "</table>\n",
        "</div>"
       ],
       "metadata": {},
       "output_type": "pyout",
       "prompt_number": 3,
       "text": [
        "  DateOfSale  Year Month   price division\n",
        "0  1/12/2001  2001     1  130000      IOM\n",
        "1  2/13/2001  2001     2  160000      IOM\n",
        "2  2/22/2001  2001     2  180000      IOM\n",
        "3  3/27/2001  2001     3  235000      IOM\n",
        "4  3/28/2001  2001     3  250000      IOM\n",
        "5   4/4/2001  2001     4  291500      IOM\n",
        "6   6/8/2001  2001     6  260000      IOM\n",
        "7   7/2/2001  2001     7  260000      IOM\n",
        "8   7/5/2001  2001     7  260000      IOM\n",
        "9  7/17/2001  2001     7  260000      IOM"
       ]
      }
     ],
     "prompt_number": 3
    },
    {
     "cell_type": "heading",
     "level": 4,
     "metadata": {},
     "source": [
      "Convert the index to be Time Series based"
     ]
    },
    {
     "cell_type": "code",
     "collapsed": false,
     "input": [
      "ts_frame[\"DateOfSale\"] = pd.to_datetime(ts_frame.DateOfSale)\n",
      "temp_frame = pd.DataFrame()\n",
      "temp_frame = temp_frame.reindex(ts_frame.DateOfSale)\n",
      "temp_frame[\"Price\"] = ts_frame.price.values"
     ],
     "language": "python",
     "metadata": {},
     "outputs": [],
     "prompt_number": 4
    },
    {
     "cell_type": "heading",
     "level": 4,
     "metadata": {},
     "source": [
      "Roll up prices to monthly averages for creating a month separated TS"
     ]
    },
    {
     "cell_type": "markdown",
     "metadata": {},
     "source": [
      "I chose to go ahead with TS rolled to months, and the 'M' signifies rolling the date time index of the data frame to Monthly interval. The strategy I chose for the months with multiple sales was to average the sales and use that as the value for the month. In the code the default downsampling is set to Mean, which is why you will not see it indicated in the code below."
     ]
    },
    {
     "cell_type": "code",
     "collapsed": false,
     "input": [
      "complete_ts_frame = temp_frame.resample('M')"
     ],
     "language": "python",
     "metadata": {},
     "outputs": [],
     "prompt_number": 5
    },
    {
     "cell_type": "heading",
     "level": 3,
     "metadata": {},
     "source": [
      "Trying different imputation strategies"
     ]
    },
    {
     "cell_type": "markdown",
     "metadata": {},
     "source": [
      "In this section I am trying to determine which would be the best method to fill the missing values in the equally spaced TS. \n",
      "The methods I am trying are-\n",
      "1. Linear Interpolation\n",
      "2. Quadratic Interpolation\n",
      "3. Cubic Interpolation"
     ]
    },
    {
     "cell_type": "heading",
     "level": 4,
     "metadata": {},
     "source": [
      "Plot the existing Price label with the missing values"
     ]
    },
    {
     "cell_type": "code",
     "collapsed": false,
     "input": [
      "plot(complete_ts_frame.Price)"
     ],
     "language": "python",
     "metadata": {},
     "outputs": [
      {
       "metadata": {},
       "output_type": "pyout",
       "prompt_number": 6,
       "text": [
        "[<matplotlib.lines.Line2D at 0x1096955d0>]"
       ]
      },
      {
       "metadata": {},
       "output_type": "display_data",
       "png": "[encoded data removed]",
       "text": [
        "<matplotlib.figure.Figure at 0x1095e0c10>"
       ]
      }
     ],
     "prompt_number": 6
    },
    {
     "cell_type": "heading",
     "level": 4,
     "metadata": {},
     "source": [
      "Plot the Price label with interpolation set to different methods"
     ]
    },
    {
     "cell_type": "code",
     "collapsed": false,
     "input": [
      "methods = ['linear', 'quadratic', 'cubic']\n",
      "df = pd.DataFrame({m: complete_ts_frame.Price.interpolate(method=m) for m in methods})\n",
      "plt.figure(num=None, figsize=(5, 5), dpi=200, facecolor='w', edgecolor='k')\n",
      "df.plot()\n"
     ],
     "language": "python",
     "metadata": {},
     "outputs": [
      {
       "metadata": {},
       "output_type": "pyout",
       "prompt_number": 7,
       "text": [
        "<matplotlib.axes.AxesSubplot at 0x10ab75350>"
       ]
      },
      {
       "metadata": {},
       "output_type": "display_data",
       "text": [
        "<matplotlib.figure.Figure at 0x10971c390>"
       ]
      },
      {
       "metadata": {},
       "output_type": "display_data",
       "png": "[encoded data removed]",
       "text": [
        "<matplotlib.figure.Figure at 0x10ab68d50>"
       ]
      }
     ],
     "prompt_number": 7
    },
    {
     "cell_type": "code",
     "collapsed": false,
     "input": [
      "complete_ts_frame.Price.interpolate(method=\"cubic\",inplace=True)\n",
      "complete_ts_frame.Price"
     ],
     "language": "python",
     "metadata": {},
     "outputs": [
      {
       "metadata": {},
       "output_type": "pyout",
       "prompt_number": 8,
       "text": [
        "DateOfSale\n",
        "2001-01-31    130000.000000\n",
        "2001-02-28    170000.000000\n",
        "2001-03-31    242500.000000\n",
        "2001-04-30    291500.000000\n",
        "2001-05-31    283564.169379\n",
        "2001-06-30    260000.000000\n",
        "2001-07-31    260000.000000\n",
        "2001-08-31    253867.533650\n",
        "2001-09-30    239750.000000\n",
        "2001-10-31    231250.000000\n",
        "2001-11-30    243000.000000\n",
        "2001-12-31    246000.000000\n",
        "2002-01-31    269833.333333\n",
        "2002-02-28    280000.000000\n",
        "2002-03-31    275000.000000\n",
        "...\n",
        "2012-10-31    60166.666667\n",
        "2012-11-30    65000.000000\n",
        "2012-12-31    64125.000000\n",
        "2013-01-31    75500.000000\n",
        "2013-02-28    77000.000000\n",
        "2013-03-31    69500.000000\n",
        "2013-04-30    61571.428571\n",
        "2013-05-31    55750.000000\n",
        "2013-06-30    53400.000000\n",
        "2013-07-31    48916.666667\n",
        "2013-08-31    49666.666667\n",
        "2013-09-30    50500.000000\n",
        "2013-10-31    60416.666667\n",
        "2013-11-30    68681.818182\n",
        "2013-12-31    77375.000000\n",
        "Freq: M, Name: Price, Length: 156"
       ]
      }
     ],
     "prompt_number": 8
    },
    {
     "cell_type": "heading",
     "level": 4,
     "metadata": {},
     "source": [
      "Save results to csv"
     ]
    },
    {
     "cell_type": "code",
     "collapsed": false,
     "input": [
      "complete_ts_frame.to_csv(\"/Users/pagrawal/Documents/Personal/OneDrive/Documents/MS-A/TimeSeriesForecasting/Assignments/Project5/iomS_complete.csv\",sep=',')"
     ],
     "language": "python",
     "metadata": {},
     "outputs": [],
     "prompt_number": 9
    }
   ],
   "metadata": {}
  }
 ]
}