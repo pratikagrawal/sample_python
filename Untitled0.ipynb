{
 "metadata": {
  "name": "",
  "signature": "sha256:2372490eab11b3549de24bfe942c52b4dcd383fafac44e88a178d857bc2dd810"
 },
 "nbformat": 3,
 "nbformat_minor": 0,
 "worksheets": [
  {
   "cells": [
    {
     "cell_type": "code",
     "collapsed": false,
     "input": [
      "from flask import Flask\n",
      "app = Flask(__name__)\n",
      "\n",
      "@app.route('/')\n",
      "def hello_world():\n",
      "    return 'Hello World!'\n",
      "\n",
      "if __name__ == '__main__':\n",
      "    app.run()"
     ],
     "language": "python",
     "metadata": {},
     "outputs": [],
     "prompt_number": 2
    },
    {
     "cell_type": "code",
     "collapsed": false,
     "input": [
      "!pip install pytables"
     ],
     "language": "python",
     "metadata": {},
     "outputs": [
      {
       "output_type": "stream",
       "stream": "stdout",
       "text": [
        "Downloading/unpacking pytables\r\n"
       ]
      },
      {
       "output_type": "stream",
       "stream": "stdout",
       "text": [
        "\u001b[31m  Could not find any downloads that satisfy the requirement pytables\r\n",
        "\u001b[0mCleaning up...\r\n",
        "\u001b[31mNo distributions at all found for pytables\r\n",
        "\u001b[0m\u001b[31mStoring debug log for failure in /var/folders/zm/r274s_k96fq07q784lhm_f740000gp/T/tmp2gFUDF\r\n",
        "\u001b[0m"
       ]
      }
     ],
     "prompt_number": 13
    },
    {
     "cell_type": "code",
     "collapsed": false,
     "input": [
      "import pandas as pd"
     ],
     "language": "python",
     "metadata": {},
     "outputs": [],
     "prompt_number": 1
    },
    {
     "cell_type": "code",
     "collapsed": false,
     "input": [
      "titanic = pd.read_csv('/Users/pagrawal/Downloads/titanic.csv',sep=',')"
     ],
     "language": "python",
     "metadata": {},
     "outputs": [],
     "prompt_number": 3
    },
    {
     "cell_type": "code",
     "collapsed": false,
     "input": [
      "titanic.Sex.describe()"
     ],
     "language": "python",
     "metadata": {},
     "outputs": [
      {
       "metadata": {},
       "output_type": "pyout",
       "prompt_number": 18,
       "text": [
        "count      891\n",
        "unique       2\n",
        "top       male\n",
        "freq       577\n",
        "dtype: object"
       ]
      }
     ],
     "prompt_number": 18
    },
    {
     "cell_type": "code",
     "collapsed": false,
     "input": [
      "str = \"ajdkhaklsd\\nkjadsjkhd\\nhudhweofew\"\n"
     ],
     "language": "python",
     "metadata": {},
     "outputs": [],
     "prompt_number": 3
    },
    {
     "cell_type": "code",
     "collapsed": false,
     "input": [
      "def simple_gen(arr):\n",
      "    for i in range(0,len(arr)):\n",
      "        print arr[i]\n",
      "        yield arr[i]\n",
      "    yield arr\n",
      "gen = simple_gen([5,8,2])\n",
      "print next(gen)\n",
      "print next(gen)\n",
      "print next(gen)\n",
      "print \n"
     ],
     "language": "python",
     "metadata": {},
     "outputs": [
      {
       "output_type": "stream",
       "stream": "stdout",
       "text": [
        "5\n",
        "5\n",
        "8\n",
        "8\n",
        "2\n",
        "2\n"
       ]
      }
     ],
     "prompt_number": 13
    },
    {
     "cell_type": "code",
     "collapsed": false,
     "input": [
      "import random\n",
      "\n",
      "def get_data():\n",
      "    \"\"\"Return 3 random integers between 0 and 9\"\"\"\n",
      "    return random.sample(range(10), 3)\n",
      "\n",
      "def consume():\n",
      "    \"\"\"Displays a running average across lists of integers sent to it\"\"\"\n",
      "    running_sum = 0\n",
      "    data_items_seen = 0\n",
      "\n",
      "    while True:\n",
      "        data = yield\n",
      "        data_items_seen += len(data)\n",
      "        running_sum += sum(data)\n",
      "        print('The running average is {}'.format(running_sum / float(data_items_seen)))\n",
      "\n",
      "def produce(consumer):\n",
      "    \"\"\"Produces a set of values and forwards them to the pre-defined consumer\n",
      "    function\"\"\"\n",
      "    while True:\n",
      "        data = get_data()\n",
      "        print('Produced {}'.format(data))\n",
      "        consumer.send(data)\n",
      "        yield\n",
      "\n",
      "if __name__ == '__main__':\n",
      "    consumer = consume()\n",
      "    consumer.send(None)\n",
      "    producer = produce(consumer)\n",
      "\n",
      "    for _ in range(10):\n",
      "        print('Producing...')\n",
      "        next(producer)"
     ],
     "language": "python",
     "metadata": {},
     "outputs": [
      {
       "output_type": "stream",
       "stream": "stdout",
       "text": [
        "Producing...\n",
        "Produced [3, 7, 2]\n",
        "The running average is 4.0\n",
        "Producing...\n",
        "Produced [9, 0, 1]\n",
        "The running average is 3.66666666667\n",
        "Producing...\n",
        "Produced [4, 9, 3]\n",
        "The running average is 4.22222222222\n",
        "Producing...\n",
        "Produced [2, 0, 1]\n",
        "The running average is 3.41666666667\n",
        "Producing...\n",
        "Produced [4, 5, 2]\n",
        "The running average is 3.46666666667\n",
        "Producing...\n",
        "Produced [0, 5, 1]\n",
        "The running average is 3.22222222222\n",
        "Producing...\n",
        "Produced [7, 0, 3]\n",
        "The running average is 3.2380952381\n",
        "Producing...\n",
        "Produced [3, 9, 7]\n",
        "The running average is 3.625\n",
        "Producing...\n",
        "Produced [2, 1, 5]\n",
        "The running average is 3.51851851852\n",
        "Producing...\n",
        "Produced [7, 6, 9]\n",
        "The running average is 3.9\n"
       ]
      }
     ],
     "prompt_number": 7
    },
    {
     "cell_type": "code",
     "collapsed": false,
     "input": [
      "WORD_SIZE"
     ],
     "language": "python",
     "metadata": {},
     "outputs": [
      {
       "ename": "NameError",
       "evalue": "name 'WORD_SIZE' is not defined",
       "output_type": "pyerr",
       "traceback": [
        "\u001b[0;31m---------------------------------------------------------------------------\u001b[0m\n\u001b[0;31mNameError\u001b[0m                                 Traceback (most recent call last)",
        "\u001b[0;32m<ipython-input-16-f37d07cf7164>\u001b[0m in \u001b[0;36m<module>\u001b[0;34m()\u001b[0m\n\u001b[0;32m----> 1\u001b[0;31m \u001b[0mWORD_SIZE\u001b[0m\u001b[0;34m\u001b[0m\u001b[0m\n\u001b[0m",
        "\u001b[0;31mNameError\u001b[0m: name 'WORD_SIZE' is not defined"
       ]
      }
     ],
     "prompt_number": 16
    },
    {
     "cell_type": "code",
     "collapsed": false,
     "input": [
      "__author__ = 'pagrawal'\n",
      "\n",
      "import json\n",
      "import numpy as np\n",
      "import pandas as pd\n",
      "\n",
      "class Config():\n",
      "\n",
      "    def __init__(self, filename):\n",
      "        self.filename = filename\n",
      "        self.jsonConfig = {}\n",
      "        self.output_directory = \"\"\n",
      "        self.sample_sizes = []\n",
      "        self.random_seed = 0\n",
      "        self.train_test_ratio = 0.8\n",
      "        self.formulas = {}\n",
      "        self.session_variable_name = \"\"\n",
      "        self.data_file = \"\"\n",
      "        self.data_file_sep = \",\"\n",
      "        self.oversample_ratio = 0\n",
      "        self.response_variable = \"\"\n",
      "\n",
      "\n",
      "    def read_config(self):\n",
      "        try:\n",
      "            pandasConfig = pd.DataFrame()\n",
      "            pandasConfig = pd.read_csv(self.filename,sep='|')\n",
      "            print \"Config:\\n\",pandasConfig\n",
      "            self.output_directory = pandasConfig[pandasConfig[\"params\"]==\"output_directory\"].values[0][1]\n",
      "            self.random_seed = pandasConfig[pandasConfig[\"params\"]==\"random_seed\"].values[0][1]\n",
      "            self.train_test_ratio = pandasConfig[pandasConfig[\"params\"]==\"train_test_ratio\"].values[0][1]\n",
      "            self.sample_sizes = pandasConfig[pandasConfig[\"params\"]==\"sample_sizes\"].values[0][1]\n",
      "            self.formulas = pandasConfig[pandasConfig[\"params\"]==\"formulas\"].values[0][1]\n",
      "            self.baselines = pandasConfig[pandasConfig[\"params\"]==\"baselines\"].values[0][1]\n",
      "            self.session_variable_name = pandasConfig[pandasConfig[\"params\"]==\"session_variable_name\"].values[0][1]\n",
      "            self.data_file = pandasConfig[pandasConfig[\"params\"]==\"data_file\"].values[0][1]\n",
      "            self.data_file_sep = pandasConfig[pandasConfig[\"params\"]==\"data_file_sep\"].values[0][1]\n",
      "            self.oversample_ratio = pandasConfig[pandasConfig[\"params\"]==\"oversample_ratio\"].values[0][1]\n",
      "            self.response_variable = pandasConfig[pandasConfig[\"params\"]==\"response_variable\"].values[0][1]\n",
      "\n",
      "        except:\n",
      "            print \"No configuration file found\"\n",
      "\n",
      "    def get_random_seed(self):\n",
      "        try:\n",
      "            return self.random_seed\n",
      "        except:\n",
      "            print \"Error trying to retrieve random seed\"\n",
      "\n",
      "    def get_output_dir(self):\n",
      "        try:\n",
      "            return self.output_directory\n",
      "        except:\n",
      "            print \"Error trying to retrieve output directory\"\n",
      "\n",
      "    def get_train_test_ratio(self):\n",
      "        try:\n",
      "            return self.train_test_ratio\n",
      "        except:\n",
      "            print \"Error trying to retrieve train test ratio\"\n",
      "\n",
      "    def get_sample_sizes(self):\n",
      "        try:\n",
      "            return self.sample_sizes\n",
      "        except:\n",
      "            print \"Error trying to retrieve sample sizes\"\n",
      "\n",
      "    def get_formulas(self):\n",
      "        try:\n",
      "            return self.formulas\n",
      "        except:\n",
      "            print \"Error trying to retrieve formulas\"\n",
      "\n",
      "    def get_baselines(self):\n",
      "        try:\n",
      "            return self.baselines\n",
      "        except:\n",
      "            print \"Error trying to retrieve baselines\"\n",
      "\n",
      "    def get_session_variable_name(self):\n",
      "        try:\n",
      "            return self.session_variable_name\n",
      "        except:\n",
      "            print \"Error trying to retrieve session variable name\"\n",
      "\n",
      "    def get_data_file(self):\n",
      "        try:\n",
      "            return self.data_file\n",
      "        except:\n",
      "            print \"Error trying to retrieve data file name\"\n",
      "\n",
      "    def get_data_file_sep(self):\n",
      "        try:\n",
      "            return self.data_file_sep\n",
      "        except:\n",
      "            print \"Error trying to retrieve data file sep\"\n",
      "\n",
      "    def get_oversample_ratio(self):\n",
      "        try:\n",
      "            return self.oversample_ratio\n",
      "        except:\n",
      "            print \"Error trying to retrieve oversample ratio\"\n",
      "\n",
      "    def get_response_variable_name(self):\n",
      "        try:\n",
      "            return self.response_variable\n",
      "        except:\n",
      "            print \"Error trying to retrieve response variable name\"\n"
     ],
     "language": "python",
     "metadata": {},
     "outputs": [],
     "prompt_number": 17
    },
    {
     "cell_type": "code",
     "collapsed": false,
     "input": [
      "import random\n",
      "import pandas as pd\n",
      "import numpy as np\n",
      "\n",
      "\n",
      "class Train_Test_Sets():\n",
      "\n",
      "    def __init__(self, configObj):\n",
      "        self.configObj = configObj\n",
      "        self.data_frame = pd.DataFrame()\n",
      "\n",
      "    def read(self):\n",
      "        self.data_frame = pd.read_csv(self.configObj.get_data_file(),sep=self.configObj.get_data_file_sep() ,parse_dates=True, infer_datetime_format=True)\n",
      "\n",
      "    def get_train_test_sets(self, sample_size):\n",
      "\n",
      "        print \"Returning train, oversample, and test sets for %s sample size\"%sample_size\n",
      "\n",
      "        session_variable_name = self.configObj.get_session_variable_name()\n",
      "        response_variable = self.configObj.get_response_variable_name()\n",
      "        random.seed(self.configObj.get_random_seed)\n",
      "        unique_session_ids = self.data_frame[\"%s\"%session_variable_name].copy()\n",
      "        unique_session_ids.drop_duplicates(take_last=True,inplace=True)\n",
      "        unique_srch_ids = list(unique_session_ids)\n",
      "\n",
      "        unique_srch_set = (int)(sample_size*len(unique_srch_ids))\n",
      "        unique_srch_ids = unique_srch_ids[:unique_srch_set]\n",
      "        np.random.shuffle(unique_srch_ids)\n",
      "\n",
      "        trg_ids_total = (int)(self.configObj.get_train_test_ratio()*len(unique_srch_ids))\n",
      "\n",
      "        trg_ids=unique_srch_ids[:trg_ids_total]\n",
      "        test_ids=unique_srch_ids[trg_ids_total:]\n",
      "\n",
      "        print self.data_frame.booking_bool.describe()\n",
      "        oversample_train_set = pd.DataFrame(columns=self.data_frame.columns)\n",
      "        oversample_train_set = self.data_frame[self.data_frame[session_variable_name].isin(trg_ids)]\n",
      "        print oversample_train_set.booking_bool.describe()\n",
      "        train_set = pd.DataFrame(columns=self.data_frame.columns)\n",
      "        train_set = oversample_train_set.copy()\n",
      "\n",
      "        test_set = pd.DataFrame(columns=self.data_frame.columns)\n",
      "        test_set = self.data_frame[self.data_frame[session_variable_name].isin(test_ids)]\n",
      "        print test_set.booking_bool.describe()\n",
      "\n",
      "        bookedData = oversample_train_set[oversample_train_set[response_variable]==1]\n",
      "        i = len(bookedData)/len(oversample_train_set)\n",
      "        j = (self.configObj.get_oversample_ratio()/i)\n",
      "        j = (int)(j)\n",
      "        for k in range(0,j):\n",
      "            oversample_train_set = oversample_train_set.append(bookedData)\n",
      "\n",
      "        return train_set, oversample_train_set, test_set"
     ],
     "language": "python",
     "metadata": {},
     "outputs": [],
     "prompt_number": 19
    },
    {
     "cell_type": "code",
     "collapsed": false,
     "input": [
      "    configObj = Config(\"config.txt\")\n",
      "    configObj.read_config()\n",
      "    train_test_set = Train_Test_Sets(configObj)\n",
      "    train_set, oversampled_train_set, test_set = train_test_set.get_train_test_sets(configObj.get_sample_sizes()[0])\n",
      "    print train_set.describe(), oversampled_train_set.describe(), test_set.describe()"
     ],
     "language": "python",
     "metadata": {},
     "outputs": [
      {
       "output_type": "stream",
       "stream": "stdout",
       "text": [
        "No configuration file found\n"
       ]
      },
      {
       "ename": "IndexError",
       "evalue": "list index out of range",
       "output_type": "pyerr",
       "traceback": [
        "\u001b[0;31m---------------------------------------------------------------------------\u001b[0m\n\u001b[0;31mIndexError\u001b[0m                                Traceback (most recent call last)",
        "\u001b[0;32m<ipython-input-21-95abe36bfe06>\u001b[0m in \u001b[0;36m<module>\u001b[0;34m()\u001b[0m\n\u001b[1;32m      2\u001b[0m \u001b[0mconfigObj\u001b[0m\u001b[0;34m.\u001b[0m\u001b[0mread_config\u001b[0m\u001b[0;34m(\u001b[0m\u001b[0;34m)\u001b[0m\u001b[0;34m\u001b[0m\u001b[0m\n\u001b[1;32m      3\u001b[0m \u001b[0mtrain_test_set\u001b[0m \u001b[0;34m=\u001b[0m \u001b[0mTrain_Test_Sets\u001b[0m\u001b[0;34m(\u001b[0m\u001b[0mconfigObj\u001b[0m\u001b[0;34m)\u001b[0m\u001b[0;34m\u001b[0m\u001b[0m\n\u001b[0;32m----> 4\u001b[0;31m \u001b[0mtrain_set\u001b[0m\u001b[0;34m,\u001b[0m \u001b[0moversampled_train_set\u001b[0m\u001b[0;34m,\u001b[0m \u001b[0mtest_set\u001b[0m \u001b[0;34m=\u001b[0m \u001b[0mtrain_test_set\u001b[0m\u001b[0;34m.\u001b[0m\u001b[0mget_train_test_sets\u001b[0m\u001b[0;34m(\u001b[0m\u001b[0mconfigObj\u001b[0m\u001b[0;34m.\u001b[0m\u001b[0mget_sample_sizes\u001b[0m\u001b[0;34m(\u001b[0m\u001b[0;34m)\u001b[0m\u001b[0;34m[\u001b[0m\u001b[0;36m0\u001b[0m\u001b[0;34m]\u001b[0m\u001b[0;34m)\u001b[0m\u001b[0;34m\u001b[0m\u001b[0m\n\u001b[0m\u001b[1;32m      5\u001b[0m \u001b[0;32mprint\u001b[0m \u001b[0mtrain_set\u001b[0m\u001b[0;34m.\u001b[0m\u001b[0mdescribe\u001b[0m\u001b[0;34m(\u001b[0m\u001b[0;34m)\u001b[0m\u001b[0;34m,\u001b[0m \u001b[0moversampled_train_set\u001b[0m\u001b[0;34m.\u001b[0m\u001b[0mdescribe\u001b[0m\u001b[0;34m(\u001b[0m\u001b[0;34m)\u001b[0m\u001b[0;34m,\u001b[0m \u001b[0mtest_set\u001b[0m\u001b[0;34m.\u001b[0m\u001b[0mdescribe\u001b[0m\u001b[0;34m(\u001b[0m\u001b[0;34m)\u001b[0m\u001b[0;34m\u001b[0m\u001b[0m\n",
        "\u001b[0;31mIndexError\u001b[0m: list index out of range"
       ]
      }
     ],
     "prompt_number": 21
    },
    {
     "cell_type": "code",
     "collapsed": false,
     "input": [
      "jsonFile=pd.io.json.read_json('/Users/pagrawal/Documents/repos/twitter/data/UniversityOfChicago/test.20141105-132839.json')"
     ],
     "language": "python",
     "metadata": {},
     "outputs": [
      {
       "ename": "ValueError",
       "evalue": "Trailing data",
       "output_type": "pyerr",
       "traceback": [
        "\u001b[0;31m---------------------------------------------------------------------------\u001b[0m\n\u001b[0;31mValueError\u001b[0m                                Traceback (most recent call last)",
        "\u001b[0;32m<ipython-input-26-261b286d0dfc>\u001b[0m in \u001b[0;36m<module>\u001b[0;34m()\u001b[0m\n\u001b[0;32m----> 1\u001b[0;31m \u001b[0mjsonFile\u001b[0m\u001b[0;34m=\u001b[0m\u001b[0mpd\u001b[0m\u001b[0;34m.\u001b[0m\u001b[0mio\u001b[0m\u001b[0;34m.\u001b[0m\u001b[0mjson\u001b[0m\u001b[0;34m.\u001b[0m\u001b[0mread_json\u001b[0m\u001b[0;34m(\u001b[0m\u001b[0;34m'/Users/pagrawal/Documents/repos/twitter/data/UniversityOfChicago/test.20141105-132839.json'\u001b[0m\u001b[0;34m)\u001b[0m\u001b[0;34m\u001b[0m\u001b[0m\n\u001b[0m",
        "\u001b[0;32m/Users/pagrawal/anaconda/lib/python2.7/site-packages/pandas/io/json.pyc\u001b[0m in \u001b[0;36mread_json\u001b[0;34m(path_or_buf, orient, typ, dtype, convert_axes, convert_dates, keep_default_dates, numpy, precise_float, date_unit)\u001b[0m\n\u001b[1;32m    196\u001b[0m         obj = FrameParser(json, orient, dtype, convert_axes, convert_dates,\n\u001b[1;32m    197\u001b[0m                           \u001b[0mkeep_default_dates\u001b[0m\u001b[0;34m,\u001b[0m \u001b[0mnumpy\u001b[0m\u001b[0;34m,\u001b[0m \u001b[0mprecise_float\u001b[0m\u001b[0;34m,\u001b[0m\u001b[0;34m\u001b[0m\u001b[0m\n\u001b[0;32m--> 198\u001b[0;31m                           date_unit).parse()\n\u001b[0m\u001b[1;32m    199\u001b[0m \u001b[0;34m\u001b[0m\u001b[0m\n\u001b[1;32m    200\u001b[0m     \u001b[0;32mif\u001b[0m \u001b[0mtyp\u001b[0m \u001b[0;34m==\u001b[0m \u001b[0;34m'series'\u001b[0m \u001b[0;32mor\u001b[0m \u001b[0mobj\u001b[0m \u001b[0;32mis\u001b[0m \u001b[0mNone\u001b[0m\u001b[0;34m:\u001b[0m\u001b[0;34m\u001b[0m\u001b[0m\n",
        "\u001b[0;32m/Users/pagrawal/anaconda/lib/python2.7/site-packages/pandas/io/json.pyc\u001b[0m in \u001b[0;36mparse\u001b[0;34m(self)\u001b[0m\n\u001b[1;32m    264\u001b[0m \u001b[0;34m\u001b[0m\u001b[0m\n\u001b[1;32m    265\u001b[0m         \u001b[0;32melse\u001b[0m\u001b[0;34m:\u001b[0m\u001b[0;34m\u001b[0m\u001b[0m\n\u001b[0;32m--> 266\u001b[0;31m             \u001b[0mself\u001b[0m\u001b[0;34m.\u001b[0m\u001b[0m_parse_no_numpy\u001b[0m\u001b[0;34m(\u001b[0m\u001b[0;34m)\u001b[0m\u001b[0;34m\u001b[0m\u001b[0m\n\u001b[0m\u001b[1;32m    267\u001b[0m \u001b[0;34m\u001b[0m\u001b[0m\n\u001b[1;32m    268\u001b[0m         \u001b[0;32mif\u001b[0m \u001b[0mself\u001b[0m\u001b[0;34m.\u001b[0m\u001b[0mobj\u001b[0m \u001b[0;32mis\u001b[0m \u001b[0mNone\u001b[0m\u001b[0;34m:\u001b[0m\u001b[0;34m\u001b[0m\u001b[0m\n",
        "\u001b[0;32m/Users/pagrawal/anaconda/lib/python2.7/site-packages/pandas/io/json.pyc\u001b[0m in \u001b[0;36m_parse_no_numpy\u001b[0;34m(self)\u001b[0m\n\u001b[1;32m    481\u001b[0m         \u001b[0;32mif\u001b[0m \u001b[0morient\u001b[0m \u001b[0;34m==\u001b[0m \u001b[0;34m\"columns\"\u001b[0m\u001b[0;34m:\u001b[0m\u001b[0;34m\u001b[0m\u001b[0m\n\u001b[1;32m    482\u001b[0m             self.obj = DataFrame(\n\u001b[0;32m--> 483\u001b[0;31m                 loads(json, precise_float=self.precise_float), dtype=None)\n\u001b[0m\u001b[1;32m    484\u001b[0m         \u001b[0;32melif\u001b[0m \u001b[0morient\u001b[0m \u001b[0;34m==\u001b[0m \u001b[0;34m\"split\"\u001b[0m\u001b[0;34m:\u001b[0m\u001b[0;34m\u001b[0m\u001b[0m\n\u001b[1;32m    485\u001b[0m             decoded = dict((str(k), v)\n",
        "\u001b[0;31mValueError\u001b[0m: Trailing data"
       ]
      }
     ],
     "prompt_number": 26
    },
    {
     "cell_type": "code",
     "collapsed": false,
     "input": [
      "#from objectpath import *\n",
      "#with open('/Users/pagrawal/Documents/repos/twitter/data/UniversityOfChicago/test.20141105-132839.json') as f:\n",
      "#    if(f!=\"\"):\n",
      "j= json.load('{\"created_at\":\"Wed Nov 05 19:28:39 +0000 2014\",\"id\":530079263396212736,\"id_str\":\"530079263396212736\",\"text\":\"RT @Pimptresss_: *deletes everything* *buys flip phone* *goes to icdc college* *takes online classes*\",\"source\":\"\\u003ca href=\\\"http:\\/\\/twitter.com\\/download\\/iphone\\\" rel=\\\"nofollow\\\"\\u003eTwitter for iPhone\\u003c\\/a\\u003e\",\"truncated\":false,\"in_reply_to_status_id\":null,\"in_reply_to_status_id_str\":null,\"in_reply_to_user_id\":null,\"in_reply_to_user_id_str\":null,\"in_reply_to_screen_name\":null,\"user\":{\"id\":273772424,\"id_str\":\"273772424\",\"name\":\"dec.02\",\"screen_name\":\"sorry4beinS3xy\",\"location\":\"\",\"url\":null,\"description\":\"this ain't no professional shit, sorry.\",\"protected\":false,\"verified\":false,\"followers_count\":1223,\"friends_count\":835,\"listed_count\":2,\"favourites_count\":1238,\"statuses_count\":59588,\"created_at\":\"Tue Mar 29 03:59:08 +0000 2011\",\"utc_offset\":-21600,\"time_zone\":\"Central Time (US & Canada)\",\"geo_enabled\":true,\"lang\":\"en\",\"contributors_enabled\":false,\"is_translator\":false,\"profile_background_color\":\"F5D7F5\",\"profile_background_image_url\":\"http:\\/\\/abs.twimg.com\\/images\\/themes\\/theme14\\/bg.gif\",\"profile_background_image_url_https\":\"https:\\/\\/abs.twimg.com\\/images\\/themes\\/theme14\\/bg.gif\",\"profile_background_tile\":true,\"profile_link_color\":\"009999\",\"profile_sidebar_border_color\":\"FFFFFF\",\"profile_sidebar_fill_color\":\"EFEFEF\",\"profile_text_color\":\"333333\",\"profile_use_background_image\":false,\"profile_image_url\":\"http:\\/\\/pbs.twimg.com\\/profile_images\\/526485190898905088\\/QzKE1x3U_normal.jpeg\",\"profile_image_url_https\":\"https:\\/\\/pbs.twimg.com\\/profile_images\\/526485190898905088\\/QzKE1x3U_normal.jpeg\",\"profile_banner_url\":\"https:\\/\\/pbs.twimg.com\\/profile_banners\\/273772424\\/1413922256\",\"default_profile\":false,\"default_profile_image\":false,\"following\":null,\"follow_request_sent\":null,\"notifications\":null},\"geo\":null,\"coordinates\":null,\"place\":null,\"contributors\":null,\"retweeted_status\":{\"created_at\":\"Wed Nov 05 19:26:47 +0000 2014\",\"id\":530078794921807872,\"id_str\":\"530078794921807872\",\"text\":\"*deletes everything* *buys flip phone* *goes to icdc college* *takes online classes*\",\"source\":\"\\u003ca href=\\\"http:\\/\\/twitter.com\\/download\\/iphone\\\" rel=\\\"nofollow\\\"\\u003eTwitter for iPhone\\u003c\\/a\\u003e\",\"truncated\":false,\"in_reply_to_status_id\":null,\"in_reply_to_status_id_str\":null,\"in_reply_to_user_id\":null,\"in_reply_to_user_id_str\":null,\"in_reply_to_screen_name\":null,\"user\":{\"id\":2224105736,\"id_str\":\"2224105736\",\"name\":\"queendee\",\"screen_name\":\"Pimptresss_\",\"location\":\"wit da bitchez\",\"url\":null,\"description\":\"im pimptress. im da queen. dafuq yu thought #RihannaNavy #HEATnation FSU 17| Arundel 13 Shawn \\u2764\\ufe0f\",\"protected\":false,\"verified\":false,\"followers_count\":1438,\"friends_count\":1437,\"listed_count\":2,\"favourites_count\":629,\"statuses_count\":15516,\"created_at\":\"Sun Dec 01 03:04:30 +0000 2013\",\"utc_offset\":null,\"time_zone\":null,\"geo_enabled\":false,\"lang\":\"en\",\"contributors_enabled\":false,\"is_translator\":false,\"profile_background_color\":\"1A1C1C\",\"profile_background_image_url\":\"http:\\/\\/pbs.twimg.com\\/profile_background_images\\/516402448965976065\\/6llVvzXk.jpeg\",\"profile_background_image_url_https\":\"https:\\/\\/pbs.twimg.com\\/profile_background_images\\/516402448965976065\\/6llVvzXk.jpeg\",\"profile_background_tile\":true,\"profile_link_color\":\"E82E98\",\"profile_sidebar_border_color\":\"000000\",\"profile_sidebar_fill_color\":\"DDEEF6\",\"profile_text_color\":\"333333\",\"profile_use_background_image\":true,\"profile_image_url\":\"http:\\/\\/pbs.twimg.com\\/profile_images\\/528441926824259584\\/JWQj_n9W_normal.jpeg\",\"profile_image_url_https\":\"https:\\/\\/pbs.twimg.com\\/profile_images\\/528441926824259584\\/JWQj_n9W_normal.jpeg\",\"profile_banner_url\":\"https:\\/\\/pbs.twimg.com\\/profile_banners\\/2224105736\\/1414828271\",\"default_profile\":false,\"default_profile_image\":false,\"following\":null,\"follow_request_sent\":null,\"notifications\":null},\"geo\":null,\"coordinates\":null,\"place\":null,\"contributors\":null,\"retweet_count\":1,\"favorite_count\":0,\"entities\":{\"hashtags\":[],\"trends\":[],\"urls\":[],\"user_mentions\":[],\"symbols\":[]},\"favorited\":false,\"retweeted\":false,\"possibly_sensitive\":false,\"filter_level\":\"low\",\"lang\":\"en\"},\"retweet_count\":0,\"favorite_count\":0,\"entities\":{\"hashtags\":[],\"trends\":[],\"urls\":[],\"user_mentions\":[{\"screen_name\":\"Pimptresss_\",\"name\":\"queendee\",\"id\":2224105736,\"id_str\":\"2224105736\",\"indices\":[3,15]}],\"symbols\":[]},\"favorited\":false,\\\"retweeted\\\":false,\\\"possibly_sensitive\\\":false,\\\"filter_level\\\":\\\"medium\\\",\\\"lang\\\":\\\"en\\\",\\\"timestamp_ms\\\":\\\"1415215719466\"}')\n",
      "tree = Tree(j)"
     ],
     "language": "python",
     "metadata": {},
     "outputs": [
      {
       "ename": "ValueError",
       "evalue": "Extra data: line 3 column 1 - line 39997 column 2202 (char 4518 - 73378590)",
       "output_type": "pyerr",
       "traceback": [
        "\u001b[0;31m---------------------------------------------------------------------------\u001b[0m\n\u001b[0;31mValueError\u001b[0m                                Traceback (most recent call last)",
        "\u001b[0;32m<ipython-input-30-9e93ed87799b>\u001b[0m in \u001b[0;36m<module>\u001b[0;34m()\u001b[0m\n\u001b[1;32m      2\u001b[0m \u001b[0;32mwith\u001b[0m \u001b[0mopen\u001b[0m\u001b[0;34m(\u001b[0m\u001b[0;34m'/Users/pagrawal/Documents/repos/twitter/data/UniversityOfChicago/test.20141105-132839.json'\u001b[0m\u001b[0;34m)\u001b[0m \u001b[0;32mas\u001b[0m \u001b[0mf\u001b[0m\u001b[0;34m:\u001b[0m\u001b[0;34m\u001b[0m\u001b[0m\n\u001b[1;32m      3\u001b[0m     \u001b[0;32mif\u001b[0m\u001b[0;34m(\u001b[0m\u001b[0mf\u001b[0m\u001b[0;34m!=\u001b[0m\u001b[0;34m\"\"\u001b[0m\u001b[0;34m)\u001b[0m\u001b[0;34m:\u001b[0m\u001b[0;34m\u001b[0m\u001b[0m\n\u001b[0;32m----> 4\u001b[0;31m         \u001b[0mj\u001b[0m\u001b[0;34m=\u001b[0m \u001b[0mjson\u001b[0m\u001b[0;34m.\u001b[0m\u001b[0mload\u001b[0m\u001b[0;34m(\u001b[0m\u001b[0mf\u001b[0m\u001b[0;34m)\u001b[0m\u001b[0;34m\u001b[0m\u001b[0m\n\u001b[0m\u001b[1;32m      5\u001b[0m \u001b[0mtree\u001b[0m \u001b[0;34m=\u001b[0m \u001b[0mTree\u001b[0m\u001b[0;34m(\u001b[0m\u001b[0mj\u001b[0m\u001b[0;34m)\u001b[0m\u001b[0;34m\u001b[0m\u001b[0m\n",
        "\u001b[0;32m/Users/pagrawal/anaconda/python.app/Contents/lib/python2.7/json/__init__.pyc\u001b[0m in \u001b[0;36mload\u001b[0;34m(fp, encoding, cls, object_hook, parse_float, parse_int, parse_constant, object_pairs_hook, **kw)\u001b[0m\n\u001b[1;32m    288\u001b[0m         \u001b[0mparse_float\u001b[0m\u001b[0;34m=\u001b[0m\u001b[0mparse_float\u001b[0m\u001b[0;34m,\u001b[0m \u001b[0mparse_int\u001b[0m\u001b[0;34m=\u001b[0m\u001b[0mparse_int\u001b[0m\u001b[0;34m,\u001b[0m\u001b[0;34m\u001b[0m\u001b[0m\n\u001b[1;32m    289\u001b[0m         \u001b[0mparse_constant\u001b[0m\u001b[0;34m=\u001b[0m\u001b[0mparse_constant\u001b[0m\u001b[0;34m,\u001b[0m \u001b[0mobject_pairs_hook\u001b[0m\u001b[0;34m=\u001b[0m\u001b[0mobject_pairs_hook\u001b[0m\u001b[0;34m,\u001b[0m\u001b[0;34m\u001b[0m\u001b[0m\n\u001b[0;32m--> 290\u001b[0;31m         **kw)\n\u001b[0m\u001b[1;32m    291\u001b[0m \u001b[0;34m\u001b[0m\u001b[0m\n\u001b[1;32m    292\u001b[0m \u001b[0;34m\u001b[0m\u001b[0m\n",
        "\u001b[0;32m/Users/pagrawal/anaconda/python.app/Contents/lib/python2.7/json/__init__.pyc\u001b[0m in \u001b[0;36mloads\u001b[0;34m(s, encoding, cls, object_hook, parse_float, parse_int, parse_constant, object_pairs_hook, **kw)\u001b[0m\n\u001b[1;32m    336\u001b[0m             \u001b[0mparse_int\u001b[0m \u001b[0;32mis\u001b[0m \u001b[0mNone\u001b[0m \u001b[0;32mand\u001b[0m \u001b[0mparse_float\u001b[0m \u001b[0;32mis\u001b[0m \u001b[0mNone\u001b[0m \u001b[0;32mand\u001b[0m\u001b[0;34m\u001b[0m\u001b[0m\n\u001b[1;32m    337\u001b[0m             parse_constant is None and object_pairs_hook is None and not kw):\n\u001b[0;32m--> 338\u001b[0;31m         \u001b[0;32mreturn\u001b[0m \u001b[0m_default_decoder\u001b[0m\u001b[0;34m.\u001b[0m\u001b[0mdecode\u001b[0m\u001b[0;34m(\u001b[0m\u001b[0ms\u001b[0m\u001b[0;34m)\u001b[0m\u001b[0;34m\u001b[0m\u001b[0m\n\u001b[0m\u001b[1;32m    339\u001b[0m     \u001b[0;32mif\u001b[0m \u001b[0mcls\u001b[0m \u001b[0;32mis\u001b[0m \u001b[0mNone\u001b[0m\u001b[0;34m:\u001b[0m\u001b[0;34m\u001b[0m\u001b[0m\n\u001b[1;32m    340\u001b[0m         \u001b[0mcls\u001b[0m \u001b[0;34m=\u001b[0m \u001b[0mJSONDecoder\u001b[0m\u001b[0;34m\u001b[0m\u001b[0m\n",
        "\u001b[0;32m/Users/pagrawal/anaconda/python.app/Contents/lib/python2.7/json/decoder.pyc\u001b[0m in \u001b[0;36mdecode\u001b[0;34m(self, s, _w)\u001b[0m\n\u001b[1;32m    367\u001b[0m         \u001b[0mend\u001b[0m \u001b[0;34m=\u001b[0m \u001b[0m_w\u001b[0m\u001b[0;34m(\u001b[0m\u001b[0ms\u001b[0m\u001b[0;34m,\u001b[0m \u001b[0mend\u001b[0m\u001b[0;34m)\u001b[0m\u001b[0;34m.\u001b[0m\u001b[0mend\u001b[0m\u001b[0;34m(\u001b[0m\u001b[0;34m)\u001b[0m\u001b[0;34m\u001b[0m\u001b[0m\n\u001b[1;32m    368\u001b[0m         \u001b[0;32mif\u001b[0m \u001b[0mend\u001b[0m \u001b[0;34m!=\u001b[0m \u001b[0mlen\u001b[0m\u001b[0;34m(\u001b[0m\u001b[0ms\u001b[0m\u001b[0;34m)\u001b[0m\u001b[0;34m:\u001b[0m\u001b[0;34m\u001b[0m\u001b[0m\n\u001b[0;32m--> 369\u001b[0;31m             \u001b[0;32mraise\u001b[0m \u001b[0mValueError\u001b[0m\u001b[0;34m(\u001b[0m\u001b[0merrmsg\u001b[0m\u001b[0;34m(\u001b[0m\u001b[0;34m\"Extra data\"\u001b[0m\u001b[0;34m,\u001b[0m \u001b[0ms\u001b[0m\u001b[0;34m,\u001b[0m \u001b[0mend\u001b[0m\u001b[0;34m,\u001b[0m \u001b[0mlen\u001b[0m\u001b[0;34m(\u001b[0m\u001b[0ms\u001b[0m\u001b[0;34m)\u001b[0m\u001b[0;34m)\u001b[0m\u001b[0;34m)\u001b[0m\u001b[0;34m\u001b[0m\u001b[0m\n\u001b[0m\u001b[1;32m    370\u001b[0m         \u001b[0;32mreturn\u001b[0m \u001b[0mobj\u001b[0m\u001b[0;34m\u001b[0m\u001b[0m\n\u001b[1;32m    371\u001b[0m \u001b[0;34m\u001b[0m\u001b[0m\n",
        "\u001b[0;31mValueError\u001b[0m: Extra data: line 3 column 1 - line 39997 column 2202 (char 4518 - 73378590)"
       ]
      }
     ],
     "prompt_number": 30
    },
    {
     "cell_type": "heading",
     "level": 4,
     "metadata": {},
     "source": [
      "!pip install objectpath"
     ]
    },
    {
     "cell_type": "markdown",
     "metadata": {},
     "source": [
      "s^2 = \\sqrt{\\sum_{i=1}^n (y_i - \\bar{y})^2}"
     ]
    }
   ],
   "metadata": {}
  }
 ]
}