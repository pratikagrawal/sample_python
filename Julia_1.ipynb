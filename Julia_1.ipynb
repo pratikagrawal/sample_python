{
 "metadata": {
  "language": "Julia",
  "name": "",
  "signature": "sha256:63e8b2775ea6f30e4ded30a815ff3e8d99534d67a756f0c05c9e94eaaec18bd5"
 },
 "nbformat": 3,
 "nbformat_minor": 0,
 "worksheets": [
  {
   "cells": [
    {
     "cell_type": "code",
     "collapsed": false,
     "input": [
      "WORD_SIZE"
     ],
     "language": "python",
     "metadata": {},
     "outputs": [
      {
       "metadata": {},
       "output_type": "pyout",
       "prompt_number": 1,
       "text": [
        "64"
       ]
      }
     ],
     "prompt_number": 1
    }
   ],
   "metadata": {}
  }
 ]
}