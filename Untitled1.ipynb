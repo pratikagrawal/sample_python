{
 "metadata": {
  "name": "",
  "signature": "sha256:068c3a0b12042f4ee1efcde38d6be8e2156838d7b0852beaaeab8b007ad1de49"
 },
 "nbformat": 3,
 "nbformat_minor": 0,
 "worksheets": [
  {
   "cells": [
    {
     "cell_type": "code",
     "collapsed": false,
     "input": [
      "%load_ext rmagic"
     ],
     "language": "python",
     "metadata": {},
     "outputs": [],
     "prompt_number": 1
    },
    {
     "cell_type": "code",
     "collapsed": false,
     "input": [
      "import statsmodels.datasets as sd"
     ],
     "language": "python",
     "metadata": {},
     "outputs": [],
     "prompt_number": 3
    },
    {
     "cell_type": "code",
     "collapsed": false,
     "input": [
      "import pandas as pd\n",
      "data = sd.longley.load_pandas()"
     ],
     "language": "python",
     "metadata": {},
     "outputs": [],
     "prompt_number": 4
    },
    {
     "cell_type": "code",
     "collapsed": false,
     "input": [
      "data.endog_name, data.exog_name"
     ],
     "language": "python",
     "metadata": {},
     "outputs": [
      {
       "metadata": {},
       "output_type": "pyout",
       "prompt_number": 6,
       "text": [
        "('TOTEMP', ['GNPDEFL', 'GNP', 'UNEMP', 'ARMED', 'POP', 'YEAR'])"
       ]
      }
     ],
     "prompt_number": 6
    },
    {
     "cell_type": "code",
     "collapsed": false,
     "input": [
      "y, x = data.endog, data.exog"
     ],
     "language": "python",
     "metadata": {},
     "outputs": [],
     "prompt_number": 7
    },
    {
     "cell_type": "code",
     "collapsed": false,
     "input": [
      "x['TOTEMP'] = y"
     ],
     "language": "python",
     "metadata": {},
     "outputs": [],
     "prompt_number": 8
    },
    {
     "cell_type": "code",
     "collapsed": false,
     "input": [
      "x"
     ],
     "language": "python",
     "metadata": {},
     "outputs": [
      {
       "html": [
        "<div style=\"max-height:1000px;max-width:1500px;overflow:auto;\">\n",
        "<table border=\"1\" class=\"dataframe\">\n",
        "  <thead>\n",
        "    <tr style=\"text-align: right;\">\n",
        "      <th></th>\n",
        "      <th>GNPDEFL</th>\n",
        "      <th>GNP</th>\n",
        "      <th>UNEMP</th>\n",
        "      <th>ARMED</th>\n",
        "      <th>POP</th>\n",
        "      <th>YEAR</th>\n",
        "      <th>TOTEMP</th>\n",
        "    </tr>\n",
        "  </thead>\n",
        "  <tbody>\n",
        "    <tr>\n",
        "      <th>0 </th>\n",
        "      <td>  83.0</td>\n",
        "      <td> 234289</td>\n",
        "      <td> 2356</td>\n",
        "      <td> 1590</td>\n",
        "      <td> 107608</td>\n",
        "      <td> 1947</td>\n",
        "      <td> 60323</td>\n",
        "    </tr>\n",
        "    <tr>\n",
        "      <th>1 </th>\n",
        "      <td>  88.5</td>\n",
        "      <td> 259426</td>\n",
        "      <td> 2325</td>\n",
        "      <td> 1456</td>\n",
        "      <td> 108632</td>\n",
        "      <td> 1948</td>\n",
        "      <td> 61122</td>\n",
        "    </tr>\n",
        "    <tr>\n",
        "      <th>2 </th>\n",
        "      <td>  88.2</td>\n",
        "      <td> 258054</td>\n",
        "      <td> 3682</td>\n",
        "      <td> 1616</td>\n",
        "      <td> 109773</td>\n",
        "      <td> 1949</td>\n",
        "      <td> 60171</td>\n",
        "    </tr>\n",
        "    <tr>\n",
        "      <th>3 </th>\n",
        "      <td>  89.5</td>\n",
        "      <td> 284599</td>\n",
        "      <td> 3351</td>\n",
        "      <td> 1650</td>\n",
        "      <td> 110929</td>\n",
        "      <td> 1950</td>\n",
        "      <td> 61187</td>\n",
        "    </tr>\n",
        "    <tr>\n",
        "      <th>4 </th>\n",
        "      <td>  96.2</td>\n",
        "      <td> 328975</td>\n",
        "      <td> 2099</td>\n",
        "      <td> 3099</td>\n",
        "      <td> 112075</td>\n",
        "      <td> 1951</td>\n",
        "      <td> 63221</td>\n",
        "    </tr>\n",
        "    <tr>\n",
        "      <th>5 </th>\n",
        "      <td>  98.1</td>\n",
        "      <td> 346999</td>\n",
        "      <td> 1932</td>\n",
        "      <td> 3594</td>\n",
        "      <td> 113270</td>\n",
        "      <td> 1952</td>\n",
        "      <td> 63639</td>\n",
        "    </tr>\n",
        "    <tr>\n",
        "      <th>6 </th>\n",
        "      <td>  99.0</td>\n",
        "      <td> 365385</td>\n",
        "      <td> 1870</td>\n",
        "      <td> 3547</td>\n",
        "      <td> 115094</td>\n",
        "      <td> 1953</td>\n",
        "      <td> 64989</td>\n",
        "    </tr>\n",
        "    <tr>\n",
        "      <th>7 </th>\n",
        "      <td> 100.0</td>\n",
        "      <td> 363112</td>\n",
        "      <td> 3578</td>\n",
        "      <td> 3350</td>\n",
        "      <td> 116219</td>\n",
        "      <td> 1954</td>\n",
        "      <td> 63761</td>\n",
        "    </tr>\n",
        "    <tr>\n",
        "      <th>8 </th>\n",
        "      <td> 101.2</td>\n",
        "      <td> 397469</td>\n",
        "      <td> 2904</td>\n",
        "      <td> 3048</td>\n",
        "      <td> 117388</td>\n",
        "      <td> 1955</td>\n",
        "      <td> 66019</td>\n",
        "    </tr>\n",
        "    <tr>\n",
        "      <th>9 </th>\n",
        "      <td> 104.6</td>\n",
        "      <td> 419180</td>\n",
        "      <td> 2822</td>\n",
        "      <td> 2857</td>\n",
        "      <td> 118734</td>\n",
        "      <td> 1956</td>\n",
        "      <td> 67857</td>\n",
        "    </tr>\n",
        "    <tr>\n",
        "      <th>10</th>\n",
        "      <td> 108.4</td>\n",
        "      <td> 442769</td>\n",
        "      <td> 2936</td>\n",
        "      <td> 2798</td>\n",
        "      <td> 120445</td>\n",
        "      <td> 1957</td>\n",
        "      <td> 68169</td>\n",
        "    </tr>\n",
        "    <tr>\n",
        "      <th>11</th>\n",
        "      <td> 110.8</td>\n",
        "      <td> 444546</td>\n",
        "      <td> 4681</td>\n",
        "      <td> 2637</td>\n",
        "      <td> 121950</td>\n",
        "      <td> 1958</td>\n",
        "      <td> 66513</td>\n",
        "    </tr>\n",
        "    <tr>\n",
        "      <th>12</th>\n",
        "      <td> 112.6</td>\n",
        "      <td> 482704</td>\n",
        "      <td> 3813</td>\n",
        "      <td> 2552</td>\n",
        "      <td> 123366</td>\n",
        "      <td> 1959</td>\n",
        "      <td> 68655</td>\n",
        "    </tr>\n",
        "    <tr>\n",
        "      <th>13</th>\n",
        "      <td> 114.2</td>\n",
        "      <td> 502601</td>\n",
        "      <td> 3931</td>\n",
        "      <td> 2514</td>\n",
        "      <td> 125368</td>\n",
        "      <td> 1960</td>\n",
        "      <td> 69564</td>\n",
        "    </tr>\n",
        "    <tr>\n",
        "      <th>14</th>\n",
        "      <td> 115.7</td>\n",
        "      <td> 518173</td>\n",
        "      <td> 4806</td>\n",
        "      <td> 2572</td>\n",
        "      <td> 127852</td>\n",
        "      <td> 1961</td>\n",
        "      <td> 69331</td>\n",
        "    </tr>\n",
        "    <tr>\n",
        "      <th>15</th>\n",
        "      <td> 116.9</td>\n",
        "      <td> 554894</td>\n",
        "      <td> 4007</td>\n",
        "      <td> 2827</td>\n",
        "      <td> 130081</td>\n",
        "      <td> 1962</td>\n",
        "      <td> 70551</td>\n",
        "    </tr>\n",
        "  </tbody>\n",
        "</table>\n",
        "</div>"
       ],
       "metadata": {},
       "output_type": "pyout",
       "prompt_number": 9,
       "text": [
        "    GNPDEFL     GNP  UNEMP  ARMED     POP  YEAR  TOTEMP\n",
        "0      83.0  234289   2356   1590  107608  1947   60323\n",
        "1      88.5  259426   2325   1456  108632  1948   61122\n",
        "2      88.2  258054   3682   1616  109773  1949   60171\n",
        "3      89.5  284599   3351   1650  110929  1950   61187\n",
        "4      96.2  328975   2099   3099  112075  1951   63221\n",
        "5      98.1  346999   1932   3594  113270  1952   63639\n",
        "6      99.0  365385   1870   3547  115094  1953   64989\n",
        "7     100.0  363112   3578   3350  116219  1954   63761\n",
        "8     101.2  397469   2904   3048  117388  1955   66019\n",
        "9     104.6  419180   2822   2857  118734  1956   67857\n",
        "10    108.4  442769   2936   2798  120445  1957   68169\n",
        "11    110.8  444546   4681   2637  121950  1958   66513\n",
        "12    112.6  482704   3813   2552  123366  1959   68655\n",
        "13    114.2  502601   3931   2514  125368  1960   69564\n",
        "14    115.7  518173   4806   2572  127852  1961   69331\n",
        "15    116.9  554894   4007   2827  130081  1962   70551"
       ]
      }
     ],
     "prompt_number": 9
    },
    {
     "cell_type": "code",
     "collapsed": false,
     "input": [
      "gnp = x['GNP']\n",
      "totemp = x['TOTEMP']"
     ],
     "language": "python",
     "metadata": {},
     "outputs": [],
     "prompt_number": 11
    },
    {
     "cell_type": "code",
     "collapsed": false,
     "input": [
      "%R -i totemp,gnp plot(gnp, totemp)"
     ],
     "language": "python",
     "metadata": {},
     "outputs": [
      {
       "metadata": {},
       "output_type": "display_data",
       "png": "[encoded data removed]"
      }
     ],
     "prompt_number": 12
    },
    {
     "cell_type": "code",
     "collapsed": false,
     "input": [
      "%%R\n",
      "fit <- lm(totemp ~ gnp);  # Least-squares regression\n",
      "print(fit$coefficients)  # Display the coefficients of the fit.\n",
      "plot(gnp, totemp)  # Plot the data points.\n",
      "abline(fit)  # And plot the linear regression."
     ],
     "language": "python",
     "metadata": {},
     "outputs": [
      {
       "metadata": {},
       "output_type": "display_data",
       "text": [
        " (Intercept)          gnp \n",
        "5.184359e+04 3.475229e-02 \n"
       ]
      },
      {
       "metadata": {},
       "output_type": "display_data",
       "png": "[encoded data removed]"
      }
     ],
     "prompt_number": 13
    },
    {
     "cell_type": "code",
     "collapsed": false,
     "input": [
      "import plotly\n",
      "plotly.__version__"
     ],
     "language": "python",
     "metadata": {},
     "outputs": [
      {
       "metadata": {},
       "output_type": "pyout",
       "prompt_number": 4,
       "text": [
        "'1.5.0'"
       ]
      }
     ],
     "prompt_number": 4
    },
    {
     "cell_type": "code",
     "collapsed": false,
     "input": [
      "%matplotlib inline\n",
      "import matplotlib.pyplot as plt # side-stepping mpl backend\n",
      "import matplotlib.gridspec as gridspec # subplots\n",
      "import numpy as np"
     ],
     "language": "python",
     "metadata": {},
     "outputs": [],
     "prompt_number": 2
    },
    {
     "cell_type": "code",
     "collapsed": false,
     "input": [
      "import plotly.plotly as py\n",
      "import plotly.tools as tls\n",
      "from plotly.graph_objs import *\n",
      "py.sign_in(\"IPython.Demo\", \"1fw3zw2o13\")\n",
      " "
     ],
     "language": "python",
     "metadata": {},
     "outputs": [],
     "prompt_number": 3
    },
    {
     "cell_type": "code",
     "collapsed": false,
     "input": [
      "fig1 = plt.figure()\n",
      "\n",
      "import matplotlib.pyplot as plt\n",
      "import numpy as np\n",
      "import matplotlib.mlab as mlab\n",
      "\n",
      "mean = [10,12,16,22,25]\n",
      "variance = [3,6,8,10,12]\n",
      "\n",
      "x = np.linspace(0,40,1000)\n",
      "\n",
      "for i in range(4):\n",
      "    sigma = np.sqrt(variance[i])\n",
      "    y = mlab.normpdf(x,mean[i],sigma)\n",
      "    plt.plot(x,y, label=r'$v_{}$'.format(i+1))\n",
      "\n",
      "plt.xlabel(\"X\")\n",
      "plt.ylabel(\"P(X)\") "
     ],
     "language": "python",
     "metadata": {},
     "outputs": [
      {
       "metadata": {},
       "output_type": "pyout",
       "prompt_number": 7,
       "text": [
        "<matplotlib.text.Text at 0x10dae2450>"
       ]
      },
      {
       "metadata": {},
       "output_type": "display_data",
       "png": "[encoded data removed]",
       "text": [
        "<matplotlib.figure.Figure at 0x10d733a50>"
       ]
      }
     ],
     "prompt_number": 7
    },
    {
     "cell_type": "code",
     "collapsed": false,
     "input": [
      "py.iplot_mpl(fig1, strip_style = True)\n",
      " "
     ],
     "language": "python",
     "metadata": {},
     "outputs": []
    },
    {
     "cell_type": "code",
     "collapsed": false,
     "input": [
      "%%R\n",
      "library(WDI)\n",
      "library(ggplot2)\n",
      " \n",
      "#Grab GNI per capita data for Chile, Hungary and Uruguay\n",
      " \n",
      "dat = WDI(indicator='NY.GNP.PCAP.CD', country=c('CL','HU','UY'), start=1960, end=2012)\n",
      " \n",
      "#a quick plot with legend, title and label\n",
      " \n",
      "wb <- ggplot(dat, aes(year, NY.GNP.PCAP.CD, color=country)) + geom_line() \n",
      "+     xlab('Year') + ylab('GDI per capita (Atlas Method USD)') \n",
      "+     labs(title <- \"GNI Per Capita ($USD Atlas Method)\")\n",
      "\n",
      "py$ggplotly(wb)"
     ],
     "language": "python",
     "metadata": {},
     "outputs": [
      {
       "ename": "SyntaxError",
       "evalue": "invalid syntax (<ipython-input-9-8819aab14f6d>, line 14)",
       "output_type": "pyerr",
       "traceback": [
        "\u001b[0;36m  File \u001b[0;32m\"<ipython-input-9-8819aab14f6d>\"\u001b[0;36m, line \u001b[0;32m14\u001b[0m\n\u001b[0;31m    py$ggplotly(wb)\u001b[0m\n\u001b[0m      ^\u001b[0m\n\u001b[0;31mSyntaxError\u001b[0m\u001b[0;31m:\u001b[0m invalid syntax\n"
       ]
      }
     ],
     "prompt_number": 9
    },
    {
     "cell_type": "code",
     "collapsed": false,
     "input": [
      "tls.embed('RgraphingAPI', '1457')\n"
     ],
     "language": "python",
     "metadata": {},
     "outputs": []
    },
    {
     "cell_type": "code",
     "collapsed": false,
     "input": [
      "fig = py.get_figure('RgraphingAPI', '1457')\n",
      "fig.strip_style()\n",
      "py.iplot(fig)"
     ],
     "language": "python",
     "metadata": {},
     "outputs": []
    },
    {
     "cell_type": "code",
     "collapsed": false,
     "input": [
      "my_data = py.get_figure('PythonAPI', '455').get_data()\n"
     ],
     "language": "python",
     "metadata": {},
     "outputs": [],
     "prompt_number": 4
    },
    {
     "cell_type": "code",
     "collapsed": false,
     "input": [
      "fig1 = plt.figure()\n",
      "\n",
      "plt.subplot(311)\n",
      "plt.plot(my_data[0]['x'], my_data[0]['y'])\n",
      "plt.subplot(312)\n",
      "plt.plot(my_data[1]['x'], my_data[1]['y'])\n",
      "plt.subplot(313)\n",
      "plt.plot(my_data[2]['x'], my_data[2]['y'])\n",
      "\n",
      "py.iplot_mpl(fig1, strip_style = True)"
     ],
     "language": "python",
     "metadata": {},
     "outputs": [
      {
       "output_type": "stream",
       "stream": "stdout",
       "text": [
        "Uh oh, an error occured on the server. \n"
       ]
      },
      {
       "ename": "PlotlyAccountError",
       "evalue": "Uh oh, an error occured on the server. ",
       "output_type": "pyerr",
       "traceback": [
        "\u001b[0;31m---------------------------------------------------------------------------\u001b[0m\n\u001b[0;31mPlotlyAccountError\u001b[0m                        Traceback (most recent call last)",
        "\u001b[0;32m<ipython-input-5-ba37ba637b8f>\u001b[0m in \u001b[0;36m<module>\u001b[0;34m()\u001b[0m\n\u001b[1;32m      8\u001b[0m \u001b[0mplt\u001b[0m\u001b[0;34m.\u001b[0m\u001b[0mplot\u001b[0m\u001b[0;34m(\u001b[0m\u001b[0mmy_data\u001b[0m\u001b[0;34m[\u001b[0m\u001b[0;36m2\u001b[0m\u001b[0;34m]\u001b[0m\u001b[0;34m[\u001b[0m\u001b[0;34m'x'\u001b[0m\u001b[0;34m]\u001b[0m\u001b[0;34m,\u001b[0m \u001b[0mmy_data\u001b[0m\u001b[0;34m[\u001b[0m\u001b[0;36m2\u001b[0m\u001b[0;34m]\u001b[0m\u001b[0;34m[\u001b[0m\u001b[0;34m'y'\u001b[0m\u001b[0;34m]\u001b[0m\u001b[0;34m)\u001b[0m\u001b[0;34m\u001b[0m\u001b[0m\n\u001b[1;32m      9\u001b[0m \u001b[0;34m\u001b[0m\u001b[0m\n\u001b[0;32m---> 10\u001b[0;31m \u001b[0mpy\u001b[0m\u001b[0;34m.\u001b[0m\u001b[0miplot_mpl\u001b[0m\u001b[0;34m(\u001b[0m\u001b[0mfig1\u001b[0m\u001b[0;34m,\u001b[0m \u001b[0mstrip_style\u001b[0m \u001b[0;34m=\u001b[0m \u001b[0mTrue\u001b[0m\u001b[0;34m)\u001b[0m\u001b[0;34m\u001b[0m\u001b[0m\n\u001b[0m",
        "\u001b[0;32m/Users/pagrawal/anaconda/lib/python2.7/site-packages/plotly/plotly/plotly.pyc\u001b[0m in \u001b[0;36miplot_mpl\u001b[0;34m(fig, resize, strip_style, update, **plot_options)\u001b[0m\n\u001b[1;32m    257\u001b[0m             \u001b[0;34m\"object. Run 'help(plotly.graph_objs.Figure)' for more info.\"\u001b[0m\u001b[0;34m\u001b[0m\u001b[0m\n\u001b[1;32m    258\u001b[0m         )\n\u001b[0;32m--> 259\u001b[0;31m     \u001b[0;32mreturn\u001b[0m \u001b[0miplot\u001b[0m\u001b[0;34m(\u001b[0m\u001b[0mfig\u001b[0m\u001b[0;34m,\u001b[0m \u001b[0;34m**\u001b[0m\u001b[0mplot_options\u001b[0m\u001b[0;34m)\u001b[0m\u001b[0;34m\u001b[0m\u001b[0m\n\u001b[0m\u001b[1;32m    260\u001b[0m \u001b[0;34m\u001b[0m\u001b[0m\n\u001b[1;32m    261\u001b[0m \u001b[0;34m\u001b[0m\u001b[0m\n",
        "\u001b[0;32m/Users/pagrawal/anaconda/lib/python2.7/site-packages/plotly/plotly/plotly.pyc\u001b[0m in \u001b[0;36miplot\u001b[0;34m(figure_or_data, **plot_options)\u001b[0m\n\u001b[1;32m    113\u001b[0m     \u001b[0;32mif\u001b[0m \u001b[0;34m'auto_open'\u001b[0m \u001b[0;32mnot\u001b[0m \u001b[0;32min\u001b[0m \u001b[0mplot_options\u001b[0m\u001b[0;34m:\u001b[0m\u001b[0;34m\u001b[0m\u001b[0m\n\u001b[1;32m    114\u001b[0m         \u001b[0mplot_options\u001b[0m\u001b[0;34m[\u001b[0m\u001b[0;34m'auto_open'\u001b[0m\u001b[0;34m]\u001b[0m \u001b[0;34m=\u001b[0m \u001b[0mFalse\u001b[0m\u001b[0;34m\u001b[0m\u001b[0m\n\u001b[0;32m--> 115\u001b[0;31m     \u001b[0mres\u001b[0m \u001b[0;34m=\u001b[0m \u001b[0mplot\u001b[0m\u001b[0;34m(\u001b[0m\u001b[0mfigure_or_data\u001b[0m\u001b[0;34m,\u001b[0m \u001b[0;34m**\u001b[0m\u001b[0mplot_options\u001b[0m\u001b[0;34m)\u001b[0m\u001b[0;34m\u001b[0m\u001b[0m\n\u001b[0m\u001b[1;32m    116\u001b[0m     \u001b[0murlsplit\u001b[0m \u001b[0;34m=\u001b[0m \u001b[0mres\u001b[0m\u001b[0;34m.\u001b[0m\u001b[0msplit\u001b[0m\u001b[0;34m(\u001b[0m\u001b[0;34m'/'\u001b[0m\u001b[0;34m)\u001b[0m\u001b[0;34m\u001b[0m\u001b[0m\n\u001b[1;32m    117\u001b[0m     \u001b[0musername\u001b[0m\u001b[0;34m,\u001b[0m \u001b[0mplot_id\u001b[0m \u001b[0;34m=\u001b[0m \u001b[0murlsplit\u001b[0m\u001b[0;34m[\u001b[0m\u001b[0;34m-\u001b[0m\u001b[0;36m2\u001b[0m\u001b[0;34m]\u001b[0m\u001b[0;34m[\u001b[0m\u001b[0;36m1\u001b[0m\u001b[0;34m:\u001b[0m\u001b[0;34m]\u001b[0m\u001b[0;34m,\u001b[0m \u001b[0murlsplit\u001b[0m\u001b[0;34m[\u001b[0m\u001b[0;34m-\u001b[0m\u001b[0;36m1\u001b[0m\u001b[0;34m]\u001b[0m  \u001b[0;31m# TODO: HACKY!\u001b[0m\u001b[0;34m\u001b[0m\u001b[0m\n",
        "\u001b[0;32m/Users/pagrawal/anaconda/lib/python2.7/site-packages/plotly/plotly/plotly.pyc\u001b[0m in \u001b[0;36mplot\u001b[0;34m(figure_or_data, validate, **plot_options)\u001b[0m\n\u001b[1;32m    219\u001b[0m         \u001b[0;32mreturn\u001b[0m \u001b[0mres\u001b[0m\u001b[0;34m[\u001b[0m\u001b[0;34m'url'\u001b[0m\u001b[0;34m]\u001b[0m\u001b[0;34m\u001b[0m\u001b[0m\n\u001b[1;32m    220\u001b[0m     \u001b[0;32melse\u001b[0m\u001b[0;34m:\u001b[0m\u001b[0;34m\u001b[0m\u001b[0m\n\u001b[0;32m--> 221\u001b[0;31m         \u001b[0;32mraise\u001b[0m \u001b[0mexceptions\u001b[0m\u001b[0;34m.\u001b[0m\u001b[0mPlotlyAccountError\u001b[0m\u001b[0;34m(\u001b[0m\u001b[0mres\u001b[0m\u001b[0;34m[\u001b[0m\u001b[0;34m'error'\u001b[0m\u001b[0;34m]\u001b[0m\u001b[0;34m)\u001b[0m\u001b[0;34m\u001b[0m\u001b[0m\n\u001b[0m\u001b[1;32m    222\u001b[0m \u001b[0;34m\u001b[0m\u001b[0m\n\u001b[1;32m    223\u001b[0m \u001b[0;34m\u001b[0m\u001b[0m\n",
        "\u001b[0;31mPlotlyAccountError\u001b[0m: Uh oh, an error occured on the server. "
       ]
      }
     ],
     "prompt_number": 5
    },
    {
     "cell_type": "code",
     "collapsed": false,
     "input": [
      "import pandas as pd"
     ],
     "language": "python",
     "metadata": {},
     "outputs": [],
     "prompt_number": 1
    },
    {
     "cell_type": "code",
     "collapsed": false,
     "input": [
      "data = pd.DataFrame()\n",
      "data[\"price\"] = [1,2,3.3]"
     ],
     "language": "python",
     "metadata": {},
     "outputs": [],
     "prompt_number": 19
    },
    {
     "cell_type": "code",
     "collapsed": false,
     "input": [
      "d= data[\"price\"].astype(float)"
     ],
     "language": "python",
     "metadata": {},
     "outputs": [],
     "prompt_number": 16
    },
    {
     "cell_type": "code",
     "collapsed": false,
     "input": [
      "if(data[\"price\"].value<2):\n",
      "    print \"2\"\n",
      "elif(data[\"price\"].value>3.3):\n",
      "    print \"3.3\""
     ],
     "language": "python",
     "metadata": {},
     "outputs": [
      {
       "ename": "AttributeError",
       "evalue": "'Series' object has no attribute 'value'",
       "output_type": "pyerr",
       "traceback": [
        "\u001b[0;31m---------------------------------------------------------------------------\u001b[0m\n\u001b[0;31mAttributeError\u001b[0m                            Traceback (most recent call last)",
        "\u001b[0;32m<ipython-input-21-ce7ac1c08794>\u001b[0m in \u001b[0;36m<module>\u001b[0;34m()\u001b[0m\n\u001b[0;32m----> 1\u001b[0;31m \u001b[0;32mif\u001b[0m\u001b[0;34m(\u001b[0m\u001b[0mdata\u001b[0m\u001b[0;34m[\u001b[0m\u001b[0;34m\"price\"\u001b[0m\u001b[0;34m]\u001b[0m\u001b[0;34m.\u001b[0m\u001b[0mvalue\u001b[0m\u001b[0;34m<\u001b[0m\u001b[0;36m2\u001b[0m\u001b[0;34m)\u001b[0m\u001b[0;34m:\u001b[0m\u001b[0;34m\u001b[0m\u001b[0m\n\u001b[0m\u001b[1;32m      2\u001b[0m     \u001b[0;32mprint\u001b[0m \u001b[0;34m\"2\"\u001b[0m\u001b[0;34m\u001b[0m\u001b[0m\n\u001b[1;32m      3\u001b[0m \u001b[0;32melif\u001b[0m\u001b[0;34m(\u001b[0m\u001b[0mdata\u001b[0m\u001b[0;34m[\u001b[0m\u001b[0;34m\"price\"\u001b[0m\u001b[0;34m]\u001b[0m\u001b[0;34m.\u001b[0m\u001b[0mvalue\u001b[0m\u001b[0;34m>\u001b[0m\u001b[0;36m3.3\u001b[0m\u001b[0;34m)\u001b[0m\u001b[0;34m:\u001b[0m\u001b[0;34m\u001b[0m\u001b[0m\n\u001b[1;32m      4\u001b[0m     \u001b[0;32mprint\u001b[0m \u001b[0;34m\"3.3\"\u001b[0m\u001b[0;34m\u001b[0m\u001b[0m\n",
        "\u001b[0;32m/Users/pagrawal/anaconda/lib/python2.7/site-packages/pandas/core/generic.pyc\u001b[0m in \u001b[0;36m__getattr__\u001b[0;34m(self, name)\u001b[0m\n\u001b[1;32m   1841\u001b[0m                 \u001b[0;32mreturn\u001b[0m \u001b[0mself\u001b[0m\u001b[0;34m[\u001b[0m\u001b[0mname\u001b[0m\u001b[0;34m]\u001b[0m\u001b[0;34m\u001b[0m\u001b[0m\n\u001b[1;32m   1842\u001b[0m             raise AttributeError(\"'%s' object has no attribute '%s'\" %\n\u001b[0;32m-> 1843\u001b[0;31m                                  (type(self).__name__, name))\n\u001b[0m\u001b[1;32m   1844\u001b[0m \u001b[0;34m\u001b[0m\u001b[0m\n\u001b[1;32m   1845\u001b[0m     \u001b[0;32mdef\u001b[0m \u001b[0m__setattr__\u001b[0m\u001b[0;34m(\u001b[0m\u001b[0mself\u001b[0m\u001b[0;34m,\u001b[0m \u001b[0mname\u001b[0m\u001b[0;34m,\u001b[0m \u001b[0mvalue\u001b[0m\u001b[0;34m)\u001b[0m\u001b[0;34m:\u001b[0m\u001b[0;34m\u001b[0m\u001b[0m\n",
        "\u001b[0;31mAttributeError\u001b[0m: 'Series' object has no attribute 'value'"
       ]
      }
     ],
     "prompt_number": 21
    },
    {
     "cell_type": "code",
     "collapsed": false,
     "input": [
      "import pandas as pd"
     ],
     "language": "python",
     "metadata": {},
     "outputs": [],
     "prompt_number": 1
    },
    {
     "cell_type": "code",
     "collapsed": false,
     "input": [
      "data1=pd.read_csv('/Users/pagrawal/Documents/repos/ml/rate_competitiveness/data/priorities.csv',sep=',',header='infer')"
     ],
     "language": "python",
     "metadata": {},
     "outputs": [
      {
       "output_type": "stream",
       "stream": "stderr",
       "text": [
        "/Users/pagrawal/anaconda/lib/python2.7/site-packages/pandas/io/parsers.py:1139: DtypeWarning: Columns (11) have mixed types. Specify dtype option on import or set low_memory=False.\n",
        "  data = self._reader.read(nrows)\n"
       ]
      }
     ],
     "prompt_number": 22
    },
    {
     "cell_type": "code",
     "collapsed": false,
     "input": [
      "data2=pd.read_csv('/Users/pagrawal/Documents/repos/ml/rate_competitiveness/analysis/reason_code_to_shop_2.csv',sep=',',header='infer')"
     ],
     "language": "python",
     "metadata": {},
     "outputs": [],
     "prompt_number": 23
    },
    {
     "cell_type": "code",
     "collapsed": false,
     "input": [
      "data3=pd.merge(data2,data1,how='inner',left_on=\"uid\",right_on=\"oneg\")\n"
     ],
     "language": "python",
     "metadata": {},
     "outputs": [],
     "prompt_number": 31
    },
    {
     "cell_type": "code",
     "collapsed": false,
     "input": [
      "data3.to_csv('/Users/pagrawal/Documents/repos/ml/rate_competitiveness/analysis/reason2priority.csv',sep=',')"
     ],
     "language": "python",
     "metadata": {},
     "outputs": [],
     "prompt_number": 32
    },
    {
     "cell_type": "code",
     "collapsed": false,
     "input": [
      "data1[\"oneg\"]=data1[\"Hotel ONEG\"].astype(int)"
     ],
     "language": "python",
     "metadata": {},
     "outputs": [],
     "prompt_number": 25
    },
    {
     "cell_type": "code",
     "collapsed": false,
     "input": [
      "data1.oneg"
     ],
     "language": "python",
     "metadata": {},
     "outputs": [
      {
       "metadata": {},
       "output_type": "pyout",
       "prompt_number": 29,
       "text": [
        "0      49317\n",
        "1      42982\n",
        "2     255111\n",
        "3     119934\n",
        "4      22738\n",
        "5      58019\n",
        "6      25675\n",
        "7      24111\n",
        "8       7046\n",
        "9     311635\n",
        "10     67410\n",
        "11     13375\n",
        "12     13374\n",
        "13     19488\n",
        "14     27634\n",
        "...\n",
        "77816     241231\n",
        "77817     120009\n",
        "77818     322204\n",
        "77819     199278\n",
        "77820     342768\n",
        "77821     211330\n",
        "77822       4621\n",
        "77823     343432\n",
        "77824    1136911\n",
        "77825     860341\n",
        "77826     340213\n",
        "77827    1138741\n",
        "77828     824291\n",
        "77829    1011281\n",
        "77830    1083221\n",
        "Name: oneg, Length: 77831, dtype: int64"
       ]
      }
     ],
     "prompt_number": 29
    }
   ],
   "metadata": {}
  }
 ]
}