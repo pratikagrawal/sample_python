{
 "metadata": {
  "name": "",
  "signature": "sha256:2ad8081581e1edc681220c2618c9faba9b5aef02e0faa1a3aafd7800df8b6683"
 },
 "nbformat": 3,
 "nbformat_minor": 0,
 "worksheets": [
  {
   "cells": [
    {
     "cell_type": "code",
     "collapsed": false,
     "input": [
      "import numpy as np\n",
      "import pandas as pd\n",
      "from sklearn import cross_validation\n",
      "#import sklearn.linear_model as lm\n",
      "from sklearn.cluster import KMeans\n",
      "import datetime\n",
      "from sklearn.feature_extraction import DictVectorizer\n",
      "from matplotlib import * \n",
      "import random\n",
      "from sklearn.metrics import confusion_matrix as sk_confusion_matrix\n",
      "import pylab as pl\n",
      "from sklearn.metrics import classification_report\n",
      "import sklearn.ensemble as rfc\n",
      "import metrics as mt\n",
      "from __future__ import division\n",
      "from scipy import stats as st\n",
      "from scipy.stats import itemfreq\n",
      "import time\n",
      "import sklearn.grid_search as gs\n",
      "from sklearn.ensemble import RandomForestClassifier\n",
      "from sklearn.linear_model import LogisticRegression\n",
      "import sklearn.grid_search as gs\n",
      "import pickle\n"
     ],
     "language": "python",
     "metadata": {},
     "outputs": [],
     "prompt_number": 1
    },
    {
     "cell_type": "code",
     "collapsed": false,
     "input": [
      "data_table = pd.read_table('/Users/pagrawal/Documents/repos/notebooks/dataWithRelevanceScore.csv',sep=',',parse_dates=True,infer_datetime_format=True)"
     ],
     "language": "python",
     "metadata": {},
     "outputs": [],
     "prompt_number": 2
    },
    {
     "cell_type": "code",
     "collapsed": false,
     "input": [
      "#subDataSet= data_table.head(n=2000)\n",
      "#trainData.to_csv('/Users/pagrawal/Documents/repos/notebooks/validationSet.csv',sep=',')\n",
      "#data_comp5_rate = data_table[data_table.comp5_rate.notnull()]\n",
      "#data_comp5_rate_inv = data_comp5_rate[data_comp5_rate.comp5_inv.notnull()]\n",
      "#data_comp5_rate_inv[data_comp5_rate_inv.click_bool==1].click_bool.describe()\n",
      "#searches = data_comp5_rate_inv.srch_id.drop_duplicates()\n",
      "dt= data_table.head(n=40)\n",
      "dt.to_csv(\"sampleData.csv\", sep=',')"
     ],
     "language": "python",
     "metadata": {},
     "outputs": [],
     "prompt_number": 5
    },
    {
     "cell_type": "code",
     "collapsed": false,
     "input": [
      "data_table.drop(['Unnamed: 0',\n",
      "                 #'srch_day_of_week',\n",
      "                 #'srch_isWeekday',\n",
      "                 #'isDomestic',\n",
      "                 #'relative_price_usd',\n",
      "                 #'relative_gross_bookings_usd',\n",
      "                 #'relative_visitor_hist_adr_usd'\n",
      "                 ], axis=1, inplace=True)\n",
      "#copy_data_table=data_table.copy()"
     ],
     "language": "python",
     "metadata": {},
     "outputs": [],
     "prompt_number": 7
    },
    {
     "cell_type": "code",
     "collapsed": false,
     "input": [
      "feature_names= list (data_table.columns)\n",
      "CATEGORICAL_FEATURES = ['srch_id',\n",
      "                        'visitor_location_country_id',\n",
      "                        'prop_country_id',\n",
      "                        'prop_id',\n",
      "                        'prop_brand_bool ',\n",
      "                        'promotion_flag',\n",
      "                        'srch_destination_id',\n",
      "                        'srch_adults_count',\n",
      "                        'srch_children_count',\n",
      "                        'srch_room_count',\n",
      "                        'srch_saturday_night_bool',\n",
      "                        ]\n",
      "ORDINAL_FEATURES = ['visitor_hist_starrating',\n",
      "                    'prop_starrating'\n",
      "                    ]\n",
      "INTERVAL_FEATURES = ['prop_review_score',\n",
      "                     'position',\n",
      "                     'srch_length_of_stay',\n",
      "                     'srch_booking_window',\n",
      "                     ]\n",
      "CONTINUOUS_FEATURES = ['visitor_hist_adr_usd',\n",
      "                       'prop_location_score1',\n",
      "                       'prop_location_score2',\n",
      "                       'prop_log_historical_price',\n",
      "                       'price_usd',\n",
      "                       'srch_query_affinity_score',\n",
      "                       'orig_destination_distance',\n",
      "                       'gross_bookings_usd'\n",
      "                       ]\n",
      "PREDICT_FEATURE = 'booking_bool'"
     ],
     "language": "python",
     "metadata": {},
     "outputs": []
    },
    {
     "cell_type": "code",
     "collapsed": false,
     "input": [
      "def get_test_stat_and_p_value(python_description_data_frame):\n",
      "    '''\n",
      "    :param python_description_data_frame this needs to be a pandas dataframe which\n",
      "                                         is the output of the describe function \n",
      "                                         for results based on any two conditions of\n",
      "                                         a feature\n",
      "    '''\n",
      "    feature_names = python_description_data_frame.columns\n",
      "    n_1 = (int)(python_description_data_frame.loc[:'count',feature_names[0]])\n",
      "    n_2 = (int)(python_description_data_frame.loc[:'count',feature_names[1]])\n",
      "\n",
      "    u_1 = (float)(python_description_data_frame.loc['mean':'mean',feature_names[0]])\n",
      "    u_2 = (float)(python_description_data_frame.loc['mean':'mean',feature_names[1]])\n",
      "\n",
      "    std_1 = (float)(python_description_data_frame.loc['std':'std',feature_names[0]]) \n",
      "    std_2 = (float)(python_description_data_frame.loc['std':'std',feature_names[1]]) \n",
      "\n",
      "    var_1 = power(std_1,2)\n",
      "    var_2 = power(std_2,2)\n",
      "\n",
      "    difference_of_means = u_1 - u_2\n",
      "\n",
      "    unpooled_SE = sqrt((var_1/n_1)+(var_2/n_2))\n",
      "    t_value = difference_of_means / unpooled_SE\n",
      "\n",
      "    p_value = st.t.sf(np.abs(t_value), min(n_1,n_2)-1)*2\n",
      "    return{'difference_of_means':difference_of_means,'unpooled_SE':unpooled_SE,'t_value':t_value,'p_value':p_value}"
     ],
     "language": "python",
     "metadata": {},
     "outputs": [],
     "prompt_number": 25
    },
    {
     "cell_type": "code",
     "collapsed": false,
     "input": [
      "def timeofday(dt):\n",
      "    if(dt.hour>=4 and dt.hour <6):\n",
      "        return \"early_morning\"\n",
      "    if(dt.hour>=6 and dt.hour<11):\n",
      "        return \"morning\"\n",
      "    if(dt.hour>=11 and dt.hour<14):\n",
      "        return \"midday\"\n",
      "    if(dt.hour>=14 and dt.hour<18):\n",
      "        return \"afternoon\"\n",
      "    if(dt.hour>=18 and dt.hour<22):\n",
      "        return \"evening\"\n",
      "    if(dt.hour>=22 and dt.hour<4):\n",
      "        return \"night\"\n",
      "\n",
      "def isWeekday(dt):\n",
      "    if(dt.dayofweek<5):\n",
      "        return True\n",
      "    return False\n",
      "\n",
      "def dayOfWeek(dt):\n",
      "    return dt.dayofweek\n",
      "\n",
      "def checkInDate(dt,ap):\n",
      "    return pd.Series({'checkin':(dt + datetime.timedelta(days = ap))})\n",
      "\n",
      "def distanceBucket(dt):\n",
      "    if(dt < 50):\n",
      "        return \"<50\"\n",
      "    if(dt>=50 and dt<250):\n",
      "        return \"50-250\"\n",
      "    if(dt>250 and dt<500):\n",
      "        return \"250-500\"\n",
      "    if(dt>=500 and dt<1000):\n",
      "        return \"500-1000\"\n",
      "    if(dt>=1000 and dt<2700):\n",
      "        return \"1000-2700\"\n",
      "    if(dt>=2700):\n",
      "        return \">2700\"\n",
      "\n",
      "def visitorStarRatingBuckets(x):\n",
      "    if(x<0.5):\n",
      "        return 0\n",
      "    if(x>=0.5 and x<1.5):\n",
      "        return 1\n",
      "    if(x>=1.5 and x<2.5):\n",
      "        return 2\n",
      "    if(x>=2.5 and x<3.5):\n",
      "        return 3\n",
      "    if(x>=3.5 and x<4.5):\n",
      "        return 4\n",
      "    if(x>=4.5):\n",
      "        return 5\n",
      "    \n",
      "\n",
      "    \n",
      "def get_trg_test_sets(trainDataTable,seed=1234,trgTestRatio=0.5,oversampleRatio=10,setRatio=0.2):\n",
      "\n",
      "    random.seed(seed)\n",
      "    trg_ratio=trgTestRatio\n",
      "    set_ratio=setRatio\n",
      "    oversample_ratio=oversampleRatio\n",
      "    feature_names = list (trainDataTable.columns )\n",
      "    unique_srch=trainDataTable.srch_id.copy()\n",
      "    unique_srch.drop_duplicates(take_last=True,inplace=True)\n",
      "    unique_srch_ids = list(unique_srch)\n",
      "    \n",
      "    unique_srch_set=(int)(set_ratio*len(unique_srch_ids))\n",
      "    unique_srch_ids=unique_srch_ids[:unique_srch_set]\n",
      "    np.random.shuffle(unique_srch_ids)\n",
      "    \n",
      "    trg_ids_total=(int)(trg_ratio*len(unique_srch_ids))\n",
      "    #print \"total ids:%s\"%trg_ids_total\n",
      "    \n",
      "    trg_srch_ids=unique_srch_ids[:trg_ids_total]\n",
      "    test_srch_ids=unique_srch_ids[trg_ids_total:]\n",
      "    \n",
      "    print trainDataTable.booking_bool.describe()\n",
      "    #trainSet=pd.DataFrame(trainDataTable,index=trg_srch_ids,columns=feature_names)\n",
      "    #trainSet= concat(data_table.apply(lambda x: get_rows(x,x['click_bool']), axis=1))\n",
      "    trainSet=pd.DataFrame(columns=trainDataTable.columns)\n",
      "    #for srchId in trg_srch_ids:\n",
      "        #trainSet=pd.concat([trainSet,trainDataTable[trainDataTable.srch_id==srchId]])\n",
      "    trainSet=trainDataTable[trainDataTable['srch_id'].isin(trg_srch_ids)]\n",
      "    print trainSet.booking_bool.describe()\n",
      "    \n",
      "    #testSet=pd.DataFrame(trainDataTable,index=test_srch_ids,columns=feature_names)\n",
      "    testSet=pd.DataFrame(columns=trainDataTable.columns)\n",
      "    #for srchId in test_srch_ids:\n",
      "    #    testSet=pd.concat([testSet,trainDataTable[trainDataTable.srch_id==srchId]])\n",
      "    testSet=trainDataTable[trainDataTable['srch_id'].isin(test_srch_ids)]\n",
      "    \n",
      "    bookedData=trainSet[trainSet.booking_bool==1]\n",
      "    i=len(bookedData)/len(trainSet)\n",
      "    j=(oversample_ratio/i)\n",
      "    j=(int)(j)\n",
      "    for k in range(0,j):\n",
      "        trainSet=trainSet.append(bookedData)\n",
      "    #return trainSet.loc[:,feature_names[2:],testSet.loc[:,feature_names[2:]]    \n",
      "    return trainSet, testSet\n",
      "\n",
      "def get_relevance_score(x,y):\n",
      "    if(x == 1):\n",
      "        return 5\n",
      "    if(y == 1):\n",
      "        return 1\n",
      "    return 0\n",
      "\n",
      "def get_rows(x,y):\n",
      "    return x[x.srch_id==y]\n",
      "\n",
      "def get_individual_search(df,id):\n",
      "    return df[df.srch_id == id]\n"
     ],
     "language": "python",
     "metadata": {},
     "outputs": [],
     "prompt_number": 3
    },
    {
     "cell_type": "code",
     "collapsed": false,
     "input": [
      "print 'Pandas version ' + pd.__version__\n",
      "#feature_names = list(data_table.columns)\n",
      "#pd.DataFrame(data_table,index=[1,4,6],columns=feature_names)\n",
      "#[data_table['srch_id']==1]\n",
      "#data_table[data_table['srch_id'].isin([1,2,3,4,5,6])]    \n",
      "#data_table.loc[data_table.srch_id == \"1\"]\n",
      "#data_table.set_index(data_table.srch_id, inplace=False, verify_integrity=False)\n",
      "#unique_srch=data_table.srch_id\n",
      "#unique_srch.drop_duplicates(take_last=True,inplace=True)\n",
      "#unique_srch_ids = list(unique_srch)\n",
      "#data_table.set_index(unique_srch_ids)\n",
      "#print data_table[data_table.srch_id==4]\n",
      "trainSet=pd.DataFrame(columns=data_table.columns)\n",
      "ids=[1,4]\n",
      "#trainSet.append(data_table[data_table.srch_id==4], ignore_index=True )\n",
      "for iid in ids:\n",
      "    trainSet=pd.concat([trainSet,data_table[data_table.srch_id==iid]])\n",
      "#trainSet=pd.concat([trainSet,data_table[data_table.srch_id==1]])\n",
      "#data_table[data_table.srch_id==4]\n",
      "trainSet\n",
      "#df.loc[df['A'] == 'foo']\n",
      "#df = pd.DataFrame({'A': 'foo bar foo bar foo bar foo foo'.split(),\n",
      "#                   'B': 'one one two three two two one three'.split(),\n",
      "#                   'C': np.arange(8), 'D': np.arange(8) * 2})\n",
      "#print(df.loc[df['A'] == 'foo'])\n"
     ],
     "language": "python",
     "metadata": {},
     "outputs": []
    },
    {
     "cell_type": "code",
     "collapsed": false,
     "input": [
      "trainData , testData = get_trg_test_sets(data_table,seed=1234,trgTestRatio=1,oversampleRatio=0,setRatio=0.02)"
     ],
     "language": "python",
     "metadata": {},
     "outputs": [
      {
       "output_type": "stream",
       "stream": "stdout",
       "text": [
        "count    9914926.000000\n",
        "mean           0.027889\n",
        "std            0.164654\n",
        "min            0.000000\n",
        "25%            0.000000\n",
        "50%            0.000000\n",
        "75%            0.000000\n",
        "max            1.000000\n",
        "dtype: float64\n",
        "count    197822.000000\n",
        "mean          0.027975\n",
        "std           0.164901\n",
        "min           0.000000\n",
        "25%           0.000000\n",
        "50%           0.000000\n",
        "75%           0.000000\n",
        "max           1.000000\n",
        "dtype: float64"
       ]
      },
      {
       "output_type": "stream",
       "stream": "stdout",
       "text": [
        "\n"
       ]
      }
     ],
     "prompt_number": 5
    },
    {
     "cell_type": "code",
     "collapsed": false,
     "input": [
      "tol_values = sorted( [10.0**i * 0.001 for i in range(10)])\n",
      "tol_values\n"
     ],
     "language": "python",
     "metadata": {},
     "outputs": []
    },
    {
     "cell_type": "code",
     "collapsed": false,
     "input": [
      "c_values = sorted([0.5, 1.0])# + [2.0**i * 0.0001 for i in range(14)])\n",
      "tol_values = sorted([0.0001, 0.001, 0.01, 0.1, 0.000001])\n",
      "intercept_scaling = sorted([1, 10, 100])\n",
      "param_grid = {'C': c_values, \"tol\":tol_values, \"intercept_scaling\":intercept_scaling }\n",
      "feature_names = list(trainData.columns)\n",
      "feature_names.remove(\"click_bool\")\n",
      "feature_names.remove(\"booking_bool\")\n",
      "feature_names.remove(\"gross_bookings_usd\")\n",
      "feature_names.remove(\"date_time\")\n",
      "feature_names.remove(\"relevance_score\")\n",
      "feature_names.remove(\"position\")\n",
      "#feature_names.remove(\"Unnamed: 0\")\n",
      "\n",
      "trainData.fillna(value = 0, axis = 1, inplace= True)\n",
      "\n",
      "features = trainData[feature_names].values\n",
      "target = trainData[\"booking_bool\"].values\n",
      "\n",
      "\n",
      "#randomCV = gs.RandomizedSearchCV (lm.LogisticRegression(),param_grid, n_jobs=4, cv=10)\n",
      "criterion = [\"gini\", \"entropy\"]\n",
      "param_grid = {\"criterion\":criterion}\n",
      "rscv_rfc = gs.RandomizedSearchCV(rfc.RandomForestClassifier(),param_grid, n_jobs=4, cv=10,scoring=\"log_loss\" )\n",
      "rscv_r=rscv_rfc.fit(features,target)\n"
     ],
     "language": "python",
     "metadata": {},
     "outputs": [],
     "prompt_number": 60
    },
    {
     "cell_type": "code",
     "collapsed": false,
     "input": [
      "max_features = sorted([2*i * 1 for i in range(26)])\n",
      "max_features"
     ],
     "language": "python",
     "metadata": {},
     "outputs": []
    },
    {
     "cell_type": "code",
     "collapsed": false,
     "input": [
      "storage= pd.DataFrame()\n",
      "storage[\"features\"]=feature_names\n",
      "storage\n",
      "#storage[\"coeff\"]=rscv.best_estimator_.coef_"
     ],
     "language": "python",
     "metadata": {},
     "outputs": []
    },
    {
     "cell_type": "code",
     "collapsed": false,
     "input": [
      "cv_errors = []\n",
      "for i in range(0,9):\n",
      "    cv_errors.append(rscv_rfc.grid_scores_[i][1])\n",
      "print np.mean(cv_errors)\n",
      "print cv_errors"
     ],
     "language": "python",
     "metadata": {},
     "outputs": [
      {
       "output_type": "stream",
       "stream": "stdout",
       "text": [
        "-0.0366597968261\n",
        "[-0.038511985992362954, -0.03668020696189838, -0.040694777461525111, -0.033822045262207528, -0.03793473289212957, -0.034552513817436695, -0.037377279249104792, -0.036962986406342553, -0.033401643391851983]\n"
       ]
      }
     ],
     "prompt_number": 76
    },
    {
     "cell_type": "code",
     "collapsed": false,
     "input": [],
     "language": "python",
     "metadata": {},
     "outputs": []
    },
    {
     "cell_type": "code",
     "collapsed": false,
     "input": [],
     "language": "python",
     "metadata": {},
     "outputs": []
    },
    {
     "cell_type": "code",
     "collapsed": false,
     "input": [],
     "language": "python",
     "metadata": {},
     "outputs": []
    },
    {
     "cell_type": "code",
     "collapsed": false,
     "input": [
      "def Occurence_0(x):\n",
      "      #dtype = [('country', int), ('frequency', int)]\n",
      "      #a = pd.DataFrame(itemfreq(x['prop_country_id']),columns=['dest_country_id','frequency'])\n",
      "      #b = x[x['booking_bool']==1]\n",
      "      freq_ratings=[]\n",
      "      freq_ratings.append(np.count_nonzero(x['prop_starrating']==0))\n",
      "      freq_ratings.append(np.count_nonzero(x['prop_starrating']==1))\n",
      "      freq_ratings.append(np.count_nonzero(x['prop_starrating']==2))\n",
      "      freq_ratings.append(np.count_nonzero(x['prop_starrating']==3))\n",
      "      freq_ratings.append(np.count_nonzero(x['prop_starrating']==4))\n",
      "      freq_ratings.append(np.count_nonzero(x['prop_starrating']==5))        \n",
      "      return pd.Series({#'Mean distance of hotel from search loc':np.mean(x['orig_destination_distance']),\n",
      "                        'Bookings/Impression':(sum(x['booking_bool'] == 1)/np.count_nonzero(x['prop_starrating'])),\n",
      "                        'Booked': sum(x['booking_bool'] == 1),\n",
      "                        'Impressions':np.count_nonzero(x['prop_starrating']),\n",
      "                        #'0 Stars':freq_ratings[0]/sum(freq_ratings),\n",
      "                        #'1 Stars':freq_ratings[1]/sum(freq_ratings),\n",
      "                        #'2 Stars':freq_ratings[2]/sum(freq_ratings),\n",
      "                        #'3 Stars':freq_ratings[3]/sum(freq_ratings),\n",
      "                        #'4 Stars':freq_ratings[4]/sum(freq_ratings),\n",
      "                        #'5 Stars':freq_ratings[5]/sum(freq_ratings),\n",
      "                        #'Increased_Star_Rating': (np.mean(x['prop_starrating']).astype(float64))-np.mean(x['visitor_hist_starrating']),\n",
      "                        #'Average_Star_rating_booked': np.mean(x['prop_starrating']),\n",
      "                        #'Average Location Score 1':np.mean(x['prop_location_score1']),\n",
      "                        #'Average_length_of_stay':np.mean(x['srch_length_of_stay']),\n",
      "                        #'Domestic total':sum([b['isDomestic'] == 1]),\n",
      "                        #'Frequency of Dest Country': (a.sort('frequency',axis=0,ascending=0)).head(5),\n",
      "                        #'Price_Total':  sum(x['price_usd']),\n",
      "                        'Average_Price':  np.mean(x['price_usd'])})\n",
      "data_table.groupby('prop_starrating').apply(Occurence_0)#.sort('Increased_Star_Rating',axis=0,ascending=0)\n",
      "#a.apply(Occurence_0).sort('Booked',axis=0,ascending=0)\n",
      "#dtg.to_csv('starRatingBookings.csv',sep=',')"
     ],
     "language": "python",
     "metadata": {},
     "outputs": [
      {
       "html": [
        "<div style=\"max-height:1000px;max-width:1500px;overflow:auto;\">\n",
        "<table border=\"1\" class=\"dataframe\">\n",
        "  <thead>\n",
        "    <tr style=\"text-align: right;\">\n",
        "      <th></th>\n",
        "      <th>Average_Price</th>\n",
        "      <th>Booked</th>\n",
        "      <th>Bookings/Impression</th>\n",
        "      <th>Impressions</th>\n",
        "    </tr>\n",
        "    <tr>\n",
        "      <th>prop_starrating</th>\n",
        "      <th></th>\n",
        "      <th></th>\n",
        "      <th></th>\n",
        "      <th></th>\n",
        "    </tr>\n",
        "  </thead>\n",
        "  <tbody>\n",
        "    <tr>\n",
        "      <th>0</th>\n",
        "      <td> 140.949642</td>\n",
        "      <td>   5581</td>\n",
        "      <td>      inf</td>\n",
        "      <td>       0</td>\n",
        "    </tr>\n",
        "    <tr>\n",
        "      <th>1</th>\n",
        "      <td>  85.474901</td>\n",
        "      <td>    439</td>\n",
        "      <td> 0.012721</td>\n",
        "      <td>   34509</td>\n",
        "    </tr>\n",
        "    <tr>\n",
        "      <th>2</th>\n",
        "      <td>  87.633556</td>\n",
        "      <td>  38885</td>\n",
        "      <td> 0.021738</td>\n",
        "      <td> 1788802</td>\n",
        "    </tr>\n",
        "    <tr>\n",
        "      <th>3</th>\n",
        "      <td> 129.327961</td>\n",
        "      <td> 109027</td>\n",
        "      <td> 0.027980</td>\n",
        "      <td> 3896672</td>\n",
        "    </tr>\n",
        "    <tr>\n",
        "      <th>4</th>\n",
        "      <td> 194.928959</td>\n",
        "      <td> 101660</td>\n",
        "      <td> 0.033388</td>\n",
        "      <td> 3044779</td>\n",
        "    </tr>\n",
        "    <tr>\n",
        "      <th>5</th>\n",
        "      <td> 319.087724</td>\n",
        "      <td>  20923</td>\n",
        "      <td> 0.025754</td>\n",
        "      <td>  812409</td>\n",
        "    </tr>\n",
        "  </tbody>\n",
        "</table>\n",
        "</div>"
       ],
       "metadata": {},
       "output_type": "pyout",
       "prompt_number": 33,
       "text": [
        "                 Average_Price  Booked  Bookings/Impression  Impressions\n",
        "prop_starrating                                                         \n",
        "0                   140.949642    5581                  inf            0\n",
        "1                    85.474901     439             0.012721        34509\n",
        "2                    87.633556   38885             0.021738      1788802\n",
        "3                   129.327961  109027             0.027980      3896672\n",
        "4                   194.928959  101660             0.033388      3044779\n",
        "5                   319.087724   20923             0.025754       812409"
       ]
      }
     ],
     "prompt_number": 33
    },
    {
     "cell_type": "code",
     "collapsed": false,
     "input": [
      "\n",
      "#data_table['isDomestic'] = \n",
      "data_table.apply(isDomestic)\n",
      "#data_table['checkin_day_of_week'] = \n",
      "#datetime.timedelta(data_table.srch_booking_window)\n",
      "#dt.apply(checkInDate,args=(data_table.srch_booking_window,))\n",
      "#data_table['checkin_isWeekday'] = dt.apply(isWeekday)\n",
      "#print data_table.srch_day_of_week, data_table.srch_isWeekday, data_table.checkin_day_of_week\n",
      "#data_table.srch_booking_window\n",
      "#data_table.isDomestic"
     ],
     "language": "python",
     "metadata": {},
     "outputs": []
    },
    {
     "cell_type": "code",
     "collapsed": false,
     "input": [
      "temp3 = pd.DataFrame()\n",
      "temp1=data_table[data_table.price_usd>0]\n",
      "temp2=temp1[temp1.booking_bool==1]\n",
      "temp1=data_comp5_rate_inv[data_comp5_rate_inv.price_usd>0]\n",
      "temp3['0']=temp2.price_usd.describe()\n",
      "temp3['1']=temp1[temp1.booking_bool==1].price_usd.describe()\n",
      "print get_test_stat_and_p_value(temp3)"
     ],
     "language": "python",
     "metadata": {},
     "outputs": [
      {
       "output_type": "stream",
       "stream": "stdout",
       "text": [
        "{'p_value': 9.5234031990861673e-16, 'difference_of_means': -6.025579366400166, 'unpooled_SE': 0.75002076932857209, 't_value': -8.0338833440497108}\n"
       ]
      }
     ],
     "prompt_number": 26
    },
    {
     "cell_type": "code",
     "collapsed": false,
     "input": [
      "bookedTrips=data_table[data_table.booking_bool==1]"
     ],
     "language": "python",
     "metadata": {},
     "outputs": []
    },
    {
     "cell_type": "code",
     "collapsed": false,
     "input": [
      "data_table['isDomestic']=data_table.visitor_location_country_id==data_table.prop_country_id"
     ],
     "language": "python",
     "metadata": {},
     "outputs": []
    },
    {
     "cell_type": "code",
     "collapsed": false,
     "input": [
      "booked=data_table[data_table.booking_bool==1]\n",
      "bookedDomestic=booked[booked.isDomestic==1]\n",
      "bookedDomestic.booking_bool.describe()\n",
      "#bookedCountry=booked[booked.visitor_location_country_id==216]\n",
      "#bookedCountryDomestic=bookedCountry[bookedCountry.isDomestic==1]\n",
      "#bookedCountryDomestic.booking_bool.describe()"
     ],
     "language": "python",
     "metadata": {},
     "outputs": []
    },
    {
     "cell_type": "code",
     "collapsed": false,
     "input": [
      "bookedCountry=data_table[data_table.visitor_location_country_id==219]\n",
      "booked=data_table[data_table.booking_bool==1]\n",
      "\n",
      "#booked=booked[booked.visitor_location_country_id==129]\n",
      "#booked=booked[booked.prop_country_id==219]\n",
      "#bookedCountryDomestic=bookedCountry[bookedCountry.isDomestic==0]"
     ],
     "language": "python",
     "metadata": {},
     "outputs": []
    },
    {
     "cell_type": "code",
     "collapsed": false,
     "input": [
      "#Traveler Types\n",
      "booked=data_table#[data_table.booking_bool==1]\n",
      "#travelerDistribution=np.array()\n",
      "\n",
      "print \"Business travelers\"\n",
      "a=booked[booked.srch_saturday_night_bool==0]\n",
      "a=a[a.srch_children_count == 0]\n",
      "a=a[a.srch_booking_window <7]\n",
      "print sum(a.booking_bool)\n",
      "\n",
      "\n",
      "print \"Singles\"\n",
      "b=booked[booked.srch_saturday_night_bool==1]\n",
      "b=b[b.srch_children_count == 0]\n",
      "b=b[b.srch_booking_window >= 7]\n",
      "print sum(b.booking_bool)\n",
      "\n",
      "print \"Families\"\n",
      "c=booked[booked.srch_children_count>0]\n",
      "print sum(c.booking_bool)\n",
      "\n",
      "print \"Couples\"\n",
      "d=booked[booked.srch_children_count==0]\n",
      "d=d[d.srch_adults_count>1]\n",
      "print sum(d.booking_bool)\n",
      "\n",
      "print \"Last minute travelers\"\n",
      "e=booked[booked.srch_booking_window <7]\n",
      "print sum(e.booking_bool)\n",
      "\n",
      "print \"Total number of travelers\"\n",
      "print sum (booked.booking_bool)\n",
      "\n"
     ],
     "language": "python",
     "metadata": {},
     "outputs": []
    },
    {
     "cell_type": "code",
     "collapsed": false,
     "input": [
      "booked=data_table[data_table.booking_bool==1]\n",
      "notbooked=data_table[data_table.booking_bool==1]\n",
      "promobooked=booked[booked.promotion_flag==1]\n",
      "notpromobooked=booked[booked.promotion_flag==0]\n",
      "promonotbooked=notbooked[notbooked.promotion_flag==1]\n",
      "notpromonotbooked=notbooked[notbooked.promotion_flag==0]"
     ],
     "language": "python",
     "metadata": {},
     "outputs": []
    },
    {
     "cell_type": "code",
     "collapsed": false,
     "input": [
      "booked=data_table[data_table.booking_bool==1]"
     ],
     "language": "python",
     "metadata": {},
     "outputs": []
    },
    {
     "cell_type": "code",
     "collapsed": false,
     "input": [
      "#trainingData, testData = get_trg_test_sets(data_table,oversampleRatio=0.5,setRatio=0.7)\n",
      "trainingData = data_table.copy()\n",
      "trainingData.fillna(value=0,axis=1,inplace=True)\n",
      "corrTrainData=trainingData.corr()\n",
      "plt.pcolor(corrTrainData)\n",
      "plt.yticks(np.arange(0.5, len(corrTrainData.index), 1), corrTrainData.index)\n",
      "plt.xticks(np.arange(0.5, len(corrTrainData.columns), 1), corrTrainData.columns, rotation =90)\n",
      "plt.autoscale()\n",
      "plt.set_cmap(\"seismic\")\n",
      "plt.show()"
     ],
     "language": "python",
     "metadata": {},
     "outputs": []
    },
    {
     "cell_type": "code",
     "collapsed": false,
     "input": [
      "data_table.relative_price_usd.describe()"
     ],
     "language": "python",
     "metadata": {},
     "outputs": []
    },
    {
     "cell_type": "code",
     "collapsed": false,
     "input": [
      "data_table['relative_price_usd'] = (data_table.price_usd - data_table.price_usd.min())/(data_table.price_usd.max()-data_table.price_usd.min())"
     ],
     "language": "python",
     "metadata": {},
     "outputs": []
    },
    {
     "cell_type": "code",
     "collapsed": false,
     "input": [
      "data_table.relevance_score.describe()"
     ],
     "language": "python",
     "metadata": {},
     "outputs": []
    },
    {
     "cell_type": "code",
     "collapsed": false,
     "input": [],
     "language": "python",
     "metadata": {},
     "outputs": []
    },
    {
     "cell_type": "code",
     "collapsed": false,
     "input": [
      "data_table['relevance_score'] = 0"
     ],
     "language": "python",
     "metadata": {},
     "outputs": []
    },
    {
     "cell_type": "code",
     "collapsed": false,
     "input": [
      "data_table.to_csv('dataWithRelevanceScore.csv',sep=',')"
     ],
     "language": "python",
     "metadata": {},
     "outputs": []
    },
    {
     "cell_type": "code",
     "collapsed": false,
     "input": [
      "trainData , testData = get_trg_test_sets(data_table,oversampleRatio=0,setRatio=0.5)"
     ],
     "language": "python",
     "metadata": {},
     "outputs": []
    },
    {
     "cell_type": "code",
     "collapsed": false,
     "input": [
      "trainData.to_csv('train.csv',sep=',')\n",
      "testData.to_csv('test.csv',sep=',')"
     ],
     "language": "python",
     "metadata": {},
     "outputs": []
    },
    {
     "cell_type": "code",
     "collapsed": false,
     "input": [
      "sample=testData[testData.srch_id==15619]\n",
      "sample.to_csv('sample.csv',sep=',')"
     ],
     "language": "python",
     "metadata": {},
     "outputs": []
    },
    {
     "cell_type": "code",
     "collapsed": false,
     "input": [
      "testData"
     ],
     "language": "python",
     "metadata": {},
     "outputs": []
    },
    {
     "cell_type": "raw",
     "metadata": {},
     "source": []
    },
    {
     "cell_type": "code",
     "collapsed": false,
     "input": [
      "import math\n",
      "\n",
      "import multiprocessing\n",
      "\n",
      "CPU = 4\n",
      "\n",
      "def dcg(rel):\n",
      "    # rel: list of relevance\n",
      "    d = 0\n",
      "    length = len(rel)\n",
      "    for i in range(1, length):\n",
      "        d += (pow(2,rel[i-1])-1) / math.log(i + 1, 2)\n",
      "    return d\n",
      "\n",
      "def ndcg(x):\n",
      "    # rel: list of relevances\n",
      "    rel = list(x['relevance_score'])\n",
      "    irel = sorted(rel, reverse = True)\n",
      "    try:\n",
      "        return dcg(rel) / dcg(irel)\n",
      "    except ZeroDivisionError as detail:\n",
      "        print 'Handling run-time error:', detail, x['srch_id']\n",
      "\n",
      "def ndcgList(rel):\n",
      "    # rel: list of relevances\n",
      "    irel = sorted(rel, reverse = True)\n",
      "    print irel, dcg(rel), dcg(irel)\n",
      "    return dcg(rel) / dcg(irel)\n",
      "\n",
      "def bp(x):\n",
      "    rel = list(x['relevance_score'])\n",
      "    length = len(rel)\n",
      "    for i in range(1,length):\n",
      "        if(rel[i]==5):\n",
      "            return i\n",
      "    return 0\n"
     ],
     "language": "python",
     "metadata": {},
     "outputs": []
    },
    {
     "cell_type": "code",
     "collapsed": false,
     "input": [
      "testData.booking_bool.describe()"
     ],
     "language": "python",
     "metadata": {},
     "outputs": []
    },
    {
     "cell_type": "code",
     "collapsed": false,
     "input": [
      "results= pd.read_table('/Users/pagrawal/Documents/repos/ml/ExpediaPersonalizedSortCompetition-master/PythonBenchmark/test_rfc_LOCATION.csv',sep=',')\n",
      "#resultsLogitPrice= pd.read_table('/Users/pagrawal/Documents/repos/ml/ExpediaPersonalizedSortCompetition-master/Submissions/logit_price.csv',sep=',')\n",
      "#resultsRfcPrice= pd.read_table('/Users/pagrawal/Documents/repos/ml/ExpediaPersonalizedSortCompetition-master/Submissions/rfc_price.csv',sep=',')\n",
      "#resultsLogitLoc= pd.read_table('/Users/pagrawal/Documents/repos/ml/ExpediaPersonalizedSortCompetition-master/Submissions/logit_loc.csv',sep=',')\n",
      "#resultsRfcLoc= pd.read_table('/Users/pagrawal/Documents/repos/ml/ExpediaPersonalizedSortCompetition-master/Submissions/rfc_loc.csv',sep=',')"
     ],
     "language": "python",
     "metadata": {},
     "outputs": []
    },
    {
     "cell_type": "code",
     "collapsed": false,
     "input": [
      "results.info()"
     ],
     "language": "python",
     "metadata": {},
     "outputs": []
    },
    {
     "cell_type": "code",
     "collapsed": false,
     "input": [
      "#ndcgScoreTestDataLogit_price=resultsLogitPrice.groupby(\"srch_id\").apply(ndcg)\n",
      "#ndcgScoreTestDataLogit_loc=resultsLogitLoc.groupby(\"srch_id\").apply(ndcg)\n",
      "#ndcgScoreTestDataRfc_price=resultsRfcPrice.groupby(\"srch_id\").apply(ndcg)\n",
      "#ndcgScoreTestDataRfc_loc=resultsRfcLoc.groupby(\"srch_id\").apply(ndcg)\n",
      "#ndcg_results=results.groupby(\"srch_id\").apply(ndcg)\n",
      "np.mean(results.groupby(\"srch_id\").apply(bp))\n"
     ],
     "language": "python",
     "metadata": {},
     "outputs": []
    },
    {
     "cell_type": "code",
     "collapsed": false,
     "input": [
      "np.mean(list(ndcg_results.dropna()))"
     ],
     "language": "python",
     "metadata": {},
     "outputs": []
    },
    {
     "cell_type": "code",
     "collapsed": false,
     "input": [
      "resultsLogit.describe()"
     ],
     "language": "python",
     "metadata": {},
     "outputs": []
    },
    {
     "cell_type": "code",
     "collapsed": false,
     "input": [
      "list(data_table.columns)"
     ],
     "language": "python",
     "metadata": {},
     "outputs": []
    },
    {
     "cell_type": "code",
     "collapsed": false,
     "input": [
      "np.count_nonzero(booked.visitor_hist_starrating)"
     ],
     "language": "python",
     "metadata": {},
     "outputs": []
    },
    {
     "cell_type": "code",
     "collapsed": false,
     "input": [
      "rmse = math.sqrt(np.mean((np.array(testData) - predictions)**2))"
     ],
     "language": "python",
     "metadata": {},
     "outputs": []
    },
    {
     "cell_type": "code",
     "collapsed": false,
     "input": [
      "#data_table.fillna(value=0,axis=1,inplace=True)\n",
      "zero=data_table[data_table.rounded_hist_ratings==0]\n",
      "print zero[zero.prop_starrating==0].booking_bool.describe()\n",
      "print zero[zero.prop_starrating==1].booking_bool.describe()\n",
      "print zero[zero.prop_starrating==2].booking_bool.describe()\n",
      "print zero[zero.prop_starrating==3].booking_bool.describe()\n",
      "print zero[zero.prop_starrating==4].booking_bool.describe()\n",
      "print zero[zero.prop_starrating==5].booking_bool.describe()"
     ],
     "language": "python",
     "metadata": {},
     "outputs": []
    },
    {
     "cell_type": "code",
     "collapsed": false,
     "input": [
      "a= [1,2,3,4]\n",
      "b= ['a','b','c','d']\n",
      "cd = pd.DataFrame()\n",
      "cd['letter'] = b\n",
      "cd ['value'] = a\n",
      "#print cd\n",
      "cd[cd.value == cd.value.max()].letter   "
     ],
     "language": "python",
     "metadata": {},
     "outputs": []
    },
    {
     "cell_type": "code",
     "collapsed": false,
     "input": [
      "time.strftime(\"%H:%M:%S\")"
     ],
     "language": "python",
     "metadata": {},
     "outputs": []
    },
    {
     "cell_type": "code",
     "collapsed": false,
     "input": [
      "print (time.strftime(\"%d/%m/%Y\"))"
     ],
     "language": "python",
     "metadata": {},
     "outputs": []
    },
    {
     "cell_type": "code",
     "collapsed": false,
     "input": [
      "subset = data_table[data_table.visitor_location_country_id != 219]\n",
      "subset = subset[subset.prop_country_id != 219]\n",
      "#subset.to_csv('dataForNonUSBookings.csv',sep=',')"
     ],
     "language": "python",
     "metadata": {},
     "outputs": []
    },
    {
     "cell_type": "code",
     "collapsed": false,
     "input": [
      "subset.drop(['Unnamed: 0',\n",
      "                 #'srch_day_of_week',\n",
      "                 #'srch_isWeekday',\n",
      "                 #'isDomestic',\n",
      "                 #'relative_price_usd',\n",
      "                 #'relative_gross_bookings_usd',\n",
      "                 #'relative_visitor_hist_adr_usd'\n",
      "                 ], axis=1, inplace=True)\n",
      "subset.to_csv('dataForNonUSBookings.csv',sep=',')"
     ],
     "language": "python",
     "metadata": {},
     "outputs": []
    },
    {
     "cell_type": "code",
     "collapsed": false,
     "input": [
      "pickle_path = '/Users/pagrawal/Documents/repos/ml/ExpediaPersonalizedSortCompetition-master/PythonBenchmark/tests/dataWithRelevanceScore_1234_0.8_0.5_0.0001/models.pickle'\n",
      "classifier = pickle.load(open(pickle_path))\n"
     ],
     "language": "python",
     "metadata": {},
     "outputs": [],
     "prompt_number": 2
    },
    {
     "cell_type": "code",
     "collapsed": false,
     "input": [
      "Y = np.array([0.34537636, 0.39252337, 0.76523763])\n",
      "Y = Y/ Y.sum(axis=0)\n",
      "Y = Y[:, np.newaxis]\n",
      "T = np.ndarray([3,2])"
     ],
     "language": "python",
     "metadata": {},
     "outputs": [],
     "prompt_number": 43
    },
    {
     "cell_type": "code",
     "collapsed": false,
     "input": [
      "loss = -(T * np.log(Y)).sum()"
     ],
     "language": "python",
     "metadata": {},
     "outputs": [],
     "prompt_number": 45
    },
    {
     "cell_type": "code",
     "collapsed": false,
     "input": [
      "def log_loss(act, pred):\n",
      "    epsilon = 1e-15\n",
      "    pred = sp.maximum(epsilon, pred)\n",
      "    pred = sp.minimum(1-epsilon, pred)\n",
      "    ll = sum(act*sp.log(pred.astype(float)) + sp.subtract(1,act)*sp.log(sp.subtract(1,pred.astype(float))))\n",
      "    ll = ll * -1.0/len(act)\n",
      "    return ll"
     ],
     "language": "python",
     "metadata": {},
     "outputs": [],
     "prompt_number": 2
    },
    {
     "cell_type": "code",
     "collapsed": false,
     "input": [],
     "language": "python",
     "metadata": {},
     "outputs": []
    },
    {
     "cell_type": "raw",
     "metadata": {},
     "source": []
    }
   ],
   "metadata": {}
  }
 ]
}