{
 "metadata": {
  "name": "",
  "signature": "sha256:9bacca21790eaae820096aa271596f7adf72c1e776ee78007cb0bc05dc5e08e6"
 },
 "nbformat": 3,
 "nbformat_minor": 0,
 "worksheets": [
  {
   "cells": [
    {
     "cell_type": "code",
     "collapsed": false,
     "input": [
      "%load_ext rmagic"
     ],
     "language": "python",
     "metadata": {},
     "outputs": [],
     "prompt_number": 2
    },
    {
     "cell_type": "code",
     "collapsed": false,
     "input": [
      "%%R\n",
      "Linear.Model.Data<-read.csv(file=\"/Users/pagrawal/Documents/Personal/OneDrive/Documents/MS-A/LinearAndNonLinearModels/Assignments/I/Week1_Homework_Project_Data.csv\", header=TRUE, sep=\",\")"
     ],
     "language": "python",
     "metadata": {},
     "outputs": [],
     "prompt_number": 5
    },
    {
     "cell_type": "code",
     "collapsed": false,
     "input": [
      "%%R\n",
      "Linear.Model.Data[1:10,]"
     ],
     "language": "python",
     "metadata": {},
     "outputs": [
      {
       "metadata": {},
       "output_type": "display_data",
       "text": [
        "      Output   Input1   Input2       Input3\n",
        "1   5.451630 1.875976 2.721764 -0.011754874\n",
        "2   4.544792 1.713108 2.570596  0.007136568\n",
        "3   5.345051 2.804193 4.700366  0.056975906\n",
        "4  11.239833 3.895376 6.863106 -0.103290465\n",
        "5  10.055252 3.694171 6.405116 -0.142105913\n",
        "6   1.720138 1.104742 1.203397  0.241145841\n",
        "7   9.010973 2.947958 4.968758 -0.059639593\n",
        "8   5.860532 2.743866 4.545334  0.048181014\n",
        "9  13.368089 4.595102 8.226541 -0.189332876\n",
        "10 10.193232 3.639261 6.228819 -0.074765940\n"
       ]
      }
     ],
     "prompt_number": 6
    },
    {
     "cell_type": "code",
     "collapsed": false,
     "input": [
      "%%R\n",
      "Linear.Model.Data.Frame<-as.data.frame(Linear.Model.Data)"
     ],
     "language": "python",
     "metadata": {},
     "outputs": [],
     "prompt_number": 7
    },
    {
     "cell_type": "code",
     "collapsed": false,
     "input": [
      "%%R\n",
      "Linear.Model.Data.lm<-lm(Output~Input1+Input2+Input3,data=Linear.Model.Data.Frame)\n",
      "Linear.Model.Data.glm<-glm(Output~Input1+Input2+Input3,family=gaussian(link=\"identity\"),data=Linear.Model.Data.Frame)"
     ],
     "language": "python",
     "metadata": {},
     "outputs": [],
     "prompt_number": 8
    },
    {
     "cell_type": "code",
     "collapsed": false,
     "input": [
      "%%R\n",
      "names(Linear.Model.Data.lm)"
     ],
     "language": "python",
     "metadata": {},
     "outputs": [
      {
       "metadata": {},
       "output_type": "display_data",
       "text": [
        " [1] \"coefficients\"  \"residuals\"     \"effects\"       \"rank\"         \n",
        " [5] \"fitted.values\" \"assign\"        \"qr\"            \"df.residual\"  \n",
        " [9] \"xlevels\"       \"call\"          \"terms\"         \"model\"        \n"
       ]
      }
     ],
     "prompt_number": 9
    },
    {
     "cell_type": "code",
     "collapsed": false,
     "input": [
      "%%R\n",
      "names(Linear.Model.Data.glm)"
     ],
     "language": "python",
     "metadata": {},
     "outputs": [
      {
       "metadata": {},
       "output_type": "display_data",
       "text": [
        " [1] \"coefficients\"      \"residuals\"         \"fitted.values\"    \n",
        " [4] \"effects\"           \"R\"                 \"rank\"             \n",
        " [7] \"qr\"                \"family\"            \"linear.predictors\"\n",
        "[10] \"deviance\"          \"aic\"               \"null.deviance\"    \n",
        "[13] \"iter\"              \"weights\"           \"prior.weights\"    \n",
        "[16] \"df.residual\"       \"df.null\"           \"y\"                \n",
        "[19] \"converged\"         \"boundary\"          \"model\"            \n",
        "[22] \"call\"              \"formula\"           \"terms\"            \n",
        "[25] \"data\"              \"offset\"            \"control\"          \n",
        "[28] \"method\"            \"contrasts\"         \"xlevels\"          \n"
       ]
      }
     ],
     "prompt_number": 10
    },
    {
     "cell_type": "code",
     "collapsed": false,
     "input": [
      "%%R\n",
      "summary(Linear.Model.Data.lm)\n"
     ],
     "language": "python",
     "metadata": {},
     "outputs": [
      {
       "metadata": {},
       "output_type": "display_data",
       "text": [
        "\n",
        "Call:\n",
        "lm(formula = Output ~ Input1 + Input2 + Input3, data = Linear.Model.Data.Frame)\n",
        "\n",
        "Residuals:\n",
        "    Min      1Q  Median      3Q     Max \n",
        "-3.4384 -0.8355  0.0354  0.8174  3.7067 \n",
        "\n",
        "Coefficients:\n",
        "            Estimate Std. Error t value Pr(>|t|)    \n",
        "(Intercept)  -2.3070     0.5617  -4.108 4.68e-05 ***\n",
        "Input1        2.3842     1.0733   2.221   0.0268 *  \n",
        "Input2        0.6476     0.5341   1.212   0.2259    \n",
        "Input3        0.6869     0.5339   1.286   0.1989    \n",
        "---\n",
        "Signif. codes:  0 \u2018***\u2019 0.001 \u2018**\u2019 0.01 \u2018*\u2019 0.05 \u2018.\u2019 0.1 \u2018 \u2019 1\n",
        "\n",
        "Residual standard error: 1.237 on 496 degrees of freedom\n",
        "Multiple R-squared:   0.95,\tAdjusted R-squared:  0.9497 \n",
        "F-statistic:  3143 on 3 and 496 DF,  p-value: < 2.2e-16\n",
        "\n"
       ]
      }
     ],
     "prompt_number": 11
    },
    {
     "cell_type": "code",
     "collapsed": false,
     "input": [
      "%%R\n",
      "summary(Linear.Model.Data.glm)\n"
     ],
     "language": "python",
     "metadata": {},
     "outputs": [
      {
       "metadata": {},
       "output_type": "display_data",
       "text": [
        "\n",
        "Call:\n",
        "glm(formula = Output ~ Input1 + Input2 + Input3, family = gaussian(link = \"identity\"), \n",
        "    data = Linear.Model.Data.Frame)\n",
        "\n",
        "Deviance Residuals: \n",
        "    Min       1Q   Median       3Q      Max  \n",
        "-3.4384  -0.8355   0.0354   0.8174   3.7067  \n",
        "\n",
        "Coefficients:\n",
        "            Estimate Std. Error t value Pr(>|t|)    \n",
        "(Intercept)  -2.3070     0.5617  -4.108 4.68e-05 ***\n",
        "Input1        2.3842     1.0733   2.221   0.0268 *  \n",
        "Input2        0.6476     0.5341   1.212   0.2259    \n",
        "Input3        0.6869     0.5339   1.286   0.1989    \n",
        "---\n",
        "Signif. codes:  0 \u2018***\u2019 0.001 \u2018**\u2019 0.01 \u2018*\u2019 0.05 \u2018.\u2019 0.1 \u2018 \u2019 1\n",
        "\n",
        "(Dispersion parameter for gaussian family taken to be 1.530141)\n",
        "\n",
        "    Null deviance: 15187.73  on 499  degrees of freedom\n",
        "Residual deviance:   758.95  on 496  degrees of freedom\n",
        "AIC: 1637.6\n",
        "\n",
        "Number of Fisher Scoring iterations: 2\n",
        "\n"
       ]
      }
     ],
     "prompt_number": 12
    },
    {
     "cell_type": "heading",
     "level": 2,
     "metadata": {},
     "source": [
      "Comparing Model Objects"
     ]
    },
    {
     "cell_type": "heading",
     "level": 4,
     "metadata": {},
     "source": [
      "1. coefficients"
     ]
    },
    {
     "cell_type": "code",
     "collapsed": false,
     "input": [
      "%%R\n",
      "cbind(Output.LM=Linear.Model.Data.lm$coefficients,Output.GLM=Linear.Model.Data.glm$coefficients)\n"
     ],
     "language": "python",
     "metadata": {},
     "outputs": [
      {
       "metadata": {},
       "output_type": "display_data",
       "text": [
        "             Output.LM Output.GLM\n",
        "(Intercept) -2.3070078 -2.3070078\n",
        "Input1       2.3841593  2.3841593\n",
        "Input2       0.6475835  0.6475835\n",
        "Input3       0.6868760  0.6868760\n"
       ]
      }
     ],
     "prompt_number": 13
    },
    {
     "cell_type": "heading",
     "level": 4,
     "metadata": {},
     "source": [
      "2. Residuals"
     ]
    },
    {
     "cell_type": "code",
     "collapsed": false,
     "input": [
      "%%R\n",
      "cbind(Output.LM=Linear.Model.Data.lm$residuals,Output.GLM=Linear.Model.Data.glm$residuals)[1:10,]\n"
     ],
     "language": "python",
     "metadata": {},
     "outputs": [
      {
       "metadata": {},
       "output_type": "display_data",
       "text": [
        "    Output.LM Output.GLM\n",
        "1   1.5315163  1.5315163\n",
        "2   1.0978996  1.0978996\n",
        "3  -2.1165984 -2.1165984\n",
        "4  -0.1138431 -0.1138431\n",
        "5  -0.4954720 -0.4954720\n",
        "6   0.4483285  0.4483285\n",
        "7   1.1128582  1.1128582\n",
        "8  -1.3508509 -1.3508509\n",
        "9  -0.4776822 -0.4776822\n",
        "10 -0.1586622 -0.1586622\n"
       ]
      }
     ],
     "prompt_number": 14
    },
    {
     "cell_type": "code",
     "collapsed": false,
     "input": [
      "%%R\n",
      "(Linear.Model.Data.lm$residuals==Linear.Model.Data.glm$residuals)[1:10]\n"
     ],
     "language": "python",
     "metadata": {},
     "outputs": [
      {
       "metadata": {},
       "output_type": "display_data",
       "text": [
        "    1     2     3     4     5     6     7     8     9    10 \n",
        "FALSE FALSE FALSE FALSE FALSE FALSE FALSE FALSE FALSE FALSE \n"
       ]
      }
     ],
     "prompt_number": 15
    },
    {
     "cell_type": "code",
     "collapsed": false,
     "input": [
      "%%R\n",
      "sum(abs(Linear.Model.Data.lm$residuals-Linear.Model.Data.glm$residuals)>.00000000001)\n"
     ],
     "language": "python",
     "metadata": {},
     "outputs": [
      {
       "metadata": {},
       "output_type": "display_data",
       "text": [
        "[1] 0\n"
       ]
      }
     ],
     "prompt_number": 16
    },
    {
     "cell_type": "code",
     "collapsed": false,
     "input": [
      "%%R\n",
      " # Types of residuals\n",
      "Different.Residuals<-cbind(Linear.Model.Data.lm$residuals,resid(Linear.Model.Data.glm,type=\"deviance\"),resid(Linear.Model.Data.glm,type=\"pearson\"),resid(Linear.Model.Data.glm,type=\"working\"),resid(Linear.Model.Data.glm,type=\"response\"),Linear.Model.Data.glm$residuals)\n",
      "Different.Residuals[1:10,]\n",
      " "
     ],
     "language": "python",
     "metadata": {},
     "outputs": [
      {
       "metadata": {},
       "output_type": "display_data",
       "text": [
        "         [,1]       [,2]       [,3]       [,4]       [,5]       [,6]\n",
        "1   1.5315163  1.5315163  1.5315163  1.5315163  1.5315163  1.5315163\n",
        "2   1.0978996  1.0978996  1.0978996  1.0978996  1.0978996  1.0978996\n",
        "3  -2.1165984 -2.1165984 -2.1165984 -2.1165984 -2.1165984 -2.1165984\n",
        "4  -0.1138431 -0.1138431 -0.1138431 -0.1138431 -0.1138431 -0.1138431\n",
        "5  -0.4954720 -0.4954720 -0.4954720 -0.4954720 -0.4954720 -0.4954720\n",
        "6   0.4483285  0.4483285  0.4483285  0.4483285  0.4483285  0.4483285\n",
        "7   1.1128582  1.1128582  1.1128582  1.1128582  1.1128582  1.1128582\n",
        "8  -1.3508509 -1.3508509 -1.3508509 -1.3508509 -1.3508509 -1.3508509\n",
        "9  -0.4776822 -0.4776822 -0.4776822 -0.4776822 -0.4776822 -0.4776822\n",
        "10 -0.1586622 -0.1586622 -0.1586622 -0.1586622 -0.1586622 -0.1586622\n"
       ]
      }
     ],
     "prompt_number": 17
    },
    {
     "cell_type": "code",
     "collapsed": false,
     "input": [
      "%%R\n",
      "apply(Different.Residuals[,-1],2,function(column.vector) sum(abs(column.vector-Different.Residuals[,1])))\n"
     ],
     "language": "python",
     "metadata": {},
     "outputs": [
      {
       "metadata": {},
       "output_type": "display_data",
       "text": [
        "[1] 5.711848e-12 5.711848e-12 5.711848e-12 5.711848e-12 5.711848e-12\n"
       ]
      }
     ],
     "prompt_number": 18
    },
    {
     "cell_type": "heading",
     "level": 4,
     "metadata": {},
     "source": [
      "3. fitted values"
     ]
    },
    {
     "cell_type": "code",
     "collapsed": false,
     "input": [
      "%%R\n",
      "(Linear.Model.Data.lm$fitted.values==Linear.Model.Data.glm$fitted.values)[1:10]\n"
     ],
     "language": "python",
     "metadata": {},
     "outputs": [
      {
       "metadata": {},
       "output_type": "display_data",
       "text": [
        "    1     2     3     4     5     6     7     8     9    10 \n",
        "FALSE FALSE FALSE FALSE FALSE FALSE FALSE FALSE FALSE FALSE \n"
       ]
      }
     ],
     "prompt_number": 19
    },
    {
     "cell_type": "code",
     "collapsed": false,
     "input": [
      "%%R\n",
      "sum(abs(Linear.Model.Data.lm$fitted.values-Linear.Model.Data.glm$fitted.values))\n"
     ],
     "language": "python",
     "metadata": {},
     "outputs": [
      {
       "metadata": {},
       "output_type": "display_data",
       "text": [
        "[1] 5.684675e-12\n"
       ]
      }
     ],
     "prompt_number": 20
    },
    {
     "cell_type": "heading",
     "level": 4,
     "metadata": {},
     "source": [
      "4. linear predictors"
     ]
    },
    {
     "cell_type": "code",
     "collapsed": false,
     "input": [
      "%%R\n",
      "sum(abs(Linear.Model.Data.lm$fitted.values-Linear.Model.Data.glm$linear.predictors))\n"
     ],
     "language": "python",
     "metadata": {},
     "outputs": [
      {
       "metadata": {},
       "output_type": "display_data",
       "text": [
        "[1] 5.684675e-12\n"
       ]
      }
     ],
     "prompt_number": 21
    },
    {
     "cell_type": "heading",
     "level": 4,
     "metadata": {},
     "source": [
      "5. deviance"
     ]
    },
    {
     "cell_type": "heading",
     "level": 5,
     "metadata": {},
     "source": [
      "Code for Log Likelihood"
     ]
    },
    {
     "cell_type": "code",
     "collapsed": false,
     "input": [
      "%%R\n",
      "LL <- function(param_vector,sample) {\n",
      "    len_sample <- length(sample)\n",
      "    part1 <- -1*(len_sample/2)*log(2*pi*param_vector[2])\n",
      "    part2 <- -1*(1/(2*param_vector[2])*sum((sample-param_vector[1])^2))\n",
      "    return (part1+part2)\n",
      "}"
     ],
     "language": "python",
     "metadata": {},
     "outputs": [],
     "prompt_number": 64
    },
    {
     "cell_type": "code",
     "collapsed": false,
     "input": [
      "%%R\n",
      "# SSE vs. Deviance\n",
      "c(From.GLM=Linear.Model.Data.glm$deviance,From.LM=sum(Linear.Model.Data.lm$residuals^2),Function.Deviance=deviance(Linear.Model.Data.lm))"
     ],
     "language": "python",
     "metadata": {},
     "outputs": [
      {
       "metadata": {},
       "output_type": "display_data",
       "text": [
        "         From.GLM           From.LM Function.Deviance \n",
        "         758.9499          758.9499          758.9499 \n"
       ]
      }
     ],
     "prompt_number": 22
    },
    {
     "cell_type": "heading",
     "level": 4,
     "metadata": {},
     "source": [
      "6. akaike information criterion"
     ]
    },
    {
     "cell_type": "heading",
     "level": 5,
     "metadata": {},
     "source": [
      "Code for calculating AIC manually"
     ]
    },
    {
     "cell_type": "code",
     "collapsed": false,
     "input": [
      "%%R\n",
      "aic_func <- function(linearModel,coeffiecients,sample) {\n",
      "return ((-2*LL(c(linearModel[1],linearModel[2]),sample))+(2*(length(coeffiecients))))\n",
      "}\n",
      "param_vector <- c(mean(Linear.Model.Data.lm$residuals),var(Linear.Model.Data.lm$residuals))\n",
      "aic_func(param_vector,Linear.Model.Data.lm$coefficients,unlist(Linear.Model.Data.lm$residuals))"
     ],
     "language": "python",
     "metadata": {},
     "outputs": [
      {
       "metadata": {},
       "output_type": "display_data",
       "text": [
        "[1] 1635.603\n"
       ]
      }
     ],
     "prompt_number": 65
    },
    {
     "cell_type": "code",
     "collapsed": false,
     "input": [
      "%%R\n",
      "From.AIC.Function<-AIC(Linear.Model.Data.lm)\n",
      "AIC.From.glm<-Linear.Model.Data.glm$aic\n",
      "c(From.AIC.Function,AIC.From.glm)"
     ],
     "language": "python",
     "metadata": {},
     "outputs": [
      {
       "metadata": {},
       "output_type": "display_data",
       "text": [
        "[1] 1637.602 1637.602\n"
       ]
      }
     ],
     "prompt_number": 23
    },
    {
     "cell_type": "heading",
     "level": 4,
     "metadata": {},
     "source": [
      "7. output"
     ]
    },
    {
     "cell_type": "code",
     "collapsed": false,
     "input": [
      "%%R\n",
      "sum(abs(Linear.Model.Data[,1]-Linear.Model.Data.glm$y))\n"
     ],
     "language": "python",
     "metadata": {},
     "outputs": [
      {
       "metadata": {},
       "output_type": "display_data",
       "text": [
        "[1] 0\n"
       ]
      }
     ],
     "prompt_number": 24
    },
    {
     "cell_type": "heading",
     "level": 4,
     "metadata": {},
     "source": [
      "8. null.deviance"
     ]
    },
    {
     "cell_type": "code",
     "collapsed": false,
     "input": [
      "%%R\n",
      " Linear.Model.Data.Null.lm<-lm(Output~1,data=Linear.Model.Data)\n",
      "Linear.Model.Data.Null.lm.SSE<-sum(Linear.Model.Data.Null.lm$residuals^2)\n",
      "c(Null.SSE.lm=Linear.Model.Data.Null.lm.SSE,Null.Deviance.glm=Linear.Model.Data.glm$null.deviance)\n",
      " "
     ],
     "language": "python",
     "metadata": {},
     "outputs": [
      {
       "metadata": {},
       "output_type": "display_data",
       "text": [
        "      Null.SSE.lm Null.Deviance.glm \n",
        "         15187.73          15187.73 \n"
       ]
      }
     ],
     "prompt_number": 25
    },
    {
     "cell_type": "heading",
     "level": 4,
     "metadata": {},
     "source": [
      "9. dispersion"
     ]
    },
    {
     "cell_type": "code",
     "collapsed": false,
     "input": [],
     "language": "python",
     "metadata": {},
     "outputs": []
    },
    {
     "cell_type": "heading",
     "level": 4,
     "metadata": {},
     "source": [
      "10. the saturated model and the null model: log-likelihood functions and aic."
     ]
    },
    {
     "cell_type": "code",
     "collapsed": false,
     "input": [
      "%%R\n",
      "Null.Log.Likelihood.logLik<-logLik(Linear.Model.Data.Null.lm)\n",
      "Null.AIC<-AIC(Linear.Model.Data.Null.lm)\n",
      " "
     ],
     "language": "python",
     "metadata": {},
     "outputs": [],
     "prompt_number": 27
    },
    {
     "cell_type": "code",
     "collapsed": false,
     "input": [
      "%%R\n",
      "Log.Likelihood.Null<-Manual.Log.Likelihood(Linear.Model.Data.Null.lm)\n"
     ],
     "language": "python",
     "metadata": {},
     "outputs": [
      {
       "output_type": "stream",
       "stream": "stdout",
       "text": [
        "Error in withVisible({ : could not find function \"Manual.Log.Likelihood\"\n"
       ]
      }
     ],
     "prompt_number": 28
    },
    {
     "cell_type": "code",
     "collapsed": false,
     "input": [
      "%%R\n",
      "AIC.Manual.Null<-(-2*(Log.Likelihood.Null)+2*(Linear.Model.Data.Null.lm$rank+1))\n",
      "c(AIC.Manual.Null,Null.AIC)"
     ],
     "language": "python",
     "metadata": {},
     "outputs": [
      {
       "output_type": "stream",
       "stream": "stdout",
       "text": [
        "Error in withVisible({ : object 'Log.Likelihood.Null' not found\n"
       ]
      }
     ],
     "prompt_number": 27
    },
    {
     "cell_type": "code",
     "collapsed": false,
     "input": [],
     "language": "python",
     "metadata": {},
     "outputs": []
    }
   ],
   "metadata": {}
  }
 ]
}