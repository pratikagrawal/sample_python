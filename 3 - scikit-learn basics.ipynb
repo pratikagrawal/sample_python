{
 "metadata": {
  "name": "",
  "signature": "sha256:6585322bfd55c66ca8a75d26eb3d95a21f7df9be000154afce08bc90a7d35d9e"
 },
 "nbformat": 3,
 "nbformat_minor": 0,
 "worksheets": [
  {
   "cells": [
    {
     "cell_type": "markdown",
     "metadata": {},
     "source": [
      "#Agenda\n",
      "\n",
      "- Define the problem and the approach\n",
      "- Data basics: loading data, looking at your data, basic commands\n",
      "- Handling missing values\n",
      "- <p style=\"color: red\">Intro to scikit-learn</p>\n",
      "- Grouping and aggregating data\n",
      "- Feature selection\n",
      "- Fitting and evaluating a model\n",
      "- Deploying your work"
     ]
    },
    {
     "cell_type": "markdown",
     "metadata": {},
     "source": [
      "##In this notebook you will\n",
      "\n",
      "- Take a tour of `scikit-learn` and learn what it's used for\n",
      "- Build a toy classifier\n",
      "- Make and vizualize a decision tree\n",
      "- Build your own regression model"
     ]
    },
    {
     "cell_type": "code",
     "collapsed": false,
     "input": [
      "import pandas as pd\n",
      "import numpy as np\n",
      "import pylab as pl"
     ],
     "language": "python",
     "metadata": {},
     "outputs": []
    },
    {
     "cell_type": "markdown",
     "metadata": {},
     "source": [
      "##[scikit-learn](http://scikit-learn.org/stable/)"
     ]
    },
    {
     "cell_type": "markdown",
     "metadata": {},
     "source": [
      "####Consistent APIs\n",
      "Algorithms are implemented with the same core functions:\n",
      "\n",
      "- fit = train an algorithm\n",
      "- predict = predict the value for a given record\n",
      "- predict_proba = predict the probability of all possible classes for a given record (classification only)\n",
      "- transform = alter your data based on a given preprocessor (i.e. normalize or scale your data) (preprocessing/unsuperivsed)\n",
      "- fit_transform = train a preprocessor and then transform the data in a single step (preprocessing/unsuperivsed)"
     ]
    },
    {
     "cell_type": "markdown",
     "metadata": {},
     "source": [
      "<blockquote class=\"twitter-tweet\"><p>Scikit-Learn reply to today&#39;s <a href=\"https://twitter.com/wiseio\">@wiseio</a> Random Forest benchmark: <a href=\"https://t.co/El5at9KvHS\">https://t.co/El5at9KvHS</a> \u2026 Coming soon in the next 0.14 stable release!</p>&mdash; Gilles Louppe (@glouppe) <a href=\"https://twitter.com/glouppe/statuses/357250042538622976\">July 16, 2013</a></blockquote>\n",
      "<script async src=\"//platform.twitter.com/widgets.js\" charset=\"utf-8\"></script>"
     ]
    },
    {
     "cell_type": "code",
     "collapsed": false,
     "input": [
      "from sklearn.datasets import load_iris\n",
      "\n",
      "iris = load_iris()\n",
      "df = pd.DataFrame(iris.data, columns=iris.feature_names)\n",
      "df['species'] = iris.target"
     ],
     "language": "python",
     "metadata": {},
     "outputs": []
    },
    {
     "cell_type": "code",
     "collapsed": false,
     "input": [
      "from sklearn.svm import SVC\n",
      "from sklearn.neighbors import KNeighborsClassifier"
     ],
     "language": "python",
     "metadata": {},
     "outputs": []
    },
    {
     "cell_type": "code",
     "collapsed": false,
     "input": [
      "svm_clf = SVC()\n",
      "neighbors_clf = KNeighborsClassifier()\n",
      "clfs = [\n",
      "    (\"svc\", SVC()),\n",
      "    (\"KNN\", KNeighborsClassifier())\n",
      "    ]\n",
      "for name, clf in clfs:\n",
      "    clf.fit(df[iris.feature_names], df.species)\n",
      "    print name, clf.predict(iris.data)\n",
      "    print \"*\"*80"
     ],
     "language": "python",
     "metadata": {},
     "outputs": []
    },
    {
     "cell_type": "markdown",
     "metadata": {},
     "source": [
      "####Try a [RandomForetClassifier](http://scikit-learn.org/stable/modules/ensemble.html#random-forests) (`from sklearn.ensemble import RandomForestClassifier`) and see how it does"
     ]
    },
    {
     "cell_type": "code",
     "collapsed": false,
     "input": [
      "from sklearn.ensemble import RandomForestClassifier\n",
      "clf = RandomForestClassifier()\n",
      "clf.fit(df[iris.feature_names], df.species)\n",
      "clf.predict(df[iris.feature_names])\n",
      "pd.crosstab(df.species, clf.predict(df[iris.feature_names]))"
     ],
     "language": "python",
     "metadata": {},
     "outputs": []
    },
    {
     "cell_type": "markdown",
     "metadata": {},
     "source": [
      "##A Quick Decision Tree Example\n",
      "####[more examples](http://scikit-learn.org/stable/auto_examples/index.html#decision-trees)"
     ]
    },
    {
     "cell_type": "markdown",
     "metadata": {},
     "source": [
      "####Import the decision tree library and train a classifier"
     ]
    },
    {
     "cell_type": "code",
     "collapsed": false,
     "input": [
      "from sklearn import tree\n",
      "\n",
      "clf = tree.DecisionTreeClassifier(max_features=\"auto\",\n",
      "                                  min_samples_leaf=10)\n",
      "clf.fit(df[iris.feature_names], df.species)"
     ],
     "language": "python",
     "metadata": {},
     "outputs": []
    },
    {
     "cell_type": "markdown",
     "metadata": {},
     "source": [
      "####Write the tree to a file"
     ]
    },
    {
     "cell_type": "code",
     "collapsed": false,
     "input": [
      "from sklearn.externals.six import StringIO\n",
      "with open(\"iris.dot\", 'w') as f:\n",
      "    f = tree.export_graphviz(clf, out_file=f)"
     ],
     "language": "python",
     "metadata": {},
     "outputs": []
    },
    {
     "cell_type": "markdown",
     "metadata": {},
     "source": [
      "####We're going to convert it to a .png so we can display it in the notebook"
     ]
    },
    {
     "cell_type": "code",
     "collapsed": false,
     "input": [
      "# you will need to install graphviz \n",
      "#(http://www.graphviz.org/Download..php) and pydot (pip install pydot)\n",
      "! dot -Tpng iris.dot -o iris.png"
     ],
     "language": "python",
     "metadata": {},
     "outputs": []
    },
    {
     "cell_type": "code",
     "collapsed": false,
     "input": [
      "from IPython.core.display import Image\n",
      "Image(\"iris.png\")"
     ],
     "language": "python",
     "metadata": {},
     "outputs": []
    },
    {
     "cell_type": "markdown",
     "metadata": {},
     "source": [
      "##What to do first?\n",
      "[Andy Mueller](http://peekaboo-vision.blogspot.com/) (scikit-learn contributor) put together this [cheat sheet](http://1.bp.blogspot.com/-ME24ePzpzIM/UQLWTwurfXI/AAAAAAAAANw/W3EETIroA80/s1600/drop_shadows_background.png) a few months ago which is extremely helpful."
     ]
    },
    {
     "cell_type": "code",
     "collapsed": false,
     "input": [
      "Image(url=\"http://1.bp.blogspot.com/-ME24ePzpzIM/UQLWTwurfXI/AAAAAAAAANw/W3EETIroA80/s1600/drop_shadows_background.png\",\n",
      "      width=700)"
     ],
     "language": "python",
     "metadata": {},
     "outputs": []
    },
    {
     "cell_type": "markdown",
     "metadata": {},
     "source": [
      "##Try building a linear regression model for the Boston Housing Dataset to predict Home Prices"
     ]
    },
    {
     "cell_type": "code",
     "collapsed": false,
     "input": [
      "from sklearn.datasets import load_boston\n",
      "boston = load_boston()"
     ],
     "language": "python",
     "metadata": {},
     "outputs": []
    },
    {
     "cell_type": "markdown",
     "metadata": {},
     "source": [
      "##Prep the data\n",
      "\n",
      "- Create a dataframe with the Boston data\n",
      "- snake_case/lower_case the columns\n",
      "- print to the console"
     ]
    },
    {
     "cell_type": "code",
     "collapsed": false,
     "input": [
      "import re\n",
      "\n",
      "\n",
      "def camel_to_snake(column_name):\n",
      "    \"\"\"\n",
      "    converts a string that is camelCase into snake_case\n",
      "    Example:\n",
      "        print camel_to_snake(\"javaLovesCamelCase\")\n",
      "        > java_loves_camel_case\n",
      "    See Also:\n",
      "        http://stackoverflow.com/questions/1175208/elegant-python-function-to-convert-camelcase-to-camel-case\n",
      "    \"\"\"\n",
      "    s1 = re.sub('(.)([A-Z][a-z]+)', r'\\1_\\2', column_name)\n",
      "    return re.sub('([a-z0-9])([A-Z])', r'\\1_\\2', s1).lower()\n",
      "\n",
      "df = pd.DataFrame(boston.data)\n",
      "df.columns = [camel_to_snake(col) for col in boston.feature_names[:-1]]\n",
      "# add in prices\n",
      "df['price'] = boston.target\n",
      "print len(df)==506\n",
      "df.head()"
     ],
     "language": "python",
     "metadata": {},
     "outputs": []
    },
    {
     "cell_type": "markdown",
     "metadata": {},
     "source": [
      "##Fit your model\n",
      "\n",
      "- define your features\n",
      "- create a LinearRegression\n",
      "- fit the model"
     ]
    },
    {
     "cell_type": "code",
     "collapsed": false,
     "input": [
      "from sklearn.linear_model import LinearRegression\n",
      "\n",
      "features = ['age', 'lstat', 'tax']\n",
      "lm = LinearRegression()\n",
      "lm.fit(df[features], df.price)"
     ],
     "language": "python",
     "metadata": {},
     "outputs": []
    },
    {
     "cell_type": "markdown",
     "metadata": {},
     "source": [
      "##Plot the predicted values against the actual values"
     ]
    },
    {
     "cell_type": "code",
     "collapsed": false,
     "input": [
      "# add your actual vs. predicted points\n",
      "pl.scatter(df.price, lm.predict(df[features]))\n",
      "# add the line of perfect fit\n",
      "straight_line = np.arange(0, 60)\n",
      "pl.plot(straight_line, straight_line)\n",
      "pl.title(\"Fitted Values\")"
     ],
     "language": "python",
     "metadata": {},
     "outputs": []
    },
    {
     "cell_type": "markdown",
     "metadata": {},
     "source": [
      "###Redo the model, but this time have a training/test set."
     ]
    },
    {
     "cell_type": "markdown",
     "metadata": {},
     "source": [
      "##We just did the following\n",
      "\n",
      "- Learned about `scikit-learn` and what it's used for\n",
      "- Used CART to build a decision tree classifier and visualized it\n",
      "- Built a regression model using `scikit-learn`"
     ]
    },
    {
     "cell_type": "code",
     "collapsed": false,
     "input": [],
     "language": "python",
     "metadata": {},
     "outputs": []
    }
   ],
   "metadata": {}
  }
 ]
}