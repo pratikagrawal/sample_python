{
 "metadata": {
  "name": "",
  "signature": "sha256:d8f2d30ccd64a409941cd0c0421253a723e3215b34b96461ac6fb4a34864bc13"
 },
 "nbformat": 3,
 "nbformat_minor": 0,
 "worksheets": [
  {
   "cells": [
    {
     "cell_type": "code",
     "collapsed": false,
     "input": [
      "%load_ext rmagic"
     ],
     "language": "python",
     "metadata": {},
     "outputs": [],
     "prompt_number": 2
    },
    {
     "cell_type": "code",
     "collapsed": false,
     "input": [
      "%%R\n",
      "data<-read.csv(file=\"/Users/pagrawal/Documents/Personal/OneDrive/Documents/MS-A/LinearAndNonLinearModels/Assignments/V/MeaslesImmunizationCoverageAndOutbreaks.csv\", header=TRUE , sep=\",\")"
     ],
     "language": "python",
     "metadata": {},
     "outputs": [],
     "prompt_number": 4
    },
    {
     "cell_type": "code",
     "collapsed": false,
     "input": [
      "%%R\n",
      "data_measles<-as.data.frame(data)\n",
      "head(data_measles)"
     ],
     "language": "python",
     "metadata": {},
     "outputs": [
      {
       "metadata": {},
       "output_type": "display_data",
       "text": [
        "       Region Coverage Outbreaks\n",
        "1 US National    0.901       124\n",
        "2     Alabama    0.890       114\n",
        "3      Alaska    0.883       129\n",
        "4     Arizona    0.880       122\n",
        "5    Arkansas    0.873       131\n",
        "6  California    0.896       135\n"
       ]
      }
     ],
     "prompt_number": 5
    },
    {
     "cell_type": "code",
     "collapsed": false,
     "input": [
      "%%R\n",
      "data_measles_pm<-glm(Outbreaks~Coverage,family=poisson,data=data_measles)"
     ],
     "language": "python",
     "metadata": {},
     "outputs": [],
     "prompt_number": 14
    },
    {
     "cell_type": "code",
     "collapsed": false,
     "input": [
      "%%R\n",
      "names(data_measles_pm)"
     ],
     "language": "python",
     "metadata": {},
     "outputs": [
      {
       "metadata": {},
       "output_type": "display_data",
       "text": [
        " [1] \"coefficients\"      \"residuals\"         \"fitted.values\"    \n",
        " [4] \"effects\"           \"R\"                 \"rank\"             \n",
        " [7] \"qr\"                \"family\"            \"linear.predictors\"\n",
        "[10] \"deviance\"          \"aic\"               \"null.deviance\"    \n",
        "[13] \"iter\"              \"weights\"           \"prior.weights\"    \n",
        "[16] \"df.residual\"       \"df.null\"           \"y\"                \n",
        "[19] \"converged\"         \"boundary\"          \"model\"            \n",
        "[22] \"call\"              \"formula\"           \"terms\"            \n",
        "[25] \"data\"              \"offset\"            \"control\"          \n",
        "[28] \"method\"            \"contrasts\"         \"xlevels\"          \n"
       ]
      }
     ],
     "prompt_number": 7
    },
    {
     "cell_type": "code",
     "collapsed": false,
     "input": [
      "%%R\n",
      "data_measles_pm$linear.predictors"
     ],
     "language": "python",
     "metadata": {},
     "outputs": [
      {
       "metadata": {},
       "output_type": "display_data",
       "text": [
        "       1        2        3        4        5        6        7        8 \n",
        "4.806506 4.815117 4.820597 4.822945 4.828425 4.810420 4.853476 4.806506 \n",
        "       9       10       11       12       13       14       15       16 \n",
        "4.773626 4.767364 4.798677 4.798677 4.786935 4.817465 4.808854 4.794763 \n",
        "      17       18       19       20       21       22       23       24 \n",
        "4.784586 4.811985 4.834688 4.836254 4.809637 4.773626 4.763449 4.833905 \n",
        "      25       26       27       28       29       30       31       32 \n",
        "4.806506 4.803374 4.815900 4.845648 4.796329 4.818248 4.768146 4.790066 \n",
        "      33       34       35       36       37       38       39       40 \n",
        "4.830774 4.783020 4.761884 4.821380 4.851910 4.829208 4.833122 4.786935 \n",
        "      41       42       43       44       45       46       47       48 \n",
        "4.763449 4.822945 4.796329 4.819814 4.794763 4.790849 4.814334 4.848779 \n",
        "      49       50       51       52       53       54 \n",
        "4.809637 4.878527 4.801809 4.817465 4.872264 5.079717 \n"
       ]
      }
     ],
     "prompt_number": 8
    },
    {
     "cell_type": "code",
     "collapsed": false,
     "input": [
      "%%R\n",
      "rbind(data_measles$Outbreaks,data_measles_pm$fitted.values)"
     ],
     "language": "python",
     "metadata": {},
     "outputs": [
      {
       "metadata": {},
       "output_type": "display_data",
       "text": [
        "            1        2        3        4        5        6        7        8\n",
        "[1,] 124.0000 114.0000 129.0000 122.0000 131.0000 135.0000 143.0000 118.0000\n",
        "[2,] 122.3035 123.3612 124.0391 124.3307 125.0139 122.7831 128.1852 122.3035\n",
        "            9       10       11       12       13       14       15       16\n",
        "[1,] 115.0000 123.0000 135.0000 124.0000 110.0000 126.0000 120.0000 107.0000\n",
        "[2,] 118.3476 117.6088 121.3498 121.3498 119.9332 123.6513 122.5911 120.8757\n",
        "           17       18       19       20       21       22       23       24\n",
        "[1,] 128.0000 117.0000 120.0000 124.0000 135.0000 114.0000 128.0000 130.0000\n",
        "[2,] 119.6518 122.9755 125.7993 125.9964 122.6871 118.3476 117.1493 125.7009\n",
        "           25       26       27       28       29       30       31       32\n",
        "[1,] 125.0000 134.0000 131.0000 128.0000 125.0000 127.0000 127.0000 108.0000\n",
        "[2,] 122.3035 121.9211 123.4578 127.1856 121.0651 123.7481 117.7009 120.3093\n",
        "           33       34      35       36       37       38       39       40\n",
        "[1,] 116.0000 121.0000 112.000 139.0000 144.0000 118.0000 134.0000  99.0000\n",
        "[2,] 125.3079 119.4646 116.966 124.1362 127.9847 125.1118 125.6025 119.9332\n",
        "           41       42       43      44       45       46       47       48\n",
        "[1,] 127.0000 118.0000 116.0000  97.000 120.0000 117.0000 114.0000 127.0000\n",
        "[2,] 117.1493 124.3307 121.0651 123.942 120.8757 120.4035 123.2647 127.5845\n",
        "           49       50       51       52       53       54\n",
        "[1,] 113.0000 137.0000 129.0000 115.0000 118.0000 160.0000\n",
        "[2,] 122.6871 131.4369 121.7304 123.6513 130.6163 160.7286\n"
       ]
      }
     ],
     "prompt_number": 9
    },
    {
     "cell_type": "code",
     "collapsed": false,
     "input": [
      "%%R\n",
      "log(data_measles_pm$fitted.values)"
     ],
     "language": "python",
     "metadata": {},
     "outputs": [
      {
       "metadata": {},
       "output_type": "display_data",
       "text": [
        "       1        2        3        4        5        6        7        8 \n",
        "4.806506 4.815117 4.820597 4.822945 4.828425 4.810420 4.853476 4.806506 \n",
        "       9       10       11       12       13       14       15       16 \n",
        "4.773626 4.767364 4.798677 4.798677 4.786935 4.817465 4.808854 4.794763 \n",
        "      17       18       19       20       21       22       23       24 \n",
        "4.784586 4.811985 4.834688 4.836254 4.809637 4.773626 4.763449 4.833905 \n",
        "      25       26       27       28       29       30       31       32 \n",
        "4.806506 4.803374 4.815900 4.845648 4.796329 4.818248 4.768146 4.790066 \n",
        "      33       34       35       36       37       38       39       40 \n",
        "4.830774 4.783020 4.761884 4.821380 4.851910 4.829208 4.833122 4.786935 \n",
        "      41       42       43       44       45       46       47       48 \n",
        "4.763449 4.822945 4.796329 4.819814 4.794763 4.790849 4.814334 4.848779 \n",
        "      49       50       51       52       53       54 \n",
        "4.809637 4.878527 4.801809 4.817465 4.872264 5.079717 \n"
       ]
      }
     ],
     "prompt_number": 10
    },
    {
     "cell_type": "code",
     "collapsed": false,
     "input": [
      "%%R\n",
      "(exp(data_measles_pm$coef[2]*.01))*100"
     ],
     "language": "python",
     "metadata": {},
     "outputs": [
      {
       "metadata": {},
       "output_type": "display_data",
       "text": [
        "Coverage \n",
        "99.22022 \n"
       ]
      }
     ],
     "prompt_number": 11
    },
    {
     "cell_type": "code",
     "collapsed": false,
     "input": [
      "%%R\n",
      "(1-exp(data_measles_pm$coef[2]*.01))*100"
     ],
     "language": "python",
     "metadata": {},
     "outputs": [
      {
       "metadata": {},
       "output_type": "display_data",
       "text": [
        " Coverage \n",
        "0.7797844 \n"
       ]
      }
     ],
     "prompt_number": 12
    },
    {
     "cell_type": "heading",
     "level": 4,
     "metadata": {},
     "source": [
      "With a 1% increase in coverage the intensity of outbreak would reduce by 0.7798%"
     ]
    },
    {
     "cell_type": "code",
     "collapsed": false,
     "input": [
      "%%R\n",
      "library(MASS)\n",
      "data_measles_nbm <- glm.nb(Outbreaks~Coverage,data=data_measles)"
     ],
     "language": "python",
     "metadata": {},
     "outputs": [],
     "prompt_number": 15
    },
    {
     "cell_type": "code",
     "collapsed": false,
     "input": [
      "%%R\n",
      "data_measles_nbm$coefficients"
     ],
     "language": "python",
     "metadata": {},
     "outputs": [
      {
       "metadata": {},
       "output_type": "display_data",
       "text": [
        "(Intercept)    Coverage \n",
        "  5.5118449  -0.7828406 \n"
       ]
      }
     ],
     "prompt_number": 16
    },
    {
     "cell_type": "code",
     "collapsed": false,
     "input": [
      "%%R\n",
      "sum(data_measles_nbm$fitted.values-data_measles_pm$fitted.values)"
     ],
     "language": "python",
     "metadata": {},
     "outputs": [
      {
       "metadata": {},
       "output_type": "display_data",
       "text": [
        "[1] -1.25839e-07\n"
       ]
      }
     ],
     "prompt_number": 17
    },
    {
     "cell_type": "heading",
     "level": 4,
     "metadata": {},
     "source": [
      "The difference between the fitted values of the two models is very small, which leads us to the conclusion that the fitted values of the two models are approximately the same."
     ]
    },
    {
     "cell_type": "code",
     "collapsed": false,
     "input": [
      "%%R\n",
      "(exp(data_measles_nbm$coef[2]*.01))*10"
     ],
     "language": "python",
     "metadata": {},
     "outputs": [
      {
       "metadata": {},
       "output_type": "display_data",
       "text": [
        "Coverage \n",
        "9.922022 \n"
       ]
      }
     ],
     "prompt_number": 18
    },
    {
     "cell_type": "code",
     "collapsed": false,
     "input": [
      "%%R\n",
      "(1-exp(data_measles_nbm$coef[2]*.01))*100"
     ],
     "language": "python",
     "metadata": {},
     "outputs": [
      {
       "metadata": {},
       "output_type": "display_data",
       "text": [
        " Coverage \n",
        "0.7797844 \n"
       ]
      }
     ],
     "prompt_number": 19
    },
    {
     "cell_type": "heading",
     "level": 4,
     "metadata": {},
     "source": [
      "This result is the same as that of the Poisson model, whereby a 1% increase in coverage will lead to a 0.7798% reduction in the intensity of the outbreak."
     ]
    }
   ],
   "metadata": {}
  }
 ]
}