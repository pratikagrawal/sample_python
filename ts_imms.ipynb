{
 "metadata": {
  "name": "",
  "signature": "sha256:7bec3dba7c7133d91af5584bbc37443daf6e658c66fefdb4940dbd1a68cf170d"
 },
 "nbformat": 3,
 "nbformat_minor": 0,
 "worksheets": [
  {
   "cells": [
    {
     "cell_type": "heading",
     "level": 1,
     "metadata": {},
     "source": [
      "Imputing TS for IMM Seat Prices"
     ]
    },
    {
     "cell_type": "heading",
     "level": 4,
     "metadata": {},
     "source": [
      "Import Pandas for Data Frame functionality similar to R"
     ]
    },
    {
     "cell_type": "code",
     "collapsed": false,
     "input": [
      "import pandas as pd"
     ],
     "language": "python",
     "metadata": {},
     "outputs": [],
     "prompt_number": 2
    },
    {
     "cell_type": "heading",
     "level": 4,
     "metadata": {},
     "source": [
      "Read CSV and parse the dates for use with datetime library"
     ]
    },
    {
     "cell_type": "code",
     "collapsed": false,
     "input": [
      "ts_frame = pd.read_csv('/Users/pagrawal/Documents/Personal/OneDrive/Documents/MS-A/TimeSeriesForecasting/Assignments/Project5/immS.csv', parse_dates=True, sep=',')"
     ],
     "language": "python",
     "metadata": {},
     "outputs": [],
     "prompt_number": 3
    },
    {
     "cell_type": "heading",
     "level": 4,
     "metadata": {},
     "source": [
      "View the contents of the csv stored in the ts_frame (data frame)"
     ]
    },
    {
     "cell_type": "code",
     "collapsed": false,
     "input": [
      "ts_frame.head(10)"
     ],
     "language": "python",
     "metadata": {},
     "outputs": [
      {
       "html": [
        "<div style=\"max-height:1000px;max-width:1500px;overflow:auto;\">\n",
        "<table border=\"1\" class=\"dataframe\">\n",
        "  <thead>\n",
        "    <tr style=\"text-align: right;\">\n",
        "      <th></th>\n",
        "      <th>DateOfSale</th>\n",
        "      <th>Year</th>\n",
        "      <th>Month</th>\n",
        "      <th>price</th>\n",
        "      <th>division</th>\n",
        "    </tr>\n",
        "  </thead>\n",
        "  <tbody>\n",
        "    <tr>\n",
        "      <th>0</th>\n",
        "      <td>  1/5/2001</td>\n",
        "      <td> 2001</td>\n",
        "      <td> 1</td>\n",
        "      <td> 185000</td>\n",
        "      <td> IMM</td>\n",
        "    </tr>\n",
        "    <tr>\n",
        "      <th>1</th>\n",
        "      <td> 1/12/2001</td>\n",
        "      <td> 2001</td>\n",
        "      <td> 1</td>\n",
        "      <td> 180000</td>\n",
        "      <td> IMM</td>\n",
        "    </tr>\n",
        "    <tr>\n",
        "      <th>2</th>\n",
        "      <td> 1/17/2001</td>\n",
        "      <td> 2001</td>\n",
        "      <td> 1</td>\n",
        "      <td> 182500</td>\n",
        "      <td> IMM</td>\n",
        "    </tr>\n",
        "    <tr>\n",
        "      <th>3</th>\n",
        "      <td> 1/24/2001</td>\n",
        "      <td> 2001</td>\n",
        "      <td> 1</td>\n",
        "      <td> 185000</td>\n",
        "      <td> IMM</td>\n",
        "    </tr>\n",
        "    <tr>\n",
        "      <th>4</th>\n",
        "      <td>  2/9/2001</td>\n",
        "      <td> 2001</td>\n",
        "      <td> 2</td>\n",
        "      <td> 200000</td>\n",
        "      <td> IMM</td>\n",
        "    </tr>\n",
        "    <tr>\n",
        "      <th>5</th>\n",
        "      <td> 2/21/2001</td>\n",
        "      <td> 2001</td>\n",
        "      <td> 2</td>\n",
        "      <td> 250000</td>\n",
        "      <td> IMM</td>\n",
        "    </tr>\n",
        "    <tr>\n",
        "      <th>6</th>\n",
        "      <td> 3/22/2001</td>\n",
        "      <td> 2001</td>\n",
        "      <td> 3</td>\n",
        "      <td> 285000</td>\n",
        "      <td> IMM</td>\n",
        "    </tr>\n",
        "    <tr>\n",
        "      <th>7</th>\n",
        "      <td> 3/22/2001</td>\n",
        "      <td> 2001</td>\n",
        "      <td> 3</td>\n",
        "      <td> 300000</td>\n",
        "      <td> IMM</td>\n",
        "    </tr>\n",
        "    <tr>\n",
        "      <th>8</th>\n",
        "      <td> 5/17/2001</td>\n",
        "      <td> 2001</td>\n",
        "      <td> 5</td>\n",
        "      <td> 305000</td>\n",
        "      <td> IMM</td>\n",
        "    </tr>\n",
        "    <tr>\n",
        "      <th>9</th>\n",
        "      <td>  6/5/2001</td>\n",
        "      <td> 2001</td>\n",
        "      <td> 6</td>\n",
        "      <td> 339000</td>\n",
        "      <td> IMM</td>\n",
        "    </tr>\n",
        "  </tbody>\n",
        "</table>\n",
        "</div>"
       ],
       "metadata": {},
       "output_type": "pyout",
       "prompt_number": 4,
       "text": [
        "  DateOfSale  Year  Month   price division\n",
        "0   1/5/2001  2001      1  185000      IMM\n",
        "1  1/12/2001  2001      1  180000      IMM\n",
        "2  1/17/2001  2001      1  182500      IMM\n",
        "3  1/24/2001  2001      1  185000      IMM\n",
        "4   2/9/2001  2001      2  200000      IMM\n",
        "5  2/21/2001  2001      2  250000      IMM\n",
        "6  3/22/2001  2001      3  285000      IMM\n",
        "7  3/22/2001  2001      3  300000      IMM\n",
        "8  5/17/2001  2001      5  305000      IMM\n",
        "9   6/5/2001  2001      6  339000      IMM"
       ]
      }
     ],
     "prompt_number": 4
    },
    {
     "cell_type": "heading",
     "level": 4,
     "metadata": {},
     "source": [
      "Convert the index to be Time Series based"
     ]
    },
    {
     "cell_type": "code",
     "collapsed": false,
     "input": [
      "ts_frame[\"DateOfSale\"] = pd.to_datetime(ts_frame.DateOfSale)\n",
      "temp_frame = pd.DataFrame()\n",
      "temp_frame = temp_frame.reindex(ts_frame.DateOfSale)\n",
      "temp_frame[\"Price\"] = ts_frame.price.values"
     ],
     "language": "python",
     "metadata": {},
     "outputs": [],
     "prompt_number": 5
    },
    {
     "cell_type": "heading",
     "level": 4,
     "metadata": {},
     "source": [
      "Roll up prices to monthly averages for creating a month separated TS"
     ]
    },
    {
     "cell_type": "markdown",
     "metadata": {},
     "source": [
      "I chose to go ahead with TS rolled to months, and the 'M' signifies rolling the date time index of the data frame to Monthly interval. The strategy I chose for the months with multiple sales was to average the sales and use that as the value for the month. In the code the default downsampling is set to Mean, which is why you will not see it indicated in the code below."
     ]
    },
    {
     "cell_type": "code",
     "collapsed": false,
     "input": [
      "complete_ts_frame = temp_frame.resample('M')"
     ],
     "language": "python",
     "metadata": {},
     "outputs": [],
     "prompt_number": 6
    },
    {
     "cell_type": "heading",
     "level": 3,
     "metadata": {},
     "source": [
      "Trying different imputation strategies"
     ]
    },
    {
     "cell_type": "markdown",
     "metadata": {},
     "source": [
      "In this section I am trying to determine which would be the best method to fill the missing values in the equally spaced TS. \n",
      "The methods I am trying are-\n",
      "1. Linear Interpolation\n",
      "2. Quadratic Interpolation\n",
      "3. Cubic Interpolation"
     ]
    },
    {
     "cell_type": "heading",
     "level": 4,
     "metadata": {},
     "source": [
      "Plot the existing Price label with the missing values"
     ]
    },
    {
     "cell_type": "code",
     "collapsed": false,
     "input": [
      "plot(complete_ts_frame.Price)"
     ],
     "language": "python",
     "metadata": {},
     "outputs": [
      {
       "metadata": {},
       "output_type": "pyout",
       "prompt_number": 7,
       "text": [
        "[<matplotlib.lines.Line2D at 0x109df01d0>]"
       ]
      },
      {
       "metadata": {},
       "output_type": "display_data",
       "png": "[encoded data removed]",
       "text": [
        "<matplotlib.figure.Figure at 0x109d484d0>"
       ]
      }
     ],
     "prompt_number": 7
    },
    {
     "cell_type": "heading",
     "level": 4,
     "metadata": {},
     "source": [
      "Plot the Price label with interpolation set to different methods"
     ]
    },
    {
     "cell_type": "code",
     "collapsed": false,
     "input": [
      "methods = ['linear', 'quadratic', 'cubic']\n",
      "df = pd.DataFrame({m: complete_ts_frame.Price.interpolate(method=m) for m in methods})\n",
      "plt.figure(num=None, figsize=(5, 5), dpi=200, facecolor='w', edgecolor='k')\n",
      "df.plot()\n"
     ],
     "language": "python",
     "metadata": {},
     "outputs": [
      {
       "metadata": {},
       "output_type": "pyout",
       "prompt_number": 8,
       "text": [
        "<matplotlib.axes.AxesSubplot at 0x10c08d690>"
       ]
      },
      {
       "metadata": {},
       "output_type": "display_data",
       "text": [
        "<matplotlib.figure.Figure at 0x109f52d90>"
       ]
      },
      {
       "metadata": {},
       "output_type": "display_data",
       "png": "[encoded data removed]",
       "text": [
        "<matplotlib.figure.Figure at 0x10c08d0d0>"
       ]
      }
     ],
     "prompt_number": 8
    },
    {
     "cell_type": "code",
     "collapsed": false,
     "input": [
      "complete_ts_frame.Price.interpolate(method=\"cubic\",inplace=True)\n",
      "complete_ts_frame.Price"
     ],
     "language": "python",
     "metadata": {},
     "outputs": [
      {
       "metadata": {},
       "output_type": "pyout",
       "prompt_number": 9,
       "text": [
        "DateOfSale\n",
        "2001-01-31    183125.000000\n",
        "2001-02-28    225000.000000\n",
        "2001-03-31    292500.000000\n",
        "2001-04-30    298888.181628\n",
        "2001-05-31    305000.000000\n",
        "2001-06-30    355333.333333\n",
        "2001-07-31    355000.000000\n",
        "2001-08-31    348232.948880\n",
        "2001-09-30    338333.333333\n",
        "2001-10-31    316666.666667\n",
        "2001-11-30    318333.333333\n",
        "2001-12-31    344833.333333\n",
        "2002-01-31    366554.166826\n",
        "2002-02-28    375000.000000\n",
        "2002-03-31    370000.000000\n",
        "...\n",
        "2012-10-31    210750.000000\n",
        "2012-11-30    183750.000000\n",
        "2012-12-31    170000.000000\n",
        "2013-01-31    186500.000000\n",
        "2013-02-28    195500.000000\n",
        "2013-03-31    197500.000000\n",
        "2013-04-30    187500.000000\n",
        "2013-05-31    174375.000000\n",
        "2013-06-30    189833.333333\n",
        "2013-07-31    197750.000000\n",
        "2013-08-31    220000.000000\n",
        "2013-09-30    235000.000000\n",
        "2013-10-31    212500.000000\n",
        "2013-11-30    213416.666667\n",
        "2013-12-31    222500.000000\n",
        "Freq: M, Name: Price, Length: 156"
       ]
      }
     ],
     "prompt_number": 9
    },
    {
     "cell_type": "heading",
     "level": 4,
     "metadata": {},
     "source": [
      "Save results to csv"
     ]
    },
    {
     "cell_type": "code",
     "collapsed": false,
     "input": [
      "complete_ts_frame.to_csv(\"/Users/pagrawal/Documents/Personal/OneDrive/Documents/MS-A/TimeSeriesForecasting/Assignments/Project5/immS_complete.csv\",sep=',')"
     ],
     "language": "python",
     "metadata": {},
     "outputs": [],
     "prompt_number": 10
    }
   ],
   "metadata": {}
  }
 ]
}