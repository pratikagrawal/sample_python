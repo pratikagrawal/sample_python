{
 "metadata": {
  "name": "",
  "signature": "sha256:a217d1c3c32c2a787039f180f263a203bcd045bf21f0ed59adaf393f0b8f02bb"
 },
 "nbformat": 3,
 "nbformat_minor": 0,
 "worksheets": [
  {
   "cells": [
    {
     "cell_type": "markdown",
     "metadata": {},
     "source": [
      "<hr>\n",
      "# PYTHON FOR DATA SCIENCE\n",
      "\n",
      "- Part 1: Overview\n",
      "- Part 2: Case Study\n",
      "\n",
      "### An Overview of Scientific Python"
     ]
    },
    {
     "cell_type": "markdown",
     "metadata": {},
     "source": [
      "## Contents\n",
      "\n",
      "- [IPython](#IPython)\n",
      "- [NumPy](#NumPy)\n",
      "- [SciPy](#SciPy)\n",
      "- [Matplotlib](#Matplotlib)\n",
      "- [pandas](#pandas)\n",
      "- [scikit-learn](#scikit-learn)\n",
      "- [statsmodels](#statsmodels)"
     ]
    },
    {
     "cell_type": "markdown",
     "metadata": {},
     "source": [
      "<a id=\"IPython\"></a>\n",
      "<hr>\n",
      "\n",
      "## IPython\n",
      "\n",
      "Command line and web IDE designed for use with Python and several other scientific and web-based technologies."
     ]
    },
    {
     "cell_type": "markdown",
     "metadata": {},
     "source": [
      "#### What is it?\n",
      "\n",
      "### A computing architecture for Python composed of \n",
      "\n",
      " - 2 Python shells (terminal and Qt-based)\n",
      "\n",
      "- A web notebook that runs in the browser."
     ]
    },
    {
     "cell_type": "markdown",
     "metadata": {},
     "source": [
      "### What can you do with it?\n",
      "\n",
      "## Code completion\n",
      "\n",
      "#### ```IPython``` tells you about the objects you're working with, showing you helpful usage info about functions, methods available, datatypes, and more."
     ]
    },
    {
     "cell_type": "code",
     "collapsed": false,
     "input": [
      "things = [\"First Name\", \"Last Name\"]\n",
      "\n",
      "def snakify(txt):\n",
      "    \"return string in snake_case\"\n",
      "    return txt.replace(\" \",\"_\").lower()\n",
      "\n",
      "print [snakify(thing) for thing in things]\n",
      "\n",
      "\n",
      "snakify( \"My Name is Greg\" )"
     ],
     "language": "python",
     "metadata": {},
     "outputs": []
    },
    {
     "cell_type": "markdown",
     "metadata": {},
     "source": [
      "<bold class=\"bold\">Tip: </bold>Comment and uncomment lines with ``` command + / ``` if you're on a mac."
     ]
    },
    {
     "cell_type": "markdown",
     "metadata": {},
     "source": [
      "## Interact with the command-line\n",
      "\n",
      "#### Use many shell commands directly from IPython, including shell scripts."
     ]
    },
    {
     "cell_type": "code",
     "collapsed": false,
     "input": [
      "# try these out too\n",
      "! pwd\n",
      "!ls -lt"
     ],
     "language": "python",
     "metadata": {},
     "outputs": [
      {
       "output_type": "stream",
       "stream": "stdout",
       "text": [
        "/Users/pagrawal/Documents/repos/Notebooks\r\n"
       ]
      },
      {
       "output_type": "stream",
       "stream": "stdout",
       "text": [
        "total 28150944\r\n",
        "-rw-r-----@ 1 pagrawal  staff       23376 Oct  4 12:01 2 - Importing Data.ipynb\r\n",
        "-rw-r-----@ 1 pagrawal  staff      132631 Oct  4 12:01 Python for Data Science.ipynb\r\n",
        "-rw-r-----@ 1 pagrawal  staff       22539 Oct  4 12:01 1 - Tools Overview.ipynb\r\n",
        "-rw-r--r--  1 pagrawal  staff        2411 Oct  4 10:10 Untitled0.ipynb\r\n",
        "-rw-r-----@ 1 pagrawal  staff        6009 Sep 28 22:12 8 - Deployment.ipynb\r\n",
        "-rw-r-----@ 1 pagrawal  staff       10468 Sep 28 22:07 7 - Fitting and Evaluating Your Model.ipynb\r\n",
        "-rw-r-----@ 1 pagrawal  staff       13435 Sep 28 22:06 6 - Feature Engineering.ipynb\r\n",
        "-rw-r-----@ 1 pagrawal  staff       11727 Sep 28 22:06 5 - Aggregation and Grouping.ipynb\r\n",
        "-rw-r-----@ 1 pagrawal  staff        7624 Sep 28 22:06 4 - Imputing Data.ipynb\r\n",
        "-rw-r-----@ 1 pagrawal  staff       10703 Sep 28 22:05 3 - scikit-learn basics.ipynb\r\n",
        "-rw-r--r--  1 pagrawal  staff      781286 Sep 28 21:52 salary_data.csv\r\n",
        "-rw-r--r--  1 pagrawal  staff      189042 Sep 23 14:28 RateCompetitiveness.ipynb\r\n",
        "-rw-r--r--  1 pagrawal  staff         355 Sep 11 14:47 describe.csv\r\n",
        "-rw-r--r--  1 pagrawal  staff       39896 Sep 11 11:02 HotelSortSummary.ipynb\r\n",
        "-rw-r--r--  1 pagrawal  staff        7049 Sep 10 21:50 sampleData.csv\r\n",
        "-rw-r--r--  1 pagrawal  staff   188402764 Sep  8 16:07 rcdWithWTL_2014-03-01_10.csv\r\n",
        "-rw-r--r--  1 pagrawal  staff    96793519 Sep  8 13:08 rcdWithWTL_2014-06-01_10.csv\r\n",
        "-rw-r--r--  1 pagrawal  staff   187091929 Sep  5 16:32 rcdWithWTL.csv\r\n",
        "-rw-r--r--  1 pagrawal  staff   187078233 Sep  3 13:21 aggregatedRateData.csv\r\n",
        "-rw-r--r--  1 pagrawal  staff   100291689 Sep  2 17:04 debug.csv\r\n",
        "-rw-r--r--  1 pagrawal  staff      106658 Sep  2 15:15 Utilities.ipynb\r\n",
        "-rw-r--r--@ 1 pagrawal  staff        1016 Aug 30 00:30 Layout4UtilityData.csv\r\n",
        "-rw-r--r--  1 pagrawal  staff    32011549 Aug 28 14:07 validationSet.csv\r\n",
        "-rw-r--r--@ 1 pagrawal  staff       61568 Aug 26 15:03 imputedWithMean.csv\r\n",
        "-rw-r--r--  1 pagrawal  staff       61211 Aug 26 00:57 imputedWithMedian.csv\r\n",
        "-rw-r--r--  1 pagrawal  staff       48507 Aug 26 00:56 imputedWithMin.csv\r\n",
        "-rw-r--r--@ 1 pagrawal  staff       46940 Aug 25 19:18 chronoUtilsData.csv\r\n",
        "-rw-r--r--  1 pagrawal  staff       98362 Aug 25 18:57 chronoUtilsData.tde\r\n",
        "-rw-r--r--  1 pagrawal  staff       42973 Aug 25 14:41 finally.csv\r\n",
        "-rw-r--r--@ 1 pagrawal  staff       37512 Aug 25 13:15 allUtilsChronosSep.csv\r\n",
        "-rw-r--r--  1 pagrawal  staff       33233 Aug 25 13:04 chrono.csv\r\n",
        "-rw-r--r--  1 pagrawal  staff     1660186 Aug 24 09:11 AllUtil.tde\r\n",
        "-rw-r--r--@ 1 pagrawal  staff       30531 Aug 24 08:59 Workbook2.xlsx\r\n",
        "-rw-r--r--@ 1 pagrawal  staff      216134 Aug 23 13:43 allutils_T.csv\r\n",
        "-rw-r--r--@ 1 pagrawal  staff      198739 Aug 23 12:33 AllUtil.csv\r\n",
        "-rw-r--r--@ 1 pagrawal  staff       75849 Aug 18 23:09 Workbook1.xlsx\r\n",
        "-rw-r--r--  1 pagrawal  staff   483972769 Aug 18 21:25 dataForNonUSBookings.csv\r\n",
        "-rw-r--r--  1 pagrawal  staff   810341348 Aug 18 21:05 dataForUSDomesticBookings.csv\r\n",
        "-rw-r--r--  1 pagrawal  staff      315660 Aug 15 16:01 subDataSet.csv\r\n",
        "-rw-r--r--  1 pagrawal  staff         736 Aug 15 15:46 rscv_params.csv\r\n",
        "-rw-r--r--  1 pagrawal  staff   392264274 Aug 11 22:35 test.csv\r\n",
        "-rw-r--r--  1 pagrawal  staff   391930065 Aug 11 22:34 train.csv\r\n",
        "-rw-r--r--  1 pagrawal  staff       31700 Aug 11 20:33 HotelSort-Copy0.ipynb\r\n",
        "-rw-r--r--  1 pagrawal  staff         506 Aug  8 18:28 starRatingBookings.csv\r\n",
        "-rw-r--r--  1 pagrawal  staff         661 Aug  8 18:24 starRatingImpressions.csv\r\n",
        "-rw-r--r--  1 pagrawal  staff        1106 Aug  8 18:13 starRatingProbImpressions.csv\r\n",
        "-rw-r--r--@ 1 pagrawal  staff         445 Aug  8 17:27 starRatingProb.csv\r\n",
        "-rw-r--r--  1 pagrawal  staff         996 Aug  8 16:24 increasedStarRating.csv\r\n",
        "-rw-r--r--  1 pagrawal  staff  1573780108 Aug  8 14:53 dataWithRelevanceScore.csv\r\n",
        "-rw-r--r--  1 pagrawal  staff        3442 Aug  7 16:36 sample.csv\r\n",
        "-rw-r--r--  1 pagrawal  staff  1923036092 Aug  7 14:50 dataWithNormFeatures.csv\r\n",
        "-rw-r--r--@ 1 pagrawal  staff        9894 Aug  6 16:27 booked5star.csv\r\n",
        "-rw-r--r--@ 1 pagrawal  staff       12853 Aug  6 16:27 booked34star.csv\r\n",
        "-rw-r--r--@ 1 pagrawal  staff        5841 Aug  6 16:27 booked012star.csv\r\n",
        "-rw-r--r--  1 pagrawal  staff         841 Aug  6 12:31 distanceAP.csv\r\n",
        "-rw-r--r--  1 pagrawal  staff       44618 Aug  6 11:47 apDistance.csv\r\n",
        "-rw-r--r--  1 pagrawal  staff      120893 Aug  6 11:00 HotelSort.ipynb\r\n",
        "-rw-r--r--  1 pagrawal  staff  1677217845 Aug  4 20:30 DataWithNewFeatures.csv\r\n",
        "-rw-r--r--  1 pagrawal  staff         286 Aug  4 11:38 dtg.csv\r\n",
        "-rw-r--r--  1 pagrawal  staff    25361928 Aug  4 10:30 bookedUSDomestic.csv\r\n",
        "-rw-r--r--  1 pagrawal  staff        4929 Jul 28 16:30 metrics.pyc\r\n",
        "-rw-r--r--  1 pagrawal  staff      335370 Jul 24 12:15 y_pred_rfd.csv\r\n",
        "-rw-r--r--  1 pagrawal  staff     1006110 Jul 24 12:15 y_test.csv\r\n",
        "-rw-r--r--  1 pagrawal  staff        7125 Jul 23 14:52 metrics.py\r\n",
        "-rw-r--r--  1 pagrawal  staff   478480099 Jul 22 16:47 trainData.csv\r\n",
        "-rw-r--r--  1 pagrawal  staff  1553704405 Jul 18 14:25 priceUSDLT20000.csv\r\n",
        "-rw-r--r--  1 pagrawal  staff       12288 Jul  9 11:06 summary.txt\r\n",
        "-rw-r--r--  1 pagrawal  staff  4305223680 Jun 30 10:58 foo.csv\r\n",
        "-rw-r--r--@ 1 pagrawal  staff      249688 Jun 20 15:31 gensim word2vec tutorial.ipynb\r\n",
        "-rw-r--r--  1 pagrawal  staff        2029 Jun 20 15:31 wikifil.pl\r\n"
       ]
      }
     ],
     "prompt_number": 3
    },
    {
     "cell_type": "markdown",
     "metadata": {},
     "source": [
      "#### Capture the output of a shell command and store the results in a python variable."
     ]
    },
    {
     "cell_type": "code",
     "collapsed": false,
     "input": [
      "foo = ! echo hello, world\n",
      "foo"
     ],
     "language": "python",
     "metadata": {},
     "outputs": []
    },
    {
     "cell_type": "markdown",
     "metadata": {},
     "source": [
      "#### Use curl to download data."
     ]
    },
    {
     "cell_type": "code",
     "collapsed": false,
     "input": [
      "# download salary_data.csv save contents to \n",
      "# a local file in the same directory as this notebook\n",
      "!curl http://www.justinmrao.com/salary_data.csv >> ./salary_data.csv"
     ],
     "language": "python",
     "metadata": {},
     "outputs": []
    },
    {
     "cell_type": "code",
     "collapsed": false,
     "input": [
      "# peak at the first row\n",
      "! head -n 1 salary_data.csv | tr -s \",\" \"\\n\""
     ],
     "language": "python",
     "metadata": {},
     "outputs": []
    },
    {
     "cell_type": "code",
     "collapsed": false,
     "input": [
      "# peak at the second row\n",
      "! head -n+2 salary_data.csv | tail -n-1 | tr -s \",\" \"\\n\""
     ],
     "language": "python",
     "metadata": {},
     "outputs": []
    },
    {
     "cell_type": "markdown",
     "metadata": {},
     "source": [
      "## Include rich media and javascript\n",
      "#### IPython gives you inline plots and allows you to use virtually any browser supported media."
     ]
    },
    {
     "cell_type": "markdown",
     "metadata": {},
     "source": [
      "Inline plotting"
     ]
    },
    {
     "cell_type": "code",
     "collapsed": false,
     "input": [
      "import pylab as pl\n",
      "X = range(10)\n",
      "y = range(11,21)\n",
      "pl.scatter(X,y, c='r')\n",
      "pl.show()\n",
      "print"
     ],
     "language": "python",
     "metadata": {},
     "outputs": []
    },
    {
     "cell_type": "markdown",
     "metadata": {},
     "source": [
      "#### Write and run javascript among other languages including Ruby, Octave, Julia, R, etc."
     ]
    },
    {
     "cell_type": "code",
     "collapsed": false,
     "input": [
      "%%javascript\n",
      "\n",
      "function say_hi ( ) {\n",
      "    alert(\"Hello, World\");\n",
      "};\n",
      "\n",
      "say_hi();\n",
      "console.log(\"Welcome!\");"
     ],
     "language": "python",
     "metadata": {},
     "outputs": []
    },
    {
     "cell_type": "markdown",
     "metadata": {},
     "source": [
      "#### Render images from the web via a url or images on your local computer via the filename."
     ]
    },
    {
     "cell_type": "code",
     "collapsed": false,
     "input": [
      "from IPython.display import Image\n",
      "Image(\"http://ipython.org/_static/IPy_header.png\")"
     ],
     "language": "python",
     "metadata": {},
     "outputs": []
    },
    {
     "cell_type": "markdown",
     "metadata": {},
     "source": [
      "<a id=\"NumPy\"></a>\n",
      "<hr>\n",
      "\n",
      "## NumPy\n",
      "\n",
      "One of the fundamental packages for scientific computing with Python. Many other popular packages and projects use NumPy under the hood, so it's pretty helpful to be familiar with its core concepts."
     ]
    },
    {
     "cell_type": "markdown",
     "metadata": {},
     "source": [
      "#### What is it?\n",
      "\n",
      "### A collection of tools, utilities, and data structures for working with data.\n",
      "\n",
      "- A powerful N-dimensional array object\n",
      "- Element by element broadcasting operations (as opposed to iterating)\n",
      "- Tools for integrating C/C++ and Fortran code\n",
      "- Linear algebra and other mathematical and random number facilities\n",
      "\n"
     ]
    },
    {
     "cell_type": "markdown",
     "metadata": {},
     "source": [
      "## N-dimensional arrays\n",
      "\n",
      "#### The ```ndarray``` is a bit like a python list only more efficient."
     ]
    },
    {
     "cell_type": "code",
     "collapsed": false,
     "input": [
      "\"\"\"example taken from Scipy and NumPy by Eli Bressert (p. 6)\"\"\"\n",
      "import numpy as np\n",
      "\n",
      "def list_times(alist, scalar):\n",
      "    for i, val in enumerate(alist):\n",
      "        alist[i] = val * scalar\n",
      "    return alist"
     ],
     "language": "python",
     "metadata": {},
     "outputs": []
    },
    {
     "cell_type": "code",
     "collapsed": false,
     "input": [
      "arr = np.arange(1e7)\n",
      "l   = arr.tolist()"
     ],
     "language": "python",
     "metadata": {},
     "outputs": []
    },
    {
     "cell_type": "code",
     "collapsed": false,
     "input": [
      "%timeit arr * 1.1"
     ],
     "language": "python",
     "metadata": {},
     "outputs": []
    },
    {
     "cell_type": "code",
     "collapsed": false,
     "input": [
      "%timeit list_times(l, 1.1)"
     ],
     "language": "python",
     "metadata": {},
     "outputs": []
    },
    {
     "cell_type": "markdown",
     "metadata": {},
     "source": [
      "#### ```ndarray```s behave somewhat like lists."
     ]
    },
    {
     "cell_type": "code",
     "collapsed": false,
     "input": [
      "print \"len(l)\", len(l)\n",
      "print \"len(arr)\", len(arr)"
     ],
     "language": "python",
     "metadata": {},
     "outputs": []
    },
    {
     "cell_type": "markdown",
     "metadata": {},
     "source": [
      "#### The ```ndarray``` is capible of more advanced slicing."
     ]
    },
    {
     "cell_type": "code",
     "collapsed": false,
     "input": [
      "l = [ [1,2], [3,4] ]\n",
      "arr   = np.array(l)\n",
      "\n",
      "print \"Value in Row One, Column One: %d\" % l[0][0]\n",
      "print \"Value in Row One, Column One: %d\" % arr[0,0]\n",
      "print \"Value in All Rows, Column Two: %s\" % str(arr[::,1])\n",
      "print \"Value in Row Two, Both Columns: %s\" % str(arr[1::,])"
     ],
     "language": "python",
     "metadata": {},
     "outputs": []
    },
    {
     "cell_type": "markdown",
     "metadata": {},
     "source": [
      "#### You can access elements stored in an ```ndarray``` using ```arr[]``` sub notation ```arr[rows, columns]```.\n",
      "\n",
      "#### Select the entire 10th row like so ```arr[9, :]```.  ```9``` indicates \"row 10\" and ```:``` indicates <em>all</em> columns."
     ]
    },
    {
     "cell_type": "code",
     "collapsed": false,
     "input": [
      "zero_to_1000 = np.arange(0,1000)               # create an array of integers from 0 to 1000\n",
      "zero_to_1000 = zero_to_1000.reshape( (500,2) ) # reshape into 2 dimensions (500 Rows x 2 Cols2)\n",
      "zero_to_1000[:100, 1]                          # select the 2nd columns from the top 100 rows"
     ],
     "language": "python",
     "metadata": {},
     "outputs": []
    },
    {
     "cell_type": "markdown",
     "metadata": {},
     "source": [
      "#### NumPy arrays support boolean indexing for selection."
     ]
    },
    {
     "cell_type": "code",
     "collapsed": false,
     "input": [
      "numbers = np.random.uniform(size=100)\n",
      "numbers = numbers.reshape((50,2))\n",
      "mask = (numbers >= 0.7) & (numbers <= 0.9)\n",
      "mask[:10]"
     ],
     "language": "python",
     "metadata": {},
     "outputs": []
    },
    {
     "cell_type": "code",
     "collapsed": false,
     "input": [
      "numbers[mask, :] # pass the boolean mask to the array using sub notation"
     ],
     "language": "python",
     "metadata": {},
     "outputs": []
    },
    {
     "cell_type": "markdown",
     "metadata": {},
     "source": [
      "<a id=\"SciPy\"></a>\n",
      "<hr>\n",
      "\n",
      "## SciPy\n",
      "\n",
      "SciPy contains functions and utilities for common scientific tasks. Most of SciPy's features rely on NumPy and many other scientific projects rely on SciPy.\n",
      "\n",
      "\n",
      "We aren't using SciPy directly in this tutorial, and since it's rather large in scope, we'll just give you some of the project highlights.\n",
      "\n",
      "- Optimization and Minimization\n",
      "    - 80 continuous distributions\n",
      "    - 60 statistical functions\n",
      "- Interpolation\n",
      "- Integration\n",
      "- Statistics\n",
      "- Spatial and Clustering Analysis\n",
      "- Signal and Image Processing\n",
      "- Sparse Matrices"
     ]
    },
    {
     "cell_type": "markdown",
     "metadata": {},
     "source": [
      "<a id=\"Matplotlib\"></a>\n",
      "<hr>\n",
      "\n",
      "## Matplotlib"
     ]
    },
    {
     "cell_type": "code",
     "collapsed": false,
     "input": [
      "import pylab as pl\n",
      "import matplotlib.pyplot as plt"
     ],
     "language": "python",
     "metadata": {},
     "outputs": []
    },
    {
     "cell_type": "code",
     "collapsed": false,
     "input": [
      "# Make some data to plot\n",
      "x = np.linspace(start=0, stop=2*np.pi, num=50)\n",
      "y1 = np.sin(x)\n",
      "y2 = np.cos(x)"
     ],
     "language": "python",
     "metadata": {},
     "outputs": []
    },
    {
     "cell_type": "markdown",
     "metadata": {},
     "source": [
      "#### Lines"
     ]
    },
    {
     "cell_type": "code",
     "collapsed": false,
     "input": [
      "fig, ax = plt.subplots(1, figsize=(12,6))\n",
      "ax.plot(x, y1, label='sin')\n",
      "ax.plot(x, y2, label='cos')\n",
      "\n",
      "ax.legend(fontsize=16)\n",
      "ax.axes.xaxis.set_label_text(\"X Axis\", fontdict={\"size\":22})\n",
      "ax.axes.yaxis.set_label_text(\"y Axis\", fontdict={\"size\":22})\n",
      "ax.title.set_text(\"This is a graph\\n\")\n",
      "ax.title.set_fontsize(28)\n",
      "fig.show()\n",
      "print"
     ],
     "language": "python",
     "metadata": {},
     "outputs": []
    },
    {
     "cell_type": "markdown",
     "metadata": {},
     "source": [
      "#### Histograms"
     ]
    },
    {
     "cell_type": "code",
     "collapsed": false,
     "input": [
      "d = randn(100) * 100.\n",
      "m = d.mean()\n",
      "s = d.std()\n",
      "m_y = 1.5\n",
      "\n",
      "fig = figure(figsize=(12,6))\n",
      "ax = subplot(111)\n",
      "ax.hist(d, 15)\n",
      "ax.plot(m, m_y, \"ko\")\n",
      "ax.plot([m - s, m + s], [m_y] * 2, \"k--\");"
     ],
     "language": "python",
     "metadata": {},
     "outputs": []
    },
    {
     "cell_type": "markdown",
     "metadata": {},
     "source": [
      "#### Multiple plots."
     ]
    },
    {
     "cell_type": "code",
     "collapsed": false,
     "input": [
      "x = np.arange(0, 100)\n",
      "y = np.random.rand(100)  # 100 random numbers\n",
      "fig, ((ax1, ax2), (ax3, ax4)) = plt.subplots(2,2,figsize=(10,10))\n",
      "ax1.plot(x, y)\n",
      "ax2.hist(y)\n",
      "ax3.scatter(x, y)\n",
      "ax4.boxplot(y)\n",
      "pl.show()"
     ],
     "language": "python",
     "metadata": {},
     "outputs": []
    },
    {
     "cell_type": "markdown",
     "metadata": {},
     "source": [
      "## ggplot2 matplotlib theme\n",
      "\n",
      "- [https://s3.amazonaws.com/demo-datasets/matplotlib.zip](https://s3.amazonaws.com/demo-datasets/matplotlib.zip)"
     ]
    },
    {
     "cell_type": "code",
     "collapsed": false,
     "input": [
      "#if you already have a matplotlib config file, you'll need to run this in the terminal\n",
      "! unzip ~/Downloads/matplotlib.zip -d ~/"
     ],
     "language": "python",
     "metadata": {},
     "outputs": []
    },
    {
     "cell_type": "markdown",
     "metadata": {},
     "source": [
      "#### Matplotlib takes some getting used to, but don't fret. There are some solid examples and recipes available online that are super helpful.\n",
      "\n",
      "[http://matplotlib.org/gallery.html](http://matplotlib.org/gallery.html.)"
     ]
    },
    {
     "cell_type": "markdown",
     "metadata": {},
     "source": [
      "<a id=\"pandas\"></a>\n",
      "<hr>\n",
      "\n",
      "## pandas\n",
      "\n",
      "#### pandas is the utility belt for data analysts using python. The package centers around the pandas ```DataFrame```, a two-dimensional data structure with indexable rows and columns. It has effectively taken the best parts of Base R, R packages like plyr and reshape2 and consolidated them into a single library.\n",
      "\n",
      "#### Library highlights include:\n",
      "\n",
      "- DataFrame\n",
      "- Indexable rows and columns (e.g. selecting columns and rows via column/row names)\n",
      "- Boolean indexing\n",
      "- Graceful treatment of missing or ```NA``` values\n",
      "- Broadcasting (i.e. calling a function on an entire row or column without iteration)\n",
      "- Outstanding ```split```, ```apply```, ```combine```, ```groupby``` functionality\n",
      "- Simple yet powerful string manipulation (again, applied over a large number of strings)\n",
      "- Built-in summary statistics (```mean```, ```std```, ```corr```, etc.)\n",
      "- Merging, joining, data set concatenation\n"
     ]
    },
    {
     "cell_type": "code",
     "collapsed": false,
     "input": [
      "import pandas as pd\n",
      "df = pd.DataFrame({\"A\": range(10), \"B\": np.random.random(size=10)})\n",
      "df.B.corr(df.A)"
     ],
     "language": "python",
     "metadata": {},
     "outputs": []
    },
    {
     "cell_type": "markdown",
     "metadata": {},
     "source": [
      "<a id=\"scikit-learn\"></a>\n",
      "<hr>\n",
      "\n",
      "## scikit-learn\n",
      "\n",
      "scikit-learn is composed of a wide number of machine learning algorithms, utilities, and transformations all following a common and consistent API.\n",
      "\n",
      "#### Library highlights include:\n",
      "\n",
      "- Biclustering\n",
      "- Clustering\n",
      "- Covariance estimation\n",
      "- Cross decomposition\n",
      "- Dataset examples\n",
      "- Decomposition\n",
      "- Ensemble methods\n",
      "- Gaussian Process for Machine Learning\n",
      "- Generalized Linear Models\n",
      "- Manifold learning\n",
      "- Gaussian Mixture Models\n",
      "- Nearest Neighbors\n",
      "- Semi Supervised Classification\n",
      "- Support Vector Machines\n",
      "- Decision Trees"
     ]
    },
    {
     "cell_type": "code",
     "collapsed": false,
     "input": [
      "%load http://scikit-learn.org/stable/_downloads/plot_lena_ward_segmentation.py"
     ],
     "language": "python",
     "metadata": {},
     "outputs": []
    },
    {
     "cell_type": "code",
     "collapsed": false,
     "input": [
      "\"\"\"\n",
      "===============================================================\n",
      "A demo of structured Ward hierarchical clustering on Lena image\n",
      "===============================================================\n",
      "\n",
      "Compute the segmentation of a 2D image with Ward hierarchical\n",
      "clustering. The clustering is spatially constrained in order\n",
      "for each segmented region to be in one piece.\n",
      "\"\"\"\n",
      "\n",
      "# Author : Vincent Michel, 2010\n",
      "#          Alexandre Gramfort, 2011\n",
      "# License: BSD 3 clause\n",
      "\n",
      "print(__doc__)\n",
      "\n",
      "import time as time\n",
      "import numpy as np\n",
      "import scipy as sp\n",
      "import pylab as pl\n",
      "from sklearn.feature_extraction.image import grid_to_graph\n",
      "from sklearn.cluster import Ward\n",
      "\n",
      "###############################################################################\n",
      "# Generate data\n",
      "lena = sp.misc.lena()\n",
      "# Downsample the image by a factor of 4\n",
      "lena = lena[::2, ::2] + lena[1::2, ::2] + lena[::2, 1::2] + lena[1::2, 1::2]\n",
      "X = np.reshape(lena, (-1, 1))\n",
      "\n",
      "###############################################################################\n",
      "# Define the structure A of the data. Pixels connected to their neighbors.\n",
      "connectivity = grid_to_graph(*lena.shape)\n",
      "\n",
      "###############################################################################\n",
      "# Compute clustering\n",
      "print(\"Compute structured hierarchical clustering...\")\n",
      "st = time.time()\n",
      "n_clusters = 15  # number of regions\n",
      "ward = Ward(n_clusters=n_clusters, connectivity=connectivity).fit(X)\n",
      "label = np.reshape(ward.labels_, lena.shape)\n",
      "print(\"Elapsed time: \", time.time() - st)\n",
      "print(\"Number of pixels: \", label.size)\n",
      "print(\"Number of clusters: \", np.unique(label).size)\n",
      "\n",
      "###############################################################################\n",
      "# Plot the results on an image\n",
      "pl.figure(figsize=(5, 5))\n",
      "pl.imshow(lena, cmap=pl.cm.gray)\n",
      "for l in range(n_clusters):\n",
      "    pl.contour(label == l, contours=1,\n",
      "               colors=[pl.cm.spectral(l / float(n_clusters)), ])\n",
      "pl.xticks(())\n",
      "pl.yticks(())\n",
      "pl.show()\n"
     ],
     "language": "python",
     "metadata": {},
     "outputs": []
    },
    {
     "cell_type": "markdown",
     "metadata": {},
     "source": [
      "<a id=\"statsmodels\"></a>\n",
      "<hr>\n",
      "\n",
      "## statsmodels\n",
      "####statistics & econometrics package with useful tools for parameter estimation & statistical testing\n",
      "\n",
      "####Features include:\n",
      "- linear regression models\n",
      "- GLMs\n",
      "- time series modeling\n",
      "- integration with `pandas`"
     ]
    },
    {
     "cell_type": "code",
     "collapsed": false,
     "input": [
      "%load https://gist.github.com/glamp/6536064/raw/57146ac3406f7541d944264ed9aa85dad6e085a1/statsmodels_example.py"
     ],
     "language": "python",
     "metadata": {},
     "outputs": []
    },
    {
     "cell_type": "code",
     "collapsed": false,
     "input": [
      "import pandas as pd\n",
      "import statsmodels.api as sm\n",
      "import pylab as pl\n",
      "import numpy as np\n",
      " \n",
      "# read the data in\n",
      "df = pd.read_csv(\"http://www.ats.ucla.edu/stat/data/binary.csv\")\n",
      " \n",
      "# rename the 'rank' column because there is also a DataFrame method called 'rank'\n",
      "df.columns = [\"admit\", \"gre\", \"gpa\", \"prestige\"]\n",
      "dummy_ranks = pd.get_dummies(df['prestige'], prefix='prestige')\n",
      "dummy_ranks.head()\n",
      "\n",
      "# create a clean data frame for the regression\n",
      "cols_to_keep = ['admit', 'gre', 'gpa']\n",
      "data = df[cols_to_keep].join(dummy_ranks.ix[:, 'prestige_2':])\n",
      "data.head()\n",
      "\n",
      "# manually add the intercept\n",
      "data['intercept'] = 1.0\n",
      "\n",
      "train_cols = data.columns[1:]\n",
      "# Index([gre, gpa, prestige_2, prestige_3, prestige_4], dtype=object)\n",
      " \n",
      "logit = sm.Logit(data['admit'], data[train_cols])\n",
      " \n",
      "# fit the model\n",
      "result = logit.fit()\n",
      "\n",
      "print result.summary()"
     ],
     "language": "python",
     "metadata": {},
     "outputs": []
    },
    {
     "cell_type": "code",
     "collapsed": false,
     "input": [],
     "language": "python",
     "metadata": {},
     "outputs": []
    }
   ],
   "metadata": {}
  }
 ]
}