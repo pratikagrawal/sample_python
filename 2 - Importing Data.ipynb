{
 "metadata": {
  "name": "",
  "signature": "sha256:90be78fa9fd9683e60f61675542fd8403716767148ca137266784f5619d203bd"
 },
 "nbformat": 3,
 "nbformat_minor": 0,
 "worksheets": [
  {
   "cells": [
    {
     "cell_type": "markdown",
     "metadata": {},
     "source": [
      "#Agenda\n",
      "\n",
      "- Define the problem and the approach\n",
      "- <p style=\"color: red\">Data basics: loading data, looking at your data, basic commands</p>\n",
      "- Handling missing values\n",
      "- Intro to scikit-learn\n",
      "- Grouping and aggregating data\n",
      "- Feature selection\n",
      "- Fitting and evaluating a model\n",
      "- Deploying your work"
     ]
    },
    {
     "cell_type": "markdown",
     "metadata": {},
     "source": [
      "##In this notebook you will\n",
      "\n",
      "- Learn how to load data into Python\n",
      "- Learn the basics of working with data in `pandas`\n",
      "- Clean and manage your data\n",
      "- Wrangle missing data"
     ]
    },
    {
     "cell_type": "markdown",
     "metadata": {},
     "source": [
      "##Reading from a file"
     ]
    },
    {
     "cell_type": "code",
     "collapsed": false,
     "input": [
      "!pip install pandas"
     ],
     "language": "python",
     "metadata": {},
     "outputs": []
    },
    {
     "cell_type": "code",
     "collapsed": false,
     "input": [
      "import pandas as pd\n",
      "import pylab as pl\n",
      "import numpy as np\n",
      "import re"
     ],
     "language": "python",
     "metadata": {},
     "outputs": [],
     "prompt_number": 1
    },
    {
     "cell_type": "code",
     "collapsed": false,
     "input": [
      "%timeit list(df.columns)"
     ],
     "language": "python",
     "metadata": {},
     "outputs": [
      {
       "output_type": "stream",
       "stream": "stdout",
       "text": [
        "100000 loops, best of 3: 2.76 \u00b5s per loop\n"
       ]
      }
     ],
     "prompt_number": 33
    },
    {
     "cell_type": "code",
     "collapsed": false,
     "input": [
      "np.mean(df.Fare)"
     ],
     "language": "python",
     "metadata": {},
     "outputs": [
      {
       "metadata": {},
       "output_type": "pyout",
       "prompt_number": 31,
       "text": [
        "32.2042079685746"
       ]
      }
     ],
     "prompt_number": 31
    },
    {
     "cell_type": "markdown",
     "metadata": {},
     "source": [
      "We're going to use the <code>read_csv</code> function in pandas"
     ]
    },
    {
     "cell_type": "code",
     "collapsed": false,
     "input": [
      "?pd.read_csv"
     ],
     "language": "python",
     "metadata": {},
     "outputs": [],
     "prompt_number": 3
    },
    {
     "cell_type": "code",
     "collapsed": false,
     "input": [
      "! head -n 2 ./data/credit-training.csv"
     ],
     "language": "python",
     "metadata": {},
     "outputs": []
    },
    {
     "cell_type": "code",
     "collapsed": false,
     "input": [
      "df = pd.read_csv(\"/Users/pagrawal/Downloads/titanic.csv\")"
     ],
     "language": "python",
     "metadata": {},
     "outputs": [],
     "prompt_number": 5
    },
    {
     "cell_type": "code",
     "collapsed": false,
     "input": [
      "df.groupby(\"Pa"
     ],
     "language": "python",
     "metadata": {},
     "outputs": [
      {
       "metadata": {},
       "output_type": "pyout",
       "prompt_number": 15,
       "text": [
        "<pandas.core.groupby.DataFrameGroupBy object at 0x108859fd0>"
       ]
      }
     ],
     "prompt_number": 15
    },
    {
     "cell_type": "markdown",
     "metadata": {},
     "source": [
      "##What is <code>df</code>?\n",
      "Our data is represented by a DataFrame. You can think of data frames as a giant spreadsheet which you can program. It's a collection of series (or columns) with a common set of commands that make managing data in Python super easy."
     ]
    },
    {
     "cell_type": "code",
     "collapsed": false,
     "input": [
      "#barf!!!\n",
      "df"
     ],
     "language": "python",
     "metadata": {},
     "outputs": []
    },
    {
     "cell_type": "code",
     "collapsed": false,
     "input": [
      "#you'll learn more about head() later\n",
      "df.head()"
     ],
     "language": "python",
     "metadata": {},
     "outputs": []
    },
    {
     "cell_type": "code",
     "collapsed": false,
     "input": [
      "type(df)"
     ],
     "language": "python",
     "metadata": {},
     "outputs": []
    },
    {
     "cell_type": "markdown",
     "metadata": {},
     "source": [
      "You can think of a Series is a column in your data. A series will have a particular datatype associated with it. Datatypes can be integers, strings, floating point numbers, etc."
     ]
    },
    {
     "cell_type": "code",
     "collapsed": false,
     "input": [
      "print df.SeriousDlqin2yrs.head()\n",
      "type(df.SeriousDlqin2yrs)"
     ],
     "language": "python",
     "metadata": {},
     "outputs": []
    },
    {
     "cell_type": "code",
     "collapsed": false,
     "input": [
      "df.dtypes"
     ],
     "language": "python",
     "metadata": {},
     "outputs": []
    },
    {
     "cell_type": "markdown",
     "metadata": {},
     "source": [
      "##Basic Commands\n",
      "Many of these commands will be familiar for those of you coming from a UNIX/Linux background. If not, don't sweat it, these commands are super easy, but extremely helpful for \"taking a look around\" at your data."
     ]
    },
    {
     "cell_type": "markdown",
     "metadata": {},
     "source": [
      "###Selecting a column"
     ]
    },
    {
     "cell_type": "code",
     "collapsed": false,
     "input": [
      "df['DebtRatio']\n",
      "df.DebtRatio"
     ],
     "language": "python",
     "metadata": {},
     "outputs": []
    },
    {
     "cell_type": "markdown",
     "metadata": {},
     "source": [
      "###head(n=5)"
     ]
    },
    {
     "cell_type": "code",
     "collapsed": false,
     "input": [
      "df.head()"
     ],
     "language": "python",
     "metadata": {},
     "outputs": []
    },
    {
     "cell_type": "code",
     "collapsed": false,
     "input": [
      "df.head(1)"
     ],
     "language": "python",
     "metadata": {},
     "outputs": [
      {
       "html": [
        "<div style=\"max-height:1000px;max-width:1500px;overflow:auto;\">\n",
        "<table border=\"1\" class=\"dataframe\">\n",
        "  <thead>\n",
        "    <tr style=\"text-align: right;\">\n",
        "      <th></th>\n",
        "      <th>PassengerId</th>\n",
        "      <th>Survived</th>\n",
        "      <th>Pclass</th>\n",
        "      <th>Name</th>\n",
        "      <th>Sex</th>\n",
        "      <th>Age</th>\n",
        "      <th>SibSp</th>\n",
        "      <th>Parch</th>\n",
        "      <th>Ticket</th>\n",
        "      <th>Fare</th>\n",
        "      <th>Cabin</th>\n",
        "      <th>Embarked</th>\n",
        "    </tr>\n",
        "  </thead>\n",
        "  <tbody>\n",
        "    <tr>\n",
        "      <th>0</th>\n",
        "      <td> 1</td>\n",
        "      <td> 0</td>\n",
        "      <td> 3</td>\n",
        "      <td> Braund, Mr. Owen Harris</td>\n",
        "      <td> male</td>\n",
        "      <td> 22</td>\n",
        "      <td> 1</td>\n",
        "      <td> 0</td>\n",
        "      <td> A/5 21171</td>\n",
        "      <td> 7.25</td>\n",
        "      <td> NaN</td>\n",
        "      <td> S</td>\n",
        "    </tr>\n",
        "  </tbody>\n",
        "</table>\n",
        "</div>"
       ],
       "metadata": {},
       "output_type": "pyout",
       "prompt_number": 16,
       "text": [
        "   PassengerId  Survived  Pclass                     Name   Sex  Age  SibSp  \\\n",
        "0            1         0       3  Braund, Mr. Owen Harris  male   22      1   \n",
        "\n",
        "   Parch     Ticket  Fare Cabin Embarked  \n",
        "0      0  A/5 21171  7.25   NaN        S  "
       ]
      }
     ],
     "prompt_number": 16
    },
    {
     "cell_type": "code",
     "collapsed": false,
     "input": [
      "df.SeriousDlqin2yrs.head()"
     ],
     "language": "python",
     "metadata": {},
     "outputs": []
    },
    {
     "cell_type": "markdown",
     "metadata": {},
     "source": [
      "###tail(n=5)"
     ]
    },
    {
     "cell_type": "code",
     "collapsed": false,
     "input": [],
     "language": "python",
     "metadata": {},
     "outputs": []
    },
    {
     "cell_type": "code",
     "collapsed": false,
     "input": [
      "df.RevolvingUtilizationOfUnsecuredLines.tail()"
     ],
     "language": "python",
     "metadata": {},
     "outputs": []
    },
    {
     "cell_type": "markdown",
     "metadata": {},
     "source": [
      "###describe(percentile_width=50)"
     ]
    },
    {
     "cell_type": "code",
     "collapsed": false,
     "input": [
      "df.describe()"
     ],
     "language": "python",
     "metadata": {},
     "outputs": [
      {
       "html": [
        "<div style=\"max-height:1000px;max-width:1500px;overflow:auto;\">\n",
        "<table border=\"1\" class=\"dataframe\">\n",
        "  <thead>\n",
        "    <tr style=\"text-align: right;\">\n",
        "      <th></th>\n",
        "      <th>PassengerId</th>\n",
        "      <th>Survived</th>\n",
        "      <th>Pclass</th>\n",
        "      <th>Age</th>\n",
        "      <th>SibSp</th>\n",
        "      <th>Parch</th>\n",
        "      <th>Fare</th>\n",
        "    </tr>\n",
        "  </thead>\n",
        "  <tbody>\n",
        "    <tr>\n",
        "      <th>count</th>\n",
        "      <td> 891.000000</td>\n",
        "      <td> 891.000000</td>\n",
        "      <td> 891.000000</td>\n",
        "      <td> 714.000000</td>\n",
        "      <td> 891.000000</td>\n",
        "      <td> 891.000000</td>\n",
        "      <td> 891.000000</td>\n",
        "    </tr>\n",
        "    <tr>\n",
        "      <th>mean</th>\n",
        "      <td> 446.000000</td>\n",
        "      <td>   0.383838</td>\n",
        "      <td>   2.308642</td>\n",
        "      <td>  29.699118</td>\n",
        "      <td>   0.523008</td>\n",
        "      <td>   0.381594</td>\n",
        "      <td>  32.204208</td>\n",
        "    </tr>\n",
        "    <tr>\n",
        "      <th>std</th>\n",
        "      <td> 257.353842</td>\n",
        "      <td>   0.486592</td>\n",
        "      <td>   0.836071</td>\n",
        "      <td>  14.526497</td>\n",
        "      <td>   1.102743</td>\n",
        "      <td>   0.806057</td>\n",
        "      <td>  49.693429</td>\n",
        "    </tr>\n",
        "    <tr>\n",
        "      <th>min</th>\n",
        "      <td>   1.000000</td>\n",
        "      <td>   0.000000</td>\n",
        "      <td>   1.000000</td>\n",
        "      <td>   0.420000</td>\n",
        "      <td>   0.000000</td>\n",
        "      <td>   0.000000</td>\n",
        "      <td>   0.000000</td>\n",
        "    </tr>\n",
        "    <tr>\n",
        "      <th>25%</th>\n",
        "      <td> 223.500000</td>\n",
        "      <td>   0.000000</td>\n",
        "      <td>   2.000000</td>\n",
        "      <td>  20.125000</td>\n",
        "      <td>   0.000000</td>\n",
        "      <td>   0.000000</td>\n",
        "      <td>   7.910400</td>\n",
        "    </tr>\n",
        "    <tr>\n",
        "      <th>50%</th>\n",
        "      <td> 446.000000</td>\n",
        "      <td>   0.000000</td>\n",
        "      <td>   3.000000</td>\n",
        "      <td>  28.000000</td>\n",
        "      <td>   0.000000</td>\n",
        "      <td>   0.000000</td>\n",
        "      <td>  14.454200</td>\n",
        "    </tr>\n",
        "    <tr>\n",
        "      <th>75%</th>\n",
        "      <td> 668.500000</td>\n",
        "      <td>   1.000000</td>\n",
        "      <td>   3.000000</td>\n",
        "      <td>  38.000000</td>\n",
        "      <td>   1.000000</td>\n",
        "      <td>   0.000000</td>\n",
        "      <td>  31.000000</td>\n",
        "    </tr>\n",
        "    <tr>\n",
        "      <th>max</th>\n",
        "      <td> 891.000000</td>\n",
        "      <td>   1.000000</td>\n",
        "      <td>   3.000000</td>\n",
        "      <td>  80.000000</td>\n",
        "      <td>   8.000000</td>\n",
        "      <td>   6.000000</td>\n",
        "      <td> 512.329200</td>\n",
        "    </tr>\n",
        "  </tbody>\n",
        "</table>\n",
        "</div>"
       ],
       "metadata": {},
       "output_type": "pyout",
       "prompt_number": 17,
       "text": [
        "       PassengerId    Survived      Pclass         Age       SibSp  \\\n",
        "count   891.000000  891.000000  891.000000  714.000000  891.000000   \n",
        "mean    446.000000    0.383838    2.308642   29.699118    0.523008   \n",
        "std     257.353842    0.486592    0.836071   14.526497    1.102743   \n",
        "min       1.000000    0.000000    1.000000    0.420000    0.000000   \n",
        "25%     223.500000    0.000000    2.000000   20.125000    0.000000   \n",
        "50%     446.000000    0.000000    3.000000   28.000000    0.000000   \n",
        "75%     668.500000    1.000000    3.000000   38.000000    1.000000   \n",
        "max     891.000000    1.000000    3.000000   80.000000    8.000000   \n",
        "\n",
        "            Parch        Fare  \n",
        "count  891.000000  891.000000  \n",
        "mean     0.381594   32.204208  \n",
        "std      0.806057   49.693429  \n",
        "min      0.000000    0.000000  \n",
        "25%      0.000000    7.910400  \n",
        "50%      0.000000   14.454200  \n",
        "75%      0.000000   31.000000  \n",
        "max      6.000000  512.329200  "
       ]
      }
     ],
     "prompt_number": 17
    },
    {
     "cell_type": "code",
     "collapsed": false,
     "input": [
      "df.age.describe(percentile_width=25)"
     ],
     "language": "python",
     "metadata": {},
     "outputs": []
    },
    {
     "cell_type": "markdown",
     "metadata": {},
     "source": [
      "###unqiue() and nunique()"
     ]
    },
    {
     "cell_type": "code",
     "collapsed": false,
     "input": [
      "df.Name.unique()"
     ],
     "language": "python",
     "metadata": {},
     "outputs": [
      {
       "metadata": {},
       "output_type": "pyout",
       "prompt_number": 32,
       "text": [
        "array(['Braund, Mr. Owen Harris',\n",
        "       'Cumings, Mrs. John Bradley (Florence Briggs Thayer)',\n",
        "       'Heikkinen, Miss. Laina',\n",
        "       'Futrelle, Mrs. Jacques Heath (Lily May Peel)',\n",
        "       'Allen, Mr. William Henry', 'Moran, Mr. James',\n",
        "       'McCarthy, Mr. Timothy J', 'Palsson, Master. Gosta Leonard',\n",
        "       'Johnson, Mrs. Oscar W (Elisabeth Vilhelmina Berg)',\n",
        "       'Nasser, Mrs. Nicholas (Adele Achem)',\n",
        "       'Sandstrom, Miss. Marguerite Rut', 'Bonnell, Miss. Elizabeth',\n",
        "       'Saundercock, Mr. William Henry', 'Andersson, Mr. Anders Johan',\n",
        "       'Vestrom, Miss. Hulda Amanda Adolfina',\n",
        "       'Hewlett, Mrs. (Mary D Kingcome) ', 'Rice, Master. Eugene',\n",
        "       'Williams, Mr. Charles Eugene',\n",
        "       'Vander Planke, Mrs. Julius (Emelia Maria Vandemoortele)',\n",
        "       'Masselmani, Mrs. Fatima', 'Fynney, Mr. Joseph J',\n",
        "       'Beesley, Mr. Lawrence', 'McGowan, Miss. Anna \"Annie\"',\n",
        "       'Sloper, Mr. William Thompson', 'Palsson, Miss. Torborg Danira',\n",
        "       'Asplund, Mrs. Carl Oscar (Selma Augusta Emilia Johansson)',\n",
        "       'Emir, Mr. Farred Chehab', 'Fortune, Mr. Charles Alexander',\n",
        "       'O\\'Dwyer, Miss. Ellen \"Nellie\"', 'Todoroff, Mr. Lalio',\n",
        "       'Uruchurtu, Don. Manuel E',\n",
        "       'Spencer, Mrs. William Augustus (Marie Eugenie)',\n",
        "       'Glynn, Miss. Mary Agatha', 'Wheadon, Mr. Edward H',\n",
        "       'Meyer, Mr. Edgar Joseph', 'Holverson, Mr. Alexander Oskar',\n",
        "       'Mamee, Mr. Hanna', 'Cann, Mr. Ernest Charles',\n",
        "       'Vander Planke, Miss. Augusta Maria', 'Nicola-Yarred, Miss. Jamila',\n",
        "       'Ahlin, Mrs. Johan (Johanna Persdotter Larsson)',\n",
        "       'Turpin, Mrs. William John Robert (Dorothy Ann Wonnacott)',\n",
        "       'Kraeff, Mr. Theodor', 'Laroche, Miss. Simonne Marie Anne Andree',\n",
        "       'Devaney, Miss. Margaret Delia', 'Rogers, Mr. William John',\n",
        "       'Lennon, Mr. Denis', \"O'Driscoll, Miss. Bridget\",\n",
        "       'Samaan, Mr. Youssef',\n",
        "       'Arnold-Franchi, Mrs. Josef (Josefine Franchi)',\n",
        "       'Panula, Master. Juha Niilo', 'Nosworthy, Mr. Richard Cater',\n",
        "       'Harper, Mrs. Henry Sleeper (Myna Haxtun)',\n",
        "       'Faunthorpe, Mrs. Lizzie (Elizabeth Anne Wilkinson)',\n",
        "       'Ostby, Mr. Engelhart Cornelius', 'Woolner, Mr. Hugh',\n",
        "       'Rugg, Miss. Emily', 'Novel, Mr. Mansouer',\n",
        "       'West, Miss. Constance Mirium',\n",
        "       'Goodwin, Master. William Frederick', 'Sirayanian, Mr. Orsen',\n",
        "       'Icard, Miss. Amelie', 'Harris, Mr. Henry Birkhardt',\n",
        "       'Skoog, Master. Harald', 'Stewart, Mr. Albert A',\n",
        "       'Moubarek, Master. Gerios', 'Nye, Mrs. (Elizabeth Ramell)',\n",
        "       'Crease, Mr. Ernest James', 'Andersson, Miss. Erna Alexandra',\n",
        "       'Kink, Mr. Vincenz', 'Jenkin, Mr. Stephen Curnow',\n",
        "       'Goodwin, Miss. Lillian Amy', 'Hood, Mr. Ambrose Jr',\n",
        "       'Chronopoulos, Mr. Apostolos', 'Bing, Mr. Lee',\n",
        "       'Moen, Mr. Sigurd Hansen', 'Staneff, Mr. Ivan',\n",
        "       'Moutal, Mr. Rahamin Haim', 'Caldwell, Master. Alden Gates',\n",
        "       'Dowdell, Miss. Elizabeth', 'Waelens, Mr. Achille',\n",
        "       'Sheerlinck, Mr. Jan Baptist', 'McDermott, Miss. Brigdet Delia',\n",
        "       'Carrau, Mr. Francisco M', 'Ilett, Miss. Bertha',\n",
        "       'Backstrom, Mrs. Karl Alfred (Maria Mathilda Gustafsson)',\n",
        "       'Ford, Mr. William Neal', 'Slocovski, Mr. Selman Francis',\n",
        "       'Fortune, Miss. Mabel Helen', 'Celotti, Mr. Francesco',\n",
        "       'Christmann, Mr. Emil', 'Andreasson, Mr. Paul Edvin',\n",
        "       'Chaffee, Mr. Herbert Fuller', 'Dean, Mr. Bertram Frank',\n",
        "       'Coxon, Mr. Daniel', 'Shorney, Mr. Charles Joseph',\n",
        "       'Goldschmidt, Mr. George B', 'Greenfield, Mr. William Bertram',\n",
        "       'Doling, Mrs. John T (Ada Julia Bone)', 'Kantor, Mr. Sinai',\n",
        "       'Petranec, Miss. Matilda', 'Petroff, Mr. Pastcho (\"Pentcho\")',\n",
        "       'White, Mr. Richard Frasar', 'Johansson, Mr. Gustaf Joel',\n",
        "       'Gustafsson, Mr. Anders Vilhelm', 'Mionoff, Mr. Stoytcho',\n",
        "       'Salkjelsvik, Miss. Anna Kristine', 'Moss, Mr. Albert Johan',\n",
        "       'Rekic, Mr. Tido', 'Moran, Miss. Bertha',\n",
        "       'Porter, Mr. Walter Chamberlain', 'Zabour, Miss. Hileni',\n",
        "       'Barton, Mr. David John', 'Jussila, Miss. Katriina',\n",
        "       'Attalah, Miss. Malake', 'Pekoniemi, Mr. Edvard',\n",
        "       'Connors, Mr. Patrick', 'Turpin, Mr. William John Robert',\n",
        "       'Baxter, Mr. Quigg Edmond', 'Andersson, Miss. Ellis Anna Maria',\n",
        "       'Hickman, Mr. Stanley George', 'Moore, Mr. Leonard Charles',\n",
        "       'Nasser, Mr. Nicholas', 'Webber, Miss. Susan',\n",
        "       'White, Mr. Percival Wayland', 'Nicola-Yarred, Master. Elias',\n",
        "       'McMahon, Mr. Martin', 'Madsen, Mr. Fridtjof Arne',\n",
        "       'Peter, Miss. Anna', 'Ekstrom, Mr. Johan', 'Drazenoic, Mr. Jozef',\n",
        "       'Coelho, Mr. Domingos Fernandeo',\n",
        "       'Robins, Mrs. Alexander A (Grace Charity Laury)',\n",
        "       'Weisz, Mrs. Leopold (Mathilde Francoise Pede)',\n",
        "       'Sobey, Mr. Samuel James Hayden', 'Richard, Mr. Emile',\n",
        "       'Newsom, Miss. Helen Monypeny', 'Futrelle, Mr. Jacques Heath',\n",
        "       'Osen, Mr. Olaf Elon', 'Giglio, Mr. Victor',\n",
        "       'Boulos, Mrs. Joseph (Sultana)', 'Nysten, Miss. Anna Sofia',\n",
        "       'Hakkarainen, Mrs. Pekka Pietari (Elin Matilda Dolck)',\n",
        "       'Burke, Mr. Jeremiah', 'Andrew, Mr. Edgardo Samuel',\n",
        "       'Nicholls, Mr. Joseph Charles',\n",
        "       'Andersson, Mr. August Edvard (\"Wennerstrom\")',\n",
        "       'Ford, Miss. Robina Maggie \"Ruby\"',\n",
        "       'Navratil, Mr. Michel (\"Louis M Hoffman\")',\n",
        "       'Byles, Rev. Thomas Roussel Davids', 'Bateman, Rev. Robert James',\n",
        "       'Pears, Mrs. Thomas (Edith Wearne)', 'Meo, Mr. Alfonzo',\n",
        "       'van Billiard, Mr. Austin Blyler', 'Olsen, Mr. Ole Martin',\n",
        "       'Williams, Mr. Charles Duane', 'Gilnagh, Miss. Katherine \"Katie\"',\n",
        "       'Corn, Mr. Harry', 'Smiljanic, Mr. Mile',\n",
        "       'Sage, Master. Thomas Henry', 'Cribb, Mr. John Hatfield',\n",
        "       'Watt, Mrs. James (Elizabeth \"Bessie\" Inglis Milne)',\n",
        "       'Bengtsson, Mr. John Viktor', 'Calic, Mr. Jovo',\n",
        "       'Panula, Master. Eino Viljami',\n",
        "       'Goldsmith, Master. Frank John William \"Frankie\"',\n",
        "       'Chibnall, Mrs. (Edith Martha Bowerman)',\n",
        "       'Skoog, Mrs. William (Anna Bernhardina Karlsson)',\n",
        "       'Baumann, Mr. John D', 'Ling, Mr. Lee', 'Van der hoef, Mr. Wyckoff',\n",
        "       'Rice, Master. Arthur', 'Johnson, Miss. Eleanor Ileen',\n",
        "       'Sivola, Mr. Antti Wilhelm', 'Smith, Mr. James Clinch',\n",
        "       'Klasen, Mr. Klas Albin', 'Lefebre, Master. Henry Forbes',\n",
        "       'Isham, Miss. Ann Elizabeth', 'Hale, Mr. Reginald',\n",
        "       'Leonard, Mr. Lionel', 'Sage, Miss. Constance Gladys',\n",
        "       'Pernot, Mr. Rene', 'Asplund, Master. Clarence Gustaf Hugo',\n",
        "       'Becker, Master. Richard F', 'Kink-Heilmann, Miss. Luise Gretchen',\n",
        "       'Rood, Mr. Hugh Roscoe',\n",
        "       'O\\'Brien, Mrs. Thomas (Johanna \"Hannah\" Godfrey)',\n",
        "       'Romaine, Mr. Charles Hallace (\"Mr C Rolmane\")', 'Bourke, Mr. John',\n",
        "       'Turcin, Mr. Stjepan', 'Pinsky, Mrs. (Rosa)',\n",
        "       'Carbines, Mr. William',\n",
        "       'Andersen-Jensen, Miss. Carla Christine Nielsine',\n",
        "       'Navratil, Master. Michel M',\n",
        "       'Brown, Mrs. James Joseph (Margaret Tobin)', 'Lurette, Miss. Elise',\n",
        "       'Mernagh, Mr. Robert', 'Olsen, Mr. Karl Siegwart Andreas',\n",
        "       'Madigan, Miss. Margaret \"Maggie\"',\n",
        "       'Yrois, Miss. Henriette (\"Mrs Harbeck\")',\n",
        "       'Vande Walle, Mr. Nestor Cyriel', 'Sage, Mr. Frederick',\n",
        "       'Johanson, Mr. Jakob Alfred', 'Youseff, Mr. Gerious',\n",
        "       'Cohen, Mr. Gurshon \"Gus\"', 'Strom, Miss. Telma Matilda',\n",
        "       'Backstrom, Mr. Karl Alfred', 'Albimona, Mr. Nassef Cassem',\n",
        "       'Carr, Miss. Helen \"Ellen\"', 'Blank, Mr. Henry', 'Ali, Mr. Ahmed',\n",
        "       'Cameron, Miss. Clear Annie', 'Perkin, Mr. John Henry',\n",
        "       'Givard, Mr. Hans Kristensen', 'Kiernan, Mr. Philip',\n",
        "       'Newell, Miss. Madeleine', 'Honkanen, Miss. Eliina',\n",
        "       'Jacobsohn, Mr. Sidney Samuel', 'Bazzani, Miss. Albina',\n",
        "       'Harris, Mr. Walter', 'Sunderland, Mr. Victor Francis',\n",
        "       'Bracken, Mr. James H', 'Green, Mr. George Henry',\n",
        "       'Nenkoff, Mr. Christo', 'Hoyt, Mr. Frederick Maxfield',\n",
        "       'Berglund, Mr. Karl Ivar Sven', 'Mellors, Mr. William John',\n",
        "       'Lovell, Mr. John Hall (\"Henry\")', 'Fahlstrom, Mr. Arne Jonas',\n",
        "       'Lefebre, Miss. Mathilde',\n",
        "       'Harris, Mrs. Henry Birkhardt (Irene Wallach)',\n",
        "       'Larsson, Mr. Bengt Edvin', 'Sjostedt, Mr. Ernst Adolf',\n",
        "       'Asplund, Miss. Lillian Gertrud',\n",
        "       'Leyson, Mr. Robert William Norman', 'Harknett, Miss. Alice Phoebe',\n",
        "       'Hold, Mr. Stephen', 'Collyer, Miss. Marjorie \"Lottie\"',\n",
        "       'Pengelly, Mr. Frederick William', 'Hunt, Mr. George Henry',\n",
        "       'Zabour, Miss. Thamine', 'Murphy, Miss. Katherine \"Kate\"',\n",
        "       'Coleridge, Mr. Reginald Charles', 'Maenpaa, Mr. Matti Alexanteri',\n",
        "       'Attalah, Mr. Sleiman', 'Minahan, Dr. William Edward',\n",
        "       'Lindahl, Miss. Agda Thorilda Viktoria',\n",
        "       'Hamalainen, Mrs. William (Anna)', 'Beckwith, Mr. Richard Leonard',\n",
        "       'Carter, Rev. Ernest Courtenay', 'Reed, Mr. James George',\n",
        "       'Strom, Mrs. Wilhelm (Elna Matilda Persson)',\n",
        "       'Stead, Mr. William Thomas', 'Lobb, Mr. William Arthur',\n",
        "       'Rosblom, Mrs. Viktor (Helena Wilhelmina)',\n",
        "       'Touma, Mrs. Darwis (Hanne Youssef Razi)',\n",
        "       'Thorne, Mrs. Gertrude Maybelle', 'Cherry, Miss. Gladys',\n",
        "       'Ward, Miss. Anna', 'Parrish, Mrs. (Lutie Davis)',\n",
        "       'Smith, Mr. Thomas', 'Asplund, Master. Edvin Rojj Felix',\n",
        "       'Taussig, Mr. Emil', 'Harrison, Mr. William', 'Henry, Miss. Delia',\n",
        "       'Reeves, Mr. David', 'Panula, Mr. Ernesti Arvid',\n",
        "       'Persson, Mr. Ernst Ulrik',\n",
        "       'Graham, Mrs. William Thompson (Edith Junkins)',\n",
        "       'Bissette, Miss. Amelia', 'Cairns, Mr. Alexander',\n",
        "       'Tornquist, Mr. William Henry',\n",
        "       'Mellinger, Mrs. (Elizabeth Anne Maidment)',\n",
        "       'Natsch, Mr. Charles H', 'Healy, Miss. Hanora \"Nora\"',\n",
        "       'Andrews, Miss. Kornelia Theodosia',\n",
        "       'Lindblom, Miss. Augusta Charlotta', 'Parkes, Mr. Francis \"Frank\"',\n",
        "       'Rice, Master. Eric', 'Abbott, Mrs. Stanton (Rosa Hunt)',\n",
        "       'Duane, Mr. Frank', 'Olsson, Mr. Nils Johan Goransson',\n",
        "       'de Pelsmaeker, Mr. Alfons', 'Dorking, Mr. Edward Arthur',\n",
        "       'Smith, Mr. Richard William', 'Stankovic, Mr. Ivan',\n",
        "       'de Mulder, Mr. Theodore', 'Naidenoff, Mr. Penko',\n",
        "       'Hosono, Mr. Masabumi', 'Connolly, Miss. Kate',\n",
        "       'Barber, Miss. Ellen \"Nellie\"',\n",
        "       'Bishop, Mrs. Dickinson H (Helen Walton)', 'Levy, Mr. Rene Jacques',\n",
        "       'Haas, Miss. Aloisia', 'Mineff, Mr. Ivan', 'Lewy, Mr. Ervin G',\n",
        "       'Hanna, Mr. Mansour', 'Allison, Miss. Helen Loraine',\n",
        "       'Saalfeld, Mr. Adolphe',\n",
        "       'Baxter, Mrs. James (Helene DeLaudeniere Chaput)',\n",
        "       'Kelly, Miss. Anna Katherine \"Annie Kate\"', 'McCoy, Mr. Bernard',\n",
        "       'Johnson, Mr. William Cahoone Jr', 'Keane, Miss. Nora A',\n",
        "       'Williams, Mr. Howard Hugh \"Harry\"',\n",
        "       'Allison, Master. Hudson Trevor', 'Fleming, Miss. Margaret',\n",
        "       'Penasco y Castellana, Mrs. Victor de Satode (Maria Josefa Perez de Soto y Vallejo)',\n",
        "       'Abelson, Mr. Samuel', 'Francatelli, Miss. Laura Mabel',\n",
        "       'Hays, Miss. Margaret Bechstein', 'Ryerson, Miss. Emily Borie',\n",
        "       'Lahtinen, Mrs. William (Anna Sylfven)', 'Hendekovic, Mr. Ignjac',\n",
        "       'Hart, Mr. Benjamin', 'Nilsson, Miss. Helmina Josefina',\n",
        "       'Kantor, Mrs. Sinai (Miriam Sternin)', 'Moraweck, Dr. Ernest',\n",
        "       'Wick, Miss. Mary Natalie',\n",
        "       'Spedden, Mrs. Frederic Oakley (Margaretta Corning Stone)',\n",
        "       'Dennis, Mr. Samuel', 'Danoff, Mr. Yoto',\n",
        "       'Slayter, Miss. Hilda Mary',\n",
        "       'Caldwell, Mrs. Albert Francis (Sylvia Mae Harbaugh)',\n",
        "       'Sage, Mr. George John Jr', 'Young, Miss. Marie Grice',\n",
        "       'Nysveen, Mr. Johan Hansen', 'Ball, Mrs. (Ada E Hall)',\n",
        "       'Goldsmith, Mrs. Frank John (Emily Alice Brown)',\n",
        "       'Hippach, Miss. Jean Gertrude', 'McCoy, Miss. Agnes',\n",
        "       'Partner, Mr. Austen', 'Graham, Mr. George Edward',\n",
        "       'Vander Planke, Mr. Leo Edmondus',\n",
        "       'Frauenthal, Mrs. Henry William (Clara Heinsheimer)',\n",
        "       'Denkoff, Mr. Mitto', 'Pears, Mr. Thomas Clinton',\n",
        "       'Burns, Miss. Elizabeth Margaret', 'Dahl, Mr. Karl Edwart',\n",
        "       'Blackwell, Mr. Stephen Weart', 'Navratil, Master. Edmond Roger',\n",
        "       'Fortune, Miss. Alice Elizabeth', 'Collander, Mr. Erik Gustaf',\n",
        "       'Sedgwick, Mr. Charles Frederick Waddington',\n",
        "       'Fox, Mr. Stanley Hubert', 'Brown, Miss. Amelia \"Mildred\"',\n",
        "       'Smith, Miss. Marion Elsie',\n",
        "       'Davison, Mrs. Thomas Henry (Mary E Finck)',\n",
        "       'Coutts, Master. William Loch \"William\"', 'Dimic, Mr. Jovan',\n",
        "       'Odahl, Mr. Nils Martin', 'Williams-Lambert, Mr. Fletcher Fellows',\n",
        "       'Elias, Mr. Tannous', 'Arnold-Franchi, Mr. Josef',\n",
        "       'Yousif, Mr. Wazli', 'Vanden Steen, Mr. Leo Peter',\n",
        "       'Bowerman, Miss. Elsie Edith', 'Funk, Miss. Annie Clemmer',\n",
        "       'McGovern, Miss. Mary', 'Mockler, Miss. Helen Mary \"Ellie\"',\n",
        "       'Skoog, Mr. Wilhelm', 'del Carlo, Mr. Sebastiano',\n",
        "       'Barbara, Mrs. (Catherine David)', 'Asim, Mr. Adola',\n",
        "       \"O'Brien, Mr. Thomas\", 'Adahl, Mr. Mauritz Nils Martin',\n",
        "       'Warren, Mrs. Frank Manley (Anna Sophia Atkinson)',\n",
        "       'Moussa, Mrs. (Mantoura Boulos)', 'Jermyn, Miss. Annie',\n",
        "       'Aubart, Mme. Leontine Pauline', 'Harder, Mr. George Achilles',\n",
        "       'Wiklund, Mr. Jakob Alfred', 'Beavan, Mr. William Thomas',\n",
        "       'Ringhini, Mr. Sante', 'Palsson, Miss. Stina Viola',\n",
        "       'Meyer, Mrs. Edgar Joseph (Leila Saks)',\n",
        "       'Landergren, Miss. Aurora Adelia', 'Widener, Mr. Harry Elkins',\n",
        "       'Betros, Mr. Tannous', 'Gustafsson, Mr. Karl Gideon',\n",
        "       'Bidois, Miss. Rosalie', 'Nakid, Miss. Maria (\"Mary\")',\n",
        "       'Tikkanen, Mr. Juho',\n",
        "       'Holverson, Mrs. Alexander Oskar (Mary Aline Towner)',\n",
        "       'Plotcharsky, Mr. Vasil', 'Davies, Mr. Charles Henry',\n",
        "       'Goodwin, Master. Sidney Leonard', 'Buss, Miss. Kate',\n",
        "       'Sadlier, Mr. Matthew', 'Lehmann, Miss. Bertha',\n",
        "       'Carter, Mr. William Ernest', 'Jansson, Mr. Carl Olof',\n",
        "       'Gustafsson, Mr. Johan Birger', 'Newell, Miss. Marjorie',\n",
        "       'Sandstrom, Mrs. Hjalmar (Agnes Charlotta Bengtsson)',\n",
        "       'Johansson, Mr. Erik', 'Olsson, Miss. Elina',\n",
        "       'McKane, Mr. Peter David', 'Pain, Dr. Alfred',\n",
        "       'Trout, Mrs. William H (Jessie L)', 'Niskanen, Mr. Juha',\n",
        "       'Adams, Mr. John', 'Jussila, Miss. Mari Aina',\n",
        "       'Hakkarainen, Mr. Pekka Pietari', 'Oreskovic, Miss. Marija',\n",
        "       'Gale, Mr. Shadrach', 'Widegren, Mr. Carl/Charles Peter',\n",
        "       'Richards, Master. William Rowe',\n",
        "       'Birkeland, Mr. Hans Martin Monsen', 'Lefebre, Miss. Ida',\n",
        "       'Sdycoff, Mr. Todor', 'Hart, Mr. Henry', 'Minahan, Miss. Daisy E',\n",
        "       'Cunningham, Mr. Alfred Fleming', 'Sundman, Mr. Johan Julian',\n",
        "       'Meek, Mrs. Thomas (Annie Louise Rowley)',\n",
        "       'Drew, Mrs. James Vivian (Lulu Thorne Christian)',\n",
        "       'Silven, Miss. Lyyli Karoliina', 'Matthews, Mr. William John',\n",
        "       'Van Impe, Miss. Catharina', 'Gheorgheff, Mr. Stanio',\n",
        "       'Charters, Mr. David', 'Zimmerman, Mr. Leo',\n",
        "       'Danbom, Mrs. Ernst Gilbert (Anna Sigrid Maria Brogren)',\n",
        "       'Rosblom, Mr. Viktor Richard', 'Wiseman, Mr. Phillippe',\n",
        "       'Clarke, Mrs. Charles V (Ada Maria Winfield)',\n",
        "       'Phillips, Miss. Kate Florence (\"Mrs Kate Louise Phillips Marshall\")',\n",
        "       'Flynn, Mr. James', 'Pickard, Mr. Berk (Berk Trembisky)',\n",
        "       'Bjornstrom-Steffansson, Mr. Mauritz Hakan',\n",
        "       'Thorneycroft, Mrs. Percival (Florence Kate White)',\n",
        "       'Louch, Mrs. Charles Alexander (Alice Adelaide Slow)',\n",
        "       'Kallio, Mr. Nikolai Erland', 'Silvey, Mr. William Baird',\n",
        "       'Carter, Miss. Lucile Polk', 'Ford, Miss. Doolina Margaret \"Daisy\"',\n",
        "       'Richards, Mrs. Sidney (Emily Hocking)', 'Fortune, Mr. Mark',\n",
        "       'Kvillner, Mr. Johan Henrik Johannesson',\n",
        "       'Hart, Mrs. Benjamin (Esther Ada Bloomfield)', 'Hampe, Mr. Leon',\n",
        "       'Petterson, Mr. Johan Emil', 'Reynaldo, Ms. Encarnacion',\n",
        "       'Johannesen-Bratthammer, Mr. Bernt', 'Dodge, Master. Washington',\n",
        "       'Mellinger, Miss. Madeleine Violet', 'Seward, Mr. Frederic Kimber',\n",
        "       'Baclini, Miss. Marie Catherine', 'Peuchen, Major. Arthur Godfrey',\n",
        "       'West, Mr. Edwy Arthur', 'Hagland, Mr. Ingvald Olai Olsen',\n",
        "       'Foreman, Mr. Benjamin Laventall', 'Goldenberg, Mr. Samuel L',\n",
        "       'Peduzzi, Mr. Joseph', 'Jalsevac, Mr. Ivan',\n",
        "       'Millet, Mr. Francis Davis', 'Kenyon, Mrs. Frederick R (Marion)',\n",
        "       'Toomey, Miss. Ellen', \"O'Connor, Mr. Maurice\",\n",
        "       'Anderson, Mr. Harry', 'Morley, Mr. William', 'Gee, Mr. Arthur H',\n",
        "       'Milling, Mr. Jacob Christian', 'Maisner, Mr. Simon',\n",
        "       'Goncalves, Mr. Manuel Estanslas', 'Campbell, Mr. William',\n",
        "       'Smart, Mr. John Montgomery', 'Scanlan, Mr. James',\n",
        "       'Baclini, Miss. Helene Barbara', 'Keefe, Mr. Arthur',\n",
        "       'Cacic, Mr. Luka', 'West, Mrs. Edwy Arthur (Ada Mary Worth)',\n",
        "       'Jerwan, Mrs. Amin S (Marie Marthe Thuillard)',\n",
        "       'Strandberg, Miss. Ida Sofia', 'Clifford, Mr. George Quincy',\n",
        "       'Renouf, Mr. Peter Henry', 'Braund, Mr. Lewis Richard',\n",
        "       'Karlsson, Mr. Nils August', 'Hirvonen, Miss. Hildur E',\n",
        "       'Goodwin, Master. Harold Victor',\n",
        "       'Frost, Mr. Anthony Wood \"Archie\"', 'Rouse, Mr. Richard Henry',\n",
        "       'Turkula, Mrs. (Hedwig)', 'Bishop, Mr. Dickinson H',\n",
        "       'Lefebre, Miss. Jeannie',\n",
        "       'Hoyt, Mrs. Frederick Maxfield (Jane Anne Forby)',\n",
        "       'Kent, Mr. Edward Austin', 'Somerton, Mr. Francis William',\n",
        "       'Coutts, Master. Eden Leslie \"Neville\"',\n",
        "       'Hagland, Mr. Konrad Mathias Reiersen', 'Windelov, Mr. Einar',\n",
        "       'Molson, Mr. Harry Markland', 'Artagaveytia, Mr. Ramon',\n",
        "       'Stanley, Mr. Edward Roland', 'Yousseff, Mr. Gerious',\n",
        "       'Eustis, Miss. Elizabeth Mussey', 'Shellard, Mr. Frederick William',\n",
        "       'Allison, Mrs. Hudson J C (Bessie Waldo Daniels)',\n",
        "       'Svensson, Mr. Olof', 'Calic, Mr. Petar', 'Canavan, Miss. Mary',\n",
        "       \"O'Sullivan, Miss. Bridget Mary\", 'Laitinen, Miss. Kristina Sofia',\n",
        "       'Maioni, Miss. Roberta',\n",
        "       'Penasco y Castellana, Mr. Victor de Satode',\n",
        "       'Quick, Mrs. Frederick Charles (Jane Richards)',\n",
        "       'Bradley, Mr. George (\"George Arthur Brayton\")',\n",
        "       'Olsen, Mr. Henry Margido', 'Lang, Mr. Fang',\n",
        "       'Daly, Mr. Eugene Patrick', 'Webber, Mr. James',\n",
        "       'McGough, Mr. James Robert',\n",
        "       'Rothschild, Mrs. Martin (Elizabeth L. Barrett)',\n",
        "       'Coleff, Mr. Satio', 'Walker, Mr. William Anderson',\n",
        "       'Lemore, Mrs. (Amelia Milley)', 'Ryan, Mr. Patrick',\n",
        "       'Angle, Mrs. William A (Florence \"Mary\" Agnes Hughes)',\n",
        "       'Pavlovic, Mr. Stefo', 'Perreault, Miss. Anne', 'Vovk, Mr. Janko',\n",
        "       'Lahoud, Mr. Sarkis',\n",
        "       'Hippach, Mrs. Louis Albert (Ida Sophia Fischer)',\n",
        "       'Kassem, Mr. Fared', 'Farrell, Mr. James', 'Ridsdale, Miss. Lucy',\n",
        "       'Farthing, Mr. John', 'Salonen, Mr. Johan Werner',\n",
        "       'Hocking, Mr. Richard George', 'Quick, Miss. Phyllis May',\n",
        "       'Toufik, Mr. Nakli', 'Elias, Mr. Joseph Jr',\n",
        "       'Peter, Mrs. Catherine (Catherine Rizk)', 'Cacic, Miss. Marija',\n",
        "       'Hart, Miss. Eva Miriam', 'Butt, Major. Archibald Willingham',\n",
        "       'LeRoy, Miss. Bertha', 'Risien, Mr. Samuel Beard',\n",
        "       'Frolicher, Miss. Hedwig Margaritha', 'Crosby, Miss. Harriet R',\n",
        "       'Andersson, Miss. Ingeborg Constanzia',\n",
        "       'Andersson, Miss. Sigrid Elisabeth', 'Beane, Mr. Edward',\n",
        "       'Douglas, Mr. Walter Donald', 'Nicholson, Mr. Arthur Ernest',\n",
        "       'Beane, Mrs. Edward (Ethel Clarke)', 'Padro y Manent, Mr. Julian',\n",
        "       'Goldsmith, Mr. Frank John', 'Davies, Master. John Morgan Jr',\n",
        "       'Thayer, Mr. John Borland Jr', 'Sharp, Mr. Percival James R',\n",
        "       \"O'Brien, Mr. Timothy\", 'Leeni, Mr. Fahim (\"Philip Zenni\")',\n",
        "       'Ohman, Miss. Velin', 'Wright, Mr. George',\n",
        "       'Duff Gordon, Lady. (Lucille Christiana Sutherland) (\"Mrs Morgan\")',\n",
        "       'Robbins, Mr. Victor', 'Taussig, Mrs. Emil (Tillie Mandelbaum)',\n",
        "       'de Messemaeker, Mrs. Guillaume Joseph (Emma)',\n",
        "       'Morrow, Mr. Thomas Rowan', 'Sivic, Mr. Husein',\n",
        "       'Norman, Mr. Robert Douglas', 'Simmons, Mr. John',\n",
        "       'Meanwell, Miss. (Marion Ogden)', 'Davies, Mr. Alfred J',\n",
        "       'Stoytcheff, Mr. Ilia',\n",
        "       'Palsson, Mrs. Nils (Alma Cornelia Berglund)',\n",
        "       'Doharr, Mr. Tannous', 'Jonsson, Mr. Carl', 'Harris, Mr. George',\n",
        "       'Appleton, Mrs. Edward Dale (Charlotte Lamson)',\n",
        "       'Flynn, Mr. John Irwin (\"Irving\")', 'Kelly, Miss. Mary',\n",
        "       'Rush, Mr. Alfred George John', 'Patchett, Mr. George',\n",
        "       'Garside, Miss. Ethel', 'Silvey, Mrs. William Baird (Alice Munger)',\n",
        "       'Caram, Mrs. Joseph (Maria Elias)', 'Jussila, Mr. Eiriik',\n",
        "       'Christy, Miss. Julie Rachel',\n",
        "       'Thayer, Mrs. John Borland (Marian Longstreth Morris)',\n",
        "       'Downton, Mr. William James', 'Ross, Mr. John Hugo',\n",
        "       'Paulner, Mr. Uscher', 'Taussig, Miss. Ruth',\n",
        "       'Jarvis, Mr. John Denzil', 'Frolicher-Stehli, Mr. Maxmillian',\n",
        "       'Gilinski, Mr. Eliezer', 'Murdlin, Mr. Joseph',\n",
        "       'Rintamaki, Mr. Matti',\n",
        "       'Stephenson, Mrs. Walter Bertram (Martha Eustis)',\n",
        "       'Elsbury, Mr. William James', 'Bourke, Miss. Mary',\n",
        "       'Chapman, Mr. John Henry', 'Van Impe, Mr. Jean Baptiste',\n",
        "       'Leitch, Miss. Jessie Wills', 'Johnson, Mr. Alfred',\n",
        "       'Boulos, Mr. Hanna', 'Duff Gordon, Sir. Cosmo Edmund (\"Mr Morgan\")',\n",
        "       'Jacobsohn, Mrs. Sidney Samuel (Amy Frances Christy)',\n",
        "       'Slabenoff, Mr. Petco', 'Harrington, Mr. Charles H',\n",
        "       'Torber, Mr. Ernst William', 'Homer, Mr. Harry (\"Mr E Haven\")',\n",
        "       'Lindell, Mr. Edvard Bengtsson', 'Karaic, Mr. Milan',\n",
        "       'Daniel, Mr. Robert Williams',\n",
        "       'Laroche, Mrs. Joseph (Juliette Marie Louise Lafargue)',\n",
        "       'Shutes, Miss. Elizabeth W',\n",
        "       'Andersson, Mrs. Anders Johan (Alfrida Konstantia Brogren)',\n",
        "       'Jardin, Mr. Jose Neto', 'Murphy, Miss. Margaret Jane',\n",
        "       'Horgan, Mr. John', 'Brocklebank, Mr. William Alfred',\n",
        "       'Herman, Miss. Alice', 'Danbom, Mr. Ernst Gilbert',\n",
        "       'Lobb, Mrs. William Arthur (Cordelia K Stanlick)',\n",
        "       'Becker, Miss. Marion Louise', 'Gavey, Mr. Lawrence',\n",
        "       'Yasbeck, Mr. Antoni', 'Kimball, Mr. Edwin Nelson Jr',\n",
        "       'Nakid, Mr. Sahid', 'Hansen, Mr. Henry Damsgaard',\n",
        "       'Bowen, Mr. David John \"Dai\"', 'Sutton, Mr. Frederick',\n",
        "       'Kirkland, Rev. Charles Leonard', 'Longley, Miss. Gretchen Fiske',\n",
        "       'Bostandyeff, Mr. Guentcho', \"O'Connell, Mr. Patrick D\",\n",
        "       'Barkworth, Mr. Algernon Henry Wilson',\n",
        "       'Lundahl, Mr. Johan Svensson', 'Stahelin-Maeglin, Dr. Max',\n",
        "       'Parr, Mr. William Henry Marsh', 'Skoog, Miss. Mabel',\n",
        "       'Davis, Miss. Mary', 'Leinonen, Mr. Antti Gustaf',\n",
        "       'Collyer, Mr. Harvey', 'Panula, Mrs. Juha (Maria Emilia Ojala)',\n",
        "       'Thorneycroft, Mr. Percival', 'Jensen, Mr. Hans Peder',\n",
        "       'Sagesser, Mlle. Emma', 'Skoog, Miss. Margit Elizabeth',\n",
        "       'Foo, Mr. Choong', 'Baclini, Miss. Eugenie',\n",
        "       'Harper, Mr. Henry Sleeper', 'Cor, Mr. Liudevit',\n",
        "       'Simonius-Blumer, Col. Oberst Alfons', 'Willey, Mr. Edward',\n",
        "       'Stanley, Miss. Amy Zillah Elsie', 'Mitkoff, Mr. Mito',\n",
        "       'Doling, Miss. Elsie', 'Kalvik, Mr. Johannes Halvorsen',\n",
        "       'O\\'Leary, Miss. Hanora \"Norah\"', 'Hegarty, Miss. Hanora \"Nora\"',\n",
        "       'Hickman, Mr. Leonard Mark', 'Radeff, Mr. Alexander',\n",
        "       'Bourke, Mrs. John (Catherine)', 'Eitemiller, Mr. George Floyd',\n",
        "       'Newell, Mr. Arthur Webster', 'Frauenthal, Dr. Henry William',\n",
        "       'Badt, Mr. Mohamed', 'Colley, Mr. Edward Pomeroy',\n",
        "       'Coleff, Mr. Peju', 'Lindqvist, Mr. Eino William',\n",
        "       'Hickman, Mr. Lewis', 'Butler, Mr. Reginald Fenton',\n",
        "       'Rommetvedt, Mr. Knud Paust', 'Cook, Mr. Jacob',\n",
        "       'Taylor, Mrs. Elmer Zebley (Juliet Cummins Wright)',\n",
        "       'Brown, Mrs. Thomas William Solomon (Elizabeth Catherine Ford)',\n",
        "       'Davidson, Mr. Thornton', 'Mitchell, Mr. Henry Michael',\n",
        "       'Wilhelms, Mr. Charles', 'Watson, Mr. Ennis Hastings',\n",
        "       'Edvardsson, Mr. Gustaf Hjalmar', 'Sawyer, Mr. Frederick Charles',\n",
        "       'Turja, Miss. Anna Sofia',\n",
        "       'Goodwin, Mrs. Frederick (Augusta Tyler)',\n",
        "       'Cardeza, Mr. Thomas Drake Martinez', 'Peters, Miss. Katie',\n",
        "       'Hassab, Mr. Hammad', 'Olsvigen, Mr. Thor Anderson',\n",
        "       'Goodwin, Mr. Charles Edward', 'Brown, Mr. Thomas William Solomon',\n",
        "       'Laroche, Mr. Joseph Philippe Lemercier',\n",
        "       'Panula, Mr. Jaako Arnold', 'Dakic, Mr. Branko',\n",
        "       'Fischer, Mr. Eberhard Thelander',\n",
        "       'Madill, Miss. Georgette Alexandra', 'Dick, Mr. Albert Adrian',\n",
        "       'Karun, Miss. Manca', 'Lam, Mr. Ali', 'Saad, Mr. Khalil',\n",
        "       'Weir, Col. John', 'Chapman, Mr. Charles Henry', 'Kelly, Mr. James',\n",
        "       'Mullens, Miss. Katherine \"Katie\"', 'Thayer, Mr. John Borland',\n",
        "       'Humblen, Mr. Adolf Mathias Nicolai Olsen',\n",
        "       'Astor, Mrs. John Jacob (Madeleine Talmadge Force)',\n",
        "       'Silverthorne, Mr. Spencer Victor', 'Barbara, Miss. Saiide',\n",
        "       'Gallagher, Mr. Martin', 'Hansen, Mr. Henrik Juul',\n",
        "       'Morley, Mr. Henry Samuel (\"Mr Henry Marshall\")',\n",
        "       'Kelly, Mrs. Florence \"Fannie\"',\n",
        "       'Calderhead, Mr. Edward Pennington', 'Cleaver, Miss. Alice',\n",
        "       'Moubarek, Master. Halim Gonios (\"William George\")',\n",
        "       'Mayne, Mlle. Berthe Antonine (\"Mrs de Villiers\")',\n",
        "       'Klaber, Mr. Herman', 'Taylor, Mr. Elmer Zebley',\n",
        "       'Larsson, Mr. August Viktor', 'Greenberg, Mr. Samuel',\n",
        "       'Soholt, Mr. Peter Andreas Lauritz Andersen',\n",
        "       'Endres, Miss. Caroline Louise',\n",
        "       'Troutt, Miss. Edwina Celia \"Winnie\"', 'McEvoy, Mr. Michael',\n",
        "       'Johnson, Mr. Malkolm Joackim', 'Harper, Miss. Annie Jessie \"Nina\"',\n",
        "       'Jensen, Mr. Svend Lauritz', 'Gillespie, Mr. William Henry',\n",
        "       'Hodges, Mr. Henry Price', 'Chambers, Mr. Norman Campbell',\n",
        "       'Oreskovic, Mr. Luka',\n",
        "       'Renouf, Mrs. Peter Henry (Lillian Jefferys)',\n",
        "       'Mannion, Miss. Margareth', 'Bryhl, Mr. Kurt Arnold Gottfrid',\n",
        "       'Ilmakangas, Miss. Pieta Sofia', 'Allen, Miss. Elisabeth Walton',\n",
        "       'Hassan, Mr. Houssein G N', 'Knight, Mr. Robert J',\n",
        "       'Berriman, Mr. William John', 'Troupiansky, Mr. Moses Aaron',\n",
        "       'Williams, Mr. Leslie', 'Ford, Mrs. Edward (Margaret Ann Watson)',\n",
        "       'Lesurer, Mr. Gustave J', 'Ivanoff, Mr. Kanio',\n",
        "       'Nankoff, Mr. Minko', 'Hawksford, Mr. Walter James',\n",
        "       'Cavendish, Mr. Tyrell William',\n",
        "       'Ryerson, Miss. Susan Parker \"Suzette\"', 'McNamee, Mr. Neal',\n",
        "       'Stranden, Mr. Juho', 'Crosby, Capt. Edward Gifford',\n",
        "       'Abbott, Mr. Rossmore Edward', 'Sinkkonen, Miss. Anna',\n",
        "       'Marvin, Mr. Daniel Warner', 'Connaghton, Mr. Michael',\n",
        "       'Wells, Miss. Joan', 'Moor, Master. Meier',\n",
        "       'Vande Velde, Mr. Johannes Joseph', 'Jonkoff, Mr. Lalio',\n",
        "       'Herman, Mrs. Samuel (Jane Laver)', 'Hamalainen, Master. Viljo',\n",
        "       'Carlsson, Mr. August Sigfrid', 'Bailey, Mr. Percy Andrew',\n",
        "       'Theobald, Mr. Thomas Leonard',\n",
        "       'Rothes, the Countess. of (Lucy Noel Martha Dyer-Edwards)',\n",
        "       'Garfirth, Mr. John', 'Nirva, Mr. Iisakki Antino Aijo',\n",
        "       'Barah, Mr. Hanna Assi',\n",
        "       'Carter, Mrs. William Ernest (Lucile Polk)',\n",
        "       'Eklund, Mr. Hans Linus', 'Hogeboom, Mrs. John C (Anna Andrews)',\n",
        "       'Brewe, Dr. Arthur Jackson', 'Mangan, Miss. Mary',\n",
        "       'Moran, Mr. Daniel J', 'Gronnestad, Mr. Daniel Danielsen',\n",
        "       'Lievens, Mr. Rene Aime', 'Jensen, Mr. Niels Peder',\n",
        "       'Mack, Mrs. (Mary)', 'Elias, Mr. Dibo',\n",
        "       'Hocking, Mrs. Elizabeth (Eliza Needs)',\n",
        "       'Myhrman, Mr. Pehr Fabian Oliver Malkolm', 'Tobin, Mr. Roger',\n",
        "       'Emanuel, Miss. Virginia Ethel', 'Kilgannon, Mr. Thomas J',\n",
        "       'Robert, Mrs. Edward Scott (Elisabeth Walton McMillan)',\n",
        "       'Ayoub, Miss. Banoura', 'Dick, Mrs. Albert Adrian (Vera Gillespie)',\n",
        "       'Long, Mr. Milton Clyde', 'Johnston, Mr. Andrew G',\n",
        "       'Ali, Mr. William', 'Harmer, Mr. Abraham (David Lishin)',\n",
        "       'Sjoblom, Miss. Anna Sofia', 'Rice, Master. George Hugh',\n",
        "       'Dean, Master. Bertram Vere', 'Guggenheim, Mr. Benjamin',\n",
        "       'Keane, Mr. Andrew \"Andy\"', 'Gaskell, Mr. Alfred',\n",
        "       'Sage, Miss. Stella Anna', 'Hoyt, Mr. William Fisher',\n",
        "       'Dantcheff, Mr. Ristiu', 'Otter, Mr. Richard',\n",
        "       'Leader, Dr. Alice (Farnham)', 'Osman, Mrs. Mara',\n",
        "       'Ibrahim Shawah, Mr. Yousseff',\n",
        "       'Van Impe, Mrs. Jean Baptiste (Rosalie Paula Govaert)',\n",
        "       'Ponesell, Mr. Martin',\n",
        "       'Collyer, Mrs. Harvey (Charlotte Annie Tate)',\n",
        "       'Carter, Master. William Thornton II',\n",
        "       'Thomas, Master. Assad Alexander', 'Hedman, Mr. Oskar Arvid',\n",
        "       'Johansson, Mr. Karl Johan', 'Andrews, Mr. Thomas Jr',\n",
        "       'Pettersson, Miss. Ellen Natalia', 'Meyer, Mr. August',\n",
        "       'Chambers, Mrs. Norman Campbell (Bertha Griggs)',\n",
        "       'Alexander, Mr. William', 'Lester, Mr. James',\n",
        "       'Slemen, Mr. Richard James', 'Andersson, Miss. Ebba Iris Alfrida',\n",
        "       'Tomlin, Mr. Ernest Portage', 'Fry, Mr. Richard',\n",
        "       'Heininen, Miss. Wendla Maria', 'Mallet, Mr. Albert',\n",
        "       'Holm, Mr. John Fredrik Alexander', 'Skoog, Master. Karl Thorsten',\n",
        "       'Hays, Mrs. Charles Melville (Clara Jennings Gregg)',\n",
        "       'Lulic, Mr. Nikola', 'Reuchlin, Jonkheer. John George',\n",
        "       'Moor, Mrs. (Beila)', 'Panula, Master. Urho Abraham',\n",
        "       'Flynn, Mr. John', 'Lam, Mr. Len', 'Mallet, Master. Andre',\n",
        "       'McCormack, Mr. Thomas Joseph',\n",
        "       'Stone, Mrs. George Nelson (Martha Evelyn)',\n",
        "       'Yasbeck, Mrs. Antoni (Selini Alexander)',\n",
        "       'Richards, Master. George Sibley', 'Saad, Mr. Amin',\n",
        "       'Augustsson, Mr. Albert', 'Allum, Mr. Owen George',\n",
        "       'Compton, Miss. Sara Rebecca', 'Pasic, Mr. Jakob',\n",
        "       'Sirota, Mr. Maurice', 'Chip, Mr. Chang', 'Marechal, Mr. Pierre',\n",
        "       'Alhomaki, Mr. Ilmari Rudolf', 'Mudd, Mr. Thomas Charles',\n",
        "       'Serepeca, Miss. Augusta', 'Lemberopolous, Mr. Peter L',\n",
        "       'Culumovic, Mr. Jeso', 'Abbing, Mr. Anthony',\n",
        "       'Sage, Mr. Douglas Bullen', 'Markoff, Mr. Marin',\n",
        "       'Harper, Rev. John', 'Goldenberg, Mrs. Samuel L (Edwiga Grabowska)',\n",
        "       'Andersson, Master. Sigvard Harald Elias', 'Svensson, Mr. Johan',\n",
        "       'Boulos, Miss. Nourelain', 'Lines, Miss. Mary Conover',\n",
        "       'Carter, Mrs. Ernest Courtenay (Lilian Hughes)',\n",
        "       'Aks, Mrs. Sam (Leah Rosen)',\n",
        "       'Wick, Mrs. George Dennick (Mary Hitchcock)',\n",
        "       'Daly, Mr. Peter Denis ', 'Baclini, Mrs. Solomon (Latifa Qurban)',\n",
        "       'Razi, Mr. Raihed', 'Hansen, Mr. Claus Peter',\n",
        "       'Giles, Mr. Frederick Edward',\n",
        "       'Swift, Mrs. Frederick Joel (Margaret Welles Barron)',\n",
        "       'Sage, Miss. Dorothy Edith \"Dolly\"', 'Gill, Mr. John William',\n",
        "       'Bystrom, Mrs. (Karolina)', 'Duran y More, Miss. Asuncion',\n",
        "       'Roebling, Mr. Washington Augustus II',\n",
        "       'van Melkebeke, Mr. Philemon', 'Johnson, Master. Harold Theodor',\n",
        "       'Balkic, Mr. Cerin',\n",
        "       'Beckwith, Mrs. Richard Leonard (Sallie Monypeny)',\n",
        "       'Carlsson, Mr. Frans Olof', 'Vander Cruyssen, Mr. Victor',\n",
        "       'Abelson, Mrs. Samuel (Hannah Wizosky)',\n",
        "       'Najib, Miss. Adele Kiamie \"Jane\"', 'Gustafsson, Mr. Alfred Ossian',\n",
        "       'Petroff, Mr. Nedelio', 'Laleff, Mr. Kristo',\n",
        "       'Potter, Mrs. Thomas Jr (Lily Alexenia Wilson)',\n",
        "       'Shelley, Mrs. William (Imanita Parrish Hall)',\n",
        "       'Markun, Mr. Johann', 'Dahlberg, Miss. Gerda Ulrika',\n",
        "       'Banfield, Mr. Frederick James', 'Sutehall, Mr. Henry Jr',\n",
        "       'Rice, Mrs. William (Margaret Norton)', 'Montvila, Rev. Juozas',\n",
        "       'Graham, Miss. Margaret Edith',\n",
        "       'Johnston, Miss. Catherine Helen \"Carrie\"', 'Behr, Mr. Karl Howell',\n",
        "       'Dooley, Mr. Patrick'], dtype=object)"
       ]
      }
     ],
     "prompt_number": 32
    },
    {
     "cell_type": "code",
     "collapsed": false,
     "input": [
      "df.NumberOfDependents.nunique()"
     ],
     "language": "python",
     "metadata": {},
     "outputs": []
    },
    {
     "cell_type": "markdown",
     "metadata": {},
     "source": [
      "###pd.value_counts(values_to_count)"
     ]
    },
    {
     "cell_type": "code",
     "collapsed": false,
     "input": [
      "pd.value_counts(df.NumberOfDependents)\n",
      "df.NumberOfDependents.value_counts()"
     ],
     "language": "python",
     "metadata": {},
     "outputs": []
    },
    {
     "cell_type": "code",
     "collapsed": false,
     "input": [
      "pd.value_counts(df.NumberOfDependents, ascending=True)"
     ],
     "language": "python",
     "metadata": {},
     "outputs": []
    },
    {
     "cell_type": "code",
     "collapsed": false,
     "input": [
      "pd.value_counts(df.NumberOfDependents, sort=False)"
     ],
     "language": "python",
     "metadata": {},
     "outputs": []
    },
    {
     "cell_type": "code",
     "collapsed": false,
     "input": [
      "#chain value_counts together with head() to give you the top 3\n",
      "pd.value_counts(df.NumberOfDependents).head(3)"
     ],
     "language": "python",
     "metadata": {},
     "outputs": []
    },
    {
     "cell_type": "code",
     "collapsed": false,
     "input": [
      "pd.value_counts(df.Age).plot(kind='bar')"
     ],
     "language": "python",
     "metadata": {},
     "outputs": [
      {
       "metadata": {},
       "output_type": "pyout",
       "prompt_number": 34,
       "text": [
        "<matplotlib.axes.AxesSubplot at 0x108f28a90>"
       ]
      },
      {
       "metadata": {},
       "output_type": "display_data",
       "png": "[encoded data removed]",
       "text": [
        "<matplotlib.figure.Figure at 0x108f1c810>"
       ]
      }
     ],
     "prompt_number": 34
    },
    {
     "cell_type": "markdown",
     "metadata": {},
     "source": [
      "##pd.crosstab(rows, cols)"
     ]
    },
    {
     "cell_type": "code",
     "collapsed": false,
     "input": [
      "pd.crosstab(df.NumberOfTimes90DaysLate, df.SeriousDlqin2yrs)"
     ],
     "language": "python",
     "metadata": {},
     "outputs": []
    },
    {
     "cell_type": "markdown",
     "metadata": {},
     "source": [
      "####Use `pd.crosstab` to make a table that contains customer's ages in the lefthand column and the number of dependents they have in the right"
     ]
    },
    {
     "cell_type": "code",
     "collapsed": false,
     "input": [
      "pd.crosstab(df.age, df.NumberOfDependents)"
     ],
     "language": "python",
     "metadata": {},
     "outputs": []
    },
    {
     "cell_type": "markdown",
     "metadata": {},
     "source": [
      "##Basic Cleanliness"
     ]
    },
    {
     "cell_type": "markdown",
     "metadata": {},
     "source": [
      "Let's fix for formatting of the column names. I personally like snake_case (and so does Python). I found [this handy function](http://stackoverflow.com/questions/1175208/elegant-python-function-to-convert-camelcase-to-camel-case) on stackoverflow for converting camelCase to snake_case.\n",
      "\n",
      "Now we can apply the camel_to_snake function on each column name."
     ]
    },
    {
     "cell_type": "code",
     "collapsed": false,
     "input": [
      "%load https://gist.github.com/glamp/6529725/raw/e38ffd2fc4cb840be21098486ffe5df991946736/camel_to_snake.py"
     ],
     "language": "python",
     "metadata": {},
     "outputs": []
    },
    {
     "cell_type": "code",
     "collapsed": false,
     "input": [
      "def camel_to_snake(column_name):\n",
      "    \"\"\"\n",
      "    converts a string that is camelCase into snake_case\n",
      "    Example:\n",
      "        print camel_to_snake(\"javaLovesCamelCase\")\n",
      "        > java_loves_camel_case\n",
      "    See Also:\n",
      "        http://stackoverflow.com/questions/1175208/elegant-python-function-to-convert-camelcase-to-camel-case\n",
      "    \"\"\"\n",
      "    s1 = re.sub('(.)([A-Z][a-z]+)', r'\\1_\\2', column_name)\n",
      "    return re.sub('([a-z0-9])([A-Z])', r'\\1_\\2', s1).lower()"
     ],
     "language": "python",
     "metadata": {},
     "outputs": []
    },
    {
     "cell_type": "code",
     "collapsed": false,
     "input": [
      "camel_to_snake(\"javaLovesCamelCase\")"
     ],
     "language": "python",
     "metadata": {},
     "outputs": []
    },
    {
     "cell_type": "code",
     "collapsed": false,
     "input": [
      "df.columns = [camel_to_snake(col) for col in df.columns]\n",
      "df.columns.tolist()"
     ],
     "language": "python",
     "metadata": {},
     "outputs": []
    },
    {
     "cell_type": "markdown",
     "metadata": {},
     "source": [
      "##Slicing and Indexing Data\n",
      "pandas (like R) uses a system of boolean indexing. What this means is that when selecting particular rows or columns in your dataset..."
     ]
    },
    {
     "cell_type": "markdown",
     "metadata": {},
     "source": [
      "###Grabbing columns"
     ]
    },
    {
     "cell_type": "code",
     "collapsed": false,
     "input": [
      "df['monthly_income'].head()\n",
      "df.monthly_income.head()"
     ],
     "language": "python",
     "metadata": {},
     "outputs": []
    },
    {
     "cell_type": "code",
     "collapsed": false,
     "input": [
      "df[['monthly_income', 'serious_dlqin2yrs']].head()"
     ],
     "language": "python",
     "metadata": {},
     "outputs": []
    },
    {
     "cell_type": "code",
     "collapsed": false,
     "input": [
      "columns_i_want = ['monthly_income', 'serious_dlqin2yrs']\n",
      "df[columns_i_want].head()"
     ],
     "language": "python",
     "metadata": {},
     "outputs": []
    },
    {
     "cell_type": "markdown",
     "metadata": {},
     "source": [
      "##Adding Columns"
     ]
    },
    {
     "cell_type": "code",
     "collapsed": false,
     "input": [
      "df.newcolumn = 1\n",
      "# this will throw an error\n",
      "df['newcolumn']"
     ],
     "language": "python",
     "metadata": {},
     "outputs": []
    },
    {
     "cell_type": "code",
     "collapsed": false,
     "input": [
      "df['one'] = 1\n",
      "df.one.head()"
     ],
     "language": "python",
     "metadata": {},
     "outputs": []
    },
    {
     "cell_type": "markdown",
     "metadata": {},
     "source": [
      "###Removing a column"
     ]
    },
    {
     "cell_type": "code",
     "collapsed": false,
     "input": [
      "del df['one']"
     ],
     "language": "python",
     "metadata": {},
     "outputs": []
    },
    {
     "cell_type": "markdown",
     "metadata": {},
     "source": [
      "###Boolean Indexing"
     ]
    },
    {
     "cell_type": "code",
     "collapsed": false,
     "input": [
      "df.monthly_income > 5000"
     ],
     "language": "python",
     "metadata": {},
     "outputs": []
    },
    {
     "cell_type": "code",
     "collapsed": false,
     "input": [
      "gt_5k = df[df.monthly_income > 5000]\n",
      "print len(gt_5k),\"people with monthly_income > 5000\"\n",
      "df[df.monthly_income > 5000].head()"
     ],
     "language": "python",
     "metadata": {},
     "outputs": []
    },
    {
     "cell_type": "code",
     "collapsed": false,
     "input": [
      "df.ix[40:45, 0:2]"
     ],
     "language": "python",
     "metadata": {},
     "outputs": []
    },
    {
     "cell_type": "code",
     "collapsed": false,
     "input": [
      "mask = (df.monthly_income > 5000) & (df.serious_dlqin2yrs==1)\n",
      "df[mask].head()"
     ],
     "language": "python",
     "metadata": {},
     "outputs": []
    },
    {
     "cell_type": "markdown",
     "metadata": {},
     "source": [
      "###Write some code that filters to the following:\n",
      "\n",
      "- people 35 or older\n",
      "- who have not been delinquent in the past 2 years\n",
      "- who have less than 10 open credit lines/loans"
     ]
    },
    {
     "cell_type": "code",
     "collapsed": false,
     "input": [
      "mask = (df.age >= 35) & (df.serious_dlqin2yrs==0) & (df.number_of_open_credit_lines_and_loans < 10)\n",
      "len(df[mask])==76151"
     ],
     "language": "python",
     "metadata": {},
     "outputs": []
    },
    {
     "cell_type": "markdown",
     "metadata": {},
     "source": [
      "####Write something that filters:\n",
      "\n",
      "- people who have been delinquent in the past 2 years\n",
      "- have are in the 90th percentile for monthly_income\n",
      "\n",
      "*HINT: use `quantile`*"
     ]
    },
    {
     "cell_type": "code",
     "collapsed": false,
     "input": [
      "mask = (df.monthly_income == df.monthly_income.quantile(0.90)) & (df.serious_dlqin2yrs==0)\n",
      "len(df[mask])"
     ],
     "language": "python",
     "metadata": {},
     "outputs": []
    },
    {
     "cell_type": "markdown",
     "metadata": {},
     "source": [
      "##Handling Missing Values\n",
      "One of the most frustrating parts of data science can be handling null or missing data. pandas has a lot of built in features for making is super easy to handle missing data. The first thing we need to do is determine which fields have missing data. To do that we're going to use `pd.melt`."
     ]
    },
    {
     "cell_type": "markdown",
     "metadata": {},
     "source": [
      "###[Long vs. Wide Data](http://en.wikipedia.org/wiki/Wide_and_narrow_data)\n",
      "Depending on the problem you're solving, you may need to rotate between having your data in wide/long format.\n",
      "\n",
      "Wide data is probably what you think of when the work \"spreadsheet\" comes to mind. We're talking about data in which each row represents 1 datapoint and each value is in a particular column. This is well suited for things like modeling and producing summary statistics.\n",
      "\n",
      "I often find that having data in `long` format is often best for doing the same task against multiple variables. Things like plotting distributions of each variable, making frequency tables, or, in our case, determining what portion of a dataframe's variables are null."
     ]
    },
    {
     "cell_type": "markdown",
     "metadata": {},
     "source": [
      "###pd.melt()\n",
      "For converting data from `wide` to `long` format.\n",
      "```\n",
      ">>> df\n",
      "A B C\n",
      "a 1 2\n",
      "b 3 4\n",
      "c 5 6\n",
      "\n",
      ">>> pd.melt(df, id_vars=['A'], value_vars=['B'])\n",
      "A variable value\n",
      "a B        1\n",
      "b B        3\n",
      "c B        5\n",
      "```"
     ]
    },
    {
     "cell_type": "code",
     "collapsed": false,
     "input": [
      "?pd.melt"
     ],
     "language": "python",
     "metadata": {},
     "outputs": []
    },
    {
     "cell_type": "code",
     "collapsed": false,
     "input": [
      "# By not specifying id_vars, we're going to melt EVERYTHING\n",
      "df_lng = pd.melt(df)\n",
      "# now our data is a series of (key, value) rows. \n",
      "#think of when you've done this in Excel so that you can\n",
      "#create a pivot table \n",
      "df_lng.head()"
     ],
     "language": "python",
     "metadata": {},
     "outputs": []
    },
    {
     "cell_type": "code",
     "collapsed": false,
     "input": [
      "null_variables = df_lng.value.isnull()\n",
      "null_variables.sum()"
     ],
     "language": "python",
     "metadata": {},
     "outputs": []
    },
    {
     "cell_type": "code",
     "collapsed": false,
     "input": [
      "# crosstab creates a frequency table between 2 variables\n",
      "# it's going to automatically enumerate the possibilities between\n",
      "# the two Series and show you a count of occurrences \n",
      "#in each possible bucket\n",
      "pd.crosstab(df_lng.variable, null_variables)"
     ],
     "language": "python",
     "metadata": {},
     "outputs": []
    },
    {
     "cell_type": "code",
     "collapsed": false,
     "input": [
      "# let's abstract that code into a function so we can easily \n",
      "# recalculate it\n",
      "def print_null_freq(df):\n",
      "    \"\"\"\n",
      "    for a given DataFrame, calculates how many values for \n",
      "    each variable is null and prints the resulting table to stdout\n",
      "    \"\"\"\n",
      "    df_lng = pd.melt(df)\n",
      "    null_variables = df_lng.value.isnull()\n",
      "    return pd.crosstab(df_lng.variable, null_variables)\n",
      "print_null_freq(df)"
     ],
     "language": "python",
     "metadata": {},
     "outputs": []
    },
    {
     "cell_type": "markdown",
     "metadata": {},
     "source": [
      "####Use pd.melt to create a data frame in the following format:\n",
      "```\n",
      "     serious_dlqin2yrs variable\t  value\n",
      "0\t                1\t age\t    45\n",
      "1\t                0\t age\t    40\n",
      "2\t                0\t age\t    38\n",
      "3\t                0\t age\t    30\n",
      "4\t                0\t age\t    49\n",
      "...\t                ...\t ...\t    ...\n",
      "299999              1\t debt_ratio 0.423\n",
      "300000              0\t debt_ratio 0.8923\n",
      "```\n",
      "Only include values for `age` and `debt_ratio`"
     ]
    },
    {
     "cell_type": "code",
     "collapsed": false,
     "input": [
      "melted = pd.melt(..., id_vars=[...], value_vars=[...])\n",
      "\n",
      "print len(melted)==300000\n",
      "print melted.variable.unique()==np.array(['age', 'debt_ratio'])"
     ],
     "language": "python",
     "metadata": {},
     "outputs": []
    },
    {
     "cell_type": "markdown",
     "metadata": {},
     "source": [
      "###Filling NA's"
     ]
    },
    {
     "cell_type": "code",
     "collapsed": false,
     "input": [
      "s = pd.Series([1, 2, None, 4])\n",
      "s"
     ],
     "language": "python",
     "metadata": {},
     "outputs": []
    },
    {
     "cell_type": "code",
     "collapsed": false,
     "input": [
      "s.fillna(3)"
     ],
     "language": "python",
     "metadata": {},
     "outputs": []
    },
    {
     "cell_type": "code",
     "collapsed": false,
     "input": [
      "s.ffill()"
     ],
     "language": "python",
     "metadata": {},
     "outputs": []
    },
    {
     "cell_type": "code",
     "collapsed": false,
     "input": [
      "s.bfill()"
     ],
     "language": "python",
     "metadata": {},
     "outputs": []
    },
    {
     "cell_type": "code",
     "collapsed": false,
     "input": [
      "s.fillna(s.mean())"
     ],
     "language": "python",
     "metadata": {},
     "outputs": []
    },
    {
     "cell_type": "markdown",
     "metadata": {},
     "source": [
      "If you look at `df` you can see that there are 2 columns which don't have a full 150,000 values: `monthly_income` and `number_of_dependents`. In order to incorporate these variables into our analysis, we need to specify how to treat these missing values."
     ]
    },
    {
     "cell_type": "markdown",
     "metadata": {},
     "source": [
      "For number_of_dependents let's keep things simple and intuitive. if someone didn't specify how many dependents they had then let's assume it's becasue they don't have any to begin with."
     ]
    },
    {
     "cell_type": "code",
     "collapsed": false,
     "input": [
      "df.number_of_dependents = df.number_of_dependents.fillna(0)\n",
      "# proof that the number_of_dependents no longer contains nulls\n",
      "print_null_freq(df)"
     ],
     "language": "python",
     "metadata": {},
     "outputs": []
    },
    {
     "cell_type": "markdown",
     "metadata": {},
     "source": [
      "Taking a look at `monthly_income` we see that it's a bit more complicated than `number_of_dependents`. We have a few options for replacing missing data. We could do something like set it to the mean or median or the dataset but this might skew our distribution. We could also set it to 0 but this might not be right either. Instead we're going to use a technique called imputation. We'll go into this more after we take a look at `scikit-learn`."
     ]
    },
    {
     "cell_type": "code",
     "collapsed": false,
     "input": [
      "df.monthly_income.describe()"
     ],
     "language": "python",
     "metadata": {},
     "outputs": []
    },
    {
     "cell_type": "code",
     "collapsed": false,
     "input": [
      "df.to_csv(\"./data/credit-data-post-import.csv\", index=False)"
     ],
     "language": "python",
     "metadata": {},
     "outputs": []
    },
    {
     "cell_type": "markdown",
     "metadata": {},
     "source": [
      "##We just did the following\n",
      "\n",
      "- Used `read_csv` to load data Python\n",
      "- Used `head`, `tail`, `unique`, and other functions to inspect our data\n",
      "- Sliced data and selected data frames\n",
      "- Cleaned our data and learned the basics of handling missing values"
     ]
    },
    {
     "cell_type": "code",
     "collapsed": false,
     "input": [],
     "language": "python",
     "metadata": {},
     "outputs": []
    }
   ],
   "metadata": {}
  }
 ]
}