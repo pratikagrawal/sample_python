{
 "metadata": {
  "name": "",
  "signature": "sha256:5d31a8f5dcdc926174454d04d0500cf670d575e6c13deca8a3bc19cacb0ed685"
 },
 "nbformat": 3,
 "nbformat_minor": 0,
 "worksheets": [
  {
   "cells": [
    {
     "cell_type": "code",
     "collapsed": false,
     "input": [
      "import numpy as np\n",
      "import pandas as pd\n",
      "from sklearn import cross_validation\n",
      "import sklearn.linear_model as lm\n",
      "from sklearn.cluster import KMeans\n",
      "import datetime\n",
      "from sklearn.feature_extraction import DictVectorizer\n",
      "from matplotlib import * \n",
      "import random\n",
      "from sklearn.metrics import confusion_matrix as sk_confusion_matrix\n",
      "import pylab as pl\n",
      "from sklearn.metrics import classification_report\n",
      "import sklearn.ensemble as rfc\n",
      "import metrics as mt\n",
      "from __future__ import division\n",
      "from scipy import stats as st"
     ],
     "language": "python",
     "metadata": {},
     "outputs": [],
     "prompt_number": 36
    },
    {
     "cell_type": "code",
     "collapsed": false,
     "input": [
      "trainDataTable2 = pd.read_table('/Users/pagrawal/Documents/repos/ml/expedia/data/priceUSDLT20000.csv',sep=',',parse_dates=True,infer_datetime_format=True)"
     ],
     "language": "python",
     "metadata": {},
     "outputs": [],
     "prompt_number": 75
    },
    {
     "cell_type": "code",
     "collapsed": false,
     "input": [
      "trainDataTable2.drop(\"Unnamed: 0\", axis=1, inplace=True)"
     ],
     "language": "python",
     "metadata": {},
     "outputs": [],
     "prompt_number": 76
    },
    {
     "cell_type": "code",
     "collapsed": false,
     "input": [
      "#trainDataTable.drop([\"Unnamed: 0\",\"click_bool\"], axis=1, inplace=True)\n",
      "feature_names= list (trainDataTable.columns)\n",
      "CATEGORICAL_FEATURES = ['srch_id',\n",
      "                        'visitor_location_country_id',\n",
      "                        'prop_country_id',\n",
      "                        'prop_id',\n",
      "                        'prop_brand_bool ',\n",
      "                        'promotion_flag',\n",
      "                        'srch_destination_id',\n",
      "                        'srch_adults_count',\n",
      "                        'srch_children_count',\n",
      "                        'srch_room_count',\n",
      "                        'srch_saturday_night_bool',\n",
      "                        ]\n",
      "ORDINAL_FEATURES = ['visitor_hist_starrating',\n",
      "                    'prop_starrating'\n",
      "                    ]\n",
      "INTERVAL_FEATURES = ['prop_review_score',\n",
      "                     'position',\n",
      "                     'srch_length_of_stay',\n",
      "                     'srch_booking_window',\n",
      "                     ]\n",
      "CONTINUOUS_FEATURES = ['visitor_hist_adr_usd',\n",
      "                       'prop_location_score1',\n",
      "                       'prop_location_score2',\n",
      "                       'prop_log_historical_price',\n",
      "                       'price_usd',\n",
      "                       'srch_query_affinity_score',\n",
      "                       'orig_destination_distance',\n",
      "                       'gross_bookings_usd'\n",
      "                       ]\n",
      "PREDICT_FEATURE = 'booking_bool'\n",
      "feature_names"
     ],
     "language": "python",
     "metadata": {},
     "outputs": [
      {
       "metadata": {},
       "output_type": "pyout",
       "prompt_number": 12,
       "text": [
        "['srch_id',\n",
        " 'date_time',\n",
        " 'site_id',\n",
        " 'visitor_location_country_id',\n",
        " 'visitor_hist_starrating',\n",
        " 'visitor_hist_adr_usd',\n",
        " 'prop_country_id',\n",
        " 'prop_id',\n",
        " 'prop_starrating',\n",
        " 'prop_review_score',\n",
        " 'prop_brand_bool',\n",
        " 'prop_location_score1',\n",
        " 'prop_location_score2',\n",
        " 'prop_log_historical_price',\n",
        " 'position',\n",
        " 'price_usd',\n",
        " 'promotion_flag',\n",
        " 'srch_destination_id',\n",
        " 'srch_length_of_stay',\n",
        " 'srch_booking_window',\n",
        " 'srch_adults_count',\n",
        " 'srch_children_count',\n",
        " 'srch_room_count',\n",
        " 'srch_saturday_night_bool',\n",
        " 'srch_query_affinity_score',\n",
        " 'orig_destination_distance',\n",
        " 'random_bool',\n",
        " 'comp1_rate',\n",
        " 'comp1_inv',\n",
        " 'comp1_rate_percent_diff',\n",
        " 'comp2_rate',\n",
        " 'comp2_inv',\n",
        " 'comp2_rate_percent_diff',\n",
        " 'comp3_rate',\n",
        " 'comp3_inv',\n",
        " 'comp3_rate_percent_diff',\n",
        " 'comp4_rate',\n",
        " 'comp4_inv',\n",
        " 'comp4_rate_percent_diff',\n",
        " 'comp5_rate',\n",
        " 'comp5_inv',\n",
        " 'comp5_rate_percent_diff',\n",
        " 'comp6_rate',\n",
        " 'comp6_inv',\n",
        " 'comp6_rate_percent_diff',\n",
        " 'comp7_rate',\n",
        " 'comp7_inv',\n",
        " 'comp7_rate_percent_diff',\n",
        " 'comp8_rate',\n",
        " 'comp8_inv',\n",
        " 'comp8_rate_percent_diff',\n",
        " 'gross_bookings_usd',\n",
        " 'booking_bool']"
       ]
      }
     ],
     "prompt_number": 12
    },
    {
     "cell_type": "code",
     "collapsed": false,
     "input": [
      "p_value_analysis_data=trainDataTable[CONTINUOUS_FEATURES].describe()"
     ],
     "language": "python",
     "metadata": {},
     "outputs": [
      {
       "output_type": "stream",
       "stream": "stderr",
       "text": [
        "/Users/pagrawal/anaconda/lib/python2.7/site-packages/pandas/compat/scipy.py:68: DeprecationWarning: using a non-integer number instead of an integer will result in an error in the future\n",
        "  score = values[idx]\n",
        "/Users/pagrawal/anaconda/lib/python2.7/site-packages/pandas/compat/scipy.py:68: DeprecationWarning: using a non-integer number instead of an integer will result in an error in the future\n",
        "  score = values[idx]\n"
       ]
      }
     ],
     "prompt_number": 15
    },
    {
     "cell_type": "code",
     "collapsed": false,
     "input": [
      "def get_test_stat_and_p_value(python_description_data_frame):\n",
      "    '''\n",
      "    :param python_description_data_frame this needs to be a pandas dataframe which\n",
      "                                         is the output of the describe function \n",
      "                                         for results based on any two conditions of\n",
      "                                         a feature\n",
      "    '''\n",
      "    feature_names = python_description_data_frame.columns\n",
      "    n_1 = (int)(python_description_data_frame.loc[:'count',feature_names[0]])\n",
      "    n_2 = (int)(python_description_data_frame.loc[:'count',feature_names[1]])\n",
      "\n",
      "    u_1 = (float)(python_description_data_frame.loc['mean':'mean',feature_names[0]])\n",
      "    u_2 = (float)(python_description_data_frame.loc['mean':'mean',feature_names[1]])\n",
      "\n",
      "    std_1 = (float)(python_description_data_frame.loc['std':'std',feature_names[0]]) \n",
      "    std_2 = (float)(python_description_data_frame.loc['std':'std',feature_names[1]]) \n",
      "\n",
      "    var_1 = power(std_1,2)\n",
      "    var_2 = power(std_2,2)\n",
      "\n",
      "    difference_of_means = u_1 - u_2\n",
      "\n",
      "    unpooled_SE = sqrt((var_1/n_1)+(var_2/n_2))\n",
      "    t_value = difference_of_means / unpooled_SE\n",
      "\n",
      "    p_value = st.t.sf(np.abs(t_value), min(n_1,n_2)-1)*2\n",
      "    return{'difference_of_means':difference_of_means,'unpooled_SE':unpooled_SE,'t_value':t_value,'p_value':p_value}"
     ],
     "language": "python",
     "metadata": {},
     "outputs": [],
     "prompt_number": 73
    },
    {
     "cell_type": "code",
     "collapsed": false,
     "input": [
      "priceUSDLT20000=trainDataTable\n",
      "feature_names = list(priceUSDLT20000.columns)\n",
      "feature_names\n"
     ],
     "language": "python",
     "metadata": {},
     "outputs": [
      {
       "metadata": {},
       "output_type": "pyout",
       "prompt_number": 7,
       "text": [
        "['srch_id',\n",
        " 'date_time',\n",
        " 'site_id',\n",
        " 'visitor_location_country_id',\n",
        " 'visitor_hist_starrating',\n",
        " 'visitor_hist_adr_usd',\n",
        " 'prop_country_id',\n",
        " 'prop_id',\n",
        " 'prop_starrating',\n",
        " 'prop_review_score',\n",
        " 'prop_brand_bool',\n",
        " 'prop_location_score1',\n",
        " 'prop_location_score2',\n",
        " 'prop_log_historical_price',\n",
        " 'position',\n",
        " 'price_usd',\n",
        " 'promotion_flag',\n",
        " 'srch_destination_id',\n",
        " 'srch_length_of_stay',\n",
        " 'srch_booking_window',\n",
        " 'srch_adults_count',\n",
        " 'srch_children_count',\n",
        " 'srch_room_count',\n",
        " 'srch_saturday_night_bool',\n",
        " 'srch_query_affinity_score',\n",
        " 'orig_destination_distance',\n",
        " 'random_bool',\n",
        " 'comp1_rate',\n",
        " 'comp1_inv',\n",
        " 'comp1_rate_percent_diff',\n",
        " 'comp2_rate',\n",
        " 'comp2_inv',\n",
        " 'comp2_rate_percent_diff',\n",
        " 'comp3_rate',\n",
        " 'comp3_inv',\n",
        " 'comp3_rate_percent_diff',\n",
        " 'comp4_rate',\n",
        " 'comp4_inv',\n",
        " 'comp4_rate_percent_diff',\n",
        " 'comp5_rate',\n",
        " 'comp5_inv',\n",
        " 'comp5_rate_percent_diff',\n",
        " 'comp6_rate',\n",
        " 'comp6_inv',\n",
        " 'comp6_rate_percent_diff',\n",
        " 'comp7_rate',\n",
        " 'comp7_inv',\n",
        " 'comp7_rate_percent_diff',\n",
        " 'comp8_rate',\n",
        " 'comp8_inv',\n",
        " 'comp8_rate_percent_diff',\n",
        " 'gross_bookings_usd',\n",
        " 'booking_bool']"
       ]
      }
     ],
     "prompt_number": 7
    },
    {
     "cell_type": "code",
     "collapsed": false,
     "input": [
      "rd = lm.LogisticRegression(penalty='l2', dual=True, tol=0.0001,\n",
      "                             C=1, fit_intercept=True, intercept_scaling=1.0,\n",
      "                             class_weight='auto', random_state=None)\n",
      "#rfd = rfc.RandomForestClassifier(oob_score=0)"
     ],
     "language": "python",
     "metadata": {},
     "outputs": [],
     "prompt_number": 54
    },
    {
     "cell_type": "code",
     "collapsed": false,
     "input": [
      "def get_trg_test_sets(trainDataTable,seed=1234,trgTestRatio=0.7,oversampleRatio=10,setRatio=0.2):\n",
      "    random.seed(seed)\n",
      "    trg_ratio=trgTestRatio\n",
      "    set_ratio=setRatio\n",
      "    oversample_ratio=oversampleRatio\n",
      "    experimentalData=trainDataTable.loc[:,feature_names[0]]\n",
      "    experimentalData.drop_duplicates(take_last=True,inplace=True)\n",
      "    unique_srch_ids=list(experimentalData)\n",
      "    unique_srch_set=(int)(set_ratio*len(unique_srch_ids))\n",
      "    unique_srch_ids=unique_srch_ids[:unique_srch_set]\n",
      "    #np.random.shuffle(unique_srch_ids)\n",
      "    trg_ids_total=(int)(trg_ratio*len(unique_srch_ids))\n",
      "    trg_srch_ids=unique_srch_ids[:trg_ids_total]\n",
      "    test_srch_ids=unique_srch_ids[trg_ids_total:]\n",
      "    trainSet=pd.DataFrame(trainDataTable,index=trg_srch_ids,columns=feature_names)\n",
      "    testSet=pd.DataFrame(trainDataTable,index=test_srch_ids,columns=feature_names)\n",
      "    bookedData=trainSet[trainSet.booking_bool==1]\n",
      "    i=len(bookedData)/len(trainSet)\n",
      "    j=(oversample_ratio/i)\n",
      "    j=(int)(j)\n",
      "    for k in range(0,j):\n",
      "        trainSet=trainSet.append(bookedData)\n",
      "    return trainSet.loc[:,feature_names[2:]],testSet.loc[:,feature_names[2:]]"
     ],
     "language": "python",
     "metadata": {},
     "outputs": [],
     "prompt_number": 57
    },
    {
     "cell_type": "code",
     "collapsed": false,
     "input": [
      "def get_unique_counts(trainDataTable,feature_name):\n",
      "    featurelist=trainDataTable.loc[:,feature_name]\n",
      "    featurelist.drop_duplicates(take_last=True,inplace=True)\n",
      "    unique=list(featurelist)\n",
      "    return len(unique)"
     ],
     "language": "python",
     "metadata": {},
     "outputs": [],
     "prompt_number": 6
    },
    {
     "cell_type": "code",
     "collapsed": false,
     "input": [
      "seed=1234\n",
      "trgTestRatio=0.6\n",
      "oversampleRatio=0.5\n",
      "setRatio=0.7\n",
      "trainData, testData= get_trg_test_sets(priceUSDLT20000,seed,trgTestRatio,oversampleRatio,setRatio)\n",
      "trainData.fillna(value=0,axis=1,inplace=True)\n",
      "testData.fillna(value=0,axis=1,inplace=True)\n",
      "y_train=trainData.booking_bool\n",
      "y_test=testData.booking_bool\n",
      "#trainDataTransformed=rd.fit(trainData.values,y_train.values)"
     ],
     "language": "python",
     "metadata": {},
     "outputs": [],
     "prompt_number": 56
    },
    {
     "cell_type": "code",
     "collapsed": false,
     "input": [
      "fittedData_rd=rd.fit_transform(trainData.values,y_train.values)\n",
      "#fittedData_rfd=rfd.fit_transform(trainData.values,y_train.values)"
     ],
     "language": "python",
     "metadata": {},
     "outputs": [],
     "prompt_number": 57
    },
    {
     "cell_type": "code",
     "collapsed": false,
     "input": [
      "print \"RD_COEF:%s\" %rd.coef_\n",
      "print \"RD_FEATURES:%s\" % rd\n",
      "\n",
      "y_pred_rd=rd.predict(testData)\n",
      "#y_pred_rfd=rfd.predict(testData)\n",
      "print \"Y_TRAIN:%s\" %y_train\n",
      "print \"Y_TEST:%s\" %y_test.values\n",
      "print \"len:%s\"%len(y_test.values)\n",
      "print \"Y_PRED_RD:%s\" %y_pred_rd\n",
      "print \"len:%s\"%len(y_pred_rd)\n",
      "#print \"Y_PRED_RFD:%s\" %y_pred_rfd\n",
      "#print \"len:%s\"%len(y_pred_rfd)\n",
      "#y_test.to_csv(\"y_test.csv\")\n",
      "#rfdFile = open(\"y_pred_rfd.csv\",'w')\n",
      "#for value in y_pred_rfd:\n",
      "#    rfdFile.write(\"%s,\\n\"%value)"
     ],
     "language": "python",
     "metadata": {},
     "outputs": [
      {
       "output_type": "stream",
       "stream": "stdout",
       "text": [
        "RD_COEF:[[ -1.50838566e-01  -1.80048089e-02  -2.17689262e-04  -9.67261106e-03\n",
        "   -1.76270006e-02  -4.09371820e-05  -4.81696625e-02  -4.91926487e-02\n",
        "   -3.60851743e-03  -4.00219788e-02  -9.43025765e-04  -5.33237329e-02\n",
        "   -1.42864373e-01  -1.33652534e-02  -1.64632112e-03  -2.74139387e-04\n",
        "   -3.96973634e-02  -2.82896413e-02  -2.42699975e-02  -6.21902463e-03\n",
        "   -1.56874924e-02  -3.86483874e-03   1.16143061e-03  -4.02265478e-04\n",
        "   -7.57592042e-03  -2.05110040e-04   2.41842005e-04  -1.40221382e-03\n",
        "   -1.68612365e-03  -3.06863920e-04  -9.76333587e-03  -3.45257827e-04\n",
        "    9.30397308e-04   8.47943125e-04   4.95740131e-06  -1.35802843e-05\n",
        "   -7.18653656e-04  -1.64250859e-04  -2.36053587e-03  -2.85796933e-02\n",
        "   -3.04904701e-04  -1.28069295e-04  -1.65617429e-02  -4.94047570e-04\n",
        "   -4.89642358e-04  -2.29358348e-02  -4.82249976e-04   3.12263066e-04\n",
        "    1.03681868e-04   1.08322050e-02   5.26448651e-01   1.14218255e-02]]\n",
        "RD_FEATURES:LogisticRegression(C=1, class_weight=auto, dual=True, fit_intercept=True,\n",
        "          intercept_scaling=1.0, penalty=l2, random_state=None, tol=0.0001)\n",
        "Y_TRAIN:1     0\n",
        "4     0\n",
        "6     0\n",
        "8     0\n",
        "11    0\n",
        "12    1\n",
        "17    0\n",
        "21    0\n",
        "25    0\n",
        "28    0\n",
        "29    0\n",
        "30    0\n",
        "31    0\n",
        "36    0\n",
        "39    0\n",
        "...\n",
        "278532    1\n",
        "278546    1\n",
        "278556    1\n",
        "278647    1\n",
        "278669    1\n",
        "278704    1\n",
        "278738    1\n",
        "278762    1\n",
        "278836    1\n",
        "278909    1\n",
        "278997    1\n",
        "279119    1\n",
        "279139    1\n",
        "279353    1\n",
        "279365    1\n",
        "Name: booking_bool, Length: 247177, dtype: int64"
       ]
      },
      {
       "output_type": "stream",
       "stream": "stdout",
       "text": [
        "\n",
        "Y_TEST:[1 0 0 ..., 0 0 0]\n",
        "len:111790\n",
        "Y_PRED_RD:[1 0 0 ..., 0 0 0]\n",
        "len:111790\n"
       ]
      }
     ],
     "prompt_number": 44
    },
    {
     "cell_type": "code",
     "collapsed": false,
     "input": [
      "print \"Score RD:%s\"%rd.score(testData.values,y_test)\n",
      "#print \"Score RFD:%s\"%rfd.score(testData.values,y_test)\n",
      "target_names = ['Not Booked', 'Booked']\n",
      "cm1=sk_confusion_matrix(y_test.values, y_pred_rd.astype(int))\n",
      "cm1.view()\n",
      "#cm2=sk_confusion_matrix(y_test.values, y_pred_rfd.astype(int))\n",
      "#cm2.view()\n",
      "\n",
      "print(classification_report(y_test.values, y_pred_rd, target_names=target_names))\n",
      "#print(classification_report(y_test.values, y_pred_rfd, target_names=target_names))\n"
     ],
     "language": "python",
     "metadata": {},
     "outputs": [
      {
       "output_type": "stream",
       "stream": "stdout",
       "text": [
        "Score RD:0.999910546561\n",
        "             precision    recall  f1-score   support\n",
        "\n",
        " Not Booked       1.00      1.00      1.00    108704\n",
        "     Booked       1.00      1.00      1.00      3086\n",
        "\n",
        "avg / total       1.00      1.00      1.00    111790\n"
       ]
      },
      {
       "output_type": "stream",
       "stream": "stdout",
       "text": [
        "\n"
       ]
      }
     ],
     "prompt_number": 45
    },
    {
     "cell_type": "code",
     "collapsed": false,
     "input": [
      "mt.average_precision_score(y_test.values,y_pred_rd)"
     ],
     "language": "python",
     "metadata": {},
     "outputs": [
      {
       "metadata": {},
       "output_type": "pyout",
       "prompt_number": 175,
       "text": [
        "0"
       ]
      }
     ],
     "prompt_number": 175
    },
    {
     "cell_type": "code",
     "collapsed": false,
     "input": [
      "#testData.fillna(value=0,axis=1,inplace=True)"
     ],
     "language": "python",
     "metadata": {},
     "outputs": [],
     "prompt_number": 52
    },
    {
     "cell_type": "code",
     "collapsed": false,
     "input": [
      "#price_mean = [np.mean(y) for i in x]"
     ],
     "language": "python",
     "metadata": {},
     "outputs": []
    },
    {
     "cell_type": "code",
     "collapsed": false,
     "input": [
      "\"\"\"\n",
      "import matplotlib.pyplot as plt\n",
      "\n",
      "#plt.hist([list(trainData.srch_booking_window.values)], \n",
      "#         498)\n",
      "\n",
      "fig, ts = plt.subplots()\n",
      "ts.scatter(allBookings.srch_booking_window.values,allBookings.price_usd.values,  alpha=0.5)\n",
      "ts.set_xlabel(r'Booking Window', fontsize=20)\n",
      "ts.set_ylabel(r'Price in USD', fontsize=20)\n",
      "ts.plot()\n",
      "\"\"\""
     ],
     "language": "python",
     "metadata": {},
     "outputs": [
      {
       "metadata": {},
       "output_type": "pyout",
       "prompt_number": 40,
       "text": [
        "[]"
       ]
      }
     ],
     "prompt_number": 40
    },
    {
     "cell_type": "code",
     "collapsed": false,
     "input": [
      "\"\"\"\n",
      "plt.legend()\n",
      "plt.grid(True)\n",
      "plt.show(aspect=AUTO)\n",
      "\"\"\""
     ],
     "language": "python",
     "metadata": {},
     "outputs": [
      {
       "output_type": "stream",
       "stream": "stderr",
       "text": [
        "/Users/pagrawal/anaconda/lib/python2.7/site-packages/matplotlib/axes.py:4747: UserWarning: No labeled objects found. Use label='...' kwarg on individual plots.\n",
        "  warnings.warn(\"No labeled objects found. \"\n"
       ]
      },
      {
       "ename": "NameError",
       "evalue": "name 'AUTO' is not defined",
       "output_type": "pyerr",
       "traceback": [
        "\u001b[0;31m---------------------------------------------------------------------------\u001b[0m\n\u001b[0;31mNameError\u001b[0m                                 Traceback (most recent call last)",
        "\u001b[0;32m<ipython-input-25-ad59f5df1ce4>\u001b[0m in \u001b[0;36m<module>\u001b[0;34m()\u001b[0m\n\u001b[1;32m      1\u001b[0m \u001b[0mplt\u001b[0m\u001b[0;34m.\u001b[0m\u001b[0mlegend\u001b[0m\u001b[0;34m(\u001b[0m\u001b[0;34m)\u001b[0m\u001b[0;34m\u001b[0m\u001b[0m\n\u001b[1;32m      2\u001b[0m \u001b[0mplt\u001b[0m\u001b[0;34m.\u001b[0m\u001b[0mgrid\u001b[0m\u001b[0;34m(\u001b[0m\u001b[0mTrue\u001b[0m\u001b[0;34m)\u001b[0m\u001b[0;34m\u001b[0m\u001b[0m\n\u001b[0;32m----> 3\u001b[0;31m \u001b[0mplt\u001b[0m\u001b[0;34m.\u001b[0m\u001b[0mshow\u001b[0m\u001b[0;34m(\u001b[0m\u001b[0maspect\u001b[0m\u001b[0;34m=\u001b[0m\u001b[0mAUTO\u001b[0m\u001b[0;34m)\u001b[0m\u001b[0;34m\u001b[0m\u001b[0m\n\u001b[0m",
        "\u001b[0;31mNameError\u001b[0m: name 'AUTO' is not defined"
       ]
      }
     ],
     "prompt_number": 25
    },
    {
     "cell_type": "code",
     "collapsed": false,
     "input": [
      "def timeofday(dt):\n",
      "    if(dt.hour>=4 and dt.hour <6):\n",
      "        return \"early_morning\"\n",
      "    if(dt.hour>=6 and dt.hour<11):\n",
      "        return \"morning\"\n",
      "    if(dt.hour>=11 and dt.hour<14):\n",
      "        return \"midday\"\n",
      "    if(dt.hour>=14 and dt.hour<18):\n",
      "        return \"afternoon\"\n",
      "    if(dt.hour>=18 and dt.hour<22):\n",
      "        return \"evening\"\n",
      "    if(dt.hour>=22 and dt.hour<4):\n",
      "        return \"night\"\n",
      "\n",
      "def isWeekday(dt):\n",
      "    if(dt.dayofweek<5):\n",
      "        return True\n",
      "    return False\n",
      "\n",
      "def confusion_matrix(y_test, y_pred):\n",
      "    cm = sk_confusion_matrix(y_test, y_pred)\n",
      "    cm = pd.DataFrame(data=cm, columns=[-1, 1], index=[-1, 1])\n",
      "    cm.columns.name = 'Predicted label'\n",
      "    cm.index.name = 'True label'\n",
      "    error_rate = (y_pred != y_test).mean()\n",
      "    print('error rate: %.2f' % error_rate)\n",
      "    return cm"
     ],
     "language": "python",
     "metadata": {},
     "outputs": [],
     "prompt_number": 16
    },
    {
     "cell_type": "code",
     "collapsed": false,
     "input": [
      "\"\"\"\n",
      "priceUSDLT20000=trainDataTable[trainDataTable.price_usd.values<20000]\n",
      "#trainDataTable[priceUSDGT5000.prop_id.values]\n",
      "priceUSDLT20000.sort('price_usd',ascending=0)\n",
      "priceUSDLT20000.to_csv('priceUSDLT20000.csv')\n",
      "\"\"\""
     ],
     "language": "python",
     "metadata": {},
     "outputs": [],
     "prompt_number": 6
    },
    {
     "cell_type": "code",
     "collapsed": false,
     "input": [
      "def Occurence_0(x):\n",
      "      return pd.Series({'Booked': sum(x['booking_bool'] == 1),\n",
      "                        'Average AP': np.mean(x['srch_booking_window']),\n",
      "                        'Gross Amount':  sum(x['gross_bookings_usd'])})\n",
      "trainDataTable.groupby('srch_adults_count').apply(Occurence_0).sort('Booked',axis=0,ascending=0)"
     ],
     "language": "python",
     "metadata": {},
     "outputs": [
      {
       "html": [
        "<div style=\"max-height:1000px;max-width:1500px;overflow:auto;\">\n",
        "<table border=\"1\" class=\"dataframe\">\n",
        "  <thead>\n",
        "    <tr style=\"text-align: right;\">\n",
        "      <th></th>\n",
        "      <th>Average AP</th>\n",
        "      <th>Booked</th>\n",
        "      <th>Gross Amount</th>\n",
        "    </tr>\n",
        "    <tr>\n",
        "      <th>srch_adults_count</th>\n",
        "      <th></th>\n",
        "      <th></th>\n",
        "      <th></th>\n",
        "    </tr>\n",
        "  </thead>\n",
        "  <tbody>\n",
        "    <tr>\n",
        "      <th>2</th>\n",
        "      <td> 40.101997</td>\n",
        "      <td> 171941</td>\n",
        "      <td> 63032471.90</td>\n",
        "    </tr>\n",
        "    <tr>\n",
        "      <th>1</th>\n",
        "      <td> 26.061347</td>\n",
        "      <td>  73242</td>\n",
        "      <td> 24761985.22</td>\n",
        "    </tr>\n",
        "    <tr>\n",
        "      <th>3</th>\n",
        "      <td> 44.041892</td>\n",
        "      <td>  13646</td>\n",
        "      <td>  7267571.40</td>\n",
        "    </tr>\n",
        "    <tr>\n",
        "      <th>4</th>\n",
        "      <td> 48.215589</td>\n",
        "      <td>  13450</td>\n",
        "      <td>  8068512.92</td>\n",
        "    </tr>\n",
        "    <tr>\n",
        "      <th>6</th>\n",
        "      <td> 56.426681</td>\n",
        "      <td>   1785</td>\n",
        "      <td>  1500563.53</td>\n",
        "    </tr>\n",
        "    <tr>\n",
        "      <th>5</th>\n",
        "      <td> 49.835675</td>\n",
        "      <td>   1526</td>\n",
        "      <td>  1219007.50</td>\n",
        "    </tr>\n",
        "    <tr>\n",
        "      <th>8</th>\n",
        "      <td> 58.818896</td>\n",
        "      <td>    566</td>\n",
        "      <td>   638960.05</td>\n",
        "    </tr>\n",
        "    <tr>\n",
        "      <th>7</th>\n",
        "      <td> 54.432168</td>\n",
        "      <td>    287</td>\n",
        "      <td>   275127.10</td>\n",
        "    </tr>\n",
        "    <tr>\n",
        "      <th>9</th>\n",
        "      <td> 66.331988</td>\n",
        "      <td>     72</td>\n",
        "      <td>   103082.54</td>\n",
        "    </tr>\n",
        "  </tbody>\n",
        "</table>\n",
        "<p>9 rows \u00d7 3 columns</p>\n",
        "</div>"
       ],
       "metadata": {},
       "output_type": "pyout",
       "prompt_number": 83,
       "text": [
        "                   Average AP  Booked  Gross Amount\n",
        "srch_adults_count                                  \n",
        "2                   40.101997  171941   63032471.90\n",
        "1                   26.061347   73242   24761985.22\n",
        "3                   44.041892   13646    7267571.40\n",
        "4                   48.215589   13450    8068512.92\n",
        "6                   56.426681    1785    1500563.53\n",
        "5                   49.835675    1526    1219007.50\n",
        "8                   58.818896     566     638960.05\n",
        "7                   54.432168     287     275127.10\n",
        "9                   66.331988      72     103082.54\n",
        "\n",
        "[9 rows x 3 columns]"
       ]
      }
     ],
     "prompt_number": 83
    },
    {
     "cell_type": "code",
     "collapsed": false,
     "input": [
      "#rfdFeatureImportances=rfd.feature_importances_"
     ],
     "language": "python",
     "metadata": {},
     "outputs": [],
     "prompt_number": 100
    },
    {
     "cell_type": "code",
     "collapsed": false,
     "input": [
      "list(trainData.columns)"
     ],
     "language": "python",
     "metadata": {},
     "outputs": [
      {
       "metadata": {},
       "output_type": "pyout",
       "prompt_number": 30,
       "text": [
        "['site_id',\n",
        " 'visitor_location_country_id',\n",
        " 'visitor_hist_starrating',\n",
        " 'visitor_hist_adr_usd',\n",
        " 'prop_country_id',\n",
        " 'prop_id',\n",
        " 'prop_starrating',\n",
        " 'prop_review_score',\n",
        " 'prop_brand_bool',\n",
        " 'prop_location_score1',\n",
        " 'prop_location_score2',\n",
        " 'prop_log_historical_price',\n",
        " 'position',\n",
        " 'price_usd',\n",
        " 'promotion_flag',\n",
        " 'srch_destination_id',\n",
        " 'srch_length_of_stay',\n",
        " 'srch_booking_window',\n",
        " 'srch_adults_count',\n",
        " 'srch_children_count',\n",
        " 'srch_room_count',\n",
        " 'srch_saturday_night_bool',\n",
        " 'srch_query_affinity_score',\n",
        " 'orig_destination_distance',\n",
        " 'random_bool',\n",
        " 'comp1_rate',\n",
        " 'comp1_inv',\n",
        " 'comp1_rate_percent_diff',\n",
        " 'comp2_rate',\n",
        " 'comp2_inv',\n",
        " 'comp2_rate_percent_diff',\n",
        " 'comp3_rate',\n",
        " 'comp3_inv',\n",
        " 'comp3_rate_percent_diff',\n",
        " 'comp4_rate',\n",
        " 'comp4_inv',\n",
        " 'comp4_rate_percent_diff',\n",
        " 'comp5_rate',\n",
        " 'comp5_inv',\n",
        " 'comp5_rate_percent_diff',\n",
        " 'comp6_rate',\n",
        " 'comp6_inv',\n",
        " 'comp6_rate_percent_diff',\n",
        " 'comp7_rate',\n",
        " 'comp7_inv',\n",
        " 'comp7_rate_percent_diff',\n",
        " 'comp8_rate',\n",
        " 'comp8_inv',\n",
        " 'comp8_rate_percent_diff',\n",
        " 'click_bool',\n",
        " 'gross_bookings_usd',\n",
        " 'booking_bool']"
       ]
      }
     ],
     "prompt_number": 30
    },
    {
     "cell_type": "code",
     "collapsed": false,
     "input": [
      "corrTrainData=trainData.corr()"
     ],
     "language": "python",
     "metadata": {},
     "outputs": [],
     "prompt_number": 31
    },
    {
     "cell_type": "code",
     "collapsed": false,
     "input": [
      "plt.pcolor(corrTrainData)\n",
      "plt.yticks(np.arange(0.5, len(corrTrainData.index), 1), corrTrainData.index)\n",
      "plt.xticks(np.arange(0.5, len(corrTrainData.columns), 1), corrTrainData.columns, rotation =90)\n",
      "plt.autoscale()\n",
      "plt.set_cmap(\"seismic\")\n",
      "plt.show()"
     ],
     "language": "python",
     "metadata": {},
     "outputs": [],
     "prompt_number": 52
    },
    {
     "cell_type": "code",
     "collapsed": false,
     "input": [
      "groupedData=trainData.groupby('promotion_flag')"
     ],
     "language": "python",
     "metadata": {},
     "outputs": [],
     "prompt_number": 67
    },
    {
     "cell_type": "code",
     "collapsed": false,
     "input": [
      "temp3 = pd.DataFrame()\n",
      "temp1=trainDataTable[trainDataTable.promotion_flag==0]\n",
      "temp2=temp1[temp1.booking_bool==1]\n",
      "temp1=trainDataTable[trainDataTable.promotion_flag==1]\n",
      "temp3['0']=temp2.gross_bookings_usd.describe()\n",
      "temp3['1']=temp1[temp1.booking_bool==1].gross_bookings_usd.describe()\n",
      "\n"
     ],
     "language": "python",
     "metadata": {},
     "outputs": [],
     "prompt_number": 69
    },
    {
     "cell_type": "code",
     "collapsed": false,
     "input": [
      "print get_test_stat_and_p_value(temp3)"
     ],
     "language": "python",
     "metadata": {},
     "outputs": [
      {
       "output_type": "stream",
       "stream": "stdout",
       "text": [
        "{'p_value': 1.9393077527222667e-138, 'difference_of_means': -84.04606085003087, 'unpooled_SE': 3.3494114893047766, 't_value': -25.092784543912806}\n"
       ]
      }
     ],
     "prompt_number": 74
    }
   ],
   "metadata": {}
  }
 ]
}