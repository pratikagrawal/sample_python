{
 "metadata": {
  "name": "",
  "signature": "sha256:78d54cb74c70e52cdf9d80938b61374bea4e3b5883a8fc10fa6e94c11c8ef897"
 },
 "nbformat": 3,
 "nbformat_minor": 0,
 "worksheets": [
  {
   "cells": [
    {
     "cell_type": "heading",
     "level": 1,
     "metadata": {},
     "source": [
      "Introduction & Setup"
     ]
    },
    {
     "cell_type": "markdown",
     "metadata": {},
     "source": [
      "This short tutorial demonstrates the power of IPython Notebook in organizing and running complex data analysis -- in this case, a state-of-the-art NLP model based on deep-learning (see [here](https://code.google.com/p/word2vec/) and [here](http://arxiv.org/abs/1402.3722) for a discussion of the [skip-gram](http://en.wikipedia.org/wiki/Skip-gram) algorithm at the center of the model).  The key library which implements the modeling is [gensim](http://radimrehurek.com/project/gensim/), a topic modeling library written in (highly-optimized) Python, which is highly intuitive and extensible.\n",
      "\n",
      "This tutorial is designed to show a \"soup to nuts\" workflow, assuming only that ipython (and its dependencies) and the basic scipy stack (numpy, scipy, matplotlib, pandas) are installed.  This tutorial assumes that ipython is running under a virtual environment (avoiding permissions issues).\n",
      "\n",
      "The first step is to install (if it has not already been), the gensim library.  We'll use pip install for this.  We'll also install cython (enabling serious performance boosts for optimized code), which is used by gensim."
     ]
    },
    {
     "cell_type": "code",
     "collapsed": false,
     "input": [
      "!pip install --upgrade gensim\n",
      "!pip install --upgrade cython"
     ],
     "language": "python",
     "metadata": {},
     "outputs": [
      {
       "output_type": "stream",
       "stream": "stdout",
       "text": [
        "Downloading/unpacking gensim\r\n"
       ]
      },
      {
       "output_type": "stream",
       "stream": "stdout",
       "text": [
        "  Downloading gensim-0.10.0-py2.py3-none-any.whl (2.1MB): \r",
        "  Downloading gensim-0.10.0-py2.py3-none-any.whl (2.1MB):   0%  4.1kB\r",
        "  Downloading gensim-0.10.0-py2.py3-none-any.whl (2.1MB):   0%  8.2kB\r",
        "  Downloading gensim-0.10.0-py2.py3-none-any.whl (2.1MB):   0%  12kB \r",
        "  Downloading gensim-0.10.0-py2.py3-none-any.whl (2.1MB):   0%  16kB\r",
        "  Downloading gensim-0.10.0-py2.py3-none-any.whl (2.1MB):   0%  20kB\r",
        "  Downloading gensim-0.10.0-py2.py3-none-any.whl (2.1MB):   1%  24kB\r",
        "  Downloading gensim-0.10.0-py2.py3-none-any.whl (2.1MB):   1%  28kB\r",
        "  Downloading gensim-0.10.0-py2.py3-none-any.whl (2.1MB):   1%  32kB\r",
        "  Downloading gensim-0.10.0-py2.py3-none-any.whl (2.1MB):   1%  36kB\r",
        "  Downloading gensim-0.10.0-py2.py3-none-any.whl (2.1MB):   1%  40kB\r",
        "  Downloading gensim-0.10.0-py2.py3-none-any.whl (2.1MB):   2%  45kB\r",
        "  Downloading gensim-0.10.0-py2.py3-none-any.whl (2.1MB):   2%  49kB\r",
        "  Downloading gensim-0.10.0-py2.py3-none-any.whl (2.1MB):   2%  53kB\r",
        "  Downloading gensim-0.10.0-py2.py3-none-any.whl (2.1MB):   2%  57kB\r",
        "  Downloading gensim-0.10.0-py2.py3-none-any.whl (2.1MB):   2%  61kB"
       ]
      },
      {
       "output_type": "stream",
       "stream": "stdout",
       "text": [
        "\r",
        "  Downloading gensim-0.10.0-py2.py3-none-any.whl (2.1MB):   3%  65kB\r",
        "  Downloading gensim-0.10.0-py2.py3-none-any.whl (2.1MB):   3%  69kB\r",
        "  Downloading gensim-0.10.0-py2.py3-none-any.whl (2.1MB):   3%  73kB\r",
        "  Downloading gensim-0.10.0-py2.py3-none-any.whl (2.1MB):   3%  77kB\r",
        "  Downloading gensim-0.10.0-py2.py3-none-any.whl (2.1MB):   3%  81kB\r",
        "  Downloading gensim-0.10.0-py2.py3-none-any.whl (2.1MB):   4%  86kB\r",
        "  Downloading gensim-0.10.0-py2.py3-none-any.whl (2.1MB):   4%  90kB\r",
        "  Downloading gensim-0.10.0-py2.py3-none-any.whl (2.1MB):   4%  94kB\r",
        "  Downloading gensim-0.10.0-py2.py3-none-any.whl (2.1MB):   4%  98kB\r",
        "  Downloading gensim-0.10.0-py2.py3-none-any.whl (2.1MB):   4%  102kB\r",
        "  Downloading gensim-0.10.0-py2.py3-none-any.whl (2.1MB):   5%  106kB\r",
        "  Downloading gensim-0.10.0-py2.py3-none-any.whl (2.1MB):   5%  110kB\r",
        "  Downloading gensim-0.10.0-py2.py3-none-any.whl (2.1MB):   5%  114kB\r",
        "  Downloading gensim-0.10.0-py2.py3-none-any.whl (2.1MB):   5%  118kB\r",
        "  Downloading gensim-0.10.0-py2.py3-none-any.whl (2.1MB):   5%  122kB\r",
        "  Downloading gensim-0.10.0-py2.py3-none-any.whl (2.1MB):   6%  126kB\r",
        "  Downloading gensim-0.10.0-py2.py3-none-any.whl (2.1MB):   6%  131kB\r",
        "  Downloading gensim-0.10.0-py2.py3-none-any.whl (2.1MB):   6%  135kB\r",
        "  Downloading gensim-0.10.0-py2.py3-none-any.whl (2.1MB):   6%  139kB\r",
        "  Downloading gensim-0.10.0-py2.py3-none-any.whl (2.1MB):   6%  143kB\r",
        "  Downloading gensim-0.10.0-py2.py3-none-any.whl (2.1MB):   7%  147kB\r",
        "  Downloading gensim-0.10.0-py2.py3-none-any.whl (2.1MB):   7%  151kB\r",
        "  Downloading gensim-0.10.0-py2.py3-none-any.whl (2.1MB):   7%  155kB\r",
        "  Downloading gensim-0.10.0-py2.py3-none-any.whl (2.1MB):   7%  159kB\r",
        "  Downloading gensim-0.10.0-py2.py3-none-any.whl (2.1MB):   7%  163kB\r",
        "  Downloading gensim-0.10.0-py2.py3-none-any.whl (2.1MB):   8%  167kB\r",
        "  Downloading gensim-0.10.0-py2.py3-none-any.whl (2.1MB):   8%  172kB\r",
        "  Downloading gensim-0.10.0-py2.py3-none-any.whl (2.1MB):   8%  176kB\r",
        "  Downloading gensim-0.10.0-py2.py3-none-any.whl (2.1MB):   8%  180kB\r",
        "  Downloading gensim-0.10.0-py2.py3-none-any.whl (2.1MB):   8%  184kB\r",
        "  Downloading gensim-0.10.0-py2.py3-none-any.whl (2.1MB):   9%  188kB"
       ]
      },
      {
       "output_type": "stream",
       "stream": "stdout",
       "text": [
        "\r",
        "  Downloading gensim-0.10.0-py2.py3-none-any.whl (2.1MB):   9%  192kB\r",
        "  Downloading gensim-0.10.0-py2.py3-none-any.whl (2.1MB):   9%  196kB\r",
        "  Downloading gensim-0.10.0-py2.py3-none-any.whl (2.1MB):   9%  200kB\r",
        "  Downloading gensim-0.10.0-py2.py3-none-any.whl (2.1MB):   9%  204kB\r",
        "  Downloading gensim-0.10.0-py2.py3-none-any.whl (2.1MB):  10%  208kB\r",
        "  Downloading gensim-0.10.0-py2.py3-none-any.whl (2.1MB):  10%  212kB\r",
        "  Downloading gensim-0.10.0-py2.py3-none-any.whl (2.1MB):  10%  217kB\r",
        "  Downloading gensim-0.10.0-py2.py3-none-any.whl (2.1MB):  10%  221kB\r",
        "  Downloading gensim-0.10.0-py2.py3-none-any.whl (2.1MB):  10%  225kB\r",
        "  Downloading gensim-0.10.0-py2.py3-none-any.whl (2.1MB):  11%  229kB\r",
        "  Downloading gensim-0.10.0-py2.py3-none-any.whl (2.1MB):  11%  233kB\r",
        "  Downloading gensim-0.10.0-py2.py3-none-any.whl (2.1MB):  11%  237kB\r",
        "  Downloading gensim-0.10.0-py2.py3-none-any.whl (2.1MB):  11%  241kB\r",
        "  Downloading gensim-0.10.0-py2.py3-none-any.whl (2.1MB):  11%  245kB\r",
        "  Downloading gensim-0.10.0-py2.py3-none-any.whl (2.1MB):  11%  249kB\r",
        "  Downloading gensim-0.10.0-py2.py3-none-any.whl (2.1MB):  12%  253kB\r",
        "  Downloading gensim-0.10.0-py2.py3-none-any.whl (2.1MB):  12%  258kB\r",
        "  Downloading gensim-0.10.0-py2.py3-none-any.whl (2.1MB):  12%  262kB\r",
        "  Downloading gensim-0.10.0-py2.py3-none-any.whl (2.1MB):  12%  266kB\r",
        "  Downloading gensim-0.10.0-py2.py3-none-any.whl (2.1MB):  12%  270kB\r",
        "  Downloading gensim-0.10.0-py2.py3-none-any.whl (2.1MB):  13%  274kB\r",
        "  Downloading gensim-0.10.0-py2.py3-none-any.whl (2.1MB):  13%  278kB\r",
        "  Downloading gensim-0.10.0-py2.py3-none-any.whl (2.1MB):  13%  282kB\r",
        "  Downloading gensim-0.10.0-py2.py3-none-any.whl (2.1MB):  13%  286kB\r",
        "  Downloading gensim-0.10.0-py2.py3-none-any.whl (2.1MB):  13%  290kB\r",
        "  Downloading gensim-0.10.0-py2.py3-none-any.whl (2.1MB):  14%  294kB\r",
        "  Downloading gensim-0.10.0-py2.py3-none-any.whl (2.1MB):  14%  299kB\r",
        "  Downloading gensim-0.10.0-py2.py3-none-any.whl (2.1MB):  14%  303kB\r",
        "  Downloading gensim-0.10.0-py2.py3-none-any.whl (2.1MB):  14%  307kB\r",
        "  Downloading gensim-0.10.0-py2.py3-none-any.whl (2.1MB):  14%  311kB\r",
        "  Downloading gensim-0.10.0-py2.py3-none-any.whl (2.1MB):  15%  315kB\r",
        "  Downloading gensim-0.10.0-py2.py3-none-any.whl (2.1MB):  15%  319kB\r",
        "  Downloading gensim-0.10.0-py2.py3-none-any.whl (2.1MB):  15%  323kB\r",
        "  Downloading gensim-0.10.0-py2.py3-none-any.whl (2.1MB):  15%  327kB\r",
        "  Downloading gensim-0.10.0-py2.py3-none-any.whl (2.1MB):  15%  331kB\r",
        "  Downloading gensim-0.10.0-py2.py3-none-any.whl (2.1MB):  16%  335kB\r",
        "  Downloading gensim-0.10.0-py2.py3-none-any.whl (2.1MB):  16%  339kB\r",
        "  Downloading gensim-0.10.0-py2.py3-none-any.whl (2.1MB):  16%  344kB\r",
        "  Downloading gensim-0.10.0-py2.py3-none-any.whl (2.1MB):  16%  348kB\r",
        "  Downloading gensim-0.10.0-py2.py3-none-any.whl (2.1MB):  16%  352kB\r",
        "  Downloading gensim-0.10.0-py2.py3-none-any.whl (2.1MB):  17%  356kB\r",
        "  Downloading gensim-0.10.0-py2.py3-none-any.whl (2.1MB):  17%  360kB\r",
        "  Downloading gensim-0.10.0-py2.py3-none-any.whl (2.1MB):  17%  364kB\r",
        "  Downloading gensim-0.10.0-py2.py3-none-any.whl (2.1MB):  17%  368kB\r",
        "  Downloading gensim-0.10.0-py2.py3-none-any.whl (2.1MB):  17%  372kB\r",
        "  Downloading gensim-0.10.0-py2.py3-none-any.whl (2.1MB):  18%  376kB\r",
        "  Downloading gensim-0.10.0-py2.py3-none-any.whl (2.1MB):  18%  380kB\r",
        "  Downloading gensim-0.10.0-py2.py3-none-any.whl (2.1MB):  18%  385kB\r",
        "  Downloading gensim-0.10.0-py2.py3-none-any.whl (2.1MB):  18%  389kB\r",
        "  Downloading gensim-0.10.0-py2.py3-none-any.whl (2.1MB):  18%  393kB\r",
        "  Downloading gensim-0.10.0-py2.py3-none-any.whl (2.1MB):  19%  397kB\r",
        "  Downloading gensim-0.10.0-py2.py3-none-any.whl (2.1MB):  19%  401kB\r",
        "  Downloading gensim-0.10.0-py2.py3-none-any.whl (2.1MB):  19%  405kB\r",
        "  Downloading gensim-0.10.0-py2.py3-none-any.whl (2.1MB):  19%  409kB\r",
        "  Downloading gensim-0.10.0-py2.py3-none-any.whl (2.1MB):  19%  413kB\r",
        "  Downloading gensim-0.10.0-py2.py3-none-any.whl (2.1MB):  20%  417kB\r",
        "  Downloading gensim-0.10.0-py2.py3-none-any.whl (2.1MB):  20%  421kB\r",
        "  Downloading gensim-0.10.0-py2.py3-none-any.whl (2.1MB):  20%  425kB\r",
        "  Downloading gensim-0.10.0-py2.py3-none-any.whl (2.1MB):  20%  430kB\r",
        "  Downloading gensim-0.10.0-py2.py3-none-any.whl (2.1MB):  20%  434kB\r",
        "  Downloading gensim-0.10.0-py2.py3-none-any.whl (2.1MB):  21%  438kB"
       ]
      },
      {
       "output_type": "stream",
       "stream": "stdout",
       "text": [
        "\r",
        "  Downloading gensim-0.10.0-py2.py3-none-any.whl (2.1MB):  21%  442kB\r",
        "  Downloading gensim-0.10.0-py2.py3-none-any.whl (2.1MB):  21%  446kB\r",
        "  Downloading gensim-0.10.0-py2.py3-none-any.whl (2.1MB):  21%  450kB\r",
        "  Downloading gensim-0.10.0-py2.py3-none-any.whl (2.1MB):  21%  454kB\r",
        "  Downloading gensim-0.10.0-py2.py3-none-any.whl (2.1MB):  22%  458kB\r",
        "  Downloading gensim-0.10.0-py2.py3-none-any.whl (2.1MB):  22%  462kB\r",
        "  Downloading gensim-0.10.0-py2.py3-none-any.whl (2.1MB):  22%  466kB\r",
        "  Downloading gensim-0.10.0-py2.py3-none-any.whl (2.1MB):  22%  471kB\r",
        "  Downloading gensim-0.10.0-py2.py3-none-any.whl (2.1MB):  22%  475kB\r",
        "  Downloading gensim-0.10.0-py2.py3-none-any.whl (2.1MB):  23%  479kB\r",
        "  Downloading gensim-0.10.0-py2.py3-none-any.whl (2.1MB):  23%  483kB\r",
        "  Downloading gensim-0.10.0-py2.py3-none-any.whl (2.1MB):  23%  487kB\r",
        "  Downloading gensim-0.10.0-py2.py3-none-any.whl (2.1MB):  23%  491kB\r",
        "  Downloading gensim-0.10.0-py2.py3-none-any.whl (2.1MB):  23%  495kB\r",
        "  Downloading gensim-0.10.0-py2.py3-none-any.whl (2.1MB):  23%  499kB\r",
        "  Downloading gensim-0.10.0-py2.py3-none-any.whl (2.1MB):  24%  503kB\r",
        "  Downloading gensim-0.10.0-py2.py3-none-any.whl (2.1MB):  24%  507kB\r",
        "  Downloading gensim-0.10.0-py2.py3-none-any.whl (2.1MB):  24%  512kB\r",
        "  Downloading gensim-0.10.0-py2.py3-none-any.whl (2.1MB):  24%  516kB\r",
        "  Downloading gensim-0.10.0-py2.py3-none-any.whl (2.1MB):  24%  520kB\r",
        "  Downloading gensim-0.10.0-py2.py3-none-any.whl (2.1MB):  25%  524kB\r",
        "  Downloading gensim-0.10.0-py2.py3-none-any.whl (2.1MB):  25%  528kB\r",
        "  Downloading gensim-0.10.0-py2.py3-none-any.whl (2.1MB):  25%  532kB\r",
        "  Downloading gensim-0.10.0-py2.py3-none-any.whl (2.1MB):  25%  536kB\r",
        "  Downloading gensim-0.10.0-py2.py3-none-any.whl (2.1MB):  25%  540kB\r",
        "  Downloading gensim-0.10.0-py2.py3-none-any.whl (2.1MB):  26%  544kB\r",
        "  Downloading gensim-0.10.0-py2.py3-none-any.whl (2.1MB):  26%  548kB\r",
        "  Downloading gensim-0.10.0-py2.py3-none-any.whl (2.1MB):  26%  552kB\r",
        "  Downloading gensim-0.10.0-py2.py3-none-any.whl (2.1MB):  26%  557kB\r",
        "  Downloading gensim-0.10.0-py2.py3-none-any.whl (2.1MB):  26%  561kB\r",
        "  Downloading gensim-0.10.0-py2.py3-none-any.whl (2.1MB):  27%  565kB\r",
        "  Downloading gensim-0.10.0-py2.py3-none-any.whl (2.1MB):  27%  569kB\r",
        "  Downloading gensim-0.10.0-py2.py3-none-any.whl (2.1MB):  27%  573kB\r",
        "  Downloading gensim-0.10.0-py2.py3-none-any.whl (2.1MB):  27%  577kB\r",
        "  Downloading gensim-0.10.0-py2.py3-none-any.whl (2.1MB):  27%  581kB\r",
        "  Downloading gensim-0.10.0-py2.py3-none-any.whl (2.1MB):  28%  585kB\r",
        "  Downloading gensim-0.10.0-py2.py3-none-any.whl (2.1MB):  28%  589kB\r",
        "  Downloading gensim-0.10.0-py2.py3-none-any.whl (2.1MB):  28%  593kB\r",
        "  Downloading gensim-0.10.0-py2.py3-none-any.whl (2.1MB):  28%  598kB\r",
        "  Downloading gensim-0.10.0-py2.py3-none-any.whl (2.1MB):  28%  602kB\r",
        "  Downloading gensim-0.10.0-py2.py3-none-any.whl (2.1MB):  29%  606kB\r",
        "  Downloading gensim-0.10.0-py2.py3-none-any.whl (2.1MB):  29%  610kB\r",
        "  Downloading gensim-0.10.0-py2.py3-none-any.whl (2.1MB):  29%  614kB\r",
        "  Downloading gensim-0.10.0-py2.py3-none-any.whl (2.1MB):  29%  618kB\r",
        "  Downloading gensim-0.10.0-py2.py3-none-any.whl (2.1MB):  29%  622kB\r",
        "  Downloading gensim-0.10.0-py2.py3-none-any.whl (2.1MB):  30%  626kB\r",
        "  Downloading gensim-0.10.0-py2.py3-none-any.whl (2.1MB):  30%  630kB\r",
        "  Downloading gensim-0.10.0-py2.py3-none-any.whl (2.1MB):  30%  634kB\r",
        "  Downloading gensim-0.10.0-py2.py3-none-any.whl (2.1MB):  30%  638kB\r",
        "  Downloading gensim-0.10.0-py2.py3-none-any.whl (2.1MB):  30%  643kB\r",
        "  Downloading gensim-0.10.0-py2.py3-none-any.whl (2.1MB):  31%  647kB\r",
        "  Downloading gensim-0.10.0-py2.py3-none-any.whl (2.1MB):  31%  651kB\r",
        "  Downloading gensim-0.10.0-py2.py3-none-any.whl (2.1MB):  31%  655kB\r",
        "  Downloading gensim-0.10.0-py2.py3-none-any.whl (2.1MB):  31%  659kB\r",
        "  Downloading gensim-0.10.0-py2.py3-none-any.whl (2.1MB):  31%  663kB\r",
        "  Downloading gensim-0.10.0-py2.py3-none-any.whl (2.1MB):  32%  667kB\r",
        "  Downloading gensim-0.10.0-py2.py3-none-any.whl (2.1MB):  32%  671kB\r",
        "  Downloading gensim-0.10.0-py2.py3-none-any.whl (2.1MB):  32%  675kB\r",
        "  Downloading gensim-0.10.0-py2.py3-none-any.whl (2.1MB):  32%  679kB\r",
        "  Downloading gensim-0.10.0-py2.py3-none-any.whl (2.1MB):  32%  684kB\r",
        "  Downloading gensim-0.10.0-py2.py3-none-any.whl (2.1MB):  33%  688kB\r",
        "  Downloading gensim-0.10.0-py2.py3-none-any.whl (2.1MB):  33%  692kB\r",
        "  Downloading gensim-0.10.0-py2.py3-none-any.whl (2.1MB):  33%  696kB\r",
        "  Downloading gensim-0.10.0-py2.py3-none-any.whl (2.1MB):  33%  700kB"
       ]
      },
      {
       "output_type": "stream",
       "stream": "stdout",
       "text": [
        "\r",
        "  Downloading gensim-0.10.0-py2.py3-none-any.whl (2.1MB):  33%  704kB\r",
        "  Downloading gensim-0.10.0-py2.py3-none-any.whl (2.1MB):  34%  708kB\r",
        "  Downloading gensim-0.10.0-py2.py3-none-any.whl (2.1MB):  34%  712kB\r",
        "  Downloading gensim-0.10.0-py2.py3-none-any.whl (2.1MB):  34%  716kB\r",
        "  Downloading gensim-0.10.0-py2.py3-none-any.whl (2.1MB):  34%  720kB\r",
        "  Downloading gensim-0.10.0-py2.py3-none-any.whl (2.1MB):  34%  724kB\r",
        "  Downloading gensim-0.10.0-py2.py3-none-any.whl (2.1MB):  34%  729kB\r",
        "  Downloading gensim-0.10.0-py2.py3-none-any.whl (2.1MB):  35%  733kB\r",
        "  Downloading gensim-0.10.0-py2.py3-none-any.whl (2.1MB):  35%  737kB\r",
        "  Downloading gensim-0.10.0-py2.py3-none-any.whl (2.1MB):  35%  741kB\r",
        "  Downloading gensim-0.10.0-py2.py3-none-any.whl (2.1MB):  35%  745kB\r",
        "  Downloading gensim-0.10.0-py2.py3-none-any.whl (2.1MB):  35%  749kB\r",
        "  Downloading gensim-0.10.0-py2.py3-none-any.whl (2.1MB):  36%  753kB\r",
        "  Downloading gensim-0.10.0-py2.py3-none-any.whl (2.1MB):  36%  757kB\r",
        "  Downloading gensim-0.10.0-py2.py3-none-any.whl (2.1MB):  36%  761kB\r",
        "  Downloading gensim-0.10.0-py2.py3-none-any.whl (2.1MB):  36%  765kB\r",
        "  Downloading gensim-0.10.0-py2.py3-none-any.whl (2.1MB):  36%  770kB\r",
        "  Downloading gensim-0.10.0-py2.py3-none-any.whl (2.1MB):  37%  774kB\r",
        "  Downloading gensim-0.10.0-py2.py3-none-any.whl (2.1MB):  37%  778kB\r",
        "  Downloading gensim-0.10.0-py2.py3-none-any.whl (2.1MB):  37%  782kB\r",
        "  Downloading gensim-0.10.0-py2.py3-none-any.whl (2.1MB):  37%  786kB\r",
        "  Downloading gensim-0.10.0-py2.py3-none-any.whl (2.1MB):  37%  790kB\r",
        "  Downloading gensim-0.10.0-py2.py3-none-any.whl (2.1MB):  38%  794kB\r",
        "  Downloading gensim-0.10.0-py2.py3-none-any.whl (2.1MB):  38%  798kB\r",
        "  Downloading gensim-0.10.0-py2.py3-none-any.whl (2.1MB):  38%  802kB\r",
        "  Downloading gensim-0.10.0-py2.py3-none-any.whl (2.1MB):  38%  806kB\r",
        "  Downloading gensim-0.10.0-py2.py3-none-any.whl (2.1MB):  38%  811kB\r",
        "  Downloading gensim-0.10.0-py2.py3-none-any.whl (2.1MB):  39%  815kB\r",
        "  Downloading gensim-0.10.0-py2.py3-none-any.whl (2.1MB):  39%  819kB\r",
        "  Downloading gensim-0.10.0-py2.py3-none-any.whl (2.1MB):  39%  823kB\r",
        "  Downloading gensim-0.10.0-py2.py3-none-any.whl (2.1MB):  39%  827kB\r",
        "  Downloading gensim-0.10.0-py2.py3-none-any.whl (2.1MB):  39%  831kB\r",
        "  Downloading gensim-0.10.0-py2.py3-none-any.whl (2.1MB):  40%  835kB\r",
        "  Downloading gensim-0.10.0-py2.py3-none-any.whl (2.1MB):  40%  839kB\r",
        "  Downloading gensim-0.10.0-py2.py3-none-any.whl (2.1MB):  40%  843kB\r",
        "  Downloading gensim-0.10.0-py2.py3-none-any.whl (2.1MB):  40%  847kB\r",
        "  Downloading gensim-0.10.0-py2.py3-none-any.whl (2.1MB):  40%  851kB\r",
        "  Downloading gensim-0.10.0-py2.py3-none-any.whl (2.1MB):  41%  856kB\r",
        "  Downloading gensim-0.10.0-py2.py3-none-any.whl (2.1MB):  41%  860kB\r",
        "  Downloading gensim-0.10.0-py2.py3-none-any.whl (2.1MB):  41%  864kB\r",
        "  Downloading gensim-0.10.0-py2.py3-none-any.whl (2.1MB):  41%  868kB\r",
        "  Downloading gensim-0.10.0-py2.py3-none-any.whl (2.1MB):  41%  872kB\r",
        "  Downloading gensim-0.10.0-py2.py3-none-any.whl (2.1MB):  42%  876kB\r",
        "  Downloading gensim-0.10.0-py2.py3-none-any.whl (2.1MB):  42%  880kB\r",
        "  Downloading gensim-0.10.0-py2.py3-none-any.whl (2.1MB):  42%  884kB\r",
        "  Downloading gensim-0.10.0-py2.py3-none-any.whl (2.1MB):  42%  888kB\r",
        "  Downloading gensim-0.10.0-py2.py3-none-any.whl (2.1MB):  42%  892kB\r",
        "  Downloading gensim-0.10.0-py2.py3-none-any.whl (2.1MB):  43%  897kB\r",
        "  Downloading gensim-0.10.0-py2.py3-none-any.whl (2.1MB):  43%  901kB\r",
        "  Downloading gensim-0.10.0-py2.py3-none-any.whl (2.1MB):  43%  905kB\r",
        "  Downloading gensim-0.10.0-py2.py3-none-any.whl (2.1MB):  43%  909kB\r",
        "  Downloading gensim-0.10.0-py2.py3-none-any.whl (2.1MB):  43%  913kB\r",
        "  Downloading gensim-0.10.0-py2.py3-none-any.whl (2.1MB):  44%  917kB\r",
        "  Downloading gensim-0.10.0-py2.py3-none-any.whl (2.1MB):  44%  921kB\r",
        "  Downloading gensim-0.10.0-py2.py3-none-any.whl (2.1MB):  44%  925kB\r",
        "  Downloading gensim-0.10.0-py2.py3-none-any.whl (2.1MB):  44%  929kB\r",
        "  Downloading gensim-0.10.0-py2.py3-none-any.whl (2.1MB):  44%  933kB\r",
        "  Downloading gensim-0.10.0-py2.py3-none-any.whl (2.1MB):  45%  937kB\r",
        "  Downloading gensim-0.10.0-py2.py3-none-any.whl (2.1MB):  45%  942kB\r",
        "  Downloading gensim-0.10.0-py2.py3-none-any.whl (2.1MB):  45%  946kB\r",
        "  Downloading gensim-0.10.0-py2.py3-none-any.whl (2.1MB):  45%  950kB\r",
        "  Downloading gensim-0.10.0-py2.py3-none-any.whl (2.1MB):  45%  954kB\r",
        "  Downloading gensim-0.10.0-py2.py3-none-any.whl (2.1MB):  46%  958kB\r",
        "  Downloading gensim-0.10.0-py2.py3-none-any.whl (2.1MB):  46%  962kB\r",
        "  Downloading gensim-0.10.0-py2.py3-none-any.whl (2.1MB):  46%  966kB\r",
        "  Downloading gensim-0.10.0-py2.py3-none-any.whl (2.1MB):  46%  970kB"
       ]
      },
      {
       "output_type": "stream",
       "stream": "stdout",
       "text": [
        "\r",
        "  Downloading gensim-0.10.0-py2.py3-none-any.whl (2.1MB):  46%  974kB\r",
        "  Downloading gensim-0.10.0-py2.py3-none-any.whl (2.1MB):  46%  978kB\r",
        "  Downloading gensim-0.10.0-py2.py3-none-any.whl (2.1MB):  47%  983kB\r",
        "  Downloading gensim-0.10.0-py2.py3-none-any.whl (2.1MB):  47%  987kB\r",
        "  Downloading gensim-0.10.0-py2.py3-none-any.whl (2.1MB):  47%  991kB\r",
        "  Downloading gensim-0.10.0-py2.py3-none-any.whl (2.1MB):  47%  995kB\r",
        "  Downloading gensim-0.10.0-py2.py3-none-any.whl (2.1MB):  47%  999kB\r",
        "  Downloading gensim-0.10.0-py2.py3-none-any.whl (2.1MB):  48%  1.0MB\r",
        "  Downloading gensim-0.10.0-py2.py3-none-any.whl (2.1MB):  48%  1.0MB\r",
        "  Downloading gensim-0.10.0-py2.py3-none-any.whl (2.1MB):  48%  1.0MB\r",
        "  Downloading gensim-0.10.0-py2.py3-none-any.whl (2.1MB):  48%  1.0MB\r",
        "  Downloading gensim-0.10.0-py2.py3-none-any.whl (2.1MB):  48%  1.0MB\r",
        "  Downloading gensim-0.10.0-py2.py3-none-any.whl (2.1MB):  49%  1.0MB\r",
        "  Downloading gensim-0.10.0-py2.py3-none-any.whl (2.1MB):  49%  1.0MB\r",
        "  Downloading gensim-0.10.0-py2.py3-none-any.whl (2.1MB):  49%  1.0MB\r",
        "  Downloading gensim-0.10.0-py2.py3-none-any.whl (2.1MB):  49%  1.0MB\r",
        "  Downloading gensim-0.10.0-py2.py3-none-any.whl (2.1MB):  49%  1.0MB\r",
        "  Downloading gensim-0.10.0-py2.py3-none-any.whl (2.1MB):  50%  1.0MB\r",
        "  Downloading gensim-0.10.0-py2.py3-none-any.whl (2.1MB):  50%  1.0MB\r",
        "  Downloading gensim-0.10.0-py2.py3-none-any.whl (2.1MB):  50%  1.1MB\r",
        "  Downloading gensim-0.10.0-py2.py3-none-any.whl (2.1MB):  50%  1.1MB\r",
        "  Downloading gensim-0.10.0-py2.py3-none-any.whl (2.1MB):  50%  1.1MB\r",
        "  Downloading gensim-0.10.0-py2.py3-none-any.whl (2.1MB):  51%  1.1MB\r",
        "  Downloading gensim-0.10.0-py2.py3-none-any.whl (2.1MB):  51%  1.1MB\r",
        "  Downloading gensim-0.10.0-py2.py3-none-any.whl (2.1MB):  51%  1.1MB\r",
        "  Downloading gensim-0.10.0-py2.py3-none-any.whl (2.1MB):  51%  1.1MB\r",
        "  Downloading gensim-0.10.0-py2.py3-none-any.whl (2.1MB):  51%  1.1MB\r",
        "  Downloading gensim-0.10.0-py2.py3-none-any.whl (2.1MB):  52%  1.1MB\r",
        "  Downloading gensim-0.10.0-py2.py3-none-any.whl (2.1MB):  52%  1.1MB\r",
        "  Downloading gensim-0.10.0-py2.py3-none-any.whl (2.1MB):  52%  1.1MB\r",
        "  Downloading gensim-0.10.0-py2.py3-none-any.whl (2.1MB):  52%  1.1MB\r",
        "  Downloading gensim-0.10.0-py2.py3-none-any.whl (2.1MB):  52%  1.1MB\r",
        "  Downloading gensim-0.10.0-py2.py3-none-any.whl (2.1MB):  53%  1.1MB\r",
        "  Downloading gensim-0.10.0-py2.py3-none-any.whl (2.1MB):  53%  1.1MB\r",
        "  Downloading gensim-0.10.0-py2.py3-none-any.whl (2.1MB):  53%  1.1MB\r",
        "  Downloading gensim-0.10.0-py2.py3-none-any.whl (2.1MB):  53%  1.1MB\r",
        "  Downloading gensim-0.10.0-py2.py3-none-any.whl (2.1MB):  53%  1.1MB\r",
        "  Downloading gensim-0.10.0-py2.py3-none-any.whl (2.1MB):  54%  1.1MB\r",
        "  Downloading gensim-0.10.0-py2.py3-none-any.whl (2.1MB):  54%  1.1MB\r",
        "  Downloading gensim-0.10.0-py2.py3-none-any.whl (2.1MB):  54%  1.1MB\r",
        "  Downloading gensim-0.10.0-py2.py3-none-any.whl (2.1MB):  54%  1.1MB\r",
        "  Downloading gensim-0.10.0-py2.py3-none-any.whl (2.1MB):  54%  1.1MB\r",
        "  Downloading gensim-0.10.0-py2.py3-none-any.whl (2.1MB):  55%  1.1MB\r",
        "  Downloading gensim-0.10.0-py2.py3-none-any.whl (2.1MB):  55%  1.2MB\r",
        "  Downloading gensim-0.10.0-py2.py3-none-any.whl (2.1MB):  55%  1.2MB\r",
        "  Downloading gensim-0.10.0-py2.py3-none-any.whl (2.1MB):  55%  1.2MB\r",
        "  Downloading gensim-0.10.0-py2.py3-none-any.whl (2.1MB):  55%  1.2MB\r",
        "  Downloading gensim-0.10.0-py2.py3-none-any.whl (2.1MB):  56%  1.2MB\r",
        "  Downloading gensim-0.10.0-py2.py3-none-any.whl (2.1MB):  56%  1.2MB\r",
        "  Downloading gensim-0.10.0-py2.py3-none-any.whl (2.1MB):  56%  1.2MB\r",
        "  Downloading gensim-0.10.0-py2.py3-none-any.whl (2.1MB):  56%  1.2MB\r",
        "  Downloading gensim-0.10.0-py2.py3-none-any.whl (2.1MB):  56%  1.2MB\r",
        "  Downloading gensim-0.10.0-py2.py3-none-any.whl (2.1MB):  57%  1.2MB\r",
        "  Downloading gensim-0.10.0-py2.py3-none-any.whl (2.1MB):  57%  1.2MB\r",
        "  Downloading gensim-0.10.0-py2.py3-none-any.whl (2.1MB):  57%  1.2MB\r",
        "  Downloading gensim-0.10.0-py2.py3-none-any.whl (2.1MB):  57%  1.2MB\r",
        "  Downloading gensim-0.10.0-py2.py3-none-any.whl (2.1MB):  57%  1.2MB\r",
        "  Downloading gensim-0.10.0-py2.py3-none-any.whl (2.1MB):  57%  1.2MB\r",
        "  Downloading gensim-0.10.0-py2.py3-none-any.whl (2.1MB):  58%  1.2MB\r",
        "  Downloading gensim-0.10.0-py2.py3-none-any.whl (2.1MB):  58%  1.2MB\r",
        "  Downloading gensim-0.10.0-py2.py3-none-any.whl (2.1MB):  58%  1.2MB\r",
        "  Downloading gensim-0.10.0-py2.py3-none-any.whl (2.1MB):  58%  1.2MB\r",
        "  Downloading gensim-0.10.0-py2.py3-none-any.whl (2.1MB):  58%  1.2MB\r",
        "  Downloading gensim-0.10.0-py2.py3-none-any.whl (2.1MB):  59%  1.2MB\r",
        "  Downloading gensim-0.10.0-py2.py3-none-any.whl (2.1MB):  59%  1.2MB\r",
        "  Downloading gensim-0.10.0-py2.py3-none-any.whl (2.1MB):  59%  1.2MB\r",
        "  Downloading gensim-0.10.0-py2.py3-none-any.whl (2.1MB):  59%  1.2MB\r",
        "  Downloading gensim-0.10.0-py2.py3-none-any.whl (2.1MB):  59%  1.2MB\r",
        "  Downloading gensim-0.10.0-py2.py3-none-any.whl (2.1MB):  60%  1.3MB\r",
        "  Downloading gensim-0.10.0-py2.py3-none-any.whl (2.1MB):  60%  1.3MB\r",
        "  Downloading gensim-0.10.0-py2.py3-none-any.whl (2.1MB):  60%  1.3MB\r",
        "  Downloading gensim-0.10.0-py2.py3-none-any.whl (2.1MB):  60%  1.3MB\r",
        "  Downloading gensim-0.10.0-py2.py3-none-any.whl (2.1MB):  60%  1.3MB\r",
        "  Downloading gensim-0.10.0-py2.py3-none-any.whl (2.1MB):  61%  1.3MB\r",
        "  Downloading gensim-0.10.0-py2.py3-none-any.whl (2.1MB):  61%  1.3MB\r",
        "  Downloading gensim-0.10.0-py2.py3-none-any.whl (2.1MB):  61%  1.3MB\r",
        "  Downloading gensim-0.10.0-py2.py3-none-any.whl (2.1MB):  61%  1.3MB\r",
        "  Downloading gensim-0.10.0-py2.py3-none-any.whl (2.1MB):  61%  1.3MB\r",
        "  Downloading gensim-0.10.0-py2.py3-none-any.whl (2.1MB):  62%  1.3MB\r",
        "  Downloading gensim-0.10.0-py2.py3-none-any.whl (2.1MB):  62%  1.3MB\r",
        "  Downloading gensim-0.10.0-py2.py3-none-any.whl (2.1MB):  62%  1.3MB\r",
        "  Downloading gensim-0.10.0-py2.py3-none-any.whl (2.1MB):  62%  1.3MB\r",
        "  Downloading gensim-0.10.0-py2.py3-none-any.whl (2.1MB):  62%  1.3MB"
       ]
      },
      {
       "output_type": "stream",
       "stream": "stdout",
       "text": [
        "\r",
        "  Downloading gensim-0.10.0-py2.py3-none-any.whl (2.1MB):  63%  1.3MB\r",
        "  Downloading gensim-0.10.0-py2.py3-none-any.whl (2.1MB):  63%  1.3MB\r",
        "  Downloading gensim-0.10.0-py2.py3-none-any.whl (2.1MB):  63%  1.3MB\r",
        "  Downloading gensim-0.10.0-py2.py3-none-any.whl (2.1MB):  63%  1.3MB\r",
        "  Downloading gensim-0.10.0-py2.py3-none-any.whl (2.1MB):  63%  1.3MB\r",
        "  Downloading gensim-0.10.0-py2.py3-none-any.whl (2.1MB):  64%  1.3MB\r",
        "  Downloading gensim-0.10.0-py2.py3-none-any.whl (2.1MB):  64%  1.3MB\r",
        "  Downloading gensim-0.10.0-py2.py3-none-any.whl (2.1MB):  64%  1.3MB\r",
        "  Downloading gensim-0.10.0-py2.py3-none-any.whl (2.1MB):  64%  1.3MB\r",
        "  Downloading gensim-0.10.0-py2.py3-none-any.whl (2.1MB):  64%  1.4MB\r",
        "  Downloading gensim-0.10.0-py2.py3-none-any.whl (2.1MB):  65%  1.4MB\r",
        "  Downloading gensim-0.10.0-py2.py3-none-any.whl (2.1MB):  65%  1.4MB\r",
        "  Downloading gensim-0.10.0-py2.py3-none-any.whl (2.1MB):  65%  1.4MB\r",
        "  Downloading gensim-0.10.0-py2.py3-none-any.whl (2.1MB):  65%  1.4MB\r",
        "  Downloading gensim-0.10.0-py2.py3-none-any.whl (2.1MB):  65%  1.4MB\r",
        "  Downloading gensim-0.10.0-py2.py3-none-any.whl (2.1MB):  66%  1.4MB\r",
        "  Downloading gensim-0.10.0-py2.py3-none-any.whl (2.1MB):  66%  1.4MB\r",
        "  Downloading gensim-0.10.0-py2.py3-none-any.whl (2.1MB):  66%  1.4MB\r",
        "  Downloading gensim-0.10.0-py2.py3-none-any.whl (2.1MB):  66%  1.4MB\r",
        "  Downloading gensim-0.10.0-py2.py3-none-any.whl (2.1MB):  66%  1.4MB\r",
        "  Downloading gensim-0.10.0-py2.py3-none-any.whl (2.1MB):  67%  1.4MB\r",
        "  Downloading gensim-0.10.0-py2.py3-none-any.whl (2.1MB):  67%  1.4MB\r",
        "  Downloading gensim-0.10.0-py2.py3-none-any.whl (2.1MB):  67%  1.4MB\r",
        "  Downloading gensim-0.10.0-py2.py3-none-any.whl (2.1MB):  67%  1.4MB\r",
        "  Downloading gensim-0.10.0-py2.py3-none-any.whl (2.1MB):  67%  1.4MB\r",
        "  Downloading gensim-0.10.0-py2.py3-none-any.whl (2.1MB):  68%  1.4MB\r",
        "  Downloading gensim-0.10.0-py2.py3-none-any.whl (2.1MB):  68%  1.4MB\r",
        "  Downloading gensim-0.10.0-py2.py3-none-any.whl (2.1MB):  68%  1.4MB\r",
        "  Downloading gensim-0.10.0-py2.py3-none-any.whl (2.1MB):  68%  1.4MB\r",
        "  Downloading gensim-0.10.0-py2.py3-none-any.whl (2.1MB):  68%  1.4MB\r",
        "  Downloading gensim-0.10.0-py2.py3-none-any.whl (2.1MB):  69%  1.4MB\r",
        "  Downloading gensim-0.10.0-py2.py3-none-any.whl (2.1MB):  69%  1.4MB\r",
        "  Downloading gensim-0.10.0-py2.py3-none-any.whl (2.1MB):  69%  1.4MB\r",
        "  Downloading gensim-0.10.0-py2.py3-none-any.whl (2.1MB):  69%  1.4MB\r",
        "  Downloading gensim-0.10.0-py2.py3-none-any.whl (2.1MB):  69%  1.5MB\r",
        "  Downloading gensim-0.10.0-py2.py3-none-any.whl (2.1MB):  69%  1.5MB\r",
        "  Downloading gensim-0.10.0-py2.py3-none-any.whl (2.1MB):  70%  1.5MB\r",
        "  Downloading gensim-0.10.0-py2.py3-none-any.whl (2.1MB):  70%  1.5MB\r",
        "  Downloading gensim-0.10.0-py2.py3-none-any.whl (2.1MB):  70%  1.5MB\r",
        "  Downloading gensim-0.10.0-py2.py3-none-any.whl (2.1MB):  70%  1.5MB\r",
        "  Downloading gensim-0.10.0-py2.py3-none-any.whl (2.1MB):  70%  1.5MB\r",
        "  Downloading gensim-0.10.0-py2.py3-none-any.whl (2.1MB):  71%  1.5MB\r",
        "  Downloading gensim-0.10.0-py2.py3-none-any.whl (2.1MB):  71%  1.5MB\r",
        "  Downloading gensim-0.10.0-py2.py3-none-any.whl (2.1MB):  71%  1.5MB\r",
        "  Downloading gensim-0.10.0-py2.py3-none-any.whl (2.1MB):  71%  1.5MB\r",
        "  Downloading gensim-0.10.0-py2.py3-none-any.whl (2.1MB):  71%  1.5MB\r",
        "  Downloading gensim-0.10.0-py2.py3-none-any.whl (2.1MB):  72%  1.5MB\r",
        "  Downloading gensim-0.10.0-py2.py3-none-any.whl (2.1MB):  72%  1.5MB\r",
        "  Downloading gensim-0.10.0-py2.py3-none-any.whl (2.1MB):  72%  1.5MB\r",
        "  Downloading gensim-0.10.0-py2.py3-none-any.whl (2.1MB):  72%  1.5MB\r",
        "  Downloading gensim-0.10.0-py2.py3-none-any.whl (2.1MB):  72%  1.5MB\r",
        "  Downloading gensim-0.10.0-py2.py3-none-any.whl (2.1MB):  73%  1.5MB\r",
        "  Downloading gensim-0.10.0-py2.py3-none-any.whl (2.1MB):  73%  1.5MB\r",
        "  Downloading gensim-0.10.0-py2.py3-none-any.whl (2.1MB):  73%  1.5MB\r",
        "  Downloading gensim-0.10.0-py2.py3-none-any.whl (2.1MB):  73%  1.5MB\r",
        "  Downloading gensim-0.10.0-py2.py3-none-any.whl (2.1MB):  73%  1.5MB\r",
        "  Downloading gensim-0.10.0-py2.py3-none-any.whl (2.1MB):  74%  1.5MB\r",
        "  Downloading gensim-0.10.0-py2.py3-none-any.whl (2.1MB):  74%  1.5MB\r",
        "  Downloading gensim-0.10.0-py2.py3-none-any.whl (2.1MB):  74%  1.6MB\r",
        "  Downloading gensim-0.10.0-py2.py3-none-any.whl (2.1MB):  74%  1.6MB\r",
        "  Downloading gensim-0.10.0-py2.py3-none-any.whl (2.1MB):  74%  1.6MB\r",
        "  Downloading gensim-0.10.0-py2.py3-none-any.whl (2.1MB):  75%  1.6MB\r",
        "  Downloading gensim-0.10.0-py2.py3-none-any.whl (2.1MB):  75%  1.6MB\r",
        "  Downloading gensim-0.10.0-py2.py3-none-any.whl (2.1MB):  75%  1.6MB\r",
        "  Downloading gensim-0.10.0-py2.py3-none-any.whl (2.1MB):  75%  1.6MB\r",
        "  Downloading gensim-0.10.0-py2.py3-none-any.whl (2.1MB):  75%  1.6MB\r",
        "  Downloading gensim-0.10.0-py2.py3-none-any.whl (2.1MB):  76%  1.6MB\r",
        "  Downloading gensim-0.10.0-py2.py3-none-any.whl (2.1MB):  76%  1.6MB\r",
        "  Downloading gensim-0.10.0-py2.py3-none-any.whl (2.1MB):  76%  1.6MB\r",
        "  Downloading gensim-0.10.0-py2.py3-none-any.whl (2.1MB):  76%  1.6MB\r",
        "  Downloading gensim-0.10.0-py2.py3-none-any.whl (2.1MB):  76%  1.6MB\r",
        "  Downloading gensim-0.10.0-py2.py3-none-any.whl (2.1MB):  77%  1.6MB\r",
        "  Downloading gensim-0.10.0-py2.py3-none-any.whl (2.1MB):  77%  1.6MB\r",
        "  Downloading gensim-0.10.0-py2.py3-none-any.whl (2.1MB):  77%  1.6MB\r",
        "  Downloading gensim-0.10.0-py2.py3-none-any.whl (2.1MB):  77%  1.6MB\r",
        "  Downloading gensim-0.10.0-py2.py3-none-any.whl (2.1MB):  77%  1.6MB\r",
        "  Downloading gensim-0.10.0-py2.py3-none-any.whl (2.1MB):  78%  1.6MB\r",
        "  Downloading gensim-0.10.0-py2.py3-none-any.whl (2.1MB):  78%  1.6MB\r",
        "  Downloading gensim-0.10.0-py2.py3-none-any.whl (2.1MB):  78%  1.6MB\r",
        "  Downloading gensim-0.10.0-py2.py3-none-any.whl (2.1MB):  78%  1.6MB\r",
        "  Downloading gensim-0.10.0-py2.py3-none-any.whl (2.1MB):  78%  1.6MB\r",
        "  Downloading gensim-0.10.0-py2.py3-none-any.whl (2.1MB):  79%  1.6MB\r",
        "  Downloading gensim-0.10.0-py2.py3-none-any.whl (2.1MB):  79%  1.7MB\r",
        "  Downloading gensim-0.10.0-py2.py3-none-any.whl (2.1MB):  79%  1.7MB\r",
        "  Downloading gensim-0.10.0-py2.py3-none-any.whl (2.1MB):  79%  1.7MB\r",
        "  Downloading gensim-0.10.0-py2.py3-none-any.whl (2.1MB):  79%  1.7MB\r",
        "  Downloading gensim-0.10.0-py2.py3-none-any.whl (2.1MB):  80%  1.7MB\r",
        "  Downloading gensim-0.10.0-py2.py3-none-any.whl (2.1MB):  80%  1.7MB\r",
        "  Downloading gensim-0.10.0-py2.py3-none-any.whl (2.1MB):  80%  1.7MB\r",
        "  Downloading gensim-0.10.0-py2.py3-none-any.whl (2.1MB):  80%  1.7MB\r",
        "  Downloading gensim-0.10.0-py2.py3-none-any.whl (2.1MB):  80%  1.7MB\r",
        "  Downloading gensim-0.10.0-py2.py3-none-any.whl (2.1MB):  80%  1.7MB\r",
        "  Downloading gensim-0.10.0-py2.py3-none-any.whl (2.1MB):  81%  1.7MB\r",
        "  Downloading gensim-0.10.0-py2.py3-none-any.whl (2.1MB):  81%  1.7MB"
       ]
      },
      {
       "output_type": "stream",
       "stream": "stdout",
       "text": [
        "\r",
        "  Downloading gensim-0.10.0-py2.py3-none-any.whl (2.1MB):  81%  1.7MB\r",
        "  Downloading gensim-0.10.0-py2.py3-none-any.whl (2.1MB):  81%  1.7MB\r",
        "  Downloading gensim-0.10.0-py2.py3-none-any.whl (2.1MB):  81%  1.7MB\r",
        "  Downloading gensim-0.10.0-py2.py3-none-any.whl (2.1MB):  82%  1.7MB\r",
        "  Downloading gensim-0.10.0-py2.py3-none-any.whl (2.1MB):  82%  1.7MB\r",
        "  Downloading gensim-0.10.0-py2.py3-none-any.whl (2.1MB):  82%  1.7MB\r",
        "  Downloading gensim-0.10.0-py2.py3-none-any.whl (2.1MB):  82%  1.7MB\r",
        "  Downloading gensim-0.10.0-py2.py3-none-any.whl (2.1MB):  82%  1.7MB\r",
        "  Downloading gensim-0.10.0-py2.py3-none-any.whl (2.1MB):  83%  1.7MB\r",
        "  Downloading gensim-0.10.0-py2.py3-none-any.whl (2.1MB):  83%  1.7MB\r",
        "  Downloading gensim-0.10.0-py2.py3-none-any.whl (2.1MB):  83%  1.7MB\r",
        "  Downloading gensim-0.10.0-py2.py3-none-any.whl (2.1MB):  83%  1.7MB\r",
        "  Downloading gensim-0.10.0-py2.py3-none-any.whl (2.1MB):  83%  1.7MB\r",
        "  Downloading gensim-0.10.0-py2.py3-none-any.whl (2.1MB):  84%  1.8MB\r",
        "  Downloading gensim-0.10.0-py2.py3-none-any.whl (2.1MB):  84%  1.8MB\r",
        "  Downloading gensim-0.10.0-py2.py3-none-any.whl (2.1MB):  84%  1.8MB\r",
        "  Downloading gensim-0.10.0-py2.py3-none-any.whl (2.1MB):  84%  1.8MB\r",
        "  Downloading gensim-0.10.0-py2.py3-none-any.whl (2.1MB):  84%  1.8MB\r",
        "  Downloading gensim-0.10.0-py2.py3-none-any.whl (2.1MB):  85%  1.8MB\r",
        "  Downloading gensim-0.10.0-py2.py3-none-any.whl (2.1MB):  85%  1.8MB\r",
        "  Downloading gensim-0.10.0-py2.py3-none-any.whl (2.1MB):  85%  1.8MB\r",
        "  Downloading gensim-0.10.0-py2.py3-none-any.whl (2.1MB):  85%  1.8MB\r",
        "  Downloading gensim-0.10.0-py2.py3-none-any.whl (2.1MB):  85%  1.8MB\r",
        "  Downloading gensim-0.10.0-py2.py3-none-any.whl (2.1MB):  86%  1.8MB\r",
        "  Downloading gensim-0.10.0-py2.py3-none-any.whl (2.1MB):  86%  1.8MB\r",
        "  Downloading gensim-0.10.0-py2.py3-none-any.whl (2.1MB):  86%  1.8MB\r",
        "  Downloading gensim-0.10.0-py2.py3-none-any.whl (2.1MB):  86%  1.8MB\r",
        "  Downloading gensim-0.10.0-py2.py3-none-any.whl (2.1MB):  86%  1.8MB\r",
        "  Downloading gensim-0.10.0-py2.py3-none-any.whl (2.1MB):  87%  1.8MB\r",
        "  Downloading gensim-0.10.0-py2.py3-none-any.whl (2.1MB):  87%  1.8MB\r",
        "  Downloading gensim-0.10.0-py2.py3-none-any.whl (2.1MB):  87%  1.8MB\r",
        "  Downloading gensim-0.10.0-py2.py3-none-any.whl (2.1MB):  87%  1.8MB\r",
        "  Downloading gensim-0.10.0-py2.py3-none-any.whl (2.1MB):  87%  1.8MB\r",
        "  Downloading gensim-0.10.0-py2.py3-none-any.whl (2.1MB):  88%  1.8MB\r",
        "  Downloading gensim-0.10.0-py2.py3-none-any.whl (2.1MB):  88%  1.8MB\r",
        "  Downloading gensim-0.10.0-py2.py3-none-any.whl (2.1MB):  88%  1.8MB\r",
        "  Downloading gensim-0.10.0-py2.py3-none-any.whl (2.1MB):  88%  1.8MB\r",
        "  Downloading gensim-0.10.0-py2.py3-none-any.whl (2.1MB):  88%  1.9MB\r",
        "  Downloading gensim-0.10.0-py2.py3-none-any.whl (2.1MB):  89%  1.9MB\r",
        "  Downloading gensim-0.10.0-py2.py3-none-any.whl (2.1MB):  89%  1.9MB\r",
        "  Downloading gensim-0.10.0-py2.py3-none-any.whl (2.1MB):  89%  1.9MB\r",
        "  Downloading gensim-0.10.0-py2.py3-none-any.whl (2.1MB):  89%  1.9MB\r",
        "  Downloading gensim-0.10.0-py2.py3-none-any.whl (2.1MB):  89%  1.9MB\r",
        "  Downloading gensim-0.10.0-py2.py3-none-any.whl (2.1MB):  90%  1.9MB\r",
        "  Downloading gensim-0.10.0-py2.py3-none-any.whl (2.1MB):  90%  1.9MB\r",
        "  Downloading gensim-0.10.0-py2.py3-none-any.whl (2.1MB):  90%  1.9MB\r",
        "  Downloading gensim-0.10.0-py2.py3-none-any.whl (2.1MB):  90%  1.9MB\r",
        "  Downloading gensim-0.10.0-py2.py3-none-any.whl (2.1MB):  90%  1.9MB\r",
        "  Downloading gensim-0.10.0-py2.py3-none-any.whl (2.1MB):  91%  1.9MB\r",
        "  Downloading gensim-0.10.0-py2.py3-none-any.whl (2.1MB):  91%  1.9MB\r",
        "  Downloading gensim-0.10.0-py2.py3-none-any.whl (2.1MB):  91%  1.9MB\r",
        "  Downloading gensim-0.10.0-py2.py3-none-any.whl (2.1MB):  91%  1.9MB\r",
        "  Downloading gensim-0.10.0-py2.py3-none-any.whl (2.1MB):  91%  1.9MB\r",
        "  Downloading gensim-0.10.0-py2.py3-none-any.whl (2.1MB):  92%  1.9MB\r",
        "  Downloading gensim-0.10.0-py2.py3-none-any.whl (2.1MB):  92%  1.9MB\r",
        "  Downloading gensim-0.10.0-py2.py3-none-any.whl (2.1MB):  92%  1.9MB\r",
        "  Downloading gensim-0.10.0-py2.py3-none-any.whl (2.1MB):  92%  1.9MB\r",
        "  Downloading gensim-0.10.0-py2.py3-none-any.whl (2.1MB):  92%  1.9MB\r",
        "  Downloading gensim-0.10.0-py2.py3-none-any.whl (2.1MB):  92%  1.9MB\r",
        "  Downloading gensim-0.10.0-py2.py3-none-any.whl (2.1MB):  93%  1.9MB\r",
        "  Downloading gensim-0.10.0-py2.py3-none-any.whl (2.1MB):  93%  1.9MB\r",
        "  Downloading gensim-0.10.0-py2.py3-none-any.whl (2.1MB):  93%  1.9MB\r",
        "  Downloading gensim-0.10.0-py2.py3-none-any.whl (2.1MB):  93%  2.0MB\r",
        "  Downloading gensim-0.10.0-py2.py3-none-any.whl (2.1MB):  93%  2.0MB\r",
        "  Downloading gensim-0.10.0-py2.py3-none-any.whl (2.1MB):  94%  2.0MB\r",
        "  Downloading gensim-0.10.0-py2.py3-none-any.whl (2.1MB):  94%  2.0MB\r",
        "  Downloading gensim-0.10.0-py2.py3-none-any.whl (2.1MB):  94%  2.0MB\r",
        "  Downloading gensim-0.10.0-py2.py3-none-any.whl (2.1MB):  94%  2.0MB\r",
        "  Downloading gensim-0.10.0-py2.py3-none-any.whl (2.1MB):  94%  2.0MB\r",
        "  Downloading gensim-0.10.0-py2.py3-none-any.whl (2.1MB):  95%  2.0MB\r",
        "  Downloading gensim-0.10.0-py2.py3-none-any.whl (2.1MB):  95%  2.0MB\r",
        "  Downloading gensim-0.10.0-py2.py3-none-any.whl (2.1MB):  95%  2.0MB\r",
        "  Downloading gensim-0.10.0-py2.py3-none-any.whl (2.1MB):  95%  2.0MB\r",
        "  Downloading gensim-0.10.0-py2.py3-none-any.whl (2.1MB):  95%  2.0MB\r",
        "  Downloading gensim-0.10.0-py2.py3-none-any.whl (2.1MB):  96%  2.0MB\r",
        "  Downloading gensim-0.10.0-py2.py3-none-any.whl (2.1MB):  96%  2.0MB\r",
        "  Downloading gensim-0.10.0-py2.py3-none-any.whl (2.1MB):  96%  2.0MB\r",
        "  Downloading gensim-0.10.0-py2.py3-none-any.whl (2.1MB):  96%  2.0MB\r",
        "  Downloading gensim-0.10.0-py2.py3-none-any.whl (2.1MB):  96%  2.0MB\r",
        "  Downloading gensim-0.10.0-py2.py3-none-any.whl (2.1MB):  97%  2.0MB\r",
        "  Downloading gensim-0.10.0-py2.py3-none-any.whl (2.1MB):  97%  2.0MB\r",
        "  Downloading gensim-0.10.0-py2.py3-none-any.whl (2.1MB):  97%  2.0MB\r",
        "  Downloading gensim-0.10.0-py2.py3-none-any.whl (2.1MB):  97%  2.0MB\r",
        "  Downloading gensim-0.10.0-py2.py3-none-any.whl (2.1MB):  97%  2.0MB\r",
        "  Downloading gensim-0.10.0-py2.py3-none-any.whl (2.1MB):  98%  2.0MB\r",
        "  Downloading gensim-0.10.0-py2.py3-none-any.whl (2.1MB):  98%  2.0MB\r",
        "  Downloading gensim-0.10.0-py2.py3-none-any.whl (2.1MB):  98%  2.1MB\r",
        "  Downloading gensim-0.10.0-py2.py3-none-any.whl (2.1MB):  98%  2.1MB\r",
        "  Downloading gensim-0.10.0-py2.py3-none-any.whl (2.1MB):  98%  2.1MB\r",
        "  Downloading gensim-0.10.0-py2.py3-none-any.whl (2.1MB):  99%  2.1MB\r",
        "  Downloading gensim-0.10.0-py2.py3-none-any.whl (2.1MB):  99%  2.1MB\r",
        "  Downloading gensim-0.10.0-py2.py3-none-any.whl (2.1MB):  99%  2.1MB\r",
        "  Downloading gensim-0.10.0-py2.py3-none-any.whl (2.1MB):  99%  2.1MB\r",
        "  Downloading gensim-0.10.0-py2.py3-none-any.whl (2.1MB):  99%  2.1MB\r",
        "  Downloading gensim-0.10.0-py2.py3-none-any.whl (2.1MB): 100%  2.1MB"
       ]
      },
      {
       "output_type": "stream",
       "stream": "stdout",
       "text": [
        "\r",
        "  Downloading gensim-0.10.0-py2.py3-none-any.whl (2.1MB):            \r",
        "  Downloading gensim-0.10.0-py2.py3-none-any.whl (2.1MB): 2.1MB downloaded\r\n"
       ]
      },
      {
       "output_type": "stream",
       "stream": "stdout",
       "text": [
        "Downloading/unpacking six>=1.2.0 from https://pypi.python.org/packages/py2.py3/s/six/six-1.7.2-py2.py3-none-any.whl#md5=0e10f8d8e65257408e4428632859dad9 (from gensim)\r\n"
       ]
      },
      {
       "output_type": "stream",
       "stream": "stdout",
       "text": [
        "  Downloading six-1.7.2-py2.py3-none-any.whl\r\n"
       ]
      },
      {
       "output_type": "stream",
       "stream": "stdout",
       "text": [
        "Requirement already up-to-date: scipy>=0.7.0 in /Users/pagrawal/anaconda/lib/python2.7/site-packages (from gensim)\r\n",
        "Installing collected packages: gensim, six\r\n"
       ]
      },
      {
       "output_type": "stream",
       "stream": "stdout",
       "text": [
        "  Found existing installation: six 1.6.1\r\n",
        "    Uninstalling six:\r\n",
        "      Successfully uninstalled six\r\n",
        "Successfully installed gensim six\r\n",
        "Cleaning up...\r\n"
       ]
      },
      {
       "output_type": "stream",
       "stream": "stdout",
       "text": [
        "Downloading/unpacking cython from https://pypi.python.org/packages/source/C/Cython/Cython-0.20.2.tar.gz#md5=7fc13e1c665bdf7cea19ad08906af91f\r\n"
       ]
      },
      {
       "output_type": "stream",
       "stream": "stdout",
       "text": [
        "  Downloading Cython-0.20.2.tar.gz (1.4MB): \r",
        "  Downloading Cython-0.20.2.tar.gz (1.4MB):   0%  4.1kB\r",
        "  Downloading Cython-0.20.2.tar.gz (1.4MB):   0%  8.2kB\r",
        "  Downloading Cython-0.20.2.tar.gz (1.4MB):   0%  12kB \r",
        "  Downloading Cython-0.20.2.tar.gz (1.4MB):   1%  16kB\r",
        "  Downloading Cython-0.20.2.tar.gz (1.4MB):   1%  20kB\r",
        "  Downloading Cython-0.20.2.tar.gz (1.4MB):   1%  24kB\r",
        "  Downloading Cython-0.20.2.tar.gz (1.4MB):   2%  28kB\r",
        "  Downloading Cython-0.20.2.tar.gz (1.4MB):   2%  32kB"
       ]
      },
      {
       "output_type": "stream",
       "stream": "stdout",
       "text": [
        "\r",
        "  Downloading Cython-0.20.2.tar.gz (1.4MB):   2%  36kB\r",
        "  Downloading Cython-0.20.2.tar.gz (1.4MB):   2%  40kB\r",
        "  Downloading Cython-0.20.2.tar.gz (1.4MB):   3%  45kB\r",
        "  Downloading Cython-0.20.2.tar.gz (1.4MB):   3%  49kB\r",
        "  Downloading Cython-0.20.2.tar.gz (1.4MB):   3%  53kB\r",
        "  Downloading Cython-0.20.2.tar.gz (1.4MB):   4%  57kB\r",
        "  Downloading Cython-0.20.2.tar.gz (1.4MB):   4%  61kB\r",
        "  Downloading Cython-0.20.2.tar.gz (1.4MB):   4%  65kB\r",
        "  Downloading Cython-0.20.2.tar.gz (1.4MB):   4%  69kB\r",
        "  Downloading Cython-0.20.2.tar.gz (1.4MB):   5%  73kB\r",
        "  Downloading Cython-0.20.2.tar.gz (1.4MB):   5%  77kB\r",
        "  Downloading Cython-0.20.2.tar.gz (1.4MB):   5%  81kB\r",
        "  Downloading Cython-0.20.2.tar.gz (1.4MB):   6%  86kB\r",
        "  Downloading Cython-0.20.2.tar.gz (1.4MB):   6%  90kB\r",
        "  Downloading Cython-0.20.2.tar.gz (1.4MB):   6%  94kB\r",
        "  Downloading Cython-0.20.2.tar.gz (1.4MB):   6%  98kB\r",
        "  Downloading Cython-0.20.2.tar.gz (1.4MB):   7%  102kB"
       ]
      },
      {
       "output_type": "stream",
       "stream": "stdout",
       "text": [
        "\r",
        "  Downloading Cython-0.20.2.tar.gz (1.4MB):   7%  106kB\r",
        "  Downloading Cython-0.20.2.tar.gz (1.4MB):   7%  110kB\r",
        "  Downloading Cython-0.20.2.tar.gz (1.4MB):   8%  114kB\r",
        "  Downloading Cython-0.20.2.tar.gz (1.4MB):   8%  118kB\r",
        "  Downloading Cython-0.20.2.tar.gz (1.4MB):   8%  122kB\r",
        "  Downloading Cython-0.20.2.tar.gz (1.4MB):   8%  126kB\r",
        "  Downloading Cython-0.20.2.tar.gz (1.4MB):   9%  131kB\r",
        "  Downloading Cython-0.20.2.tar.gz (1.4MB):   9%  135kB\r",
        "  Downloading Cython-0.20.2.tar.gz (1.4MB):   9%  139kB\r",
        "  Downloading Cython-0.20.2.tar.gz (1.4MB):  10%  143kB\r",
        "  Downloading Cython-0.20.2.tar.gz (1.4MB):  10%  147kB\r",
        "  Downloading Cython-0.20.2.tar.gz (1.4MB):  10%  151kB\r",
        "  Downloading Cython-0.20.2.tar.gz (1.4MB):  10%  155kB\r",
        "  Downloading Cython-0.20.2.tar.gz (1.4MB):  11%  159kB\r",
        "  Downloading Cython-0.20.2.tar.gz (1.4MB):  11%  163kB\r",
        "  Downloading Cython-0.20.2.tar.gz (1.4MB):  11%  167kB\r",
        "  Downloading Cython-0.20.2.tar.gz (1.4MB):  12%  172kB\r",
        "  Downloading Cython-0.20.2.tar.gz (1.4MB):  12%  176kB\r",
        "  Downloading Cython-0.20.2.tar.gz (1.4MB):  12%  180kB\r",
        "  Downloading Cython-0.20.2.tar.gz (1.4MB):  12%  184kB\r",
        "  Downloading Cython-0.20.2.tar.gz (1.4MB):  13%  188kB\r",
        "  Downloading Cython-0.20.2.tar.gz (1.4MB):  13%  192kB\r",
        "  Downloading Cython-0.20.2.tar.gz (1.4MB):  13%  196kB\r",
        "  Downloading Cython-0.20.2.tar.gz (1.4MB):  14%  200kB\r",
        "  Downloading Cython-0.20.2.tar.gz (1.4MB):  14%  204kB\r",
        "  Downloading Cython-0.20.2.tar.gz (1.4MB):  14%  208kB"
       ]
      },
      {
       "output_type": "stream",
       "stream": "stdout",
       "text": [
        "\r",
        "  Downloading Cython-0.20.2.tar.gz (1.4MB):  14%  212kB\r",
        "  Downloading Cython-0.20.2.tar.gz (1.4MB):  15%  217kB\r",
        "  Downloading Cython-0.20.2.tar.gz (1.4MB):  15%  221kB\r",
        "  Downloading Cython-0.20.2.tar.gz (1.4MB):  15%  225kB\r",
        "  Downloading Cython-0.20.2.tar.gz (1.4MB):  16%  229kB\r",
        "  Downloading Cython-0.20.2.tar.gz (1.4MB):  16%  233kB\r",
        "  Downloading Cython-0.20.2.tar.gz (1.4MB):  16%  237kB\r",
        "  Downloading Cython-0.20.2.tar.gz (1.4MB):  16%  241kB\r",
        "  Downloading Cython-0.20.2.tar.gz (1.4MB):  17%  245kB\r",
        "  Downloading Cython-0.20.2.tar.gz (1.4MB):  17%  249kB\r",
        "  Downloading Cython-0.20.2.tar.gz (1.4MB):  17%  253kB\r",
        "  Downloading Cython-0.20.2.tar.gz (1.4MB):  18%  258kB\r",
        "  Downloading Cython-0.20.2.tar.gz (1.4MB):  18%  262kB\r",
        "  Downloading Cython-0.20.2.tar.gz (1.4MB):  18%  266kB\r",
        "  Downloading Cython-0.20.2.tar.gz (1.4MB):  18%  270kB\r",
        "  Downloading Cython-0.20.2.tar.gz (1.4MB):  19%  274kB\r",
        "  Downloading Cython-0.20.2.tar.gz (1.4MB):  19%  278kB\r",
        "  Downloading Cython-0.20.2.tar.gz (1.4MB):  19%  282kB\r",
        "  Downloading Cython-0.20.2.tar.gz (1.4MB):  20%  286kB\r",
        "  Downloading Cython-0.20.2.tar.gz (1.4MB):  20%  290kB\r",
        "  Downloading Cython-0.20.2.tar.gz (1.4MB):  20%  294kB\r",
        "  Downloading Cython-0.20.2.tar.gz (1.4MB):  20%  299kB\r",
        "  Downloading Cython-0.20.2.tar.gz (1.4MB):  21%  303kB\r",
        "  Downloading Cython-0.20.2.tar.gz (1.4MB):  21%  307kB\r",
        "  Downloading Cython-0.20.2.tar.gz (1.4MB):  21%  311kB\r",
        "  Downloading Cython-0.20.2.tar.gz (1.4MB):  22%  315kB\r",
        "  Downloading Cython-0.20.2.tar.gz (1.4MB):  22%  319kB\r",
        "  Downloading Cython-0.20.2.tar.gz (1.4MB):  22%  323kB\r",
        "  Downloading Cython-0.20.2.tar.gz (1.4MB):  22%  327kB\r",
        "  Downloading Cython-0.20.2.tar.gz (1.4MB):  23%  331kB\r",
        "  Downloading Cython-0.20.2.tar.gz (1.4MB):  23%  335kB\r",
        "  Downloading Cython-0.20.2.tar.gz (1.4MB):  23%  339kB\r",
        "  Downloading Cython-0.20.2.tar.gz (1.4MB):  24%  344kB\r",
        "  Downloading Cython-0.20.2.tar.gz (1.4MB):  24%  348kB\r",
        "  Downloading Cython-0.20.2.tar.gz (1.4MB):  24%  352kB\r",
        "  Downloading Cython-0.20.2.tar.gz (1.4MB):  24%  356kB\r",
        "  Downloading Cython-0.20.2.tar.gz (1.4MB):  25%  360kB\r",
        "  Downloading Cython-0.20.2.tar.gz (1.4MB):  25%  364kB\r",
        "  Downloading Cython-0.20.2.tar.gz (1.4MB):  25%  368kB\r",
        "  Downloading Cython-0.20.2.tar.gz (1.4MB):  26%  372kB\r",
        "  Downloading Cython-0.20.2.tar.gz (1.4MB):  26%  376kB\r",
        "  Downloading Cython-0.20.2.tar.gz (1.4MB):  26%  380kB\r",
        "  Downloading Cython-0.20.2.tar.gz (1.4MB):  26%  385kB\r",
        "  Downloading Cython-0.20.2.tar.gz (1.4MB):  27%  389kB\r",
        "  Downloading Cython-0.20.2.tar.gz (1.4MB):  27%  393kB\r",
        "  Downloading Cython-0.20.2.tar.gz (1.4MB):  27%  397kB\r",
        "  Downloading Cython-0.20.2.tar.gz (1.4MB):  28%  401kB\r",
        "  Downloading Cython-0.20.2.tar.gz (1.4MB):  28%  405kB\r",
        "  Downloading Cython-0.20.2.tar.gz (1.4MB):  28%  409kB\r",
        "  Downloading Cython-0.20.2.tar.gz (1.4MB):  28%  413kB\r",
        "  Downloading Cython-0.20.2.tar.gz (1.4MB):  29%  417kB\r",
        "  Downloading Cython-0.20.2.tar.gz (1.4MB):  29%  421kB\r",
        "  Downloading Cython-0.20.2.tar.gz (1.4MB):  29%  425kB\r",
        "  Downloading Cython-0.20.2.tar.gz (1.4MB):  30%  430kB\r",
        "  Downloading Cython-0.20.2.tar.gz (1.4MB):  30%  434kB\r",
        "  Downloading Cython-0.20.2.tar.gz (1.4MB):  30%  438kB\r",
        "  Downloading Cython-0.20.2.tar.gz (1.4MB):  30%  442kB\r",
        "  Downloading Cython-0.20.2.tar.gz (1.4MB):  31%  446kB\r",
        "  Downloading Cython-0.20.2.tar.gz (1.4MB):  31%  450kB\r",
        "  Downloading Cython-0.20.2.tar.gz (1.4MB):  31%  454kB\r",
        "  Downloading Cython-0.20.2.tar.gz (1.4MB):  32%  458kB\r",
        "  Downloading Cython-0.20.2.tar.gz (1.4MB):  32%  462kB\r",
        "  Downloading Cython-0.20.2.tar.gz (1.4MB):  32%  466kB\r",
        "  Downloading Cython-0.20.2.tar.gz (1.4MB):  32%  471kB\r",
        "  Downloading Cython-0.20.2.tar.gz (1.4MB):  33%  475kB\r",
        "  Downloading Cython-0.20.2.tar.gz (1.4MB):  33%  479kB"
       ]
      },
      {
       "output_type": "stream",
       "stream": "stdout",
       "text": [
        "\r",
        "  Downloading Cython-0.20.2.tar.gz (1.4MB):  33%  483kB\r",
        "  Downloading Cython-0.20.2.tar.gz (1.4MB):  34%  487kB\r",
        "  Downloading Cython-0.20.2.tar.gz (1.4MB):  34%  491kB\r",
        "  Downloading Cython-0.20.2.tar.gz (1.4MB):  34%  495kB\r",
        "  Downloading Cython-0.20.2.tar.gz (1.4MB):  34%  499kB\r",
        "  Downloading Cython-0.20.2.tar.gz (1.4MB):  35%  503kB\r",
        "  Downloading Cython-0.20.2.tar.gz (1.4MB):  35%  507kB\r",
        "  Downloading Cython-0.20.2.tar.gz (1.4MB):  35%  512kB\r",
        "  Downloading Cython-0.20.2.tar.gz (1.4MB):  36%  516kB\r",
        "  Downloading Cython-0.20.2.tar.gz (1.4MB):  36%  520kB\r",
        "  Downloading Cython-0.20.2.tar.gz (1.4MB):  36%  524kB\r",
        "  Downloading Cython-0.20.2.tar.gz (1.4MB):  36%  528kB\r",
        "  Downloading Cython-0.20.2.tar.gz (1.4MB):  37%  532kB\r",
        "  Downloading Cython-0.20.2.tar.gz (1.4MB):  37%  536kB\r",
        "  Downloading Cython-0.20.2.tar.gz (1.4MB):  37%  540kB\r",
        "  Downloading Cython-0.20.2.tar.gz (1.4MB):  38%  544kB\r",
        "  Downloading Cython-0.20.2.tar.gz (1.4MB):  38%  548kB\r",
        "  Downloading Cython-0.20.2.tar.gz (1.4MB):  38%  552kB\r",
        "  Downloading Cython-0.20.2.tar.gz (1.4MB):  38%  557kB\r",
        "  Downloading Cython-0.20.2.tar.gz (1.4MB):  39%  561kB\r",
        "  Downloading Cython-0.20.2.tar.gz (1.4MB):  39%  565kB\r",
        "  Downloading Cython-0.20.2.tar.gz (1.4MB):  39%  569kB\r",
        "  Downloading Cython-0.20.2.tar.gz (1.4MB):  40%  573kB\r",
        "  Downloading Cython-0.20.2.tar.gz (1.4MB):  40%  577kB\r",
        "  Downloading Cython-0.20.2.tar.gz (1.4MB):  40%  581kB\r",
        "  Downloading Cython-0.20.2.tar.gz (1.4MB):  40%  585kB\r",
        "  Downloading Cython-0.20.2.tar.gz (1.4MB):  41%  589kB\r",
        "  Downloading Cython-0.20.2.tar.gz (1.4MB):  41%  593kB\r",
        "  Downloading Cython-0.20.2.tar.gz (1.4MB):  41%  598kB\r",
        "  Downloading Cython-0.20.2.tar.gz (1.4MB):  42%  602kB\r",
        "  Downloading Cython-0.20.2.tar.gz (1.4MB):  42%  606kB\r",
        "  Downloading Cython-0.20.2.tar.gz (1.4MB):  42%  610kB\r",
        "  Downloading Cython-0.20.2.tar.gz (1.4MB):  42%  614kB\r",
        "  Downloading Cython-0.20.2.tar.gz (1.4MB):  43%  618kB\r",
        "  Downloading Cython-0.20.2.tar.gz (1.4MB):  43%  622kB\r",
        "  Downloading Cython-0.20.2.tar.gz (1.4MB):  43%  626kB\r",
        "  Downloading Cython-0.20.2.tar.gz (1.4MB):  44%  630kB\r",
        "  Downloading Cython-0.20.2.tar.gz (1.4MB):  44%  634kB\r",
        "  Downloading Cython-0.20.2.tar.gz (1.4MB):  44%  638kB\r",
        "  Downloading Cython-0.20.2.tar.gz (1.4MB):  44%  643kB\r",
        "  Downloading Cython-0.20.2.tar.gz (1.4MB):  45%  647kB\r",
        "  Downloading Cython-0.20.2.tar.gz (1.4MB):  45%  651kB\r",
        "  Downloading Cython-0.20.2.tar.gz (1.4MB):  45%  655kB\r",
        "  Downloading Cython-0.20.2.tar.gz (1.4MB):  46%  659kB\r",
        "  Downloading Cython-0.20.2.tar.gz (1.4MB):  46%  663kB\r",
        "  Downloading Cython-0.20.2.tar.gz (1.4MB):  46%  667kB\r",
        "  Downloading Cython-0.20.2.tar.gz (1.4MB):  46%  671kB\r",
        "  Downloading Cython-0.20.2.tar.gz (1.4MB):  47%  675kB\r",
        "  Downloading Cython-0.20.2.tar.gz (1.4MB):  47%  679kB\r",
        "  Downloading Cython-0.20.2.tar.gz (1.4MB):  47%  684kB\r",
        "  Downloading Cython-0.20.2.tar.gz (1.4MB):  48%  688kB\r",
        "  Downloading Cython-0.20.2.tar.gz (1.4MB):  48%  692kB\r",
        "  Downloading Cython-0.20.2.tar.gz (1.4MB):  48%  696kB\r",
        "  Downloading Cython-0.20.2.tar.gz (1.4MB):  48%  700kB\r",
        "  Downloading Cython-0.20.2.tar.gz (1.4MB):  49%  704kB\r",
        "  Downloading Cython-0.20.2.tar.gz (1.4MB):  49%  708kB\r",
        "  Downloading Cython-0.20.2.tar.gz (1.4MB):  49%  712kB\r",
        "  Downloading Cython-0.20.2.tar.gz (1.4MB):  50%  716kB\r",
        "  Downloading Cython-0.20.2.tar.gz (1.4MB):  50%  720kB\r",
        "  Downloading Cython-0.20.2.tar.gz (1.4MB):  50%  724kB\r",
        "  Downloading Cython-0.20.2.tar.gz (1.4MB):  50%  729kB\r",
        "  Downloading Cython-0.20.2.tar.gz (1.4MB):  51%  733kB\r",
        "  Downloading Cython-0.20.2.tar.gz (1.4MB):  51%  737kB\r",
        "  Downloading Cython-0.20.2.tar.gz (1.4MB):  51%  741kB\r",
        "  Downloading Cython-0.20.2.tar.gz (1.4MB):  52%  745kB\r",
        "  Downloading Cython-0.20.2.tar.gz (1.4MB):  52%  749kB\r",
        "  Downloading Cython-0.20.2.tar.gz (1.4MB):  52%  753kB\r",
        "  Downloading Cython-0.20.2.tar.gz (1.4MB):  52%  757kB\r",
        "  Downloading Cython-0.20.2.tar.gz (1.4MB):  53%  761kB\r",
        "  Downloading Cython-0.20.2.tar.gz (1.4MB):  53%  765kB\r",
        "  Downloading Cython-0.20.2.tar.gz (1.4MB):  53%  770kB\r",
        "  Downloading Cython-0.20.2.tar.gz (1.4MB):  54%  774kB\r",
        "  Downloading Cython-0.20.2.tar.gz (1.4MB):  54%  778kB\r",
        "  Downloading Cython-0.20.2.tar.gz (1.4MB):  54%  782kB\r",
        "  Downloading Cython-0.20.2.tar.gz (1.4MB):  54%  786kB\r",
        "  Downloading Cython-0.20.2.tar.gz (1.4MB):  55%  790kB"
       ]
      },
      {
       "output_type": "stream",
       "stream": "stdout",
       "text": [
        "\r",
        "  Downloading Cython-0.20.2.tar.gz (1.4MB):  55%  794kB\r",
        "  Downloading Cython-0.20.2.tar.gz (1.4MB):  55%  798kB\r",
        "  Downloading Cython-0.20.2.tar.gz (1.4MB):  56%  802kB\r",
        "  Downloading Cython-0.20.2.tar.gz (1.4MB):  56%  806kB\r",
        "  Downloading Cython-0.20.2.tar.gz (1.4MB):  56%  811kB\r",
        "  Downloading Cython-0.20.2.tar.gz (1.4MB):  56%  815kB\r",
        "  Downloading Cython-0.20.2.tar.gz (1.4MB):  57%  819kB\r",
        "  Downloading Cython-0.20.2.tar.gz (1.4MB):  57%  823kB\r",
        "  Downloading Cython-0.20.2.tar.gz (1.4MB):  57%  827kB\r",
        "  Downloading Cython-0.20.2.tar.gz (1.4MB):  58%  831kB\r",
        "  Downloading Cython-0.20.2.tar.gz (1.4MB):  58%  835kB\r",
        "  Downloading Cython-0.20.2.tar.gz (1.4MB):  58%  839kB\r",
        "  Downloading Cython-0.20.2.tar.gz (1.4MB):  58%  843kB\r",
        "  Downloading Cython-0.20.2.tar.gz (1.4MB):  59%  847kB\r",
        "  Downloading Cython-0.20.2.tar.gz (1.4MB):  59%  851kB\r",
        "  Downloading Cython-0.20.2.tar.gz (1.4MB):  59%  856kB\r",
        "  Downloading Cython-0.20.2.tar.gz (1.4MB):  60%  860kB\r",
        "  Downloading Cython-0.20.2.tar.gz (1.4MB):  60%  864kB\r",
        "  Downloading Cython-0.20.2.tar.gz (1.4MB):  60%  868kB\r",
        "  Downloading Cython-0.20.2.tar.gz (1.4MB):  60%  872kB\r",
        "  Downloading Cython-0.20.2.tar.gz (1.4MB):  61%  876kB\r",
        "  Downloading Cython-0.20.2.tar.gz (1.4MB):  61%  880kB\r",
        "  Downloading Cython-0.20.2.tar.gz (1.4MB):  61%  884kB\r",
        "  Downloading Cython-0.20.2.tar.gz (1.4MB):  62%  888kB\r",
        "  Downloading Cython-0.20.2.tar.gz (1.4MB):  62%  892kB\r",
        "  Downloading Cython-0.20.2.tar.gz (1.4MB):  62%  897kB\r",
        "  Downloading Cython-0.20.2.tar.gz (1.4MB):  62%  901kB\r",
        "  Downloading Cython-0.20.2.tar.gz (1.4MB):  63%  905kB\r",
        "  Downloading Cython-0.20.2.tar.gz (1.4MB):  63%  909kB\r",
        "  Downloading Cython-0.20.2.tar.gz (1.4MB):  63%  913kB\r",
        "  Downloading Cython-0.20.2.tar.gz (1.4MB):  64%  917kB\r",
        "  Downloading Cython-0.20.2.tar.gz (1.4MB):  64%  921kB\r",
        "  Downloading Cython-0.20.2.tar.gz (1.4MB):  64%  925kB\r",
        "  Downloading Cython-0.20.2.tar.gz (1.4MB):  64%  929kB\r",
        "  Downloading Cython-0.20.2.tar.gz (1.4MB):  65%  933kB\r",
        "  Downloading Cython-0.20.2.tar.gz (1.4MB):  65%  937kB\r",
        "  Downloading Cython-0.20.2.tar.gz (1.4MB):  65%  942kB\r",
        "  Downloading Cython-0.20.2.tar.gz (1.4MB):  66%  946kB\r",
        "  Downloading Cython-0.20.2.tar.gz (1.4MB):  66%  950kB\r",
        "  Downloading Cython-0.20.2.tar.gz (1.4MB):  66%  954kB\r",
        "  Downloading Cython-0.20.2.tar.gz (1.4MB):  66%  958kB\r",
        "  Downloading Cython-0.20.2.tar.gz (1.4MB):  67%  962kB\r",
        "  Downloading Cython-0.20.2.tar.gz (1.4MB):  67%  966kB\r",
        "  Downloading Cython-0.20.2.tar.gz (1.4MB):  67%  970kB\r",
        "  Downloading Cython-0.20.2.tar.gz (1.4MB):  68%  974kB\r",
        "  Downloading Cython-0.20.2.tar.gz (1.4MB):  68%  978kB\r",
        "  Downloading Cython-0.20.2.tar.gz (1.4MB):  68%  983kB\r",
        "  Downloading Cython-0.20.2.tar.gz (1.4MB):  68%  987kB\r",
        "  Downloading Cython-0.20.2.tar.gz (1.4MB):  69%  991kB\r",
        "  Downloading Cython-0.20.2.tar.gz (1.4MB):  69%  995kB\r",
        "  Downloading Cython-0.20.2.tar.gz (1.4MB):  69%  999kB\r",
        "  Downloading Cython-0.20.2.tar.gz (1.4MB):  70%  1.0MB\r",
        "  Downloading Cython-0.20.2.tar.gz (1.4MB):  70%  1.0MB\r",
        "  Downloading Cython-0.20.2.tar.gz (1.4MB):  70%  1.0MB\r",
        "  Downloading Cython-0.20.2.tar.gz (1.4MB):  70%  1.0MB\r",
        "  Downloading Cython-0.20.2.tar.gz (1.4MB):  71%  1.0MB\r",
        "  Downloading Cython-0.20.2.tar.gz (1.4MB):  71%  1.0MB\r",
        "  Downloading Cython-0.20.2.tar.gz (1.4MB):  71%  1.0MB\r",
        "  Downloading Cython-0.20.2.tar.gz (1.4MB):  72%  1.0MB\r",
        "  Downloading Cython-0.20.2.tar.gz (1.4MB):  72%  1.0MB"
       ]
      },
      {
       "output_type": "stream",
       "stream": "stdout",
       "text": [
        "\r",
        "  Downloading Cython-0.20.2.tar.gz (1.4MB):  72%  1.0MB\r",
        "  Downloading Cython-0.20.2.tar.gz (1.4MB):  72%  1.0MB\r",
        "  Downloading Cython-0.20.2.tar.gz (1.4MB):  73%  1.0MB\r",
        "  Downloading Cython-0.20.2.tar.gz (1.4MB):  73%  1.1MB\r",
        "  Downloading Cython-0.20.2.tar.gz (1.4MB):  73%  1.1MB\r",
        "  Downloading Cython-0.20.2.tar.gz (1.4MB):  74%  1.1MB\r",
        "  Downloading Cython-0.20.2.tar.gz (1.4MB):  74%  1.1MB\r",
        "  Downloading Cython-0.20.2.tar.gz (1.4MB):  74%  1.1MB\r",
        "  Downloading Cython-0.20.2.tar.gz (1.4MB):  74%  1.1MB\r",
        "  Downloading Cython-0.20.2.tar.gz (1.4MB):  75%  1.1MB\r",
        "  Downloading Cython-0.20.2.tar.gz (1.4MB):  75%  1.1MB\r",
        "  Downloading Cython-0.20.2.tar.gz (1.4MB):  75%  1.1MB\r",
        "  Downloading Cython-0.20.2.tar.gz (1.4MB):  76%  1.1MB\r",
        "  Downloading Cython-0.20.2.tar.gz (1.4MB):  76%  1.1MB\r",
        "  Downloading Cython-0.20.2.tar.gz (1.4MB):  76%  1.1MB\r",
        "  Downloading Cython-0.20.2.tar.gz (1.4MB):  76%  1.1MB\r",
        "  Downloading Cython-0.20.2.tar.gz (1.4MB):  77%  1.1MB\r",
        "  Downloading Cython-0.20.2.tar.gz (1.4MB):  77%  1.1MB\r",
        "  Downloading Cython-0.20.2.tar.gz (1.4MB):  77%  1.1MB\r",
        "  Downloading Cython-0.20.2.tar.gz (1.4MB):  78%  1.1MB\r",
        "  Downloading Cython-0.20.2.tar.gz (1.4MB):  78%  1.1MB\r",
        "  Downloading Cython-0.20.2.tar.gz (1.4MB):  78%  1.1MB\r",
        "  Downloading Cython-0.20.2.tar.gz (1.4MB):  78%  1.1MB\r",
        "  Downloading Cython-0.20.2.tar.gz (1.4MB):  79%  1.1MB\r",
        "  Downloading Cython-0.20.2.tar.gz (1.4MB):  79%  1.1MB\r",
        "  Downloading Cython-0.20.2.tar.gz (1.4MB):  79%  1.1MB\r",
        "  Downloading Cython-0.20.2.tar.gz (1.4MB):  80%  1.1MB\r",
        "  Downloading Cython-0.20.2.tar.gz (1.4MB):  80%  1.2MB\r",
        "  Downloading Cython-0.20.2.tar.gz (1.4MB):  80%  1.2MB\r",
        "  Downloading Cython-0.20.2.tar.gz (1.4MB):  80%  1.2MB\r",
        "  Downloading Cython-0.20.2.tar.gz (1.4MB):  81%  1.2MB\r",
        "  Downloading Cython-0.20.2.tar.gz (1.4MB):  81%  1.2MB\r",
        "  Downloading Cython-0.20.2.tar.gz (1.4MB):  81%  1.2MB\r",
        "  Downloading Cython-0.20.2.tar.gz (1.4MB):  82%  1.2MB\r",
        "  Downloading Cython-0.20.2.tar.gz (1.4MB):  82%  1.2MB\r",
        "  Downloading Cython-0.20.2.tar.gz (1.4MB):  82%  1.2MB\r",
        "  Downloading Cython-0.20.2.tar.gz (1.4MB):  82%  1.2MB\r",
        "  Downloading Cython-0.20.2.tar.gz (1.4MB):  83%  1.2MB\r",
        "  Downloading Cython-0.20.2.tar.gz (1.4MB):  83%  1.2MB\r",
        "  Downloading Cython-0.20.2.tar.gz (1.4MB):  83%  1.2MB\r",
        "  Downloading Cython-0.20.2.tar.gz (1.4MB):  84%  1.2MB\r",
        "  Downloading Cython-0.20.2.tar.gz (1.4MB):  84%  1.2MB\r",
        "  Downloading Cython-0.20.2.tar.gz (1.4MB):  84%  1.2MB\r",
        "  Downloading Cython-0.20.2.tar.gz (1.4MB):  84%  1.2MB\r",
        "  Downloading Cython-0.20.2.tar.gz (1.4MB):  85%  1.2MB\r",
        "  Downloading Cython-0.20.2.tar.gz (1.4MB):  85%  1.2MB\r",
        "  Downloading Cython-0.20.2.tar.gz (1.4MB):  85%  1.2MB\r",
        "  Downloading Cython-0.20.2.tar.gz (1.4MB):  86%  1.2MB\r",
        "  Downloading Cython-0.20.2.tar.gz (1.4MB):  86%  1.2MB\r",
        "  Downloading Cython-0.20.2.tar.gz (1.4MB):  86%  1.2MB\r",
        "  Downloading Cython-0.20.2.tar.gz (1.4MB):  86%  1.2MB\r",
        "  Downloading Cython-0.20.2.tar.gz (1.4MB):  87%  1.2MB\r",
        "  Downloading Cython-0.20.2.tar.gz (1.4MB):  87%  1.3MB\r",
        "  Downloading Cython-0.20.2.tar.gz (1.4MB):  87%  1.3MB\r",
        "  Downloading Cython-0.20.2.tar.gz (1.4MB):  88%  1.3MB\r",
        "  Downloading Cython-0.20.2.tar.gz (1.4MB):  88%  1.3MB\r",
        "  Downloading Cython-0.20.2.tar.gz (1.4MB):  88%  1.3MB\r",
        "  Downloading Cython-0.20.2.tar.gz (1.4MB):  88%  1.3MB\r",
        "  Downloading Cython-0.20.2.tar.gz (1.4MB):  89%  1.3MB\r",
        "  Downloading Cython-0.20.2.tar.gz (1.4MB):  89%  1.3MB\r",
        "  Downloading Cython-0.20.2.tar.gz (1.4MB):  89%  1.3MB\r",
        "  Downloading Cython-0.20.2.tar.gz (1.4MB):  90%  1.3MB\r",
        "  Downloading Cython-0.20.2.tar.gz (1.4MB):  90%  1.3MB\r",
        "  Downloading Cython-0.20.2.tar.gz (1.4MB):  90%  1.3MB\r",
        "  Downloading Cython-0.20.2.tar.gz (1.4MB):  90%  1.3MB\r",
        "  Downloading Cython-0.20.2.tar.gz (1.4MB):  91%  1.3MB\r",
        "  Downloading Cython-0.20.2.tar.gz (1.4MB):  91%  1.3MB\r",
        "  Downloading Cython-0.20.2.tar.gz (1.4MB):  91%  1.3MB\r",
        "  Downloading Cython-0.20.2.tar.gz (1.4MB):  92%  1.3MB\r",
        "  Downloading Cython-0.20.2.tar.gz (1.4MB):  92%  1.3MB"
       ]
      },
      {
       "output_type": "stream",
       "stream": "stdout",
       "text": [
        "\r",
        "  Downloading Cython-0.20.2.tar.gz (1.4MB):  92%  1.3MB\r",
        "  Downloading Cython-0.20.2.tar.gz (1.4MB):  92%  1.3MB\r",
        "  Downloading Cython-0.20.2.tar.gz (1.4MB):  93%  1.3MB\r",
        "  Downloading Cython-0.20.2.tar.gz (1.4MB):  93%  1.3MB\r",
        "  Downloading Cython-0.20.2.tar.gz (1.4MB):  93%  1.3MB\r",
        "  Downloading Cython-0.20.2.tar.gz (1.4MB):  94%  1.3MB\r",
        "  Downloading Cython-0.20.2.tar.gz (1.4MB):  94%  1.4MB\r",
        "  Downloading Cython-0.20.2.tar.gz (1.4MB):  94%  1.4MB\r",
        "  Downloading Cython-0.20.2.tar.gz (1.4MB):  94%  1.4MB\r",
        "  Downloading Cython-0.20.2.tar.gz (1.4MB):  95%  1.4MB\r",
        "  Downloading Cython-0.20.2.tar.gz (1.4MB):  95%  1.4MB\r",
        "  Downloading Cython-0.20.2.tar.gz (1.4MB):  95%  1.4MB\r",
        "  Downloading Cython-0.20.2.tar.gz (1.4MB):  96%  1.4MB\r",
        "  Downloading Cython-0.20.2.tar.gz (1.4MB):  96%  1.4MB\r",
        "  Downloading Cython-0.20.2.tar.gz (1.4MB):  96%  1.4MB\r",
        "  Downloading Cython-0.20.2.tar.gz (1.4MB):  96%  1.4MB\r",
        "  Downloading Cython-0.20.2.tar.gz (1.4MB):  97%  1.4MB\r",
        "  Downloading Cython-0.20.2.tar.gz (1.4MB):  97%  1.4MB\r",
        "  Downloading Cython-0.20.2.tar.gz (1.4MB):  97%  1.4MB\r",
        "  Downloading Cython-0.20.2.tar.gz (1.4MB):  98%  1.4MB\r",
        "  Downloading Cython-0.20.2.tar.gz (1.4MB):  98%  1.4MB\r",
        "  Downloading Cython-0.20.2.tar.gz (1.4MB):  98%  1.4MB\r",
        "  Downloading Cython-0.20.2.tar.gz (1.4MB):  98%  1.4MB\r",
        "  Downloading Cython-0.20.2.tar.gz (1.4MB):  99%  1.4MB\r",
        "  Downloading Cython-0.20.2.tar.gz (1.4MB):  99%  1.4MB\r",
        "  Downloading Cython-0.20.2.tar.gz (1.4MB):  99%  1.4MB\r",
        "  Downloading Cython-0.20.2.tar.gz (1.4MB): 100%  1.4MB\r",
        "  Downloading Cython-0.20.2.tar.gz (1.4MB):            \r",
        "  Downloading Cython-0.20.2.tar.gz (1.4MB): 1.4MB downloaded\r\n"
       ]
      },
      {
       "output_type": "stream",
       "stream": "stdout",
       "text": [
        "  Running setup.py (path:/private/var/folders/zm/r274s_k96fq07q784lhm_f740000gp/T/pip_build_pagrawal/cython/setup.py) egg_info for package cython\r\n"
       ]
      },
      {
       "output_type": "stream",
       "stream": "stdout",
       "text": [
        "    Compiling module Cython.Plex.Scanners ...\r\n",
        "    Compiling module Cython.Plex.Actions ...\r\n",
        "    Compiling module Cython.Compiler.Lexicon ...\r\n",
        "    Compiling module Cython.Compiler.Scanning ...\r\n",
        "    Compiling module Cython.Compiler.Parsing ...\r\n",
        "    Compiling module Cython.Compiler.Visitor ...\r\n",
        "    Compiling module Cython.Compiler.FlowControl ...\r\n",
        "    Compiling module Cython.Compiler.Code ...\r\n",
        "    Compiling module Cython.Runtime.refnanny ...\r\n",
        "    Compiling module Cython.Tempita._tempita ...\r\n"
       ]
      },
      {
       "output_type": "stream",
       "stream": "stdout",
       "text": [
        "    \r\n"
       ]
      },
      {
       "output_type": "stream",
       "stream": "stdout",
       "text": [
        "    warning: no files found matching '*.pyx' under directory 'Cython/Debugger/Tests'\r\n",
        "    warning: no files found matching '*.pxd' under directory 'Cython/Debugger/Tests'\r\n",
        "    warning: no files found matching '*.h' under directory 'Cython/Debugger/Tests'\r\n",
        "    warning: no files found matching '*.pxd' under directory 'Cython/Utility'\r\n"
       ]
      },
      {
       "output_type": "stream",
       "stream": "stdout",
       "text": [
        "Installing collected packages: cython\r\n",
        "  Found existing installation: Cython 0.20.1\r\n",
        "    Uninstalling Cython:\r\n",
        "      Successfully uninstalled Cython\r\n",
        "  Running setup.py install for cython\r\n"
       ]
      },
      {
       "output_type": "stream",
       "stream": "stdout",
       "text": [
        "    building 'Cython.Plex.Scanners' extension\r\n",
        "    gcc -fno-strict-aliasing -I/Users/pagrawal/anaconda/include -arch x86_64 -DNDEBUG -g -fwrapv -O3 -Wall -Wstrict-prototypes -I/Users/pagrawal/anaconda/include/python2.7 -c /private/var/folders/zm/r274s_k96fq07q784lhm_f740000gp/T/pip_build_pagrawal/cython/Cython/Plex/Scanners.c -o build/temp.macosx-10.5-x86_64-2.7/private/var/folders/zm/r274s_k96fq07q784lhm_f740000gp/T/pip_build_pagrawal/cython/Cython/Plex/Scanners.o\r\n"
       ]
      },
      {
       "output_type": "stream",
       "stream": "stdout",
       "text": [
        "    /private/var/folders/zm/r274s_k96fq07q784lhm_f740000gp/T/pip_build_pagrawal/cython/Cython/Plex/Scanners.c:8146:28: warning: unused function '__Pyx_PyObject_AsString' [-Wunused-function]\r\n",
        "    static CYTHON_INLINE char* __Pyx_PyObject_AsString(PyObject* o) {\r\n",
        "                               ^\r\n",
        "    /private/var/folders/zm/r274s_k96fq07q784lhm_f740000gp/T/pip_build_pagrawal/cython/Cython/Plex/Scanners.c:8143:32: warning: unused function '__Pyx_PyUnicode_FromString' [-Wunused-function]\r\n",
        "    static CYTHON_INLINE PyObject* __Pyx_PyUnicode_FromString(const char* c_str) {\r\n",
        "                                   ^\r\n",
        "    /private/var/folders/zm/r274s_k96fq07q784lhm_f740000gp/T/pip_build_pagrawal/cython/Cython/Plex/Scanners.c:410:29: warning: unused function '__Pyx_Py_UNICODE_strlen' [-Wunused-function]\r\n",
        "    static CYTHON_INLINE size_t __Pyx_Py_UNICODE_strlen(const Py_UNICODE *u)\r\n",
        "                                ^\r\n",
        "    /private/var/folders/zm/r274s_k96fq07q784lhm_f740000gp/T/pip_build_pagrawal/cython/Cython/Plex/Scanners.c:8294:33: warning: unused function '__Pyx_PyInt_FromSize_t' [-Wunused-function]\r\n",
        "    static CYTHON_INLINE PyObject * __Pyx_PyInt_FromSize_t(size_t ival) {\r\n",
        "                                    ^\r\n",
        "    /private/var/folders/zm/r274s_k96fq07q784lhm_f740000gp/T/pip_build_pagrawal/cython/Cython/Plex/Scanners.c:6752:32: warning: unused function '__Pyx_GetItemInt_Tuple_Fast' [-Wunused-function]\r\n",
        "    static CYTHON_INLINE PyObject *__Pyx_GetItemInt_Tuple_Fast(PyObject *o, Py_ssize_t i,\r\n",
        "                                   ^\r\n",
        "    /private/var/folders/zm/r274s_k96fq07q784lhm_f740000gp/T/pip_build_pagrawal/cython/Cython/Plex/Scanners.c:6955:27: warning: unused function '__Pyx_ErrFetch' [-Wunused-function]\r\n",
        "    static CYTHON_INLINE void __Pyx_ErrFetch(PyObject **type, PyObject **value, PyObject **tb) {\r\n",
        "                              ^\r\n",
        "    /private/var/folders/zm/r274s_k96fq07q784lhm_f740000gp/T/pip_build_pagrawal/cython/Cython/Plex/Scanners.c:7752:27: warning: function '__Pyx_PyInt_As_long' is not needed and will not be emitted [-Wunneeded-internal-declaration]\r\n",
        "    static CYTHON_INLINE long __Pyx_PyInt_As_long(PyObject *x) {\r\n",
        "                              ^\r\n"
       ]
      },
      {
       "output_type": "stream",
       "stream": "stdout",
       "text": [
        "    7 warnings generated.\r\n",
        "    gcc -bundle -undefined dynamic_lookup -L/Users/pagrawal/anaconda/lib -arch x86_64 -arch x86_64 build/temp.macosx-10.5-x86_64-2.7/private/var/folders/zm/r274s_k96fq07q784lhm_f740000gp/T/pip_build_pagrawal/cython/Cython/Plex/Scanners.o -L/Users/pagrawal/anaconda/lib -o build/lib.macosx-10.5-x86_64-2.7/Cython/Plex/Scanners.so\r\n"
       ]
      },
      {
       "output_type": "stream",
       "stream": "stdout",
       "text": [
        "    building 'Cython.Plex.Actions' extension\r\n",
        "    gcc -fno-strict-aliasing -I/Users/pagrawal/anaconda/include -arch x86_64 -DNDEBUG -g -fwrapv -O3 -Wall -Wstrict-prototypes -I/Users/pagrawal/anaconda/include/python2.7 -c /private/var/folders/zm/r274s_k96fq07q784lhm_f740000gp/T/pip_build_pagrawal/cython/Cython/Plex/Actions.c -o build/temp.macosx-10.5-x86_64-2.7/private/var/folders/zm/r274s_k96fq07q784lhm_f740000gp/T/pip_build_pagrawal/cython/Cython/Plex/Actions.o\r\n"
       ]
      },
      {
       "output_type": "stream",
       "stream": "stdout",
       "text": [
        "    /private/var/folders/zm/r274s_k96fq07q784lhm_f740000gp/T/pip_build_pagrawal/cython/Cython/Plex/Actions.c:3733:28: warning: unused function '__Pyx_PyObject_AsString' [-Wunused-function]\r\n",
        "    static CYTHON_INLINE char* __Pyx_PyObject_AsString(PyObject* o) {\r\n",
        "                               ^\r\n",
        "    /private/var/folders/zm/r274s_k96fq07q784lhm_f740000gp/T/pip_build_pagrawal/cython/Cython/Plex/Actions.c:3730:32: warning: unused function '__Pyx_PyUnicode_FromString' [-Wunused-function]\r\n",
        "    static CYTHON_INLINE PyObject* __Pyx_PyUnicode_FromString(const char* c_str) {\r\n",
        "                                   ^\r\n",
        "    /private/var/folders/zm/r274s_k96fq07q784lhm_f740000gp/T/pip_build_pagrawal/cython/Cython/Plex/Actions.c:410:29: warning: unused function '__Pyx_Py_UNICODE_strlen' [-Wunused-function]\r\n",
        "    static CYTHON_INLINE size_t __Pyx_Py_UNICODE_strlen(const Py_UNICODE *u)\r\n",
        "                                ^\r\n",
        "    /private/var/folders/zm/r274s_k96fq07q784lhm_f740000gp/T/pip_build_pagrawal/cython/Cython/Plex/Actions.c:3852:33: warning: unused function '__Pyx_PyIndex_AsSsize_t' [-Wunused-function]\r\n",
        "    static CYTHON_INLINE Py_ssize_t __Pyx_PyIndex_AsSsize_t(PyObject* b) {\r\n",
        "                                    ^\r\n",
        "    /private/var/folders/zm/r274s_k96fq07q784lhm_f740000gp/T/pip_build_pagrawal/cython/Cython/Plex/Actions.c:3881:33: warning: unused function '__Pyx_PyInt_FromSize_t' [-Wunused-function]\r\n",
        "    static CYTHON_INLINE PyObject * __Pyx_PyInt_FromSize_t(size_t ival) {\r\n",
        "                                    ^\r\n",
        "    /private/var/folders/zm/r274s_k96fq07q784lhm_f740000gp/T/pip_build_pagrawal/cython/Cython/Plex/Actions.c:3277:32: warning: unused function '__Pyx_PyInt_From_long' [-Wunused-function]\r\n",
        "    static CYTHON_INLINE PyObject* __Pyx_PyInt_From_long(long value) {\r\n",
        "                                   ^\r\n",
        "    /private/var/folders/zm/r274s_k96fq07q784lhm_f740000gp/T/pip_build_pagrawal/cython/Cython/Plex/Actions.c:3324:27: warning: function '__Pyx_PyInt_As_long' is not needed and will not be emitted [-Wunneeded-internal-declaration]\r\n",
        "    static CYTHON_INLINE long __Pyx_PyInt_As_long(PyObject *x) {\r\n",
        "                              ^\r\n",
        "    /private/var/folders/zm/r274s_k96fq07q784lhm_f740000gp/T/pip_build_pagrawal/cython/Cython/Plex/Actions.c:3424:26: warning: function '__Pyx_PyInt_As_int' is not needed and will not be emitted [-Wunneeded-internal-declaration]\r\n",
        "    static CYTHON_INLINE int __Pyx_PyInt_As_int(PyObject *x) {\r\n",
        "                             ^\r\n"
       ]
      },
      {
       "output_type": "stream",
       "stream": "stdout",
       "text": [
        "    8 warnings generated.\r\n"
       ]
      },
      {
       "output_type": "stream",
       "stream": "stdout",
       "text": [
        "    gcc -bundle -undefined dynamic_lookup -L/Users/pagrawal/anaconda/lib -arch x86_64 -arch x86_64 build/temp.macosx-10.5-x86_64-2.7/private/var/folders/zm/r274s_k96fq07q784lhm_f740000gp/T/pip_build_pagrawal/cython/Cython/Plex/Actions.o -L/Users/pagrawal/anaconda/lib -o build/lib.macosx-10.5-x86_64-2.7/Cython/Plex/Actions.so\r\n",
        "    building 'Cython.Compiler.Lexicon' extension\r\n",
        "    gcc -fno-strict-aliasing -I/Users/pagrawal/anaconda/include -arch x86_64 -DNDEBUG -g -fwrapv -O3 -Wall -Wstrict-prototypes -I/Users/pagrawal/anaconda/include/python2.7 -c /private/var/folders/zm/r274s_k96fq07q784lhm_f740000gp/T/pip_build_pagrawal/cython/Cython/Compiler/Lexicon.c -o build/temp.macosx-10.5-x86_64-2.7/private/var/folders/zm/r274s_k96fq07q784lhm_f740000gp/T/pip_build_pagrawal/cython/Cython/Compiler/Lexicon.o\r\n"
       ]
      },
      {
       "output_type": "stream",
       "stream": "stdout",
       "text": [
        "    /private/var/folders/zm/r274s_k96fq07q784lhm_f740000gp/T/pip_build_pagrawal/cython/Cython/Compiler/Lexicon.c:5692:28: warning: unused function '__Pyx_PyObject_AsString' [-Wunused-function]\r\n",
        "    static CYTHON_INLINE char* __Pyx_PyObject_AsString(PyObject* o) {\r\n",
        "                               ^\r\n",
        "    /private/var/folders/zm/r274s_k96fq07q784lhm_f740000gp/T/pip_build_pagrawal/cython/Cython/Compiler/Lexicon.c:5689:32: warning: unused function '__Pyx_PyUnicode_FromString' [-Wunused-function]\r\n",
        "    static CYTHON_INLINE PyObject* __Pyx_PyUnicode_FromString(const char* c_str) {\r\n",
        "                                   ^\r\n",
        "    /private/var/folders/zm/r274s_k96fq07q784lhm_f740000gp/T/pip_build_pagrawal/cython/Cython/Compiler/Lexicon.c:410:29: warning: unused function '__Pyx_Py_UNICODE_strlen' [-Wunused-function]\r\n",
        "    static CYTHON_INLINE size_t __Pyx_Py_UNICODE_strlen(const Py_UNICODE *u)\r\n",
        "                                ^\r\n",
        "    /private/var/folders/zm/r274s_k96fq07q784lhm_f740000gp/T/pip_build_pagrawal/cython/Cython/Compiler/Lexicon.c:5756:26: warning: unused function '__Pyx_PyObject_IsTrue' [-Wunused-function]\r\n",
        "    static CYTHON_INLINE int __Pyx_PyObject_IsTrue(PyObject* x) {\r\n",
        "                             ^\r\n",
        "    /private/var/folders/zm/r274s_k96fq07q784lhm_f740000gp/T/pip_build_pagrawal/cython/Cython/Compiler/Lexicon.c:5811:33: warning: unused function '__Pyx_PyIndex_AsSsize_t' [-Wunused-function]\r\n",
        "    static CYTHON_INLINE Py_ssize_t __Pyx_PyIndex_AsSsize_t(PyObject* b) {\r\n",
        "                                    ^\r\n",
        "    /private/var/folders/zm/r274s_k96fq07q784lhm_f740000gp/T/pip_build_pagrawal/cython/Cython/Compiler/Lexicon.c:5840:33: warning: unused function '__Pyx_PyInt_FromSize_t' [-Wunused-function]\r\n",
        "    static CYTHON_INLINE PyObject * __Pyx_PyInt_FromSize_t(size_t ival) {\r\n",
        "                                    ^\r\n",
        "    /private/var/folders/zm/r274s_k96fq07q784lhm_f740000gp/T/pip_build_pagrawal/cython/Cython/Compiler/Lexicon.c:5129:28: warning: unused function '__Pyx_CyFunction_InitDefaults' [-Wunused-function]\r\n",
        "    static CYTHON_INLINE void *__Pyx_CyFunction_InitDefaults(PyObject *func, size_t size, int pyobjects) {\r\n",
        "                               ^\r\n",
        "    /private/var/folders/zm/r274s_k96fq07q784lhm_f740000gp/T/pip_build_pagrawal/cython/Cython/Compiler/Lexicon.c:5138:27: warning: unused function '__Pyx_CyFunction_SetDefaultsTuple' [-Wunused-function]\r\n",
        "    static CYTHON_INLINE void __Pyx_CyFunction_SetDefaultsTuple(PyObject *func, PyObject *tuple) {\r\n",
        "                              ^\r\n",
        "    /private/var/folders/zm/r274s_k96fq07q784lhm_f740000gp/T/pip_build_pagrawal/cython/Cython/Compiler/Lexicon.c:5143:27: warning: unused function '__Pyx_CyFunction_SetDefaultsKwDict' [-Wunused-function]\r\n",
        "    static CYTHON_INLINE void __Pyx_CyFunction_SetDefaultsKwDict(PyObject *func, PyObject *dict) {\r\n",
        "                              ^\r\n",
        "    /private/var/folders/zm/r274s_k96fq07q784lhm_f740000gp/T/pip_build_pagrawal/cython/Cython/Compiler/Lexicon.c:5148:27: warning: unused function '__Pyx_CyFunction_SetAnnotationsDict' [-Wunused-function]\r\n",
        "    static CYTHON_INLINE void __Pyx_CyFunction_SetAnnotationsDict(PyObject *func, PyObject *dict) {\r\n",
        "                              ^\r\n",
        "    /private/var/folders/zm/r274s_k96fq07q784lhm_f740000gp/T/pip_build_pagrawal/cython/Cython/Compiler/Lexicon.c:5236:32: warning: unused function '__Pyx_PyInt_From_long' [-Wunused-function]\r\n",
        "    static CYTHON_INLINE PyObject* __Pyx_PyInt_From_long(long value) {\r\n",
        "                                   ^\r\n",
        "    /private/var/folders/zm/r274s_k96fq07q784lhm_f740000gp/T/pip_build_pagrawal/cython/Cython/Compiler/Lexicon.c:5283:27: warning: function '__Pyx_PyInt_As_long' is not needed and will not be emitted [-Wunneeded-internal-declaration]\r\n",
        "    static CYTHON_INLINE long __Pyx_PyInt_As_long(PyObject *x) {\r\n",
        "                              ^\r\n",
        "    /private/var/folders/zm/r274s_k96fq07q784lhm_f740000gp/T/pip_build_pagrawal/cython/Cython/Compiler/Lexicon.c:5383:26: warning: function '__Pyx_PyInt_As_int' is not needed and will not be emitted [-Wunneeded-internal-declaration]\r\n",
        "    static CYTHON_INLINE int __Pyx_PyInt_As_int(PyObject *x) {\r\n",
        "                             ^\r\n"
       ]
      },
      {
       "output_type": "stream",
       "stream": "stdout",
       "text": [
        "    13 warnings generated.\r\n",
        "    gcc -bundle -undefined dynamic_lookup -L/Users/pagrawal/anaconda/lib -arch x86_64 -arch x86_64 build/temp.macosx-10.5-x86_64-2.7/private/var/folders/zm/r274s_k96fq07q784lhm_f740000gp/T/pip_build_pagrawal/cython/Cython/Compiler/Lexicon.o -L/Users/pagrawal/anaconda/lib -o build/lib.macosx-10.5-x86_64-2.7/Cython/Compiler/Lexicon.so\r\n",
        "    building 'Cython.Compiler.Scanning' extension\r\n"
       ]
      },
      {
       "output_type": "stream",
       "stream": "stdout",
       "text": [
        "    gcc -fno-strict-aliasing -I/Users/pagrawal/anaconda/include -arch x86_64 -DNDEBUG -g -fwrapv -O3 -Wall -Wstrict-prototypes -I/Users/pagrawal/anaconda/include/python2.7 -c /private/var/folders/zm/r274s_k96fq07q784lhm_f740000gp/T/pip_build_pagrawal/cython/Cython/Compiler/Scanning.c -o build/temp.macosx-10.5-x86_64-2.7/private/var/folders/zm/r274s_k96fq07q784lhm_f740000gp/T/pip_build_pagrawal/cython/Cython/Compiler/Scanning.o\r\n"
       ]
      },
      {
       "output_type": "stream",
       "stream": "stdout",
       "text": [
        "    /private/var/folders/zm/r274s_k96fq07q784lhm_f740000gp/T/pip_build_pagrawal/cython/Cython/Compiler/Scanning.c:16370:28: warning: unused function '__Pyx_PyObject_AsString' [-Wunused-function]\r\n",
        "    static CYTHON_INLINE char* __Pyx_PyObject_AsString(PyObject* o) {\r\n",
        "                               ^\r\n",
        "    /private/var/folders/zm/r274s_k96fq07q784lhm_f740000gp/T/pip_build_pagrawal/cython/Cython/Compiler/Scanning.c:16367:32: warning: unused function '__Pyx_PyUnicode_FromString' [-Wunused-function]\r\n",
        "    static CYTHON_INLINE PyObject* __Pyx_PyUnicode_FromString(const char* c_str) {\r\n",
        "                                   ^\r\n",
        "    /private/var/folders/zm/r274s_k96fq07q784lhm_f740000gp/T/pip_build_pagrawal/cython/Cython/Compiler/Scanning.c:410:29: warning: unused function '__Pyx_Py_UNICODE_strlen' [-Wunused-function]\r\n",
        "    static CYTHON_INLINE size_t __Pyx_Py_UNICODE_strlen(const Py_UNICODE *u)\r\n",
        "                                ^\r\n",
        "    /private/var/folders/zm/r274s_k96fq07q784lhm_f740000gp/T/pip_build_pagrawal/cython/Cython/Compiler/Scanning.c:16518:33: warning: unused function '__Pyx_PyInt_FromSize_t' [-Wunused-function]\r\n",
        "    static CYTHON_INLINE PyObject * __Pyx_PyInt_FromSize_t(size_t ival) {\r\n",
        "                                    ^\r\n",
        "    /private/var/folders/zm/r274s_k96fq07q784lhm_f740000gp/T/pip_build_pagrawal/cython/Cython/Compiler/Scanning.c:14677:32: warning: unused function '__Pyx_GetItemInt_Tuple_Fast' [-Wunused-function]\r\n",
        "    static CYTHON_INLINE PyObject *__Pyx_GetItemInt_Tuple_Fast(PyObject *o, Py_ssize_t i,\r\n",
        "                                   ^\r\n"
       ]
      },
      {
       "output_type": "stream",
       "stream": "stdout",
       "text": [
        "    /private/var/folders/zm/r274s_k96fq07q784lhm_f740000gp/T/pip_build_pagrawal/cython/Cython/Compiler/Scanning.c:14761:32: warning: unused function '__Pyx__PyObject_Pop' [-Wunused-function]\r\n",
        "    static CYTHON_INLINE PyObject* __Pyx__PyObject_Pop(PyObject* L) {\r\n",
        "                                   ^\r\n",
        "    /private/var/folders/zm/r274s_k96fq07q784lhm_f740000gp/T/pip_build_pagrawal/cython/Cython/Compiler/Scanning.c:15592:28: warning: unused function '__Pyx_CyFunction_InitDefaults' [-Wunused-function]\r\n",
        "    static CYTHON_INLINE void *__Pyx_CyFunction_InitDefaults(PyObject *func, size_t size, int pyobjects) {\r\n",
        "                               ^\r\n",
        "    /private/var/folders/zm/r274s_k96fq07q784lhm_f740000gp/T/pip_build_pagrawal/cython/Cython/Compiler/Scanning.c:15606:27: warning: unused function '__Pyx_CyFunction_SetDefaultsKwDict' [-Wunused-function]\r\n",
        "    static CYTHON_INLINE void __Pyx_CyFunction_SetDefaultsKwDict(PyObject *func, PyObject *dict) {\r\n",
        "                              ^\r\n",
        "    /private/var/folders/zm/r274s_k96fq07q784lhm_f740000gp/T/pip_build_pagrawal/cython/Cython/Compiler/Scanning.c:15611:27: warning: unused function '__Pyx_CyFunction_SetAnnotationsDict' [-Wunused-function]\r\n",
        "    static CYTHON_INLINE void __Pyx_CyFunction_SetAnnotationsDict(PyObject *func, PyObject *dict) {\r\n",
        "                              ^\r\n"
       ]
      },
      {
       "output_type": "stream",
       "stream": "stdout",
       "text": [
        "    9 warnings generated.\r\n"
       ]
      },
      {
       "output_type": "stream",
       "stream": "stdout",
       "text": [
        "    gcc -bundle -undefined dynamic_lookup -L/Users/pagrawal/anaconda/lib -arch x86_64 -arch x86_64 build/temp.macosx-10.5-x86_64-2.7/private/var/folders/zm/r274s_k96fq07q784lhm_f740000gp/T/pip_build_pagrawal/cython/Cython/Compiler/Scanning.o -L/Users/pagrawal/anaconda/lib -o build/lib.macosx-10.5-x86_64-2.7/Cython/Compiler/Scanning.so\r\n",
        "    building 'Cython.Compiler.Parsing' extension\r\n",
        "    gcc -fno-strict-aliasing -I/Users/pagrawal/anaconda/include -arch x86_64 -DNDEBUG -g -fwrapv -O3 -Wall -Wstrict-prototypes -I/Users/pagrawal/anaconda/include/python2.7 -c /private/var/folders/zm/r274s_k96fq07q784lhm_f740000gp/T/pip_build_pagrawal/cython/Cython/Compiler/Parsing.c -o build/temp.macosx-10.5-x86_64-2.7/private/var/folders/zm/r274s_k96fq07q784lhm_f740000gp/T/pip_build_pagrawal/cython/Cython/Compiler/Parsing.o\r\n"
       ]
      },
      {
       "output_type": "stream",
       "stream": "stdout",
       "text": [
        "    /private/var/folders/zm/r274s_k96fq07q784lhm_f740000gp/T/pip_build_pagrawal/cython/Cython/Compiler/Parsing.c:56417:28: warning: unused function '__Pyx_PyObject_AsString' [-Wunused-function]\r\n",
        "    static CYTHON_INLINE char* __Pyx_PyObject_AsString(PyObject* o) {\r\n",
        "                               ^\r\n",
        "    /private/var/folders/zm/r274s_k96fq07q784lhm_f740000gp/T/pip_build_pagrawal/cython/Cython/Compiler/Parsing.c:56414:32: warning: unused function '__Pyx_PyUnicode_FromString' [-Wunused-function]\r\n",
        "    static CYTHON_INLINE PyObject* __Pyx_PyUnicode_FromString(const char* c_str) {\r\n",
        "                                   ^\r\n",
        "    /private/var/folders/zm/r274s_k96fq07q784lhm_f740000gp/T/pip_build_pagrawal/cython/Cython/Compiler/Parsing.c:410:29: warning: unused function '__Pyx_Py_UNICODE_strlen' [-Wunused-function]\r\n",
        "    static CYTHON_INLINE size_t __Pyx_Py_UNICODE_strlen(const Py_UNICODE *u)\r\n",
        "                                ^\r\n",
        "    /private/var/folders/zm/r274s_k96fq07q784lhm_f740000gp/T/pip_build_pagrawal/cython/Cython/Compiler/Parsing.c:56565:33: warning: unused function '__Pyx_PyInt_FromSize_t' [-Wunused-function]\r\n",
        "    static CYTHON_INLINE PyObject * __Pyx_PyInt_FromSize_t(size_t ival) {\r\n",
        "                                    ^\r\n",
        "    /private/var/folders/zm/r274s_k96fq07q784lhm_f740000gp/T/pip_build_pagrawal/cython/Cython/Compiler/Parsing.c:54710:32: warning: unused function '__Pyx_PyTuple_GetSlice' [-Wunused-function]\r\n",
        "    static CYTHON_INLINE PyObject* __Pyx_PyTuple_GetSlice(\r\n",
        "                                   ^\r\n",
        "    /private/var/folders/zm/r274s_k96fq07q784lhm_f740000gp/T/pip_build_pagrawal/cython/Cython/Compiler/Parsing.c:55602:28: warning: unused function '__Pyx_CyFunction_InitDefaults' [-Wunused-function]\r\n",
        "    static CYTHON_INLINE void *__Pyx_CyFunction_InitDefaults(PyObject *func, size_t size, int pyobjects) {\r\n",
        "                               ^\r\n",
        "    /private/var/folders/zm/r274s_k96fq07q784lhm_f740000gp/T/pip_build_pagrawal/cython/Cython/Compiler/Parsing.c:55611:27: warning: unused function '__Pyx_CyFunction_SetDefaultsTuple' [-Wunused-function]\r\n",
        "    static CYTHON_INLINE void __Pyx_CyFunction_SetDefaultsTuple(PyObject *func, PyObject *tuple) {\r\n",
        "                              ^\r\n",
        "    /private/var/folders/zm/r274s_k96fq07q784lhm_f740000gp/T/pip_build_pagrawal/cython/Cython/Compiler/Parsing.c:55616:27: warning: unused function '__Pyx_CyFunction_SetDefaultsKwDict' [-Wunused-function]\r\n",
        "    static CYTHON_INLINE void __Pyx_CyFunction_SetDefaultsKwDict(PyObject *func, PyObject *dict) {\r\n",
        "                              ^\r\n",
        "    /private/var/folders/zm/r274s_k96fq07q784lhm_f740000gp/T/pip_build_pagrawal/cython/Cython/Compiler/Parsing.c:55621:27: warning: unused function '__Pyx_CyFunction_SetAnnotationsDict' [-Wunused-function]\r\n",
        "    static CYTHON_INLINE void __Pyx_CyFunction_SetAnnotationsDict(PyObject *func, PyObject *dict) {\r\n",
        "                              ^\r\n",
        "    /private/var/folders/zm/r274s_k96fq07q784lhm_f740000gp/T/pip_build_pagrawal/cython/Cython/Compiler/Parsing.c:55801:26: warning: unused function '__Pyx_UnicodeContainsUCS4' [-Wunused-function]\r\n",
        "    static CYTHON_INLINE int __Pyx_UnicodeContainsUCS4(PyObject* unicode, Py_UCS4 character) {\r\n",
        "                             ^\r\n",
        "    /private/var/folders/zm/r274s_k96fq07q784lhm_f740000gp/T/pip_build_pagrawal/cython/Cython/Compiler/Parsing.c:55840:32: warning: unused function '__Pyx_PyInt_From_int' [-Wunused-function]\r\n",
        "    static CYTHON_INLINE PyObject* __Pyx_PyInt_From_int(int value) {\r\n",
        "                                   ^\r\n",
        "    /private/var/folders/zm/r274s_k96fq07q784lhm_f740000gp/T/pip_build_pagrawal/cython/Cython/Compiler/Parsing.c:55887:26: warning: function '__Pyx_PyInt_As_int' is not needed and will not be emitted [-Wunneeded-internal-declaration]\r\n",
        "    static CYTHON_INLINE int __Pyx_PyInt_As_int(PyObject *x) {\r\n",
        "                             ^\r\n",
        "    /private/var/folders/zm/r274s_k96fq07q784lhm_f740000gp/T/pip_build_pagrawal/cython/Cython/Compiler/Parsing.c:55987:27: warning: function '__Pyx_PyInt_As_long' is not needed and will not be emitted [-Wunneeded-internal-declaration]\r\n",
        "    static CYTHON_INLINE long __Pyx_PyInt_As_long(PyObject *x) {\r\n",
        "                              ^\r\n"
       ]
      },
      {
       "output_type": "stream",
       "stream": "stdout",
       "text": [
        "    13 warnings generated.\r\n",
        "    gcc -bundle -undefined dynamic_lookup -L/Users/pagrawal/anaconda/lib -arch x86_64 -arch x86_64 build/temp.macosx-10.5-x86_64-2.7/private/var/folders/zm/r274s_k96fq07q784lhm_f740000gp/T/pip_build_pagrawal/cython/Cython/Compiler/Parsing.o -L/Users/pagrawal/anaconda/lib -o build/lib.macosx-10.5-x86_64-2.7/Cython/Compiler/Parsing.so\r\n"
       ]
      },
      {
       "output_type": "stream",
       "stream": "stdout",
       "text": [
        "    building 'Cython.Compiler.Visitor' extension\r\n",
        "    gcc -fno-strict-aliasing -I/Users/pagrawal/anaconda/include -arch x86_64 -DNDEBUG -g -fwrapv -O3 -Wall -Wstrict-prototypes -I/Users/pagrawal/anaconda/include/python2.7 -c /private/var/folders/zm/r274s_k96fq07q784lhm_f740000gp/T/pip_build_pagrawal/cython/Cython/Compiler/Visitor.c -o build/temp.macosx-10.5-x86_64-2.7/private/var/folders/zm/r274s_k96fq07q784lhm_f740000gp/T/pip_build_pagrawal/cython/Cython/Compiler/Visitor.o\r\n"
       ]
      },
      {
       "output_type": "stream",
       "stream": "stdout",
       "text": [
        "    /private/var/folders/zm/r274s_k96fq07q784lhm_f740000gp/T/pip_build_pagrawal/cython/Cython/Compiler/Visitor.c:19313:28: warning: unused function '__Pyx_PyObject_AsString' [-Wunused-function]\r\n",
        "    static CYTHON_INLINE char* __Pyx_PyObject_AsString(PyObject* o) {\r\n",
        "                               ^\r\n",
        "    /private/var/folders/zm/r274s_k96fq07q784lhm_f740000gp/T/pip_build_pagrawal/cython/Cython/Compiler/Visitor.c:19310:32: warning: unused function '__Pyx_PyUnicode_FromString' [-Wunused-function]\r\n",
        "    static CYTHON_INLINE PyObject* __Pyx_PyUnicode_FromString(const char* c_str) {\r\n",
        "                                   ^\r\n",
        "    /private/var/folders/zm/r274s_k96fq07q784lhm_f740000gp/T/pip_build_pagrawal/cython/Cython/Compiler/Visitor.c:410:29: warning: unused function '__Pyx_Py_UNICODE_strlen' [-Wunused-function]\r\n",
        "    static CYTHON_INLINE size_t __Pyx_Py_UNICODE_strlen(const Py_UNICODE *u)\r\n",
        "                                ^\r\n",
        "    /private/var/folders/zm/r274s_k96fq07q784lhm_f740000gp/T/pip_build_pagrawal/cython/Cython/Compiler/Visitor.c:19461:33: warning: unused function '__Pyx_PyInt_FromSize_t' [-Wunused-function]\r\n",
        "    static CYTHON_INLINE PyObject * __Pyx_PyInt_FromSize_t(size_t ival) {\r\n",
        "                                    ^\r\n",
        "    /private/var/folders/zm/r274s_k96fq07q784lhm_f740000gp/T/pip_build_pagrawal/cython/Cython/Compiler/Visitor.c:17072:32: warning: unused function '__Pyx_GetItemInt_Tuple_Fast' [-Wunused-function]\r\n",
        "    static CYTHON_INLINE PyObject *__Pyx_GetItemInt_Tuple_Fast(PyObject *o, Py_ssize_t i,\r\n",
        "                                   ^\r\n",
        "    /private/var/folders/zm/r274s_k96fq07q784lhm_f740000gp/T/pip_build_pagrawal/cython/Cython/Compiler/Visitor.c:17307:27: warning: unused function '__Pyx_ErrFetch' [-Wunused-function]\r\n",
        "    static CYTHON_INLINE void __Pyx_ErrFetch(PyObject **type, PyObject **value, PyObject **tb) {\r\n",
        "                              ^\r\n",
        "    /private/var/folders/zm/r274s_k96fq07q784lhm_f740000gp/T/pip_build_pagrawal/cython/Cython/Compiler/Visitor.c:17486:32: warning: unused function '__Pyx__PyObject_Pop' [-Wunused-function]\r\n",
        "    static CYTHON_INLINE PyObject* __Pyx__PyObject_Pop(PyObject* L) {\r\n",
        "                                   ^\r\n",
        "    /private/var/folders/zm/r274s_k96fq07q784lhm_f740000gp/T/pip_build_pagrawal/cython/Cython/Compiler/Visitor.c:17707:26: warning: unused function '__Pyx_PyUnicode_Equals' [-Wunused-function]\r\n",
        "    static CYTHON_INLINE int __Pyx_PyUnicode_Equals(PyObject* s1, PyObject* s2, int equals) {\r\n",
        "                             ^\r\n",
        "    /private/var/folders/zm/r274s_k96fq07q784lhm_f740000gp/T/pip_build_pagrawal/cython/Cython/Compiler/Visitor.c:18517:28: warning: unused function '__Pyx_CyFunction_InitDefaults' [-Wunused-function]\r\n",
        "    static CYTHON_INLINE void *__Pyx_CyFunction_InitDefaults(PyObject *func, size_t size, int pyobjects) {\r\n",
        "                               ^\r\n",
        "    /private/var/folders/zm/r274s_k96fq07q784lhm_f740000gp/T/pip_build_pagrawal/cython/Cython/Compiler/Visitor.c:18531:27: warning: unused function '__Pyx_CyFunction_SetDefaultsKwDict' [-Wunused-function]\r\n",
        "    static CYTHON_INLINE void __Pyx_CyFunction_SetDefaultsKwDict(PyObject *func, PyObject *dict) {\r\n",
        "                              ^\r\n",
        "    /private/var/folders/zm/r274s_k96fq07q784lhm_f740000gp/T/pip_build_pagrawal/cython/Cython/Compiler/Visitor.c:18536:27: warning: unused function '__Pyx_CyFunction_SetAnnotationsDict' [-Wunused-function]\r\n",
        "    static CYTHON_INLINE void __Pyx_CyFunction_SetAnnotationsDict(PyObject *func, PyObject *dict) {\r\n",
        "                              ^\r\n",
        "    /private/var/folders/zm/r274s_k96fq07q784lhm_f740000gp/T/pip_build_pagrawal/cython/Cython/Compiler/Visitor.c:18878:26: warning: function '__Pyx_PyInt_As_int' is not needed and will not be emitted [-Wunneeded-internal-declaration]\r\n",
        "    static CYTHON_INLINE int __Pyx_PyInt_As_int(PyObject *x) {\r\n",
        "                             ^\r\n",
        "    /private/var/folders/zm/r274s_k96fq07q784lhm_f740000gp/T/pip_build_pagrawal/cython/Cython/Compiler/Visitor.c:19004:27: warning: function '__Pyx_PyInt_As_long' is not needed and will not be emitted [-Wunneeded-internal-declaration]\r\n",
        "    static CYTHON_INLINE long __Pyx_PyInt_As_long(PyObject *x) {\r\n",
        "                              ^\r\n"
       ]
      },
      {
       "output_type": "stream",
       "stream": "stdout",
       "text": [
        "    13 warnings generated.\r\n",
        "    gcc -bundle -undefined dynamic_lookup -L/Users/pagrawal/anaconda/lib -arch x86_64 -arch x86_64 build/temp.macosx-10.5-x86_64-2.7/private/var/folders/zm/r274s_k96fq07q784lhm_f740000gp/T/pip_build_pagrawal/cython/Cython/Compiler/Visitor.o -L/Users/pagrawal/anaconda/lib -o build/lib.macosx-10.5-x86_64-2.7/Cython/Compiler/Visitor.so\r\n"
       ]
      },
      {
       "output_type": "stream",
       "stream": "stdout",
       "text": [
        "    building 'Cython.Compiler.FlowControl' extension\r\n",
        "    gcc -fno-strict-aliasing -I/Users/pagrawal/anaconda/include -arch x86_64 -DNDEBUG -g -fwrapv -O3 -Wall -Wstrict-prototypes -I/Users/pagrawal/anaconda/include/python2.7 -c /private/var/folders/zm/r274s_k96fq07q784lhm_f740000gp/T/pip_build_pagrawal/cython/Cython/Compiler/FlowControl.c -o build/temp.macosx-10.5-x86_64-2.7/private/var/folders/zm/r274s_k96fq07q784lhm_f740000gp/T/pip_build_pagrawal/cython/Cython/Compiler/FlowControl.o\r\n"
       ]
      },
      {
       "output_type": "stream",
       "stream": "stdout",
       "text": [
        "    /private/var/folders/zm/r274s_k96fq07q784lhm_f740000gp/T/pip_build_pagrawal/cython/Cython/Compiler/FlowControl.c:33902:28: warning: unused function '__Pyx_PyObject_AsString' [-Wunused-function]\r\n",
        "    static CYTHON_INLINE char* __Pyx_PyObject_AsString(PyObject* o) {\r\n",
        "                               ^\r\n",
        "    /private/var/folders/zm/r274s_k96fq07q784lhm_f740000gp/T/pip_build_pagrawal/cython/Cython/Compiler/FlowControl.c:33899:32: warning: unused function '__Pyx_PyUnicode_FromString' [-Wunused-function]\r\n",
        "    static CYTHON_INLINE PyObject* __Pyx_PyUnicode_FromString(const char* c_str) {\r\n",
        "                                   ^\r\n",
        "    /private/var/folders/zm/r274s_k96fq07q784lhm_f740000gp/T/pip_build_pagrawal/cython/Cython/Compiler/FlowControl.c:410:29: warning: unused function '__Pyx_Py_UNICODE_strlen' [-Wunused-function]\r\n",
        "    static CYTHON_INLINE size_t __Pyx_Py_UNICODE_strlen(const Py_UNICODE *u)\r\n",
        "                                ^\r\n",
        "    /private/var/folders/zm/r274s_k96fq07q784lhm_f740000gp/T/pip_build_pagrawal/cython/Cython/Compiler/FlowControl.c:34050:33: warning: unused function '__Pyx_PyInt_FromSize_t' [-Wunused-function]\r\n",
        "    static CYTHON_INLINE PyObject * __Pyx_PyInt_FromSize_t(size_t ival) {\r\n",
        "                                    ^\r\n",
        "    /private/var/folders/zm/r274s_k96fq07q784lhm_f740000gp/T/pip_build_pagrawal/cython/Cython/Compiler/FlowControl.c:31979:32: warning: unused function '__Pyx_GetItemInt_Tuple_Fast' [-Wunused-function]\r\n",
        "    static CYTHON_INLINE PyObject *__Pyx_GetItemInt_Tuple_Fast(PyObject *o, Py_ssize_t i,\r\n",
        "                                   ^\r\n",
        "    /private/var/folders/zm/r274s_k96fq07q784lhm_f740000gp/T/pip_build_pagrawal/cython/Cython/Compiler/FlowControl.c:32091:26: warning: unused function '__Pyx_PyUnicode_Equals' [-Wunused-function]\r\n",
        "    static CYTHON_INLINE int __Pyx_PyUnicode_Equals(PyObject* s1, PyObject* s2, int equals) {\r\n",
        "                             ^\r\n",
        "    /private/var/folders/zm/r274s_k96fq07q784lhm_f740000gp/T/pip_build_pagrawal/cython/Cython/Compiler/FlowControl.c:32252:27: warning: unused function '__Pyx_ExceptionSave' [-Wunused-function]\r\n",
        "    static CYTHON_INLINE void __Pyx_ExceptionSave(PyObject **type, PyObject **value, PyObject **tb) {\r\n",
        "                              ^\r\n",
        "    /private/var/folders/zm/r274s_k96fq07q784lhm_f740000gp/T/pip_build_pagrawal/cython/Cython/Compiler/FlowControl.c:33144:28: warning: unused function '__Pyx_CyFunction_InitDefaults' [-Wunused-function]\r\n",
        "    static CYTHON_INLINE void *__Pyx_CyFunction_InitDefaults(PyObject *func, size_t size, int pyobjects) {\r\n",
        "                               ^\r\n",
        "    /private/var/folders/zm/r274s_k96fq07q784lhm_f740000gp/T/pip_build_pagrawal/cython/Cython/Compiler/FlowControl.c:33158:27: warning: unused function '__Pyx_CyFunction_SetDefaultsKwDict' [-Wunused-function]\r\n",
        "    static CYTHON_INLINE void __Pyx_CyFunction_SetDefaultsKwDict(PyObject *func, PyObject *dict) {\r\n",
        "                              ^\r\n",
        "    /private/var/folders/zm/r274s_k96fq07q784lhm_f740000gp/T/pip_build_pagrawal/cython/Cython/Compiler/FlowControl.c:33163:27: warning: unused function '__Pyx_CyFunction_SetAnnotationsDict' [-Wunused-function]\r\n",
        "    static CYTHON_INLINE void __Pyx_CyFunction_SetAnnotationsDict(PyObject *func, PyObject *dict) {\r\n",
        "                              ^\r\n",
        "    /private/var/folders/zm/r274s_k96fq07q784lhm_f740000gp/T/pip_build_pagrawal/cython/Cython/Compiler/FlowControl.c:33372:27: warning: function '__Pyx_PyInt_As_long' is not needed and will not be emitted [-Wunneeded-internal-declaration]\r\n",
        "    static CYTHON_INLINE long __Pyx_PyInt_As_long(PyObject *x) {\r\n",
        "                              ^\r\n",
        "    /private/var/folders/zm/r274s_k96fq07q784lhm_f740000gp/T/pip_build_pagrawal/cython/Cython/Compiler/FlowControl.c:33472:26: warning: function '__Pyx_PyInt_As_int' is not needed and will not be emitted [-Wunneeded-internal-declaration]\r\n",
        "    static CYTHON_INLINE int __Pyx_PyInt_As_int(PyObject *x) {\r\n",
        "                             ^\r\n"
       ]
      },
      {
       "output_type": "stream",
       "stream": "stdout",
       "text": [
        "    12 warnings generated.\r\n",
        "    gcc -bundle -undefined dynamic_lookup -L/Users/pagrawal/anaconda/lib -arch x86_64 -arch x86_64 build/temp.macosx-10.5-x86_64-2.7/private/var/folders/zm/r274s_k96fq07q784lhm_f740000gp/T/pip_build_pagrawal/cython/Cython/Compiler/FlowControl.o -L/Users/pagrawal/anaconda/lib -o build/lib.macosx-10.5-x86_64-2.7/Cython/Compiler/FlowControl.so\r\n"
       ]
      },
      {
       "output_type": "stream",
       "stream": "stdout",
       "text": [
        "    building 'Cython.Compiler.Code' extension\r\n",
        "    gcc -fno-strict-aliasing -I/Users/pagrawal/anaconda/include -arch x86_64 -DNDEBUG -g -fwrapv -O3 -Wall -Wstrict-prototypes -I/Users/pagrawal/anaconda/include/python2.7 -c /private/var/folders/zm/r274s_k96fq07q784lhm_f740000gp/T/pip_build_pagrawal/cython/Cython/Compiler/Code.c -o build/temp.macosx-10.5-x86_64-2.7/private/var/folders/zm/r274s_k96fq07q784lhm_f740000gp/T/pip_build_pagrawal/cython/Cython/Compiler/Code.o\r\n"
       ]
      },
      {
       "output_type": "stream",
       "stream": "stdout",
       "text": [
        "    /private/var/folders/zm/r274s_k96fq07q784lhm_f740000gp/T/pip_build_pagrawal/cython/Cython/Compiler/Code.c:65348:28: warning: unused function '__Pyx_PyObject_AsString' [-Wunused-function]\r\n",
        "    static CYTHON_INLINE char* __Pyx_PyObject_AsString(PyObject* o) {\r\n",
        "                               ^\r\n",
        "    /private/var/folders/zm/r274s_k96fq07q784lhm_f740000gp/T/pip_build_pagrawal/cython/Cython/Compiler/Code.c:65345:32: warning: unused function '__Pyx_PyUnicode_FromString' [-Wunused-function]\r\n",
        "    static CYTHON_INLINE PyObject* __Pyx_PyUnicode_FromString(const char* c_str) {\r\n",
        "                                   ^\r\n",
        "    /private/var/folders/zm/r274s_k96fq07q784lhm_f740000gp/T/pip_build_pagrawal/cython/Cython/Compiler/Code.c:410:29: warning: unused function '__Pyx_Py_UNICODE_strlen' [-Wunused-function]\r\n",
        "    static CYTHON_INLINE size_t __Pyx_Py_UNICODE_strlen(const Py_UNICODE *u)\r\n",
        "                                ^\r\n",
        "    /private/var/folders/zm/r274s_k96fq07q784lhm_f740000gp/T/pip_build_pagrawal/cython/Cython/Compiler/Code.c:63248:26: warning: unused function '__Pyx_PyUnicode_Equals' [-Wunused-function]\r\n",
        "    static CYTHON_INLINE int __Pyx_PyUnicode_Equals(PyObject* s1, PyObject* s2, int equals) {\r\n",
        "                             ^\r\n",
        "    /private/var/folders/zm/r274s_k96fq07q784lhm_f740000gp/T/pip_build_pagrawal/cython/Cython/Compiler/Code.c:63402:32: warning: unused function '__Pyx_GetItemInt_Tuple_Fast' [-Wunused-function]\r\n",
        "    static CYTHON_INLINE PyObject *__Pyx_GetItemInt_Tuple_Fast(PyObject *o, Py_ssize_t i,\r\n",
        "                                   ^\r\n",
        "    /private/var/folders/zm/r274s_k96fq07q784lhm_f740000gp/T/pip_build_pagrawal/cython/Cython/Compiler/Code.c:64293:27: warning: unused function '__Pyx_CyFunction_SetDefaultsKwDict' [-Wunused-function]\r\n",
        "    static CYTHON_INLINE void __Pyx_CyFunction_SetDefaultsKwDict(PyObject *func, PyObject *dict) {\r\n",
        "                              ^\r\n",
        "    /private/var/folders/zm/r274s_k96fq07q784lhm_f740000gp/T/pip_build_pagrawal/cython/Cython/Compiler/Code.c:64298:27: warning: unused function '__Pyx_CyFunction_SetAnnotationsDict' [-Wunused-function]\r\n",
        "    static CYTHON_INLINE void __Pyx_CyFunction_SetAnnotationsDict(PyObject *func, PyObject *dict) {\r\n",
        "                              ^\r\n",
        "    /private/var/folders/zm/r274s_k96fq07q784lhm_f740000gp/T/pip_build_pagrawal/cython/Cython/Compiler/Code.c:64487:32: warning: unused function '__Pyx_PyList_GetSlice' [-Wunused-function]\r\n",
        "    static CYTHON_INLINE PyObject* __Pyx_PyList_GetSlice(\r\n",
        "                                   ^\r\n",
        "    /private/var/folders/zm/r274s_k96fq07q784lhm_f740000gp/T/pip_build_pagrawal/cython/Cython/Compiler/Code.c:64939:27: warning: function '__Pyx_PyInt_As_long' is not needed and will not be emitted [-Wunneeded-internal-declaration]\r\n",
        "    static CYTHON_INLINE long __Pyx_PyInt_As_long(PyObject *x) {\r\n",
        "                              ^\r\n",
        "    /private/var/folders/zm/r274s_k96fq07q784lhm_f740000gp/T/pip_build_pagrawal/cython/Cython/Compiler/Code.c:65039:26: warning: function '__Pyx_PyInt_As_int' is not needed and will not be emitted [-Wunneeded-internal-declaration]\r\n",
        "    static CYTHON_INLINE int __Pyx_PyInt_As_int(PyObject *x) {\r\n",
        "                             ^\r\n"
       ]
      },
      {
       "output_type": "stream",
       "stream": "stdout",
       "text": [
        "    10 warnings generated.\r\n"
       ]
      },
      {
       "output_type": "stream",
       "stream": "stdout",
       "text": [
        "    gcc -bundle -undefined dynamic_lookup -L/Users/pagrawal/anaconda/lib -arch x86_64 -arch x86_64 build/temp.macosx-10.5-x86_64-2.7/private/var/folders/zm/r274s_k96fq07q784lhm_f740000gp/T/pip_build_pagrawal/cython/Cython/Compiler/Code.o -L/Users/pagrawal/anaconda/lib -o build/lib.macosx-10.5-x86_64-2.7/Cython/Compiler/Code.so\r\n"
       ]
      },
      {
       "output_type": "stream",
       "stream": "stdout",
       "text": [
        "    building 'Cython.Runtime.refnanny' extension\r\n",
        "    gcc -fno-strict-aliasing -I/Users/pagrawal/anaconda/include -arch x86_64 -DNDEBUG -g -fwrapv -O3 -Wall -Wstrict-prototypes -I/Users/pagrawal/anaconda/include/python2.7 -c /private/var/folders/zm/r274s_k96fq07q784lhm_f740000gp/T/pip_build_pagrawal/cython/Cython/Runtime/refnanny.c -o build/temp.macosx-10.5-x86_64-2.7/private/var/folders/zm/r274s_k96fq07q784lhm_f740000gp/T/pip_build_pagrawal/cython/Cython/Runtime/refnanny.o\r\n"
       ]
      },
      {
       "output_type": "stream",
       "stream": "stdout",
       "text": [
        "    /private/var/folders/zm/r274s_k96fq07q784lhm_f740000gp/T/pip_build_pagrawal/cython/Cython/Runtime/refnanny.c:5560:28: warning: unused function '__Pyx_PyObject_AsString' [-Wunused-function]\r\n",
        "    static CYTHON_INLINE char* __Pyx_PyObject_AsString(PyObject* o) {\r\n",
        "                               ^\r\n",
        "    /private/var/folders/zm/r274s_k96fq07q784lhm_f740000gp/T/pip_build_pagrawal/cython/Cython/Runtime/refnanny.c:5557:32: warning: unused function '__Pyx_PyUnicode_FromString' [-Wunused-function]\r\n",
        "    static CYTHON_INLINE PyObject* __Pyx_PyUnicode_FromString(const char* c_str) {\r\n",
        "                                   ^\r\n",
        "    /private/var/folders/zm/r274s_k96fq07q784lhm_f740000gp/T/pip_build_pagrawal/cython/Cython/Runtime/refnanny.c:410:29: warning: unused function '__Pyx_Py_UNICODE_strlen' [-Wunused-function]\r\n",
        "    static CYTHON_INLINE size_t __Pyx_Py_UNICODE_strlen(const Py_UNICODE *u)\r\n",
        "                                ^\r\n",
        "    /private/var/folders/zm/r274s_k96fq07q784lhm_f740000gp/T/pip_build_pagrawal/cython/Cython/Runtime/refnanny.c:5708:33: warning: unused function '__Pyx_PyInt_FromSize_t' [-Wunused-function]\r\n",
        "    static CYTHON_INLINE PyObject * __Pyx_PyInt_FromSize_t(size_t ival) {\r\n",
        "                                    ^\r\n",
        "    /private/var/folders/zm/r274s_k96fq07q784lhm_f740000gp/T/pip_build_pagrawal/cython/Cython/Runtime/refnanny.c:4679:32: warning: unused function '__Pyx_GetItemInt_List_Fast' [-Wunused-function]\r\n",
        "    static CYTHON_INLINE PyObject *__Pyx_GetItemInt_List_Fast(PyObject *o, Py_ssize_t i,\r\n",
        "                                   ^\r\n",
        "    /private/var/folders/zm/r274s_k96fq07q784lhm_f740000gp/T/pip_build_pagrawal/cython/Cython/Runtime/refnanny.c:4693:32: warning: unused function '__Pyx_GetItemInt_Tuple_Fast' [-Wunused-function]\r\n",
        "    static CYTHON_INLINE PyObject *__Pyx_GetItemInt_Tuple_Fast(PyObject *o, Py_ssize_t i,\r\n",
        "                                   ^\r\n",
        "    /private/var/folders/zm/r274s_k96fq07q784lhm_f740000gp/T/pip_build_pagrawal/cython/Cython/Runtime/refnanny.c:5151:27: warning: function '__Pyx_PyInt_As_long' is not needed and will not be emitted [-Wunneeded-internal-declaration]\r\n",
        "    static CYTHON_INLINE long __Pyx_PyInt_As_long(PyObject *x) {\r\n",
        "                              ^\r\n",
        "    /private/var/folders/zm/r274s_k96fq07q784lhm_f740000gp/T/pip_build_pagrawal/cython/Cython/Runtime/refnanny.c:5251:26: warning: function '__Pyx_PyInt_As_int' is not needed and will not be emitted [-Wunneeded-internal-declaration]\r\n",
        "    static CYTHON_INLINE int __Pyx_PyInt_As_int(PyObject *x) {\r\n",
        "                             ^\r\n"
       ]
      },
      {
       "output_type": "stream",
       "stream": "stdout",
       "text": [
        "    8 warnings generated.\r\n",
        "    gcc -bundle -undefined dynamic_lookup -L/Users/pagrawal/anaconda/lib -arch x86_64 -arch x86_64 build/temp.macosx-10.5-x86_64-2.7/private/var/folders/zm/r274s_k96fq07q784lhm_f740000gp/T/pip_build_pagrawal/cython/Cython/Runtime/refnanny.o -L/Users/pagrawal/anaconda/lib -o build/lib.macosx-10.5-x86_64-2.7/Cython/Runtime/refnanny.so\r\n"
       ]
      },
      {
       "output_type": "stream",
       "stream": "stdout",
       "text": [
        "    building 'Cython.Tempita._tempita' extension\r\n",
        "    gcc -fno-strict-aliasing -I/Users/pagrawal/anaconda/include -arch x86_64 -DNDEBUG -g -fwrapv -O3 -Wall -Wstrict-prototypes -I/Users/pagrawal/anaconda/include/python2.7 -c /private/var/folders/zm/r274s_k96fq07q784lhm_f740000gp/T/pip_build_pagrawal/cython/Cython/Tempita/_tempita.c -o build/temp.macosx-10.5-x86_64-2.7/private/var/folders/zm/r274s_k96fq07q784lhm_f740000gp/T/pip_build_pagrawal/cython/Cython/Tempita/_tempita.o\r\n"
       ]
      },
      {
       "output_type": "stream",
       "stream": "stdout",
       "text": [
        "    /private/var/folders/zm/r274s_k96fq07q784lhm_f740000gp/T/pip_build_pagrawal/cython/Cython/Tempita/_tempita.c:32405:28: warning: unused function '__Pyx_PyObject_AsString' [-Wunused-function]\r\n",
        "    static CYTHON_INLINE char* __Pyx_PyObject_AsString(PyObject* o) {\r\n",
        "                               ^\r\n",
        "    /private/var/folders/zm/r274s_k96fq07q784lhm_f740000gp/T/pip_build_pagrawal/cython/Cython/Tempita/_tempita.c:32402:32: warning: unused function '__Pyx_PyUnicode_FromString' [-Wunused-function]\r\n",
        "    static CYTHON_INLINE PyObject* __Pyx_PyUnicode_FromString(const char* c_str) {\r\n",
        "                                   ^\r\n",
        "    /private/var/folders/zm/r274s_k96fq07q784lhm_f740000gp/T/pip_build_pagrawal/cython/Cython/Tempita/_tempita.c:410:29: warning: unused function '__Pyx_Py_UNICODE_strlen' [-Wunused-function]\r\n",
        "    static CYTHON_INLINE size_t __Pyx_Py_UNICODE_strlen(const Py_UNICODE *u)\r\n",
        "                                ^\r\n",
        "    /private/var/folders/zm/r274s_k96fq07q784lhm_f740000gp/T/pip_build_pagrawal/cython/Cython/Tempita/_tempita.c:32553:33: warning: unused function '__Pyx_PyInt_FromSize_t' [-Wunused-function]\r\n",
        "    static CYTHON_INLINE PyObject * __Pyx_PyInt_FromSize_t(size_t ival) {\r\n",
        "                                    ^\r\n",
        "    /private/var/folders/zm/r274s_k96fq07q784lhm_f740000gp/T/pip_build_pagrawal/cython/Cython/Tempita/_tempita.c:29925:32: warning: unused function '__Pyx_GetItemInt_List_Fast' [-Wunused-function]\r\n",
        "    static CYTHON_INLINE PyObject *__Pyx_GetItemInt_List_Fast(PyObject *o, Py_ssize_t i,\r\n",
        "                                   ^\r\n",
        "    /private/var/folders/zm/r274s_k96fq07q784lhm_f740000gp/T/pip_build_pagrawal/cython/Cython/Tempita/_tempita.c:30158:27: warning: unused function '__Pyx_ErrFetch' [-Wunused-function]\r\n",
        "    static CYTHON_INLINE void __Pyx_ErrFetch(PyObject **type, PyObject **value, PyObject **tb) {\r\n",
        "                              ^\r\n",
        "    /private/var/folders/zm/r274s_k96fq07q784lhm_f740000gp/T/pip_build_pagrawal/cython/Cython/Tempita/_tempita.c:30596:26: warning: unused function '__Pyx_PyUnicode_Equals' [-Wunused-function]\r\n",
        "    static CYTHON_INLINE int __Pyx_PyUnicode_Equals(PyObject* s1, PyObject* s2, int equals) {\r\n",
        "                             ^\r\n",
        "    /private/var/folders/zm/r274s_k96fq07q784lhm_f740000gp/T/pip_build_pagrawal/cython/Cython/Tempita/_tempita.c:31440:27: warning: unused function '__Pyx_CyFunction_SetDefaultsKwDict' [-Wunused-function]\r\n",
        "    static CYTHON_INLINE void __Pyx_CyFunction_SetDefaultsKwDict(PyObject *func, PyObject *dict) {\r\n",
        "                              ^\r\n",
        "    /private/var/folders/zm/r274s_k96fq07q784lhm_f740000gp/T/pip_build_pagrawal/cython/Cython/Tempita/_tempita.c:31445:27: warning: unused function '__Pyx_CyFunction_SetAnnotationsDict' [-Wunused-function]\r\n",
        "    static CYTHON_INLINE void __Pyx_CyFunction_SetAnnotationsDict(PyObject *func, PyObject *dict) {\r\n",
        "                              ^\r\n",
        "    /private/var/folders/zm/r274s_k96fq07q784lhm_f740000gp/T/pip_build_pagrawal/cython/Cython/Tempita/_tempita.c:31676:32: warning: unused function '__Pyx_PyExec2' [-Wunused-function]\r\n",
        "    static CYTHON_INLINE PyObject* __Pyx_PyExec2(PyObject* o, PyObject* globals) {\r\n",
        "                                   ^\r\n",
        "    /private/var/folders/zm/r274s_k96fq07q784lhm_f740000gp/T/pip_build_pagrawal/cython/Cython/Tempita/_tempita.c:31996:27: warning: function '__Pyx_PyInt_As_long' is not needed and will not be emitted [-Wunneeded-internal-declaration]\r\n",
        "    static CYTHON_INLINE long __Pyx_PyInt_As_long(PyObject *x) {\r\n",
        "                              ^\r\n",
        "    /private/var/folders/zm/r274s_k96fq07q784lhm_f740000gp/T/pip_build_pagrawal/cython/Cython/Tempita/_tempita.c:32096:26: warning: function '__Pyx_PyInt_As_int' is not needed and will not be emitted [-Wunneeded-internal-declaration]\r\n",
        "    static CYTHON_INLINE int __Pyx_PyInt_As_int(PyObject *x) {\r\n",
        "                             ^\r\n"
       ]
      },
      {
       "output_type": "stream",
       "stream": "stdout",
       "text": [
        "    12 warnings generated.\r\n",
        "    gcc -bundle -undefined dynamic_lookup -L/Users/pagrawal/anaconda/lib -arch x86_64 -arch x86_64 build/temp.macosx-10.5-x86_64-2.7/private/var/folders/zm/r274s_k96fq07q784lhm_f740000gp/T/pip_build_pagrawal/cython/Cython/Tempita/_tempita.o -L/Users/pagrawal/anaconda/lib -o build/lib.macosx-10.5-x86_64-2.7/Cython/Tempita/_tempita.so\r\n"
       ]
      },
      {
       "output_type": "stream",
       "stream": "stdout",
       "text": [
        "    \r\n"
       ]
      },
      {
       "output_type": "stream",
       "stream": "stdout",
       "text": [
        "    warning: no files found matching '*.pyx' under directory 'Cython/Debugger/Tests'\r\n",
        "    warning: no files found matching '*.pxd' under directory 'Cython/Debugger/Tests'\r\n",
        "    warning: no files found matching '*.h' under directory 'Cython/Debugger/Tests'\r\n",
        "    warning: no files found matching '*.pxd' under directory 'Cython/Utility'\r\n"
       ]
      },
      {
       "output_type": "stream",
       "stream": "stdout",
       "text": [
        "    Installing cython script to /Users/pagrawal/anaconda/bin\r\n",
        "    Installing cygdb script to /Users/pagrawal/anaconda/bin\r\n"
       ]
      },
      {
       "output_type": "stream",
       "stream": "stdout",
       "text": [
        "Successfully installed cython\r\n",
        "Cleaning up...\r\n"
       ]
      }
     ],
     "prompt_number": 1
    },
    {
     "cell_type": "markdown",
     "metadata": {},
     "source": [
      "After the basic imports, we set up a logger to make output more readable.  This is especially useful for steps which may take a considerable length of time.  Fortunately, gensim makes liberal use of the logging module. (Deep learning can take a *long* time! Minutes, even)"
     ]
    },
    {
     "cell_type": "code",
     "collapsed": true,
     "input": [
      "import gensim, logging, multiprocessing, os.path, pickle\n",
      "\n",
      "logging.root.setLevel(logging.INFO)\n",
      "fmt = logging.Formatter('%(asctime)s : %(name)s : %(levelname)s : %(message)s')\n",
      "logging.root.handlers[0].setFormatter(fmt)\n",
      "logger = logging.getLogger('notebook')\n",
      "logger.info(\"logger initialized\")\n",
      "ncores = multiprocessing.cpu_count()\n",
      "logger.info(\"using %d cpus\" % ncores)"
     ],
     "language": "python",
     "metadata": {},
     "outputs": [
      {
       "output_type": "stream",
       "stream": "stderr",
       "text": [
        "2014-06-20 15:31:18,111 : notebook : INFO : logger initialized\n"
       ]
      },
      {
       "output_type": "stream",
       "stream": "stderr",
       "text": [
        "2014-06-20 15:31:18,114 : notebook : INFO : using 8 cpus\n"
       ]
      }
     ],
     "prompt_number": 3
    },
    {
     "cell_type": "heading",
     "level": 1,
     "metadata": {},
     "source": [
      "Attaining the Data"
     ]
    },
    {
     "cell_type": "markdown",
     "metadata": {},
     "source": [
      "The text we'll be using to generate our model comes from Wikipedia.  More specifically, it is a dump of the first billion ($10^9$ -- thus the name \"enwik9\") characters from Wikipedia (English edition) circa 2006.  Notice how IPython allows us to invoke bash directly within our python code."
     ]
    },
    {
     "cell_type": "code",
     "collapsed": false,
     "input": [
      "ext = lambda x : '.'.join([base_name,x])\n",
      "base_name = \"enwik9\""
     ],
     "language": "python",
     "metadata": {},
     "outputs": [],
     "prompt_number": 4
    },
    {
     "cell_type": "code",
     "collapsed": true,
     "input": [
      "zip_file = ext(\"zip\")\n",
      "logger.info(\"looking for data file %s\" % zip_file)\n",
      "if not os.path.isfile(zip_file):\n",
      "    logger.info(\"downloading data file\")\n",
      "    !wget http://mattmahoney.net/dc/$zip_file\n",
      "    logger.info(\"finished downloading\")\n",
      "file_details = !ls -lh $zip_file\n",
      "logger.info(file_details)"
     ],
     "language": "python",
     "metadata": {},
     "outputs": [
      {
       "output_type": "stream",
       "stream": "stderr",
       "text": [
        "2014-06-20 15:31:24,507 : notebook : INFO : looking for data file enwik9.zip\n"
       ]
      },
      {
       "output_type": "stream",
       "stream": "stderr",
       "text": [
        "2014-06-20 15:31:24,508 : notebook : INFO : downloading data file\n"
       ]
      },
      {
       "output_type": "stream",
       "stream": "stdout",
       "text": [
        "/bin/sh: wget: command not found\r\n"
       ]
      },
      {
       "output_type": "stream",
       "stream": "stderr",
       "text": [
        "2014-06-20 15:31:24,625 : notebook : INFO : finished downloading\n"
       ]
      },
      {
       "output_type": "stream",
       "stream": "stderr",
       "text": [
        "2014-06-20 15:31:24,637 : notebook : INFO : ['ls: enwik9.zip: No such file or directory']\n"
       ]
      }
     ],
     "prompt_number": 5
    },
    {
     "cell_type": "markdown",
     "metadata": {},
     "source": [
      "The raw data consists of the complete html contents of the extracted pages.  We're only interested in the actual text content of the articles, so we'll do some basic pre-processing to generate a simple text file consisting of one sentence per line, with all punctuation removed and digits transliterated (the skip-gram algorithm doesn't care about documents -- it models words strictly based on the words surrounding them).  We'll use a straightforward perl script to do all of our pre-processing.  IPython makes it easy to edit & save text to a file, regardless of the language used. "
     ]
    },
    {
     "cell_type": "code",
     "collapsed": true,
     "input": [
      "%%file wikifil.pl\n",
      "#!/usr/bin/perl\n",
      "\n",
      "# Program to filter Wikipedia XML dumps to \"clean\" text consisting only of lowercase\n",
      "# letters (a-z, converted from A-Z), and spaces (never consecutive).  \n",
      "# All other characters are converted to spaces.  Only text which normally appears \n",
      "# in the web browser is displayed.  Tables are removed.  Image captions are \n",
      "# preserved.  Links are converted to normal text.  Digits are spelled out.\n",
      "\n",
      "# Written by Matt Mahoney, June 10, 2006.  This program is released to the public domain.\n",
      "\n",
      "$/=\">\";                     # input record separator\n",
      "while (<>) {\n",
      "  if (/<text /) {$text=1;}  # remove all but between <text> ... </text>\n",
      "  if (/#redirect/i) {$text=0;}  # remove #REDIRECT\n",
      "  if ($text) {\n",
      "\n",
      "    # Remove any text not normally visible\n",
      "    if (/<\\/text>/) {$text=0;}\n",
      "    s/<.*>//;               # remove xml tags\n",
      "    s/&amp;/&/g;            # decode URL encoded chars\n",
      "    s/&lt;/</g;\n",
      "    s/&gt;/>/g;\n",
      "    s/<ref[^<]*<\\/ref>//g;  # remove references <ref...> ... </ref>\n",
      "    s/<[^>]*>//g;           # remove xhtml tags\n",
      "    s/\\[http:[^] ]*/[/g;    # remove normal url, preserve visible text\n",
      "    s/\\|thumb//ig;          # remove images links, preserve caption\n",
      "    s/\\|left//ig;\n",
      "    s/\\|right//ig;\n",
      "    s/\\|\\d+px//ig;\n",
      "    s/\\[\\[image:[^\\[\\]]*\\|//ig;\n",
      "    s/\\[\\[category:([^|\\]]*)[^]]*\\]\\]/[[$1]]/ig;  # show categories without markup\n",
      "    s/\\[\\[[a-z\\-]*:[^\\]]*\\]\\]//g;  # remove links to other languages\n",
      "    s/\\[\\[[^\\|\\]]*\\|/[[/g;  # remove wiki url, preserve visible text\n",
      "    s/{{[^}]*}}//g;         # remove {{icons}} and {tables}\n",
      "    s/{[^}]*}//g;\n",
      "    s/\\[//g;                # remove [ and ]\n",
      "    s/\\]//g;\n",
      "    s/&[^;]*;/ /g;          # remove URL encoded chars\n",
      "\n",
      "    # convert to lowercase letters and spaces, spell digits\n",
      "    $_=\" $_ \";\n",
      "    tr/A-Z/a-z/;\n",
      "    s/0/ zero /g;\n",
      "    s/1/ one /g;\n",
      "    s/2/ two /g;\n",
      "    s/3/ three /g;\n",
      "    s/4/ four /g;\n",
      "    s/5/ five /g;\n",
      "    s/6/ six /g;\n",
      "    s/7/ seven /g;\n",
      "    s/8/ eight /g;\n",
      "    s/9/ nine /g;\n",
      "    s/\\.\\s+/ xstopx /g;\n",
      "    tr/a-z/ /cs;\n",
      "    s/xstopx/\\n/g;\n",
      "    chop;\n",
      "    print $_;\n",
      "  }\n",
      "}"
     ],
     "language": "python",
     "metadata": {},
     "outputs": [
      {
       "output_type": "stream",
       "stream": "stdout",
       "text": [
        "Writing wikifil.pl\n"
       ]
      }
     ],
     "prompt_number": 6
    },
    {
     "cell_type": "code",
     "collapsed": true,
     "input": [
      "wiki_file = ext(\"txt\")\n",
      "logger.info(\"looking for simple text version of data\")\n",
      "if not os.path.isfile(wiki_file):\n",
      "    logger.info(\"pre-processing html into simple text\")\n",
      "    !unzip $zip_file && perl wikifil.pl $base_name > $wiki_file\n",
      "    !rm $base_name\n",
      "    logger.info(\"done pre-processing\")\n",
      "logger.info(\"using simple text file %s for training\" % wiki_file)"
     ],
     "language": "python",
     "metadata": {},
     "outputs": [
      {
       "output_type": "stream",
       "stream": "stderr",
       "text": [
        "2014-06-20 15:31:43,012 : notebook : INFO : looking for simple text version of data\n"
       ]
      },
      {
       "output_type": "stream",
       "stream": "stderr",
       "text": [
        "2014-06-20 15:31:43,013 : notebook : INFO : pre-processing html into simple text\n"
       ]
      },
      {
       "output_type": "stream",
       "stream": "stdout",
       "text": [
        "unzip:  cannot find or open enwik9.zip, enwik9.zip.zip or enwik9.zip.ZIP.\r\n"
       ]
      },
      {
       "output_type": "stream",
       "stream": "stdout",
       "text": [
        "rm: enwik9: No such file or directory\r\n"
       ]
      },
      {
       "output_type": "stream",
       "stream": "stderr",
       "text": [
        "2014-06-20 15:31:43,252 : notebook : INFO : done pre-processing\n"
       ]
      },
      {
       "output_type": "stream",
       "stream": "stderr",
       "text": [
        "2014-06-20 15:31:43,254 : notebook : INFO : using simple text file enwik9.txt for training\n"
       ]
      }
     ],
     "prompt_number": 7
    },
    {
     "cell_type": "markdown",
     "metadata": {},
     "source": [
      "Now that our text is pre-processed, it's ready to load into the model.  Gensim's corpus API is extremely simple and extensible -- it expects only an iterator over lists of tokens (each list is regarded as a document).  Rather than reading all the data into memory, we define a generator (lazy iterator) over our text file.  Actually, gensim already implements corpus readers to do this sort of thing (adding a lot more functionality in the bargain), but we'll roll our own just to demonstrate how simple it is.  If we wanted to get fancy and add additional pre-processing steps to our workflow (such as phrase detection, stemming, filtering, named-entity resolution, etc.), we only have to add this logic as decorators to the iterator."
     ]
    },
    {
     "cell_type": "code",
     "collapsed": true,
     "input": [
      "class LineSentences(object):\n",
      "    def __init__(self,filename):\n",
      "        self.filename = filename\n",
      "        \n",
      "    def __iter__(self):\n",
      "        with open(self.filename,\"r\") as f:\n",
      "            for line in f:\n",
      "                yield line.split()            "
     ],
     "language": "python",
     "metadata": {},
     "outputs": [],
     "prompt_number": 9
    },
    {
     "cell_type": "heading",
     "level": 1,
     "metadata": {},
     "source": [
      "Training the Model"
     ]
    },
    {
     "cell_type": "markdown",
     "metadata": {},
     "source": [
      "Now we're ready to build the model.  It's a simple matter of passing our data to new instance of a Word2Vec object (when data is provided by the constructor, the model is automatically trained).  We'll save the model to disk so we can use it again without retraining."
     ]
    },
    {
     "cell_type": "code",
     "collapsed": false,
     "input": [
      "corpus = LineSentences(wiki_file)\n",
      "model_file = ext(\"w2v\")\n",
      "if not os.path.isfile(model_file):\n",
      "    model = gensim.models.Word2Vec(corpus,workers=ncores)\n",
      "    model.save(model_file)\n",
      "else:\n",
      "    model = gensim.models.Word2Vec.load(model_file)"
     ],
     "language": "python",
     "metadata": {},
     "outputs": [
      {
       "output_type": "stream",
       "stream": "stderr",
       "text": [
        "2014-04-16 17:04:17,767 : gensim.utils : INFO : loading Word2Vec object from enwik9.w2v\n"
       ]
      },
      {
       "output_type": "stream",
       "stream": "stderr",
       "text": [
        "2014-04-16 17:04:20,838 : gensim.utils : INFO : loading syn0 from enwik9.w2v.syn0.npy with mmap=None\n"
       ]
      },
      {
       "output_type": "stream",
       "stream": "stderr",
       "text": [
        "2014-04-16 17:04:22,417 : gensim.utils : INFO : loading syn1 from enwik9.w2v.syn1.npy with mmap=None\n"
       ]
      },
      {
       "output_type": "stream",
       "stream": "stderr",
       "text": [
        "2014-04-16 17:04:23,723 : gensim.utils : INFO : setting ignored attribute syn0norm to None\n"
       ]
      }
     ],
     "prompt_number": 10
    },
    {
     "cell_type": "heading",
     "level": 1,
     "metadata": {},
     "source": [
      "Testing & Analysis"
     ]
    },
    {
     "cell_type": "markdown",
     "metadata": {},
     "source": [
      "Let's evaluate the model we just built.  Word2Vec's skip-gram algorithm is noted for its ability to embed semantic relationships between words in the learned vector model.  Appropriately, the test data is a series of word analogies (\"X is to Y as A is to B\") -- we'll see how well our model is able to pick the correct answer in a number of categories (this test file was created by the developers of the original word2vec project).  We'll save our evaluation results in order to generate some tables and plots with pandas."
     ]
    },
    {
     "cell_type": "code",
     "collapsed": false,
     "input": [
      "test_file = 'questions-words.txt'\n",
      "if not os.path.isfile(test_file):\n",
      "    !wget http://word2vec.googlecode.com/svn/trunk/$test_file\n",
      "!head $test_file\n",
      "results_file = ext('eval.pkl')\n",
      "if not os.path.isfile(results_file):\n",
      "    results = model.accuracy('questions-words.txt')\n",
      "    with open(results_file,'w') as f:\n",
      "        pickle.dump(results,f)\n",
      "else: \n",
      "    with open(results_file,'r') as f:\n",
      "        results = pickle.load(f)"
     ],
     "language": "python",
     "metadata": {},
     "outputs": [
      {
       "output_type": "stream",
       "stream": "stdout",
       "text": [
        ": capital-common-countries\r\n",
        "Athens Greece Baghdad Iraq\r\n",
        "Athens Greece Bangkok Thailand\r\n",
        "Athens Greece Beijing China\r\n",
        "Athens Greece Berlin Germany\r\n",
        "Athens Greece Bern Switzerland\r\n",
        "Athens Greece Cairo Egypt\r\n",
        "Athens Greece Canberra Australia\r\n",
        "Athens Greece Hanoi Vietnam\r\n",
        "Athens Greece Havana Cuba\r\n"
       ]
      },
      {
       "output_type": "stream",
       "stream": "stderr",
       "text": [
        "2014-04-16 17:04:24,474 : gensim.models.word2vec : INFO : precomputing L2-norms of word weight vectors\n"
       ]
      },
      {
       "output_type": "stream",
       "stream": "stderr",
       "text": [
        "2014-04-16 17:04:39,665 : gensim.models.word2vec : INFO : capital-common-countries: 70.9% (359/506)\n"
       ]
      },
      {
       "output_type": "stream",
       "stream": "stderr",
       "text": [
        "2014-04-16 17:05:27,609 : gensim.models.word2vec : INFO : capital-world: 48.0% (786/1636)\n"
       ]
      },
      {
       "output_type": "stream",
       "stream": "stderr",
       "text": [
        "2014-04-16 17:05:32,849 : gensim.models.word2vec : INFO : currency: 12.4% (22/178)\n"
       ]
      },
      {
       "output_type": "stream",
       "stream": "stderr",
       "text": [
        "2014-04-16 17:06:35,154 : gensim.models.word2vec : INFO : city-in-state: 19.0% (405/2133)\n"
       ]
      },
      {
       "output_type": "stream",
       "stream": "stderr",
       "text": [
        "2014-04-16 17:06:46,249 : gensim.models.word2vec : INFO : family: 70.0% (266/380)\n"
       ]
      },
      {
       "output_type": "stream",
       "stream": "stderr",
       "text": [
        "2014-04-16 17:07:10,140 : gensim.models.word2vec : INFO : gram1-adjective-to-adverb: 12.9% (105/812)\n"
       ]
      },
      {
       "output_type": "stream",
       "stream": "stderr",
       "text": [
        "2014-04-16 17:07:20,463 : gensim.models.word2vec : INFO : gram2-opposite: 26.6% (91/342)\n"
       ]
      },
      {
       "output_type": "stream",
       "stream": "stderr",
       "text": [
        "2014-04-16 17:07:57,957 : gensim.models.word2vec : INFO : gram3-comparative: 54.7% (689/1260)\n"
       ]
      },
      {
       "output_type": "stream",
       "stream": "stderr",
       "text": [
        "2014-04-16 17:08:12,784 : gensim.models.word2vec : INFO : gram4-superlative: 33.4% (169/506)\n"
       ]
      },
      {
       "output_type": "stream",
       "stream": "stderr",
       "text": [
        "2014-04-16 17:08:39,977 : gensim.models.word2vec : INFO : gram5-present-participle: 33.7% (313/930)\n"
       ]
      },
      {
       "output_type": "stream",
       "stream": "stderr",
       "text": [
        "2014-04-16 17:09:20,001 : gensim.models.word2vec : INFO : gram6-nationality-adjective: 60.2% (825/1371)\n"
       ]
      },
      {
       "output_type": "stream",
       "stream": "stderr",
       "text": [
        "2014-04-16 17:09:58,932 : gensim.models.word2vec : INFO : gram7-past-tense: 34.3% (457/1332)\n"
       ]
      },
      {
       "output_type": "stream",
       "stream": "stderr",
       "text": [
        "2014-04-16 17:10:29,824 : gensim.models.word2vec : INFO : gram8-plural: 42.8% (452/1056)\n"
       ]
      },
      {
       "output_type": "stream",
       "stream": "stderr",
       "text": [
        "2014-04-16 17:10:50,355 : gensim.models.word2vec : INFO : gram9-plural-verbs: 38.5% (270/702)\n"
       ]
      },
      {
       "output_type": "stream",
       "stream": "stderr",
       "text": [
        "2014-04-16 17:10:50,356 : gensim.models.word2vec : INFO : total: 39.6% (5209/13144)\n"
       ]
      }
     ],
     "prompt_number": 11
    },
    {
     "cell_type": "code",
     "collapsed": false,
     "input": [
      "results"
     ],
     "language": "python",
     "metadata": {},
     "outputs": [
      {
       "metadata": {},
       "output_type": "pyout",
       "prompt_number": 12,
       "text": [
        "[{'correct': 359, 'incorrect': 147, 'section': 'capital-common-countries'},\n",
        " {'correct': 786, 'incorrect': 850, 'section': 'capital-world'},\n",
        " {'correct': 22, 'incorrect': 156, 'section': 'currency'},\n",
        " {'correct': 405, 'incorrect': 1728, 'section': 'city-in-state'},\n",
        " {'correct': 266, 'incorrect': 114, 'section': 'family'},\n",
        " {'correct': 105, 'incorrect': 707, 'section': 'gram1-adjective-to-adverb'},\n",
        " {'correct': 91, 'incorrect': 251, 'section': 'gram2-opposite'},\n",
        " {'correct': 689, 'incorrect': 571, 'section': 'gram3-comparative'},\n",
        " {'correct': 169, 'incorrect': 337, 'section': 'gram4-superlative'},\n",
        " {'correct': 313, 'incorrect': 617, 'section': 'gram5-present-participle'},\n",
        " {'correct': 825, 'incorrect': 546, 'section': 'gram6-nationality-adjective'},\n",
        " {'correct': 457, 'incorrect': 875, 'section': 'gram7-past-tense'},\n",
        " {'correct': 452, 'incorrect': 604, 'section': 'gram8-plural'},\n",
        " {'correct': 270, 'incorrect': 432, 'section': 'gram9-plural-verbs'},\n",
        " {'correct': 5209, 'incorrect': 7935, 'section': 'total'}]"
       ]
      }
     ],
     "prompt_number": 12
    },
    {
     "cell_type": "code",
     "collapsed": false,
     "input": [
      "import pandas as pd\n",
      "\n",
      "pd.set_option('display.mpl_style','default')\n",
      "figsize(15,5)\n",
      "\n",
      "pd.set_option('display.line_width',5000)"
     ],
     "language": "python",
     "metadata": {},
     "outputs": [],
     "prompt_number": 13
    },
    {
     "cell_type": "code",
     "collapsed": false,
     "input": [
      "xfield = lambda l,k: [d[k] for d in l]\n",
      "df = pd.DataFrame(results, columns=['correct','incorrect'], index=xfield(results,'section'))\n",
      "df"
     ],
     "language": "python",
     "metadata": {},
     "outputs": [
      {
       "html": [
        "<div style=\"max-height:1000px;max-width:1500px;overflow:auto;\">\n",
        "<table border=\"1\" class=\"dataframe\">\n",
        "  <thead>\n",
        "    <tr style=\"text-align: right;\">\n",
        "      <th></th>\n",
        "      <th>correct</th>\n",
        "      <th>incorrect</th>\n",
        "    </tr>\n",
        "  </thead>\n",
        "  <tbody>\n",
        "    <tr>\n",
        "      <th>capital-common-countries</th>\n",
        "      <td>  359</td>\n",
        "      <td>  147</td>\n",
        "    </tr>\n",
        "    <tr>\n",
        "      <th>capital-world</th>\n",
        "      <td>  786</td>\n",
        "      <td>  850</td>\n",
        "    </tr>\n",
        "    <tr>\n",
        "      <th>currency</th>\n",
        "      <td>   22</td>\n",
        "      <td>  156</td>\n",
        "    </tr>\n",
        "    <tr>\n",
        "      <th>city-in-state</th>\n",
        "      <td>  405</td>\n",
        "      <td> 1728</td>\n",
        "    </tr>\n",
        "    <tr>\n",
        "      <th>family</th>\n",
        "      <td>  266</td>\n",
        "      <td>  114</td>\n",
        "    </tr>\n",
        "    <tr>\n",
        "      <th>gram1-adjective-to-adverb</th>\n",
        "      <td>  105</td>\n",
        "      <td>  707</td>\n",
        "    </tr>\n",
        "    <tr>\n",
        "      <th>gram2-opposite</th>\n",
        "      <td>   91</td>\n",
        "      <td>  251</td>\n",
        "    </tr>\n",
        "    <tr>\n",
        "      <th>gram3-comparative</th>\n",
        "      <td>  689</td>\n",
        "      <td>  571</td>\n",
        "    </tr>\n",
        "    <tr>\n",
        "      <th>gram4-superlative</th>\n",
        "      <td>  169</td>\n",
        "      <td>  337</td>\n",
        "    </tr>\n",
        "    <tr>\n",
        "      <th>gram5-present-participle</th>\n",
        "      <td>  313</td>\n",
        "      <td>  617</td>\n",
        "    </tr>\n",
        "    <tr>\n",
        "      <th>gram6-nationality-adjective</th>\n",
        "      <td>  825</td>\n",
        "      <td>  546</td>\n",
        "    </tr>\n",
        "    <tr>\n",
        "      <th>gram7-past-tense</th>\n",
        "      <td>  457</td>\n",
        "      <td>  875</td>\n",
        "    </tr>\n",
        "    <tr>\n",
        "      <th>gram8-plural</th>\n",
        "      <td>  452</td>\n",
        "      <td>  604</td>\n",
        "    </tr>\n",
        "    <tr>\n",
        "      <th>gram9-plural-verbs</th>\n",
        "      <td>  270</td>\n",
        "      <td>  432</td>\n",
        "    </tr>\n",
        "    <tr>\n",
        "      <th>total</th>\n",
        "      <td> 5209</td>\n",
        "      <td> 7935</td>\n",
        "    </tr>\n",
        "  </tbody>\n",
        "</table>\n",
        "<p>15 rows \u00d7 2 columns</p>\n",
        "</div>"
       ],
       "metadata": {},
       "output_type": "pyout",
       "prompt_number": 14,
       "text": [
        "                             correct  incorrect\n",
        "capital-common-countries         359        147\n",
        "capital-world                    786        850\n",
        "currency                          22        156\n",
        "city-in-state                    405       1728\n",
        "family                           266        114\n",
        "gram1-adjective-to-adverb        105        707\n",
        "gram2-opposite                    91        251\n",
        "gram3-comparative                689        571\n",
        "gram4-superlative                169        337\n",
        "gram5-present-participle         313        617\n",
        "gram6-nationality-adjective      825        546\n",
        "gram7-past-tense                 457        875\n",
        "gram8-plural                     452        604\n",
        "gram9-plural-verbs               270        432\n",
        "total                           5209       7935\n",
        "\n",
        "[15 rows x 2 columns]"
       ]
      }
     ],
     "prompt_number": 14
    },
    {
     "cell_type": "code",
     "collapsed": false,
     "input": [
      "df[df.index != 'total'].plot(kind='barh',stacked=True)"
     ],
     "language": "python",
     "metadata": {},
     "outputs": [
      {
       "metadata": {},
       "output_type": "pyout",
       "prompt_number": 15,
       "text": [
        "<matplotlib.axes.AxesSubplot at 0x15795a50>"
       ]
      },
      {
       "output_type": "stream",
       "stream": "stderr",
       "text": [
        "/home/tschimoler/local/v1/lib/python2.7/site-packages/matplotlib/font_manager.py:1236: UserWarning: findfont: Font family ['monospace'] not found. Falling back to Bitstream Vera Sans\n",
        "  (prop.get_family(), self.defaultFamily[fontext]))\n"
       ]
      },
      {
       "metadata": {},
       "output_type": "display_data",
       "png": "[encoded data removed]",
       "text": [
        "<matplotlib.figure.Figure at 0x5060b50>"
       ]
      }
     ],
     "prompt_number": 15
    },
    {
     "cell_type": "code",
     "collapsed": false,
     "input": [
      "df['acc'] = 100.0 * df.correct / (df.correct + df.incorrect)\n",
      "df.acc.plot(kind='barh')"
     ],
     "language": "python",
     "metadata": {},
     "outputs": [
      {
       "metadata": {},
       "output_type": "pyout",
       "prompt_number": 16,
       "text": [
        "<matplotlib.axes.AxesSubplot at 0x15afa9d0>"
       ]
      },
      {
       "metadata": {},
       "output_type": "display_data",
       "png": "[encoded data removed]",
       "text": [
        "<matplotlib.figure.Figure at 0x15a99d90>"
       ]
      }
     ],
     "prompt_number": 16
    },
    {
     "cell_type": "code",
     "collapsed": false,
     "input": [
      "%load_ext rmagic"
     ],
     "language": "python",
     "metadata": {},
     "outputs": [
      {
       "output_type": "stream",
       "stream": "stdout",
       "text": [
        "The rmagic extension is already loaded. To reload it, use:\n",
        "  %reload_ext rmagic\n"
       ]
      }
     ],
     "prompt_number": 17
    },
    {
     "cell_type": "code",
     "collapsed": false,
     "input": [
      "%%R -i df\n",
      "print(summary(df$acc))\n",
      "library(ggplot2)\n",
      "p <- ggplot(df,aes(rownames(df),acc)) + geom_bar(stat=\"identity\") + coord_flip()\n",
      "print(p)"
     ],
     "language": "python",
     "metadata": {},
     "outputs": [
      {
       "metadata": {},
       "output_type": "display_data",
       "text": [
        "   Min. 1st Qu.  Median    Mean 3rd Qu.    Max. \n",
        "  12.36   30.00   38.46   39.80   51.36   70.95 \n"
       ]
      },
      {
       "metadata": {},
       "output_type": "display_data",
       "png": "[encoded data removed]"
      }
     ],
     "prompt_number": 28
    },
    {
     "cell_type": "code",
     "collapsed": false,
     "input": [
      "gn_file = !ls GoogleNews*\n",
      "gn_file = gn_file[0]"
     ],
     "language": "python",
     "metadata": {},
     "outputs": [
      {
       "ename": "SyntaxError",
       "evalue": "invalid syntax (<ipython-input-37-e868319f3666>, line 1)",
       "output_type": "pyerr",
       "traceback": [
        "\u001b[1;36m  File \u001b[1;32m\"<ipython-input-37-e868319f3666>\"\u001b[1;36m, line \u001b[1;32m1\u001b[0m\n\u001b[1;33m    gn_file = (!ls GoogleNews*)[0]\u001b[0m\n\u001b[1;37m               ^\u001b[0m\n\u001b[1;31mSyntaxError\u001b[0m\u001b[1;31m:\u001b[0m invalid syntax\n"
       ]
      }
     ],
     "prompt_number": 37
    },
    {
     "cell_type": "code",
     "collapsed": false,
     "input": [
      "model_gn = gensim.models.Word2Vec.load_word2vec_format(gn_file,binary=True)"
     ],
     "language": "python",
     "metadata": {},
     "outputs": [
      {
       "output_type": "stream",
       "stream": "stderr",
       "text": [
        "2014-04-17 11:40:42,345 : gensim.models.word2vec : INFO : loading projection weights from ['GoogleNews-vectors-negative300.bin.gz']\n"
       ]
      },
      {
       "ename": "AttributeError",
       "evalue": "'SList' object has no attribute 'rfind'",
       "output_type": "pyerr",
       "traceback": [
        "\u001b[1;31m---------------------------------------------------------------------------\u001b[0m\n\u001b[1;31mAttributeError\u001b[0m                            Traceback (most recent call last)",
        "\u001b[1;32m<ipython-input-30-bdeda871fee2>\u001b[0m in \u001b[0;36m<module>\u001b[1;34m()\u001b[0m\n\u001b[0;32m      1\u001b[0m \u001b[0mgn_file\u001b[0m \u001b[1;33m=\u001b[0m \u001b[0mget_ipython\u001b[0m\u001b[1;33m(\u001b[0m\u001b[1;33m)\u001b[0m\u001b[1;33m.\u001b[0m\u001b[0mgetoutput\u001b[0m\u001b[1;33m(\u001b[0m\u001b[1;34mu'ls GoogleNews*'\u001b[0m\u001b[1;33m)\u001b[0m\u001b[1;33m\u001b[0m\u001b[0m\n\u001b[1;32m----> 2\u001b[1;33m \u001b[0mmodel_gn\u001b[0m \u001b[1;33m=\u001b[0m \u001b[0mgensim\u001b[0m\u001b[1;33m.\u001b[0m\u001b[0mmodels\u001b[0m\u001b[1;33m.\u001b[0m\u001b[0mWord2Vec\u001b[0m\u001b[1;33m.\u001b[0m\u001b[0mload_word2vec_format\u001b[0m\u001b[1;33m(\u001b[0m\u001b[0mgn_file\u001b[0m\u001b[1;33m,\u001b[0m\u001b[0mbinary\u001b[0m\u001b[1;33m=\u001b[0m\u001b[0mTrue\u001b[0m\u001b[1;33m)\u001b[0m\u001b[1;33m\u001b[0m\u001b[0m\n\u001b[0m",
        "\u001b[1;32m/home/tschimoler/local/v1/lib/python2.7/site-packages/gensim/models/word2vec.pyc\u001b[0m in \u001b[0;36mload_word2vec_format\u001b[1;34m(cls, fname, fvocab, binary, norm_only)\u001b[0m\n\u001b[0;32m    420\u001b[0m \u001b[1;33m\u001b[0m\u001b[0m\n\u001b[0;32m    421\u001b[0m         \u001b[0mlogger\u001b[0m\u001b[1;33m.\u001b[0m\u001b[0minfo\u001b[0m\u001b[1;33m(\u001b[0m\u001b[1;34m\"loading projection weights from %s\"\u001b[0m \u001b[1;33m%\u001b[0m \u001b[1;33m(\u001b[0m\u001b[0mfname\u001b[0m\u001b[1;33m)\u001b[0m\u001b[1;33m)\u001b[0m\u001b[1;33m\u001b[0m\u001b[0m\n\u001b[1;32m--> 422\u001b[1;33m         \u001b[1;32mwith\u001b[0m \u001b[0mutils\u001b[0m\u001b[1;33m.\u001b[0m\u001b[0msmart_open\u001b[0m\u001b[1;33m(\u001b[0m\u001b[0mfname\u001b[0m\u001b[1;33m,\u001b[0m \u001b[1;34m'rb'\u001b[0m\u001b[1;33m)\u001b[0m \u001b[1;32mas\u001b[0m \u001b[0mfin\u001b[0m\u001b[1;33m:\u001b[0m\u001b[1;33m\u001b[0m\u001b[0m\n\u001b[0m\u001b[0;32m    423\u001b[0m             \u001b[0mheader\u001b[0m \u001b[1;33m=\u001b[0m \u001b[0mfin\u001b[0m\u001b[1;33m.\u001b[0m\u001b[0mreadline\u001b[0m\u001b[1;33m(\u001b[0m\u001b[1;33m)\u001b[0m\u001b[1;33m\u001b[0m\u001b[0m\n\u001b[0;32m    424\u001b[0m             \u001b[0mvocab_size\u001b[0m\u001b[1;33m,\u001b[0m \u001b[0mlayer1_size\u001b[0m \u001b[1;33m=\u001b[0m \u001b[0mmap\u001b[0m\u001b[1;33m(\u001b[0m\u001b[0mint\u001b[0m\u001b[1;33m,\u001b[0m \u001b[0mheader\u001b[0m\u001b[1;33m.\u001b[0m\u001b[0msplit\u001b[0m\u001b[1;33m(\u001b[0m\u001b[1;33m)\u001b[0m\u001b[1;33m)\u001b[0m  \u001b[1;31m# throws for invalid file format\u001b[0m\u001b[1;33m\u001b[0m\u001b[0m\n",
        "\u001b[1;32m/home/tschimoler/local/v1/lib/python2.7/site-packages/gensim/utils.pyc\u001b[0m in \u001b[0;36msmart_open\u001b[1;34m(fname, mode)\u001b[0m\n\u001b[0;32m    594\u001b[0m     \u001b[1;32mfrom\u001b[0m \u001b[0mos\u001b[0m \u001b[1;32mimport\u001b[0m \u001b[0mpath\u001b[0m\u001b[1;33m\u001b[0m\u001b[0m\n\u001b[0;32m    595\u001b[0m \u001b[1;33m\u001b[0m\u001b[0m\n\u001b[1;32m--> 596\u001b[1;33m     \u001b[0m_\u001b[0m\u001b[1;33m,\u001b[0m \u001b[0mext\u001b[0m \u001b[1;33m=\u001b[0m \u001b[0mpath\u001b[0m\u001b[1;33m.\u001b[0m\u001b[0msplitext\u001b[0m\u001b[1;33m(\u001b[0m\u001b[0mfname\u001b[0m\u001b[1;33m)\u001b[0m\u001b[1;33m\u001b[0m\u001b[0m\n\u001b[0m\u001b[0;32m    597\u001b[0m     \u001b[1;32mif\u001b[0m \u001b[0mext\u001b[0m \u001b[1;33m==\u001b[0m \u001b[1;34m'.bz2'\u001b[0m\u001b[1;33m:\u001b[0m\u001b[1;33m\u001b[0m\u001b[0m\n\u001b[0;32m    598\u001b[0m         \u001b[1;32mfrom\u001b[0m \u001b[0mbz2\u001b[0m \u001b[1;32mimport\u001b[0m \u001b[0mBZ2File\u001b[0m\u001b[1;33m\u001b[0m\u001b[0m\n",
        "\u001b[1;32m/home/tschimoler/local/v1/lib/python2.7/posixpath.pyc\u001b[0m in \u001b[0;36msplitext\u001b[1;34m(p)\u001b[0m\n\u001b[0;32m    103\u001b[0m \u001b[1;33m\u001b[0m\u001b[0m\n\u001b[0;32m    104\u001b[0m \u001b[1;32mdef\u001b[0m \u001b[0msplitext\u001b[0m\u001b[1;33m(\u001b[0m\u001b[0mp\u001b[0m\u001b[1;33m)\u001b[0m\u001b[1;33m:\u001b[0m\u001b[1;33m\u001b[0m\u001b[0m\n\u001b[1;32m--> 105\u001b[1;33m     \u001b[1;32mreturn\u001b[0m \u001b[0mgenericpath\u001b[0m\u001b[1;33m.\u001b[0m\u001b[0m_splitext\u001b[0m\u001b[1;33m(\u001b[0m\u001b[0mp\u001b[0m\u001b[1;33m,\u001b[0m \u001b[0msep\u001b[0m\u001b[1;33m,\u001b[0m \u001b[0maltsep\u001b[0m\u001b[1;33m,\u001b[0m \u001b[0mextsep\u001b[0m\u001b[1;33m)\u001b[0m\u001b[1;33m\u001b[0m\u001b[0m\n\u001b[0m\u001b[0;32m    106\u001b[0m \u001b[0msplitext\u001b[0m\u001b[1;33m.\u001b[0m\u001b[0m__doc__\u001b[0m \u001b[1;33m=\u001b[0m \u001b[0mgenericpath\u001b[0m\u001b[1;33m.\u001b[0m\u001b[0m_splitext\u001b[0m\u001b[1;33m.\u001b[0m\u001b[0m__doc__\u001b[0m\u001b[1;33m\u001b[0m\u001b[0m\n\u001b[0;32m    107\u001b[0m \u001b[1;33m\u001b[0m\u001b[0m\n",
        "\u001b[1;32m/home/tschimoler/local/v1/lib/python2.7/genericpath.pyc\u001b[0m in \u001b[0;36m_splitext\u001b[1;34m(p, sep, altsep, extsep)\u001b[0m\n\u001b[0;32m     89\u001b[0m     leading dots.  Returns \"(root, ext)\"; ext may be empty.\"\"\"\n\u001b[0;32m     90\u001b[0m \u001b[1;33m\u001b[0m\u001b[0m\n\u001b[1;32m---> 91\u001b[1;33m     \u001b[0msepIndex\u001b[0m \u001b[1;33m=\u001b[0m \u001b[0mp\u001b[0m\u001b[1;33m.\u001b[0m\u001b[0mrfind\u001b[0m\u001b[1;33m(\u001b[0m\u001b[0msep\u001b[0m\u001b[1;33m)\u001b[0m\u001b[1;33m\u001b[0m\u001b[0m\n\u001b[0m\u001b[0;32m     92\u001b[0m     \u001b[1;32mif\u001b[0m \u001b[0maltsep\u001b[0m\u001b[1;33m:\u001b[0m\u001b[1;33m\u001b[0m\u001b[0m\n\u001b[0;32m     93\u001b[0m         \u001b[0maltsepIndex\u001b[0m \u001b[1;33m=\u001b[0m \u001b[0mp\u001b[0m\u001b[1;33m.\u001b[0m\u001b[0mrfind\u001b[0m\u001b[1;33m(\u001b[0m\u001b[0maltsep\u001b[0m\u001b[1;33m)\u001b[0m\u001b[1;33m\u001b[0m\u001b[0m\n",
        "\u001b[1;31mAttributeError\u001b[0m: 'SList' object has no attribute 'rfind'"
       ]
      }
     ],
     "prompt_number": 30
    },
    {
     "cell_type": "code",
     "collapsed": false,
     "input": [
      "gensim.utils.smart_open??"
     ],
     "language": "python",
     "metadata": {},
     "outputs": [],
     "prompt_number": 32
    }
   ],
   "metadata": {}
  }
 ]
}