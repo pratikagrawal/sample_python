{
 "metadata": {
  "name": "",
  "signature": "sha256:1383db65d5eab06f966628880b34a72d7f7fb88efd8050271bdabad383e9003d"
 },
 "nbformat": 3,
 "nbformat_minor": 0,
 "worksheets": [
  {
   "cells": [
    {
     "cell_type": "markdown",
     "metadata": {},
     "source": [
      "#Agenda\n",
      "\n",
      "- Define the problem and the approach\n",
      "- Data basics: loading data, looking at your data, basic commands\n",
      "- <p style=\"color: red\">Handling missing values</p>\n",
      "- Intro to scikit-learn\n",
      "- Grouping and aggregating data\n",
      "- Feature selection\n",
      "- Fitting and evaluating a model\n",
      "- Deploying your work"
     ]
    },
    {
     "cell_type": "markdown",
     "metadata": {},
     "source": [
      "#In this workbook you will\n",
      "- Learn about imputation and what it's used for\n",
      "- Use the KNearestNeighbors algorithm to impute data\n",
      "- Come up with your own imputation strategy"
     ]
    },
    {
     "cell_type": "markdown",
     "metadata": {},
     "source": [
      "#Imputation\n",
      "Imputation is fairly intuitive. For the missing data in our dataset, we're going to replace it with values that come from similar records in our dataset that aren't null.\n",
      "To do this we're going to use the NearestNeighbors algorithm."
     ]
    },
    {
     "cell_type": "code",
     "collapsed": false,
     "input": [
      "import pandas as pd\n",
      "import numpy as np\n",
      "import pylab as pl"
     ],
     "language": "python",
     "metadata": {},
     "outputs": []
    },
    {
     "cell_type": "code",
     "collapsed": false,
     "input": [
      "df = pd.read_csv(\"./data/credit-data-post-import.csv\")"
     ],
     "language": "python",
     "metadata": {},
     "outputs": []
    },
    {
     "cell_type": "markdown",
     "metadata": {},
     "source": [
      "##Cross Validation\n",
      "We're going to use the simplest type of cross validation. we'll simply split our data into 2 groups: training and test. we'll use the training set to calibrate our model and then use the test set to  evaluate how effective it is."
     ]
    },
    {
     "cell_type": "code",
     "collapsed": false,
     "input": [
      "is_test = np.random.uniform(0, 1, len(df)) > 0.75\n",
      "train = df[is_test==False]\n",
      "test = df[is_test==True]"
     ],
     "language": "python",
     "metadata": {},
     "outputs": []
    },
    {
     "cell_type": "code",
     "collapsed": false,
     "input": [
      "len(train), len(test)"
     ],
     "language": "python",
     "metadata": {},
     "outputs": []
    },
    {
     "cell_type": "markdown",
     "metadata": {},
     "source": [
      "##Be sure to calibrate the imputation with the training set"
     ]
    },
    {
     "cell_type": "code",
     "collapsed": false,
     "input": [
      "from sklearn.neighbors import KNeighborsRegressor\n",
      "\n",
      "income_imputer = KNeighborsRegressor(n_neighbors=1)\n",
      "\n",
      "#split our data into 2 groups; data containing nulls and data \n",
      "# not containing nulls we'll train on the latter and make\n",
      "# 'predictions' on the null data to impute monthly_income\n",
      "train_w_monthly_income = train[train.monthly_income.isnull()==False]\n",
      "train_w_null_monthly_income = train[train.monthly_income.isnull()==True]"
     ],
     "language": "python",
     "metadata": {},
     "outputs": []
    },
    {
     "cell_type": "code",
     "collapsed": false,
     "input": [
      "train_w_monthly_income.corr()"
     ],
     "language": "python",
     "metadata": {},
     "outputs": []
    },
    {
     "cell_type": "code",
     "collapsed": false,
     "input": [
      "train_w_monthly_income.corr().ix[:,5]"
     ],
     "language": "python",
     "metadata": {},
     "outputs": []
    },
    {
     "cell_type": "code",
     "collapsed": false,
     "input": [
      "cols = ['number_real_estate_loans_or_lines', 'number_of_open_credit_lines_and_loans']\n",
      "income_imputer.fit(train_w_monthly_income[cols], train_w_monthly_income.monthly_income)"
     ],
     "language": "python",
     "metadata": {},
     "outputs": []
    },
    {
     "cell_type": "markdown",
     "metadata": {},
     "source": [
      "##Replace the mising values"
     ]
    },
    {
     "cell_type": "code",
     "collapsed": false,
     "input": [
      "new_values = income_imputer.predict(train_w_null_monthly_income[cols])\n"
     ],
     "language": "python",
     "metadata": {},
     "outputs": []
    },
    {
     "cell_type": "code",
     "collapsed": false,
     "input": [
      "train_w_null_monthly_income['monthly_income'] = new_values\n",
      "new_values"
     ],
     "language": "python",
     "metadata": {},
     "outputs": []
    },
    {
     "cell_type": "code",
     "collapsed": false,
     "input": [
      "#combine the data back together\n",
      "train = train_w_monthly_income.append(train_w_null_monthly_income)\n",
      "len(train)"
     ],
     "language": "python",
     "metadata": {},
     "outputs": []
    },
    {
     "cell_type": "code",
     "collapsed": false,
     "input": [
      "test['monthly_income_imputed'] = income_imputer.predict(test[cols])\n",
      "test.head()"
     ],
     "language": "python",
     "metadata": {},
     "outputs": []
    },
    {
     "cell_type": "code",
     "collapsed": false,
     "input": [
      "test['monthly_income'] = np.where(test.monthly_income.isnull(), test.monthly_income_imputed,\n",
      "                                  test.monthly_income)"
     ],
     "language": "python",
     "metadata": {},
     "outputs": []
    },
    {
     "cell_type": "code",
     "collapsed": false,
     "input": [
      "print pd.value_counts(train.monthly_income.isnull())\n",
      "print pd.value_counts(test.monthly_income.isnull())"
     ],
     "language": "python",
     "metadata": {},
     "outputs": []
    },
    {
     "cell_type": "code",
     "collapsed": false,
     "input": [
      "train.to_csv(\"./data/credit-data-trainingset.csv\", index=False)\n",
      "test.to_csv(\"./data/credit-data-testset.csv\", index=False)"
     ],
     "language": "python",
     "metadata": {},
     "outputs": []
    },
    {
     "cell_type": "markdown",
     "metadata": {},
     "source": [
      "##Trying your own imputation strategy\n",
      "Partner with the person next to you and think of other ways you might be able to impute missing valus for the `monthly_income` column.\n",
      "\n",
      "Things to consider:\n",
      "\n",
      "- Are `number_of_open_credit_lines_and_loans` and `number_real_estate_loans_or_lines` the best predictors?\n",
      "- What are some other methods you could use for replacing nulls?\n",
      "- What about handling outlying values? Should a montly income of $3MM be treated as missing?\n",
      "- Check out the [scikit-learn docs](http://scikit-learn.org/stable/auto_examples/imputation.html) for more examples\n",
      "- How might you evaluate the effectiveness of your imputation?"
     ]
    },
    {
     "cell_type": "markdown",
     "metadata": {},
     "source": [
      "##We just did the following\n",
      "\n",
      "- Split our data into a training set for building our model and a test set for evaluating its performance\n",
      "- Used KNearestNeighbors to fill in missing values for `monthly_income`"
     ]
    },
    {
     "cell_type": "code",
     "collapsed": false,
     "input": [],
     "language": "python",
     "metadata": {},
     "outputs": []
    }
   ],
   "metadata": {}
  }
 ]
}