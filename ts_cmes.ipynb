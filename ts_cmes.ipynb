{
 "metadata": {
  "name": "",
  "signature": "sha256:a8641f8843d2afa7a64d333f2c22dbc0ff5fc3a19c14c1ea9cb99350919d765f"
 },
 "nbformat": 3,
 "nbformat_minor": 0,
 "worksheets": [
  {
   "cells": [
    {
     "cell_type": "heading",
     "level": 1,
     "metadata": {},
     "source": [
      "Imputing TS for CME Seat Prices"
     ]
    },
    {
     "cell_type": "heading",
     "level": 4,
     "metadata": {},
     "source": [
      "Import Pandas for Data Frame functionality similar to R"
     ]
    },
    {
     "cell_type": "code",
     "collapsed": false,
     "input": [
      "import pandas as pd"
     ],
     "language": "python",
     "metadata": {},
     "outputs": [],
     "prompt_number": 2
    },
    {
     "cell_type": "heading",
     "level": 4,
     "metadata": {},
     "source": [
      "Read CSV and parse the dates for use with datetime library"
     ]
    },
    {
     "cell_type": "code",
     "collapsed": false,
     "input": [
      "ts_frame = pd.read_csv('/Users/pagrawal/Documents/Personal/OneDrive/Documents/MS-A/TimeSeriesForecasting/Assignments/FinalProject/ibm.csv', parse_dates=True, sep=',')"
     ],
     "language": "python",
     "metadata": {},
     "outputs": [],
     "prompt_number": 15
    },
    {
     "cell_type": "heading",
     "level": 4,
     "metadata": {},
     "source": [
      "View the contents of the csv stored in the ts_frame (data frame)"
     ]
    },
    {
     "cell_type": "code",
     "collapsed": false,
     "input": [
      "ts_frame.head(10)"
     ],
     "language": "python",
     "metadata": {},
     "outputs": [
      {
       "html": [
        "<div style=\"max-height:1000px;max-width:1500px;overflow:auto;\">\n",
        "<table border=\"1\" class=\"dataframe\">\n",
        "  <thead>\n",
        "    <tr style=\"text-align: right;\">\n",
        "      <th></th>\n",
        "      <th>Date</th>\n",
        "      <th>Open</th>\n",
        "      <th>High</th>\n",
        "      <th>Low</th>\n",
        "      <th>Close</th>\n",
        "      <th>Volume</th>\n",
        "      <th>AdjClose</th>\n",
        "    </tr>\n",
        "  </thead>\n",
        "  <tbody>\n",
        "    <tr>\n",
        "      <th>0</th>\n",
        "      <td>  12/5/2014</td>\n",
        "      <td> 163.61</td>\n",
        "      <td> 164.50</td>\n",
        "      <td> 162.91</td>\n",
        "      <td> 163.27</td>\n",
        "      <td> 3010400</td>\n",
        "      <td> 163.27</td>\n",
        "    </tr>\n",
        "    <tr>\n",
        "      <th>1</th>\n",
        "      <td>  12/4/2014</td>\n",
        "      <td> 164.01</td>\n",
        "      <td> 164.50</td>\n",
        "      <td> 163.01</td>\n",
        "      <td> 164.05</td>\n",
        "      <td> 3859400</td>\n",
        "      <td> 164.05</td>\n",
        "    </tr>\n",
        "    <tr>\n",
        "      <th>2</th>\n",
        "      <td>  12/3/2014</td>\n",
        "      <td> 162.47</td>\n",
        "      <td> 164.52</td>\n",
        "      <td> 162.00</td>\n",
        "      <td> 164.52</td>\n",
        "      <td> 6429100</td>\n",
        "      <td> 164.52</td>\n",
        "    </tr>\n",
        "    <tr>\n",
        "      <th>3</th>\n",
        "      <td>  12/2/2014</td>\n",
        "      <td> 162.47</td>\n",
        "      <td> 162.73</td>\n",
        "      <td> 161.64</td>\n",
        "      <td> 162.67</td>\n",
        "      <td> 3464100</td>\n",
        "      <td> 162.67</td>\n",
        "    </tr>\n",
        "    <tr>\n",
        "      <th>4</th>\n",
        "      <td>  12/1/2014</td>\n",
        "      <td> 161.64</td>\n",
        "      <td> 163.32</td>\n",
        "      <td> 161.35</td>\n",
        "      <td> 161.54</td>\n",
        "      <td> 4168400</td>\n",
        "      <td> 161.54</td>\n",
        "    </tr>\n",
        "    <tr>\n",
        "      <th>5</th>\n",
        "      <td> 11/28/2014</td>\n",
        "      <td> 162.75</td>\n",
        "      <td> 163.37</td>\n",
        "      <td> 161.44</td>\n",
        "      <td> 162.17</td>\n",
        "      <td> 2405500</td>\n",
        "      <td> 162.17</td>\n",
        "    </tr>\n",
        "    <tr>\n",
        "      <th>6</th>\n",
        "      <td> 11/26/2014</td>\n",
        "      <td> 161.93</td>\n",
        "      <td> 162.10</td>\n",
        "      <td> 161.01</td>\n",
        "      <td> 161.95</td>\n",
        "      <td> 3966000</td>\n",
        "      <td> 161.95</td>\n",
        "    </tr>\n",
        "    <tr>\n",
        "      <th>7</th>\n",
        "      <td> 11/25/2014</td>\n",
        "      <td> 162.65</td>\n",
        "      <td> 163.50</td>\n",
        "      <td> 161.56</td>\n",
        "      <td> 161.76</td>\n",
        "      <td> 4062300</td>\n",
        "      <td> 161.76</td>\n",
        "    </tr>\n",
        "    <tr>\n",
        "      <th>8</th>\n",
        "      <td> 11/24/2014</td>\n",
        "      <td> 161.54</td>\n",
        "      <td> 163.86</td>\n",
        "      <td> 161.06</td>\n",
        "      <td> 162.15</td>\n",
        "      <td> 6618500</td>\n",
        "      <td> 162.15</td>\n",
        "    </tr>\n",
        "    <tr>\n",
        "      <th>9</th>\n",
        "      <td> 11/21/2014</td>\n",
        "      <td> 161.83</td>\n",
        "      <td> 161.95</td>\n",
        "      <td> 160.75</td>\n",
        "      <td> 160.92</td>\n",
        "      <td> 4076900</td>\n",
        "      <td> 160.92</td>\n",
        "    </tr>\n",
        "  </tbody>\n",
        "</table>\n",
        "</div>"
       ],
       "metadata": {},
       "output_type": "pyout",
       "prompt_number": 4,
       "text": [
        "         Date    Open    High     Low   Close   Volume  AdjClose\n",
        "0   12/5/2014  163.61  164.50  162.91  163.27  3010400    163.27\n",
        "1   12/4/2014  164.01  164.50  163.01  164.05  3859400    164.05\n",
        "2   12/3/2014  162.47  164.52  162.00  164.52  6429100    164.52\n",
        "3   12/2/2014  162.47  162.73  161.64  162.67  3464100    162.67\n",
        "4   12/1/2014  161.64  163.32  161.35  161.54  4168400    161.54\n",
        "5  11/28/2014  162.75  163.37  161.44  162.17  2405500    162.17\n",
        "6  11/26/2014  161.93  162.10  161.01  161.95  3966000    161.95\n",
        "7  11/25/2014  162.65  163.50  161.56  161.76  4062300    161.76\n",
        "8  11/24/2014  161.54  163.86  161.06  162.15  6618500    162.15\n",
        "9  11/21/2014  161.83  161.95  160.75  160.92  4076900    160.92"
       ]
      }
     ],
     "prompt_number": 4
    },
    {
     "cell_type": "heading",
     "level": 4,
     "metadata": {},
     "source": [
      "Convert the index to be Time Series based"
     ]
    },
    {
     "cell_type": "code",
     "collapsed": false,
     "input": [
      "ts_frame[\"AdjDate\"] = pd.to_datetime(ts_frame.Date)\n",
      "temp_frame = pd.DataFrame()\n",
      "temp_frame = temp_frame.reindex(ts_frame.AdjDate)\n",
      "temp_frame[\"AdjClose\"] = ts_frame.AdjClose.values\n",
      "temp_frame[\"Volume\"] = ts_frame.Volume.values"
     ],
     "language": "python",
     "metadata": {},
     "outputs": [],
     "prompt_number": 16
    },
    {
     "cell_type": "heading",
     "level": 4,
     "metadata": {},
     "source": [
      "Roll up prices to monthly averages for creating a month separated TS"
     ]
    },
    {
     "cell_type": "markdown",
     "metadata": {},
     "source": [
      "I chose to go ahead with TS rolled to months, and the 'M' signifies rolling the date time index of the data frame to Monthly interval. The strategy I chose for the months with multiple sales was to average the sales and use that as the value for the month. In the code the default downsampling is set to Mean, which is why you will not see it indicated in the code below."
     ]
    },
    {
     "cell_type": "code",
     "collapsed": false,
     "input": [
      "complete_ts_frame = temp_frame.resample('D',fill_method='pad')"
     ],
     "language": "python",
     "metadata": {},
     "outputs": [],
     "prompt_number": 29
    },
    {
     "cell_type": "heading",
     "level": 3,
     "metadata": {},
     "source": [
      "Trying different imputation strategies"
     ]
    },
    {
     "cell_type": "heading",
     "level": 4,
     "metadata": {},
     "source": [
      "Plot the existing Price label with the missing values"
     ]
    },
    {
     "cell_type": "code",
     "collapsed": false,
     "input": [
      "plot(complete_ts_frame.AdjClose)"
     ],
     "language": "python",
     "metadata": {},
     "outputs": [
      {
       "metadata": {},
       "output_type": "pyout",
       "prompt_number": 30,
       "text": [
        "[<matplotlib.lines.Line2D at 0x10babed50>]"
       ]
      },
      {
       "metadata": {},
       "output_type": "display_data",
       "png": "[encoded data removed]",
       "text": [
        "<matplotlib.figure.Figure at 0x10a2f6750>"
       ]
      }
     ],
     "prompt_number": 30
    },
    {
     "cell_type": "heading",
     "level": 4,
     "metadata": {},
     "source": [
      "Plot the Price label with interpolation set to different methods"
     ]
    },
    {
     "cell_type": "markdown",
     "metadata": {},
     "source": [
      "In this section I am trying to determine which would be the best method to fill the missing values in the equally spaced TS. \n",
      "The methods I am trying are-\n",
      "1. Linear Interpolation\n",
      "2. Quadratic Interpolation\n",
      "3. Cubic Interpolation"
     ]
    },
    {
     "cell_type": "code",
     "collapsed": false,
     "input": [
      "methods = ['linear', 'quadratic', 'cubic']\n",
      "df = pd.DataFrame({m: complete_ts_frame.Price.interpolate(method=m) for m in methods})\n",
      "plt.figure(num=None, figsize=(5, 5), dpi=200, facecolor='w', edgecolor='k')\n",
      "df.plot()\n"
     ],
     "language": "python",
     "metadata": {},
     "outputs": [
      {
       "metadata": {},
       "output_type": "pyout",
       "prompt_number": 7,
       "text": [
        "<matplotlib.axes.AxesSubplot at 0x10ac72c10>"
       ]
      },
      {
       "metadata": {},
       "output_type": "display_data",
       "text": [
        "<matplotlib.figure.Figure at 0x109f51d50>"
       ]
      },
      {
       "metadata": {},
       "output_type": "display_data",
       "png": "[encoded data removed]",
       "text": [
        "<matplotlib.figure.Figure at 0x10ac72650>"
       ]
      }
     ],
     "prompt_number": 7
    },
    {
     "cell_type": "code",
     "collapsed": false,
     "input": [
      "#complete_ts_frame.Price.interpolate(method=\"cubic\",inplace=True)\n",
      "test=complete_ts_frame[1459:]"
     ],
     "language": "python",
     "metadata": {},
     "outputs": [],
     "prompt_number": 34
    },
    {
     "cell_type": "heading",
     "level": 4,
     "metadata": {},
     "source": [
      "Save results to csv"
     ]
    },
    {
     "cell_type": "code",
     "collapsed": false,
     "input": [
      "test.to_csv(\"/Users/pagrawal/Documents/Personal/OneDrive/Documents/MS-A/TimeSeriesForecasting/Assignments/FinalProject/ibm_complete_test.csv\",sep=',')"
     ],
     "language": "python",
     "metadata": {},
     "outputs": [],
     "prompt_number": 36
    }
   ],
   "metadata": {}
  }
 ]
}