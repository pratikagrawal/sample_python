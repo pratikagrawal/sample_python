







<!DOCTYPE html>
<html lang="en">
  <head>
    <meta charset="utf-8">
    <title></title>

    <meta name="viewport" content="width=device-width, initial-scale=1.0">

    
    <meta name="description" content="">
    

    
    <meta name="author" content="">
    

    <!--NEW RELIC Start Perf Measurement-->
    
    <!--NREND-->

    <!-- Le styles -->
    <link href="/static/build/styles.css" rel="stylesheet">


    <!-- Le HTML5 shim, for IE6-8 support of HTML5 elements -->
    <!--[if lt IE 9]>
      <script src="http://html5shim.googlecode.com/svn/trunk/html5.js"></script>
    <![endif]-->

    <!-- Le fav and touch icons -->
    <link rel="shortcut icon" href="/static/ico/ipynb_icon_16x16.png">
    <link rel="apple-touch-icon-precomposed" sizes="144x144" href="/static/ico/apple-touch-icon-144-precomposed.png">
    <link rel="apple-touch-icon-precomposed" sizes="114x114" href="/static/ico/apple-touch-icon-114-precomposed.png">
    <link rel="apple-touch-icon-precomposed" sizes="72x72" href="/static/ico/apple-touch-icon-72-precomposed.png">
    <link rel="apple-touch-icon-precomposed" href="/static/ico/apple-touch-icon-57-precomposed.png">
    
    
    

    

    
    <meta name="twitter:card" content="summary">

    
    <meta name="twitter:title" content="Notebook on nbviewer">
    

    
    <meta name="twitter:description" content="Check out this Jupyter notebook!">
    

    
    <meta name="twitter:domain" content="nbviewer.ipython.org">
    

    <meta name="twitter:image:src" content="http://ipython.org/ipython-doc/dev/_images/ipynb_icon_128x128.png">
    
    
    

    <link href="/static/build/notebook.css" rel="stylesheet">
    
    <script src="https://cdn.mathjax.org/mathjax/latest/MathJax.js?config=TeX-AMS_HTML"type="text/javascript">
    </script>
    <script type="text/javascript">
    init_mathjax = function() {
        if (window.MathJax) {
            // MathJax loaded
            MathJax.Hub.Config({
                tex2jax: {
                    inlineMath: [ ['$','$'], ["\\(","\\)"] ],
                    displayMath: [ ['$$','$$'], ["\\[","\\]"] ],
                    processEscapes: true,
                    processEnvironments: true
                },
                displayAlign: 'center',
                "HTML-CSS": {
                    styles: {'.MathJax_Display': {"margin": 0}},
                    linebreaks: { automatic: true }
                }
            });
            MathJax.Hub.Queue(["Typeset",MathJax.Hub]);
        }
    }
    init_mathjax();
    </script>
    
  </head>

  <body data-spy="scroll" data-target=".subnav" data-offset="50">

  <!-- These are loaded at the top of the body so they are available to notebook
  cells when they are loaded below. -->
  <script src="/static/components/jquery/jquery.min.js"></script>
  <script src="/static/components/requirejs/require.js"></script>
  <script src="/static/components/moment/min/moment.min.js"></script>

  <!-- Navbar
  ================================================== -->
    <div id='menubar' class="navbar navbar-fixed-top hidden-print">
      <div class="navbar-inner">
        <div class="container">
          <button type="button" class="btn btn-navbar" data-toggle="collapse" data-target=".nav-collapse">
            <span class="fa fa-bars"></span>
          </button>
          <div class="nav-collapse collapse">
            <ul class="nav">

                <li>
        <a href="/" title="nbviewer" >
            <strong>
            <span>nbviewer</span>
            </strong>
        </a>
    </li>
                <li>
        <a href="/faq" title="FAQ" >
            
            <span>FAQ</span>
            
        </a>
    </li>

              <li class="">
                <a href="http://ipython.org">IPython</a>
              </li>

              <li class="">
                <a href="http://jupyter.org">Jupyter</a>
              </li>

            </ul>
            <ul class="nav pull-right">
              
              
      
        <li>
        <a href="https://github.com/olafSmits/MonteCarloMethodsInFinance/blob/master/Week%209.ipynb" title="Notebook Home" >
            <span class='fa fa-github fa-2x menu-icon'></span>
            <span class='menu-text'>Notebook Home</span>
        </a>
    </li>
      
        <li>
        <a href="https://raw.githubusercontent.com/olafSmits/MonteCarloMethodsInFinance/master/Week%209.ipynb" title="Download Notebook" download>
            <span class='fa fa-download fa-2x menu-icon'></span>
            <span class='menu-text'>Download Notebook</span>
        </a>
    </li>
    
            </ul>
          </div>
        </div>
      </div>
    </div>
    <div class="container">

     
    
<ul class="breadcrumb">
    
    <li><a href="/github/olafSmits/MonteCarloMethodsInFinance/tree/master">MonteCarloMethodsInFinance</a> <span class="divider">/</span></li>
    
    <li><a href="/github/olafSmits/MonteCarloMethodsInFinance/tree/master/Week 9.ipynb">Week 9.ipynb</a> <span class="divider">/</span></li>
    
</ul>

    
<div class="cell border-box-sizing code_cell rendered">
<div class="input">
<div class="prompt input_prompt">In&nbsp;[1]:</div>
<div class="inner_cell">
    <div class="input_area">
<div class="highlight"><pre><span class="kn">from</span> <span class="nn">__future__</span> <span class="kn">import</span> <span class="n">division</span>
<span class="kn">import</span> <span class="nn">numpy</span> <span class="kn">as</span> <span class="nn">np</span>
<span class="kn">import</span> <span class="nn">pandas</span> <span class="kn">as</span> <span class="nn">pd</span>
<span class="kn">import</span> <span class="nn">matplotlib.pylab</span> <span class="kn">as</span> <span class="nn">plt</span>

<span class="kn">from</span> <span class="nn">pandas.io.data</span> <span class="kn">import</span> <span class="n">DataReader</span>
<span class="kn">from</span> <span class="nn">datetime</span> <span class="kn">import</span> <span class="n">datetime</span>
<span class="kn">from</span> <span class="nn">custom_functions_iversity</span> <span class="kn">import</span> <span class="n">graphicalComparisonPdf</span><span class="p">,</span> <span class="n">multivariateGaussianRand</span>
</pre></div>

</div>
</div>
</div>

</div>
<div class="cell border-box-sizing text_cell rendered">
<div class="prompt input_prompt">
</div>
<div class="inner_cell">
<div class="text_cell_render border-box-sizing rendered_html">
<h1 id="Week-9----Modeling-and-quantifying-financial-risk">Week 9 -- Modeling and quantifying financial risk<a class="anchor-link" href="#Week-9----Modeling-and-quantifying-financial-risk">&#182;</a></h1>
</div>
</div>
</div>

<div class="cell border-box-sizing text_cell rendered">
<div class="prompt input_prompt">
</div>
<div class="inner_cell">
<div class="text_cell_render border-box-sizing rendered_html">
<p>This week of lectures looks at how we can model and quantify financial risk. It discusses concepts such as VaR, copulas and model calibration using techniques such as maximum likelihood.</p>
<p>Our approach is as follows: we first discuss the concept of maximum likelihood. This a statistical technique for parameter estimation of a distribution on a given dataset. In particular, we apply this technique to estimate the parameters of the student t distribution.</p>
<p>Next we consider a portfolio of assets (stocks). We model the historical data using a student t distribution</p>
</div>
</div>
</div>
<div class="cell border-box-sizing text_cell rendered">
<div class="prompt input_prompt">
</div>
<div class="inner_cell">
<div class="text_cell_render border-box-sizing rendered_html">
<h4 id="Maxmimum-Likelihood">Maxmimum Likelihood<a class="anchor-link" href="#Maxmimum-Likelihood">&#182;</a></h4>
</div>
</div>
</div>

<div class="cell border-box-sizing text_cell rendered">
<div class="prompt input_prompt">
</div>
<div class="inner_cell">
<div class="text_cell_render border-box-sizing rendered_html">
<p>Maximum likelihood is a technique used to estimate parameters of a distribution which we are fitting to given a dataset $\lbrace x_i\rbrace_{i=1}^N$. Recall that when we fit a Gaussian distribution to a dataset we need to estimate two parameters: the mean and the variance. These are easily extracted from the dataset using the estimators $\hat{\mu} = \sum_{i=1}^N x_i / n$ and $\hat{\sigma}^2 = \sum_{i=1}^N (x_i - \hat{\mu})^2 / n$. These two parameters uniquely fix the Gaussian distribution fitted to the data.</p>
<p>However, many distributions are characterized by other parameters, which we collectively write by $\lbrace\theta_i\rbrace_{i=1}^p$ with $p$ the number of free parameters. For instance, a student t distribution has the so-called degrees of freedom parameter. Fitting a distribution to a dataset requires us to fix these parameters in a way that generates the &#39;best fit&#39;. Although &#39;best fit&#39; is somehwat subjective, the maxmimum likelihood is a</p>
<p>Given a dataset $\lbrace x_i\rbrace_{i=1}^N$ and a distribution $f(x | \theta)$ characterized by a parameter $\theta$ we construct the likelihood function as</p>
<p>$$ \mathcal{L}(\theta | x_1 , \ldots, x_n) = \prod_{i=1}^n f(x_i|\theta)$$</p>
<p>The dataset is given to us, so this expression is really only a function of $\theta$. As this parameter is varied we fit different distributions $f(\cdot | \theta)$ to the dataset. As the name suggests, the maximum likelihood fit is obtained by picking the $\theta$ which maximizes the likelihood function.</p>
<p>First, however, we note that the likelihood function almost always leads to a very small number. This can cause computational problem. Instead, we therefore consider the log-likelihood function given by</p>
<p>$$ \log \mathcal{L}(\theta | x_1 , \ldots, x_n) = \log\big(\prod_{i=1}^n f(x_i|\theta) \big) = \sum_{i=1}^n \log(f(x_i|\theta)$$</p>
<p>Since the logarithm is convex it will map maximum points to maximum points. So to obtain the maximum likelihood estimate of $\theta$ we can simply optimize the log-likelihood instead. It also common to consider the minus log likelihood function. Optimization corresponds to finding the minimum of this function.</p>
<p>If the log-likelihood function is not too complicated then we can use analytical tools to obtain the MLE of theta (maximum likelihood estimator). See for instance wikipedia for a derivation of the MLE&#39;s for a Gaussian distribution. However, for more complicated expressions we need to resort to numerical optimization techniques to optimize the LL function.</p>
<p>Here we use the most straightforward way of optimization (using <code>fmin</code>). We can do better using for instance explicit implementation of the first and second derivatives, but this requires knowledge of the pdf.</p>
</div>
</div>
</div>
<div class="cell border-box-sizing code_cell rendered">
<div class="input">
<div class="prompt input_prompt">In&nbsp;[2]:</div>
<div class="inner_cell">
    <div class="input_area">
<div class="highlight"><pre><span class="kn">from</span> <span class="nn">scipy.optimize</span> <span class="kn">import</span> <span class="n">fmin</span>
</pre></div>

</div>
</div>
</div>

</div>
<div class="cell border-box-sizing text_cell rendered">
<div class="prompt input_prompt">
</div>
<div class="inner_cell">
<div class="text_cell_render border-box-sizing rendered_html">
<p>We define a generic handle to the minus Log Likelihood function for a given pdf. </p>
</div>
</div>
</div>
<div class="cell border-box-sizing code_cell rendered">
<div class="input">
<div class="prompt input_prompt">In&nbsp;[3]:</div>
<div class="inner_cell">
    <div class="input_area">
<div class="highlight"><pre><span class="k">def</span> <span class="nf">minusLogLikelihood</span><span class="p">(</span><span class="n">pdf</span><span class="p">,</span> <span class="n">X</span><span class="p">,</span> <span class="n">parameters</span><span class="p">):</span>
    <span class="sd">&quot;&quot;&quot;</span>
<span class="sd">    minusLogLikelihood: minus the likelihood of a model pdf, given the data sample X</span>

<span class="sd">    INPUT:</span>
<span class="sd">    parameters : Parameters of the model pdf</span>
<span class="sd">           pdf : Model pdf</span>
<span class="sd">             X : Sample</span>

<span class="sd">    OUTPUT:</span>
<span class="sd">           mLL : value of minus the loglikelihood, normalized by the sample size</span>
<span class="sd">    &quot;&quot;&quot;</span>
    <span class="c"># Compute minus the log likelihood</span>
    <span class="k">return</span> <span class="o">-</span><span class="n">np</span><span class="o">.</span><span class="n">sum</span><span class="p">(</span><span class="n">np</span><span class="o">.</span><span class="n">log</span><span class="p">(</span><span class="n">pdf</span><span class="p">(</span><span class="n">X</span><span class="p">,</span> <span class="n">parameters</span><span class="p">)))</span>
</pre></div>

</div>
</div>
</div>

</div>
<div class="cell border-box-sizing text_cell rendered">
<div class="prompt input_prompt">
</div>
<div class="inner_cell">
<div class="text_cell_render border-box-sizing rendered_html">
<p>Then the fit function is given by</p>
</div>
</div>
</div>
<div class="cell border-box-sizing code_cell rendered">
<div class="input">
<div class="prompt input_prompt">In&nbsp;[4]:</div>
<div class="inner_cell">
    <div class="input_area">
<div class="highlight"><pre><span class="k">def</span> <span class="nf">fit2pdf</span><span class="p">(</span><span class="n">X</span><span class="p">,</span> <span class="n">pdf</span><span class="p">,</span> <span class="n">parameterseed</span><span class="p">):</span>
    <span class="sd">&quot;&quot;&quot;</span>
<span class="sd">    Maximum likelihood fit to a PDF</span>
<span class="sd">    INPUT:</span>
<span class="sd">                  X : Sample</span>
<span class="sd">                pdf : Model pdf</span>
<span class="sd">      parameterlist : Seed for the parameters</span>
<span class="sd">    OUTPUT:</span>
<span class="sd">      logLikelihood : value of the loglikelihood</span>
<span class="sd">         varargaout : list of parameters that maximize the likelihood</span>
<span class="sd">    &quot;&quot;&quot;</span>

    <span class="k">def</span> <span class="nf">mLL</span><span class="p">(</span><span class="n">parameterlist</span><span class="p">):</span>
        <span class="k">return</span> <span class="n">minusLogLikelihood</span><span class="p">(</span><span class="n">pdf</span><span class="p">,</span> <span class="n">X</span><span class="p">,</span> <span class="n">parameterlist</span><span class="p">)</span>

    <span class="n">varargout</span> <span class="o">=</span> <span class="n">fmin</span><span class="p">(</span><span class="n">mLL</span><span class="p">,</span> <span class="n">parameterseed</span><span class="p">,</span> <span class="n">xtol</span><span class="o">=</span><span class="mf">1e-8</span><span class="p">,</span> <span class="n">disp</span><span class="o">=</span><span class="mi">0</span><span class="p">)</span>

    <span class="n">logLikelihood</span> <span class="o">=</span> <span class="o">-</span><span class="n">mLL</span><span class="p">(</span><span class="n">varargout</span><span class="p">)</span>
    <span class="k">return</span> <span class="n">logLikelihood</span><span class="p">,</span> <span class="n">varargout</span>
    
</pre></div>

</div>
</div>
</div>

</div>
<div class="cell border-box-sizing text_cell rendered">
<div class="prompt input_prompt">
</div>
<div class="inner_cell">
<div class="text_cell_render border-box-sizing rendered_html">
<p>For example, we create a dataset of 1000 samples drawn from a normal distribution, and scale this to a $N(\mu=10, \sigma=3)$ distribution. The <code>fit2pdf</code> then generates the following estimates</p>
</div>
</div>
</div>
<div class="cell border-box-sizing code_cell rendered">
<div class="input">
<div class="prompt input_prompt">In&nbsp;[5]:</div>
<div class="inner_cell">
    <div class="input_area">
<div class="highlight"><pre><span class="n">X</span> <span class="o">=</span> <span class="mi">3</span> <span class="o">*</span> <span class="n">np</span><span class="o">.</span><span class="n">random</span><span class="o">.</span><span class="n">randn</span><span class="p">(</span><span class="mi">1000</span><span class="p">)</span> <span class="o">+</span> <span class="mi">10</span>
<span class="k">def</span> <span class="nf">gaussPDF</span><span class="p">(</span><span class="n">x</span><span class="p">,</span> <span class="n">args</span><span class="p">):</span>
    <span class="n">mu</span> <span class="o">=</span> <span class="n">args</span><span class="p">[</span><span class="mi">0</span><span class="p">]</span>
    <span class="n">sigma</span> <span class="o">=</span> <span class="n">args</span><span class="p">[</span><span class="mi">1</span><span class="p">]</span>
    <span class="k">return</span> <span class="n">np</span><span class="o">.</span><span class="n">exp</span><span class="p">(</span><span class="o">-</span><span class="p">(</span><span class="n">x</span><span class="o">-</span><span class="n">mu</span><span class="p">)</span><span class="o">**</span><span class="mi">2</span><span class="o">/</span><span class="p">(</span><span class="mi">2</span> <span class="o">*</span> <span class="n">sigma</span><span class="o">**</span><span class="mi">2</span><span class="p">))</span> <span class="o">/</span> <span class="p">(</span><span class="n">np</span><span class="o">.</span><span class="n">sqrt</span><span class="p">(</span><span class="mi">2</span> <span class="o">*</span> <span class="n">np</span><span class="o">.</span><span class="n">pi</span><span class="p">)</span> <span class="o">*</span> <span class="n">sigma</span><span class="p">)</span>
<span class="n">finalLL</span><span class="p">,</span> <span class="n">param</span> <span class="o">=</span> <span class="n">fit2pdf</span><span class="p">(</span><span class="n">X</span><span class="p">,</span> <span class="n">gaussPDF</span><span class="p">,</span> <span class="p">[</span><span class="mi">1</span><span class="p">,</span> <span class="mi">2</span><span class="p">])</span>
<span class="k">print</span> <span class="s">&quot;Estimated parameters (mu, sigma): &quot;</span><span class="p">,</span> <span class="n">param</span><span class="p">[</span><span class="mi">0</span><span class="p">],</span> <span class="s">&quot;,&quot;</span><span class="p">,</span> <span class="n">param</span><span class="p">[</span><span class="mi">1</span><span class="p">]</span>
<span class="k">print</span> <span class="s">&quot;Sample mean and variance:&quot;</span><span class="p">,</span> <span class="n">X</span><span class="o">.</span><span class="n">mean</span><span class="p">(),</span> <span class="n">X</span><span class="o">.</span><span class="n">std</span><span class="p">()</span>
</pre></div>

</div>
</div>
</div>

<div class="output_wrapper">
<div class="output">


<div class="output_area"><div class="prompt"></div>
<div class="output_subarea output_stream output_stdout output_text">
<pre>
Estimated parameters (mu, sigma):  9.98795784087 , 3.01609796942
Sample mean and variance: 9.98795786912 3.01609814296

</pre>
</div>
</div>

</div>
</div>

</div>
<div class="cell border-box-sizing text_cell rendered">
<div class="prompt input_prompt">
</div>
<div class="inner_cell">
<div class="text_cell_render border-box-sizing rendered_html">
<p>Sometimes the optimization procedure leads to unrealistic parameter estimates due to runaway solutions. We can therefore also use a bounded optimzation procedure using <code>fminbound</code>. In SciPy this particular implementation can only handle scalar functions. </p>
</div>
</div>
</div>
<div class="cell border-box-sizing code_cell rendered">
<div class="input">
<div class="prompt input_prompt">In&nbsp;[6]:</div>
<div class="inner_cell">
    <div class="input_area">
<div class="highlight"><pre><span class="kn">from</span> <span class="nn">scipy.optimize</span> <span class="kn">import</span> <span class="n">fminbound</span>

<span class="k">def</span> <span class="nf">fit2pdf_con</span><span class="p">(</span><span class="n">X</span><span class="p">,</span> <span class="n">pdf</span><span class="p">,</span> <span class="n">lb</span><span class="p">,</span> <span class="n">ub</span><span class="p">):</span>
    <span class="sd">&quot;&quot;&quot;</span>
<span class="sd">    fit2pdf_con: ML fit to a pdf, considering lower and upper bound constraints</span>

<span class="sd">    INPUT:</span>
<span class="sd">                 X : Sample</span>
<span class="sd">               pdf : Model pdf</span>
<span class="sd">                lb : lower bound constraints for the parameters</span>
<span class="sd">                ub : upper bound constraints for the parameters</span>

<span class="sd">    OUTPUT:</span>
<span class="sd">     logLikelihood : value of the loglikelihood</span>
<span class="sd">        varargaout : list of parameters than maximize the likelihood</span>
<span class="sd">    &quot;&quot;&quot;</span>
    
    <span class="k">def</span> <span class="nf">mLL</span><span class="p">(</span><span class="n">parameterlist</span><span class="p">):</span>
        <span class="k">return</span> <span class="n">minusLogLikelihood</span><span class="p">(</span><span class="n">pdf</span><span class="p">,</span> <span class="n">X</span><span class="p">,</span> <span class="n">parameterlist</span><span class="p">)</span>

    <span class="n">varargout</span> <span class="o">=</span> <span class="n">fminbound</span><span class="p">(</span><span class="n">mLL</span><span class="p">,</span> <span class="n">lb</span><span class="p">,</span> <span class="n">ub</span><span class="p">,</span> <span class="n">xtol</span><span class="o">=</span><span class="mf">1e-8</span><span class="p">,</span> <span class="n">disp</span><span class="o">=</span><span class="mi">0</span><span class="p">)</span>

    <span class="n">logLikelihood</span> <span class="o">=</span> <span class="o">-</span><span class="n">mLL</span><span class="p">(</span><span class="n">varargout</span><span class="p">)</span>
    <span class="k">return</span> <span class="n">logLikelihood</span><span class="p">,</span> <span class="n">varargout</span>
</pre></div>

</div>
</div>
</div>

</div>
<div class="cell border-box-sizing code_cell rendered">
<div class="input">
<div class="prompt input_prompt">In&nbsp;[7]:</div>
<div class="inner_cell">
    <div class="input_area">
<div class="highlight"><pre><span class="n">X</span> <span class="o">=</span> <span class="n">np</span><span class="o">.</span><span class="n">random</span><span class="o">.</span><span class="n">randn</span><span class="p">(</span><span class="mi">1000</span><span class="p">)</span> <span class="o">+</span> <span class="mi">10</span>
<span class="k">def</span> <span class="nf">gaussPDF2</span><span class="p">(</span><span class="n">x</span><span class="p">,</span> <span class="n">mu</span><span class="p">):</span>
    <span class="n">sigma</span> <span class="o">=</span> <span class="mi">1</span>
    <span class="k">return</span> <span class="n">np</span><span class="o">.</span><span class="n">exp</span><span class="p">(</span><span class="o">-</span><span class="p">(</span><span class="n">x</span><span class="o">-</span><span class="n">mu</span><span class="p">)</span><span class="o">**</span><span class="mi">2</span><span class="o">/</span><span class="p">(</span><span class="mi">2</span> <span class="o">*</span> <span class="n">sigma</span><span class="o">**</span><span class="mi">2</span><span class="p">))</span> <span class="o">/</span> <span class="p">(</span><span class="n">np</span><span class="o">.</span><span class="n">sqrt</span><span class="p">(</span><span class="mi">2</span> <span class="o">*</span> <span class="n">np</span><span class="o">.</span><span class="n">pi</span><span class="p">)</span> <span class="o">*</span> <span class="n">sigma</span><span class="p">)</span>


<span class="n">finalLL</span><span class="p">,</span> <span class="n">param</span> <span class="o">=</span> <span class="n">fit2pdf_con</span><span class="p">(</span><span class="n">X</span><span class="p">,</span> <span class="n">gaussPDF2</span><span class="p">,</span> <span class="mi">0</span><span class="p">,</span> <span class="mi">15</span><span class="p">)</span>
<span class="k">print</span> <span class="s">&quot;Estimated parameter mu:&quot;</span><span class="p">,</span> <span class="n">param</span>
<span class="k">print</span> <span class="s">&quot;True mean:&quot;</span><span class="p">,</span> <span class="n">X</span><span class="o">.</span><span class="n">mean</span><span class="p">()</span>
</pre></div>

</div>
</div>
</div>

<div class="output_wrapper">
<div class="output">


<div class="output_area"><div class="prompt"></div>
<div class="output_subarea output_stream output_stdout output_text">
<pre>
Estimated parameter mu: 10.0582928857
True mean: 10.0582928857

</pre>
</div>
</div>

</div>
</div>

</div>
<div class="cell border-box-sizing text_cell rendered">
<div class="prompt input_prompt">
</div>
<div class="inner_cell">
<div class="text_cell_render border-box-sizing rendered_html">
<p>Example: GOOGLE stock</p>
</div>
</div>
</div>
<div class="cell border-box-sizing text_cell rendered">
<div class="prompt input_prompt">
</div>
<div class="inner_cell">
<div class="text_cell_render border-box-sizing rendered_html">
<p>Consider now the log returns of the Google stock. In week 1 we already saw that a simply, but primitive fit of the log returns is generated by the normal distribution. We show this result here using the MLE method.</p>
</div>
</div>
</div>
<div class="cell border-box-sizing code_cell rendered">
<div class="input">
<div class="prompt input_prompt">In&nbsp;[8]:</div>
<div class="inner_cell">
    <div class="input_area">
<div class="highlight"><pre><span class="n">S</span> <span class="o">=</span> <span class="n">DataReader</span><span class="p">(</span><span class="s">&quot;GOOGL&quot;</span><span class="p">,</span>  <span class="s">&quot;yahoo&quot;</span><span class="p">,</span> <span class="n">datetime</span><span class="p">(</span><span class="mi">2007</span><span class="p">,</span><span class="mi">7</span><span class="p">,</span><span class="mi">1</span><span class="p">),</span> <span class="n">datetime</span><span class="p">(</span><span class="mi">2013</span><span class="p">,</span><span class="mi">6</span><span class="p">,</span><span class="mi">30</span><span class="p">))[</span><span class="s">&#39;Adj Close&#39;</span><span class="p">]</span>
<span class="n">logReturn</span> <span class="o">=</span> <span class="n">np</span><span class="o">.</span><span class="n">log</span><span class="p">(</span><span class="n">S</span> <span class="o">/</span> <span class="n">S</span><span class="o">.</span><span class="n">shift</span><span class="p">(</span><span class="mi">1</span><span class="p">))</span>
<span class="n">logReturn</span><span class="o">.</span><span class="n">dropna</span><span class="p">(</span><span class="n">inplace</span><span class="o">=</span><span class="bp">True</span><span class="p">)</span>
<span class="n">logReturn</span><span class="o">.</span><span class="n">plot</span><span class="p">()</span>
</pre></div>

</div>
</div>
</div>

<div class="output_wrapper">
<div class="output">


<div class="output_area"><div class="prompt output_prompt">Out[8]:</div>


<div class="output_text output_subarea output_pyout">
<pre>
&lt;matplotlib.axes.AxesSubplot at 0xea22080&gt;
</pre>
</div>

</div>

<div class="output_area"><div class="prompt"></div>


<div class="output_png output_subarea ">
<img src="data:image/png;base64,iVBORw0KGgoAAAANSUhEUgAAAX4AAAEECAYAAAAvY19bAAAABHNCSVQICAgIfAhkiAAAAAlwSFlz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=
"
>
</div>

</div>

</div>
</div>

</div>
<div class="cell border-box-sizing text_cell rendered">
<div class="prompt input_prompt">
</div>
<div class="inner_cell">
<div class="text_cell_render border-box-sizing rendered_html">
<p>The PDF we use is the normal distribution</p>
</div>
</div>
</div>
<div class="cell border-box-sizing code_cell rendered">
<div class="input">
<div class="prompt input_prompt">In&nbsp;[9]:</div>
<div class="inner_cell">
    <div class="input_area">
<div class="highlight"><pre><span class="k">def</span> <span class="nf">gaussPDF</span><span class="p">(</span><span class="n">x</span><span class="p">,</span> <span class="n">args</span><span class="p">):</span>
    <span class="n">mu</span><span class="p">,</span> <span class="n">sigma</span> <span class="o">=</span> <span class="n">args</span>     
    <span class="k">return</span> <span class="n">np</span><span class="o">.</span><span class="n">exp</span><span class="p">(</span><span class="o">-</span><span class="p">(</span><span class="n">x</span><span class="o">-</span><span class="n">mu</span><span class="p">)</span><span class="o">**</span><span class="mi">2</span><span class="o">/</span><span class="p">(</span><span class="mi">2</span> <span class="o">*</span> <span class="n">sigma</span><span class="o">**</span><span class="mi">2</span><span class="p">))</span> <span class="o">/</span> <span class="p">(</span><span class="n">np</span><span class="o">.</span><span class="n">sqrt</span><span class="p">(</span><span class="mi">2</span> <span class="o">*</span> <span class="n">np</span><span class="o">.</span><span class="n">pi</span><span class="p">)</span> <span class="o">*</span> <span class="n">sigma</span><span class="p">)</span>
</pre></div>

</div>
</div>
</div>

</div>
<div class="cell border-box-sizing text_cell rendered">
<div class="prompt input_prompt">
</div>
<div class="inner_cell">
<div class="text_cell_render border-box-sizing rendered_html">
<p>Next, we obtain the MLE and compare it to the sample estimates of the mean and standard deviation. For the Gaussian the parameters mu and sigma coincide with the sample mean and standard deviation, so we should obtain the same values. We use then use the graphicalComparisonPdf function to estimate the goodness of our fit.</p>
</div>
</div>
</div>
<div class="cell border-box-sizing code_cell rendered">
<div class="input">
<div class="prompt input_prompt">In&nbsp;[10]:</div>
<div class="inner_cell">
    <div class="input_area">
<div class="highlight"><pre><span class="k">def</span> <span class="nf">fitReturns</span><span class="p">():</span>
    <span class="n">LL</span><span class="p">,</span> <span class="p">(</span><span class="n">mu</span><span class="p">,</span> <span class="n">sigma</span><span class="p">)</span> <span class="o">=</span>  <span class="n">fit2pdf</span><span class="p">(</span><span class="n">logReturn</span><span class="p">,</span> <span class="n">gaussPDF</span><span class="p">,</span> <span class="p">[</span><span class="mi">0</span><span class="p">,</span> <span class="mi">1</span><span class="p">])</span>
    <span class="k">print</span> <span class="s">&quot;Estimated parameters:&quot;</span><span class="p">,</span> <span class="n">mu</span><span class="p">,</span> <span class="n">sigma</span>
    <span class="k">print</span> <span class="s">&quot;Sample estimates:&quot;</span><span class="p">,</span> <span class="n">logReturn</span><span class="o">.</span><span class="n">mean</span><span class="p">(),</span> <span class="n">logReturn</span><span class="o">.</span><span class="n">std</span><span class="p">()</span>
    
    <span class="k">def</span> <span class="nf">modelPDF</span><span class="p">(</span><span class="n">x</span><span class="p">):</span>
        <span class="k">return</span> <span class="n">gaussPDF</span><span class="p">(</span><span class="n">x</span><span class="p">,</span> <span class="p">(</span><span class="n">mu</span><span class="p">,</span> <span class="n">sigma</span><span class="p">))</span>
    <span class="n">graphicalComparisonPdf</span><span class="p">(</span><span class="n">logReturn</span><span class="p">,</span> <span class="n">modelPDF</span><span class="p">)</span>
<span class="n">fitReturns</span><span class="p">()</span>
</pre></div>

</div>
</div>
</div>

<div class="output_wrapper">
<div class="output">


<div class="output_area"><div class="prompt"></div>
<div class="output_subarea output_stream output_stdout output_text">
<pre>
Estimated parameters: 0.000335811350516 0.0209772909183
Sample estimates: 0.000335812691068 0.0209842419645

</pre>
</div>
</div>

<div class="output_area"><div class="prompt"></div>


<div class="output_png output_subarea ">
<img src="data:image/png;base64,iVBORw0KGgoAAAANSUhEUgAAAXsAAAEPCAYAAACjjWTcAAAABHNCSVQICAgIfAhkiAAAAAlwSFlz
AAALEgAACxIB0t1+/AAAIABJREFUeJzt3XtcVHX6wPHPKF4TZFAZQFBMxTsXI01LRV3wskJ20dQ0
S63Wrd3atOxmYtuabpqVtdvlZ4brVpalkeY1HUvXvIVZpnm/hIAiqFwUuZzfHwfmIjAzAnN/3q/X
vDxn5pwzz5Hh4TvP+Z7vV6MoioIQQgiPVs/ZAQghhLA/SfZCCOEFJNkLIYQXkGQvhBBeQJK9EEJ4
AUn2QgjhBeyW7K9evUrv3r2Jjo6ma9euPPfccwDk5OQQHx9PREQECQkJXLx40V4hCCGEKKexZz/7
wsJCmjZtSklJCXfccQfz588nNTWVli1b8swzzzBv3jxyc3OZO3euvUIQQgiBncs4TZs2BeDatWuU
lpai1WpJTU1l4sSJAEycOJFVq1bZMwQhhBDYOdmXlZURHR2NTqdj4MCBdOvWjaysLHQ6HQA6nY6s
rCx7hiCEEALwsefB69Wrx759+7h06RJDhgxhy5YtZq9rNBo0Go09QxBCCIGdk32F5s2b88c//pG9
e/ei0+nIzMwkKCiIjIwMAgMDK20fHR3NTz/95IjQhBDCY0RFRbFv374qX7NbGSc7O9vQ0+bKlSts
3LiRmJgYkpKSSElJASAlJYWRI0dW2venn35CURS7P2bNmuWQ93HGQ87N/R6eel5ybo57WGok261l
n5GRwcSJEykrK6OsrIwJEyYwePBgYmJiGD16NIsXLyY8PJzPPvvMXiEIIYQoZ7dk36NHD3788cdK
zwcEBLBp0yZ7va0QQogqePUdtHFxcc4OwW7k3NyPp54XyLm5ArveVFVTGo0GFwxLCCFcmqXc6ZDe
OEIIVUBAALm5uc4OQ7g5rVZLTk7ODe0jLXshHEg+26IuVPc5svT58uqavRBCeAtJ9kII4QUk2Qsh
hBeQZC+EuGH16tXj+PHjgHqHfGJiIv7+/tx3330AnD9/ni5dulBUVGT1WNOnT+fdd9+1a7xCeuMI
IWppxYoVnDt3jpycHOrVU9uPc+fO5aGHHqJRo0ZW958+fTq9evVi8uTJNGjQwN7hei1p2QshauXU
qVNEREQYEn1RURFLly5l/PjxNu0fFBRE586dSU1NtWeYXk+SvXALfn4BhiGxq3r4+QU4O0S3Fx4e
zty5c+nWrRsBAQFMmjTJUIZ57bXXCAkJITQ0lA8//BDAMAjY3//+d5YvX46vry9Llixh586d+Pv7
ExISAqhTkYaFhbF69WoA8vPz6dChA8uWLTO8d1xcHGvWrHHwGXsXKeMIt5CXlwtU3z89L89D5kWo
y/kdatCf/+OPP2bDhg00bdqUxMREXnnlFW6//XYWLFjA5s2bCQ8PZ8qUKeWhapg9ezb16tXj2LFj
LF26FIB33nmHTp06GY4ZEBDAhx9+yAMPPMD+/ft5/vnn6dmzp1nLv3PnznzxxRe1PGFhiSR7IQSg
Ju/HH3+c1q1bA/DCCy/wl7/8hbNnzzJp0iS6du0KwOzZs/n0008N+1UMr1vh4sWL+Pr6mh07Pj6e
UaNGMWjQIC5evMj+/fvNXvf19TUMiS7sQ8o4QgiDsLAww3KbNm04e/YsZ8+eJTQ01Ox5SwICAsjL
y6v0/MMPP8yBAwd48MEH0Wq1Zq/l5eXh7+9fy+iFJZLshXAlilJ3jxo4ffq02XJISAjBwcGcOXOm
ym2qEhkZyeHDh82eKy0t5ZFHHuGBBx7gnXfe4dixY2avHzx4kOjo6BrFLGwjyV4IAajlmH/961+k
p6eTk5PDP/7xD8aMGcPo0aP56KOPOHjwIIWFhcyePdvicW699VYuXrzI2bNnDc/NmTOH+vXrs2TJ
Ep5++mkeeOABysrKDK9v3bqVYcOG2e3chCR7IUQ5jUbDuHHjSEhIoH379nTs2JEXX3yRoUOH8uST
TzJo0CAiIiIYPHgwGpMLyRU9oio0bNiQBx980NDbZu/evSxcuJClS5ei0WiYMWMGGo2GefPmAeqs
dgcPHqxyilJRd2TUS+EW1GRi6TPhHp8ZV/5st2vXjsWLFzNo0KBaHys7O5t+/fqxb98+qzdWTZ8+
nQ4dOvCnP/2p1u/rLWoy6qX0xhFC1LmWLVty8OBBm7adP3++naMRIGUcIYTwClLGEW5ByjhCGMnk
JUIIIaokyV4IIbyAJHshhPACkuyFEMILSLIXQggvIMleCGE3ycnJTJgwoc731ev1ZoO2XW/q1Km8
8sorNXpfTyU3VQnhZH5+AeXj9duHr6+Wy5dz7HZ8SzS1GJ+/Nvv++9//tmm78PBwPvzwwzq5a9jV
2a1lf+bMGQYOHEi3bt3o3r07b731FqD+tQ4NDSUmJoaYmBjWrVtnrxCEcAvGiVns87DnHxJrXP2e
Anve91BSUmKX49aU3ZJ9gwYNWLhwIQcOHOCHH37gnXfe4eDBg2g0Gp566inS0tJIS0tj6NCh9gpB
CHGD5s2bR2hoKH5+fnTu3JnNmzcD6hDFc+bMoUOHDvj5+REbG0t6ejoATzzxBG3atKF58+bExsay
bdu2ao//ww8/0LdvX7RaLdHR0WzdutXw2okTJxgwYAB+fn4kJCSQnZ1tNd7XX38dnU5HSEgIH330
keH5Bx98kJkzZwLqOD0jRoxAq9XSokUL+vfvj6IoTJgwgdOnT5OYmIivr69h2IbU1FS6deuGVqtl
4MCBHDp0yHDcH3/8kZiYGPz8/Bg9ejT33Xef4X30ej2hoaH885//JDg4mMmTJ3Px4kVGjBhBYGAg
AQEBJCYmGv7fQJ2OcebMmdx+++34+vqSlJREdnY2999/P82bN6dXr16cOnXK6v+DLeyW7IOCggzj
Uzdr1owuXboYTtLV/9oL4Y1+++033nnnHfbs2cPly5fZsGED4eHhgJpUP/30U9auXcvly5dZsmQJ
TZo0AaBXr1789NNP5ObmMm7cOEaNGsW1a9cqHT89PZ0RI0bw0ksvkZuby/z587nnnnu4cOECAOPG
jePWW2/lwoULzJw5k5SUFIulnMzMTC5fvszZs2dZvHgxjz32GJcuXQLMR+JcsGABYWFhZGdnc+7c
OV599VU0Gg3/+c9/aNOmDatXryYvL4/p06dz+PBhxo0bx1tvvUV2djbDhw8nMTGRkpISrl27xl13
3cWkSZPIzc1l7NixrFq1yizGrKwscnNzOX36NO+99x5lZWVMnjyZ06dPc/r0aZo0acLjjz9udh7L
ly9n2bJlpKenc+zYMfr06cPkyZPJycmhS5cuVoeUtpniACdOnFDatGmj5OXlKcnJyUrbtm2VyMhI
ZdKkSUpubm6l7R0UlnAjgLWZOpwdok2qitP6udV6FhObYjty5IgSGBiobNq0Sbl27ZrZa506dVJS
U1NtOo5Wq1X279+vKIqizJo1Sxk/fryiKIoyd+5cZcKECWbbDhkyRElJSVFOnTql+Pj4KIWFhYbX
xo0bZ9j3elu2bFGaNGmilJaWGp4LDAxUdu7cqSiKojz44IPKzJkzFUVRlJdeekm58847laNHj1Y6
Tnh4uPLtt98a1l9++WXlvvvuM6yXlZUprVu3VvR6vbJ161aldevWZvvfcccdhvfZsmWL0rBhQ6Wo
qKja/5u0tDRFq9Ua1uPi4pQ5c+YY1qdNm6YMHz7csP71118r0dHRlY5T3c/U0s/a7r1x8vPzuffe
e3nzzTdp1qwZU6dO5cSJE+zbt4/g4GCmTZtm7xCEEDbo0KEDb7zxBsnJyeh0OsaOHUtGRgagXoNr
3759lfvNnz+frl274u/vj1ar5dKlS1WWYE6dOsXnn3+OVqs1PLZv305mZiZnz55Fq9Uavi0AtG3b
1mK8LVq0oF49Ywpr2rQp+fn5hnWlvILw9NNP06FDB8M4/RXj6FclIyPDbNpFjUZDWFgY6enpZGRk
GObnrXB9j6BWrVrRsGFDw3phYSGPPvoo4eHhNG/enAEDBnDp0iWz6oZOpzMsN27cmMDAQLN103Oq
Dbv2xikuLuaee+5h/PjxhokJTE9kypQpJCYmVrlvcnKyYTkuLo64uDh7hiqEAMaOHcvYsWPJy8vj
0UcfZcaMGSxdupSwsDCOHj1qmHS8wvfff89rr73G5s2b6datG6DOQWuazCq0adOGCRMm8P7771d6
7dSpU+Tm5lJYWEjTpk0Nz9WvX7/W59SsWTPmz5/P/PnzOXDgAIMGDaJXr14MHDiwUpkoJCSEn3/+
2bCuKApnzpwxzMFrWm8HdYrGDh06GNavP96CBQs4fPgwu3btIjAwkH379tGzZ08URamyRHWjPZD0
ej16vd6mbe3WslcUhcmTJ9O1a1eefPJJw/MVLQWAlStX0qNHjyr3T05ONjwk0Qthf4cPH2bz5s0U
FRXRqFEjGjdubEi2U6ZMYebMmRw9ehRFUdi/fz85OTnk5+fj4+NDy5YtuXbtGi+//DKXL1+u8vjj
x4/n66+/ZsOGDZSWlnL16lX0ej3p6em0bduW2NhYZs2aRXFxMdu2bWP16tU1PhfTPzarV682xO3n
50f9+vUN3wh0Op3ZfLijR49mzZo1bN68meLiYhYsWEDjxo3p27cvt912G/Xr1+ftt9+mpKSEr776
it27d1uMIz8/nyZNmtC8eXNycnKqrL+bxlrVH0lL4uLizHKlJXZL9tu3b2fZsmVs2bLF0M1y7dq1
zJgxg8jISKKioti6dSsLFy60VwhCuAVfXy2gsdtDPb51RUVFPPfcc7Rq1Yrg4GCys7N59dVXAXjq
qacYPXo0CQkJNG/enIcffpirV68yZMgQhg4dSkREBOHh4TRp0qRSGaSitRoaGspXX33FnDlzCAwM
pE2bNixYsMAwF+3HH3/Mzp07CQgI4OWXX2bixIkW47XUCjZ936NHjxIfH4+vry99+/blscceY8CA
AQA899xzvPLKK2i1Wl5//XUiIiJYtmwZf/nLX2jVqhVr1qzh66+/xsfHh4YNG/Lll1+yePFitFot
//3vfxkxYoRZ2eb6mJ588kmuXLlCy5Yt6du3L8OGDau0jaUpHq2d542Q8eyFW5Dx7IUr6t27N3/+
85+t/mGqazKevRBC2NF3331HZmYmJSUlpKSk8Msvv7jNvUIyXIIQQtjot99+Y/To0RQUFNC+fXtW
rFhh1pvGlUkZR7gFKeMIYSRlHCGEEFWSZC+EEF5Akr0QQngBuUArhANptdo66zctvJdWa9u9E6bk
Aq1wC55ygVYIe5ILtMKl+fkFGO4crO4hhKgdadkLp7Peagf11n9p2QthibTshRDCy0myF0IILyDJ
XgghvIAke+EhfKxe5PXzC3B2kEI4jVygFU5XVxdobTmGfK6EJ5MLtEII4eUk2QshhBeQZC+EEF5A
kr0QQngBSfZCCOEFJNkLIYQXkGQvhBBeQJK9EEJ4AUn2QgjhBSTZCyGEF5BkL4QQXkCSvRBCeAFJ
9kII4QUk2QshhBewW7I/c+YMAwcOpFu3bnTv3p233noLgJycHOLj44mIiCAhIYGLFy/aKwQhhBDl
7DaefWZmJpmZmURHR5Ofn88tt9zCqlWrWLJkCS1btuSZZ55h3rx55ObmMnfuXPOgZDx7ryLj2QtR
N5wynn1QUBDR0dEANGvWjC5dupCenk5qaioTJ04EYOLEiaxatcpeIQghhCjnkJr9yZMnSUtLo3fv
3mRlZaHT6QDQ6XRkZWU5IgQhhPBqPvZ+g/z8fO655x7efPNNfH19zV6rmBu0KsnJyYbluLg44uLi
7BilEEK4H71ej16vt2lbu85BW1xczIgRIxg2bBhPPvkkAJ07d0av1xMUFERGRgYDBw7k0KFD5kFJ
zd6rSM1eiLrhlJq9oihMnjyZrl27GhI9QFJSEikpKQCkpKQwcuRIe4UghBCinN1a9tu2baN///5E
RkYaSjWvvvoqvXr1YvTo0Zw+fZrw8HA+++wz/P39zYOSlr1XkZa9EHXDUu60axmnpiTZexdJ9kLU
DUu50+4XaIWoK/UopR0n0KBwgnaUysdXCJvJcAnC5WnJYT6QTUuO0pEjRJBNS97gCVqQ7ezwhHAL
UsYRTmepjNOTvaxiJGH8XuXrZwnmLlayi9uqPYbJO8nnSng0qdkLl1Zdsu/Bfr6jP/5cMjyXRSAK
GoIw3oyXz00MpoBdkuyFl3NK10shaiOIDNYx1JDoc4HRLCeITILJ4C6+5AIBADSjgNVACOnOC1gI
Fycte+F0lVv2Ct8wnGGsA+ASfvTnMvuva7l35iDf0Z9W5XX7LcTxBzZRRv3q3kk+V8KjScteuJWH
+cCQ6MvQcC8r2F/Fdofowr2soLT8YzwQPX/mXw6MVAj3IS174XSmLXt/cjlKB1qQA8B8pvE087HU
j342L/ESfwcgF3868RvnCazqneRzJTyaXKAVLs002b/O3/gbbwBwnHZ05VeKaIylZN+QIn6hMR3L
19/jEf7Ee1W9k3yuhEeTZC9cWkWyb83vHOdmGlIMwL18zhfcW7EVlrpWDkPDN+XLxfjQkSOcIvz6
d5LPlfBoUrMXbmEaCwyJ/n/04QvusXnftcBW+gPQgBKeZ449QhTCbUnLXjidRqOhJec4STg3UQjA
cNawluGmW2FtbJwBbEHPQEBt3YdzkrO0NttGPlfCk0nLXri8v7DIkOj3EcVaht3wMbYSx/fcAait
+6n8u05jFMKdSbIXTtcAeNTkguqrPIfakr9xb2CcO+FR3qMRV2sZnRCeQZK9cLqRgI5zAPxO6xuq
1V/vK+7kFG0AaEU2Y/mkLkIUwu1JshdON9Vk+QMertXQxaX48A6PmRxbSjlCgFygFc526BB06QJA
CfVpy6nrLqpWsH3yEi05ZBBMI64B0I1f+JVuyAVa4enkAq1wXeXzEQOkklRNor8xuQTwFXca1h9i
Sa2PKYS7k2QvnKesDP77X8PqEh6qs0ObHmsC/8GnvP++EN7K5mR/9epVioqK7BmL8Dbffw9nzgCQ
TQvWM6TODr2BBNIJAdSLv0PLB1YTwltVm+zLysr48ssvGTVqFK1bt6Zdu3a0bduW1q1bc++997Jy
5Uqpf4raWbbMsPgZoymmYZ0duoz6/IcJhvUxfFpnxxbCHVV7gbZ///7069ePpKQkoqOjadSoEQBF
RUWkpaWRmprKtm3b+O677+o+KLlA6/muXoWgILikTk7Sl+3soK+FHWy/QFshin3sIwaAPJoRSD5X
5HMlPFiNBkIrKioyJPjq2LJNTUiy9wIrV8LddwNwHGhPGZZvpLrxZA8Kh+hMJw4DcA/whXyuhAer
UW+ciiS+adOmSq+llPegsEeiF17iiy8Mi+ptTzW7Y9YyDcu5z7A22g7vIIS7sNrPvl+/fnTv3p35
8+eTl5fHww8/TMOGDfnC5Je1zoOSlr1nu3YNWrWCy5cBiAH22TBZ+I237NU+9r/QA4AC4Kb8fLjp
phoELYTrq1U/+61bt3LzzTcTFRVFv379GDt2rF0TvfACmzcbEj3h4eyz41sdoDsH6ArATQBr1tjx
3YRwXVaTfW5uLrt376Z9+/Y0bNiQ06dPS6tb1M6XXxqXy+v29vSZaQFn1Sq7v58Qrshqsu/Tpw9D
hgxh/fr17N69m/T0dG6//XZHxCY8UWmpecJ1QLI3vZuWb76BYrnBSngfq8l+48aNTJ48GYCmTZuy
aNEiXn31VZsOPmnSJHQ6HT169DA8l5ycTGhoKDExMcTExLBundzs4lW2b4fz59XloCDo08fub/kT
UZykrbpy6RLYobuwEK6u2mR/7NgxANq2bVvptQEDBphtU52HHnqoUjLXaDQ89dRTpKWlkZaWxtCh
Q284aOHGTEs4I0dCPUeM2KEhlSTjamqqA95TCNdS7Viyzz//PAUFBSQlJREbG0twcDCKopCRkcGe
PXtITU3F19eXTz+t/s7Efv36cfLkyUrPS83fi5leIB050mFvm0oSf2WRuvLVV/DGG6CxR3dPIVyT
xa6XR48e5dNPP2X79u2cOnUKUFv6d9xxB2PHjuXmm2+2+gYnT54kMTGRn3/+GYDZs2ezZMkSmjdv
TmxsLAsWLMDf3988KOl66ZmOH4f27dXlJk0gJwcaN0ajsdatEmra9bKCD8WcpyGGT9q+fRAVZWvk
QrgFS7mz2pb9559/zqhRoxg3bhwvvvhinQUzdepUXnrpJQBmzpzJtGnTWLx4caXtkpOTDctxcXHE
xcXVWQzCSTZsMC7HxUHjxg576xIa8A0wruKJ1FRJ9sLt6fV69Hq9TdtW27KPiYkhLS2Nnj178uOP
P9Y4mOtb9ra8Ji17D3XXXcaeOAsXwpPqfLGOaNkD3IfGOBzarbfCrl1WQxbCndSoZd+iRQvi4+M5
fvw4iYmJlQ6YWsOLXBkZGQQHBwOwcuVKs546woMVF6s3U1UYUnfDGdtqHUD9+mr3zz171F5BrVo5
PA4hnKHaZL9mzRrS0tIYP34806dPN/trobHxwtbYsWPZunUr2dnZhIWFMXv2bPR6Pfv27UOj0dCu
XTvee++92p+FcH07dxrvmg0Lg86dHR7CJVC7em7bBoqilpXuv9/hcQjhDNUm+0aNGnHbbbexY8cO
WtWw9fPJJ59Uem7SpEk1OpZwc6b1+oQE5/WEGTZMTfYAa9dKshdeo9pkb1q6ub4OVJsyjvBS69cb
l51QwjEYOhReeEFdXr9enRrRIX39hXCuai/QVlzhXblyJZmZmYwfPx5FUfjkk0/Q6XS88cYb9gtK
LtB6lgsX1Nq4oqiJ9fx5CAgwvOyoC7SgQSkthZAQyMpSn9q1S71YK4QHqNEF2oqujtOmTWPv3r2G
55OSkrjlllvqNkLh2b79Vk30oCZWk0TvcPXqqd8sli5V19eulWQvvILV76+FhYVmwyIcP36cwsJC
uwYlPIyrlHAqDBtmXJaxmYSXqLZlX2HhwoUMHDiQm2++GUVROHnyJO+//74jYhOeQFFcL9nHx6st
/LIytZdQTo5zv20I4QBWW/YDBgzgkUcewd/fn/r16/Poo48aBkITwqqDByE9XV1u3hx69XJuPAAt
WhjjKCsz7ykkhIeymuwfeOABTpw4wRNPPMGLL77I8ePHmTBhgiNiE57AtFU/eDD4WP0y6RimpZy1
a50XhxAOYvU378CBA/z666+G9UGDBtG1a1e7BiU8iGmr2RVKOBWGDoVZs9TljRvVcpOMgik8mNWW
fc+ePdmxY4dh/YcffpDeOMI2V6/C1q3G9YQE58VyvVtuAa1WXc7IgAMHnBuPEHZmNdnv2bOH22+/
nbZt2xIeHk7fvn3Zs2cPPXr0IDIy0hExCnf1/fdw5Yq6HBEB4eFODcdM/fpqWanCxo3Oi0UIB7Ba
xpFpA0WNuWoJp0J8PKxYoS5v3Ah/+5tz4xHCjqwm+3BXao0J92J6cdaVSjgV4uONy1u3QlERNGrk
vHiEsCMZFETYx9mzUDFPQYMG6mQlrqZdO+PMWYWFYHJtSghPI8le2IdpDfyOO6BZM+fFYolp617q
9sKDSbIX9uHqJZwKkuyFl7A44bizyKiXbq6sDHQ6yM4GIAbYZ3UnB416ef3n6uJF9Y7asjK1n312
tgydINyWpdwpLXtR99LSDIk+C/iJUtREXN3Difz9jaNeKor51IlCeBBJ9qLumZRwNgKKq3/MpJQj
vICL/xYKt2TSv369hc1chmmy37DBOPa+EB5EavaibuXlqTXvkhIAgoCsWtfjbdmmhjV7gGvX1JgL
CtT1I0egQwcrxxLC9UjNXjjOli2GRE9UFFnOjeY6Pmg0msqPRo1YXZHoQUo5wiNJshd1y6WHSCih
uovEGzGZU1mSvfBAkuxF3XK1WalstBGTuv3mzcZvJ0J4CEn2ou4cPw5Hj6rLTZvC7bc7N54bcJAu
pBOirly6BHv2ODcgIeqYJHtRd0xLOHFxbjaomMa8dS+lHOFhJNmLuuOmJZwKkuyFJ5Oul6JuFBdD
y5Zw+bK6fvAgdO6MRlMX3Spt2ab2xwgkiyyC1BUfH8jJAV9fK8cUwnVI10thfzt3GhN9mzbQqZNz
46mBc+j4qWKlpMR8SkUh3Jxdk/2kSZPQ6XT06NHD8FxOTg7x8fFERESQkJDAxYsX7RmCcJTrSzhu
Onm3WfFGSjnCg9g12T/00EOVpjWcO3cu8fHxHD58mMGDBzN37lx7hiAcxfTirCsPaWyFJHvhqexe
sz958iSJiYn8XD5rUefOndm6dSs6nY7MzEzi4uI4dOiQeVBSs3cvFy5Aq1bqmDL16qkjXmq1AG5V
swdogobChg3VIRQAzpyB0FArxxXCNbhUzT4rKwudTgeATqcjK8u1bqgXNfDtt8bBw3r3NiR6d3QF
oF8/4xOm31iEcGNWJxy3p4qxSaqSnJxsWI6LiyPOFecwFSp3mZXKVkOGqH/AANatg0mTnBuPENXQ
6/Xo9XqbtnVKGUev1xMUFERGRgYDBw6UMo47UxQIC4P0dHX9f/+DPn0ML7tbGQc0KPv3Q2SkuqrV
wrlzaldMIVycS5VxkpKSSElJASAlJYWRI0c6OgRRl3791ZjoTWd9cmfdu0NI+dAJubmwe7dz4xGi
Dtg12Y8dO5a+ffvy22+/ERYWxpIlS3j22WfZuHEjERERbN68mWeffdaeIQh7M+1tFR/vGS1gjcb8
DuD1bjEFixAWyR20onbi42HTJnV58eJK9W23LOMoCixfDmPGqE/ddhvs2GFlPyGcz1LulGQvaq6g
QJ3hqaKb4u+/Q+vWZpu4bbK/cAECA6GsTO1Oev68eq5CuDCXqtkLD6LXGxN9jx6VEr1ba9HCeP2h
rMz47UUINyXJXtTc2rXG5aFDnReHvZjW7a+7E1wIdyPJXtScaQL0xGRvek7r1xtvHBPCDUnNXtTM
0aPQsaO6fNNNao27islK3LZmD+rIl61aQcVgfT//rHbLFMJFSc1e1D3TVv3gwW42K5WNfHzU3kYV
pJQj3Jgke1Eznl7CqSD97YWHkDKOuHFXr6rdEK9cUdePHYObb65yU7cu44DanTQsTF1u2FCdveqm
m6wcQwi2z25iAAARKElEQVTnkDKOqFvff29M9BER1SZ6jxAaCt26qcvXrsHmzc6NR4gakmQvbtya
NcZlN5xY/Ib98Y/G5a+/dl4cQtSCJHtxYxTFPOElJjovFkcxPcfVq9WbrIRwM1KzFzfm11+NZQ1f
X3VWqoYNq93c7Wv2AKWloNOp3UtBHQUzNtbKcYRwPKnZi7qTmmpcHjLEYqL3GPXrw/DhxnUp5Qg3
JMle3BhvK+FUMD1XSfbCDUkZR9ju/Hm1nFExsXhWFrRsaXEXjyjjAFy+rJ5rcbG6LhORCxckZRxR
N9asMY4P07ev1UTvUfz8YMAA4/rq1c6LRYgakGQvbOetJZwKUsoRbkzKOMI2RUVqSz4/X10/eBA6
d7a6m8eUcQBOnDDeQNaokdo7R+6mFS5Eyjii9jZuNCb6Dh2gUyfnxuMM7doZR70sKpKxcoRbkWQv
bLNihXH5nnvUSbm90d13G5c//9x5cQhxg6SMI6y7dk3thVMxrvsN3FTkUWUcUMe0j4xUl5s1g3Pn
oEkTK8cUwjGkjCNqZ/NmY6Jv2xZuucW58ThT9+7q4G+glrU2bHBuPELYSJK9sM60hHPvvd5bwgH1
3O+917hu+n8jhAuTMo6wrLgYgoLUcdwBduyA226zeXePK+MApKVBz57qsp+fWsrxxJm6hNuRMo6o
ua1bjYk+NBR69XJuPK4gOtrYBfPyZdi0ybnxCGEDSfbCsi++MC7ffbc6TIK3k1KOcEPymyuqV1xs
3r3wnnvMXvbzC0Cj0Vh8uB8fq+fk5xdgnuxXrlSnahTChUmyF9Vbt844hntoKNxxh9nLeXm5qDVw
Sw93U4K1c8rLy1W7nlaUci5dkrFyhMtzWrIPDw8nMjKSmJgYekkd2DX95z/G5fvvlxKOKY0Gxo83
rpv+XwnhgpzWG6ddu3bs3buXgICASq9JbxwXcOmSeiNVUZG6/ssvxhmqyjmup40t2zg2FkVR4MgR
Y597Hx/IyPCukUCFy3HZ3jiS0F3YihXGRB8dXSnRC6BjR+jdW10uKYHPPnNuPEJY4LRkr9Fo+MMf
/kBsbCwffPCBs8IQ1Vm2zLg8YYLz4nB1pv83UsoRLsxpZZyMjAyCg4M5f/488fHxLFq0iH79+qlB
SRnHuU6eVEd4BLVO//vvEBxcaTOvL+OAOuF6cLDasgf47TdjaUcIB7OUO30cHItBcHnyaNWqFXfd
dRe7du0yJHuA5ORkw3JcXBxxcXEOjtCL/d//GZfj46tM9KJcy5bqZOQVE7H/3//BP//p3JiE19Dr
9ej1epu2dUrLvrCwkNLSUnx9fSkoKCAhIYFZs2aRkJCgBiUte+cpLlYHO8vIUNe/+MJ8WF8T0rIv
t3q1cRarli3Vb0IyfIJwApe7QJuVlUW/fv2Ijo6md+/ejBgxwpDohZOtXm1M9EFB3jn94I0aNgzC
wtTl7Gz1JishXIxTyjjt2rVj3759znhrYc177xmXJ02CBg2cF4u7qF8fpkyBWbPU9ffegzFjnBuT
ENeRUS+F0YkT0L49KIp609Dx4xAeXu3mUsYxkZ6ulr9KS9X1Q4e8c+pG4VQuV8YRLurdd9VEDzBk
iMVEL67TujWMGGFc/9e/nBeLEFWQlr1Q5eer499cuqSuf/UVJCVZ3EVa9tdZvx6GDlWXb7oJzpwB
rdbKsYSoO9KyF9Z9+KEx0XfsaN5KFbZJSFCnLQQoKID333duPEKYkGQv1DrzG28Y1//2Nxn0rCY0
Gpg2zbj+5pvqZO1CuAD5jRZqV8ETJ9TlgACYONG58bizsWONN6FlZMAnnzg3HiHKSbL3dmVl8Pe/
G9enToWmTZ0Xj7tr1Aj++lfj+j//qf4fC+FkcoHW2335pXEGqqZN1XFxWrWyaVe5QFuN3Fxo00a9
6A1q61763QsHkAu0omplZWAyBhGPP25I9J455aCDaLXwxBPG9eRk40BpQjiJtOy92eefw+jR6vJN
N6l1+/Jk71qtdlu2caGWPait+3btjD2cUlLggQesHFeI2pGWvaisqAiefda4btKqF3VAq4WnnjKu
z5olk5ILp5Jk760WLVKHQwA1MT3zjHPj8URPPgktWqjLJ0/C6687NRzh3STZe6Pz58174MyapXa5
FDbysXo9w88vAPz84OWXjbvNmaOOoSOEE0iy90YzZsDly+pyRAT8+c/OjcftlKDW9at/5OXlqps+
8gj06KEuFxTINyjhNJLsvc2mTbBkiXF9wQIZxtiefHzM707++GP45hvnxSO8lvTG8SYFBerYLSdP
quujRsFnn1W5qfTGqf02Zp/hceOMd9O2bg0HDkDz5laOIcSNkd44QvXUU8ZEr9WqF2mFY7z1lrG3
U3q6evFWCAeSZO8tPv3UfBTGhQtBp3NePN6mZUvzMe4/+giWLnVaOML7SBnHGxw+DLGxkJenrt93
n1pSsHAXrJRxar9NlZ/h++9X6/YATZrAzp3GC7hC1JKl3CnJ3tNduAB9+sCRI+p6+/bw449qt0AL
JNnXfpsqP8P5+dCrFxw8qK63bw//+x8EBlo5nhDWSc3eW129CiNHGhN948bqBVkriV7YUbNmsGKF
cWTRY8fUiWIKCpwbl/B4kuw91dWr6miW27ap6xoNLFsGPXsC1gc6E3bUtatayqmYIGb3brj7brhy
xblxCY8myd4TXbmituhN+3O/9ppxKGMov+nH0o1Bwq7uvBPeftu4vmEDDB9uvK4iRB2TZO9pzp6F
AQPUya8rvPii+aBcwjVMnQqzZxvX9XoYOFCdqFyIOiYXaD3J9u1qTxuT8VdmAS9Xu4N7XfB0t3ht
/gzPm2c+AmlgICxfDnFxtu0vRDm5QOvprl6F55+H/v0Nib6E+jzG27wsZRrXN2MGvPuuOrQCwLlz
MGiQ+m2ssNC5sQmPIS17d6Yo6mTh06cbJwwHcoD72MAm4i3s7H4tZXeL19Jn2M8vwDhYWrn+wOeA
aSfMU8ALwMfVvKOvr5bLl3OsxCK8hfSz9yB+fgEU5uUyCpgBRF/3+ibgQSDdA5One8XbAHV0TEsq
HyOEdBYzmaGsN3v+JyJZwDSWcx/XaGQWi/yuiAouV8ZZt24dnTt3pmPHjsybN88ZIbifsjLYtYvk
vFzSCeQTzBP9BQL4E/8mgVJkxHRXYG0Y5KqdpTXDWMsUPuC8yfNR7GcpEzlNG97kr9zB92gos2P8
wuMoDlZSUqK0b99eOXHihHLt2jUlKipK+fXXX822cVRYW7Zsccj71EhhoaLs2KEob7+tKGPHKkqL
FoqiFm7MHvk0VebzlKLlgsnTKLClqs2v26Y2rztzm6rOzZXjtfV18/PyA+UVnlcKaFLlQbJopXwG
6mdk505Fyc939qe2Wi79u1ZLrnRulnKnj6P/uOzatYsOHToQHh4OwJgxY/jqq6/o0qWLo0NBr9cT
Z0OPh6rqq9ezVjutOEZDoCnQovzRsvxfHdCpQSOmDB6o1t+PHoXS0mqPl04I7/MIb/M4ObSoYgs9
EGf5xNyWHs88Nz2m53UZeJF/8DpP8TAf8DhvE2ryvS2Q84wCdf5gUG+cu/lm6NwZ2rRRH2Fh6iBs
Wq3x4e9vvBjsILb+rrkjdzk3hyf79PR0wsLCDOuhoaHs3Lmz0naZsbHqQnn9SWNah1IUmjZpgm+z
ZmbbGBtNVP3v9c+dPAnffmt1v415uUAvNOVfv03/NSzn/ajenVqxX3Gx2kvmyhW4epXMvFwao6Ge
pVpvcRGsW1fty5nAOuBj1vMtgymjfvXHEh4jhxbM41nmM53+fMdoPuNuviTQrNCD+tk7dkx9WOPj
A40aqUNomD4aNID69dW7e2152Hq39ZEj6qBvYPs+FVxt++v99hvs3Vu7YziAw5O9rbfiBznqP8+G
G1h6A7DL+rHS0qp9SR0JxUKiv04ZGg4TwV5uYS+3sIWB/EQUCvWBBJuPIzxHKT5sYRBbGMSf+Rfd
OEAc0dxBGT2ATmD7n/+SEvXhyDF5bPkj5K4qxp9yZQ4sJymKoig7duxQhgwZYlifM2eOMnfuXLNt
oqKiymua8pCHPOQhD1sfUVFR1eZeh3e9LCkpoVOnTnz77beEhITQq1cvPvnkE6fU7IUQwls4vIzj
4+PD22+/zZAhQygtLWXy5MmS6IUQws5c8qYqIYQQdcvjx8bJyckhPj6eiIgIEhISuHjxYpXbTZo0
CZ1OR4/rpoizdX9nsDW26m5iS05OJjQ0lJiYGGJiYlhnoSeQI9hys91f//pXOnbsSFRUFGkmF8Rd
/Ua92pxbeHg4kZGRxMTE0KtXL0eFbDNr53bo0CH69OlD48aNWbBgwQ3t62y1OTeX+7nZ5SqsC3n6
6aeVefPmKYqiKHPnzlVmzJhR5Xbfffed8uOPPyrdu3ev0f7OYEtslm5iS05OVhYsWODQmKtjy812
a9asUYYNG6YoiqL88MMPSu/evW3e15lqc26Koijh4eHKhQsXHBqzrWw5t3Pnzim7d+9WXnjhBWX+
/Pk3tK8z1ebcFMX1fm4e37JPTU1l4sSJAEycOJFVq1ZVuV2/fv3QarU13t8ZbInN9Ca2Bg0aGG5i
q6C4SBXPWpxgfr69e/fm4sWLZGZm2rSvM9X03LKysgyvu8rP6Xq2nFurVq2IjY2lQYMGN7yvM9Xm
3Cq40s/N45N9VlYWOp0OAJ1OZ/YL5Ij97cmW2Kq6iS3dZLz7RYsWERUVxeTJk51aorIWp6Vtzp49
a3VfZ6rNuYF6b8of/vAHYmNj+eCDDxwTtI1sOTd77OsItY3P1X5uDu+NYw/x8fFkZmZWev4f//iH
2Xpt51d1xvystT03S/FOnTqVl156CYCZM2cybdo0Fi9eXMuIa8bW/1dXainZqrbntm3bNkJCQjh/
/jzx8fF07tyZfv361WWINVbb3ydXVtv4tm/fTnBwsMv83Dwi2W/cuLHa13Q6HZmZmQQFBZGRkUFg
YGC129pj/9qq7bm1bt2aMyZ3CZ85c4bQ0FAAs+2nTJlCYmJiHUZ+YyzFWd02v//+O6GhoRQXF1vd
15lqem6tW7cGICQkBFBLBnfddRe7du1ymWRvy7nZY19HqG18wcHBgOv83Dy+jJOUlERKSgoAKSkp
jBw50qH725MtscXGxnLkyBFOnjzJtWvXWL58OUlJSQBkZGQYtlu5cmWlnkiOZCnOCklJSSxduhSA
H374AX9/f3Q6nU37OlNtzq2wsJC88knICwoK2LBhg1N/Tte7kf/767+5eMLPrcL15+aSPzcnXhx2
iAsXLiiDBw9WOnbsqMTHxyu5ubmKoihKenq6Mnz4cMN2Y8aMUYKDg5WGDRsqoaGhyocffmhxf1dg
67l98803SkREhNK+fXtlzpw5hucnTJig9OjRQ4mMjFTuvPNOJTMz0+HnYKqqON99913l3XffNWzz
2GOPKe3bt1ciIyOVvXv3WtzXldT03I4dO6ZERUUpUVFRSrdu3dzy3DIyMpTQ0FDFz89P8ff3V8LC
wpS8vLxq93UlNT03V/y5yU1VQgjhBTy+jCOEEEKSvRBCeAVJ9kII4QUk2QshhBeQZC+EEF5Akr0Q
QngBSfZCCOEFJNkLIYQXkGQvhA12795NVFQURUVFFBQU0L17d3799VdnhyWEzeQOWiFsNHPmTK5e
vcqVK1cICwtjxowZzg5JCJtJshfCRsXFxcTGxtKkSRN27Njh8kP0CmFKyjhC2Cg7O5uCggLy8/O5
cuWKs8MR4oZIy14IGyUlJTFu3DiOHz9ORkYGixYtcnZIQtjMIyYvEcLeli5dSqNGjRgzZgxlZWX0
7dsXvV5PXFycs0MTwibSshdCCC8gNXshhPACkuyFEMILSLIXQggvIMleCCG8gCR7IYTwApLshRDC
C0iyF0IILyDJXgghvMD/A1NaBQ8zipwWAAAAAElFTkSuQmCC
"
>
</div>

</div>

</div>
</div>

</div>
<div class="cell border-box-sizing text_cell rendered">
<div class="prompt input_prompt">
</div>
<div class="inner_cell">
<div class="text_cell_render border-box-sizing rendered_html">
<h4 id="Student-t-distribution">Student-t distribution<a class="anchor-link" href="#Student-t-distribution">&#182;</a></h4>
</div>
</div>
</div>

<div class="cell border-box-sizing text_cell rendered">
<div class="prompt input_prompt">
</div>
<div class="inner_cell">
<div class="text_cell_render border-box-sizing rendered_html">
<p>From the above fit we notice that the normal distribution does not produce high quality fits of stock data. In particular, it underestimates the tail events. Here we take a look at the student t distribution as an alternative model.</p>
<p>We first define some handles to the distribution.</p>
</div>
</div>
</div>
<div class="cell border-box-sizing code_cell rendered">
<div class="input">
<div class="prompt input_prompt">In&nbsp;[11]:</div>
<div class="inner_cell">
    <div class="input_area">
<div class="highlight"><pre><span class="kn">from</span> <span class="nn">scipy.stats</span> <span class="kn">import</span> <span class="n">t</span> <span class="k">as</span> <span class="n">tdist</span>

<span class="c">## Define the </span>

<span class="k">def</span> <span class="nf">locationScaleTcdf</span><span class="p">(</span><span class="n">x</span><span class="p">,</span> <span class="n">mu</span><span class="p">,</span> <span class="n">sigma</span><span class="p">,</span> <span class="n">nu</span><span class="p">):</span>
    <span class="k">return</span> <span class="n">tdist</span><span class="o">.</span><span class="n">cdf</span><span class="p">((</span><span class="n">x</span> <span class="o">-</span> <span class="n">mu</span><span class="p">)</span><span class="o">/</span><span class="n">sigma</span><span class="p">,</span> <span class="n">nu</span><span class="p">)</span>


<span class="k">def</span> <span class="nf">locationScaleTinv</span><span class="p">(</span><span class="n">p</span><span class="p">,</span> <span class="n">mu</span><span class="p">,</span> <span class="n">sigma</span><span class="p">,</span> <span class="n">nu</span><span class="p">):</span>
    <span class="k">return</span> <span class="n">mu</span> <span class="o">+</span> <span class="n">sigma</span> <span class="o">*</span> <span class="n">tdist</span><span class="o">.</span><span class="n">ppf</span><span class="p">(</span><span class="n">p</span><span class="p">,</span> <span class="n">nu</span><span class="p">)</span>

<span class="k">def</span> <span class="nf">locationScaleTpdf</span><span class="p">(</span><span class="n">x</span><span class="p">,</span> <span class="n">mu</span><span class="p">,</span> <span class="n">sigma</span><span class="p">,</span> <span class="n">nu</span><span class="p">):</span>
    <span class="k">return</span> <span class="n">tdist</span><span class="o">.</span><span class="n">pdf</span><span class="p">((</span><span class="n">x</span> <span class="o">-</span> <span class="n">mu</span><span class="p">)</span><span class="o">/</span><span class="n">sigma</span><span class="p">,</span> <span class="n">nu</span><span class="p">)</span> <span class="o">/</span> <span class="n">sigma</span>
</pre></div>

</div>
</div>
</div>

</div>
<div class="cell border-box-sizing code_cell rendered">
<div class="input">
<div class="prompt input_prompt">In&nbsp;[12]:</div>
<div class="inner_cell">
    <div class="input_area">
<div class="highlight"><pre><span class="k">def</span> <span class="nf">demo_studentT</span><span class="p">():</span>
    <span class="n">mu</span> <span class="o">=</span> <span class="mi">0</span>
    <span class="n">sigma</span> <span class="o">=</span> <span class="mi">1</span>
    <span class="n">nu</span> <span class="o">=</span> <span class="p">[</span><span class="mi">1</span><span class="p">,</span> <span class="mi">2</span><span class="p">,</span> <span class="mi">5</span><span class="p">,</span> <span class="mi">30</span><span class="p">]</span>
    <span class="n">alpha</span> <span class="o">=</span> <span class="mi">6</span> 
    <span class="n">xMin</span> <span class="o">=</span> <span class="n">mu</span> <span class="o">-</span> <span class="n">alpha</span> <span class="o">*</span> <span class="n">sigma</span>
    <span class="n">xMax</span> <span class="o">=</span> <span class="n">mu</span> <span class="o">+</span> <span class="n">alpha</span> <span class="o">*</span> <span class="n">sigma</span>
    <span class="n">nPlot</span> <span class="o">=</span> <span class="mi">1000</span>
    <span class="n">xPlot</span> <span class="o">=</span> <span class="n">np</span><span class="o">.</span><span class="n">linspace</span><span class="p">(</span><span class="n">xMin</span><span class="p">,</span> <span class="n">xMax</span><span class="p">,</span> <span class="n">nPlot</span><span class="p">)</span>
    <span class="n">fig</span> <span class="o">=</span> <span class="n">plt</span><span class="o">.</span><span class="n">figure</span><span class="p">(</span><span class="n">figsize</span><span class="o">=</span><span class="p">(</span><span class="mi">10</span><span class="p">,</span><span class="mi">8</span><span class="p">))</span>
    <span class="n">ax_pdf</span> <span class="o">=</span> <span class="n">fig</span><span class="o">.</span><span class="n">add_subplot</span><span class="p">(</span><span class="mi">211</span><span class="p">)</span>
    <span class="n">ax_cdf</span> <span class="o">=</span> <span class="n">fig</span><span class="o">.</span><span class="n">add_subplot</span><span class="p">(</span><span class="mi">212</span><span class="p">)</span>
    <span class="k">for</span> <span class="n">n</span> <span class="ow">in</span> <span class="n">nu</span><span class="p">:</span>
        <span class="n">ax_pdf</span><span class="o">.</span><span class="n">plot</span><span class="p">(</span><span class="n">xPlot</span><span class="p">,</span> <span class="n">locationScaleTpdf</span><span class="p">(</span><span class="n">xPlot</span><span class="p">,</span> <span class="n">mu</span><span class="p">,</span> <span class="n">sigma</span><span class="p">,</span> <span class="n">n</span><span class="p">),</span> <span class="n">label</span><span class="o">=</span><span class="s">r&#39;$\nu$ = {}&#39;</span><span class="o">.</span><span class="n">format</span><span class="p">(</span><span class="n">n</span><span class="p">))</span>
        <span class="n">ax_cdf</span><span class="o">.</span><span class="n">plot</span><span class="p">(</span><span class="n">xPlot</span><span class="p">,</span> <span class="n">locationScaleTcdf</span><span class="p">(</span><span class="n">xPlot</span><span class="p">,</span> <span class="n">mu</span><span class="p">,</span> <span class="n">sigma</span><span class="p">,</span> <span class="n">n</span><span class="p">),</span> <span class="n">label</span><span class="o">=</span><span class="s">r&#39;$\nu$ = {}&#39;</span><span class="o">.</span><span class="n">format</span><span class="p">(</span><span class="n">n</span><span class="p">))</span>
    <span class="n">ax_pdf</span><span class="o">.</span><span class="n">set_title</span><span class="p">(</span><span class="s">&#39;Student t distribution -- PDF ($\mu$ = {}, $\sigma$ = {})&#39;</span><span class="o">.</span><span class="n">format</span><span class="p">(</span><span class="n">mu</span><span class="p">,</span><span class="n">sigma</span><span class="p">),</span> <span class="n">fontsize</span><span class="o">=</span><span class="mi">19</span><span class="p">)</span>
    <span class="n">ax_pdf</span><span class="o">.</span><span class="n">legend</span><span class="p">(</span><span class="n">fontsize</span><span class="o">=</span><span class="mi">15</span><span class="p">)</span>
    <span class="n">ax_cdf</span><span class="o">.</span><span class="n">set_title</span><span class="p">(</span><span class="s">&#39;Student t distribution -- CDF ($\mu$ = {}, $\sigma$ = {})&#39;</span><span class="o">.</span><span class="n">format</span><span class="p">(</span><span class="n">mu</span><span class="p">,</span><span class="n">sigma</span><span class="p">),</span> <span class="n">fontsize</span><span class="o">=</span><span class="mi">19</span><span class="p">)</span>
    <span class="n">ax_cdf</span><span class="o">.</span><span class="n">legend</span><span class="p">(</span><span class="n">fontsize</span><span class="o">=</span><span class="mi">15</span><span class="p">,</span> <span class="n">loc</span><span class="o">=</span><span class="s">&#39;lower right&#39;</span><span class="p">)</span>
    <span class="n">fig</span><span class="o">.</span><span class="n">tight_layout</span><span class="p">()</span>
<span class="n">demo_studentT</span><span class="p">()</span>
</pre></div>

</div>
</div>
</div>

<div class="output_wrapper">
<div class="output">


<div class="output_area"><div class="prompt"></div>


<div class="output_png output_subarea ">
<img src="data:image/png;base64,iVBORw0KGgoAAAANSUhEUgAAAsgAAAI6CAYAAAA68b5kAAAABHNCSVQICAgIfAhkiAAAAAlwSFlz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"
>
</div>

</div>

</div>
</div>

</div>
<div class="cell border-box-sizing text_cell rendered">
<div class="prompt input_prompt">
</div>
<div class="inner_cell">
<div class="text_cell_render border-box-sizing rendered_html">
<p>Next we write a function which fits the student t distribution to a dataset, using moment estimates for the mean and standard deviation as input.</p>
</div>
</div>
</div>
<div class="cell border-box-sizing code_cell rendered">
<div class="input">
<div class="prompt input_prompt">In&nbsp;[13]:</div>
<div class="inner_cell">
    <div class="input_area">
<div class="highlight"><pre><span class="k">def</span> <span class="nf">fit2StudentT</span><span class="p">(</span><span class="n">X</span><span class="p">,</span> <span class="n">nu0</span><span class="p">):</span>
    <span class="sd">&quot;&quot;&quot;</span>
<span class="sd">    fit2StudentT: ML fit to a Student&#39;s t distribution</span>
<span class="sd">    INPUT:</span>
<span class="sd">             X : Sample</span>
<span class="sd">           nu0 : Seed for the degrees of freedom</span>

<span class="sd">    OUTPUT:</span>
<span class="sd">     [mu,sigma,nu] : Parameters of the Student&#39;s t distribution from ML fit</span>
<span class="sd">          modelPdf : Fitted pdf</span>
<span class="sd">          modelPdf : Fitted cdf</span>
<span class="sd">          modelPdf : Fitted inv</span>
<span class="sd">    &quot;&quot;&quot;</span>

    <span class="c">## Seed for mu,sigma determined from moment matching</span>
    <span class="n">mu0</span>    <span class="o">=</span> <span class="n">np</span><span class="o">.</span><span class="n">mean</span><span class="p">(</span><span class="n">X</span><span class="p">);</span>                        <span class="c"># match first moment</span>
    <span class="n">sigma0</span> <span class="o">=</span> <span class="n">np</span><span class="o">.</span><span class="n">sqrt</span><span class="p">(</span><span class="n">np</span><span class="o">.</span><span class="n">var</span><span class="p">(</span><span class="n">X</span><span class="p">)</span> <span class="o">*</span> <span class="p">(</span><span class="n">nu0</span> <span class="o">-</span> <span class="mi">2</span><span class="p">)</span><span class="o">/</span><span class="n">nu0</span><span class="p">)</span> <span class="c"># match second moment</span>

    <span class="c">## ML fit </span>
    <span class="k">def</span> <span class="nf">PDFhandle</span><span class="p">(</span><span class="n">X</span><span class="p">,</span> <span class="n">args</span><span class="p">):</span>
        <span class="n">_mu</span><span class="p">,</span> <span class="n">_sigma</span><span class="p">,</span> <span class="n">_nu</span> <span class="o">=</span> <span class="n">args</span>
        <span class="k">return</span> <span class="n">locationScaleTpdf</span><span class="p">(</span><span class="n">X</span><span class="p">,</span> <span class="n">_mu</span><span class="p">,</span> <span class="n">_sigma</span><span class="p">,</span> <span class="n">_nu</span><span class="p">)</span>
        
    <span class="n">LL</span><span class="p">,</span> <span class="n">argsout</span> <span class="o">=</span> <span class="n">fit2pdf</span><span class="p">(</span><span class="n">X</span><span class="p">,</span> <span class="n">PDFhandle</span><span class="p">,</span> <span class="p">[</span><span class="n">mu0</span><span class="p">,</span> <span class="n">sigma0</span><span class="p">,</span> <span class="n">nu0</span><span class="p">])</span>
    <span class="n">mu</span><span class="p">,</span> <span class="n">sigma</span><span class="p">,</span> <span class="n">nu</span> <span class="o">=</span> <span class="n">argsout</span>
    
    <span class="c">## Model pdf, cdf and inv</span>
    <span class="n">modelPdf</span> <span class="o">=</span> <span class="k">lambda</span> <span class="n">x</span><span class="p">:</span> <span class="n">locationScaleTpdf</span><span class="p">(</span><span class="n">x</span><span class="p">,</span> <span class="n">mu</span><span class="p">,</span> <span class="n">sigma</span><span class="p">,</span> <span class="n">nu</span><span class="p">)</span>
    <span class="n">modelCdf</span> <span class="o">=</span> <span class="k">lambda</span> <span class="n">x</span><span class="p">:</span> <span class="n">locationScaleTcdf</span><span class="p">(</span><span class="n">x</span><span class="p">,</span> <span class="n">mu</span><span class="p">,</span> <span class="n">sigma</span><span class="p">,</span> <span class="n">nu</span><span class="p">)</span>
    <span class="n">modelInv</span> <span class="o">=</span> <span class="k">lambda</span> <span class="n">p</span><span class="p">:</span> <span class="n">locationScaleTinv</span><span class="p">(</span><span class="n">p</span><span class="p">,</span> <span class="n">mu</span><span class="p">,</span> <span class="n">sigma</span><span class="p">,</span> <span class="n">nu</span><span class="p">)</span>
    <span class="k">return</span> <span class="p">[</span><span class="n">mu</span><span class="p">,</span> <span class="n">sigma</span><span class="p">,</span> <span class="n">nu</span><span class="p">],</span> <span class="n">modelPdf</span><span class="p">,</span> <span class="n">modelCdf</span><span class="p">,</span> <span class="n">modelInv</span>
</pre></div>

</div>
</div>
</div>

</div>
<div class="cell border-box-sizing text_cell rendered">
<div class="prompt input_prompt">
</div>
<div class="inner_cell">
<div class="text_cell_render border-box-sizing rendered_html">
<p>An example</p>
</div>
</div>
</div>
<div class="cell border-box-sizing code_cell rendered">
<div class="input">
<div class="prompt input_prompt">In&nbsp;[28]:</div>
<div class="inner_cell">
    <div class="input_area">
<div class="highlight"><pre><span class="k">def</span> <span class="nf">studentFitExample</span><span class="p">():</span>
    <span class="n">mu</span> <span class="o">=</span> <span class="mi">3</span>
    <span class="n">sigma</span> <span class="o">=</span> <span class="mi">2</span>
    <span class="n">nu</span> <span class="o">=</span> <span class="mf">2.5</span>
    <span class="n">M</span> <span class="o">=</span> <span class="mf">1e5</span>
    <span class="c">## Draw M samples</span>
    <span class="n">X</span> <span class="o">=</span> <span class="n">mu</span> <span class="o">+</span> <span class="n">sigma</span> <span class="o">*</span> <span class="n">tdist</span><span class="o">.</span><span class="n">rvs</span><span class="p">(</span><span class="n">nu</span><span class="p">,</span> <span class="n">size</span><span class="o">=</span><span class="p">(</span><span class="mf">1e5</span><span class="p">))</span>
    
    <span class="n">nu0</span> <span class="o">=</span> <span class="mi">5</span>
    
    <span class="n">mle_args</span><span class="p">,</span> <span class="n">mle_pdf</span><span class="p">,</span> <span class="n">mle_cdf</span><span class="p">,</span> <span class="n">mle_inv</span> <span class="o">=</span> <span class="n">fit2StudentT</span><span class="p">(</span><span class="n">X</span><span class="p">,</span> <span class="n">nu0</span><span class="p">)</span>
    <span class="n">mle_mu</span><span class="p">,</span> <span class="n">mle_sigma</span><span class="p">,</span> <span class="n">mle_nu</span> <span class="o">=</span> <span class="n">mle_args</span>
    <span class="n">graphicalComparisonPdf</span><span class="p">(</span><span class="n">X</span><span class="p">,</span> <span class="n">mle_pdf</span><span class="p">,</span> <span class="n">xMin</span><span class="o">=-</span><span class="mi">15</span><span class="p">,</span> <span class="n">xMax</span><span class="o">=</span><span class="mi">25</span><span class="p">,</span> <span class="n">nBins</span><span class="o">=</span><span class="mi">1000</span><span class="p">)</span>
    <span class="k">print</span> <span class="s">&quot;Estimated parameters (MLE) vs True parameters&quot;</span>
    <span class="k">print</span> <span class="s">&quot;Mean:&quot;</span><span class="p">,</span> <span class="n">np</span><span class="o">.</span><span class="n">round</span><span class="p">(</span><span class="n">mle_mu</span><span class="p">,</span> <span class="mi">5</span><span class="p">),</span> <span class="n">mu</span>
    <span class="k">print</span> <span class="s">&quot;Std: &quot;</span><span class="p">,</span> <span class="n">np</span><span class="o">.</span><span class="n">round</span><span class="p">(</span><span class="n">mle_sigma</span><span class="p">,</span> <span class="mi">5</span><span class="p">),</span> <span class="n">sigma</span>
    <span class="k">print</span> <span class="s">&quot;DF:  &quot;</span><span class="p">,</span> <span class="n">np</span><span class="o">.</span><span class="n">round</span><span class="p">(</span><span class="n">mle_nu</span><span class="p">,</span> <span class="mi">5</span><span class="p">),</span> <span class="n">nu</span>
<span class="n">studentFitExample</span><span class="p">()</span>
</pre></div>

</div>
</div>
</div>

<div class="output_wrapper">
<div class="output">


<div class="output_area"><div class="prompt"></div>
<div class="output_subarea output_stream output_stdout output_text">
<pre>
Estimated parameters (MLE) vs True parameters
Mean: 3.00505 3
Std:  1.98921 2
DF:   2.48078 2.5

</pre>
</div>
</div>

<div class="output_area"><div class="prompt"></div>


<div class="output_png output_subarea ">
<img src="data:image/png;base64,iVBORw0KGgoAAAANSUhEUgAAAYoAAAEPCAYAAABcA4N7AAAABHNCSVQICAgIfAhkiAAAAAlwSFlz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"
>
</div>

</div>

</div>
</div>

</div>
<div class="cell border-box-sizing text_cell rendered">
<div class="prompt input_prompt">
</div>
<div class="inner_cell">
<div class="text_cell_render border-box-sizing rendered_html">
<h4 id="Copulas">Copulas<a class="anchor-link" href="#Copulas">&#182;</a></h4>
</div>
</div>
</div>

<div class="cell border-box-sizing text_cell rendered">
<div class="prompt input_prompt">
</div>
<div class="inner_cell">
<div class="text_cell_render border-box-sizing rendered_html">
<p>Recall that in Week 8 we encountered the multivariate Gaussian distribution. These multivariate distributions are characterized by (1) the marginal distribution of the random variables which are also Gaussian, and (2) a linear correlation between the different random variables which is completely captured by the covariance matrix $\Sigma$.</p>
<p>The multivariate Gaussian can only deal with linear correlations among its random variables. For more complex dependencies we make use of a more sophisticated object: copulas. Using copulas we can seperate the process of (1) modelling the individual assets and (2) modeling the dependencies between these assets. For an exact definition of the copula we refer to the lecture.</p>
<p>Here we look at two different copulas: the Gaussian and the student t copulas. For simplicity we assume that in both cases the  marginal distributions are all Gaussians. </p>
<p>We first implement a random number generator from a Gaussian copula.</p>
</div>
</div>
</div>
<div class="cell border-box-sizing code_cell rendered">
<div class="input">
<div class="prompt input_prompt">In&nbsp;[15]:</div>
<div class="inner_cell">
    <div class="input_area">
<div class="highlight"><pre><span class="kn">from</span> <span class="nn">numpy.linalg</span> <span class="kn">import</span> <span class="n">cholesky</span>
<span class="kn">from</span> <span class="nn">scipy.stats</span> <span class="kn">import</span> <span class="n">norm</span>



<span class="k">def</span> <span class="nf">gaussianCopulaRand</span><span class="p">(</span><span class="n">M</span><span class="p">,</span> <span class="n">rho</span><span class="p">):</span>
    <span class="sd">&quot;&quot;&quot;</span>
<span class="sd">    gaussianCopulaRand: Generates random numbers from a Gaussian copula</span>
<span class="sd">    INPUT:</span>
<span class="sd">         M : size of the sample</span>
<span class="sd">       rho : corelation matrix [D,D]</span>

<span class="sd">    OUTPUT:</span>
<span class="sd">         U : Sample from the copula [M,D]  </span>
<span class="sd">    &quot;&quot;&quot;</span>
    
    <span class="n">rho</span> <span class="o">=</span> <span class="n">np</span><span class="o">.</span><span class="n">asarray</span><span class="p">(</span><span class="n">rho</span><span class="p">)</span>
    
    <span class="c">## Dimensionality of the copula</span>
    <span class="n">D</span> <span class="o">=</span> <span class="n">rho</span><span class="o">.</span><span class="n">shape</span><span class="p">[</span><span class="mi">0</span><span class="p">]</span>
    
    <span class="c">## Cholesky decomposition</span>
    <span class="n">L</span> <span class="o">=</span> <span class="n">cholesky</span><span class="p">(</span><span class="n">rho</span><span class="p">)</span><span class="o">.</span><span class="n">T</span>
    
    <span class="c">## Sample from N(0, I)   [independent components]</span>
    <span class="n">X</span> <span class="o">=</span> <span class="n">np</span><span class="o">.</span><span class="n">random</span><span class="o">.</span><span class="n">randn</span><span class="p">(</span><span class="n">D</span><span class="p">,</span> <span class="n">M</span><span class="p">)</span>     
    
    <span class="c">## Sample from N(0, rho) [linearly dependent components]</span>
    <span class="n">Z</span> <span class="o">=</span> <span class="n">np</span><span class="o">.</span><span class="n">dot</span><span class="p">(</span><span class="n">L</span><span class="p">,</span> <span class="n">X</span><span class="p">)</span>                          
    
    <span class="c">## Gaussian copula (U[0, 1] marginals)</span>
    <span class="n">U</span> <span class="o">=</span> <span class="n">norm</span><span class="o">.</span><span class="n">cdf</span><span class="p">(</span><span class="n">Z</span><span class="p">)</span>   <span class="c"># Matrix [D, M]</span>
    <span class="n">U</span> <span class="o">=</span> <span class="n">U</span><span class="o">.</span><span class="n">T</span>           <span class="c"># Matrix [M, D]</span>
    <span class="k">return</span> <span class="n">U</span>
</pre></div>

</div>
</div>
</div>

</div>
<div class="cell border-box-sizing text_cell rendered">
<div class="prompt input_prompt">
</div>
<div class="inner_cell">
<div class="text_cell_render border-box-sizing rendered_html">
<p>For example</p>
</div>
</div>
</div>
<div class="cell border-box-sizing code_cell rendered">
<div class="input">
<div class="prompt input_prompt">In&nbsp;[16]:</div>
<div class="inner_cell">
    <div class="input_area">
<div class="highlight"><pre><span class="k">def</span> <span class="nf">exampleGaussCopula</span><span class="p">():</span>
    <span class="n">rho</span> <span class="o">=</span> <span class="p">[[</span><span class="mi">1</span><span class="p">,</span> <span class="mf">0.8</span><span class="p">],</span> <span class="p">[</span><span class="mf">0.8</span><span class="p">,</span> <span class="mi">1</span><span class="p">]]</span>
    <span class="n">M</span> <span class="o">=</span> <span class="mf">2e3</span>
    <span class="n">U</span> <span class="o">=</span> <span class="n">gaussianCopulaRand</span><span class="p">(</span><span class="n">M</span><span class="p">,</span> <span class="n">rho</span><span class="p">)</span>
    <span class="n">Uinv</span> <span class="o">=</span> <span class="n">norm</span><span class="o">.</span><span class="n">ppf</span><span class="p">(</span><span class="n">U</span><span class="p">)</span><span class="o">.</span><span class="n">T</span>
    <span class="n">fig</span> <span class="o">=</span> <span class="n">plt</span><span class="o">.</span><span class="n">figure</span><span class="p">(</span><span class="n">figsize</span><span class="o">=</span><span class="p">(</span><span class="mi">8</span><span class="p">,</span> <span class="mi">8</span><span class="p">))</span>
    <span class="n">ax</span> <span class="o">=</span> <span class="n">fig</span><span class="o">.</span><span class="n">add_subplot</span><span class="p">(</span><span class="mi">121</span><span class="p">)</span>
    <span class="n">ax</span><span class="o">.</span><span class="n">scatter</span><span class="p">(</span><span class="n">Uinv</span><span class="p">[</span><span class="mi">0</span><span class="p">],</span> <span class="n">Uinv</span><span class="p">[</span><span class="mi">1</span><span class="p">])</span>
    <span class="n">ax</span><span class="o">.</span><span class="n">set_xlim</span><span class="p">(</span><span class="o">-</span><span class="mi">4</span><span class="p">,</span> <span class="mi">4</span><span class="p">)</span>
    <span class="n">ax</span><span class="o">.</span><span class="n">set_ylim</span><span class="p">(</span><span class="o">-</span><span class="mi">3</span><span class="p">,</span> <span class="mi">3</span><span class="p">)</span>
    <span class="n">ax</span><span class="o">.</span><span class="n">set_aspect</span><span class="p">(</span><span class="mi">1</span><span class="p">)</span>
    <span class="n">ax</span><span class="o">.</span><span class="n">set_title</span><span class="p">(</span><span class="s">&#39;Multivariate Gaussian&#39;</span><span class="p">,</span> <span class="n">fontsize</span><span class="o">=</span><span class="mi">18</span><span class="p">)</span>
    <span class="n">ax2</span> <span class="o">=</span> <span class="n">fig</span><span class="o">.</span><span class="n">add_subplot</span><span class="p">(</span><span class="mi">122</span><span class="p">)</span>
    <span class="n">ax2</span><span class="o">.</span><span class="n">scatter</span><span class="p">(</span><span class="n">U</span><span class="o">.</span><span class="n">T</span><span class="p">[</span><span class="mi">0</span><span class="p">],</span> <span class="n">U</span><span class="o">.</span><span class="n">T</span><span class="p">[</span><span class="mi">1</span><span class="p">])</span>
    
    <span class="n">ax2</span><span class="o">.</span><span class="n">set_aspect</span><span class="p">(</span><span class="mi">1</span><span class="p">)</span>
    <span class="n">ax2</span><span class="o">.</span><span class="n">set_xlim</span><span class="p">(</span><span class="mi">0</span><span class="p">,</span><span class="mi">1</span><span class="p">)</span>
    <span class="n">ax2</span><span class="o">.</span><span class="n">set_ylim</span><span class="p">(</span><span class="mi">0</span><span class="p">,</span><span class="mi">1</span><span class="p">)</span>
    <span class="n">ax2</span><span class="o">.</span><span class="n">set_title</span><span class="p">(</span><span class="s">&#39;Gaussian copula&#39;</span><span class="p">,</span> <span class="n">fontsize</span><span class="o">=</span><span class="mi">18</span><span class="p">)</span>
<span class="n">exampleGaussCopula</span><span class="p">()</span>
</pre></div>

</div>
</div>
</div>

<div class="output_wrapper">
<div class="output">


<div class="output_area"><div class="prompt"></div>


<div class="output_png output_subarea ">
<img src="data:image/png;base64,iVBORw0KGgoAAAANSUhEUgAAAeQAAAD6CAYAAABwBTSmAAAABHNCSVQICAgIfAhkiAAAAAlwSFlz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"
>
</div>

</div>

</div>
</div>

</div>
<div class="cell border-box-sizing text_cell rendered">
<div class="prompt input_prompt">
</div>
<div class="inner_cell">
<div class="text_cell_render border-box-sizing rendered_html">
<p>There is clear linear correlation between the X and Y components of the sample points. To introduce non-linear correlations using copulas we need a more sophisticated construct, for instance by using a student t distribution.</p>
<p>Here we implement such a coopula. To emphasize, the marginal distributions are still assumed to be Gaussians. It&#39;s the correlation among the different components which is described by the student t distribution.</p>
</div>
</div>
</div>
<div class="cell border-box-sizing code_cell rendered">
<div class="input">
<div class="prompt input_prompt">In&nbsp;[17]:</div>
<div class="inner_cell">
    <div class="input_area">
<div class="highlight"><pre><span class="kn">from</span> <span class="nn">scipy.stats</span> <span class="kn">import</span> <span class="n">t</span> <span class="k">as</span> <span class="n">tdist</span>
<span class="kn">from</span> <span class="nn">scipy.stats</span> <span class="kn">import</span> <span class="n">chi2</span>



<span class="k">def</span> <span class="nf">studentTCopulaRand</span><span class="p">(</span><span class="n">M</span><span class="p">,</span> <span class="n">rho</span><span class="p">,</span> <span class="n">nu</span><span class="p">):</span>
    <span class="sd">&quot;&quot;&quot;</span>
<span class="sd">    studentTCopulaRand: Generates random numbers from a Student&#39;s t copula</span>

<span class="sd">    INPUT:</span>
<span class="sd">         M : size of the sample</span>
<span class="sd">       rho : corelation matrix [D,D]</span>
<span class="sd">        nu : degrees of freedom</span>

<span class="sd">    OUTPUT:</span>
<span class="sd">         U : Sample from the copula [M,D]  </span>
<span class="sd">%</span>
<span class="sd">%% EXAMPLE:   </span>
<span class="sd">%        rho = [1 0.8; 0.8 1];</span>
<span class="sd">%        M = 1e4;</span>
<span class="sd">%        U = studentTCopulaRand(M,rho);</span>
<span class="sd">%        figure(1);</span>
<span class="sd">%        plot(U(1,:),U(2,:),&#39;.&#39;);</span>
<span class="sd">    &quot;&quot;&quot;</span>
    <span class="n">rho</span> <span class="o">=</span> <span class="n">np</span><span class="o">.</span><span class="n">asarray</span><span class="p">(</span><span class="n">rho</span><span class="p">)</span>
    
    <span class="c">## Dimensionality of the copula</span>
    <span class="n">D</span> <span class="o">=</span> <span class="n">rho</span><span class="o">.</span><span class="n">shape</span><span class="p">[</span><span class="mi">0</span><span class="p">]</span> 
    
    <span class="c">## Cholesky decomposition</span>
    <span class="n">L</span> <span class="o">=</span> <span class="n">cholesky</span><span class="p">(</span><span class="n">rho</span><span class="p">)</span><span class="o">.</span><span class="n">T</span>
    
    <span class="c">## Sample from N(0,I)   [independent components]</span>
    <span class="n">X</span> <span class="o">=</span> <span class="n">np</span><span class="o">.</span><span class="n">random</span><span class="o">.</span><span class="n">randn</span><span class="p">(</span><span class="n">D</span><span class="p">,</span> <span class="n">M</span><span class="p">)</span>
    
    <span class="c">## Sample from N(0,rho) [linearly dependent components]</span>
    <span class="n">Z</span> <span class="o">=</span> <span class="n">np</span><span class="o">.</span><span class="n">dot</span><span class="p">(</span><span class="n">L</span><span class="p">,</span> <span class="n">X</span><span class="p">)</span>                       
    
    <span class="c">## Sample from Chi2 with nu degrees of freedom</span>
    <span class="n">xi</span> <span class="o">=</span> <span class="n">chi2</span><span class="o">.</span><span class="n">rvs</span><span class="p">(</span><span class="n">nu</span><span class="p">,</span> <span class="n">size</span><span class="o">=</span><span class="n">M</span><span class="p">)[</span><span class="n">np</span><span class="o">.</span><span class="n">newaxis</span><span class="p">,</span> <span class="p">:]</span>
    
    <span class="c">## Student t copula (U[0,1] marginals)</span>
    <span class="n">U</span>  <span class="o">=</span> <span class="n">tdist</span><span class="o">.</span><span class="n">cdf</span><span class="p">(</span><span class="n">sqrt</span><span class="p">(</span><span class="n">nu</span><span class="p">)</span> <span class="o">*</span> <span class="n">Z</span> <span class="o">/</span> <span class="n">sqrt</span><span class="p">(</span><span class="n">xi</span><span class="p">),</span> <span class="n">nu</span><span class="p">)</span> <span class="c"># Matrix [D,M]</span>
    <span class="n">U</span> <span class="o">=</span> <span class="n">U</span><span class="o">.</span><span class="n">T</span>                                     <span class="c"># Matrix [M,D]</span>
    <span class="k">return</span> <span class="n">U</span>
</pre></div>

</div>
</div>
</div>

</div>
<div class="cell border-box-sizing code_cell rendered">
<div class="input">
<div class="prompt input_prompt">In&nbsp;[18]:</div>
<div class="inner_cell">
    <div class="input_area">
<div class="highlight"><pre><span class="k">def</span> <span class="nf">exampleStudentCopula</span><span class="p">():</span>
    <span class="n">rho</span> <span class="o">=</span> <span class="p">[[</span><span class="mi">1</span><span class="p">,</span> <span class="mf">0.8</span><span class="p">],</span> <span class="p">[</span><span class="mf">0.8</span><span class="p">,</span> <span class="mi">1</span><span class="p">]]</span>
    <span class="n">M</span> <span class="o">=</span> <span class="mf">2e3</span>
    <span class="n">U</span> <span class="o">=</span> <span class="n">studentTCopulaRand</span><span class="p">(</span><span class="n">M</span><span class="p">,</span> <span class="n">rho</span><span class="p">,</span> <span class="mi">2</span><span class="p">)</span><span class="o">.</span><span class="n">T</span>
    
    <span class="n">fig</span> <span class="o">=</span> <span class="n">plt</span><span class="o">.</span><span class="n">figure</span><span class="p">(</span><span class="n">figsize</span><span class="o">=</span><span class="p">(</span><span class="mi">5</span><span class="p">,</span> <span class="mi">5</span><span class="p">))</span>
    <span class="n">ax</span> <span class="o">=</span> <span class="n">fig</span><span class="o">.</span><span class="n">add_subplot</span><span class="p">(</span><span class="mi">111</span><span class="p">)</span>
    <span class="n">ax</span><span class="o">.</span><span class="n">scatter</span><span class="p">(</span><span class="n">U</span><span class="p">[</span><span class="mi">0</span><span class="p">],</span> <span class="n">U</span><span class="p">[</span><span class="mi">1</span><span class="p">])</span>
    <span class="n">ax</span><span class="o">.</span><span class="n">set_xlim</span><span class="p">(</span><span class="mi">0</span><span class="p">,</span> <span class="mi">1</span><span class="p">)</span>
    <span class="n">ax</span><span class="o">.</span><span class="n">set_ylim</span><span class="p">(</span><span class="mi">0</span><span class="p">,</span> <span class="mi">1</span><span class="p">)</span>
    <span class="n">ax</span><span class="o">.</span><span class="n">set_aspect</span><span class="p">(</span><span class="mi">1</span><span class="p">)</span>
    <span class="n">ax</span><span class="o">.</span><span class="n">set_title</span><span class="p">(</span><span class="s">&#39;Student T Copula&#39;</span><span class="p">,</span> <span class="n">fontsize</span><span class="o">=</span><span class="mi">18</span><span class="p">)</span>
<span class="n">exampleStudentCopula</span><span class="p">()</span>
</pre></div>

</div>
</div>
</div>

<div class="output_wrapper">
<div class="output">


<div class="output_area"><div class="prompt"></div>


<div class="output_png output_subarea ">
<img src="data:image/png;base64,iVBORw0KGgoAAAANSUhEUgAAAT8AAAFGCAYAAAAci5iiAAAABHNCSVQICAgIfAhkiAAAAAlwSFlz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"
>
</div>

</div>

</div>
</div>

</div>
<div class="cell border-box-sizing text_cell rendered">
<div class="prompt input_prompt">
</div>
<div class="inner_cell">
<div class="text_cell_render border-box-sizing rendered_html">
<h4 id="Fitting-a-copula-to-a-portfolio">Fitting a copula to a portfolio<a class="anchor-link" href="#Fitting-a-copula-to-a-portfolio">&#182;</a></h4>
</div>
</div>
</div>

<div class="cell border-box-sizing code_cell rendered">
<div class="input">
<div class="prompt input_prompt">In&nbsp;[19]:</div>
<div class="inner_cell">
    <div class="input_area">
<div class="highlight"><pre><span class="n">S</span> <span class="o">=</span> <span class="n">DataReader</span><span class="p">([</span><span class="s">&quot;IBM&quot;</span><span class="p">,</span> <span class="s">&quot;GOOGL&quot;</span><span class="p">],</span>  <span class="s">&quot;yahoo&quot;</span><span class="p">,</span> <span class="n">datetime</span><span class="p">(</span><span class="mi">2007</span><span class="p">,</span><span class="mi">7</span><span class="p">,</span><span class="mi">1</span><span class="p">),</span> <span class="n">datetime</span><span class="p">(</span><span class="mi">2013</span><span class="p">,</span><span class="mi">6</span><span class="p">,</span><span class="mi">30</span><span class="p">))[</span><span class="s">&#39;Adj Close&#39;</span><span class="p">]</span>
</pre></div>

</div>
</div>
</div>

</div>
<div class="cell border-box-sizing code_cell rendered">
<div class="input">
<div class="prompt input_prompt">In&nbsp;[20]:</div>
<div class="inner_cell">
    <div class="input_area">
<div class="highlight"><pre><span class="k">def</span> <span class="nf">demo_multivariateModels</span><span class="p">(</span><span class="n">portfolio</span><span class="p">):</span>
    
    <span class="n">portfolioReturn</span> <span class="o">=</span> <span class="n">np</span><span class="o">.</span><span class="n">log</span><span class="p">(</span><span class="n">portfolio</span> <span class="o">/</span> <span class="n">portfolio</span><span class="o">.</span><span class="n">shift</span><span class="p">(</span><span class="mi">1</span><span class="p">))</span>
    <span class="n">portfolioReturn</span><span class="o">.</span><span class="n">dropna</span><span class="p">(</span><span class="n">inplace</span><span class="o">=</span><span class="bp">True</span><span class="p">)</span>
    <span class="n">portfolioReturn</span><span class="o">.</span><span class="n">columns</span> <span class="o">=</span> <span class="p">[</span><span class="s">&#39;r_&#39;</span> <span class="o">+</span> <span class="n">s</span>  <span class="k">for</span> <span class="n">s</span> <span class="ow">in</span> <span class="n">portfolio</span><span class="o">.</span><span class="n">columns</span><span class="p">]</span>
    
    <span class="c">## Seed for optimization of degrees of freedom</span>
    <span class="n">nu0</span> <span class="o">=</span> <span class="mi">5</span>
    
    <span class="c">## Create a dataframe which stores all fitted parameters and statistical functions</span>
    <span class="c">## Note that the columns PDF, CDF and INV store functions</span>
    <span class="n">modelDF</span> <span class="o">=</span> <span class="n">pd</span><span class="o">.</span><span class="n">DataFrame</span><span class="p">(</span><span class="n">index</span><span class="o">=</span><span class="n">portfolioReturn</span><span class="o">.</span><span class="n">columns</span><span class="p">,</span> <span class="n">columns</span><span class="o">=</span><span class="p">[</span><span class="s">&#39;mean&#39;</span><span class="p">,</span> <span class="s">&#39;sigma&#39;</span><span class="p">,</span> <span class="s">&#39;nu&#39;</span><span class="p">,</span> <span class="s">&#39;PDF&#39;</span><span class="p">,</span> <span class="s">&#39;CDF&#39;</span><span class="p">,</span> <span class="s">&#39;INV&#39;</span><span class="p">])</span>
    <span class="n">param</span> <span class="o">=</span> <span class="p">[</span><span class="s">&#39;mean&#39;</span><span class="p">,</span> <span class="s">&#39;sigma&#39;</span><span class="p">,</span> <span class="s">&#39;nu&#39;</span><span class="p">]</span>
    
    <span class="k">for</span> <span class="n">s</span> <span class="ow">in</span> <span class="n">portfolioReturn</span><span class="o">.</span><span class="n">columns</span><span class="p">:</span>
        <span class="n">param_fit</span><span class="p">,</span> <span class="n">modelDF</span><span class="o">.</span><span class="n">loc</span><span class="p">[</span><span class="n">s</span><span class="p">,</span> <span class="s">&#39;PDF&#39;</span><span class="p">],</span> <span class="n">modelDF</span><span class="o">.</span><span class="n">loc</span><span class="p">[</span><span class="n">s</span><span class="p">,</span> <span class="s">&#39;CDF&#39;</span><span class="p">],</span> <span class="n">modelDF</span><span class="o">.</span><span class="n">loc</span><span class="p">[</span><span class="n">s</span><span class="p">,</span> <span class="s">&#39;INV&#39;</span><span class="p">]</span> <span class="o">=</span> \
            <span class="n">fit2StudentT</span><span class="p">(</span><span class="n">portfolioReturn</span><span class="p">[</span><span class="n">s</span><span class="p">],</span> <span class="n">nu0</span><span class="p">)</span>
        <span class="n">modelDF</span><span class="o">.</span><span class="n">loc</span><span class="p">[</span><span class="n">s</span><span class="p">,</span> <span class="n">param</span><span class="p">]</span> <span class="o">=</span> <span class="n">param_fit</span>
    
    <span class="k">print</span> <span class="s">&quot;Fitted the Student T distributio to the log returns of each stock in the portfolio.&quot;</span>
    <span class="k">print</span> <span class="s">&quot;Found the following parameters:&quot;</span>
    <span class="k">print</span> <span class="n">modelDF</span><span class="p">[</span><span class="n">param</span><span class="p">]</span>
    <span class="k">print</span>    
    <span class="k">print</span> <span class="s">&quot;=&quot;</span> <span class="o">*</span> <span class="mi">30</span>
    <span class="k">print</span> 
    <span class="k">print</span> <span class="s">&quot;Plotting PDF&#39;s fitted to asset returns&quot;</span>
    
    
    <span class="n">fig</span> <span class="o">=</span> <span class="n">plt</span><span class="o">.</span><span class="n">figure</span><span class="p">()</span>
    
    <span class="n">nSubFigs</span> <span class="o">=</span> <span class="nb">len</span><span class="p">(</span><span class="n">portfolioReturn</span><span class="o">.</span><span class="n">columns</span><span class="p">)</span>
    <span class="c">## Transform to U[0, 1] marginals</span>
    <span class="c">## And plot fitted PDF&#39;s</span>
    <span class="n">logReturnColumns</span> <span class="o">=</span> <span class="n">portfolioReturn</span><span class="o">.</span><span class="n">columns</span>
    <span class="k">for</span> <span class="n">n</span><span class="p">,</span> <span class="n">s</span> <span class="ow">in</span> <span class="nb">enumerate</span><span class="p">(</span><span class="n">logReturnColumns</span><span class="p">):</span>
        <span class="n">portfolioReturn</span><span class="p">[</span><span class="s">&#39;u&#39;</span> <span class="o">+</span> <span class="n">s</span><span class="p">[</span><span class="mi">1</span><span class="p">:]]</span> <span class="o">=</span> <span class="n">modelDF</span><span class="o">.</span><span class="n">loc</span><span class="p">[</span><span class="n">s</span><span class="p">,</span> <span class="s">&#39;CDF&#39;</span><span class="p">](</span><span class="n">portfolioReturn</span><span class="p">[</span><span class="n">s</span><span class="p">])</span>
        <span class="n">ax</span> <span class="o">=</span> <span class="n">fig</span><span class="o">.</span><span class="n">add_subplot</span><span class="p">(</span><span class="n">nSubFigs</span><span class="p">,</span> <span class="mi">1</span><span class="p">,</span> <span class="n">n</span><span class="o">+</span><span class="mi">1</span><span class="p">)</span>
        <span class="n">graphicalComparisonPdf</span><span class="p">(</span><span class="n">portfolioReturn</span><span class="p">[</span><span class="n">s</span><span class="p">]</span><span class="o">.</span><span class="n">values</span><span class="p">,</span> <span class="n">modelDF</span><span class="o">.</span><span class="n">loc</span><span class="p">[</span><span class="n">s</span><span class="p">,</span> <span class="s">&#39;PDF&#39;</span><span class="p">],</span><span class="n">axes_object</span><span class="o">=</span><span class="n">ax</span><span class="p">,</span> <span class="n">nBins</span><span class="o">=</span><span class="mi">100</span><span class="p">)</span>
        <span class="n">ax</span><span class="o">.</span><span class="n">set_title</span><span class="p">(</span><span class="s">&#39;Fitted PDF to asset: &#39;</span> <span class="o">+</span> <span class="n">s</span><span class="p">)</span>
    <span class="n">transformedReturnColumns</span> <span class="o">=</span> <span class="n">portfolioReturn</span><span class="o">.</span><span class="n">columns</span><span class="p">[</span><span class="nb">len</span><span class="p">(</span><span class="n">logReturnColumns</span><span class="p">):]</span>
    <span class="n">plt</span><span class="o">.</span><span class="n">tight_layout</span><span class="p">()</span>
    <span class="n">plt</span><span class="o">.</span><span class="n">show</span><span class="p">()</span>
    <span class="k">print</span>
    <span class="k">print</span> <span class="s">&quot;=&quot;</span> <span class="o">*</span> <span class="mi">30</span>
    <span class="k">print</span>
    
    <span class="k">print</span> <span class="s">&quot;Joint distribution of the first two assets (historic and simulated).&quot;</span>

    <span class="n">fig</span> <span class="o">=</span> <span class="n">plt</span><span class="o">.</span><span class="n">figure</span><span class="p">(</span><span class="n">figsize</span><span class="o">=</span><span class="p">(</span><span class="mi">10</span><span class="p">,</span><span class="mi">10</span><span class="p">))</span>
    <span class="n">ax</span><span class="o">=</span> <span class="n">fig</span><span class="o">.</span><span class="n">add_subplot</span><span class="p">(</span><span class="mi">221</span><span class="p">)</span>
    <span class="n">n1</span><span class="p">,</span> <span class="n">n2</span> <span class="o">=</span> <span class="n">portfolioReturn</span><span class="o">.</span><span class="n">columns</span><span class="p">[</span><span class="mi">0</span><span class="p">],</span> <span class="n">portfolioReturn</span><span class="o">.</span><span class="n">columns</span><span class="p">[</span><span class="mi">1</span><span class="p">]</span>
    <span class="k">print</span> <span class="n">n1</span> <span class="o">+</span> <span class="s">&#39; vs &#39;</span> <span class="o">+</span> <span class="n">n2</span>
    <span class="k">print</span> 
    <span class="k">print</span>
    <span class="n">ax</span><span class="o">.</span><span class="n">scatter</span><span class="p">(</span><span class="n">portfolioReturn</span><span class="p">[</span><span class="n">n1</span><span class="p">],</span> <span class="n">portfolioReturn</span><span class="p">[</span><span class="n">n2</span><span class="p">])</span>
    <span class="n">ax</span><span class="o">.</span><span class="n">set_xlim</span><span class="p">(</span><span class="o">-.</span><span class="mi">15</span><span class="p">,</span> <span class="o">.</span><span class="mi">15</span><span class="p">)</span>
    <span class="n">ax</span><span class="o">.</span><span class="n">set_ylim</span><span class="p">(</span><span class="o">-.</span><span class="mi">15</span><span class="p">,</span> <span class="o">.</span><span class="mi">15</span><span class="p">)</span>
    <span class="n">ax</span><span class="o">.</span><span class="n">set_aspect</span><span class="p">(</span><span class="mi">1</span><span class="p">)</span>
    <span class="n">ax</span><span class="o">.</span><span class="n">set_title</span><span class="p">(</span><span class="s">&quot;Historic joint distribution&quot;</span><span class="p">)</span>
        
    <span class="c">## What copula best fits this joint distrubtion? </span>
    <span class="c">## We first try the Gaussian copula, with Gaussian marginal</span>
    <span class="n">M</span> <span class="o">=</span> <span class="n">portfolioReturn</span><span class="o">.</span><span class="n">shape</span><span class="p">[</span><span class="mi">0</span><span class="p">]</span>
    
    <span class="n">mu</span> <span class="o">=</span> <span class="n">portfolioReturn</span><span class="p">[</span><span class="n">logReturnColumns</span><span class="p">[:</span><span class="mi">2</span><span class="p">]]</span><span class="o">.</span><span class="n">mean</span><span class="p">()</span>
    <span class="n">Sigma</span> <span class="o">=</span> <span class="n">portfolioReturn</span><span class="p">[</span><span class="n">logReturnColumns</span><span class="p">[:</span><span class="mi">2</span><span class="p">]]</span><span class="o">.</span><span class="n">cov</span><span class="p">()</span>
    <span class="n">Z</span> <span class="o">=</span> <span class="n">multivariateGaussianRand</span><span class="p">(</span><span class="n">M</span><span class="p">,</span> <span class="n">mu</span><span class="p">,</span> <span class="n">Sigma</span><span class="p">)</span>
    
    <span class="n">ax</span> <span class="o">=</span> <span class="n">fig</span><span class="o">.</span><span class="n">add_subplot</span><span class="p">(</span><span class="mi">222</span><span class="p">)</span>
    <span class="n">ax</span><span class="o">.</span><span class="n">scatter</span><span class="p">(</span><span class="n">Z</span><span class="o">.</span><span class="n">T</span><span class="p">[</span><span class="mi">0</span><span class="p">],</span> <span class="n">Z</span><span class="o">.</span><span class="n">T</span><span class="p">[</span><span class="mi">1</span><span class="p">])</span>
    <span class="n">ax</span><span class="o">.</span><span class="n">set_xlim</span><span class="p">(</span><span class="o">-.</span><span class="mi">15</span><span class="p">,</span> <span class="o">.</span><span class="mi">15</span><span class="p">)</span>
    <span class="n">ax</span><span class="o">.</span><span class="n">set_ylim</span><span class="p">(</span><span class="o">-.</span><span class="mi">15</span><span class="p">,</span> <span class="o">.</span><span class="mi">15</span><span class="p">)</span>
    <span class="n">ax</span><span class="o">.</span><span class="n">set_aspect</span><span class="p">(</span><span class="mi">1</span><span class="p">)</span>
    <span class="n">ax</span><span class="o">.</span><span class="n">set_title</span><span class="p">(</span><span class="s">&quot;Gaussian copula + Gaussian marginals&quot;</span><span class="p">)</span>
    

    <span class="c">## Next look at a Gaussian copula with student t marginals</span>
    <span class="n">_inv</span> <span class="o">=</span> <span class="p">(</span><span class="n">norm</span><span class="o">.</span><span class="n">ppf</span><span class="p">(</span><span class="n">portfolioReturn</span><span class="p">[</span><span class="n">transformedReturnColumns</span><span class="p">[:</span><span class="mi">2</span><span class="p">]]))</span>
    <span class="n">_corr</span> <span class="o">=</span> <span class="n">np</span><span class="o">.</span><span class="n">corrcoef</span><span class="p">(</span><span class="n">_inv</span><span class="o">.</span><span class="n">T</span><span class="p">[</span><span class="mi">0</span><span class="p">],</span> <span class="n">_inv</span><span class="o">.</span><span class="n">T</span><span class="p">[</span><span class="mi">1</span><span class="p">])</span>
    
    <span class="c"># Generate from gaussian copula with implied correlation</span>
    <span class="n">Z</span> <span class="o">=</span> <span class="n">gaussianCopulaRand</span><span class="p">(</span><span class="n">M</span><span class="p">,</span> <span class="n">_corr</span><span class="p">)</span>
    
    <span class="c"># Generate sample points using implied CDF inverse</span>
    <span class="n">z1</span> <span class="o">=</span> <span class="n">modelDF</span><span class="o">.</span><span class="n">loc</span><span class="p">[</span><span class="n">n1</span><span class="p">,</span> <span class="s">&#39;INV&#39;</span><span class="p">](</span><span class="n">Z</span><span class="o">.</span><span class="n">T</span><span class="p">[</span><span class="mi">0</span><span class="p">])</span>
    <span class="n">z2</span> <span class="o">=</span> <span class="n">modelDF</span><span class="o">.</span><span class="n">loc</span><span class="p">[</span><span class="n">n2</span><span class="p">,</span> <span class="s">&#39;INV&#39;</span><span class="p">](</span><span class="n">Z</span><span class="o">.</span><span class="n">T</span><span class="p">[</span><span class="mi">1</span><span class="p">])</span>
    <span class="n">ax</span> <span class="o">=</span> <span class="n">fig</span><span class="o">.</span><span class="n">add_subplot</span><span class="p">(</span><span class="mi">223</span><span class="p">)</span>
    <span class="n">ax</span><span class="o">.</span><span class="n">scatter</span><span class="p">(</span><span class="n">z1</span><span class="p">,</span> <span class="n">z2</span><span class="p">)</span>
    <span class="n">ax</span><span class="o">.</span><span class="n">set_xlim</span><span class="p">(</span><span class="o">-.</span><span class="mi">15</span><span class="p">,</span> <span class="o">.</span><span class="mi">15</span><span class="p">)</span>
    <span class="n">ax</span><span class="o">.</span><span class="n">set_ylim</span><span class="p">(</span><span class="o">-.</span><span class="mi">15</span><span class="p">,</span> <span class="o">.</span><span class="mi">15</span><span class="p">)</span>
    <span class="n">ax</span><span class="o">.</span><span class="n">set_aspect</span><span class="p">(</span><span class="mi">1</span><span class="p">)</span>
    <span class="n">ax</span><span class="o">.</span><span class="n">set_title</span><span class="p">(</span><span class="s">&quot;Gaussian copula + Student marginals&quot;</span><span class="p">)</span>
    
    <span class="c">## The final one is a student t copula with student t marginals</span>
    <span class="c">## We did not treat the ML estimates for the parameters of the student t copula</span>
    <span class="c">## so we will use some given estimates instead</span>
    
    <span class="n">rho</span> <span class="o">=</span> <span class="p">[[</span><span class="mi">1</span><span class="p">,</span> <span class="o">.</span><span class="mi">55</span><span class="p">],</span> <span class="p">[</span><span class="o">.</span><span class="mi">55</span><span class="p">,</span> <span class="mi">1</span><span class="p">]]</span>
    <span class="n">nu</span> <span class="o">=</span> <span class="mf">2.4</span>
    
    <span class="n">U</span> <span class="o">=</span> <span class="n">studentTCopulaRand</span><span class="p">(</span><span class="n">M</span><span class="p">,</span> <span class="n">rho</span><span class="p">,</span> <span class="n">nu</span><span class="p">)</span>
    <span class="n">u1</span> <span class="o">=</span> <span class="n">modelDF</span><span class="o">.</span><span class="n">loc</span><span class="p">[</span><span class="n">n1</span><span class="p">,</span> <span class="s">&#39;INV&#39;</span><span class="p">](</span><span class="n">U</span><span class="o">.</span><span class="n">T</span><span class="p">[</span><span class="mi">0</span><span class="p">])</span>
    <span class="n">u2</span> <span class="o">=</span> <span class="n">modelDF</span><span class="o">.</span><span class="n">loc</span><span class="p">[</span><span class="n">n2</span><span class="p">,</span> <span class="s">&#39;INV&#39;</span><span class="p">](</span><span class="n">U</span><span class="o">.</span><span class="n">T</span><span class="p">[</span><span class="mi">1</span><span class="p">])</span>
    <span class="n">ax</span> <span class="o">=</span> <span class="n">fig</span><span class="o">.</span><span class="n">add_subplot</span><span class="p">(</span><span class="mi">224</span><span class="p">)</span>
    <span class="n">ax</span><span class="o">.</span><span class="n">scatter</span><span class="p">(</span><span class="n">u1</span><span class="p">,</span> <span class="n">u2</span><span class="p">)</span>
    <span class="n">ax</span><span class="o">.</span><span class="n">set_xlim</span><span class="p">(</span><span class="o">-.</span><span class="mi">15</span><span class="p">,</span> <span class="o">.</span><span class="mi">15</span><span class="p">)</span>
    <span class="n">ax</span><span class="o">.</span><span class="n">set_ylim</span><span class="p">(</span><span class="o">-.</span><span class="mi">15</span><span class="p">,</span> <span class="o">.</span><span class="mi">15</span><span class="p">)</span>
    <span class="n">ax</span><span class="o">.</span><span class="n">set_aspect</span><span class="p">(</span><span class="mi">1</span><span class="p">)</span>
    <span class="n">ax</span><span class="o">.</span><span class="n">set_title</span><span class="p">(</span><span class="s">&quot;Student copula + Student marginals&quot;</span><span class="p">)</span>
    
    
    <span class="n">plt</span><span class="o">.</span><span class="n">show</span><span class="p">()</span>
</pre></div>

</div>
</div>
</div>

</div>
<div class="cell border-box-sizing code_cell rendered">
<div class="input">
<div class="prompt input_prompt">In&nbsp;[21]:</div>
<div class="inner_cell">
    <div class="input_area">
<div class="highlight"><pre><span class="n">demo_multivariateModels</span><span class="p">(</span><span class="n">S</span><span class="p">)</span>
</pre></div>

</div>
</div>
</div>

<div class="output_wrapper">
<div class="output">


<div class="output_area"><div class="prompt"></div>
<div class="output_subarea output_stream output_stdout output_text">
<pre>
Fitted the Student T distributio to the log returns of each stock in the portfolio.
Found the following parameters:
                 mean       sigma        nu
r_GOOGL  0.0007592356  0.01231535   2.75534
r_IBM     0.000662365  0.01006211  3.131078

[2 rows x 3 columns]

==============================

Plotting PDF&apos;s fitted to asset returns

</pre>
</div>
</div>

<div class="output_area"><div class="prompt"></div>


<div class="output_png output_subarea ">
<img src="data:image/png;base64,iVBORw0KGgoAAAANSUhEUgAAAakAAAEbCAYAAABgLnslAAAABHNCSVQICAgIfAhkiAAAAAlwSFlz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"
>
</div>

</div>

<div class="output_area"><div class="prompt"></div>
<div class="output_subarea output_stream output_stdout output_text">
<pre>

==============================

Joint distribution of the first two assets (historic and simulated).
r_GOOGL vs r_IBM



</pre>
</div>
</div>

<div class="output_area"><div class="prompt"></div>


<div class="output_png output_subarea ">
<img src="data:image/png;base64,iVBORw0KGgoAAAANSUhEUgAAAmcAAAJZCAYAAADswpLMAAAABHNCSVQICAgIfAhkiAAAAAlwSFlz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"
>
</div>

</div>

</div>
</div>

</div>
<div class="cell border-box-sizing text_cell rendered">
<div class="prompt input_prompt">
</div>
<div class="inner_cell">
<div class="text_cell_render border-box-sizing rendered_html">
<p>A Gaussian model for the stock typically underestimates the fat tails of the asset returns. A Gaussian copula only takes into account linear correlation among the asset, which again underestimates high &#39;&#39;tail&#39;&#39; events in the joint distribution. The student t copula and student t marginals model this much better. </p>
</div>
</div>
</div>
<div class="cell border-box-sizing text_cell rendered">
<div class="prompt input_prompt">
</div>
<div class="inner_cell">
<div class="text_cell_render border-box-sizing rendered_html">
<h4 id="Value-at-Risk">Value-at-Risk<a class="anchor-link" href="#Value-at-Risk">&#182;</a></h4>
</div>
</div>
</div>

<div class="cell border-box-sizing text_cell rendered">
<div class="prompt input_prompt">
</div>
<div class="inner_cell">
<div class="text_cell_render border-box-sizing rendered_html">
<p>We finally arrive at a risk measure: the Value-at-Risk (VaR). Imagine we have some portfolio of assets. The VaR is then a method to quantify the level of financial risk of this portfolio due to e.g. changes in the market (market risk). A common definition of VaR is: what is the maximum loss of the portfolio, over a fixed timeframe, at a fixed confidence interval $\alpha$.</p>
<p>So suppose we have some model for the return of the portfolio. This can be based on historical data, or some assumptions on the underlying distribution of returns. Using this model we can estimate the distribution of possible returns for the portfolio over a fixed timeframe (e.g. the distribution of returns 10 days from now). The 5% VaR is then the worst possible return we can expect with 95% confidence. Put differently, it is the return that corresponds to the 5% quantile of the underlying model for that particular time horizon.</p>
<p>The VaR is an example of a non-coherent measure: if we have two portfolios with each its own VaR, then the VaR of the combined portfolio is in general not equal to the sum of the individual VaR (or a simple combination thereof).</p>
<p>A related risk measure is the Estimated Shortfall (ES). It is the average loss for losses larger larger than the VaR.</p>
<p>We now compute the VaR of a portfolio of stocks using two methods: Historical and Monte Carlo.</p>
</div>
</div>
</div>
<div class="cell border-box-sizing code_cell rendered">
<div class="input">
<div class="prompt input_prompt">In&nbsp;[225]:</div>
<div class="inner_cell">
    <div class="input_area">
<div class="highlight"><pre><span class="k">def</span> <span class="nf">simulateLossMC</span><span class="p">(</span><span class="n">logReturns</span><span class="p">,</span> <span class="n">S0</span><span class="p">,</span> <span class="n">priceEuroCall</span><span class="p">,</span> <span class="n">priceAsianCall</span><span class="p">):</span>
    <span class="n">nu0</span> <span class="o">=</span> <span class="mi">5</span>  <span class="c"># seed for estimating d.o.f.</span>
    <span class="n">modelDF</span> <span class="o">=</span> <span class="n">pd</span><span class="o">.</span><span class="n">DataFrame</span><span class="p">(</span><span class="n">index</span><span class="o">=</span><span class="n">logReturns</span><span class="o">.</span><span class="n">columns</span><span class="p">,</span> <span class="n">columns</span><span class="o">=</span><span class="p">[</span><span class="s">&#39;mean&#39;</span><span class="p">,</span> <span class="s">&#39;sigma&#39;</span><span class="p">,</span> <span class="s">&#39;nu&#39;</span><span class="p">,</span> 
                                                              <span class="s">&#39;PDF&#39;</span><span class="p">,</span> <span class="s">&#39;CDF&#39;</span><span class="p">,</span> <span class="s">&#39;INV&#39;</span><span class="p">])</span>
    <span class="c"># Fit student t distribution</span>
    <span class="k">for</span> <span class="n">n</span> <span class="ow">in</span> <span class="n">logReturns</span><span class="o">.</span><span class="n">columns</span><span class="p">:</span>
        <span class="n">params</span><span class="p">,</span> <span class="n">modelDF</span><span class="o">.</span><span class="n">loc</span><span class="p">[</span><span class="n">n</span><span class="p">,</span> <span class="s">&#39;PDF&#39;</span><span class="p">],</span> <span class="n">modelDF</span><span class="o">.</span><span class="n">loc</span><span class="p">[</span><span class="n">n</span><span class="p">,</span> <span class="s">&#39;CDF&#39;</span><span class="p">],</span> <span class="n">modelDF</span><span class="o">.</span><span class="n">loc</span><span class="p">[</span><span class="n">n</span><span class="p">,</span> <span class="s">&#39;INV&#39;</span><span class="p">]</span> <span class="o">=</span> <span class="n">fit2StudentT</span><span class="p">(</span><span class="n">logReturns</span><span class="p">[</span><span class="n">n</span><span class="p">],</span> <span class="n">nu0</span><span class="p">)</span>
        <span class="n">modelDF</span><span class="o">.</span><span class="n">loc</span><span class="p">[</span><span class="n">n</span><span class="p">,</span> <span class="p">[</span><span class="s">&#39;mean&#39;</span><span class="p">,</span> <span class="s">&#39;sigma&#39;</span><span class="p">,</span> <span class="s">&#39;nu&#39;</span><span class="p">]]</span> <span class="o">=</span> <span class="n">params</span>
        
    
    <span class="c"># Transform to U[0,1] marginals</span>
    <span class="n">u_margin</span> <span class="o">=</span> <span class="n">pd</span><span class="o">.</span><span class="n">DataFrame</span><span class="p">(</span><span class="n">index</span><span class="o">=</span><span class="n">logReturns</span><span class="o">.</span><span class="n">index</span><span class="p">,</span> <span class="n">columns</span><span class="o">=</span><span class="p">[],</span> <span class="n">dtype</span><span class="o">=</span><span class="n">np</span><span class="o">.</span><span class="n">float</span><span class="p">)</span>
    <span class="k">for</span> <span class="n">n</span> <span class="ow">in</span> <span class="n">logReturns</span><span class="o">.</span><span class="n">columns</span><span class="p">:</span>
        <span class="n">u_margin</span><span class="p">[</span><span class="n">n</span><span class="p">]</span> <span class="o">=</span> <span class="n">modelDF</span><span class="o">.</span><span class="n">loc</span><span class="p">[</span><span class="n">n</span><span class="p">,</span> <span class="s">&#39;CDF&#39;</span><span class="p">](</span><span class="n">logReturns</span><span class="p">[</span><span class="n">n</span><span class="p">])</span>
        
    <span class="c"># Estimate correlation for Gaussin copula</span>
    <span class="n">n1</span><span class="p">,</span> <span class="n">n2</span> <span class="o">=</span> <span class="n">u_margin</span><span class="o">.</span><span class="n">columns</span><span class="p">[</span><span class="mi">0</span><span class="p">],</span> <span class="n">u_margin</span><span class="o">.</span><span class="n">columns</span><span class="p">[</span><span class="mi">1</span><span class="p">]</span>
    <span class="n">rho</span> <span class="o">=</span> <span class="n">np</span><span class="o">.</span><span class="n">corrcoef</span><span class="p">(</span><span class="n">modelDF</span><span class="o">.</span><span class="n">loc</span><span class="p">[</span><span class="n">n1</span><span class="p">,</span> <span class="s">&#39;INV&#39;</span><span class="p">](</span><span class="n">u_margin</span><span class="p">[</span><span class="n">n1</span><span class="p">]),</span> <span class="n">modelDF</span><span class="o">.</span><span class="n">loc</span><span class="p">[</span><span class="n">n2</span><span class="p">,</span> <span class="s">&#39;INV&#39;</span><span class="p">](</span><span class="n">u_margin</span><span class="p">[</span><span class="n">n2</span><span class="p">]))</span>
    
    
    <span class="c"># Simulation time!</span>
    <span class="c"># Generate samples from estimated copula</span>
    <span class="n">M</span> <span class="o">=</span> <span class="mf">5e4</span>
    <span class="n">U</span> <span class="o">=</span> <span class="n">gaussianCopulaRand</span><span class="p">(</span><span class="n">M</span><span class="p">,</span> <span class="n">rho</span><span class="p">)</span>
    
    <span class="n">simulated_price</span> <span class="o">=</span> <span class="n">pd</span><span class="o">.</span><span class="n">DataFrame</span><span class="p">(</span><span class="n">index</span><span class="o">=</span><span class="n">np</span><span class="o">.</span><span class="n">arange</span><span class="p">(</span><span class="n">M</span><span class="p">),</span> 
                             <span class="n">columns</span><span class="o">=</span><span class="n">logReturns</span><span class="o">.</span><span class="n">columns</span><span class="p">,</span>
                             <span class="n">dtype</span><span class="o">=</span><span class="n">np</span><span class="o">.</span><span class="n">float</span><span class="p">)</span>
    <span class="k">for</span> <span class="n">i</span><span class="p">,</span> <span class="n">n</span> <span class="ow">in</span> <span class="nb">enumerate</span><span class="p">([</span><span class="n">n1</span><span class="p">,</span> <span class="n">n2</span><span class="p">]):</span>
        <span class="n">simulated_price</span><span class="p">[</span><span class="n">n</span><span class="p">]</span> <span class="o">=</span> <span class="n">S0</span><span class="p">[</span><span class="n">n</span><span class="p">]</span> <span class="o">*</span> <span class="n">np</span><span class="o">.</span><span class="n">exp</span><span class="p">(</span> <span class="n">modelDF</span><span class="o">.</span><span class="n">loc</span><span class="p">[</span><span class="n">n</span><span class="p">,</span> <span class="s">&#39;INV&#39;</span><span class="p">](</span><span class="n">U</span><span class="p">[:,</span><span class="n">i</span><span class="p">])</span> <span class="p">)</span>
    
    <span class="c"># Having generated different simulations we now compute the corresponding option values</span>
    <span class="n">simulated_price</span><span class="p">[</span><span class="s">&quot;IBM_call&quot;</span><span class="p">]</span> <span class="o">=</span> <span class="n">priceEuroCall</span><span class="p">(</span><span class="n">simulated_price</span><span class="p">[</span><span class="s">&quot;IBM&quot;</span><span class="p">])</span>
    <span class="n">simulated_price</span><span class="p">[</span><span class="s">&quot;GOOGL_asianCallAM&quot;</span><span class="p">]</span> <span class="o">=</span> <span class="n">priceEuroCall</span><span class="p">(</span><span class="n">simulated_price</span><span class="p">[</span><span class="s">&quot;IBM&quot;</span><span class="p">])</span>
    
    <span class="k">return</span> <span class="n">simulated_price</span>
</pre></div>

</div>
</div>
</div>

</div>
<div class="cell border-box-sizing code_cell rendered">
<div class="input">
<div class="prompt input_prompt">In&nbsp;[23]:</div>
<div class="inner_cell">
    <div class="input_area">
<div class="highlight"><pre><span class="n">bootstrapindices</span> <span class="o">=</span> <span class="n">np</span><span class="o">.</span><span class="n">random</span><span class="o">.</span><span class="n">randint</span><span class="p">(</span><span class="mi">0</span><span class="p">,</span> <span class="mi">10</span><span class="p">,</span> <span class="n">size</span><span class="o">=</span><span class="mi">10</span><span class="p">)</span>
</pre></div>

</div>
</div>
</div>

</div>
<div class="cell border-box-sizing code_cell rendered">
<div class="input">
<div class="prompt input_prompt">In&nbsp;[24]:</div>
<div class="inner_cell">
    <div class="input_area">
<div class="highlight"><pre><span class="k">def</span> <span class="nf">simulateLossHistoric</span><span class="p">(</span><span class="n">logReturns</span><span class="p">,</span> <span class="n">S0</span><span class="p">,</span> <span class="n">priceEuroCall</span><span class="p">,</span> <span class="n">priceAsianCall</span><span class="p">):</span>
    <span class="n">M</span> <span class="o">=</span> <span class="mf">1e3</span>
    
    <span class="n">bootstrapindices</span> <span class="o">=</span> <span class="n">np</span><span class="o">.</span><span class="n">random</span><span class="o">.</span><span class="n">randint</span><span class="p">(</span><span class="mi">0</span><span class="p">,</span> <span class="n">logReturns</span><span class="o">.</span><span class="n">shape</span><span class="p">[</span><span class="mi">0</span><span class="p">],</span> <span class="n">size</span><span class="o">=</span><span class="n">M</span><span class="p">)</span>

    <span class="n">simulated_price</span> <span class="o">=</span> <span class="n">pd</span><span class="o">.</span><span class="n">DataFrame</span><span class="p">(</span><span class="n">index</span><span class="o">=</span><span class="n">np</span><span class="o">.</span><span class="n">arange</span><span class="p">(</span><span class="n">M</span><span class="p">),</span> 
                             <span class="n">columns</span><span class="o">=</span><span class="n">logReturns</span><span class="o">.</span><span class="n">columns</span><span class="p">,</span>
                             <span class="n">dtype</span><span class="o">=</span><span class="n">np</span><span class="o">.</span><span class="n">float</span><span class="p">)</span>
    <span class="k">for</span> <span class="n">n</span> <span class="ow">in</span> <span class="n">logReturns</span><span class="o">.</span><span class="n">columns</span><span class="p">:</span>
        <span class="n">simulated_price</span><span class="p">[</span><span class="n">n</span><span class="p">]</span> <span class="o">=</span> <span class="n">S0</span><span class="p">[</span><span class="n">n</span><span class="p">]</span> <span class="o">*</span> <span class="n">np</span><span class="o">.</span><span class="n">exp</span><span class="p">(</span> <span class="n">logReturn</span><span class="o">.</span><span class="n">iloc</span><span class="p">[</span><span class="n">bootstrapindices</span><span class="p">]</span><span class="o">.</span><span class="n">values</span> <span class="p">)</span>
    
    
    <span class="n">simulated_price</span><span class="p">[</span><span class="s">&quot;IBM_call&quot;</span><span class="p">]</span> <span class="o">=</span> <span class="n">priceEuroCall</span><span class="p">(</span><span class="n">simulated_price</span><span class="p">[</span><span class="s">&quot;IBM&quot;</span><span class="p">])</span>
    <span class="n">simulated_price</span><span class="p">[</span><span class="s">&quot;GOOGL_asianCallAM&quot;</span><span class="p">]</span> <span class="o">=</span> <span class="n">priceEuroCall</span><span class="p">(</span><span class="n">simulated_price</span><span class="p">[</span><span class="s">&quot;IBM&quot;</span><span class="p">])</span>
    <span class="k">return</span> <span class="n">simulated_price</span>
    
</pre></div>

</div>
</div>
</div>

</div>
<div class="cell border-box-sizing text_cell rendered">
<div class="prompt input_prompt">
</div>
<div class="inner_cell">
<div class="text_cell_render border-box-sizing rendered_html">
<p>Next we will compute two risk measures of a portfolio consisting of IBM and Google stock, IBM call options and Google Asian call options (arithmetic mean). The functions to compute these options were implemented in week 8, so we will simply import them here.</p>
<p>To compute the risk measures we need a distribution of the expected losses (or profits) over a given time horizon. To obtain this distribution we simulate the assets in the portfolio over the given time horizon using either Monte Carlo or the historic approach. With these simulated portfolios we then compute the loss for each simulated portfolio, and from it construct a distribution of potential losses over the given time horizon. Finally, we compute the desired risk measues.</p>
</div>
</div>
</div>
<div class="cell border-box-sizing code_cell rendered">
<div class="input">
<div class="prompt input_prompt">In&nbsp;[25]:</div>
<div class="inner_cell">
    <div class="input_area">
<div class="highlight"><pre><span class="kn">from</span> <span class="nn">custom_functions_iversity</span> <span class="kn">import</span> <span class="p">(</span><span class="n">priceEuropeanCall</span><span class="p">,</span> 
                                       <span class="n">priceAsianArithmeticMeanCallMC_withControlVariate</span><span class="p">)</span>

<span class="k">def</span> <span class="nf">constructPortfolio</span><span class="p">(</span><span class="n">N</span><span class="o">=</span><span class="mi">5</span><span class="p">,</span> <span class="n">horizon</span><span class="o">=</span><span class="mi">5</span><span class="p">,</span> <span class="n">simulateLoss</span><span class="o">=</span><span class="s">&#39;historic&#39;</span><span class="p">):</span>

    <span class="k">if</span> <span class="n">simulateLoss</span> <span class="o">==</span> <span class="s">&#39;historic&#39;</span><span class="p">:</span>
        <span class="n">simulateLoss</span> <span class="o">=</span> <span class="n">simulateLossHistoric</span>
    <span class="k">else</span><span class="p">:</span>
        <span class="n">simulateLoss</span> <span class="o">=</span> <span class="n">simulateLossMC</span>
    <span class="n">S</span> <span class="o">=</span> <span class="n">DataReader</span><span class="p">([</span><span class="s">&quot;IBM&quot;</span><span class="p">,</span> <span class="s">&quot;GOOGL&quot;</span><span class="p">],</span>  <span class="s">&quot;yahoo&quot;</span><span class="p">,</span> <span class="n">datetime</span><span class="p">(</span><span class="mi">2007</span><span class="p">,</span><span class="mi">7</span><span class="p">,</span><span class="mi">1</span><span class="p">),</span> <span class="n">datetime</span><span class="p">(</span><span class="mi">2013</span><span class="p">,</span><span class="mi">6</span><span class="p">,</span><span class="mi">30</span><span class="p">))[</span><span class="s">&#39;Adj Close&#39;</span><span class="p">]</span>
    
    <span class="c">## Select data in recent past -- we don&#39;t want to test with data which is too old.</span>
    <span class="n">N</span> <span class="o">=</span> <span class="mi">500</span>
    
    <span class="n">S</span> <span class="o">=</span> <span class="n">S</span><span class="o">.</span><span class="n">iloc</span><span class="p">[</span><span class="o">-</span><span class="n">N</span><span class="p">:]</span>
    <span class="n">S0</span> <span class="o">=</span> <span class="n">S</span><span class="o">.</span><span class="n">iloc</span><span class="p">[</span><span class="o">-</span><span class="mi">1</span><span class="p">]</span>
    <span class="k">print</span> <span class="s">&quot;Behavior of stock over last </span><span class="si">%s</span><span class="s"> days&quot;</span> <span class="o">%</span> <span class="n">N</span>
    <span class="n">S</span><span class="o">.</span><span class="n">plot</span><span class="p">()</span>
    <span class="n">plt</span><span class="o">.</span><span class="n">show</span><span class="p">()</span>
    <span class="c">## Compute returns for specified time horizons</span>
    <span class="c"># Horizon for the risk measures</span>
    <span class="n">horizon</span> <span class="o">=</span> <span class="mi">5</span>
    
    <span class="c"># Overlapping indices    </span>
    <span class="n">logReturns</span> <span class="o">=</span> <span class="n">np</span><span class="o">.</span><span class="n">log</span><span class="p">(</span><span class="n">S</span> <span class="o">/</span> <span class="n">S</span><span class="o">.</span><span class="n">shift</span><span class="p">(</span><span class="n">horizon</span><span class="p">))</span>
    <span class="n">logReturns</span><span class="o">.</span><span class="n">dropna</span><span class="p">(</span><span class="n">inplace</span><span class="o">=</span><span class="bp">True</span><span class="p">)</span>
    
    
    <span class="c">## Portfolio of stocks and options. </span>
    <span class="c">## portfolioComposition holds the number of assets held in the portfolio</span>
    <span class="n">wghts</span> <span class="o">=</span> <span class="p">{</span><span class="s">&quot;IBM&quot;</span>               <span class="p">:</span> <span class="mi">500</span><span class="p">,</span> 
             <span class="s">&quot;GOOGL&quot;</span>             <span class="p">:</span> <span class="mi">200</span><span class="p">,</span>
             <span class="s">&quot;IBM_call&quot;</span>          <span class="p">:</span> <span class="mi">5000</span><span class="p">,</span>
             <span class="s">&quot;GOOGL_asianCallAM&quot;</span> <span class="p">:</span> <span class="mi">2000</span><span class="p">}</span>
    <span class="n">portfolioComposition</span> <span class="o">=</span> <span class="n">pd</span><span class="o">.</span><span class="n">Series</span><span class="p">(</span><span class="n">data</span><span class="o">=</span><span class="n">wghts</span><span class="o">.</span><span class="n">values</span><span class="p">(),</span> <span class="n">index</span><span class="o">=</span><span class="n">wghts</span><span class="o">.</span><span class="n">keys</span><span class="p">(),</span> <span class="n">dtype</span><span class="o">=</span><span class="n">np</span><span class="o">.</span><span class="n">float</span><span class="p">)</span>
    <span class="c">## portfolio will hold the value per asset in the portfolio</span>
    <span class="n">portfolio</span> <span class="o">=</span> <span class="n">pd</span><span class="o">.</span><span class="n">Series</span><span class="p">(</span><span class="n">index</span><span class="o">=</span><span class="n">portfolioComposition</span><span class="o">.</span><span class="n">index</span><span class="p">,</span> <span class="n">data</span><span class="o">=</span><span class="mi">0</span><span class="p">,</span> <span class="n">dtype</span><span class="o">=</span><span class="n">np</span><span class="o">.</span><span class="n">float</span><span class="p">)</span>
    <span class="n">portfolio</span><span class="p">[[</span><span class="s">&quot;IBM&quot;</span><span class="p">,</span> <span class="s">&quot;GOOGL&quot;</span><span class="p">]]</span> <span class="o">=</span> <span class="n">S0</span><span class="p">[[</span><span class="s">&quot;IBM&quot;</span><span class="p">,</span> <span class="s">&quot;GOOGL&quot;</span><span class="p">]]</span>
    
    
    <span class="c">## Computing value of European call options for IBM in portfolio</span>
    <span class="n">r</span> <span class="o">=</span> <span class="o">.</span><span class="mo">01</span>         <span class="c"># interest rate</span>
    <span class="n">K_call</span> <span class="o">=</span> <span class="mi">180</span>    <span class="c"># strike price</span>
    <span class="n">T_call</span> <span class="o">=</span> <span class="mi">1</span>      <span class="c"># time to maturity</span>
    <span class="n">sigma_IBM_implied</span> <span class="o">=</span> <span class="o">.</span><span class="mi">16</span>  <span class="c"># Implied volatility on IBM call options</span>
    <span class="k">def</span> <span class="nf">priceEur</span><span class="p">(</span><span class="n">S</span><span class="p">):</span>
        <span class="k">return</span> <span class="n">priceEuropeanCall</span><span class="p">(</span><span class="n">S</span><span class="p">,</span> <span class="n">K_call</span><span class="p">,</span> <span class="n">r</span><span class="p">,</span> <span class="n">T_call</span><span class="p">,</span> <span class="n">sigma_IBM_implied</span><span class="p">)</span>
    <span class="n">portfolio</span><span class="p">[</span><span class="s">&quot;IBM_call&quot;</span><span class="p">]</span> <span class="o">=</span> <span class="n">priceEur</span><span class="p">(</span><span class="n">S0</span><span class="p">[</span><span class="s">&quot;IBM&quot;</span><span class="p">])</span>

    <span class="c">## Computing value of Asian call options with Arithmetic mean for google using a control variate</span>
    <span class="n">N_AM</span> <span class="o">=</span> <span class="mi">6</span>      <span class="c"># Number of monitoring times for the arithmetic mean </span>
    <span class="n">T_AM</span> <span class="o">=</span> <span class="o">.</span><span class="mi">5</span>     <span class="c"># Time to maturity</span>
    <span class="n">M_AM</span> <span class="o">=</span> <span class="mf">1e3</span>    <span class="c"># Number of simulated trajectories</span>
    <span class="n">K_AM</span> <span class="o">=</span> <span class="mi">430</span>    <span class="c"># Strike of the Asian arithmetic mean call option</span>
    
    
    <span class="c">#</span>
    <span class="c">## !!!! K_AM should be changed to 880 if you are using this code for the homework !!!! ###</span>
    <span class="c">#</span>
    
    
    <span class="c"># Here we use historical volatility</span>
    <span class="n">nDaysInYear</span> <span class="o">=</span> <span class="mi">252</span>
    <span class="n">sigma_GOOG</span>   <span class="o">=</span> <span class="n">sqrt</span><span class="p">(</span><span class="n">nDaysInYear</span><span class="o">/</span><span class="n">horizon</span><span class="p">)</span><span class="o">*</span><span class="n">std</span><span class="p">(</span><span class="n">logReturns</span><span class="p">[</span><span class="s">&quot;GOOGL&quot;</span><span class="p">])</span>
    <span class="k">def</span> <span class="nf">priceAsian</span><span class="p">(</span><span class="n">S</span><span class="p">):</span>
        <span class="k">return</span> <span class="n">priceAsianArithmeticMeanCallMC_withControlVariate</span><span class="p">(</span><span class="n">S</span><span class="p">,</span> <span class="n">K_AM</span><span class="p">,</span> <span class="n">r</span><span class="p">,</span> <span class="n">T_AM</span><span class="p">,</span> <span class="n">sigma_GOOG</span><span class="p">,</span> <span class="n">M_AM</span><span class="p">,</span> <span class="n">N_AM</span><span class="p">)</span>
    <span class="n">price_AM</span><span class="p">,</span> <span class="n">std_AM</span> <span class="o">=</span> <span class="n">priceAsian</span><span class="p">(</span><span class="n">S0</span><span class="p">[</span><span class="s">&quot;GOOGL&quot;</span><span class="p">])</span>
    <span class="n">portfolio</span><span class="p">[</span><span class="s">&quot;GOOGL_asianCallAM&quot;</span><span class="p">]</span> <span class="o">=</span> <span class="n">price_AM</span>
    
    <span class="k">print</span> <span class="s">&quot;Current value per asset:&quot;</span>
    <span class="k">print</span> <span class="n">portfolio</span><span class="o">.</span><span class="n">head</span><span class="p">()</span>
    <span class="k">print</span>
    <span class="k">print</span> <span class="s">&quot;Weight in portfolio:&quot;</span>
    <span class="k">print</span> <span class="n">portfolioComposition</span><span class="o">.</span><span class="n">head</span><span class="p">()</span>
    <span class="k">print</span>
    
    <span class="c"># Next we simulate the potential returns of the portfolio using either the</span>
    <span class="c"># historic method (bootstrapping of historic data)</span>
    <span class="c"># Monte Carlo (Fitting a copula to historic data, and simulating new data)</span>
    <span class="n">simulated_assets</span> <span class="o">=</span> <span class="n">simulateLoss</span><span class="p">(</span><span class="n">logReturns</span><span class="p">[[</span><span class="s">&quot;IBM&quot;</span><span class="p">,</span> <span class="s">&quot;GOOGL&quot;</span><span class="p">]],</span> <span class="n">S0</span><span class="p">,</span> <span class="n">priceEur</span><span class="p">,</span> <span class="n">priceAsian</span><span class="p">)</span>
    
    <span class="k">print</span> <span class="s">&quot;Simulated return histograms&quot;</span>
    <span class="n">simulated_assets</span><span class="o">.</span><span class="n">hist</span><span class="p">(</span><span class="n">bins</span><span class="o">=</span><span class="mi">20</span><span class="p">)</span>
    <span class="n">plt</span><span class="o">.</span><span class="n">show</span><span class="p">()</span>
    <span class="k">print</span> <span class="s">&quot;Corresponding simulated returns of weighted portfolio&quot;</span>
    <span class="n">simulated_portfolio</span> <span class="o">=</span> <span class="p">(</span><span class="n">simulated_assets</span> <span class="o">*</span> <span class="n">portfolioComposition</span><span class="p">)</span><span class="o">.</span><span class="n">sum</span><span class="p">(</span><span class="n">axis</span><span class="o">=</span><span class="mi">1</span><span class="p">)</span>
    <span class="n">simulated_portfolio</span><span class="o">.</span><span class="n">hist</span><span class="p">(</span><span class="n">bins</span><span class="o">=</span><span class="mi">25</span><span class="p">)</span>
    <span class="n">current_portfolio</span> <span class="o">=</span> <span class="p">(</span><span class="n">portfolio</span> <span class="o">*</span> <span class="n">portfolioComposition</span><span class="p">)</span><span class="o">.</span><span class="n">sum</span><span class="p">()</span>
    <span class="n">plt</span><span class="o">.</span><span class="n">show</span><span class="p">()</span>
    
    <span class="k">print</span> <span class="s">&quot;Simulated loss of portfolio&quot;</span>
    <span class="n">loss_simulated</span> <span class="o">=</span> <span class="p">(</span><span class="o">-</span><span class="p">(</span><span class="n">simulated_portfolio</span> <span class="o">-</span> <span class="n">current_portfolio</span><span class="p">))</span>
    
    <span class="c">## Finally, we compute the VaR at 5% and the estimated loss</span>
    <span class="n">p</span> <span class="o">=</span> <span class="o">.</span><span class="mi">95</span>
    <span class="n">VaR</span> <span class="o">=</span> <span class="n">loss_simulated</span><span class="o">.</span><span class="n">quantile</span><span class="p">(</span><span class="o">.</span><span class="mi">95</span><span class="p">)</span>
    <span class="n">indexTail</span> <span class="o">=</span> <span class="n">loss_simulated</span> <span class="o">&gt;</span> <span class="n">VaR</span>
    <span class="n">ES</span> <span class="o">=</span> <span class="n">np</span><span class="o">.</span><span class="n">mean</span><span class="p">(</span><span class="n">loss_simulated</span><span class="o">.</span><span class="n">ix</span><span class="p">[</span><span class="n">indexTail</span><span class="p">])</span>
    
    <span class="n">fig</span> <span class="o">=</span> <span class="n">plt</span><span class="o">.</span><span class="n">figure</span><span class="p">()</span>
    <span class="n">ax</span> <span class="o">=</span> <span class="n">fig</span><span class="o">.</span><span class="n">add_subplot</span><span class="p">(</span><span class="mi">111</span><span class="p">)</span>
    <span class="n">loss_simulated</span><span class="o">.</span><span class="n">hist</span><span class="p">(</span><span class="n">bins</span><span class="o">=</span><span class="mi">50</span><span class="p">,</span> <span class="n">ax</span><span class="o">=</span><span class="n">ax</span><span class="p">,</span> <span class="n">normed</span><span class="o">=</span><span class="bp">True</span><span class="p">)</span>
    <span class="n">y_lim</span> <span class="o">=</span> <span class="n">ax</span><span class="o">.</span><span class="n">get_ylim</span><span class="p">()</span>
    
    <span class="n">ax</span><span class="o">.</span><span class="n">plot</span><span class="p">([</span><span class="n">VaR</span><span class="p">,</span> <span class="n">VaR</span><span class="p">],</span> <span class="n">y_lim</span><span class="p">,</span> <span class="s">&#39;r&#39;</span><span class="p">,</span> <span class="n">label</span><span class="o">=</span><span class="s">&#39;VaR 5%&#39;</span><span class="p">)</span>
    <span class="n">ax</span><span class="o">.</span><span class="n">plot</span><span class="p">([</span><span class="n">ES</span><span class="p">,</span> <span class="n">ES</span><span class="p">],</span> <span class="n">y_lim</span><span class="p">,</span> <span class="s">&#39;g&#39;</span><span class="p">,</span> <span class="n">label</span><span class="o">=</span><span class="s">&#39;ES 5%&#39;</span><span class="p">)</span>
    <span class="n">ax</span><span class="o">.</span><span class="n">legend</span><span class="p">(</span><span class="n">loc</span><span class="o">=</span><span class="s">&#39;best&#39;</span><span class="p">)</span>
    <span class="n">plt</span><span class="o">.</span><span class="n">show</span><span class="p">()</span>
    <span class="k">print</span> 
    <span class="c"># Print out returns. VaR is the value at risk, and larger is worse.</span>
    <span class="k">print</span> <span class="s">&quot;Value-at-Risk: </span><span class="si">%.2f</span><span class="s">&quot;</span> <span class="o">%</span> <span class="n">VaR</span>
    <span class="k">print</span> <span class="s">&quot;Expected Shortfall: </span><span class="si">%.2f</span><span class="s">&quot;</span> <span class="o">%</span> <span class="n">ES</span>
</pre></div>

</div>
</div>
</div>

</div>
<div class="cell border-box-sizing text_cell rendered">
<div class="prompt input_prompt">
</div>
<div class="inner_cell">
<div class="text_cell_render border-box-sizing rendered_html">
<p>First we have the Monte Carlo approach</p>
</div>
</div>
</div>
<div class="cell border-box-sizing code_cell rendered">
<div class="input">
<div class="prompt input_prompt">In&nbsp;[26]:</div>
<div class="inner_cell">
    <div class="input_area">
<div class="highlight"><pre><span class="n">constructPortfolio</span><span class="p">(</span><span class="n">simulateLoss</span><span class="o">=</span><span class="s">&#39;MC&#39;</span><span class="p">)</span>
</pre></div>

</div>
</div>
</div>

<div class="output_wrapper">
<div class="output">


<div class="output_area"><div class="prompt"></div>
<div class="output_subarea output_stream output_stdout output_text">
<pre>
Behavior of stock over last 500 days

</pre>
</div>
</div>

<div class="output_area"><div class="prompt"></div>


<div class="output_png output_subarea ">
<img src="data:image/png;base64,iVBORw0KGgoAAAANSUhEUgAAAXMAAAEPCAYAAACwWiQoAAAABHNCSVQICAgIfAhkiAAAAAlwSFlz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"
>
</div>

</div>

<div class="output_area"><div class="prompt"></div>
<div class="output_subarea output_stream output_stdout output_text">
<pre>
Current value per asset:
GOOGL_asianCallAM     27.054184
IBM                  188.110000
IBM_call              17.288251
GOOGL                440.630000
dtype: float64

Weight in portfolio:
GOOGL_asianCallAM    2000
IBM                   500
IBM_call             5000
GOOGL                 200
dtype: float64

Simulated return histograms

</pre>
</div>
</div>

<div class="output_area"><div class="prompt"></div>


<div class="output_png output_subarea ">
<img src="data:image/png;base64,iVBORw0KGgoAAAANSUhEUgAAAYIAAAEKCAYAAAAfGVI8AAAABHNCSVQICAgIfAhkiAAAAAlwSFlz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"
>
</div>

</div>

<div class="output_area"><div class="prompt"></div>
<div class="output_subarea output_stream output_stdout output_text">
<pre>
Corresponding simulated returns of weighted portfolio

</pre>
</div>
</div>

<div class="output_area"><div class="prompt"></div>


<div class="output_png output_subarea ">
<img src="data:image/png;base64,iVBORw0KGgoAAAANSUhEUgAAAY4AAAEACAYAAACkvpHUAAAABHNCSVQICAgIfAhkiAAAAAlwSFlz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"
>
</div>

</div>

<div class="output_area"><div class="prompt"></div>
<div class="output_subarea output_stream output_stdout output_text">
<pre>
Simulated loss of portfolio

</pre>
</div>
</div>

<div class="output_area"><div class="prompt"></div>


<div class="output_png output_subarea ">
<img src="data:image/png;base64,iVBORw0KGgoAAAANSUhEUgAAAaIAAAEACAYAAADx33KKAAAABHNCSVQICAgIfAhkiAAAAAlwSFlz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"
>
</div>

</div>

<div class="output_area"><div class="prompt"></div>
<div class="output_subarea output_stream output_stdout output_text">
<pre>

Value-at-Risk: 66374.80
Expected Shortfall: 83508.28

</pre>
</div>
</div>

</div>
</div>

</div>
<div class="cell border-box-sizing text_cell rendered">
<div class="prompt input_prompt">
</div>
<div class="inner_cell">
<div class="text_cell_render border-box-sizing rendered_html">
<p>And now using the historic method</p>
</div>
</div>
</div>
<div class="cell border-box-sizing code_cell rendered">
<div class="input">
<div class="prompt input_prompt">In&nbsp;[27]:</div>
<div class="inner_cell">
    <div class="input_area">
<div class="highlight"><pre><span class="n">constructPortfolio</span><span class="p">(</span><span class="n">simulateLoss</span><span class="o">=</span><span class="s">&#39;historic&#39;</span><span class="p">)</span>
</pre></div>

</div>
</div>
</div>

<div class="output_wrapper">
<div class="output">


<div class="output_area"><div class="prompt"></div>
<div class="output_subarea output_stream output_stdout output_text">
<pre>
Behavior of stock over last 500 days

</pre>
</div>
</div>

<div class="output_area"><div class="prompt"></div>


<div class="output_png output_subarea ">
<img src="data:image/png;base64,iVBORw0KGgoAAAANSUhEUgAAAXMAAAEPCAYAAACwWiQoAAAABHNCSVQICAgIfAhkiAAAAAlwSFlz
AAALEgAACxIB0t1+/AAAIABJREFUeJzsnXlYE9fXx79BcUVAXEBBRRZFlM0N14p7Xau1+kqtitUu
am1dalVaf0WtgrVq1bqVWpdW69aK2iquRFG0uOECKiqg7IuA7ATIef+4JoCQECAhGXo/z5MnmZk7
c7+ZJGduzpxzroiICBwOh8MRNHraFsDhcDic6sONOYfD4dQCuDHncDicWgA35hwOh1ML4Macw+Fw
agHcmHM4HE4tQCVjbmlpCUdHR7i4uKBnz54AgNTUVAwdOhQdOnTAsGHDkJ6eLm/v7e0NW1tb2NnZ
4ezZs5pRzuFwOBw5KhlzkUgEsViMO3fuIDg4GADg4+ODoUOHIjw8HIMHD4aPjw8AICwsDIcOHUJY
WBj8/f0xZ84cSKVSzb0DDofD4ajuZnkzt+jEiROYPn06AGD69Onw8/MDABw/fhzu7u7Q19eHpaUl
bGxs5BcADofD4WgGlUfmQ4YMQffu3eHr6wsASExMhKmpKQDA1NQUiYmJAIC4uDhYWFjI97WwsEBs
bKy6dXM4HA6nBHVVaXT16lW0atUKycnJGDp0KOzs7EptF4lEEIlECvdXto3D4XA41UclY96qVSsA
QIsWLTB+/HgEBwfD1NQUCQkJMDMzQ3x8PFq2bAkAMDc3R3R0tHzfmJgYmJublzqejY0Nnj17pq73
wOFwOP8JnJycEBISUu62Ct0sOTk5yMzMBABkZ2fj7NmzcHBwwNixY7F3714AwN69ezFu3DgAwNix
Y3Hw4EFIJBJERkbiyZMn8ggYGc+ePQMR6fRj+vTpWtfAdXKttUGnULQKQePdu3cV2uoKR+aJiYkY
P348AKCwsBBTpkzBsGHD0L17d0yaNAm7du2CpaUlDh8+DACwt7fHpEmTYG9vj7p162Lbtm3czcLh
cDgapkJj3r59+3KH9SYmJjh//ny5+3h6esLT07P66rSIpaWltiWoBNepfoSiVSg6AWFoFYJGZfAM
UAW4ublpW4JKcJ3qRyhahaITEIZWIWhUBjfmHA6HUwtQKZqlpjAxMUFaWpq2ZdQ6mjZtitTUVG3L
4HA4GkRERDU+bZxIJEJ53Spaz6ke/LxyOLUDZb9l7mbhcDicWgA35pwaQSwWa1uCyghFq1B0AsLQ
KgSNyuDGnMPhcGoB3Gf+H4CfVw6ndsB95mrk4MGDcHV1hYGBAUxNTdGrVy9s375dvj0oKAiDBg2C
oaEhjI2NMXbsWDx8+LDUMdLT0zF79my0atUKjRs3hqOjI/bs2VPpvjw8PLB8+XKNvVcOhyMcuDGv
BOvXr8f8+fOxZMkSJCYmIjExETt27MDVq1chkUhw7do1DB8+HOPHj0d8fDwiIyPh5OSEvn37IjIy
EgAgkUgwZMgQREdH4/r168jIyMC6deuwdOlSbNy4UaW+CgoKAFRcrVKXEJI/UihahaITEIZWIWhU
CmkBRd1qSY5KpKenU+PGjemvv/5S2KZfv340d+7cMutHjBhB06ZNIyKiX375hVq2bEk5OTml2hw6
dIgMDAwoMzNTpb6IiDw8POibb76pULsunNeAgABtS1AZoWgVik4iYWgVgkZlv2XuM1cRf39/jBkz
Bvn5+dDTK/uHJicnB4aGhrhw4QIGDBhQatuePXvg6emJuLg4TJ48GQ0bNsTu3btLtSksLETDhg1x
6tQpFBUVKe1LxowZM2BhYYFVq1Yp1a7L55XD4agO95mrgZSUFDRv3ryUce3Tpw+aNm2KRo0a4dat
W5BKpfLa7yUxMzNDSkqK/Djltalbty6aN2+OlJSUCvu6cuWKBt4hh8MRMoIz5iJR9R9VoVmzZkhJ
SSk1OXVQUBDS0tLQrFkzZGZmQk9PD3FxcWX2jY+PR4sWLQCwCT7Ka1NYWCg34hX1JcQJsoXkjxSK
VqHoBIShVQgalSE4Y05U/UdV6N27N+rXry+fuPpNGjdujN69e+PIkSNlth0+fBiDBw8GAAwZMgSn
T59GTk5OqTZ//vkn6tevj169elXYV0mEcgOUw+FomBrx2r+Bom61JEdlvv/+ezI1NaWjR49SRkYG
FRUV0Z07d6hp06Z06dIlunLlCjVu3Jg2b95MGRkZlJqaSl9//TU1bdqUnj59SkRE+fn51LVrVxo5
ciRFRUWRRCIhf39/MjU1pR9++EHlvoiIpk+fTsuWLaPc3Fz5Iz8/v4xuXT+vHA5HNZT9lrkxryT7
9++nnj17UqNGjahFixbk6upKvr6+JJFIiIjoypUr5ObmRgYGBmRoaEijR4+m0NDQUsdITU2lTz75
hExNTalhw4bUpUsX2rVrV6X78vDwIJFIVOrRv3//MscRwnnlcDgVo+y3zKNZ/gPownkVi8WCKf4v
FK1C0QkIQ6sQNPJoFg6Hw6nl8JH5fwB+XjmcmufoUWD8eKBOHfUds9oj86KiIri4uGDMmDEAAC8v
L1hYWMDFxQUuLi44ffq0vK23tzdsbW1hZ2eHs2fPqkE+h8PhCI+JE4Hg4JrrTyVjvmnTJtjb28vD
4EQiERYuXIg7d+7gzp07GDFiBAAgLCwMhw4dQlhYGPz9/TFnzhxBxkRz1I+QYniFolUoOgFhaFWn
RpnZmz8f2LgRiI1V26EVUqExj4mJwalTpzBr1iz58J5YFEyZtsePH4e7uzv09fVhaWkJGxsbBNfk
pYnD4XB0gKws9hwcDNy5A7zzjub7rNCYL1iwAOvWrSuVWi4SibBlyxY4OTlh5syZSE9PBwDExcXB
wsJC3s7CwgKxNXFJ4ug8uh4lUBKhaBWKTkAYWtWpMSODPY8ZA/z0E/DoUeWPkZxcuSRHpcb877//
RsuWLeHi4lJqJD579mxERkYiJCQErVq1wqJFixQeg2cocjic/xoZGYCdHXDiBNCkCVBUBGRnq77/
vXtAy5bA+fOq71NX2cagoCCcOHECp06dQl5eHjIyMjBt2jTs27dP3mbWrFnyG6Pm5uaIjo6Wb4uJ
iYG5uXm5x/bw8IClpSUAwNjYGM7Ozqqr5lSakjG0Mt9gTS6HhIRg/vz5Wuu/Mss//vgjnJ2ddUaP
omXZOl3RI/TPX7ZOHccLCwMMDdnypUtiGBkBiYlusLJSbf/AQABww9mzYuzfvwcA5PZSIapmHonF
Yho9ejQREcXFxcnXb9iwgdzd3YmIKDQ0lJycnCg/P58iIiLIysqKpFKpyllMlZDDqQS6cF6FUCta
hlC0CkUnkTC0qlOjvz/RkCHFy66uREFByvcpKCh+vXkzqyS1cmXpNsp+yyonDRGR3GXy1VdfwdHR
EU5OTrh06ZJ8hhx7e3tMmjQJ9vb2GDFiBLZt21Zr3CyWlpa4cOEC9uzZgzp16qBJkyZo0qQJrK2t
sWPHDnm7qKgo6OnpoWvXrqX2T0lJQb169dC+ffualq4TCMFnKkMoWoWiExCGVnX7zI2MipdbtQJi
YhS3z8wELC2BFy/YcnQ00KYNUE6BVYUodbOUxM3NTf5mf/vtN4XtPD094enpqboCgSCbok0kEqFv
3764fPkyACAkJARvvfUWevXqVcpVlJubi9DQUHTu3BkAcODAAVhZWUEikWhFP4fDqTkSE4FmzYqX
u3cHrl9nsefl4evLwhcfPADatgXCwoA+fSoX0sjT+SsJvRGW6ezsjE6dOuHRG7erp06dir1798qX
f/vtN0ybNu0/m4kphDhjGULRKhSdgDC0qkMjERuBh4UB9vbF6/v3B65cYdt//x0oLCzeVlAA/Pgj
0Lcvi3p5/hy4dg1YuZLt8+oVa/f4sfK+uTGvJsHBwQgPD0f37t1LrZ8yZQoOHjwIIkJYWBiysrLg
6uqqJZUcDqcmuHiRjaz37wde/ykHADg6AqGhwNq1wNSppQ2zWAyYmwNTpgCBgcCqVYCHB9ChAzBs
GCCbYXL2bOV9q+xm4RRz/fp1NG3aFEVFRcjKysK8efNgY2NTqo2FhQU6duyIc+fO4eLFi5g2bZqW
1OoGQvCZyhCKVqHoBIShtboaiYA//gCmTwccHIDevYu3GRuzx48/Ai4uQFRUsbGPimKj+K5dgTlz
2Lpnz9jzF18AH3wA9OgBREQo719wxly0ovo3VOnb6rk6evXqhUAWO4SkpCS4u7vD09MTa9askbcR
iUSYNm0adu/ejWvXruHKlStlXDEcDqf28OABsGsXsHVrsVEuyZw5gJsbsHcve+3jA7i7M7+4uTng
5MTaXbwIWFmx1716Md/7zJnAp58Cy5YpEVC5gBv1oKhbLclRCUtLS7pw4QLt3r2b+vXrV2rbTz/9
RF26dCEiosjISBKJRFRUVERZWVlkaGhIgwYNIiKic+fOkaWlZY1r14XzKoTQNBlC0SoUnUTC0Fpd
jadPE3XoQFTOZF+lmD+fhR127Eg0bx7RrFlEO3awbenpZdv//jtrf/my8t+y4Ebm2oTKuXn58uVL
HDt2DF26dCmzrXHjxggICEDTpk1rQh6Hw9Ei8fFsJF2vnvJ23t7Ad9+xm6CtWrF9ZLVbSoYzypg4
ETh9GujWTflx+Q3QSiALTbx27Zo8ztze3h6mpqbYsmVLqXYyunbtWiq2vLbE3VcWIfhMZQhFq1B0
AsLQWh2NaWnAhx+yFPyKaNAAaNyYGW4DAyAgoLR//U3q1WMRMI0aKT8uH5mrSGRkpPz19OnTFbaz
tLREUVFRuduGDBmCiIruYnA4HMEhm9Lhdc1BlZk1i10ISsakVxU+MufUCEKIM5YhFK1C0QkIQ2t1
NJ44AXz+OXOfVIY1a4Dt26vcbSn4yJzD4XCqgUQCnDnDEoVMTbWng88B+h+An1cOR3NcuAB4egL/
/qv5vqo9ByiHw+FwyicoCBg4UNsquDHn1BBC8JnKEIpWoegEal5rYmLxPJyqUlWNcXGswqG24cac
w+HUOszMgPXr2eucHM32FRcHtG6t2T5UgfvM/wPw88r5ryFL5/j4Y2DfPlYfvHlzzfTVsyeweTNL
/tE0yn7LOhXN0rRp0/9sUo0m4RmonP8iRkYs0sTJidUSHz1aM/3ExbFMTm2jU26W1NRUeb1wbT8C
AgK0rkFdOlNTU7X90XL/rgYQik6gZrVmZrJsybQ0Vj527FhWkrYiqqIxIQFITQUsLCqvU93olDHn
cDic6pKQwHzmsj/58+ezmuGhoertRyplI/LcXKBOHfUeuyrolM+cw+Fwqsuff7Jp2Pz9i9ctXszq
oHz7rfr6uX2bFb/q25fNCFQT8DhzDofzn+HYMeZaKUm/fmwqNoBNzVZy2raqcuYMMG9ezRnyilDJ
mBcVFcHFxQVjxowBwHzbQ4cORYcOHTBs2DCkl6gu4+3tDVtbW9jZ2eHs2bOaUV0DCMUfyXWqH6Fo
FYpOoOa0SiTAqVPFJWVl9OsH3LrFJn7o1InN+JOdDSxfzmYIAoBOncQICam4j5EjgY0bmTEfPlz9
76GqqGTMN23aBHt7e3mkiY+PD4YOHYrw8HAMHjwYPj4+AICwsDAcOnQIYWFh8Pf3x5w5cyCtbOQ+
h8PhqMibBUrFYjZ3prl56fXNmrHwweHD2XycW7YAJiasMFZiImvz6BFz0ShDKmUVElevZhcHnars
q3DaitdER0fT4MGD6eLFizR69GgiIurYsSMlJCQQEVF8fDx17NiRiIjWrFlDPj4+8n2HDx9O165d
K3NMFbrlcDgcpZw6RfTWW6XXzZ5NVMIElWHDBqKnT9nrtDSi/v2Jzp4levWKzebj7q68z/v3iVq3
JqpTh+j1BGI1ijLbWWGc+YIFC7Bu3TpkZGTI1yUmJsL0dXkwU1NTJL6+tMXFxaFXich5CwsLxMbG
qvfqw+FwOGAz9oSHMzeJSATk5wPHj7PJHhSxYEHxa2NjwNkZuH+/uJ74kyeK983NZcd2c2ORMbrk
YgEqcLP8/fffaNmyJVxcXBTeQZXNvqMIoSYBCcUfyXWqH6FoFYpOQP1ar11jWZ0vX7JZ7QMDmXHv
3p25WVTFwYEd69NPgQkTxHj6VHFbGxvmXhk5EvjhB0DJHDVaQenIPCgoCCdOnMCpU6eQl5eHjIwM
TJ06FaampkhISICZmRni4+PR8vVcSebm5oiOjpbvHxMTA/M3nVev8fDwgKWlJQDA2NgYzs7O8mmb
ZB+8NpdDQkJ0So/Ql4V0PkNe3wXTFT2KlmXoip6a/PyXLwcWLnTD558DISFifPIJYGXlhg8/rNzx
HByAjz8WY+RIYO5c4Nw54MQJMQwNi9tfuCBGbi6QkOCGvDzg6lW2v6mp5s+fWCzGnj17AEBuLxWi
qq9GLBbLfeaLFy+W+8a9vb1pyZIlREQUGhpKTk5OlJ+fTxEREWRlZUVSqbRSfh8Oh8NRRnQ0kYkJ
UVYWUcOGRD/8QOTkxHzejx5V7lh5eUSbNhEVFLDlrl2J/v2XSColuniRKDyc6Ntv2bHr11f7W6k0
ymxnpWqzyFwmS5cuxaRJk7Br1y5YWlri8OHDAAB7e3tMmjQJ9vb2qFu3LrZt2yZYNwuHw9FNjh0D
xoxhkyJnZQF6esBbbwHffw9YW1fuWPXrs+neZFhbA8+eAS1aAIMGMb+6iwvbZmCgvvegEWrwoiJH
S91WioCAAG1LUAmuU/0IRatQdBJVX2twMNHw4UR37xK5uREdP64eXSUJCAigZcuIVq4kOn+e9bN0
KRuVA0StWqm/z8qizHbyDFAOh6PzBAUBSUmsAqJYDAwdqpl+undnkzM/ewZYWgJff82eASAlRTN9
qgtem4XD4egkMhMhErG0eWtrZsRzc5nR1QRSKau18uwZ8NlnwP/+BxQUAA0bsgQlbZstXpuFw+EI
Di8vYO1a9jo8nBnzzp01Z8gB5n/fsgVITgbee4+t09cXgL8c3Jgr5M3wL12F61Q/QtEqFJ1A1bRG
RbGbnWlpbOb7Pn3ULqsUMo3du7Oa6Pb2xduaNNFs3+qAG3MOR6Dk5rKiUSdPaluJZkhOBm7cYEWt
RowoztKsCd4ciQvBmHOfOYcjQIgAPz/g3XcBW1vg4UPdmCBBnfTowYpgxcezNP2RI7Wn5eRJ4MED
YNky7WkAuM+cw6l1fPklM+Tr1wOmpsChQ9pWpH5SUoCpU9mFq39/7WoZM0b7hrwiuDFXgFD8kVyn
+tFlrfHxLO2czWnJ0tCXLWPlXUvy/Lk21CmmsueUiLlZZs4EliypGTeHLn/uqlCpDFAOh6NdliwB
fvuNuViyswE7O6B5cxbtkZ/PMhpfvmSx0ULzZIaFMVfK6tXAkSOAlRXQvj1b5lQM95lzOALhn3/Y
3/2kJGbAZRCx1PbcXNamWTOgVy82NZqQ/Oj79wNffcVS6Rs2ZDMGNW2qbVW6BfeZczi1gC++YC6V
koYcYEk1jRqx1zdusFE6wEbqQiIyEpg2jc3gIxZzQ15ZuDFXgFD8Z1yn+tFFrY8fs5H3qlXF60rq
tLdnBn37dmDXLrZOl4x5Sa3JySyr8k2iophbpU4d5i6qaXTxc68M3JhzOALg+HE2SbGegl/spUvM
h37wIEt4AXTLmOfmsgqHhYVAy5bApEll28TFlZ27k6M63GfO4QiAPn1YevuwYaq1b9uWzb7Trp1G
ZamMlxfg6wvMmAEcPcoMd2Ii843LGDAAWLmSPXPKh/vMORwBk5TEIj0qMxN8vXqARKIxSZUmMpJd
iH75hRWwcnZmfvGSZGcX+/45lYcbcwUIxX/GdaofXdN66BAwcCAz0CVRprN+fd1ys9y7J8b77zOj
Pns2C0E8fbp0m+xsFpWjLXTtc68s3JhzODpMXh6wcGHp2XBUQdeMeVIS0KYNc6vUqcNqrWzdCty7
V9wmJ0e7xlzocJ85h6PD3LrF/MwljZ4q9O7NUv01XWlQRng4cPgwS2KSlY6V8ccfLOQwI6PYR07E
buZ26MAidQAWcvnwIYsz55SPMtvJM0A5HB3m3j02u05lqUmfuax2SlISYGhY1pifPQv89FPpm50i
EXtvEycWr+Mj8+rB3SwKEIr/jOtUP7qk9e5dwNGx/G264jMPD2f9ZWSw2XgSEkpvv3kTAMRl9uvQ
gcWW5+SwGX7y8oAGDWpAsAJ06XOvCkqNeV5eHlxdXeHs7Ax7e3sse102zMvLCxYWFnBxcYGLiwtO
l7iT4e3tDVtbW9jZ2eHs2bOaVc/h1GJSU5khrMrIvCaNeUAAm8m+SRNWzXHSpOKkoJwcNgVb+/bl
a3RzY6GKOTls5K4ojp6jAhXNBp2dnU1ERAUFBeTq6kqBgYHk5eVF69evL9M2NDSUnJycSCKRUGRk
JFlbW1NRUVGlZpjmcP6rSKXFr48cIWrUiMjOjiglpfLHmjCB6PBh9WlTxsSJRHv2sNdFRUTvvENk
Zkb0999EV64Qde+ueN89e4gmTSJKTCRq0aJm9AoZZbazwutgo9eBnxKJBEVFRWj6umACleOEP378
ONzd3aGvrw9LS0vY2NggODhYrRcfDqe2snIl8H//x1wVvr7Avn3shmBVZtipqZE5EYsXHziQLevp
sanefvmFjdLXrmWZq4ro3x+4eJFVSeQx5tWjQmMulUrh7OwMU1NTDBw4EJ07dwYAbNmyBU5OTpg5
cybS09MBAHFxcbCwsJDva2FhgdjYWA1J1yxC8Z9xnepHW1pPn2aFshYtAiIigC5dlLdXprOmboD2
6cNqrbRtW7xOJGKhh0lJ7H0sXqxYa/v2rN7MP/9odqJmVRDSd7Q8Koxm0dPTQ0hICF69eoXhw4dD
LBZj9uzZ+N///gcAWL58ORYtWoRdsuo+byASicpd7+HhAUtLSwCAsbExnJ2d4fY6xU12UrW5HBIS
olN6hL4spPMZEhJS4/1LpcCdO2548gTo0IEtm5sr319GedtfvgTy89Wn7+BBwNbWDV98AVy5wrab
mrohJAQ4cEAMsbjs/suXu2HAAODaNcWfv0gE2NmJYWen/c9fhra/fyWXxWIx9uzZAwBye6mISsWZ
r1q1Cg0bNsSXX34pXxcVFYUxY8bg/v378PHxAQAsXboUAPD2229jxYoVcHV1Ld0pjzPncEqRkgJ0
7MgmljAxYTPSV+cnMn8+Gy0vXKgefTY2gJERYG3N4skBYMoUoFUr4Icf1NMHp2KqXJslJSVF7kLJ
zc3FuXPn4OLigoQSsUfHjh2Dg4MDAGDs2LE4ePAgJBIJIiMj8eTJE/Ts2VNd74PDqbUkJbFqgkDF
7hVVaNWKFbNSB8nJ7GITGMj842PGsAqIT5+yeUg5uoFSYx4fH49BgwbB2dkZrq6uGDNmDAYPHoyv
vvoKjo6OcHJywqVLl7Bx40YAgL29PSZNmgR7e3uMGDEC27ZtU+hm0XXe/Oulq3Cd6qemtH78MXDm
DHtd0pifOgW89vQoRZnOdu3Knwc0N5eFDv72m+o6//0X6NmT3aAcMwb4+2/gyhUWcmhjo9oxhPD5
C0GjMpT6zB0cHHD79u0y6/ft26dwH09PT3h6elZfGYdTy/H1ZY85c1gVQZkxNzCoWmx5SRQZ8+Bg
4Px54Pp1NrqePbviY12/zqahA9jkF/r6wOTJgKkpT73XJXhtFg6nhikoAOrWLU6QmTWLhfJ9+ikz
luogJYWNmpctYxeJGTOYD37+fFbo6rPPgL592b8AFxflx3rvPTaal00okZ7Oqh86OgprjtHaAK/N
wuFokehoYM0aFm99/DiwYwebGahlS5b6LhIBCxaod87L5s2ZK+Tjj4Fr11h9lMRENgvRoUNs5vt+
/VgqfkXGPCoKKBlIYWxc8T6cmocnzypAKP4zrlP9qFvr3r1AaCgwdiwz5O+9B0yfzlwpsltK9vbs
pqU6dXbpAgQFMf97RAQwejQz7FZWbLuFBRATU3E/bxrzqiCEz18IGpXBjXktoLzJcTm6QWoqM+ar
VzO/OMBcKq9eAd261YwGJyd2E3PhQubekaHImIeGsrlEiZhfPSeH+8aFAPeZCxyJhKVu//03MGqU
ttVw3qRvXzY6LipifuaYGDbH5d9/M5+2nZ32tB08CPz5J7vYnD/P/jkALJY8IoK5ajw9WVmBO3e0
p5NTDPeZ12JOnmTPDx5wY66LJCUxN4eeHjOS1tZs/ejR2tUFsJH5mTNAp04sJv3pU1YHJiEB2LKF
laVdsABwd9e2Uo4qcDeLAoTiP9u6VYxevYD797WtRDlCOZ+A+rRmZDAj+bqckdqprk4LC3ZDdPx4
dnM2MJDVhnFyYtEun3/O6qoMHqx9rTWBEDQqg4/MBUxuLosbPnKEhaDpIocO/XezBC9fBlxdS/up
dYnWrdlzly7spmhgIJuns2/f4javK3RwBAD3mQsYPz9g82bmf23enN1U09fXtqpiJBKWABMQUNpA
yND2bOyaZv58Fn6oyzl0IhGbHMLKirlTrKyAjz5io3WO7lHl2iwc3eboURbm1qgRYG4OPHmibUXF
EAFTp7JIm+vXy99uYMD+5tdWzp8Hhg7Vtgrl+Pkx/72jI0s0On265iaB5qgXbswVoOv+s9xcVgPa
1FQMAHBw0B2/+c6dwNy5xdX1rlwBBg0S49dfi9ukpLDn13XcdAp1fPZxcezRtWv19ShCHTrfeYdF
Q9Wpwy6+7dqxNH11o+u/J0AYGpXBjblA+fVXNkuLbBYaXTLmsrT0hw9ZhISfH/D4MbB1a3EbWXzz
q1fa0agJ7t1jtU4GD2aPt94SVrr7xo0sQYgjTLjPXGBIpazOxr59wK1bxSO/o0eB339nhrMkXboA
f/3FZkKvCaKigB49mGvF2pq5U5YvZ5ERVlZstGpoyPz8Y8awm279+tWMNk3j5sY+j+Bg5roYNYpd
ZDkcdcHjzGsRixez0qOJicVV9oDyR+bZ2SybLyam5oz5zp1sVCqLpxaJgO++Y6+dnZmRHzas9ozM
f/uNzUxvbs4SbXbvLn8meg5H03A3iwJ0zX+WlsZG3//8A5w4UWzIZTptbID4eJZ+LSMwkD3XVEn5
gAAWylZeKKJYLMaUKcC8eWzi4mPH2Hoh+8yJgJkzWRy5iQkrqFViClyNo2vfUWUIQasQNCqDG3Md
5MEDNvJF5MUwAAAgAElEQVQuiYkJMHEiq/FhYlJ2nzp1WGr4+fPMeEdFAd9/z7bl5WlcMoiApUuB
/fuLS6W+ySefAOvXswzDs2fZBaiqI/PHjxX3U1NkZrKbh48esSQbQLdCQzn/LbjPXEeQpU5bW7NC
TM+eMdfIhAlsxPfzz0CDBsyAKEpCmT6djdrT01m44iefMDfL7NnAuHGa1e/nB6xYwfz4ehUMEYhY
KFzv3ix64uuvK9/fvn3s/ebmsvOiDSIjgYED2YVTKmVuFlVn3uFwqoIg48x79GCZjf8Vli4F/vgD
+OYb5vsOC2NGefly5mdu3pwtK8sm7NaNtQkMZMfYsIHVnlbXyPzYMXaTLzu77DZfX2DRoooNOcD+
Ody/z+KZqxqBI3tP5UyEVWO8fFkcTaSnxw05R7vonDEPCGA/8ps3mUHTFur2n6WlKd6WkMCM4aNH
LKwPYCPWt99mr69eZRES9esr1/nZZyzrsl+/4prVDRqox5g/eMDcPNevswtPSX76ic1Yo2z0X975
HDSIfd5V+ZMmc0PJ4tXViaqffUljrg2E5OMVglYhaFSGUmOel5cHV1dXODs7w97eHsteFwBJTU3F
0KFD0aFDBwwbNgzpJe5ieXt7w9bWFnZ2djh79mylBR04wP66enoKP9JBRno683NfuVL+dll4nokJ
MHJk8c3NFSuYu8XAQLUICT29sj7b+vWB/Pyq6b57l/UPMB93nz5AbCxzqQQEFLebN4/FVBsYVO74
bduyMMUHD0qv9/Vlfb2pWyJh5WSBYmOemsr+0RQVVa7v6pCYCAwZwiZ60KYx53BKQRWQnZ1NREQF
BQXk6upKgYGBtHjxYlq7di0REfn4+NCSJUuIiCg0NJScnJxIIpFQZGQkWVtbU1FRUZljKuvWzY3o
3Dmi/fuJRCKihISKFOomT58Sde1KlJtLNGoUEUC0eHH5bZcvZw9NMG8e0Y8/Kt4ulRI9fkw0dy7R
gQNEnToRSSREKSlEZmZEs2YRicVE48cT7dzJ9lm3jh2XiCg7m6hBA6JyPmaV+PhjopUriQoKitf1
68fOl68v0YsXRLt3s37YGJ5pmzCByNyc6QaIbt6sWv+VJSODyM6OnZsWLYiWLauZfjkcIuW2s0I3
S6NGjQAAEokERUVFaNq0KU6cOIHp06cDAKZPnw6/15kqx48fh7u7O/T19WFpaQkbGxsEBwdX6uLy
9CnzPTZrxn66P//MIjSk0spdpLSNry/z586YwW5GHjvGMgTLIzZWcyFtFblZZs8GOnZk2Zlz5jAt
S5cyd0/Xruxm7KhRzAUkK5bl6MgSlA4dYjPAt22rmq+8PAYNAv73P3ajF2Cj8Vu3mNtm7VqWYj5j
BnDuXPE+ISHsX0P//mxiBQDo3l0zLpc3uXuX/QP55hsgOZn9k+JwdIEKf4JSqRTOzs4wNTXFwIED
0blzZyQmJsL0dQEHU1NTJL7+zxsXFweLElbJwsICsbGxKouJj2c/kDZt2A919GgWijd0KEsNr0mq
4z8rKAD27GEXpIMHWXnazp1ZOF15xMWxpJOqUJFOZW6WwkJ2k3naNBb7vXkzS4LZsIFFxRw9yjI3
//qL3b+Q1eV2dGT3ACZPZvurkpCkSOeQIWz+y4AAdsEOC2P+/rffZlOVXbrE2m3dykoYLF3KonSS
k9nFpWRc/fnzFetQBWXnNDGRXXinTAH8/cuvBllTCMnHKwStQtCojAozQPX09BASEoJXr15h+PDh
CCjpLAULlREpyUpRtq0kUmlxfeU6ddhodu9eVsXt119ZWnp+PlCvnkqHq1FevmQ3KWXTbp08yQxc
s2bMv9yuHfMNJySw+RRf/9mRExtbdWNeEQ0alB99AjA/uK1t8ehWRk4OezRsCGzaVHY/MzMWEtir
F7BrV7HBrQrNmrHwybZtWajfv/+ymd9FIjY6j4lhNcFDQ4H332ffjXHjWIhmSgo7t82bs9F8SAi7
wGiSxERWiMrYGBg+XLN9cTiVQeV0fiMjI4waNQq3bt2CqakpEhISYGZmhvj4eLR8fcfO3Nwc0dHR
8n1iYmJgrsBKeXh4wPL1lN+3bxvDyMgZgBuA4iukm5sbpkwBNm1iyykpbmjduvT2N9urc1mGou1v
veWGoCBgxQoxzp8HgoLcIBIBEyaIX9ewdoOfH3D3rhgiEdC1K2tft27p40VFiREZCTg7V16vm5ub
0u0NGgAhIWKIxWW379njhhkzyh7/339V63/zZje0bcv0R0VV73x27Ah4erohOBj45JNivcbGQLNm
Yrz9NlC/PmufmytG3brA0KFuaNMGSE4W48wZICKi8uevvGUi4I8/xHB3L7s9MZH1X9755MvKl2Xo
ih4hLIvFYuzZswcA5PZSIcqc7cnJyZSWlkZERDk5OdS/f386f/48LV68mHx8fIiIyNvbu8wN0Pz8
fIqIiCArKyuSSqUVOvH79yfq0IHdyPLwKKujRw+27cED5TcHNM2bb2X5cqbL0ZFowQJ28/Dzz9m6
nByioCD2Wsa33xItXFj6GLm5RPXqVf0GYkVs2UI0Z07520xMiOLjNdNvZXn0iGjGDKJjx8qe5wsX
iLKylO//77/s/H/zDfssqsPFi+zclPPVpU8+Idq6tXrH53CqijKTrdSY37t3j1xcXMjJyYkcHBzo
+++/JyKily9f0uDBg8nW1paGDh0qN/hERKtXryZra2vq2LEj+fv7qyTI1ZXo2jXFOo4dY0YxMFCZ
WvUSEBBQZt3MmUQ7dhB98QXR3r1EbdoQmZoybfHxRN26EbVrx6IvyuP+fbZPScP97BnbR506S+Lr
S/Thh2XXv3xJZGhYvsHSBBXprC6pqeyz+PhjosaNifLzq36sgQMD5J/pm4waReTnV/VjqxNNn1N1
IgStQtCozJgrdbM4ODjgdjkpdiYmJjiv4G6Tp6cnPCs5T5ZEotwXPm4cuxmamlqpw6qduDjg22+Z
37RuXeCHH1haucyP2qED890q+jfUpQvznQcFFZd9tbbWbM3rBg2A8HDmi3Z1LV4vixqqqSJcmqZp
U3ZPAmDv9fZt5tOvLJmZLDHKwYHV954wAejZs3h7ZCSvisjRTXQiA7QiYw6wH6uyLEp1I/NflSQz
s7gOSGEhi7hJSmLLIlFxeKGs/Gt5TJ7MIlyA4oqB1Ul4KU9nSXr1YheXESPYTUQZwcHs4lJTVKRT
nfTvX1wxUhGFhezxJjdvAi4ubli+nH22Y8cWtyPSLWNek+e0ughBqxA0KkMwxtzIiIXLaZOsLBa2
17s3W3ZxAS5eZCN22XaAhVYqYvJkluV65w6Lvmjduvw5MtWFjQ0LN5wxg1U0XLCATee2ciWL4a6N
9OvHoouys1msuiwypiQTJpSdFGPBAhZf368fK12wezeL3JGlSkRFAU2asAeHo2sIxpibmLB4Z0Vh
durmzTvwABuZOzgwQ5Gfz4yErS3QqhXb7uHBEmCUYWPD4rpPnmQG/Z13Srs/1KGzPJyd2fn7/Xfg
yy+ZMR8ypOr9VhZVdaoDR0f2L2TixOI6MosWlW7z/Dlzx8jqwhABO3aw6e4GDxaXOtbeveycrVhR
nNykC9TkOa0uQtAqBI3KEIwx9/JiySUXLxYXoKppsrLYqEwkKl9vz57sB18R3buzJKiQEDa6rwms
rVnS0ltvAS9eFBf0qo3Y2BQba4CNrLOz2cVThkTCnmW1Z9LT2Wc6aFDpz7ZjR5aFfP8+qxVU0cWa
w9EWOlHPvHlzli7evLny/caNY4bUz69qlfaqS+PG7GZnZQtKvcnt24C7O8vO/PVXZtw1TVISu0k7
ezawbZvm+9M2EycCc+eyom1ZWcCPPzID//PPbNTet29xIbfUVGDdOpa1K3OZyQgMZBfAR4+YYedw
tImyeuY6YcwNDVmmn6Gh8v0WLwbOnGGjpJpWXVTERmwFBVWvQyJDKmWp8U+flr6pqmm++or9qxk0
qGb60wVk//oSEoBOnViFxiFDmPvFw4O1WbiQ3QsByv9eFRYqryPP4dQUOj85hSpuFoCF/sn+FhsZ
AX/+qTlNb/rPsrNZGn51DTnAjrFoEYsmqa4hr4yf7/vvtWfIteWPlH2vzMxY+n2/fuy8T5/Oyhns
3s0MuZ4eu0lcnlZdNeRC8vEKQasQNCpD619TImbMVZk70daW1QwB2PPs2Wx2nYqyXNVBZqZ6oxhm
zgTGj1ff8TgVs2ABC9XcuJEtDx3Kni9dYt+lkvHkHI7Q0LqbpbCQ+Y5VibUuWSp29Gh28zA5mUUg
aJpr11gFwRs3NN8XR3MEB7PSvro62uZwlKHTbhZVXSwAi8mWVRw0NGSj8kpU2K0Wjx/zG2C1gZ49
uSHn1E4EZcxlcd0ACz9r2bI4A7OyFBWxaAZFcetv+s90NZpBKH4+oegEhKNVKDoBYWgVgkZlaM2Y
y7LvCgoqV6O8Sxdg/Xo204upafFckJVlxgw20jc2Bi5frrh9QEBx5ieHw+HoGlrzmQMEIuYm6dlT
dXdJXh67WVqnDosfbtmSja7fLBgVG8vS5MvL2MvMZJNBREcD333HDPrXXyvu8+VLNvtNcrJuTo7B
4XD+G+i0z/yXX8omaiijQYPiKoMGBuy1rGCVjIICYMAA4L33yh+5P3zI3DRGRkCPHqy4EgB8+CFL
236ToCCWcs8NOYfD0VW0aswlEpamXx169y7rJvnnHxZXPGgQK0kLAMePswsHUPpmZtu2xReT3buL
p1Ar6T+7elW7cz0qQyh+PqHoBISjVSg6AWFoFYJGZWjNmDdowIxndenXr7gGhwxfX+Cjj1i0i8yY
jxvH1qWns1nlO3Vi61u2ZKP3ly/ZspFR2T6CgoA+faqvlcPhcDSF1nzmv/1GmD6dRac8flz19Pxt
21iKtqzeSHQ04OTEnv/+m9UO/+uv4sxNOzuWcPTvv2z0npXFasIMHsyWjx5lMeX29qy9RMIqNsbF
VVxugMPhcDSJMp+51iJuP/iAjYrbt2f+66piaFhcMKmwkKVmjx3LimL16MEy+zZvZn01bMiSjdat
K96/cWNWzjYqihXwMjRkzzJjfucO08cNOYfD0WW06jMfNoyNzKszdZmREZCRwV5v28aq48nqg1tZ
sYkZTp1ihv3ff1l9kpLI+vbwYFEydnZsNhmZ/0yX/eWAcPx8QtEJCEerUHQCwtAqBI3KEHwuXMmR
+YULrN7GpEnF20eNYg9lnD9fHPfevj1w5EjxtqtXgXffVa9mDofDUTsVzQb94sULcnNzI3t7e+rc
uTNt2rSJiIi+/fZbMjc3J2dnZ3J2dqZTp07J91mzZg3Z2NhQx44d6cyZM5WaYbqy3LlD5OjIXvfo
QXT9evWO9/QpUZs27HVgIBFA9OJF9Y7J4XA46kCZ7axwZK6vr4+NGzfC2dkZWVlZ6NatG4YOHQqR
SISFCxdi4cKFpdqHhYXh0KFDCAsLQ2xsLIYMGYLw8HDoqaN2bDkYGha7WV6+rHiCi4qwsmKJSS9e
AOfOsbhzZXN6cjgcji5QoYU1MzODs7MzAMDAwACdOnVC7Ot0TSrnrurx48fh7u4OfX19WFpawsbG
BsGyGXE1QEk3S0pK9Y25SMRmltmxQ4xHj9jcmbqMUPx8QtEJCEerUHQCwtAqBI3KqNRwOSoqCnfu
3EGvXr0AAFu2bIGTkxNmzpyJ9NdpmHFxcbCQ1akFYGFhITf+msDIiKXn5+aykEN1RJ0MGMCyQq9f
ZxP6cjgcjq6jsjHPysrCe++9h02bNsHAwACzZ89GZGQkQkJC0KpVKyx6c/rzEoiqE65SAfr6QLNm
QFgYe1ZHVwMGAOfOucHKCnBwqP7xNImbm5u2JaiEUHQCwtEqFJ2AMLQKQaMyVIpmKSgowIQJE/DB
Bx9g3LhxAICWLVvKt8+aNQtjxowBAJibmyM6Olq+LSYmBubm5mWO6eHhAcvXUwQZGxvD2dlZfjJl
f3dUXTYyEsPHB2jfvmr7v7mcksKWu3VTz/H4Ml/my3y5KstisRh79uwBALm9VEhFd0+lUilNnTqV
5s+fX2p9XFyc/PWGDRvI3d2diIhCQ0PJycmJ8vPzKSIigqysrEgqlap8R7YqvPsukZ4e0ZUr6jvm
zJkB9PSp+o6nKQICArQtQSWEopNIOFqFopNIGFqFoFGZ7axwZH716lX8/vvvcHR0hIuLCwBgzZo1
+OOPPxASEgKRSIT27dtj586dAAB7e3tMmjQJ9vb2qFu3LrZt26ZRNwvApgGzs1Nvcs8HHwDW1uo7
HofD4WgSrc8ByuFwOBzV0Ol65hwOh8OpPtyYK0B2E0LX4TrVj1C0CkUnIAytQtCoDG7MORwOpxbA
feYcDocjELjPnMPhcGo53JgrQCj+M65T/QhFq1B0AsLQKgSNyuDGnMPhcGoB3GfO4XA4AoH7zDkc
DqeWw425AoTiP+M61Y9QtApFJyAMrULQqAxuzDkcDqcWwH3mHA6HIxC4z5zD4XBqOdyYK0Ao/jOu
U/0IRatQdALC0CoEjcrgxpzD4XBqAdxnzuFwOAKB+8w5HA6nlsONuQKE4j/jOtWPULQKRSegfa1p
uWnIKchR2kbbGqsLN+YcDqfWM+rAKBisMUBEWgRG7h+Jp6lPy7S5n3gfuQW5WlCnHrjPnMPh1Hra
b2qPIe2HYN+9fZAUSbC4z2KsHbIWQdFB+Pri1+jRuge23dyGb/p/g2X9lwEAfrv7G5zNnOFg6oBC
aSHq6tXV8ruops88OjoaAwcOROfOndGlSxds3rwZAJCamoqhQ4eiQ4cOGDZsGNLT0+X7eHt7w9bW
FnZ2djh79qya3gaHw+GoTpG0CBFpEQiKDkJeYR52jtmJyC8iETA9AAcfHITrL67ot7sf4rPi0bhe
Y8xwnoGN1zciMz8TT1OfYprfNPzf0f+Dl9gLBmsM1KotMz9TrccDVBiZJyQkICEhAc7OzsjKykK3
bt3g5+eH3bt3o3nz5vjqq6+wdu1apKWlwcfHB2FhYXj//fdx48YNxMbGYsiQIQgPD4eeXvF1Qwgj
c7FYDDc3N23LqBCuU/0IQWtOQQ6OnT6Gds7t0MqgFaxNrOXb7ibchZSkcGnlokWFpanpc0pEeP+v
93Hu2TkUURG2j9qOyV0my7cXFBVgT8geJGQlYFLnSejYvCPEYjF2vtyJlJwU6In00MawDRrrN8bm
YDaATViUAFMD00pp8LzgCaumVriTcAdbR26FSCTCqSenMOrAKEzoNAFJ2Um45HEJIpFIpWMqs50V
/m8wMzODmZkZAMDAwACdOnVCbGwsTpw4gUuXLgEApk+fDjc3N/j4+OD48eNwd3eHvr4+LC0tYWNj
g+DgYPTq1UvVc8DhcJRQKC3EiP0jcFl8GY5xjkjISkCP1j1w0v0kJEUSOO90hl1zOzyc+1DbUrXG
wQcH8SjlEaIXRKOhfsMy2/Xr6OOjbh+VWb9lxBb4PfJDRn4GxnQYA9tmthhmPQy77uzC0bCjmNtz
rsoaItIi4HvbFz3Me8D/qT/MDMwQmhyK4NhgfNrtU9g1t8PG6xtxNfoqkrKT8E7Hd1BHr06V33Ol
nEBRUVG4c+cOXF1dkZiYCFNTdpUyNTVFYmIiACAuLq6U4bawsEBsbGyVBWoLXR+ZydB1nUSEoOgg
+OX54eSZk1g/fL22JVWILpzTQmkh7iXeQ3J2Mmyb2cKqqZV821fnvkIj/UZI25EG4wbGKJIWocNP
HbD95nZ8d/k7AECXll20Jb1cavKcFhQVYHXgavgM8SnXkCtCpnFW11ml1o/qMArxWfG48uKK0v0z
8zOxO2Q3XMxc0L9dfwRFB8HN0g1HJx1FWHIYPjr5Ed5q+xb2vLNHruthykO4/+mO9Lx0WDW1wqn3
T8Hc0BwpOSk48fgEPnT5UGX9KhvzrKwsTJgwAZs2bUKTJk1KbROJREr/Jqj6F4JTe8iSZOHLs1/i
xasXeJr6FO5d3LHy8kp8/dbXMGloUqrt2WdnYWtii/ZN28vXhSWH4XrMday9uhZL+y7FDJcZNf0W
tMp7h99DaHIoLI0tcSvuFvq06YNRtqPgYOqAfXf3IXxeOIwbGAMA6ujVwafdPsXcU3Ox6e1NsDWx
xaZ/N2n5HVSec8/O4cTjE3iV/wpv27yNQmkhHiY/xNJ+S2HUwEilY+QV5mHy0cmwbWaLUbaj1KbN
qL4RsiRZ5W777e5vOB95HrYmtlgesBwAMMx6GO4m3MXWkVsBAPYt7HH1w6tl9u3bpi923tqJMx+c
QUBkACw2WmCEzQjoifTwz5N/MLnLZDTSb6SSRpWMeUFBASZMmICpU6di3LhxANhoPCEhAWZmZoiP
j0fLli0BAObm5oiOjpbvGxMTA3Nz8zLH9PDwgKWlJQDA2NgYzs7O8iujLN5Tm8shISGYP3++zuhR
tFwyNlZbes5dOIe1V9einnU9dG3VFYbxhvC95QsLJwv0tuiNz1p8hvC74RhmPQxeYi9YpFrAvoU9
LBwt4GTqhOGrhqN/u/64vOIyAGDDHxuwQrwCA9wGYF7PeZi/Yz7MJ5lj2OBhNfJ+fvzxR61+Hw+c
PIDzF88jeWsyGuo3xMkzJ3Ej7gaCYoIw59QcuBu4496/9+T7iMViOBY6Yv+7+/Fup3ex59geRN6J
BD6AVvRX9fe08OFCtGjUAt0l3fHFuS+Qa5GLwVaD0fHLjtgyYgu69u4KaxNrhfvDEvj0709hmmKK
b/p/Ix9Eqqq35Pl8c3tETASykFVm/8lHJ+PK5Sto3aQ1jjQ6goMTDkIUJcKvIb9i53s7MbbjWKX9
j+k4BgvMFkD/hT4+6f4JfK764PS50xjfaTw6NOuA7Ue24/7Z++ztvbaXCqEKkEqlNHXqVJo/f36p
9YsXLyYfHx8iIvL29qYlS5YQEVFoaCg5OTlRfn4+RUREkJWVFUml0lL7qtCt1gkICNC2BJXQBZ0L
/RfSoL2D6MSjE9RhSwfSX6lPW4O3lvrcAwIC6FnqM5r7z1zq9UsvctjmQPAC3Yq7RfACefh5yNsO
2juI9t/bL192P+pOtptt6dyzczXyfjRxToukRSq37fdrP/IJ9Cl32/Xo65SZn0lEinVGpkVS241t
K61Rk6hyTm0329LD5IdERPQq7xX5PfQjqVRKX539iox9jKnOijo079Q8Ov7oOLn6utK7h96lvSF7
adT+UXQp6hKZrjMleIESsxLVrvFy1GXqu6tvqXXpuekEL1CTNU1IUiihHElOlfotyeknp+Xflc9P
fU7rrq4rtV2Z7azQqgYGBpJIJCInJydydnYmZ2dnOn36NL18+ZIGDx5Mtra2NHToUEpLS5Pvs3r1
arK2tqaOHTuSv79/2U4FYMw5qpGVn0UGawwoJTuFiIhe5rykjLyMCveBFwheoHqr6hG8QO5H3YmI
KDUnlQzWGFB+Yb68vVQqpROPTpDJWhNacm4JnX16VnNvSAN8cfoLqrOiDo0+MJqSs5MVtssryCPv
QG8y+8GMJIWSKveXmZ9JDb9rWGYQpes0WdOE0nLTyqwvKCogDz8PCogMoEVnFpGrryutubyGDtw7
QO1/bE8Nv2tIlj9akpG3ET1OeawRbbfjbpPTdqdS646GHiV4gVZdWqWRPn+59QtNOzat1LpqGXNN
wI25cMkryKOvzn5FR0OP0tx/5pLFBgsa+8fYSh/nfuJ9yszPpGxJNvk/8Sen7U70Iv0F/RP+Dw3a
O6jcfc4/O0/v/PEOWWywoAG7B9D/Lv6v0v2mZKfQ6SenKSotih4lP6r0/srIL8ynJy+f0IjfR5D5
enNq8X0L6rOrD9VdWZfCU8Jp2rFptOjMIsoryCuzb2FRIVltsqKxf4ylpy+fVltLs7XNqjxC1QZZ
+VnU4LsGlb4AhSWF0R/3/6BPTn5CU/6coiF1RE9ePiGrTVbyZalUSl13dqU/w/7UWJ+Pkh+R6TpT
yi3IpcKiQgp8HsiNeVXQBfeFKmhaZ15BHj1KfkTP059TaFIo9fqlF9lutiWRl4hcdrjQ05dPqbCo
sFo6s/KzaPSB0WSy1oRM1prQtuBtSo+VlZ9F31z4huAFCo4JpqXnllJ8ZrxK7+f7K99T8++bk/5K
fYIXqKCooFJay0P2t/jdQ++S+Xpz+tDvQ9oavJUi0yLpl1u/0K7bu4iIKOZVjPwfydbgraWO8SDx
QSljoQrKdPb6pRcFPg8ssz4tN43e/v3tSvWjColZiXQp6lK52/yf+NNHmz9SuK9UKqXf7/5O7X9s
X+X+pVKpSt9DZSg7n/GZ8dRyXUv58rGHx8h5h3Ol3GdVYepfU6nPrj5Uf1V99t1RYju1n5/K0Wlm
/zMbR8KOAGARKuPtxuPoxKOw2GgBLzevUskqVaVxvcY46X4S+YX5uPLiCtws3Spsv2rQKkiKJOi9
qzcGWA5A95+7Y/uo7bgRdwP3Eu/h2P8dk98Ae5X3Cg31G6JenXq4EXcDG4dvhHsXd9hssUFUehRs
TGwAAP+E/4Or0Vfx6OYjNLRpCFcL1zJ9x2TEoGmDpmhcrzEKpYXov7s/bsbdxAibEbjy4grC5obB
zMBM3n5m15ny1+aG5pjqOBWPUh5h07+bcObZGQxuPxh19eriQdID9DTvWe1zKcPWxBaPUh6hrVFb
tG7SGnX16oKIcOD+Afg/9UdcZhz8HvlhUudJaN6oebnHiM2IRYvGLVCvTr1yt/s/9UfzRs3RvXV3
rLq0Cj/d+Anzes7D5hGbS7XbeH0jLoRcQPdb3THFYQqev3qOrcFbsXrwauQX5mPUgVEolBZix+gd
VX6/IpEIdURVj9GuCIN6BvJolvCX4Zh6bCqOTjwKPZFmy1vtGbcHPld8MMp2FPwe+eEGbihurNHL
igK01C2nCrTd2FbujrgUdUl+k6ekT1tbpOak0uWoy0REtP3GdoIXaOwfY8l2sy1djLhIRERBL4JI
b4UevbX7LRq5fyTBCxSRGkFERG/tfos+OvERpeemk6RQQo1WN6KV4pW0+vJqMvI2KnekJ+uDiJ0P
x+jP2JMAACAASURBVO2OlJWfRdOOTaN2G9uppFsqlVJKdgoN3juY4AX65OQnNPnoZLqbcFcNZ4Vx
8P5BMvQ2JHiB9oXsoxXiFdRmQxuy3mRNDb9rSEbeRuX+Q5AR8yqGDNYYkMEaA1p6bim9SH8h35aS
nUI+gT7U/PvmZL7enL44/QW1+qEV3U+8T3Y/2VG3nd1o+cXltOTcEkrKSiJDb0O6EHGBhv82nAy9
DanZ2mbk6utKbTe2JZvNNvTNhW903r9fJC0ikZeIcgtyyW2PG3155ssa1zDr+CyltpMX2tIx1l1d
B9/bvpjXcx7muc7TaF9HQo/AwtAC0RnReJD0AP3b9ke9OvVwPuI8AqICUERFiH4VjegF0TqfK0BE
eJD0AF1adsEvt3/B6aen8df//QUPPw9YN7XG/aT7OBJ2BA4tHXBvNgvr+/nWz/j51s8ISw5DbiGr
lkffsu+lzWYbHJ98HJ1bdi7Vj2gFOw/xi+Kx7uo6GNY3xLdu34KI8DL3pcJRbnlIiiQIfxmukQQf
KUkREBmAB0kPsPbqWtTVq4szH5yBXXM7PH/1HLkFubgdfxs7bu3A+annUb9uffm+l6Iu4efbP8O8
iTk+cPwATjuc0LRBU1z98Crsmtthzj9zEJMZgwW9FiAsOQxB0UHYMHwDzAzMICUpzj47i6NhR7Hr
zi70b9sfHZt1hO9YXwBAXGYcgqKD8G6nd3Ez7iZe5b3CEKshOv/9AoAm3k3w04ifsOT8Ejz+7LHK
se/qIvpVNNoat1VsO2vkkvIGWuq2UmjDZ34t+prcp9puY7sKfcdEquu8GXuTdtzYQfGZ8TTmwBi5
z9h+qz25+rrSB399QIP3Dian7U409o+xFBAZQOJIsTxKpbrU5PmMfhVNLb5vIb9JdS36GkkKJfQs
9Vm57R8mP6QeP/eQRw4EBATQZ/98Rv1/7U9RaVGl2pqsNaFpx6aRyVoT0l+pr9bRdGVR5ZwmZyfT
qP2jyg3rLCgqoElHJlGD7xpQT9+e9CL9BV2Pvi7/Dso++8KiQvIO9KY2G9pQ49WNCV6g5+nPK+z7
81Ofk3egNxUWFQriHlRFGn/69yeqs6IOzfl7Ts0IKgdltpMbcwWU98FGpkXKY3zVSV5BHv1x/w+y
32pPX575krYGb6Vnqc+oxfctKoy4UOVHki3Jpp6+PclkrQnVW1WPlp5bSmefniXfW75qegcVU9M/
5rYb25L7UXcyWGNQYajkmwQEBFBhUSH97+L/qM+uPvL1OZIcqreqHhVJiygkPoSOPzqubtmVQl3n
NCs/i+afnk/Tjk2j9j+2pyOhRygpK6nctrfjbtOp8FOV7qM2GHMiojNPz9D9xPuaF6MAbszVhNse
N3k8tKpIpVKSFErog78+oLiMuHLbTDs2jbrt7EZ+D/1K3R3//NTn9NXZr6ql+WHyQ2qzoQ29/+f7
lF+Yr9UvYk0SmRZJP9/8We47rwo5khxqvLoxvcp7RZJCCd1LuEcdtnRQo0rd4W7CXYIXaO4/c7Ut
haMEZbaT+8xVIK8wDwVFBWi9oTWaNWyGrSO3YlSH4roPCVkJ+PXOr1jabymevHyCkIQQPEl9gh03
d6CHeQ8cf3QcBMKyfsuwZvCaUseWkhSN1zRG/KJ4ea0NGTEZMbDfao/YhbFw2+uGRb0X4X2H9+V9
6on0UEdUB7fib2GY9bBytW+7sQ03427i13d+VfNZ+W8w7uA4iKPEqFenHtoZt4OlsSWOTDyibVka
4U78HTiaOlarch9Hs/AJnatAyXoNTjucYOhjiMHtB2P9sPVYf6105T+fKz7wvuKNhWcWYu3VtZj8
52SEvwxHbGYs/B75IX5RPKK+iMKB+wewJrC0MU/OToZBPYMyhhwALAwt4GDqgJtxN3E7/jb239+P
eafmYcpfU9BqfSuY/WAGu8V2mPLXFGy7sa3c9xGXGQdLY8tqn4/qUvJ86joltW4cvhGv8l9hUe9F
uBl3E60NWmtP2Buo+5y6tHLRmCEXwucvBI3K0CljLlohQr1V9TD89+EITQrVthwAwMnHJ5Etycbs
7rNxYMIBOJg64MWrF6XaXIi8AL//88PJ8JPYHbIbQR8GYd/4ffIYVFMDU7Qzbofrs65j07+bcDPu
pnzfsOQwtDVqq7D/Ae0GYM6pOQCAU09OITI9EkPaD4GlsSU6NOuAxX0W4+qHV7E8YDniM+ORJckq
Vd0tNjMW5k3KFjrjqEb7pu1x6L1DmN9rPjKWZmDt0LXalsThlE8NuXpKUV63UqmU4AWaeHgibbq+
iZp/35z8n/hTem66FhQyXqS/oDYb2tCZp2fk67Lys6j+qvoU8yqG5p+eTwP3DCT9lfokKZTQe4ff
K5VVuOrSKvr55s+ljrn/3n5qvb413U24S6/yXhG8QEbeRgo1SAolJI4U0/zT8wleoKAXQeW2+/rC
12TsY0zwAvX6pRcRFWccnn5yurqngsPh6ADKTLbO+Mxf5b1Cm41tkLEsAwBwOPQw/u/o/8GwviHe
6/Qeto3aVioWVlNISQoRWH32Ddc24EHSgzL+ZpO1JpjUeRISshJw6skpdG/dHUEzg3Aj9gYuRF7A
0n5LFR6fiDDnnzloULcBWjZuib8e/YWNwzeiX9t+SnUREZ6/eq7UZZItycb1mOuY7jcdvSx6IfBF
IEQQ4c4nd9CqSatKnQcOh6N7KL3fWCOXkzcor9vwlHCy3mRdal1abhqlZKdQt53daNqxaRrPEkvK
SiJ4gVaIV1BAQAB5+HmUGVkTEXXd2ZXgBfor7C9KyU6hbEl2pfq5Hn2dzNebU8t1LSk0KbRamssL
pxJHimnnzZ0aqyBXFYQQmiZDKFqFopNIGFqFoFGZydaaz/xCxIVSy0nZSWjRuEWpdcYNjNGsUTN8
3O1j7Lu7D/FZ8RrVtPQ8G1E/TGFzJ96Ovw0HU4cy7Tz7eQIAepr3RLNGzVSeCUSGq4Urfhj2Axb0
WgD7FvbVVF2WAZYD8HG3j9GhWQe1H5vD4egmWnOzmK4zhauFK7aN3IbDoYfh/8wfDeo2wPHJx8vd
p6dvT2wesRm9LNQ7MfTOmzsx0nYkLAwtYLnJEqsHrYbnBU9sHL4R88/MR+QXkairx+uRcTgc7aPM
zaI1K/V8/nOsvLQSFhstYN7EHJ79PeFo6qiwfRujNgiKDiplzIOig/Di1QtM7jK5VFsiwu/3fod9
C3t0a92t3OMdDj2MX+/8ijPPzmCa0zRMtJ8Io/pGmOIwBQlZCZh6bCrWDV3HDTmHwxEGNeTqKUXJ
btNy01SqQzxwz0CCF+hxymO6EXuDCosKqdHqRgQv0O47u0u1/fnmz9R6fWsyWWuisB5H562dafuN
7fT347/JdrMtufq60qEHh+TbT545qfOV3IiE4ecjEo5OIuFoFYpOImFoFYJGZSZb63Hmxg2MVUpU
2Dh8Iwa0G4ABewagh28P/HbvN3Rt1RWf9/wc5yPOy9s9TX0Kz4ueOD/1PGa5zILvLd8yx3qe/hxJ
2Un4qOtHGG4zHE9SnyA2MxYTOk2QtzGoZyCISm4cDocDaNFnXpVuI9IiYL2ZTYbQxrANDr53ELkF
uVh1eRXEHmJISYoF/gsgJSm2jNyCgMgALD63GNdnXcfxR8fhZumGZo2aYduNbbgecx37xu8DAHwb
8C1G2o4sdzICDofD0RVqTTq/VVMrTLSfCAAwaWiCPm36oJ1xO3lG5r67+7A5eLM8ZrtPmz4w/v/2
zjwuqnL/459hCXEnF5I0tJtpiiKMS3LFJUIkMVxQXLkXXC5ytVBUcocULdzT1EiNzMTScsku7oqi
YqRoKsqSgoKogAsg68x8fn/Mb06MaJnNwtDzfr3mpXPOmcPnPOdzvufZn1oN4bjeET7bfaSh9Mcz
j+PtV9+WzhveJ1wEcoFAYNL8YTAPCAiAra0tOnT4rYteWFgYmjdvDicnJzg5OSE2Nlbat3jxYrRu
3Rpt27bFgQMHdC74G59vAKgDO6DOoWcXZkOpUmJPyh4EdQ7CwLYDAQBWFlY4OOYgPnL7CD7tfBCX
GQeSOJ11Gt2bd//dv2Mq8zQInbrHVLSaik7ANLSagsbf4w+Dub+/P/bt26e1TSaTYerUqUhKSkJS
UhI8PT0BAMnJyfjmm2+QnJyMffv2ISgoCCqVSqeCNfXYmlkCrSys8KL1i8gpysHFuxcxqeskrZGi
MpkMA9oMwOaBm3El7woGxAyAXT07ad3Hp3H+/Hmd6tYXQqfuMRWtpqITMA2tpqDx9/jDfneurq7I
yMiosv1J9Ta7d+/GiBEjYGlpiZYtW+K1117DTz/9hDff1G3fcOU8JWT4rXHSvoE9UvNTcfPhzacu
MGxtaY3gbsFo0aAFxnQc84eNmw8ePNCpZn0hdOoeU9FqKjoB09BqChp/j+euM1+9ejUcHR0xduxY
KRFu3bqF5s2bS8c0b94c2dnZf13lY5jJzLSCsX1De3xw6AO0a9LuqSuJA0CEWwQCOweizgt1dK5J
IBAIjMlzBfOJEyfi+vXrOH/+PJo1a4aQkJCnHmuI7n39/tEP3V7uhgNjdFdH/6TSSHVE6NQ9pqLV
VHQCpqHVFDT+Ls/SUf369et0cHD4w32LFy/m4sWLpX0eHh5MSEio8htHR0cCEB/xER/xEZ8/8XF0
dHxqnH6useo5OTlo1kw9perOnTulni7vvvsuRo4cialTpyI7OxtpaWno2rVrld+bekODQCAQVDf+
MJiPGDECcXFxyMvLQ4sWLRAeHo5jx47h/PnzkMlkaNWqFT777DMAQLt27TBs2DC0a9cOFhYWWLt2
rRhFKRAIBAbAKCNABQKBQKBbTGoEqC7JyMhAYWGhsWU8E/Hx8cjJyYFCoQCA55oKwVAkJCSgvLzc
2DJqBFeuXEF0dDTu3r1rbCl/yJEjR5CcnIyysjIA1dejhw8fRn5+vrFl6IW/Xc5coVBg+vTpWLVq
FdavX4+AgABYWFTPaW6Tk5MRGhqKnJwctGnTBvXr18e6detAstpVX3333XdYtmwZatWqhebNm2PY
sGHw8vIytqwqFBUVITIyEo0aNULPnj3h5ORkbElVKCsrQ0hICOLj49G2bVtYWFjA09MTo0aNMra0
Kly+fBmzZ89GTk4OWrVqBZlMhpiYGGPLqsJ3332HFStWoE6dOrC2toafnx8GDx5sbFk65W+XM796
9SqaNWuGyMhIHDp0CDdu3DC2pCdy9+5drF69Gm5ubvj555+xbNky7Nu3DxcvXqx2gfzo0aPYuHEj
IiMjsX//fvTs2ROff151tkpjs2PHDsjlchQUFCAnJwcLFy7EmTNnjC2rCj/88AMqKipw/vx5bNu2
DW5ubjh79my1K/Hk5eVh06ZN6N27N86cOYNPP/0UOTk5KChQr+NbXfKJcXFx2LZtG8LDw7F//370
7t0bKSkpxpalc8zDwsLCjC1C3+Tm5qJOHfVAoYYNG+KNN96Au7s7du7ciby8PHTp0qXa5c5r1aoF
GxsbDBs2DABQu3ZtpKSkoH379loDs4xF5dKBlZUVOnXqBBcXF5ibm6OwsBDXr19Hv379YGZmVm1e
Pj/++CPGjRuHoKAgyOVypKSk4IUXXtCad8hYVPZoixYt4ODggMaNGwMAEhMTcfPmTXh7e1erUpm1
tTXefPNN9O7dGwAwe/ZsVFRUoHHjxmjdurVRdVZOp0aNGmHo0KFo3bo1iouLMXv2bHTu3BlWVlaw
tbWFSqWqNmn6V6jROfPMzEx4eHjA1dUVxcXFAABLS0vpIQkJCcGBAwdw8eJFqT7aWPzvf/9D69at
cfr0aQCAubm51jQIZWVlOHHiBBo2bAjAuLmeRYsWoU+fPtJ3Ozs7dOv226yTxcXFSE1NhaWlpVEf
kszMTK2Sl7+/P7p37w6VSgUbGxukpqbC3Fw9l76x0vNJHq1Xrx7atGkjzWv0wgu/jWo2Zno+7lGZ
TIYGDRqgoqIC0dHRSE1NxcCBAzF16lR88sknAIyTro/7s27durCyssKtW7fw3nvvwdbWFoWFhXB3
d8eNGzdgZlYzwmDNuIqnEBUVhbZt26Jbt27QFEA0b2yVSgW5XA4nJyds2bIFFhYWRnugExMTER0d
DVtbWyxatEjaXrm0cPPmTdja2qJt27YAjPNQq1QqrFixAvHx8UhPT8fixYsBqNshKs+zfOnSJbi6
uhpcnwaSmD9/Pl5//XX4+/tL2xs3bozatWtLx1hbW6Np06YAjBckn+RRTRDXpGd8fLxUelAqlUbR
+TSPAuoM0sCBA/Hjjz9izJgxiIqKwpIlSwAYNl2f5k9NmjVr1gwff/wxtm/fjtDQUPj4+KBGVUw8
ywhQU+LWrVusqKggSd64cYMPHjxgcnIyHRwcmJycTJJUKBRUKpXSb/r27cuxY8fS0dGRSUlJBtGp
UqlYUlJCkszNzeXly5dJkh07duTXX38tHaPh9OnTnDFjBsvKyjhp0iR+/vnnBtFJkqWlpVJ6nTt3
joWFhbxy5QobNGjAgoICktRKz5kzZzIhIYFpaWkcN24cU1NTDaaVJB8+fMjg4GCePHmS/fr14+bN
m0lS8gVJ5uXlUS6Xs6ysjCR55coVg+l7Vo+SZElJCceNG8fbt2/zyy+/pLe3N1NSUgyi81k8Wvm+
a8jOzua///1vPnr0yCA6n8WfmvSszNq1axkVFWUQjYagxgTzs2fPsmPHjvTy8qKfn59kQg1z586l
j48PSW0Dpqen09ramr169eKZM2cMonXlypXs3r07AwICqjyYO3bsYMeOHSX9moA+c+ZMtmrViq6u
rpwwYQLv3bund50KhYLjxo3j0KFDOW/ePGm7RtPw4cM5atQokmR5ebm0v0OHDvT09GTnzp25ZMkS
veskyYSEBKamprKwsJCkOmCS6vSUy+VS8NTc+59++onDhw/npUuX+PbbbzMkJEQK7PrieTz64MED
2tnZsX379vT09OS5c+f0qlHDn/EoSZaVlbG4uJibNm2is7MzIyIi9K7xefxZVlbG+/fvc+7cuXR0
dOTx48f1rtNQ1IhgrlKp6Ofnx/Xr15MkfX19GRgYqJUzuH37Nrt06cL9+/eTJIuLi6lQKLhp0yZG
R0cbTGtiYiLd3NyYlpbG8PBwjh49mj/++KPWMX379uX8+fO1tk2YMIFeXl5aJYcn5Yp0hVKp5IIF
C+jn58fMzEz27NmTH374oRQkSXUOuH79+vz5559Jqu9DVlYW7e3tGRISwvz8fL3p01BcXMygoCDa
29szICCAAwYM0NqvUCjo6+vLOXPmSBpJ8ptvvqFMJqOLi4uUy9Qnz+NRhULB9PR0vvbaa/zhhx/0
rlHD83i0vLycH330Eb28vCQ/6JPn8SepLgl5e3tz/PjxBvGnIakRwZwkAwIC+P3335Mk79+/z7ff
fpvff/+9VsDbtWsX//nPf3LOnDlcvny5VrFbn1TWEBMTwz59+pBUP+BLly5laGioVLwmyatXr7Jd
u3aMj49naGgos7OzmZ2drXU+fQZyDaNGjeKGDRtIksnJyRw9ejS3bt3K0tJSKSguXbqUvXr14oUL
F7h69WqS6snXNCgUCq3qIl2TlpbGt956S/res2dPLlu2TCvXmJCQQAcHBynnrVQquX37ds6ePVvr
XPpO0z/r0WXLlulVT2X+qkczMzP58OFDrfPpOz3/rD8/+eQTkuqXpgZ9+9OQmGQD6FdffYX+/ftj
3rx5SEhIAKBusa6oqEBJSQkaNmyI4cOH46uvvtJa6SgvLw+nTp3CL7/8gpEjRxqkO+KiRYsQEhKC
PXv2AAC6dOmCV155BRcuXIBMJoOHhwcUCoV0HQDQpk0bFBUVwd3dHZaWlrCzs4OdnR0AdWOjmZmZ
zlvgs7OzMW3aNGzcuBG//PILAMDZ2RmPHj3Co0eP8MYbb8DV1RWnT59GVlaW1LDl7++P48eP4513
3pG6TLZs2RIqlQpKpRLm5uY6bwRLTU2V/i+TydCkSROkpaUBAJYsWYJDhw7h0qVLANSNiN26dcPg
wYPh5OSE7t27Iy4uDj4+Pli4cCEASD2ZdJmmuvKoIdCFR1955RXUr18fgLrBUdce1YU/W7RoAQCw
tbUFSahUKr3401iYVDAvLCyEn58fNm3ahGnTpqGsrAxffPEF7t27h86dO2Pv3r24c+cOAGDs2LFI
T0/HoUOHAACnTp3C7t27cfToUezevRu2trZ61ZqYmAgnJyekp6ejbdu2+PTTTxEdHY0mTZqgadOm
OHnyJADAwcEBzZo1w6+//goAePjwIebOnQtnZ2ekp6djwYIFWufVxwto3bp16N27NywsLJCcnIzw
8HDcvXsXLVq0wLVr16QBFr6+vkhLS0NOTg4A9eyXvr6+mDFjBrKysjBw4EDpnGZmZlK3P12RmJgI
d3d3jBs3DtOnT8eZM2dQt25dAMC9e/egUqnQtWtXtGnTBl9//TUAdbBPTk7G3r17UadOHURERGh1
W1OpVDpNU1169KWXXtKZriehL4/q+r7rw58ymazGdEmUMHbR4M+yYsUKqfHv8uXL9Pb2ZlZWFkl1
PeTatWuZmZlJkpw9ezZjYmKMonPXrl1af3vLli2cPHkySXLz5s2cMmUKY2NjSapb4Lt16yYVS/Py
8qTfVVRU6LW4Wl5ezvnz5/PixYskyaysLAYFBfHEiRN88OABg4KCuGbNGt68eZMkOXXqVKmxqaKi
gg8ePNDSqi+OHTtGZ2dnbtu2jbm5uZw3bx5nzpxJkgwNDWVoaKhUfM7MzKS9vT1zc3NJktHR0VJx
nFRXHeizaC08qjtMxZ/VAZMJ5hqzaBqMNDemR48eUgPHyZMnGRwczKFDh3LhwoW0t7fnpUuXDKpT
EyQKCwt579496fuSJUsYEhJCkszJyWFUVJTUmu7n58fp06dX6U3xpO5UukSTptnZ2Vq9Ufr06cP4
+HiS5IEDBzh16lSOHj2a586do4uLC48ePVrlPPp6mCun5+7du6XtMTExHDJkCEkyIyODgwYN4hdf
fCFdh5+fH+/cuVPlfPp8oIVHdYsp+LM6Ub3GsFeioKBAqoMjKRWJNIM+LCwskJqaCisrK2lAhYuL
C9q3b4+tW7ciNTUV+/fvR5s2bfSulZWGDmv+1RT/NUOFSaJRo0YAgJdeegnjx4+HTCbDli1bYG1t
jYiICFhaWmqdV9fFVQBSPTbwWx2xpj6eJB49eoQGDRpII03d3d0hl8sRERGBOXPmwMfHRxq+rUEf
xdWSkhJYW1tLaVe3bl30799f2t+8eXPIZDKUlJTA3t4egYGB2LNnD3bu3Ilr165BLpfjxRdflI7X
3CNdVqkIj+reo6biz2qJsd4iv0deXp5UhE5LS+PVq1e19mtyEvv27eO//vUvkurW7BMnThhUp0ql
qvLGf/y7Rqu7uztPnjxJklpdpSrnOPSZy3m8WiEpKUkrl6rZn5KSQrlcLm3XpH1ZWZnWtemzmmLR
okUMDw9naWlplX0aDR9//DHff/99rX3l5eXcunVrlZyZPhAe1b3OylRnf1ZXqtUrSzPstlGjRsjI
yMDrr7+OIUOGIDk5+YnH37hxA0qlEhERERg9ejSKiooMqlXTiHLlyhVs2LABpaWlVXIBMpkM9+7d
g7W1NaytrTFs2DDMmTMH+fn5IAlLS0utlnVdw/8fEq7JjSUkJCAgIADbtm3T6kWh2Z+SkoJu3brh
zJkzcHV1xc6dO6VGQjMzMyiVSr1N9qTpVdKjRw8cP34cV69erXKM5u/m5ORg8ODBUCgUWLFiBc6e
PQtLS0uMGDECvXv3Bkm9DH0XHtWtR03Jn9Ueo71GKvF4g1RaWhojIiL44osvMi4u7qm/8/LyYq1a
tThr1ixp5J8hKSkp4caNG9mlSxf27NmTkydPlhawrnw9169fp0wmY/v27blmzRqD6Xs8F3Xx4kXK
ZDIuWrToqb+JjIykTCbjW2+9JTV+GYPQ0FC+//770nBsDRqveHt709fXl87OzpwxY4ZWLl4fuTLh
Ud1jyv6sjhg9mFcuGh08eJDdu3fnkiVLqFAouGTJEnp5eZF8clHv+++/59mzZw2i83HjKRQKjh07
lh06dCCpbvSaO3cu58+fLw2e0FxbUlISZ82apTXazxANRyRZVFTEXbt2ST07hgwZIo2SfHw4Oal+
WFauXPnU8+kLpVLJ27dvMywsjKdPn2Zubi579erFffv2VQnOt27dokwm44gRIwzSeCg8qltM0Z+m
gFGCeWZmJmNjY/nw4UPpRiQmJkoPb2U6dOjAHTt2kKTUzciYXYxSU1N5//59kuT+/ftZr149qVtU
bGwsg4ODJb1PyiFWVFQYrD5v+/btlMvldHNz44ABA3jw4EHm5+fT2tqaaWlpJH97YJ/0QOjzhTNl
yhQuWLCAJKVeJ6WlpQwMDJRyZuvWrePw4cOrjNgjqTWPjj56KwiP6t+j1dmfpohBg7lSqeSMGTPY
smVLDho0iN7e3gwNDSWpbijy9fWVjtUUm7dt28bu3bszMDCQLi4uWv1G9c2UKVP44YcfklQ3vAwd
OpS9evWil5eXFEwmTJjACRMmkFTnMiIjIzlhwgSpX3Fl9JWDOHToEK9duyZ9Ly4u5oYNG9iiRQte
uHCBJBkVFUV/f39mZ2dz4cKF0hD4Jz20+u6HTZJxcXG0sbHh1atX6ePjwwMHDpAkjxw5woCAAMbG
xkrVKRs3bpSC4+O6dB00hUd171FT9KcpYtBgvn79eg4ZMkR6o6alpfHll1/mrl27+OWXXzI4OFjr
QdAU+fbu3cuPPvroif2G9cnx48dpY2PDgoICTpw4UZous1evXuzRowdLS0v566+/Ui6X89SpUyTV
OcYjR44YTGN+fj7t7Ozo5ubGzz77jKTa7GfOnKGtra00F0hmZiZDQ0O5bds2kqRMJuPhw4cNprMy
mgfR19eXAwcOZExMDMeMGSPtnz9/PidOnMiysjLu2bOHrq6uBrv3wqO6xRT9aaoYLJhXVFRwdC4C
kAAABhpJREFU8ODBUhFV0xgUHR3NwYMHMzk5mf379+eqVat4//59JiUlcdy4cQabX/xxNAFn0KBB
/M9//kNSXcx+8803GRwcTLlczsjISJLq4OPq6moUnffv36eXlxc3b95MFxcXbtq0SQpEkZGRHDFi
hHTs2LFjuW7dOpKUckTGQJO2+fn5rF+/Pr/99ltOmjSJX375JUkyPj6eL7/8shSYKk/cpU+ER3WP
KfrTVDFoznz48OHSzGWV67scHBy4d+9eJiUlcfLkyfTw8GCHDh0MMjXp09A8KHl5eaxXrx6vX7/O
1atXc+7cuSTVE9vXrl2bGRkZfPTokbS4gTGKf2PGjOHy5cuZmJjI8ePHc+HChSwvL2dWVhZdXFwY
GBjIPXv2sH379tJUqpritLEajzT3PywsjM7Ozjxy5Ajbt2/P8+fPc9q0aRwzZgzPnz8vHW+odBUe
1T2m6E9TxKALOufn5+Pq1auQy+WoV68eCgsLYWVlhYyMDBQVFcHHxweenp7o1KkT5s+fb9SFdmUy
GZRKJerUqYOioiIsWrQInTt3Rl5eHv7xj3/gyJEjkMlkcHd3h52dHRo3bgyVSmW00WZ37tzBsGHD
kJGRgQULFuDevXt455130LBhQ8TExKCwsBCRkZHScm6PjwY0NJp06t27tzT5lbOzMxYvXoxWrVph
zZo1WhNNGUqn8Kh+MDV/miIGvat9+vQBSWzduhWAeuFaQL2obeXFix0cHAwp66loBkhERESgsLAQ
iYmJsLGxgYuLCxo3bowjR46gXbt20vHGCuRFRUU4d+4cfH19sX79eqxcuRLp6emYPHky6tati3ff
fRetWrVCx44doVAojLoYdGU0g0IiIyMxa9Ys+Pv74+DBg4iIiABgnPUuhUd1j6n60+QwdFEgNjaW
Xbp0YXh4OHfv3s2+ffvSw8NDa/GF6oSmmPfdd9+xdevWJKm1ZFt16B714MED2tjY8L///a+0LSUl
hUePHqVCoWBsbCw9PT21VmGpLmiK/G5ubvz2229JVl2j1dAIj+oWU/anKWGUfuYnT57k4sWL6e3t
LS2jVZ3RBJy33npLCjiG7C/+LAQHB2stN1aZgoKCKiMpqxMFBQUcMGCAQZYbe1aER3WLKfvTVDDK
rIkuLi5wcXExmTkUZDIZCgsLUadOHbz66qsA9LNIxF/h2rVrKC0tfeL8GZqqgurK2bNn4ejoiE6d
OhlbioTwqG4xZX+aCjJSVFA9C8eOHcPhw4cRFhamlwmx/ir379+HjY2NsWUIjEh19qjwp/4RwbyG
YcweNQLBHyH8qT9EMBcIBIIagHhFCgQCQQ1ABHOBQCCoAYhgLhAIBDUAEcwFAoGgBiCCuaDGY25u
DicnJzg4OKBTp05Yvnz5Hw4Zz8zMRExMjIEUCgR/HRHMBTWe2rVrIykpCZcuXcLBgwcRGxuL8PDw
3/3N9evXpflZBAJTQARzwd+KJk2aICoqCmvWrAEAZGRkoGfPnpDL5ZDL5Th9+jQA4IMPPsCJEyfg
5OSEVatWQaVSYfr06ejatSscHR0RFRVlzMsQCKog+pkLajyaqWwrY2Njg9TUVNStWxdmZmawsrJC
WloaRo4cicTERMTFxWHp0qX44YcfAABRUVHIzc3F7NmzUVZWhh49emD79u1o2bKlEa5IIKhK9Zm8
QSAwAuXl5Zg0aRIuXLgAc3NzpKWlAUCVOvUDBw7g4sWL2LFjBwCgoKAA6enpIpgLqg0imAv+dly7
dg3m5uZo0qQJwsLC0KxZM3z11VdQKpWoVavWU3+3Zs0auLu7G1CpQPDsiDpzwd+K3NxcBAYGYvLk
yQDUOWzNikabN2+WFsR4vGrGw8MDa9euhUKhAACkpqaiuLjYwOoFgqcjcuaCGk9JSQmcnJxQUVEB
CwsL+Pn5YcqUKQCAoKAgDBkyBJs3b0a/fv1Qt25dAICjoyPMzc3RqVMn+Pv747333kNGRgacnZ1B
Ek2bNsXOnTuNeVkCgRaiAVQgEAhqAKKaRSAQCGoAIpgLBAJBDUAEc4FAIKgBiGAuEAgENQARzAUC
gaAGIIK5QCAQ1ABEMBcIBIIagAjmAoFAUAP4PwB98RYk1FKCAAAAAElFTkSuQmCC
"
>
</div>

</div>

<div class="output_area"><div class="prompt"></div>
<div class="output_subarea output_stream output_stdout output_text">
<pre>
Current value per asset:
GOOGL_asianCallAM     27.089735
IBM                  188.110000
IBM_call              17.288251
GOOGL                440.630000
dtype: float64

Weight in portfolio:
GOOGL_asianCallAM    2000
IBM                   500
IBM_call             5000
GOOGL                 200
dtype: float64

Simulated return histograms

</pre>
</div>
</div>

<div class="output_area"><div class="prompt"></div>


<div class="output_png output_subarea ">
<img src="data:image/png;base64,iVBORw0KGgoAAAANSUhEUgAAAXgAAAEKCAYAAAAYd05sAAAABHNCSVQICAgIfAhkiAAAAAlwSFlz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"
>
</div>

</div>

<div class="output_area"><div class="prompt"></div>
<div class="output_subarea output_stream output_stdout output_text">
<pre>
Corresponding simulated returns of weighted portfolio

</pre>
</div>
</div>

<div class="output_area"><div class="prompt"></div>


<div class="output_png output_subarea ">
<img src="data:image/png;base64,iVBORw0KGgoAAAANSUhEUgAAAYUAAAEACAYAAABcXmojAAAABHNCSVQICAgIfAhkiAAAAAlwSFlz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"
>
</div>

</div>

<div class="output_area"><div class="prompt"></div>
<div class="output_subarea output_stream output_stdout output_text">
<pre>
Simulated loss of portfolio

</pre>
</div>
</div>

<div class="output_area"><div class="prompt"></div>


<div class="output_png output_subarea ">
<img src="data:image/png;base64,iVBORw0KGgoAAAANSUhEUgAAAaEAAAEACAYAAAAa6MmJAAAABHNCSVQICAgIfAhkiAAAAAlwSFlz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"
>
</div>

</div>

<div class="output_area"><div class="prompt"></div>
<div class="output_subarea output_stream output_stdout output_text">
<pre>

Value-at-Risk: 64479.93
Expected Shortfall: 80451.25

</pre>
</div>
</div>

</div>
</div>

</div>
<div class="cell border-box-sizing text_cell rendered">
<div class="prompt input_prompt">
</div>
<div class="inner_cell">
<div class="text_cell_render border-box-sizing rendered_html">
<h4 id="Expectation-Maximizaton-of-Gaussian-Mixtures">Expectation Maximizaton of Gaussian Mixtures<a class="anchor-link" href="#Expectation-Maximizaton-of-Gaussian-Mixtures">&#182;</a></h4>
</div>
</div>
</div>

<div class="cell border-box-sizing text_cell rendered">
<div class="prompt input_prompt">
</div>
<div class="inner_cell">
<div class="text_cell_render border-box-sizing rendered_html">
<p>In the homework we are given an implementation for an algorithm which finds the maximum likelihood for models with latent variables. This particular algorithm applies to Gaussian mixture models. Here we provide the Python version for this implementation.</p>
</div>
</div>
</div>
<div class="cell border-box-sizing code_cell rendered">
<div class="input">
<div class="prompt input_prompt">In&nbsp;[181]:</div>
<div class="inner_cell">
    <div class="input_area">
<div class="highlight"><pre><span class="k">def</span> <span class="nf">expectationMaximizationGM</span><span class="p">(</span><span class="n">Z</span><span class="p">,</span> <span class="n">K</span><span class="p">,</span> <span class="n">p</span><span class="o">=</span><span class="bp">None</span><span class="p">,</span> <span class="n">mu</span><span class="o">=</span><span class="bp">None</span><span class="p">,</span> <span class="n">sigma</span><span class="o">=</span><span class="bp">None</span><span class="p">):</span>
    <span class="sd">&quot;&quot;&quot;</span>
<span class="sd">    expectationMaximizationGM: EM algorithm for a mixture of K Gaussians GM[p,mu,sigma]</span>


<span class="sd">    INPUT:</span>
<span class="sd">         Z : Sample with M observations </span>
<span class="sd">         K : Number of Gaussians in the mixture</span>

<span class="sd">    OPTIONAL INPUT PARAMETERS (initial seed for EM)</span>
<span class="sd">         p : vector of probabilitiess  [Kx1]</span>
<span class="sd">        mu : vector of means           [Kx1]</span>
<span class="sd">     sigma : vector of stdev&#39;s         [Kx1]</span>

<span class="sd">    OUTPUT:</span>
<span class="sd">         p : vector of probabilitiess  [Kx1]</span>
<span class="sd">        mu : vector of means           [Kx1]</span>
<span class="sd">     sigma : vector of stdev&#39;s         [Kx1]</span>

<span class="sd">%% EXAMPLE:</span>
<span class="sd">%</span>
<span class="sd">%   %% Sample matrix (M rows, N columns) </span>
<span class="sd">%   M = 1000;</span>
<span class="sd">%   N = 1;</span>
<span class="sd">%   %% Gaussian components</span>
<span class="sd">%   p     = [ 1/2 1/3  1/6];  % probability vector </span>
<span class="sd">%   mu    = [-1.0 4.0 12.0];  % means </span>
<span class="sd">%   sigma = [ 1.0 3.0  0.5];  % standard deviations</span>
<span class="sd">%</span>
<span class="sd">%   %% Generate sample Z ~ GM[p,mu,sigma)</span>
<span class="sd">%   Z = GMrand(M,N,p,mu,sigma);</span>
<span class="sd">%</span>
<span class="sd">%   %% EM for Gaussian mixture</span>
<span class="sd">%   [p, mu, sigma] = expectationMaximizationGM(Z,3)</span>
<span class="sd">%</span>
<span class="sd">%   %% Compare modelPdf and scaled histogram</span>
<span class="sd">%   modelPdf = @(z)(GMpdf(z,p,mu,sigma));</span>
<span class="sd">%   figure(1); graphicalComparisonPdf(Z(:),modelPdf)</span>
<span class="sd">%   title(&#39;Z ~ GM[p,\mu,\sigma]&#39;)</span>
<span class="sd">    &quot;&quot;&quot;</span>
    <span class="k">if</span> <span class="n">K</span> <span class="o">==</span> <span class="mi">1</span><span class="p">:</span>
        <span class="c"># Fit to a single Gaussian  </span>
        <span class="n">p</span> <span class="o">=</span> <span class="mi">1</span>
        <span class="n">mu</span> <span class="o">=</span> <span class="n">np</span><span class="o">.</span><span class="n">mean</span><span class="p">(</span><span class="n">Z</span><span class="p">)</span>
        <span class="n">sigma</span> <span class="o">=</span> <span class="n">np</span><span class="o">.</span><span class="n">std</span><span class="p">(</span><span class="n">Z</span><span class="p">)</span>
        <span class="k">return</span> <span class="n">p</span><span class="p">,</span> <span class="n">mu</span><span class="p">,</span> <span class="n">sigma</span>

    <span class="k">if</span> <span class="n">mu</span> <span class="ow">is</span> <span class="bp">None</span> <span class="ow">or</span> <span class="n">sigma</span> <span class="ow">is</span> <span class="bp">None</span> <span class="ow">or</span> <span class="n">p</span> <span class="ow">is</span> <span class="bp">None</span><span class="p">:</span>
        <span class="c"># initialization of parameters</span>
        <span class="n">mu0</span> <span class="o">=</span> <span class="n">np</span><span class="o">.</span><span class="n">mean</span><span class="p">(</span><span class="n">Z</span><span class="p">)</span>
        <span class="n">sigma0</span> <span class="o">=</span> <span class="n">np</span><span class="o">.</span><span class="n">std</span><span class="p">(</span><span class="n">Z</span><span class="p">)</span>
        <span class="n">mu</span> <span class="o">=</span> <span class="n">np</span><span class="o">.</span><span class="n">linspace</span><span class="p">(</span><span class="n">mu0</span> <span class="o">-</span> <span class="mi">2</span> <span class="o">*</span> <span class="n">sigma0</span><span class="p">,</span> <span class="n">mu0</span> <span class="o">+</span> <span class="mi">2</span> <span class="o">*</span> <span class="n">sigma0</span><span class="p">,</span> <span class="n">K</span><span class="p">)</span>
        <span class="n">sigma</span> <span class="o">=</span> <span class="mi">2</span> <span class="o">*</span> <span class="n">sigma0</span> <span class="o">*</span> <span class="n">np</span><span class="o">.</span><span class="n">ones_like</span><span class="p">(</span><span class="n">mu</span><span class="p">,</span> <span class="n">dtype</span><span class="o">=</span><span class="n">np</span><span class="o">.</span><span class="n">float</span><span class="p">)</span>
        <span class="n">p</span> <span class="o">=</span> <span class="n">np</span><span class="o">.</span><span class="n">ones</span><span class="p">(</span><span class="n">K</span><span class="p">,</span> <span class="n">dtype</span><span class="o">=</span><span class="n">np</span><span class="o">.</span><span class="n">float</span><span class="p">)</span> <span class="o">/</span> <span class="n">K</span>
        
    <span class="n">p</span> <span class="o">=</span> <span class="n">np</span><span class="o">.</span><span class="n">asarray</span><span class="p">(</span><span class="n">p</span><span class="p">)</span><span class="o">.</span><span class="n">flatten</span><span class="p">()</span>
    <span class="n">sigma</span> <span class="o">=</span> <span class="n">np</span><span class="o">.</span><span class="n">asarray</span><span class="p">(</span><span class="n">p</span><span class="p">)</span><span class="o">.</span><span class="n">flatten</span><span class="p">()</span>
    <span class="n">mu</span> <span class="o">=</span> <span class="n">np</span><span class="o">.</span><span class="n">asarray</span><span class="p">(</span><span class="n">mu</span><span class="p">)</span><span class="o">.</span><span class="n">flatten</span><span class="p">()</span>

    <span class="n">Z</span> <span class="o">=</span> <span class="n">np</span><span class="o">.</span><span class="n">asarray</span><span class="p">(</span><span class="n">Z</span><span class="p">)</span><span class="o">.</span><span class="n">flatten</span><span class="p">()</span>  <span class="c"># Ensures that Z is a row vector</span>
    <span class="n">M</span> <span class="o">=</span> <span class="n">Z</span><span class="o">.</span><span class="n">size</span>                   <span class="c"># Size of the sample</span>
    
    <span class="n">a</span><span class="p">,</span> <span class="n">b</span><span class="p">,</span> <span class="n">c</span><span class="p">,</span> <span class="n">m</span> <span class="o">=</span> <span class="mf">0.0</span><span class="p">,</span> <span class="mf">0.0</span><span class="p">,</span> <span class="mf">0.0</span><span class="p">,</span> <span class="mf">0.0</span>    <span class="c"># standard EM</span>
    <span class="c">#a, b, c, m = .2, .2, .1, .0       # Modified EM (Hamilton, 1991)</span>

    <span class="n">TOL_MU</span> <span class="o">=</span> <span class="mf">1e-6</span>
    <span class="n">TOL_SIGMA</span> <span class="o">=</span> <span class="mf">1e-6</span>
    <span class="n">TOL_P</span>  <span class="o">=</span> <span class="mf">1e-6</span>
    <span class="n">MAXITER</span> <span class="o">=</span> <span class="mi">5000</span>
    
    <span class="c">##  EM Algotrithm </span>
    <span class="n">dmu</span> <span class="o">=</span> <span class="mi">10</span> <span class="o">*</span> <span class="n">TOL_MU</span>
    <span class="n">dsigma</span> <span class="o">=</span> <span class="mi">10</span> <span class="o">*</span> <span class="n">TOL_SIGMA</span>
    <span class="n">dp</span> <span class="o">=</span> <span class="mi">10</span> <span class="o">*</span> <span class="n">TOL_P</span>
    <span class="n">nIter</span> <span class="o">=</span> <span class="mi">0</span>
    
    <span class="k">def</span> <span class="nf">gt</span><span class="p">(</span><span class="n">vec</span><span class="p">,</span> <span class="n">tol</span><span class="p">):</span>
        <span class="k">return</span> <span class="n">np</span><span class="o">.</span><span class="n">any</span><span class="p">(</span><span class="n">np</span><span class="o">.</span><span class="n">abs</span><span class="p">(</span><span class="n">vec</span><span class="p">)</span> <span class="o">&gt;</span> <span class="n">tol</span><span class="p">)</span>
    
    <span class="k">def</span> <span class="nf">weightedNormPDF</span><span class="p">(</span><span class="n">Z</span><span class="p">,</span> <span class="n">mu</span><span class="p">,</span> <span class="n">sigma</span><span class="p">,</span> <span class="n">p</span><span class="p">):</span>
        <span class="n">Zsc</span> <span class="o">=</span> <span class="p">(</span><span class="n">Z</span><span class="p">[</span><span class="n">np</span><span class="o">.</span><span class="n">newaxis</span><span class="p">]</span><span class="o">-</span><span class="n">mu</span><span class="p">[:,</span> <span class="n">np</span><span class="o">.</span><span class="n">newaxis</span><span class="p">])</span><span class="o">/</span><span class="n">sigma</span><span class="p">[:,</span> <span class="n">np</span><span class="o">.</span><span class="n">newaxis</span><span class="p">]</span>
        <span class="k">return</span> <span class="n">p</span><span class="p">[:,</span> <span class="n">np</span><span class="o">.</span><span class="n">newaxis</span><span class="p">]</span> <span class="o">*</span> <span class="n">np</span><span class="o">.</span><span class="n">exp</span><span class="p">(</span><span class="o">-</span> <span class="p">(</span><span class="n">Zsc</span><span class="o">**</span><span class="mi">2</span><span class="p">)</span> <span class="o">/</span><span class="mi">2</span><span class="p">)</span> <span class="o">/</span> <span class="p">(</span><span class="n">np</span><span class="o">.</span><span class="n">sqrt</span><span class="p">(</span><span class="mi">2</span><span class="o">*</span><span class="n">np</span><span class="o">.</span><span class="n">pi</span><span class="p">)</span> <span class="o">*</span> <span class="n">sigma</span><span class="p">[:,</span> <span class="n">np</span><span class="o">.</span><span class="n">newaxis</span><span class="p">])</span>
    
    <span class="k">while</span> <span class="p">((</span><span class="n">nIter</span> <span class="o">&lt;</span> <span class="n">MAXITER</span><span class="p">)</span> <span class="o">&amp;</span> <span class="p">(</span><span class="n">gt</span><span class="p">(</span><span class="n">dmu</span><span class="p">,</span> <span class="n">TOL_MU</span><span class="p">)</span> <span class="o">|</span> <span class="n">gt</span><span class="p">(</span><span class="n">dsigma</span><span class="p">,</span> <span class="n">TOL_SIGMA</span><span class="p">)</span> <span class="o">|</span> <span class="n">gt</span><span class="p">(</span><span class="n">dp</span><span class="p">,</span> <span class="n">TOL_P</span><span class="p">))):</span>
        <span class="c"># increment the iteration counter</span>
        <span class="n">nIter</span> <span class="o">=</span> <span class="n">nIter</span> <span class="o">+</span> <span class="mi">1</span>
        <span class="n">gamma</span> <span class="o">=</span> <span class="n">np</span><span class="o">.</span><span class="n">empty</span><span class="p">((</span><span class="n">K</span><span class="p">,</span> <span class="n">M</span><span class="p">),</span> <span class="n">dtype</span><span class="o">=</span><span class="n">np</span><span class="o">.</span><span class="n">float</span><span class="p">)</span>
        
        
        <span class="n">gamma</span> <span class="o">=</span> <span class="n">weightedNormPDF</span><span class="p">(</span><span class="n">Z</span><span class="p">,</span> <span class="n">mu</span><span class="p">,</span> <span class="n">sigma</span><span class="p">,</span> <span class="n">p</span><span class="p">)</span>
        
        <span class="n">gNorm</span> <span class="o">=</span> <span class="n">gamma</span><span class="o">.</span><span class="n">sum</span><span class="p">(</span><span class="n">axis</span><span class="o">=</span><span class="mi">0</span><span class="p">)</span>
        <span class="n">gamma</span> <span class="o">=</span> <span class="n">gamma</span> <span class="o">/</span> <span class="n">gNorm</span><span class="p">[</span><span class="n">np</span><span class="o">.</span><span class="n">newaxis</span><span class="p">,</span> <span class="p">:]</span>
        <span class="n">gNorm2</span> <span class="o">=</span> <span class="n">gamma</span><span class="o">.</span><span class="n">sum</span><span class="p">(</span><span class="n">axis</span><span class="o">=</span><span class="mi">1</span><span class="p">)</span>
        
        
        <span class="n">dp</span> <span class="o">=</span> <span class="o">-</span><span class="n">p</span>
        <span class="n">dmu</span> <span class="o">=</span> <span class="o">-</span><span class="n">mu</span>
        <span class="n">dsigma</span> <span class="o">=</span> <span class="o">-</span><span class="n">sigma</span>
        
        
        <span class="n">p</span> <span class="o">=</span> <span class="n">gNorm2</span> <span class="o">/</span> <span class="n">M</span>
        <span class="n">mu</span> <span class="o">=</span> <span class="p">(</span><span class="n">c</span> <span class="o">*</span> <span class="n">m</span> <span class="o">+</span> <span class="n">np</span><span class="o">.</span><span class="n">dot</span><span class="p">(</span><span class="n">gamma</span><span class="p">,</span> <span class="n">Z</span><span class="p">))</span><span class="o">/</span><span class="p">(</span><span class="n">c</span> <span class="o">+</span> <span class="n">gNorm2</span><span class="p">)</span>
        <span class="n">sigma</span> <span class="o">=</span> <span class="n">np</span><span class="o">.</span><span class="n">sqrt</span><span class="p">((</span><span class="n">b</span> <span class="o">+</span> <span class="n">c</span> <span class="o">*</span> <span class="p">(</span><span class="n">m</span> <span class="o">-</span> <span class="n">mu</span><span class="p">))</span><span class="o">**</span><span class="mi">2</span> <span class="o">+</span> 
                        <span class="p">(</span><span class="n">gamma</span> <span class="o">*</span> <span class="p">(</span><span class="n">Z</span><span class="p">[</span><span class="n">np</span><span class="o">.</span><span class="n">newaxis</span><span class="p">,</span> <span class="p">:]</span> <span class="o">-</span> <span class="n">mu</span><span class="p">[:,</span> <span class="n">np</span><span class="o">.</span><span class="n">newaxis</span><span class="p">])</span><span class="o">**</span><span class="mi">2</span><span class="p">)</span><span class="o">.</span><span class="n">sum</span><span class="p">(</span><span class="n">axis</span><span class="o">=</span><span class="mi">1</span><span class="p">)</span> <span class="o">/</span>
                        <span class="p">(</span><span class="n">a</span> <span class="o">+</span> <span class="n">gNorm2</span><span class="p">))</span>
        
        <span class="c"># check how much paremeter estimates have changed</span>
        <span class="n">dp</span> <span class="o">=</span> <span class="n">dp</span> <span class="o">+</span> <span class="n">p</span>
        <span class="n">dsigma</span> <span class="o">=</span> <span class="n">dsigma</span> <span class="o">+</span> <span class="n">sigma</span>
        <span class="n">dmu</span> <span class="o">=</span> <span class="n">dmu</span> <span class="o">+</span> <span class="n">mu</span>
        
    <span class="k">if</span> <span class="p">(</span><span class="n">nIter</span> <span class="o">&gt;=</span> <span class="n">MAXITER</span><span class="p">):</span>
        <span class="k">print</span> <span class="s">&#39;Warning: EM for GM has not fully converged. Try a smaller number of Gaussians&#39;</span>

    <span class="k">return</span> <span class="n">p</span><span class="p">,</span><span class="n">mu</span><span class="p">,</span><span class="n">sigma</span>
</pre></div>

</div>
</div>
</div>

</div>
<div class="cell border-box-sizing code_cell rendered">
<div class="input">
<div class="prompt input_prompt">In&nbsp;[252]:</div>
<div class="inner_cell">
    <div class="input_area">
<div class="highlight"><pre><span class="k">def</span> <span class="nf">categoricalRand</span><span class="p">(</span><span class="n">M</span><span class="p">,</span> <span class="n">N</span><span class="p">,</span> <span class="n">p</span><span class="p">):</span>
    <span class="sd">&quot;&quot;&quot;</span>
<span class="sd">    Random number generator for categorical variables.</span>
<span class="sd">    </span>
<span class="sd">    INPUT:</span>
<span class="sd">    M : size of sample</span>
<span class="sd">    N : number of samples</span>
<span class="sd">    p : array of (normalized) probabilities for categorical variables</span>
<span class="sd">    </span>
<span class="sd">    OUTPUT:</span>
<span class="sd">    </span>
<span class="sd">    k : N samples of size M (MxN array) of randomly drawn categorical variables.</span>
<span class="sd">        k takes values between 1 and the size of p.</span>
<span class="sd">    </span>
<span class="sd">    &quot;&quot;&quot;</span>
    <span class="n">p</span> <span class="o">=</span> <span class="n">np</span><span class="o">.</span><span class="n">cumsum</span><span class="p">(</span><span class="n">np</span><span class="o">.</span><span class="n">r_</span><span class="p">[</span><span class="mi">0</span><span class="p">,</span> <span class="n">p</span><span class="p">])</span>

    <span class="c"># Sample from U[0,1]</span>
    <span class="n">k</span> <span class="o">=</span> <span class="n">np</span><span class="o">.</span><span class="n">random</span><span class="o">.</span><span class="n">rand</span><span class="p">(</span><span class="n">M</span><span class="p">,</span><span class="n">N</span><span class="p">)</span>
    <span class="c"># Sample from Categorical[p,K]</span>
    <span class="n">k</span> <span class="o">=</span> <span class="n">np</span><span class="o">.</span><span class="n">sum</span><span class="p">(</span><span class="n">k</span><span class="p">[:,:,</span><span class="n">np</span><span class="o">.</span><span class="n">newaxis</span><span class="p">]</span> <span class="o">&gt;</span> <span class="n">p</span><span class="p">,</span> <span class="n">axis</span> <span class="o">=</span> <span class="mi">2</span><span class="p">)</span>
    <span class="k">return</span> <span class="n">k</span><span class="o">.</span><span class="n">astype</span><span class="p">(</span><span class="n">np</span><span class="o">.</span><span class="n">int</span><span class="p">)</span>

<span class="k">def</span> <span class="nf">GMrand</span><span class="p">(</span><span class="n">M</span><span class="p">,</span> <span class="n">N</span><span class="p">,</span> <span class="n">p</span><span class="p">,</span> <span class="n">mu</span><span class="p">,</span> <span class="n">sigma</span><span class="p">):</span>
    <span class="sd">&quot;&quot;&quot;</span>
<span class="sd">    Random number generator for random variables drawn from a Gaussian Mixture.</span>
<span class="sd">    </span>
<span class="sd">    INPUT:</span>
<span class="sd">    M     : size of sample</span>
<span class="sd">    N     : number of samples</span>
<span class="sd">    p     : weight for each Gaussian</span>
<span class="sd">    mu    : mean for each Gaussian</span>
<span class="sd">    sigma : std for each Gaussian</span>
<span class="sd">    </span>
<span class="sd">    OUTPUT:</span>
<span class="sd">    </span>
<span class="sd">    Z : N samples of size M (MxN array) of randomly drawn variables from a Gaussian mixture. </span>
<span class="sd">    </span>
<span class="sd">    &quot;&quot;&quot;</span>
    <span class="n">p</span>  <span class="o">=</span> <span class="n">np</span><span class="o">.</span><span class="n">asarray</span><span class="p">(</span><span class="n">p</span><span class="p">)</span>
    <span class="n">mu</span> <span class="o">=</span> <span class="n">np</span><span class="o">.</span><span class="n">asarray</span><span class="p">(</span><span class="n">mu</span><span class="p">)</span>
    <span class="n">sigma</span> <span class="o">=</span> <span class="n">np</span><span class="o">.</span><span class="n">asarray</span><span class="p">(</span><span class="n">sigma</span><span class="p">)</span>
    
    <span class="n">xi</span> <span class="o">=</span> <span class="n">categoricalRand</span><span class="p">(</span><span class="n">M</span><span class="p">,</span><span class="n">N</span><span class="p">,</span><span class="n">p</span><span class="p">)</span> <span class="o">-</span> <span class="mi">1</span>
    
    <span class="n">X</span>  <span class="o">=</span> <span class="n">randn</span><span class="p">(</span><span class="n">M</span><span class="p">,</span><span class="n">N</span><span class="p">)</span>
    <span class="n">Z</span>  <span class="o">=</span> <span class="n">mu</span><span class="p">[</span><span class="n">xi</span><span class="p">]</span> <span class="o">+</span> <span class="n">sigma</span><span class="p">[</span><span class="n">xi</span><span class="p">]</span> <span class="o">*</span> <span class="n">X</span>
    <span class="k">return</span> <span class="n">Z</span>

<span class="k">def</span> <span class="nf">GMpdf</span><span class="p">(</span><span class="n">x</span><span class="p">,</span> <span class="n">p</span><span class="p">,</span> <span class="n">mu</span><span class="p">,</span> <span class="n">sigma</span><span class="p">):</span>
    <span class="sd">&quot;&quot;&quot;</span>
<span class="sd">    Exact PDF of a Gaussian Mixture</span>
<span class="sd">    INPUT:</span>
<span class="sd">      x     : shape used for shape of output [MxN]</span>
<span class="sd">      p     : Probability vector  [Kx1]</span>
<span class="sd">      mu    : Vector of means     [Kx1]</span>
<span class="sd">      sigma : Vector of stdev&#39;s   [Kx1]</span>

<span class="sd">    OUTPUT:</span>
<span class="sd">      y : Value of the pdf [same size as x]  </span>
<span class="sd">    &quot;&quot;&quot;</span>
    
    <span class="c"># Compute pdf </span>
    <span class="n">y</span> <span class="o">=</span> <span class="n">np</span><span class="o">.</span><span class="n">zeros_like</span><span class="p">(</span><span class="n">x</span><span class="p">,</span> <span class="n">dtype</span> <span class="o">=</span> <span class="n">np</span><span class="o">.</span><span class="n">float</span><span class="p">);</span>
    <span class="k">for</span> <span class="n">k</span> <span class="ow">in</span> <span class="nb">range</span><span class="p">(</span><span class="nb">len</span><span class="p">(</span><span class="n">p</span><span class="p">)):</span>
        <span class="n">y</span> <span class="o">=</span> <span class="n">y</span> <span class="o">+</span> <span class="n">p</span><span class="p">[</span><span class="n">k</span><span class="p">]</span><span class="o">*</span><span class="n">norm</span><span class="o">.</span><span class="n">pdf</span><span class="p">(</span><span class="n">x</span><span class="p">,</span><span class="n">mu</span><span class="p">[</span><span class="n">k</span><span class="p">],</span><span class="n">sigma</span><span class="p">[</span><span class="n">k</span><span class="p">])</span>
    <span class="k">return</span> <span class="n">y</span>
</pre></div>

</div>
</div>
</div>

</div>
<div class="cell border-box-sizing code_cell rendered">
<div class="input">
<div class="prompt input_prompt">In&nbsp;[255]:</div>
<div class="inner_cell">
    <div class="input_area">
<div class="highlight"><pre><span class="k">def</span> <span class="nf">example</span><span class="p">():</span>
    <span class="c">## Sample matrix (M rows, N columns) </span>
    <span class="n">M</span> <span class="o">=</span> <span class="mf">1e4</span><span class="p">;</span>
    <span class="n">N</span> <span class="o">=</span> <span class="mi">1</span><span class="p">;</span>
    <span class="c">## Gaussian components</span>
    <span class="n">p</span>     <span class="o">=</span> <span class="p">[</span> <span class="mi">1</span><span class="o">/</span><span class="mi">2</span><span class="p">,</span> <span class="mi">1</span><span class="o">/</span><span class="mi">3</span><span class="p">,</span>  <span class="mi">1</span><span class="o">/</span><span class="mi">6</span><span class="p">]</span>   <span class="c"># probability vector </span>
    <span class="n">mu</span>    <span class="o">=</span> <span class="p">[</span><span class="o">-</span><span class="mf">1.0</span><span class="p">,</span> <span class="mf">4.0</span><span class="p">,</span> <span class="mf">12.0</span><span class="p">]</span>   <span class="c"># means </span>
    <span class="n">sigma</span> <span class="o">=</span> <span class="p">[</span> <span class="mf">1.0</span><span class="p">,</span> <span class="mf">3.0</span><span class="p">,</span>  <span class="mf">0.5</span><span class="p">]</span>   <span class="c"># standard deviations</span>

    <span class="c">## Generate sample Z ~ GM[p,mu,sigma)</span>
    <span class="n">Z</span> <span class="o">=</span> <span class="n">GMrand</span><span class="p">(</span><span class="n">M</span><span class="p">,</span><span class="n">N</span><span class="p">,</span><span class="n">p</span><span class="p">,</span><span class="n">mu</span><span class="p">,</span><span class="n">sigma</span><span class="p">)</span>

    <span class="c">## EM for Gaussian mixture</span>
    <span class="n">p_e</span><span class="p">,</span> <span class="n">mu_e</span><span class="p">,</span> <span class="n">sigma_e</span> <span class="o">=</span> <span class="n">expectationMaximizationGM</span><span class="p">(</span><span class="n">Z</span><span class="p">,</span> <span class="mi">3</span><span class="p">)</span>
    <span class="k">print</span> <span class="s">&quot;Estimated vs True parameters:&quot;</span>
    <span class="k">print</span> <span class="s">&quot;Gaussian weights: {}   {}&quot;</span><span class="o">.</span><span class="n">format</span><span class="p">(</span><span class="n">np</span><span class="o">.</span><span class="n">round</span><span class="p">(</span><span class="n">p_e</span><span class="p">,</span><span class="mi">4</span><span class="p">),</span> <span class="n">np</span><span class="o">.</span><span class="n">round</span><span class="p">(</span><span class="n">p</span><span class="p">,</span> <span class="mi">4</span><span class="p">))</span>
    <span class="k">print</span> <span class="s">&quot;Gaussian means:   {}   {}&quot;</span><span class="o">.</span><span class="n">format</span><span class="p">(</span><span class="n">np</span><span class="o">.</span><span class="n">round</span><span class="p">(</span><span class="n">mu_e</span><span class="p">,</span><span class="mi">4</span><span class="p">),</span> <span class="n">mu</span><span class="p">)</span>
    <span class="k">print</span> <span class="s">&quot;Gaussian std:     {}   {}&quot;</span><span class="o">.</span><span class="n">format</span><span class="p">(</span><span class="n">np</span><span class="o">.</span><span class="n">round</span><span class="p">(</span><span class="n">sigma_e</span><span class="p">,</span><span class="mi">4</span><span class="p">),</span> <span class="n">sigma</span><span class="p">)</span>
    <span class="k">print</span>
    <span class="k">print</span> <span class="s">&quot;Estimated PDF vs histogram of sampled data&quot;</span>
    <span class="k">def</span> <span class="nf">modelPDF</span><span class="p">(</span><span class="n">x</span><span class="p">):</span>
        <span class="k">return</span> <span class="n">GMpdf</span><span class="p">(</span><span class="n">x</span><span class="p">,</span> <span class="n">p_e</span><span class="p">,</span> <span class="n">mu_e</span><span class="p">,</span> <span class="n">sigma_e</span><span class="p">)</span>
    <span class="n">graphicalComparisonPdf</span><span class="p">(</span><span class="n">Z</span><span class="p">,</span> <span class="n">modelPDF</span><span class="p">)</span>
    <span class="n">plt</span><span class="o">.</span><span class="n">show</span><span class="p">()</span>
    
<span class="n">example</span><span class="p">()</span>
</pre></div>

</div>
</div>
</div>

<div class="output_wrapper">
<div class="output">


<div class="output_area"><div class="prompt"></div>
<div class="output_subarea output_stream output_stdout output_text">
<pre>
Estimated vs True parameters:
Gaussian weights: [ 0.4997  0.3298  0.1704]   [ 0.5     0.3333  0.1667]
Gaussian means:   [ -1.002    4.1116  12.0065]   [-1.0, 4.0, 12.0]
Gaussian std:     [ 1.0123  2.9481  0.491 ]   [1.0, 3.0, 0.5]

Estimated PDF vs histogram of sampled data

</pre>
</div>
</div>

<div class="output_area"><div class="prompt"></div>


<div class="output_png output_subarea ">
<img src="data:image/png;base64,iVBORw0KGgoAAAANSUhEUgAAAYUAAAEPCAYAAACtCNj2AAAABHNCSVQICAgIfAhkiAAAAAlwSFlz
AAALEgAACxIB0t1+/AAAIABJREFUeJzt3Xl8FPX5wPHP5oBwJCFBCCEJBAiQoBDQAAJFEDlEgYqt
iuKFqEjV1p/SWm2tYNWKFq0F21JviyK1HqBABJRQQSAgl+W+CTmAQICEQI7N9/fHJLOzuTbHzs7u
5nm/Xnk5szvHs+uyz35vm1JKIYQQQgABVgcghBDCe0hSEEIIoZOkIIQQQidJQQghhE6SghBCCJ0k
BSGEEDpTk0JqaiqJiYl0796d2bNnV3n+ww8/JDk5mT59+jBkyBB27NihPxcfH0+fPn3o168fAwYM
MDNMIYQQ5WxmjVOw2+307NmTVatWERMTQ//+/Vm4cCFJSUn6MevXr6dXr16Eh4eTmprKzJkz2bBh
AwBdunThhx9+IDIy0ozwhBBCVMO0kkJ6ejoJCQnEx8cTHBzMpEmTWLx4sdMxgwYNIjw8HICBAwdy
/Phxp+dlXJ0QQniWaUkhMzOTuLg4fT82NpbMzMwaj3/77be54YYb9H2bzcbIkSNJSUnhzTffNCtM
IYQQBkFmXdhms9X52NWrV/POO++wbt06/bF169YRHR3NqVOnGDVqFImJiQwdOtSMUIUQQpQzLSnE
xMSQkZGh72dkZBAbG1vluB07dvDAAw+QmppKRESE/nh0dDQA7dq1Y+LEiaSnp1dJCn379mX79u0m
vQIhhPBPycnJbNu2rfonlUlKSkpU165d1eHDh1VRUZFKTk5Wu3btcjrm6NGjqlu3bmr9+vVOj1+4
cEGdP39eKaVUQUGBGjx4sPr666+r3MPE8N3q2WeftToEnyLvV/3I+1U/8n7V/t1pWkkhKCiIefPm
MWbMGOx2O1OnTiUpKYn58+cDMG3aNJ577jny8vKYPn06AMHBwaSnp5OTk8PNN98MQGlpKZMnT2b0
6NFmhSqEEKKcaUkBYOzYsYwdO9bpsWnTpunbb731Fm+99VaV87p27Vpz0UYIIYRpZESzBwwfPtzq
EHyKvF/1I+9X/cj7VTvTBq95gs1mk7EMQghRT7V9d5pafSSEaJjIyEjy8vKsDkP4uIiICM6cOVOv
c6SkIIQXks+2cIeaPke1fb6kTUEIIYROkoIQQgidJAUhhBA6SQpCCFMEBARw6NAhAC5evMj48eNp
06YNt912GwCnTp0iKSmJoqIil9eaMWMG//jHP0yNV2ik95EQwnT/+c9/OHnyJGfOnCEgQPst+tJL
LzFlyhSaN2/u8vwZM2YwYMAApk6dSnBwsNnhNmlSUhBCmO7o0aP06NFDTwhFRUV88MEH3HnnnXU6
v0OHDiQmJrJkyRIzwxRIUhBC1EN8fDwvvfQSl19+OZGRkdx333169c8rr7xCx44diY2N5Z133gG0
hbKeffZZ/vjHP7Jo0SJCQ0N599132bhxI23atKFjx44AnDlzhri4OL766isACgoKSEhIYMGCBfq9
hw8fztKlSz38ipseqT4SwtfUY62SOqnneIiPPvqIFStW0LJlS8aPH8/zzz/PkCFDmDNnDt9++y3x
8fHcf//95aHamDVrFgEBARw8eJAPPvgAgDfeeIOePXvq14yMjOSdd97h7rvvZseOHTz99NNceeWV
TiWJxMREPv30Uze8YFEbSQpCiDqz2Ww88sgjxMTEAPC73/2ORx99lKysLO677z569eoFwKxZs/j4
44/185RSToOlzp49S2hoqNO1R40axS233MKIESM4e/YsO3bscHo+NDSUs2fPmvXSRDmpPhJC1Itx
md1OnTqRlZVFVlaW0yJanTp1qvUakZGR5OfnV3n8gQceYOfOndx7771Oi24B5Ofn06ZNm0ZGL1yR
pCCEr1HKvX/1dOzYMaftjh07Eh0d7bTSovGY6vTp04d9+/Y5PWa323nwwQe5++67eeONNzh48KDT
87t376Zv3771jlfUjyQFIUSdKaX429/+RmZmJmfOnOGFF15g0qRJ3Hrrrbz33nvs3r2bwsJCZs2a
Vet1+vfvz9mzZ8nKytIfe/HFFwkMDOTdd9/l17/+NXfffTdlZWX682vWrKmyPotwP0kKQog6s9ls
3HHHHYwePZpu3brRvXt3fv/733P99dfz2GOPMWLECHr06MF1112HzdAgbrPZnPabNWvGvffeq/cu
+uGHH3jttdf44IMPsNlsPPnkk9hsNmbPng1AdnY2u3fv5qabbvLsC26CZJZUIbyQt362u3Tpwttv
v82IESMafa3c3FyGDh3Ktm3bXA5gmzFjBgkJCTz00EONvm9T0pBZUqX3kRDCEpdddhm7d++u07F/
/vOfTY5GVJDqIyGEEDqpPhLCC8lnW7iDLLIjhBCiUSQpCCGE0ElSEEIIoZOkIIQQQidJQQghhE6S
ghDCUjNnzuSuu+5y+7lpaWlOk/dVNn36dJ5//vkG3defyeA1IXxEWFgk+fl5pl0/NDSC8+fPmHb9
mtgasT5EY879+9//Xqfj4uPjeeedd9wyitsXSFIQwkdoCcG8sQv5+W5evKeOvH08hpljRkpLSwkK
8q6vYak+EkLUy+zZs4mNjSUsLIzExES+/fZbQJv6+sUXXyQhIYGwsDBSUlLIzMwE4Fe/+hWdOnUi
PDyclJQU1q5dW+P1N2zYwODBg4mIiKBv376sWbNGf+7w4cMMGzaMsLAwRo8eTW5urst4X331VaKi
oujYsSPvvfee/vi9997LM888A2jzMI0bN46IiAjatm3LNddcg1KKu+66i2PHjjF+/HhCQ0P16TaW
LFnC5ZdfTkREBNdeey179uzRr7tlyxb69etHWFgYt956K7fddpt+n7S0NGJjY3n55ZeJjo5m6tSp
nD17lnHjxtG+fXsiIyMZP368/r6BtgzpM888w5AhQwgNDWXChAnk5uYyefJkwsPDGTBgAEePHnX5
PtSZ8mE+Hr4QNarusw24eSGFKgsruIxrz549Ki4uTmVnZyullDp69Kg6ePCgUkqpl19+WfXu3Vvt
27dPKaXUjh071OnTp5VSSi1YsECdOXNG2e12NWfOHNWhQwdVVFSklFLq2WefVXfeeadSSqnjx4+r
tm3bquXLlyullFq5cqVq27atys3NVUopdfXVV6snnnhCFRcXq//+978qNDRU3XXXXdXGunr1ahUU
FKSeffZZVVpaqpYtW6Zatmypzp49q5RS6t5771XPPPOMUkqp3/72t+qhhx5SpaWlqrS0VK1du1a/
Tnx8vPrmm2/0/b1796pWrVqpVatWqdLSUvXyyy+rhIQEVVJSooqKilSnTp3UX//6V1VaWqo+++wz
1axZM/0+FTH99re/VcXFxerixYvq9OnT6rPPPlMXL15U+fn56pZbblE33XSTfr9hw4ap7t27q0OH
Dqlz586pXr16qYSEBPXNN9+o0tJSdffdd6spU6ZU+x7U9P+0tv/XUlIQQtRZYGAgRUVF7Ny5k5KS
Ejp16kTXrl0BePvtt3nhhRfo3r07AL179yYyMhKAyZMnExERQUBAAI8//jhFRUXs3bu3yvUXLFjA
DTfcwPXXXw/AyJEjSUlJYenSpRw7dozNmzfzxz/+keDgYIYOHcr48eNrrdoJDg7mD3/4A4GBgYwd
O5bWrVtXe99mzZqRnZ3NkSNHCAwMZMiQITVec9GiRYwbN47rrruOwMBAZsyYwcWLF1m3bh0bNmzA
brfz6KOPEhgYyMSJExkwYIDT+QEBAcyaNYvg4GBCQkKIjIxk4sSJhISE0Lp1a55++mmn0pHNZmPK
lCl06dKFsLAwxo4dS48ePRgxYgSBgYHccsstbN26tcZ460uSgnCv3Fx47z14/304fdrqaISbJSQk
8Je//IWZM2cSFRXF7bffTnZ2NgAZGRl069at2vP+/Oc/06tXL9q0aUNERATnzp2rturn6NGjfPLJ
J0REROh/69atIycnh6ysLCIiImjRooV+fOfOnWuNt23btgQEOL7mWrZsSUFBgb5fkVB+/etfk5CQ
oK8TUbGOQ3Wys7Odlhu12WzExcWRmZlJdna2vn51hco9oNq1a0ezZs30/cLCQqZNm0Z8fDzh4eEM
GzaMc+fOOSW7qKgofTskJIT27ds77RtfU2NJUhDus3IldOsGU6bAvfdCQgKsWmV1VMLNbr/9dr77
7juOHj2qL4gD2pffgQMHqhz/3Xff8corr/DJJ59w9uxZ8vLyCA8Pr/YXfqdOnbjrrrvIy8vT//Lz
8/nNb35DdHQ0eXl5FBYW6sdXxNBYrVu35s9//jMHDx5kyZIlvPrqq6xevRqo2sOpY8eOTnX4Siky
MjKIjY0lOjraqT0Aqi5NWvl6c+bMYd++faSnp3Pu3DnWrFmDUqrGEpA7Xm9tJCkI99izB266Cc6f
dzx29iz89KdQTXFd+KZ9+/bx7bffUlRURPPmzQkJCSEwMBCA+++/n2eeeYYDBw6glGLHjh2cOXOG
goICgoKCuOyyyyguLua5557jvPFzYnDnnXfy5ZdfsmLFCux2O5cuXSItLY3MzEw6d+5MSkoKzz77
LCUlJaxdu5avvvqqwa/F+KX71Vdf6XGHhYURGBiolzCioqKc1ou+9dZbWbp0Kd9++y0lJSXMmTOH
kJAQBg8ezNVXX01gYCDz5s2jtLSUxYsXs2nTplrjKCgooEWLFoSHh3PmzJlqlzI1xlpbdZk7SFIQ
7vGLX0DFL7i2baG8LpnCQpg2rUELxAtnoaERgM20P+36tSsqKuKpp56iXbt2REdHk5uby5/+9CcA
Hn/8cW699VZGjx5NeHg4DzzwAJcuXWLMmDFcf/319OjRg/j4eFq0aFGl+qXi129sbCyLFy/mxRdf
pH379nTq1Ik5c+boazV/9NFHbNy4kcjISJ577jnuueeeWuOt7Ve18b4HDhxg1KhRhIaGMnjwYB5+
+GGGDRsGwFNPPcXzzz9PREQEr776Kj169GDBggU8+uijtGvXjqVLl/Lll18SFBREs2bN+Oyzz3j7
7beJiIjgww8/ZNy4cU7VRZVjeuyxx7h48SKXXXYZgwcPZuzYsVWOqW1pU1evs95qbIJ2g+XLl6ue
PXuqhIQE9dJLL1V5fsGCBapPnz6qd+/eavDgwWr79u11Plcp6X3kNdLSHF1YAgOV2r5dqW3blAoK
cjyelmZ1lD5FPtv+Y8CAAeq9996z5N41fY5q+3yZ9skrLS1V3bp1U4cPH1bFxcUqOTlZ7dq1y+mY
77//Xu8etnz5cjVw4MA6n6uU/MPxGmPH6l/+7wc3K+86iZpv6O+4vPyx0NAIq6P1CfLZ9l1r1qxR
2dnZqqSkRL333nuqZcuWKicnx5JYGpIUTKs+Sk9PJyEhgfj4eIKDg5k0aRKLFy92OmbQoEGEh4cD
MHDgQI4fP17nc4WXyMqCr7/Wd2eVFFP+/c/L7MdeXkN5PRDHUVOnaRDCG+zdu5e+ffsSERHBa6+9
xn/+8x+n3kPezrSkkJmZ6dQVKzY2tkqrvNHbb7/NDTfc0KBzhYUWLIDy+l6uvZZDhqcOksAqRur7
d/CRZ2MTwgIPPPAAOTk55Ofns23bNsaOHWt1SPVi2qQb9Wn4WL16Ne+88w7r1q2r97kzZ87Ut4cP
H87w4cPrfK5wg48/dmzfcw+Ud+Or8C/uYgwrALiTBdTc+1sIYZa0tDTS0tLqdKxpSSEmJoaMjAx9
v6Ifb2U7duzggQceIDU1lYiIiHqdC85JQXhYZiZUjKQMDoaJE7XxCQafM5FCWtCSi1zBTrp6Pkoh
mrzKP5ir6/ZawbTqo5SUFPbv38+RI0coLi5m0aJFTJgwwemYY8eOcfPNN7NgwQISEhLqda7wAsuW
ObaHDYOwsCqHFNKKb7hO37/RE3EJIRrMtJJCUFAQ8+bNY8yYMdjtdqZOnUpSUhLz588HYNq0aTz3
3HPk5eUxffp0QJunJD09vcZzhZdZutSxPW5cjYd9xTjGow0yqvkoYRQREWH6yFXh/ypqX+rDVt49
ySeZOc+5cMFu1wapnTun7e/ZAz17ln+ROf8/ieE4x9E6DhQBzQsLwTB/jRDCs2r77pQRzaJhfvzR
kRA6dIAePWo8NJNY9tATgOYAGzeaH58QokEkKYiG+e9/HdvDhoGLqo41DDPsrKn5QCGEpSQpiIYx
frFfc43rwyUpCOETpE1B1J9S0L69tnYCaFVJV1wBUG2bAkBHMsmkvFtxSIg2g2rz5h4KWAhhJG0K
wr3273ckhMhI6NXL5SlZxLCf8m7Hly7B5s0mBiiEaChJCqL+jPPDX301BNTtY7SWnzh2pLFZCK8k
SUHUnzEppKTU+bSNDHTspKe7MSAhhLtIUhD1Z0wK/fvX+bR0DAuYS0lBCK8kDc2ifkpLteksLl7U
9nNywDAtcE0NzQBBlJBPM0IqHjhxQmuwFkJ4lDQ0C/fZtcuREOLinBKCK6UEs8X4gIu1a4UQnidJ
QdSPsddQPdoTKji1JEgVkhBeR5KCqJ9t2xzbV11V79OdygZbttR0mBDCIpIURP3s2OHYTk6u9+lb
jTvbtzc6HCGEe0lSEHWnlHNS6N273pfYB9qIZoDjxx2D4IQQXkGSgqiznqERkJcHwDnAFh+PzWZz
+nPFDvqUGICUFoTwMpIURJ11vXBO397BT9C6nlb+cyWINw2N1Y+PHOmUVMLCIt0btBCiXiQpiDrr
Y9j+kfpXHWlK2cY8fa8vd2FMKvn5eQ0PUAjRaJIURJ0Zk8IOp7362Y6jgbov22o5UgjhaZIURJ25
KykYz01iN80oakRUQgh3kqQg6qa4mETD7v+4osZDXcknjAN0AyCYUnqxq5HBCSHcRZKCqJu9ewku
3zxCZ/IJa9TljFVIvfmxUdcSQriPJAVRN3v26Ju7cL2ojis7uVzfvpydjb6eEMI9JCmIutm927FJ
UqMvJ0lBCO8kSUHUjaGk4I6kYCxtSFIQwntIUhB1Yygp7HFqcm6YffSglEAAunCEVhQ0+ppCiMaT
pCBcKyuDvXv1XXeUFIppzn666/uJ7KnlaCGEp0hSEK4dO6YvrHOSdpyhrVsuK+0KQngfSQrCNUN7
gjuqjipIUhDC+0hSEK65uedRBWlsFsL7SFIQrpmUFKSkIIT3kaQgXDOp+mgfPSghCIB4jkoPJCG8
gCQF4ZpJJYUSmjn1QEpidy1HCyE8QZKCqN3p0/qSmReADOLcenmpQhLCu0hSELXbt8+xCSg3f2Sk
sVkI7yJJQdRu/37HpgmXN5YUZAptIaxnalJITU0lMTGR7t27M3v27CrP79mzh0GDBhESEsKcOXOc
nouPj6dPnz7069ePAQMGmBmmqI0hKRww4fLGNgppUxDCekFmXdhut/PII4+watUqYmJi6N+/PxMm
TCApyfEl0LZtW+bOncsXX3xR5XybzUZaWhqRkbKQu6UOOFKBGSWFffTATgCBlBHPEVqYcA8hRN2Z
VlJIT08nISGB+Ph4goODmTRpEosXL3Y6pl27dqSkpBAcHFztNZRSZoUn6srk6qNimnOwfBW2ABQ9
TbiHEKLuTEsKmZmZxMU5eqrExsaSmZlZ5/NtNhsjR44kJSWFN99804wQhStKOZUUzKg+gspVSEII
K5lWfWSz2Rp1/rp164iOjubUqVOMGjWKxMREhg4d6qboRJ3k5sK5c9p269acKDBncNlukvgpSwBJ
CkJYzbSkEBMTQ0ZGhr6fkZFBbGxsnc+Pjo4GtCqmiRMnkp6eXm1SmDlzpr49fPhwhg8f3uCYRSWG
qiO6d4etW025jZQUhDBXWloaaWlpdTrWtKSQkpLC/v37OXLkCB07dmTRokUsXLiw2mMrtx0UFhZi
t9sJDQ3lwoULrFixgmeffbbac41JQbiZoeqIhATTkoJxrIIkBSHcr/IP5lmzZtV4rGlJISgoiHnz
5jFmzBjsdjtTp04lKSmJ+fPnAzBt2jRycnLo378/58+fJyAggNdff51du3Zx8uRJbr75ZgBKS0uZ
PHkyo0ePNitUUZPKJQWTGOdT6gFQUgI1dD4QQpjLpny4i4/NZpMeSmaaNAkWLdK2330X25QpgKv3
2+bimOqfP0YccRzXdnbvhkT3TbwnhHBW23enjGgWNatcfWQip4n2dssgNiGsIklBVE8pj1UfgSQF
IbyFJAVRvVOn4Px5bTs0FNq3N/V2xsZmSQpCWEeSgqhe5aqjRo47ccWppLBLJsYTfmb3bvjoIzB0
0/dWpvU+Ej7Og1VHUCkp7NkDZWUQIL9ZhB/44gv42c+0z3RYGHz3HfTpY3VUNarzv7pLly5RVFRk
ZizCm3g4KeTSjlzaajuFhT7xi0oIl0pK4OGHtYQAWpXsk09aG5MLNSaFsrIyPvvsM2655RZiYmLo
0qULnTt3JiYmhp///Od8/vnn0h3Un3mw51EFaWwWfmfFCsjKcn4sNdX535eXqTEpDB8+nB9++IEZ
M2Zw6NAhsrOzycnJ4dChQ8yYMYNNmzYxbNgwT8YqPMnDJQWo1Ngs7QrCH3z8cfWPf/mlZ+Oohxrb
FFauXEnz5s2rPN68eXOuvvpqrr76aqlO8lce7o5aQUoKwq8oBatXO/bvvx/eekvbXrUK/u//rInL
hRpLChUJYdWqVVWee//9952OEX7m1CnIz9e2Q0OhXTuP3FaSgvArhw9DxXIBoaHwm984nluzBux2
a+JywWVD86xZs5g+fToXLlwgJyeH8ePHs2TJEk/EJqxSuZRgcnfUClWSgrRZCV/2/feO7cGDtX9L
MTHa/oULWi87L+QyKaxZs4auXbuSnJzM0KFDuf322/n00089EZvwsLCwSGw2G/f+5Cf6Yx9v2YLN
Zmv0+hh1kUEc+ooNZ85oJRYhfNWOHY7t/v21/155peOxLVs8G08duUwKeXl5bNq0iW7dutGsWTOO
HTsmvY78VH5+HqBI4Hf6Ywf4HdoEdp74f27DqdJIGpuFL/vxR8d2797af6+6yvHYDz94Np46cpkU
Bg0axJgxY/j666/ZtGkTmZmZDBkyxBOxCYt0x7gus2camSs4JQVpVxC+7H//c2xXJIW+fat/3ou4
HNG8cuVKOnfuDEDLli2ZO3cua9asMT0wYR1JCkI0Ul4eHC+fCr5ZM8dYH+OU8Hv3ej6uOqixpHDw
4EEAPSEYVYxPqDhG+BNFAo6BNQfwzMC1CpIUhF8wlgKSkhyLRnXtCkHlv8WPH9canL1MjSWFp59+
mgsXLjBhwgRSUlKIjo5GKUV2djabN29myZIlhIaG8nFNgzOET2rPScLQuqOeI4xTeKY7agVJCsIv
GD+7V1zh2A4O1hLDvn3a/r590K+fZ2NzocaksGjRIg4cOMDHH3/M7373O44ePQpoJYef/OQnzJ07
l65du3osUOEZVauOPNMdtcJB0P7hlJRofbzPnYPwcI/GIESjGWtRKg/+7NnTkRT27vWdpPDJJ59w
yy23cMcdd/D73//ekzEJC1lZdQRgB+jRA3bu1B7YswcGDvR4HEI0ijEpdOvm/FzPno5pLrywXaHG
NoUXX3wRgJ///OceC0ZYz8pGZl2SjGwWvqlirM9Ww1iuQXfdpY/1sdlsPDL3b44TKkoMXqTGkkLb
tm0ZNWoUhw4dYvz48U7P2Ww2GdXsp4xJwYqSAiBJQfgsbaxPGd0Ih/K2uYOcABwrF+4sMlTJHjni
yfDqpMaksHTpUrZu3cqdd97JjBkznAaseWJ0q7CGsfpISgpC1N9l5OqdNfJpXaWzxlHjji8lhYrZ
UNevX087D02IJqznFSWFXjKFtvBd3XC0JxykG5U7axwHbT4xpSA7G4qLtbEMXqLGpGCsMrLZbFVK
ClJ95H+igNDy2Yes6I6q69HD8Y/m8GG4dAlCQqyJRYh66sohfVtLCs5KADp21HrXKaWtMli5MdpC
NSaFJ554AoDPP/+cnJwc7rzzTpRSLFy4kKioKI8FKDzHWFlkRXdUXYsW0KULHDqkLWO4b59Xr2kr
hFEcjqVkj1J18C8AnTs7ptU+etQ3ksLw4cMBLTn8YJi4acKECVxlnNRJ+A1jZZFl7QkVkpK0pABa
u4IkBeEjYsjUtzOJqf6gzp0dU2sfPVr9MRZxOSFeYWGh03QWhw4dorCw0NSghDWqlhQsJI3NwkfV
KSnExzu2vayx2eWEeK+99hrXXnstXbt2RSnFkSNH+Oc//+mJ2ISHGdOAZY3MFaSxWfioOpcUKvha
SWHYsGE8+OCDtGnThsDAQKZNm6ZPiCf8i5QUhGg8X08KNuVixZxbbrmFsLAwvaH5o48+4ty5c3zy
ySeeirFGlXtFiUZQioKAAFqX717GKU5zWaWDbLhebMfVMa6fV0ppcx61aaM91KyZNptkkMuCrRCW
CrTZKCKQIG3CFkK4SBGVe87ZULt2OUrDFZ0qPKi2706XSaFXr17sqlR8r+4xK0hScKPsbK2bHHCW
cCLIo2rvIw8mBdDiyc7WtvftqzqxmBBeJtpmo/wTSy5taUduNUfZUBcuQKtW2m5QkNbtOjDQU2HW
+t3psvroyiuvZP369fr+hg0bpPeRP9pv7eyo1ZIqJOFjjJVFNVYdAbRsCZGR2nZpKZw8aWpc9eEy
KWzevJkhQ4bQuXNn4uPjGTx4MJs3b6Z37970kW6C/uOAF0xvUZk0NgsfU+ekABBjeD4ry5R4GsJl
JW1qaqon4hBW2+8F01sAEKTPrTUdqJhP8v2nnuLep54CIDQ0gvPnz1gTnhC1qFdS6NgRfvyx/OBM
8JIaGJdJId7Yn1b4ryrVR1YppaLNYTergREAJNEfSAcgP98LqraEqEaDSwqZmTUf52Euq49EE+E1
ScFhN442hUT24LqRWwhr1S0paKXh5955R3/k+V/8Ql9vISws0tQYXTE1KaSmppKYmEj37t2ZPXt2
lef37NnDoEGDCAkJYc6cOfU6V7iRUl7ZpnCCKPLQuqWGke/U/1sIb1S3pKCVhjP5h/5IR6ag/ehR
5WsyWMe0pGC323nkkUdITU1l165dLFy4kN2VepC0bduWuXPnMmPGjHqfK9woOxvKpy7Jow1nsPaX
ioPNqbQsK55sAAAdhElEQVTQC2lsFt6tPtVHxue96QePaUkhPT2dhIQE4uPjCQ4OZtKkSSxevNjp
mHbt2pGSkkJwcHC9zxVu5I3dUcvtwtEDKQn5YSC8W32SQhYdDec1gaSQmZlJXFycvh8bG0tmHRtT
GnOuaAAvbE+oYCwpSFIQXq2ggPDyzUs05zRtaz3cmDQ64j1dUk1LCo1ZslOW+/QwQ3uC5RPhVSJJ
QfgMww9XrRRQ+/fYKdpRjFZLEkkeIVw0M7o6M20ymZiYGDIyHItNZGRkEBsb6/ZzZ86cqW8PHz5c
XwdC1IOUFIRoPENSOI7r7zpFANlE05ljgFaFdNCkH2VpaWmkpaXV6VjTkkJKSgr79+/nyJEjdOzY
kUWLFrFw4cJqj608B0d9zjUmBdFAXpwUjtKZQlrQkou05xRtyeW01UEJUZ3MOsyOWkkWHT2SFCr/
YJ41a1aNx5qWFIKCgpg3bx5jxozBbrczdepUkpKSmD9/PgDTpk0jJyeH/v37c/78eQICAnj99dfZ
tWsXrVu3rvZcYYJK3VG9rfpIEcAeErmSrYBWWlhrcUxCVKsBScEb2xVMnYt47NixjB071umxadOm
6dsdOnRwqiZyda4wQVYWXNTqMs8AZ1w0jllhN0l6UriC/0lSEN6pkUnBW3ogyYjmpm7fPn1zfy2H
WWk7yfp2X7ZZGIkQtZCkIPzCnj2OTQvDqM1W+unb/cpLDEJ4HUkKwi/s3evYtDCM2myjr77dmx/x
3FIkQtRDAxuaK0Try/NYS5JCU+cDJYVc2nG8/B9ZCy7R0+J4hKjCboecHH3X+GVfG28c1SxJoakz
lBS8NSlA5SokIbzMiRNaYgBO0o4SmtXpNGNS0HofWT8TsCSFpqywEI4e1bYDAjhobTS1MlYh9a3l
OCEs0YCqI4ACQjlPKAAhFJWvjW4tSQpN2f792jgFgK5dKbY2mlpJSUF4tePH9c36JAWorrRgLUkK
TZmh6oie3l1Tb0wKfcGRzITwBg0sKYAkBeFNDI3MJCZaF0cdHCGes+VzULYFqGHQoxCWcFNS8IbG
ZkkKTZmxpODlSQFsTu0KbJXxCsKLSElB+AVjScHLq48AtnClY2fTJusCEaKyRiQFb5v/SJJCU6WU
j5UUYCMDDTsbrQtEiMqkpCB8XmYmXLigbUdEwGWXWRtPHTglhfR0KCuzLhghjCQpCJ9XuZTgA6vd
HaUzJ2iv7Zw/7/wahLDK+fNQUADARSCPiHqdLklBeAcf6nnkYHMuLWzYYF0oQlRwKiWAq2U4K8sm
Wt+OJtvyL2Wr7y+sstuwtKUPNDJXkHYF4XWqJIX6KSKE00QCEISddm4Kq6EkKTRV//ufY/vyy62L
o54kKQiv08ikAJWrkKwlSaEpUso5KVxxhXWx1NMm+qM3L//4ozZ/kxBWckNScO6Wai1JCk3RyZNw
+rS23aoVdOpkbTz1cJ5wx2yudjv88IOV4QghJQXhB3budGxffjkE+NbHwKl5ed06q8IQQuPmpFC/
Dq3u51vfBsI9fLTqqMJ3xp01a6wKQwiNlBSEz/PRRuYKacadtWuhtNSiSIRAkoLwA8bqIx8sKRwB
iIvTdgoKYMsWC6MRTVppqbbqWrmGrrIsSUFYIiwsEpvNxrnvv9cfixkzBpvNhs0HRjQ7GTbMsS1V
SMIqOTmO6Vbat6ekgZeR3kfCEvn5ecSQUb4qAeTRhizK0NaF9bFFa4YPd2xLUhBWMa7rUVF6bYAT
RFFWPhI6CqCkoeml8SQpNDFX4GhP2Mnl1HdIvncIIuH++/W9c0uXElRe2rHZbISFRVoYm2hSDMtw
NiYp2AnihJYONNkNrYhqPEkKTczlONoT/ofvtSdoSjlIGRnEAhAODGAdFSWe/HzrFz8XTYSxpBAb
26hLGdsVyLJuYjxJCk1MMtv1bd9NCgA2vmaMvncDyyyMRTRZxpKCJAXhi/rhWMbSaXlLH7SMG/Tt
sSy3MBLRZLmpTQEkKQgLhABJaLOjlmFjO8nWBtRIqxhJCUEAXMUWosixOCLR5LixpOC0OI8kBeEJ
V6BNzQtwgAQKCLU2oEbKJ4x1DNH3ryfVwmhEk2RW9VFmQ4fBNZ4khSbEWFm0lX6WxeFOxiqkG1lq
YSSiySktdf5FH9O4WYuk+kh4nDEN+Hp7QoWvGKdv38AyWnLBwmhEk1Jp4BrNmzfqcpIUhMcZk4K/
lBR204ud9AKgFYWM4yuLIxJNhhu7o4IkBeFpdjt9DLv+khQAFnGbvn0biyyMRDQpbhq4ViGXyygm
WNs5exYuWFPqlaTQVOzfT6vyzSyiOWkcPenjjEnhBpb5ePO58BluLikoAjiO4TrHjjX6mg1halJI
TU0lMTGR7t27M3v27GqP+eUvf0n37t1JTk5m61ZHH/r4+Hj69OlDv379GDBggJlhNg1b/Wd8QmX7
6MnW8tcUQhE3WxyPaCLcXFIAOEpnw85Rt1yzvoLMurDdbueRRx5h1apVxMTE0L9/fyZMmEBSUpJ+
zLJlyzhw4AD79+9n48aNTJ8+nQ0btHW1bDYbaWlpREbKPDZuYZhe2p+qjip8xB30YxsAD1oci2gi
3NgdtcIxDEvj+ltJIT09nYSEBOLj4wkODmbSpEksXrzY6ZglS5Zwzz33ADBw4EDOnj3LCcPc5Er5
2Myd3mzjRn1zMykWBmKO97lHr48dDLBjh6XxiCbA+EveTUnBG0oKpiWFzMxM4gxFqtjYWDIrDcio
7RibzcbIkSNJSUnhzTffNCvMpqG01GmB+40MtDAYc5yiPZ8z0fHA3/9uXTCiaThyxLHdpYtbLukN
ScG06qO6LtpSU2lg7dq1dOzYkVOnTjFq1CgSExMZOnRoleNmzpypbw8fPpzhxnn2heZ//4PCQgCO
EUe25ct4mOMfPMRt/Fvbee89mDkTovynQV14kQsX4ORJbTsoqNED1yqYlRTS0tJIS0ur07GmJYWY
mBgyDK3zGRkZxFYqYlU+5vjx48SUv7kdO2pfXO3atWPixImkp6e7TAqiBoaqI38sJVRIYzibuYoU
foBLl+Avf4E//cnqsBosLCzS5TTgoaERnD9/xkMRCZ2xlNCpEwQGuuWyZrUpVP7BPGvWrBqPNa36
KCUlhf3793PkyBGKi4tZtGgREyZMcDpmwoQJfPDBBwBs2LCBNm3aEBUVRWFhIfn5+QBcuHCBFStW
0Lt3b7NC9X/ljffg30kBbLzI047dN95w/JrzQVpCULX+ydoRnlWxpO04w9rmqw4dctuStk5JITNT
q/r1MNNKCkFBQcybN48xY8Zgt9uZOnUqSUlJzJ8/H4Bp06Zxww03sGzZMhISEmjVqhXvvvsuADk5
Odx8s9axsLS0lMmTJzN69GizQvV/TaSkAPAFN7ETuBwgPx+eeQbKP3OWUwpOndKqBY4dg7w8OH8e
zp3TSjaBgRAQAMHB0KYNdwCnSeU4sRyiKxdpafUraPIqEnUX5gK/BOAw9wMV7Z6NSwxFhJADdACw
27XE0Lmzi7Pcy6Z8uIuPzWaTHkqunDsHERGgFKVAGBdq+XKxUftaza6ed8c1Gn+PsdgcS+7YbJCe
Dinu7XHlqmqnOXBNi1BWzH4Btm2D7dth1y64eLHB9zxODPvowRauZBP92UwKh0iQfwMepJUGFH/m
CZ7gVQCe5gX+pJdQG//53YDN8dNtzRq45ppGxVxtBLV8d5pWUhBeYsMG7RcqsAOaxK/N5QBjx8Ly
5dprv/NOrfdVq1auTq0zR9WOJogShrCO4aQxjDUMYj0hF/Phl7902z1jySSWTEawWn8sE+Duu2Hk
SO2vo392IvA2XTisbx/GPT2PKhwDR1KwYKyCJAV/t2aNvrnWwjA8bu5c6NsXCgpg716YNg3+9S+t
5OAmrShgDF9zE18wjq+I4Kzrk8LCtOqAzp21mTXDwiA8HEJCtBk37XYoLoa8PD5+4w0u4zriOUI8
R/S1MIxiQHtd//oXABuB/wCfAoeRhmizGJPCEeLdem2nPkcWdEuVpODv/vtffXNNLYf5nW7dtMQw
ZYq2/+GH0KEDvPJK4xLDiRPw5Zd8CYzkMkIoqvHQvcAGYBuwHa2kdvr8efjxR+2PYKDExQ1XAVpJ
JJ4jXMH/SGEzKWxmIBtpwzmnoweW/70C/MCVfJC/BU6fhrZtG/RyRfXMLClYnRSkTcGfFRZCmzZQ
on3xtANyLa7v99Q9lFJa1dG0aWAc/Dh5sjawLbQe0+bt3QtLlsDixfD993p1XGXHiGM5Y1nNtaxh
GDl0dBlnY54PwM6VBDGSFxnJKq7hvwRTTW+VZs3gppvgvvtg1CitMVs0iM1mow1nyEObfuciIbSk
EEcDc+M/v+OxsaRiZ9QoWLGiUTFXG0Ft353Kh/l4+Ob75puKr0alkpLK+zGqWv4a+7w7ruGee+hK
SpT66U+dD4iLU+of/1Dq/Pnq37fcXHVbSCv1CqjdLoLZTm81i2dUP35QUGbpe9GGM+pu3lNLGKcu
0az6E7p3V2rePKXy8z3zGfQzgBrABv393MEVbv/89jLuxMeb9jpqfM6UO3qIJAUX/vAHx4froYe8
5gvb/HsElR+j/QWB+md1BwYFKdW3r1Ljx2uJY9gwpWJja715KQEqjWvUY6C6cNBr34swzqoHmK/W
13RieLhSM2YodeSI1Z9SnwKou3hffx8/4Wdu//w2B6VsNm0nIECpS5dMeR01Puf2u3mQJAUXhg1z
fNIWLvSSL2yr7lGm7mCBOkE7Vxev8ldAS/UZN6l7eFddxkmfey/Ujz8q9X//pyWCygcEBip1zz1K
7d1r9afVJwDqBZ7S378/8jtz/p916uR4YPduU15HTaRy0V8VFMD69Y59E/o6+xYbHzGZBA7wGGg9
k2oSFMR64BVmcCNfcRm53MznvM+95NLOQ/G6SxC23r2xvfYarc+d42Fgn/Fpux3efx8SE+H228sb
wEVterJX395LT3Nu0r27Y3v/fnPuUQNJCv4qLU3r2ghwxRXSf71cPmG8DtqiQ7m5WuL87DP4/HP4
+mvtH2BhIYOB3/AKy7iRS7SwOOrGKIXymrQLKP6GIhE7N/IVqxnuOEwp+Phj6NMHJk7UBtyJavl7
UpAuqf5q+XLH9tix1sXhzdq2bZJdNRUBLONGlnEjg7GxrmKgX4UvvtD+brsNnnsOevSwLlgvEwB0
x/El7Y9JQUoK/kgpSQq1CtInMKvpr6n4niBsy5dzFfB55ScXLaK0Z0/eb9bcslXAvE080BytBJ5N
B84Tbs6NJCkIt9q/Hw4f1rZbt4YhQ6yNx+s4qlRq/msqtPdiC4qbUfRhO59zk/5sEHBPSbH2JfXY
Yz4966w7GMsFppUSQJKCcDNjKeG667TBS0LUwY/04WY+ZyAbWMlIxxPFxfD66xRERfG8zUa4oVQV
FtZ01lFPMmybmhS6dnUMMszIaNREivUlScEffW6oCJCqI9EA6QxkNCsZwTcY+rDRGvg9cJgIfs1s
WnChSa3pYOyztp1k827UrBkkJGjbSmkz7HqIJAV/k5PjmO/IZoOf/tTaeIRPW80IBgPjWcIOHAtd
RZLHyzzJfrrzIOhTqfg7jyUFAOPCYjt2mHsvA0kKfqJiRahfREeXj3+BNKWwRUc3ucZT4X5fMZ6+
bOMOPuQgXfXHY8hiPkCvXrBwoTbTq7+6dIlEw+4O+ph0I60jxB8+/VR/5NX77vNYdZ0kBT9RMb//
LYa+558wj6bZeCrMoAhgIXeQyB4e4u9kEe148sABuOMOuPJKWLZM/2HiV3btIrh8cz8JFFCPSRXr
RWv832HoD9aH66j4d2x2dZ0kBT/SnhNcg1Z1VIaNT/mZxREJf1RKMPN5iAQO8CQv4fQVtX073Hij
NoJ+rZ+t4LF1q765jVpGxLuJsSSSzHY89cNOkoIfmcyHBKIV379jKCe0lV6FMMVFWvIyT2qrCTz9
NLQ0rOq3di0MHQrjxmmJwh9s2KBvbuFK0293hHgK0FYLbEcuUZww/Z4gScGv3M9b+vYH3G1hJKIp
OQfwwgtw8CA8/DAEBzueXLpUm2fqjju0KiZf9v33+uY6zB/7owjgR0Pjfm88My+VJAU/cTXQi90A
FNCKf3OrtQGJpqdDB5g3T1uU6K67nFe4W7gQkpJg+nTIyrIuxoY6c0bvFlpCEJtJ8chtjVVIKWz2
yD0lKfiJhwzbHzPJxEYwIVzo0gU++EDrRmnsEl1aCv/4hzYw6+GHLVlqssEMVUdb6cdFWtZysPts
ZKC+PchpxIh5JCn4g6wsbjfs/lPrOS6Eh9Qwl1Tv3tgWL2YQ8N9Aw9ybRUXwt79pg7OmTNFKFt7u
22/1ze8Z7LHbrmeQvq0lBfMbmyUp+IO5c6mYyGItQ9jEAEvDEU1N7XNJbUAxzK4YDWx0Oq0U3nuP
ssREPg1u5t0N0qmp+uZKRnnstnvpSR5tAK2xuRsHTb+nJAVfd+aMthB9uTk8YWEwQtTEzkoUV1PG
SFY6reUQAPystERrkB49Whvn4E2D4DIyYOdOAIqANOM6FCZTBLCBq/X9Iawz/Z6SFHzdK6/AuXMA
7KUHS5hgcUBC1MbGN4xkBKsZwlqWUWlurpUrtXEOSUlaFVNBgTVhGi1dqm+uAQrLu4l6yncM1bdH
ssr0+0lS8GVZWfD66/ruM/yRMgItDEiIuvueIdzIMq7kBz4Bx6ygAPv2aY3RsbHwxBOwZ49VYcKH
H+qbX1lw+xWM1rdHsRKzJ6yxlS/i7JNsNhs+HH7j3XYb/PvfAGwFrsKOqjXP26i9oaqxz8s93HsN
f7lHXY4JpjOlPAI8ANUvXfOTn8D998PPfw6tPPRr/fBhrbcUQGAgUXY7Jz38fgZg5wRRXMZpAJKB
7Y383qvtu1NKCr5q+XI9IQD8H7hICEJ4s1KOovg1iljO8whz2U+C8yFr18K992rrjT/0kLZvdtvD
P//p2B49GiuWGCojkFWGtS3MnvdYSgo+IiwsUp8Iqz2wHfRJLD4A7gH841elv9zDHdfwl3s07Bo2
yrieVO7nLcbzOcHVnRYXp5WYb78d+vVzHjDXWGfPQqdOkJ+v7X/6Kbaf/axKnM7MeS9uZRGLmATA
biCprKxRr7W2705JCj5Cm/paEUQJyxnLSL4BIIco+rCDU0ThH18g/nIPd1zDX+7R+GtEEcTd2Lkf
6FHDMQdsASTMeALGj4dBgyAoqIYj6+iJJ+DVV7XtxETYuRNbYGCtcZr1XrTkAidpTysKtQe2btV6
azVQrd+dyof5ePj1on1KytRb3KeUNjGxUqBG8XX5JsaHa/hzdUxjn5d7+F6cvvZelKmhrFH/4EGV
S2TNJ0RGKnXnnUotWqTUqVN1+jcWGhpRfh/UMFClhuvdjnHwhTXvxYfc7th58MFGf5/U+Fyjrmyx
ppQUAkG9zRSnT8kfmOmHXyD+cg9fidN334tgitRYlqr3uUudp3XtAfTpo9SvfqXUF18olZtb7b+x
intcx0qVR7h+7teMUlBm+XtxDWmOnZAQpU6ebPD3SW3fnVJ95Atyc1narh03Gh56l3u5j3dA76Dm
L1UN/nIPd1zDX+7hjmvU/nwIF7mO1oynjHFAjIto6NRJa4Po1Quio6F5c56eNo0RXKdXzQJk04GB
bCSDTm56HY25hmIT/UnhB2330Ufhr391ca8a7iBtCj5KKfjPf+Cxx5xmlnyHKTzIP7FjrDO1/h+m
3MPd1/CXe7jjGvW5h+JKtjCeLxnNCvqziWBKXZxbVQ5RjOFrdjitxWztezGRz/isYvGswEDYuBGu
usrF/aq5g1VtCsuXL1c9e/ZUCQkJ6qWXXqr2mEcffVQlJCSoPn36qC1bttTrXJPDt05RkVILFyo1
YECVMuSL/NZQlLW+CC/38PU4/f+9aEW+GsNy9RI2tQHUJRcXsmNTH3OriiLbC9+LMrXK+EDnzkpl
ZdX7K6a2786an2mk0tJS1a1bN3X48GFVXFyskpOT1a5du5yOWbp0qRo7dqxSSqkNGzaogQMH1vlc
pWp/Yd5k9erVtR9QVqbUwYNKffSR1jgWWbUBLQfU9Szz2X+Y9Xt+tR+8Dk/GWdv75Q2vw7v+nwWw
UvVmu7qb99QzzFJ/4yH1JlPVq6Du55+qM4e9Is6a/hIIVGcNDxwCNYjyIlL5X2hoRK1fObV9dzay
z1bN0tPTSUhIID4+HoBJkyaxePFikpKS9GOWLFnCPffcA8DAgQM5e/YsOTk5HD582OW5Xstuh5IS
KC7W/i5dIu3f/2Z4s2Zav+eKv+PH4cgRbU75Xbu0x6oTHAyPPkrPV1/lXOV5YvxWGnhw0jHfl4a8
X3VXxlp+ZCY/Ghaw0byNNp7aux3AzmS+5AtuIgg7XYDvgW+5lsX8lI0M5HD+IC1lNGAsg2lJITMz
k7i4OH0/NjaWjRs3ujwmMzOTrKwsl+fqxoxxTqRlZVWTqxmPlZY6vviNSaCmEZaGmUzr4jjwJvDP
khJyKvpKCyEEsJRx/JTFfMwkQtEmDRzBakaw2nFQYKA2HUirVtr62cHB2tgNF+M3TEsKtjpmKK0k
0wgrVjTufC9xhgh+4CrWMYQvGV++MLjxPXTjSE0hhM9bxo1czk5e5jfcwicEUukHqVLaLLP1nGnW
tKQQExNDRkaGvp+RkUFsbGytxxw/fpzY2FhKSkpcnguQnJyMzZsX5jCY5fKIPGBV+V9NR7tKDHVJ
HI29hifuMQvX75gvvA53XKMu93D1fnnD63DHNdx5j4b+G6vPPcy8hvZ8BnB7+V99JCcn1/icaUkh
JSWF/fv3c+TIETp27MiiRYtYuHCh0zETJkxg3rx5TJo0iQ0bNtCmTRuioqJo27aty3MBtm3bZlb4
QgjRJJmWFIKCgpg3bx5jxozBbrczdepUkpKSmD9/PgDTpk3jhhtuYNmyZSQkJNCqVSvefffdWs8V
QghhLp8evCaEEMK9ZAJ+D5g5cyaxsbH069ePfv36kWpYBFw4pKamkpiYSPfu3Zk9e7bV4Xi9+Ph4
+vTpQ79+/RgwYIDV4Xid++67j6ioKHr37q0/dubMGUaNGkWPHj0YPXo0Z2vqCt6ESVLwAJvNxuOP
P87WrVvZunUr119/vdUheR273c4jjzxCamoqu3btYuHChezevdvqsLyazWYjLS2NrVu3kp6ebnU4
XmfKlClVfoC99NJLjBo1in379nHdddfx0ksvWRSd95Kk4CFSS1c742DH4OBgfcCiqJ18rmo2dOhQ
IiIinB4zDpi95557+OKLL6wIzatJUvCQuXPnkpyczNSpU6XIWo2aBjKKmtlsNkaOHElKSgpvvvmm
1eH4hBMnThAVFQVAVFQUJ06csDgi7yNJwU1GjRpF7969q/wtWbKE6dOnc/jwYbZt20Z0dDRPPPGE
1eF6nboOdhQO69atY+vWrSxfvpw33niD7777zuqQfIrNZpPPXTVM65La1KxcubJOx91///2MHz/e
5Gh8T10GOwpn0dHRALRr146JEyeSnp7O0KFDLY7Ku0VFRZGTk0OHDh3Izs6mffv2VofkdaSk4AHZ
2dn69ueff+7UG0JojIMdi4uLWbRoERMmTLA6LK9VWFhIfvmC8hcuXGDFihXyuaqDCRMm8P777wPw
/vvvc9NNN1kckfeRkoIHPPnkk2zbtg2bzUaXLl30AXzCQQYs1s+JEyeYOHEiAKWlpUyePJnRo0db
HJV3uf3221mzZg25ubnExcXx3HPP8dvf/pZbb72Vt99+m/j4eP79739bHabXkcFrQgghdFJ9JIQQ
QidJQQghhE6SghBCCJ0kBSGEEDpJCkIIIXSSFIQQQugkKQghhNBJUhBCCKGTpCCEG23atInk5GSK
ioq4cOECV1xxBbt27bI6LCHqTEY0C+FmzzzzDJcuXeLixYvExcXx5JNPWh2SEHUmSUEINyspKSEl
JYUWLVqwfv16mZ5Z+BSpPhLCzXJzc7lw4QIFBQVcvHjR6nCEqBcpKQjhZhMmTOCOO+7g0KFDZGdn
M3fuXKtDEqLOZOpsIdzogw8+oHnz5kyaNImysjIGDx5MWloaw4cPtzo0IepESgpCCCF00qYghBBC
J0lBCCGETpKCEEIInSQFIYQQOkkKQgghdJIUhBBC6CQpCCGE0ElSEEIIoft/Hf7z/S4y1q0AAAAA
SUVORK5CYII=
"
>
</div>

</div>

</div>
</div>

</div>
<div class="cell border-box-sizing code_cell rendered">
<div class="input">
<div class="prompt input_prompt">In&nbsp;[&nbsp;]:</div>
<div class="inner_cell">
    <div class="input_area">
<div class="highlight"><pre> 
</pre></div>

</div>
</div>
</div>

</div>


     <!-- <hr/> -->
     <div class="row hidden-print">
      <div class="span12 text-center">
        <a href="#">Back to top</a>
      </div>
    </div>

     <!-- Footer
     ================================================== -->
      
      <footer class="footer hidden-print">
      <div class="span12 row-fluid footer-row">
          <div class="span4">
            <p>This web site does not host notebooks, it only renders notebooks available on other websites.</p>
          </div>

          <div class="span4">
            <p>Thanks to <a href="https://developer.rackspace.com/?nbviewer=awesome">Rackspace</a> for hosting.</p>
            <p>nbviewer GitHub <a href="https://github.com/jupyter/nbviewer">repository</a>.</p>
            <p>nbviewer <a href="https://github.com/jupyter/nbviewer/blob/master/LICENSE.txt" target="_blank">license</a>.</p>
          </div>

          <div class="span4">
            

              
                <p>
                    nbviewer version:
                    <a href="https://github.com/jupyter/nbviewer/commit/48c936d67c72c62373bffd633eeb0044c506672a">48c936d</a>
                </p>
              
            

<p class="text-muted">
    IPython version: 2.4.0-maint
    
</p>


            

            

<p class="text-muted">
Rendered <span class='date' data-date='Mon, 02 Feb 2015 17:36:39 UTC' title='Mon, 02 Feb 2015 17:36:39 UTC'>(Mon, 02 Feb 2015 17:36:39 UTC)</span>
</p>


          </div>
      </div>
      </footer>
      

    </div><!-- /container -->

    <script src="/static/components/bootstrap/js/bootstrap.min.js"></script>
    <script src="/static/components/headroom.js/dist/headroom.min.js"></script>
    <script src="/static/components/headroom.js/dist/jQuery.headroom.min.js"></script>


    
    
    
    <script>
    $(document).ready(
                function(){
                    $("#menubar").headroom({
                        "tolerance": 5,
                        "offset": 205,
                        "classes": {
                            "initial": "animated",
                            "pinned": "slideInDown",
                            "unpinned": "slideOutUp"
                        }
                    })
                }
            );
    </script>


    <!-- Analytics
    ================================================== -->
    <script>
      (function(i,s,o,g,r,a,m){i['GoogleAnalyticsObject']=r;i[r]=i[r]||function(){
        (i[r].q=i[r].q||[]).push(arguments)},i[r].l=1*new Date();a=s.createElement(o),
        m=s.getElementsByTagName(o)[0];a.async=1;a.src=g;m.parentNode.insertBefore(a,m)
      })(window,document,'script','//www.google-analytics.com/analytics.js','ga');

      ga('create', 'UA-38683231-2', 'auto');
      ga('send', 'pageview');

    </script>
    <script>
        var update_date  = function(){
            var str = window.moment($('.date').data('date')).fromNow();
            $('.date').text(str);
        }
        setInterval(update_date , 61*1000);
        $(update_date);
    </script>
    <!--NEW RELIC Stop Perf Measurement-->
    
    <!--NEW RELIC End-->
  </body>
</html>