{
 "metadata": {
  "name": "",
  "signature": "sha256:7ca9adea527925f1589efcd8ce4019c24729f842c1111976878548a1a148ff24"
 },
 "nbformat": 3,
 "nbformat_minor": 0,
 "worksheets": [
  {
   "cells": [
    {
     "cell_type": "markdown",
     "metadata": {},
     "source": [
      "#Agenda\n",
      "\n",
      "- Define the problem and the approach\n",
      "- Data basics: loading data, looking at your data, basic commands\n",
      "- Handling missing values\n",
      "- Intro to scikit-learn\n",
      "- Grouping and aggregating data\n",
      "- <p style=\"color: red\">Feature selection</p>\n",
      "- Fitting and evaluating a model\n",
      "- Deploying your work"
     ]
    },
    {
     "cell_type": "markdown",
     "metadata": {},
     "source": [
      "#In this workbook you will\n",
      "- Use RandomForest to calculate the best features for your model\n",
      "- Handling outlying data using `apply` and `groupby`\n",
      "- Discretize (or bucket) data into groups\n",
      "- Make your own features for your model"
     ]
    },
    {
     "cell_type": "code",
     "collapsed": false,
     "input": [
      "import pandas as pd\n",
      "import numpy as np\n",
      "import pylab as pl"
     ],
     "language": "python",
     "metadata": {},
     "outputs": []
    },
    {
     "cell_type": "code",
     "collapsed": false,
     "input": [
      "df = pd.read_csv(\"./data/credit-data-trainingset.csv\")"
     ],
     "language": "python",
     "metadata": {},
     "outputs": []
    },
    {
     "cell_type": "code",
     "collapsed": false,
     "input": [
      "df.head()"
     ],
     "language": "python",
     "metadata": {},
     "outputs": []
    },
    {
     "cell_type": "markdown",
     "metadata": {},
     "source": [
      "##Finding Important Features\n",
      "We're going to let scikit-learn help us determine which variables are the best at predicting risk. To do this, we're going to use an algorithm called `RandomForest`. `RandomForest` randomly generates a \"forest\" of decision trees. As the trees are randomly generated, the algorithm takes turns leaving out each variable in fitting the model. This allows the `RandomForest` to calculate just how much worse a model does when each variable is left out."
     ]
    },
    {
     "cell_type": "code",
     "collapsed": false,
     "input": [
      "from sklearn.ensemble import RandomForestClassifier\n",
      "\n",
      "features = np.array(['revolving_utilization_of_unsecured_lines',\n",
      "                     'age', 'number_of_time30-59_days_past_due_not_worse',\n",
      "                     'debt_ratio', 'monthly_income','number_of_open_credit_lines_and_loans', \n",
      "                     'number_of_times90_days_late', 'number_real_estate_loans_or_lines',\n",
      "                     'number_of_time60-89_days_past_due_not_worse', 'number_of_dependents'])"
     ],
     "language": "python",
     "metadata": {},
     "outputs": []
    },
    {
     "cell_type": "code",
     "collapsed": false,
     "input": [
      "clf = RandomForestClassifier(compute_importances=True)\n",
      "clf.fit(df[features], df['serious_dlqin2yrs'])"
     ],
     "language": "python",
     "metadata": {},
     "outputs": []
    },
    {
     "cell_type": "code",
     "collapsed": false,
     "input": [
      "# from the calculated importances, order them from most to least important\n",
      "# and make a barplot so we can visualize what is/isn't important\n",
      "importances = clf.feature_importances_\n",
      "sorted_idx = np.argsort(importances)"
     ],
     "language": "python",
     "metadata": {},
     "outputs": []
    },
    {
     "cell_type": "code",
     "collapsed": false,
     "input": [
      "padding = np.arange(len(features)) + 0.5\n",
      "pl.barh(padding, importances[sorted_idx], align='center')\n",
      "pl.yticks(padding, features[sorted_idx])\n",
      "pl.xlabel(\"Relative Importance\")\n",
      "pl.title(\"Variable Importance\")\n",
      "pl.show()"
     ],
     "language": "python",
     "metadata": {},
     "outputs": []
    },
    {
     "cell_type": "markdown",
     "metadata": {},
     "source": [
      "So you can see that the best variable is `revolving_utilization_of_unsecured_lines` while the worst is `number_real_estate_loans_or_lines`. There's also a dramatic drop off after `number_of_open_credit_lines_and_loans`. This is where you need to use your own discretion. How many variables should you include in your model?"
     ]
    },
    {
     "cell_type": "markdown",
     "metadata": {},
     "source": [
      "###Engineering Additional Features\n",
      "Feature selection/engineering will likely have the biggest impact in determining the success/failure of your model. Even if you're using the latest and greatest algorithm, if you put in non-important features you're going to get poor results. Remember, it's math, not magic.\n",
      "\n",
      "Feature engineering is a skill that will take time to get the hang of. Sometimes the best way is to just talk to people. Ask questions, brainstorm with others, etc. Oftentimes 2 features might not be helpful when used individually, but when combined they can be extremely powerful.\n",
      "\n"
     ]
    },
    {
     "cell_type": "code",
     "collapsed": false,
     "input": [
      "df['income_bins'] = pd.cut(df.monthly_income, bins=15)\n",
      "pd.value_counts(df['income_bins'])\n",
      "# not very helpful"
     ],
     "language": "python",
     "metadata": {},
     "outputs": []
    },
    {
     "cell_type": "markdown",
     "metadata": {},
     "source": [
      "###Bucketing Continuous Values"
     ]
    },
    {
     "cell_type": "markdown",
     "metadata": {},
     "source": [
      "####Use the cap_value function you wrote previously to cap monthly_income at $15,000"
     ]
    },
    {
     "cell_type": "code",
     "collapsed": false,
     "input": [
      "def cap_values(x, cap):\n",
      "    if x > cap:\n",
      "        return cap\n",
      "    else:\n",
      "        return x\n",
      "    \n",
      "df.monthly_income = df.monthly_income.apply(lambda x: cap_values(x, 15000))"
     ],
     "language": "python",
     "metadata": {},
     "outputs": []
    },
    {
     "cell_type": "code",
     "collapsed": false,
     "input": [
      "df.monthly_income.describe()"
     ],
     "language": "python",
     "metadata": {},
     "outputs": []
    },
    {
     "cell_type": "code",
     "collapsed": false,
     "input": [
      "df['income_bins'] = pd.cut(df.monthly_income, bins=15, labels=False)\n",
      "pd.value_counts(df.income_bins)"
     ],
     "language": "python",
     "metadata": {},
     "outputs": []
    },
    {
     "cell_type": "code",
     "collapsed": false,
     "input": [
      "df[[\"income_bins\", \"serious_dlqin2yrs\"]].groupby(\"income_bins\").mean()"
     ],
     "language": "python",
     "metadata": {},
     "outputs": []
    },
    {
     "cell_type": "code",
     "collapsed": false,
     "input": [
      "cols = [\"income_bins\", \"serious_dlqin2yrs\"]\n",
      "df[cols].groupby(\"income_bins\").mean().plot()"
     ],
     "language": "python",
     "metadata": {},
     "outputs": []
    },
    {
     "cell_type": "code",
     "collapsed": false,
     "input": [
      "cols = ['age', 'serious_dlqin2yrs']\n",
      "age_means = df[cols].groupby(\"age\").mean()\n",
      "age_means.plot()"
     ],
     "language": "python",
     "metadata": {},
     "outputs": []
    },
    {
     "cell_type": "markdown",
     "metadata": {},
     "source": [
      "####Bin `age` into 14 different groups. Then make a frequency table that shows the number of customers that were/were not delinquent for each bin.\n",
      "*HINT: You might want to have larger bins near the min/max values to account for outliers.*"
     ]
    },
    {
     "cell_type": "code",
     "collapsed": false,
     "input": [
      "mybins = [0] + range(20, 80, 5) + [120]\n",
      "df['age_bucket'] = pd.cut(df.age, bins=mybins)\n",
      "pd.value_counts(df['age_bin'])"
     ],
     "language": "python",
     "metadata": {},
     "outputs": []
    },
    {
     "cell_type": "markdown",
     "metadata": {},
     "source": [
      "####Using the age bins, calculate the percent of customers that were delinquent for each bucket"
     ]
    },
    {
     "cell_type": "code",
     "collapsed": false,
     "input": [
      "df[[\"age_bucket\", \"serious_dlqin2yrs\"]].groupby(\"age_bucket\").mean()"
     ],
     "language": "python",
     "metadata": {},
     "outputs": []
    },
    {
     "cell_type": "code",
     "collapsed": false,
     "input": [
      "df[[\"age_bucket\", \"serious_dlqin2yrs\"]].groupby(\"age_bucket\").mean().plot()"
     ],
     "language": "python",
     "metadata": {},
     "outputs": []
    },
    {
     "cell_type": "code",
     "collapsed": false,
     "input": [
      "labels, levels = pd.factorize(df.age_bucket)\n",
      "df.age_bucket = labels"
     ],
     "language": "python",
     "metadata": {},
     "outputs": []
    },
    {
     "cell_type": "markdown",
     "metadata": {},
     "source": [
      "####Write something that buckets debt_ratio into 4 (nearly) equally sized groups.\n",
      "*Hint: use the `quantile` method for Series*"
     ]
    },
    {
     "cell_type": "code",
     "collapsed": false,
     "input": [
      "bins = []\n",
      "\n",
      "for q in [0.2, 0.4, 0.6, 0.8, 1.0]:\n",
      "    bins.append(df.debt_ratio.quantile(q))\n",
      "\n",
      "debt_ratio_binned = pd.cut(df.debt_ratio, bins=bins)\n",
      "debt_ratio_binned\n",
      "print pd.value_counts(debt_ratio_binned)"
     ],
     "language": "python",
     "metadata": {},
     "outputs": []
    },
    {
     "cell_type": "markdown",
     "metadata": {},
     "source": [
      "###Scaling Features\n",
      "Some algorithms will work better if your data is centered around 0. The `StandardScaler` module in `scikit-learn` makes it very easy to quickly scale columns in your data frame."
     ]
    },
    {
     "cell_type": "code",
     "collapsed": false,
     "input": [
      "from sklearn.preprocessing import StandardScaler\n",
      "\n",
      "df['monthly_income_scaled'] = StandardScaler().fit_transform(df.monthly_income)"
     ],
     "language": "python",
     "metadata": {},
     "outputs": []
    },
    {
     "cell_type": "code",
     "collapsed": false,
     "input": [
      "print df.monthly_income_scaled.describe()\n",
      "print\n",
      "print \"Mean at 0?\", round(df.monthly_income_scaled.mean(), 10)==0\n",
      "\n",
      "pl.hist(df.monthly_income_scaled)"
     ],
     "language": "python",
     "metadata": {},
     "outputs": []
    },
    {
     "cell_type": "markdown",
     "metadata": {},
     "source": [
      "##Redo our feature importance"
     ]
    },
    {
     "cell_type": "code",
     "collapsed": false,
     "input": [
      "features = np.array(['revolving_utilization_of_unsecured_lines',\n",
      "                     'age', 'number_of_time30-59_days_past_due_not_worse',\n",
      "                     'debt_ratio', 'monthly_income','number_of_open_credit_lines_and_loans', \n",
      "                     'number_of_times90_days_late', 'number_real_estate_loans_or_lines',\n",
      "                     'number_of_time60-89_days_past_due_not_worse', 'number_of_dependents',\n",
      "                     'income_bins', 'age_bucket', 'monthly_income_scaled'])\n",
      "\n",
      "clf = RandomForestClassifier(compute_importances=True)\n",
      "clf.fit(df[features], df['serious_dlqin2yrs'])\n",
      "\n",
      "importances = clf.feature_importances_\n",
      "sorted_idx = np.argsort(importances)\n",
      "\n",
      "padding = np.arange(len(features)) + 0.5\n",
      "pl.barh(padding, importances[sorted_idx], align='center')\n",
      "pl.yticks(padding, features[sorted_idx])\n",
      "pl.xlabel(\"Relative Importance\")\n",
      "pl.title(\"Variable Importance\")\n",
      "pl.show()"
     ],
     "language": "python",
     "metadata": {},
     "outputs": []
    },
    {
     "cell_type": "code",
     "collapsed": false,
     "input": [
      "best_features = features[sorted_idx][::-1]\n",
      "best_features"
     ],
     "language": "python",
     "metadata": {},
     "outputs": []
    },
    {
     "cell_type": "markdown",
     "metadata": {},
     "source": [
      "##Test out your own features\n",
      "Partner with the person sitting next to you and see if you can come up with some new features that outperform the basic variables.\n",
      "\n",
      "- brainstorm new features\n",
      "- create them using pandas\n",
      "- test their effectiveness w/ scikit-learn\n",
      "\n",
      "Things you might try:\n",
      "\n",
      "- Try using some of the scikit-learn [preprecessing functions](http://scikit-learn.org/stable/modules/preprocessing.html#preprocessing)\n",
      "- Look at `pd.get_dummies`\n",
      "- Combine features together (total times late, log(monthly_income), age^2)"
     ]
    },
    {
     "cell_type": "markdown",
     "metadata": {},
     "source": [
      "##We just did the following\n",
      "\n",
      "- Ranked feature importance using RandomForest\n",
      "- Created some of our own features using `pandas` and `scikit-learn`\n",
      "- Scaled data using `scikit-learn`"
     ]
    }
   ],
   "metadata": {}
  }
 ]
}